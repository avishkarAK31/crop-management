<!DOCTYPE html>
<!-- saved from url=(0095)https://colab.research.google.com/drive/1d1RqHl9Gz5ArGreeK1-VGrIoR727fuOU#scrollTo=7GbqZdR-43Qm -->
<html lang="en" theme="dark" editor="Default Dark"><head><meta http-equiv="Content-Type" content="text/html; charset=UTF-8"><meta http-equiv="origin-trial" content="A/kargTFyk8MR5ueravczef/wIlTkbVk1qXQesp39nV+xNECPdLBVeYffxrM8TmZT6RArWGQVCJ0LRivD7glcAUAAACQeyJvcmlnaW4iOiJodHRwczovL2dvb2dsZS5jb206NDQzIiwiZmVhdHVyZSI6IkRpc2FibGVUaGlyZFBhcnR5U3RvcmFnZVBhcnRpdGlvbmluZzIiLCJleHBpcnkiOjE3NDIzNDIzOTksImlzU3ViZG9tYWluIjp0cnVlLCJpc1RoaXJkUGFydHkiOnRydWV9"><meta http-equiv="origin-trial" content="A/kargTFyk8MR5ueravczef/wIlTkbVk1qXQesp39nV+xNECPdLBVeYffxrM8TmZT6RArWGQVCJ0LRivD7glcAUAAACQeyJvcmlnaW4iOiJodHRwczovL2dvb2dsZS5jb206NDQzIiwiZmVhdHVyZSI6IkRpc2FibGVUaGlyZFBhcnR5U3RvcmFnZVBhcnRpdGlvbmluZzIiLCJleHBpcnkiOjE3NDIzNDIzOTksImlzU3ViZG9tYWluIjp0cnVlLCJpc1RoaXJkUGFydHkiOnRydWV9"><script type="text/javascript" async="" charset="utf-8" src="./IAS_files/recaptcha__en.js.download" crossorigin="anonymous" integrity="sha384-3wmc1Bh1cCJW+fASaBmsSdAIwB8jgncUQXdLNwTeFRWYZhdATgEib2Aeg4rtm7Yi" nonce=""></script><script type="text/javascript" async="" charset="utf-8" src="./IAS_files/recaptcha__en.js.download" crossorigin="anonymous" integrity="sha384-3wmc1Bh1cCJW+fASaBmsSdAIwB8jgncUQXdLNwTeFRWYZhdATgEib2Aeg4rtm7Yi" nonce=""></script><script type="text/javascript" async="" src="./IAS_files/js" nonce=""></script><script src="./IAS_files/cb=gapi.loaded_1" nonce="" async=""></script><script src="./IAS_files/cb=gapi.loaded_0" nonce="" async=""></script><script async="" src="./IAS_files/analytics.js.download"></script><script nonce="">
      document.addEventListener('keydown', (e) => {
        // Stop propagation on ESC because otherwise it will halt outbound XHRs
        // See b/131755324 for more info.
        if (e.key === 'Escape') {
          e.stopPropagation();
          e.preventDefault();
        }
      });
    </script><meta name="referrer" content="origin"><meta name="viewport" content="width=device-width, initial-scale=1"><title>IAS.ipynb - Colab</title><link href="./IAS_files/css2" rel="stylesheet"><link href="./IAS_files/css" rel="stylesheet"><link rel="search" type="application/opensearchdescription+xml" href="https://colab.research.google.com/opensearch.xml" title="Google Colab"><style>.gb_2d{font:13px/27px Roboto,Arial,sans-serif;z-index:986}@-webkit-keyframes gb__a{0%{opacity:0}50%{opacity:1}}@keyframes gb__a{0%{opacity:0}50%{opacity:1}}a.gb_Qa{border:none;color:#4285f4;cursor:default;font-weight:bold;outline:none;position:relative;text-align:center;text-decoration:none;text-transform:uppercase;white-space:nowrap;-webkit-user-select:none}a.gb_Qa:hover::after,a.gb_Qa:focus::after{background-color:rgba(0,0,0,.12);content:"";height:100%;left:0;position:absolute;top:0;width:100%}a.gb_Qa:hover,a.gb_Qa:focus{text-decoration:none}a.gb_Qa:active{background-color:rgba(153,153,153,.4);text-decoration:none}a.gb_Ra{background-color:#4285f4;color:#fff}a.gb_Ra:active{background-color:#0043b2}.gb_Sa{box-shadow:0 1px 1px rgba(0,0,0,.16)}.gb_Qa,.gb_Ra,.gb_Ta,.gb_Ua{display:inline-block;line-height:28px;padding:0 12px;border-radius:2px}.gb_Ta{background:#f8f8f8;border:1px solid #c6c6c6}.gb_Ua{background:#f8f8f8}.gb_Ta,#gb a.gb_Ta.gb_Ta,.gb_Ua{color:#666;cursor:default;text-decoration:none}#gb a.gb_Ua{cursor:default;text-decoration:none}.gb_Ua{border:1px solid #4285f4;font-weight:bold;outline:none;background:#4285f4;background:-webkit-gradient(linear,left top,left bottom,from(top),color-stop(#4387fd),to(#4683ea));background:-webkit-linear-gradient(top,#4387fd,#4683ea);background:linear-gradient(top,#4387fd,#4683ea);filter:progid:DXImageTransform.Microsoft.gradient(startColorstr=#4387fd,endColorstr=#4683ea,GradientType=0)}#gb a.gb_Ua{color:#fff}.gb_Ua:hover{box-shadow:0 1px 0 rgba(0,0,0,.15)}.gb_Ua:active{box-shadow:inset 0 2px 0 rgba(0,0,0,.15);background:#3c78dc;background:-webkit-gradient(linear,left top,left bottom,from(top),color-stop(#3c7ae4),to(#3f76d3));background:-webkit-linear-gradient(top,#3c7ae4,#3f76d3);background:linear-gradient(top,#3c7ae4,#3f76d3);filter:progid:DXImageTransform.Microsoft.gradient(startColorstr=#3c7ae4,endColorstr=#3f76d3,GradientType=0)}#gb .gb_Va{background:#fff;border:1px solid #dadce0;color:#1a73e8;display:inline-block;text-decoration:none}#gb .gb_Va:hover{background:#f8fbff;border-color:#dadce0;color:#174ea6}#gb .gb_Va:focus{background:#f4f8ff;color:#174ea6;outline:1px solid #174ea6}#gb .gb_Va:active,#gb .gb_Va:focus:active{background:#ecf3fe;color:#174ea6}#gb .gb_Va.gb_H{background:transparent;border:1px solid #5f6368;color:#8ab4f8;text-decoration:none}#gb .gb_Va.gb_H:hover{background:rgba(255,255,255,.04);color:#e8eaed}#gb .gb_Va.gb_H:focus{background:rgba(232,234,237,.12);color:#e8eaed;outline:1px solid #e8eaed}#gb .gb_Va.gb_H:active,#gb .gb_Va.gb_H:focus:active{background:rgba(232,234,237,.1);color:#e8eaed}.gb_cd{display:inline-block;vertical-align:middle}.gb_Ne .gb_Q{bottom:-3px;right:-5px}.gb_D{position:relative}.gb_B{display:inline-block;outline:none;vertical-align:middle;border-radius:2px;box-sizing:border-box;height:40px;width:40px;cursor:pointer;text-decoration:none}#gb#gb a.gb_B{cursor:pointer;text-decoration:none}.gb_B,a.gb_B{color:#000}.gb_dd{border-color:transparent;border-bottom-color:#fff;border-style:dashed dashed solid;border-width:0 8.5px 8.5px;display:none;position:absolute;left:11.5px;top:33px;z-index:1;height:0;width:0;-webkit-animation:gb__a .2s;animation:gb__a .2s}.gb_ed{border-color:transparent;border-style:dashed dashed solid;border-width:0 8.5px 8.5px;display:none;position:absolute;left:11.5px;z-index:1;height:0;width:0;-webkit-animation:gb__a .2s;animation:gb__a .2s;border-bottom-color:rgba(0,0,0,.2);top:32px}x:-o-prefocus,div.gb_ed{border-bottom-color:#ccc}.gb_la{background:#fff;border:1px solid #ccc;border-color:rgba(0,0,0,.2);color:#000;-webkit-box-shadow:0 2px 10px rgba(0,0,0,.2);box-shadow:0 2px 10px rgba(0,0,0,.2);display:none;outline:none;overflow:hidden;position:absolute;right:8px;top:62px;-webkit-animation:gb__a .2s;animation:gb__a .2s;border-radius:2px;-webkit-user-select:text}.gb_cd.gb_Tc .gb_dd,.gb_cd.gb_Tc .gb_ed,.gb_cd.gb_Tc .gb_la,.gb_Tc.gb_la{display:block}.gb_cd.gb_Tc.gb_fd .gb_dd,.gb_cd.gb_Tc.gb_fd .gb_ed{display:none}.gb_Oe{position:absolute;right:8px;top:62px;z-index:-1}.gb_gd .gb_dd,.gb_gd .gb_ed,.gb_gd .gb_la{margin-top:-10px}.gb_cd:first-child,#gbsfw:first-child+.gb_cd{padding-left:4px}.gb_Fa.gb_Pe .gb_cd:first-child{padding-left:0}.gb_Qe{position:relative}.gb_2c .gb_Qe,.gb_Jd .gb_Qe{float:right}.gb_B{padding:8px;cursor:pointer}.gb_B::after{content:"";position:absolute;top:-4px;bottom:-4px;left:-4px;right:-4px}.gb_Fa .gb_hd:not(.gb_Qa):focus img{background-color:rgba(0,0,0,.2);outline:none;-webkit-border-radius:50%;border-radius:50%}.gb_id button svg,.gb_B{-webkit-border-radius:50%;border-radius:50%}.gb_id button:focus:not(:focus-visible) svg,.gb_id button:hover svg,.gb_id button:active svg,.gb_B:focus:not(:focus-visible),.gb_B:hover,.gb_B:active,.gb_B[aria-expanded=true]{outline:none}.gb_Lc .gb_id.gb_jd button:focus-visible svg,.gb_id button:focus-visible svg,.gb_B:focus-visible{outline:1px solid #202124}.gb_Lc .gb_id button:focus-visible svg,.gb_Lc .gb_B:focus-visible{outline:1px solid #f1f3f4}@media (forced-colors:active){.gb_Lc .gb_id.gb_jd button:focus-visible svg,.gb_id button:focus-visible svg,.gb_Lc .gb_id button:focus-visible svg{outline:1px solid currentcolor}}.gb_Lc .gb_id.gb_jd button:focus svg,.gb_Lc .gb_id.gb_jd button:focus:hover svg,.gb_id button:focus svg,.gb_id button:focus:hover svg,.gb_B:focus,.gb_B:focus:hover{background-color:rgba(60,64,67,.1)}.gb_Lc .gb_id.gb_jd button:active svg,.gb_id button:active svg,.gb_B:active{background-color:rgba(60,64,67,.12)}.gb_Lc .gb_id.gb_jd button:hover svg,.gb_id button:hover svg,.gb_B:hover{background-color:rgba(60,64,67,.08)}.gb_Wa .gb_B.gb_Za:hover{background-color:transparent}.gb_B[aria-expanded=true],.gb_B:hover[aria-expanded=true]{background-color:rgba(95,99,104,.24)}.gb_B[aria-expanded=true] .gb_F{fill:#5f6368;opacity:1}.gb_Lc .gb_id button:hover svg,.gb_Lc .gb_B:hover{background-color:rgba(232,234,237,.08)}.gb_Lc .gb_id button:focus svg,.gb_Lc .gb_id button:focus:hover svg,.gb_Lc .gb_B:focus,.gb_Lc .gb_B:focus:hover{background-color:rgba(232,234,237,.1)}.gb_Lc .gb_id button:active svg,.gb_Lc .gb_B:active{background-color:rgba(232,234,237,.12)}.gb_Lc .gb_B[aria-expanded=true],.gb_Lc .gb_B:hover[aria-expanded=true]{background-color:rgba(255,255,255,.12)}.gb_Lc .gb_B[aria-expanded=true] .gb_F{fill:#fff;opacity:1}.gb_cd{padding:4px}.gb_Fa.gb_Pe .gb_cd{padding:4px 2px}.gb_Fa.gb_Pe .gb_z.gb_cd{padding-left:6px}.gb_la{z-index:991;line-height:normal}.gb_la.gb_kd{left:0;right:auto}@media (max-width:350px){.gb_la.gb_kd{left:0}}.gb_Re .gb_la{top:56px}.gb_R{display:none!important}.gb_nd{visibility:hidden}.gb_J .gb_B,.gb_ka .gb_J .gb_B{background-position:-64px -29px}.gb_1 .gb_J .gb_B{background-position:-29px -29px;opacity:1}.gb_J .gb_B,.gb_J .gb_B:hover,.gb_J .gb_B:focus{opacity:1}.gb_L{display:none}@media screen and (max-width:319px){.gb_ld:not(.gb_md) .gb_J{display:none;visibility:hidden}}.gb_Q{display:none}.gb_9c{font-family:Google Sans,Roboto,Helvetica,Arial,sans-serif;font-size:20px;font-weight:400;letter-spacing:0.25px;line-height:48px;margin-bottom:2px;opacity:1;overflow:hidden;padding-left:16px;position:relative;text-overflow:ellipsis;vertical-align:middle;top:2px;white-space:nowrap;-webkit-flex:1 1 auto;-webkit-box-flex:1;flex:1 1 auto}.gb_9c.gb_ad{color:#3c4043}.gb_Fa.gb_cc .gb_9c{margin-bottom:0}.gb_sd.gb_ud .gb_9c{padding-left:4px}.gb_Fa.gb_cc .gb_vd{position:relative;top:-2px}.gb_bd{display:none}.gb_Fa{color:black;min-width:160px;position:relative;-webkit-transition:box-shadow 250ms;transition:box-shadow 250ms}.gb_Fa.gb_Sc{min-width:120px}.gb_Fa.gb_wd .gb_xd{display:none}.gb_Fa.gb_wd .gb_ld{height:56px}header.gb_Fa{display:block}.gb_Fa svg{fill:currentColor}.gb_Dd{position:fixed;top:0;width:100%}.gb_yd{-webkit-box-shadow:0 4px 5px 0 rgba(0,0,0,.14),0 1px 10px 0 rgba(0,0,0,.12),0 2px 4px -1px rgba(0,0,0,.2);box-shadow:0 4px 5px 0 rgba(0,0,0,.14),0 1px 10px 0 rgba(0,0,0,.12),0 2px 4px -1px rgba(0,0,0,.2)}.gb_Ed{height:64px}.gb_ld{-webkit-box-sizing:border-box;box-sizing:border-box;position:relative;width:100%;display:-webkit-box;display:-webkit-flex;display:flex;-webkit-box-pack:space-between;-webkit-justify-content:space-between;justify-content:space-between;min-width:-webkit-min-content;min-width:min-content}.gb_Fa:not(.gb_cc) .gb_ld{padding:8px}.gb_Fa.gb_Fd .gb_ld{-webkit-flex:1 0 auto;-webkit-box-flex:1;flex:1 0 auto}.gb_Fa .gb_ld.gb_md.gb_Hd{min-width:0}.gb_Fa.gb_cc .gb_ld{padding:4px;padding-left:8px;min-width:0}.gb_xd{height:48px;vertical-align:middle;white-space:nowrap;-webkit-box-align:center;-webkit-align-items:center;align-items:center;display:-webkit-box;display:-webkit-flex;display:flex;-webkit-user-select:none}.gb_Ad>.gb_xd{display:table-cell;width:100%}.gb_sd{padding-right:30px;box-sizing:border-box;-webkit-flex:1 0 auto;-webkit-box-flex:1;flex:1 0 auto}.gb_Fa.gb_cc .gb_sd{padding-right:14px}.gb_Bd{-webkit-flex:1 1 100%;-webkit-box-flex:1;flex:1 1 100%}.gb_Bd>:only-child{display:inline-block}.gb_Cd.gb_3c{padding-left:4px}.gb_Cd.gb_Id,.gb_Fa.gb_Fd .gb_Cd,.gb_Fa.gb_cc:not(.gb_Jd) .gb_Cd{padding-left:0}.gb_Fa.gb_cc .gb_Cd.gb_Id{padding-right:0}.gb_Fa.gb_cc .gb_Cd.gb_Id .gb_Wa{margin-left:10px}.gb_3c{display:inline}.gb_Fa.gb_Wc .gb_Cd.gb_Kd,.gb_Fa.gb_Jd .gb_Cd.gb_Kd{padding-left:2px}.gb_9c{display:inline-block}.gb_Cd{-webkit-box-sizing:border-box;box-sizing:border-box;height:48px;line-height:normal;padding:0 4px;padding-left:30px;-webkit-flex:0 0 auto;-webkit-box-flex:0;flex:0 0 auto;-webkit-box-pack:flex-end;-webkit-justify-content:flex-end;justify-content:flex-end}.gb_Jd{height:48px}.gb_Fa.gb_Jd{min-width:auto}.gb_Jd .gb_Cd{float:right;padding-left:32px}.gb_Jd .gb_Cd.gb_Ld{padding-left:0}.gb_Md{font-size:14px;max-width:200px;overflow:hidden;padding:0 12px;text-overflow:ellipsis;white-space:nowrap;-webkit-user-select:text}.gb_pd{-webkit-transition:background-color .4s;-webkit-transition:background-color .4s;transition:background-color .4s}.gb_Nd{color:black}.gb_Lc{color:white}.gb_Fa a,.gb_Pc a{color:inherit}.gb_ba{color:rgba(0,0,0,.87)}.gb_Fa svg,.gb_Pc svg,.gb_sd .gb_td,.gb_2c .gb_td{color:#5f6368;opacity:1}.gb_Lc svg,.gb_Pc.gb_Uc svg,.gb_Lc .gb_sd .gb_td,.gb_Lc .gb_sd .gb_Kc,.gb_Lc .gb_sd .gb_vd,.gb_Pc.gb_Uc .gb_td{color:rgba(255,255,255,.87)}.gb_Lc .gb_sd .gb_Od:not(.gb_Pd){opacity:.87}.gb_ad{color:inherit;opacity:1;text-rendering:optimizeLegibility;-webkit-font-smoothing:antialiased}.gb_Lc .gb_ad,.gb_Nd .gb_ad{opacity:1}.gb_Qd{position:relative}.gb_M{font-family:arial,sans-serif;line-height:normal;padding-right:15px}a.gb_X,span.gb_X{color:rgba(0,0,0,.87);text-decoration:none}.gb_Lc a.gb_X,.gb_Lc span.gb_X{color:white}a.gb_X:focus{outline-offset:2px}a.gb_X:hover{text-decoration:underline}.gb_Z{display:inline-block;padding-left:15px}.gb_Z .gb_X{display:inline-block;line-height:24px;vertical-align:middle}.gb_qd{font-family:Google Sans,Roboto,Helvetica,Arial,sans-serif;font-weight:500;font-size:14px;letter-spacing:.25px;line-height:16px;margin-left:10px;margin-right:8px;min-width:96px;padding:9px 23px;text-align:center;vertical-align:middle;border-radius:4px;box-sizing:border-box}.gb_Fa.gb_Jd .gb_qd{margin-left:8px}#gb a.gb_Ua.gb_qd{cursor:pointer}.gb_Ua.gb_qd:hover{background:#1b66c9;-webkit-box-shadow:0 1px 3px 1px rgba(66,64,67,.15),0 1px 2px 0 rgba(60,64,67,.3);box-shadow:0 1px 3px 1px rgba(66,64,67,.15),0 1px 2px 0 rgba(60,64,67,.3)}.gb_Ua.gb_qd:focus,.gb_Ua.gb_qd:hover:focus{background:#1c5fba;-webkit-box-shadow:0 1px 3px 1px rgba(66,64,67,.15),0 1px 2px 0 rgba(60,64,67,.3);box-shadow:0 1px 3px 1px rgba(66,64,67,.15),0 1px 2px 0 rgba(60,64,67,.3)}.gb_Ua.gb_qd:active{background:#1b63c1;-webkit-box-shadow:0 1px 3px 1px rgba(66,64,67,.15),0 1px 2px 0 rgba(60,64,67,.3);box-shadow:0 1px 3px 1px rgba(66,64,67,.15),0 1px 2px 0 rgba(60,64,67,.3)}.gb_qd{background:#1a73e8;border:1px solid transparent}.gb_Fa.gb_cc .gb_qd{padding:9px 15px;min-width:80px}.gb_Rd{text-align:left}#gb .gb_Lc a.gb_qd:not(.gb_H),#gb.gb_Lc a.gb_qd{background:#fff;border-color:#dadce0;-webkit-box-shadow:none;box-shadow:none;color:#1a73e8}#gb a.gb_Ua.gb_H.gb_qd{background:#8ab4f8;border:1px solid transparent;-webkit-box-shadow:none;box-shadow:none;color:#202124}#gb .gb_Lc a.gb_qd:hover:not(.gb_H),#gb.gb_Lc a.gb_qd:hover{background:#f8fbff;border-color:#cce0fc}#gb a.gb_Ua.gb_H.gb_qd:hover{background:#93baf9;border-color:transparent;-webkit-box-shadow:0 1px 3px 1px rgba(0,0,0,.15),0 1px 2px rgba(0,0,0,.3);box-shadow:0 1px 3px 1px rgba(0,0,0,.15),0 1px 2px rgba(0,0,0,.3)}#gb .gb_Lc a.gb_qd:focus:not(.gb_H),#gb .gb_Lc a.gb_qd:focus:hover:not(.gb_H),#gb.gb_Lc a.gb_qd:focus:not(.gb_H),#gb.gb_Lc a.gb_qd:focus:hover:not(.gb_H){background:#f4f8ff;outline:1px solid #c9ddfc}#gb a.gb_Ua.gb_H.gb_qd:focus,#gb a.gb_Ua.gb_H.gb_qd:focus:hover{background:#a6c6fa;border-color:transparent;-webkit-box-shadow:none;box-shadow:none}#gb .gb_Lc a.gb_qd:active:not(.gb_H),#gb.gb_Lc a.gb_qd:active{background:#ecf3fe}#gb a.gb_Ua.gb_H.gb_qd:active{background:#a1c3f9;-webkit-box-shadow:0 1px 2px rgba(60,64,67,.3),0 2px 6px 2px rgba(60,64,67,.15);box-shadow:0 1px 2px rgba(60,64,67,.3),0 2px 6px 2px rgba(60,64,67,.15)}.gb_K{display:none}@media screen and (max-width:319px){.gb_ld .gb_J{display:none;visibility:hidden}}.gb_Wa{background-color:rgba(255,255,255,.88);border:1px solid #dadce0;-webkit-box-sizing:border-box;box-sizing:border-box;cursor:pointer;display:inline-block;max-height:48px;overflow:hidden;outline:none;padding:0;vertical-align:middle;width:134px;-webkit-border-radius:8px;border-radius:8px}.gb_Wa.gb_H{background-color:transparent;border:1px solid #5f6368}.gb_3a{display:inherit}.gb_Wa.gb_H .gb_3a{background:#fff;-webkit-border-radius:4px;border-radius:4px;display:inline-block;left:8px;margin-right:5px;position:relative;padding:3px;top:-1px}.gb_Wa:hover{border:1px solid #d2e3fc;background-color:rgba(248,250,255,.88)}.gb_Wa.gb_H:hover{background-color:rgba(241,243,244,.04);border:1px solid #5f6368}.gb_Wa:focus-visible,.gb_Wa:focus{background-color:#fff;outline:1px solid #202124;-webkit-box-shadow:0 1px 2px 0 rgba(60,64,67,.3),0 1px 3px 1px rgba(60,64,67,.15);box-shadow:0 1px 2px 0 rgba(60,64,67,.3),0 1px 3px 1px rgba(60,64,67,.15)}.gb_Wa.gb_H:focus-visible,.gb_Wa.gb_H:focus{background-color:rgba(241,243,244,.12);outline:1px solid #f1f3f4;-webkit-box-shadow:0 1px 3px 1px rgba(0,0,0,.15),0 1px 2px 0 rgba(0,0,0,.3);box-shadow:0 1px 3px 1px rgba(0,0,0,.15),0 1px 2px 0 rgba(0,0,0,.3)}.gb_Wa.gb_H:active,.gb_Wa.gb_Tc.gb_H:focus{background-color:rgba(241,243,244,.1);border:1px solid #5f6368}.gb_4a{display:inline-block;padding-bottom:2px;padding-left:7px;padding-top:2px;text-align:center;vertical-align:middle;line-height:32px;width:78px}.gb_Wa.gb_H .gb_4a{line-height:26px;margin-left:0;padding-bottom:0;padding-left:0;padding-top:0;width:72px}.gb_4a.gb_5a{background-color:#f1f3f4;-webkit-border-radius:4px;border-radius:4px;margin-left:8px;padding-left:0;line-height:30px}.gb_4a.gb_5a .gb_Ic{vertical-align:middle}.gb_Fa:not(.gb_cc) .gb_Wa{margin-left:10px;margin-right:4px}.gb_Sd{max-height:32px;width:78px}.gb_Wa.gb_H .gb_Sd{max-height:26px;width:72px}.gb_P{-webkit-background-size:32px 32px;background-size:32px 32px;border:0;-webkit-border-radius:50%;border-radius:50%;display:block;margin:0px;position:relative;height:32px;width:32px;z-index:0}.gb_eb{background-color:#e8f0fe;border:1px solid rgba(32,33,36,.08);position:relative}.gb_eb.gb_P{height:30px;width:30px}.gb_eb.gb_P:hover,.gb_eb.gb_P:active{-webkit-box-shadow:none;box-shadow:none}.gb_fb{background:#fff;border:none;-webkit-border-radius:50%;border-radius:50%;bottom:2px;-webkit-box-shadow:0px 1px 2px 0px rgba(60,64,67,.30),0px 1px 3px 1px rgba(60,64,67,.15);box-shadow:0px 1px 2px 0px rgba(60,64,67,.30),0px 1px 3px 1px rgba(60,64,67,.15);height:14px;margin:2px;position:absolute;right:0;width:14px}.gb_wc{color:#1f71e7;font:400 22px/32px Google Sans,Roboto,Helvetica,Arial,sans-serif;text-align:center;text-transform:uppercase}@media (-webkit-min-device-pixel-ratio:1.25),(min-resolution:1.25dppx),(min-device-pixel-ratio:1.25){.gb_P::before,.gb_gb::before{display:inline-block;-webkit-transform:scale(0.5);-webkit-transform:scale(0.5);transform:scale(0.5);-webkit-transform-origin:left 0;-webkit-transform-origin:left 0;transform-origin:left 0}.gb_3 .gb_gb::before{-webkit-transform:scale(scale(0.416666667));-webkit-transform:scale(scale(0.416666667));transform:scale(scale(0.416666667))}}.gb_P:hover,.gb_P:focus{-webkit-box-shadow:0 1px 0 rgba(0,0,0,.15);box-shadow:0 1px 0 rgba(0,0,0,.15)}.gb_P:active{-webkit-box-shadow:inset 0 2px 0 rgba(0,0,0,.15);box-shadow:inset 0 2px 0 rgba(0,0,0,.15)}.gb_P:active::after{background:rgba(0,0,0,.1);-webkit-border-radius:50%;border-radius:50%;content:"";display:block;height:100%}.gb_hb{cursor:pointer;line-height:40px;min-width:30px;opacity:.75;overflow:hidden;vertical-align:middle;text-overflow:ellipsis}.gb_B.gb_hb{width:auto}.gb_hb:hover,.gb_hb:focus{opacity:.85}.gb_gd .gb_hb,.gb_gd .gb_Ud{line-height:26px}#gb#gb.gb_gd a.gb_hb,.gb_gd .gb_Ud{font-size:11px;height:auto}.gb_ib{border-top:4px solid #000;border-left:4px dashed transparent;border-right:4px dashed transparent;display:inline-block;margin-left:6px;opacity:.75;vertical-align:middle}.gb_Za:hover .gb_ib{opacity:.85}.gb_Wa>.gb_z{padding:3px 3px 3px 4px}.gb_Vd.gb_nd{color:#fff}.gb_1 .gb_hb,.gb_1 .gb_ib{opacity:1}#gb#gb.gb_1.gb_1 a.gb_hb,#gb#gb .gb_1.gb_1 a.gb_hb{color:#fff}.gb_1.gb_1 .gb_ib{border-top-color:#fff;opacity:1}.gb_ka .gb_P:hover,.gb_1 .gb_P:hover,.gb_ka .gb_P:focus,.gb_1 .gb_P:focus{-webkit-box-shadow:0 1px 0 rgba(0,0,0,.15),0 1px 2px rgba(0,0,0,.2);box-shadow:0 1px 0 rgba(0,0,0,.15),0 1px 2px rgba(0,0,0,.2)}.gb_Wd .gb_z,.gb_Xd .gb_z{position:absolute;right:1px}.gb_z.gb_0,.gb_jb.gb_0,.gb_Za.gb_0{-webkit-flex:0 1 auto;-webkit-box-flex:0;flex:0 1 auto}.gb_Zd.gb_0d .gb_hb{width:30px!important}.gb_1d{height:40px;position:absolute;right:-5px;top:-5px;width:40px}.gb_2d .gb_1d,.gb_3d .gb_1d{right:0;top:0}.gb_z .gb_B{padding:4px}.gb_S{display:none}sentinel{}</style><script nonce="">;this.gbar_={CONFIG:[[[0,"www.gstatic.com","og.qtm.en_US.MBb5Bwk2tpw.2019.O","co.in","en","425",0,[4,2,"","","","727660424","0"],null,"SUO5Z92qDMiap84Pw_bs2Ac",null,0,"og.qtm.S4XVq7ljTQU.L.W.O","AA2YrTuTBR3s6b51Gqshrmn-C4xjmRsD3w","AA2YrTu2DxB2kN0cQ82G6LVzDDDtDSuJSg","",2,1,200,"IND",null,null,"425","425",1,null,null,114591953,null,0],null,[1,0.1000000014901161,2,1],null,[1,0,0,null,"0","avishkarkhandekar31@gmail.com","","AAc6HT18JlwvT7SnY9k_iYAWDlcJUaGorzOXbIBjF6Cn5OIt4rAVPbej_BFu62dzpPz3gjz3ACeI7qeM8PaKblHgcmJ7g1s3sQ",0,0,0,""],[0,0,"",1,0,0,0,0,0,0,null,0,0,null,0,0,null,null,0,0,0,"","","","","","",null,0,0,0,0,0,null,null,null,"rgba(32,33,36,1)","rgba(255,255,255,1)",0,0,0,null,null,null,0],["%1$s (default)","Brand account",1,"%1$s (delegated)",1,null,83,"https://colab.research.google.com/?authuser=$authuser",null,null,null,1,"https://accounts.google.com/ListAccounts?listPages=0\u0026pid=425\u0026gpsia=1\u0026source=ogb\u0026atic=1\u0026mo=1\u0026mn=1\u0026hl=en\u0026ts=250",0,"dashboard",null,null,null,null,"Profile","",1,null,"Signed out","https://accounts.google.com/AccountChooser?source=ogb\u0026continue=$continue\u0026Email=$email\u0026ec=GAhAqQM","https://accounts.google.com/RemoveLocalAccount?source=ogb","Remove","Sign in",0,1,1,0,1,1,0,null,null,null,"Session expired",null,null,null,"Visitor",null,"Default","Delegated","Sign out of all accounts",0,null,null,0,null,null,"myaccount.google.com","https",0,1,0],null,["1","gci_91f30755d6a6b787dcc2a4062e6e9824.js","googleapis.client:gapi.iframes","0","en"],null,null,null,null,["m;/_/scs/abc-static/_/js/k=gapi.gapi.en.l2ZUC8FxqV8.O/d=1/rs=AHpOoo9xAAkaXO7Lqf7-9uTpZLtrkpWaXQ/m=__features__","https://apis.google.com","","","1","",null,1,"es_plusone_gc_20241202.0_p2","en",null,0],[0.009999999776482582,"co.in","425",[null,"","0",null,1,5184000,null,null,"",null,null,null,null,null,0,null,0,null,1,0,0,0,null,null,0,0,null,0,0,0,0,0],null,null,null,0],[1,null,null,40400,425,"IND","en","727660424.0",8,null,1,0,null,null,null,null,"3700949",null,null,null,"SUO5Z92qDMiap84Pw_bs2Ac",0,0,0,null,2,5,"nn",9,0,0,0,0,1,114591953,0,0],[[null,null,null,"https://www.gstatic.com/og/_/js/k=og.qtm.en_US.MBb5Bwk2tpw.2019.O/rt=j/m=qabr,qgl,q_dnp,qcwid,qbd,qapid,qads,qrcd,q_dg/exm=qaaw,qadd,qaid,qein,qhaw,qhba,qhbr,qhch,qhga,qhid,qhin/d=1/ed=1/rs=AA2YrTuTBR3s6b51Gqshrmn-C4xjmRsD3w"],[null,null,null,"https://www.gstatic.com/og/_/ss/k=og.qtm.S4XVq7ljTQU.L.W.O/m=qcwid,qba/excm=qaaw,qadd,qaid,qein,qhaw,qhba,qhbr,qhch,qhga,qhid,qhin/d=1/ed=1/ct=zgms/rs=AA2YrTu2DxB2kN0cQ82G6LVzDDDtDSuJSg"]],null,null,null,[[[null,null,[null,null,null,"https://ogs.google.com/u/0/widget/account?yac=1\u0026amb=1"],0,414,436,57,4,1,0,0,65,66,8000,"https://accounts.google.com/SignOutOptions?hl=en\u0026continue=https://colab.research.google.com/\u0026ec=GBRAqQM",68,2,null,null,1,113,"Something went wrong.%1$s Refresh to try again or %2$schoose another account%3$s.",3,null,null,75,0,null,null,null,null,null,null,null,"/widget/account",["https","myaccount.google.com",0,32,83,0],0,0,1,["Critical security alert","Important account alert","Storage usage alert",1,1],0,1,null,1,1,1,1,null,null,0,0,0,null,0,0],[null,null,[null,null,null,"https://ogs.google.com/u/0/widget/callout/sid?dc=1"],null,280,420,70,25,0,null,0,null,null,8000,null,71,4,null,null,null,null,null,null,null,null,76,null,null,null,107,108,109,"",null,null,null,null,null,null,null,null,null,null,null,null,null,null,null,null,null,null,null,null,0]],null,null,"425","425",1,0,null,"en",0,["https://colab.research.google.com/?authuser=$authuser","https://accounts.google.com/AddSession?hl=en\u0026continue=https://colab.research.google.com/\u0026ec=GAlAqQM","https://accounts.google.com/Logout?hl=en\u0026continue=https://colab.research.google.com/\u0026timeStmp=1740194633\u0026secTok=.AG5fkS8geQwaZxgMnTmYOR9efhFfk5TXhw\u0026ec=GAdAqQM","https://accounts.google.com/ListAccounts?listPages=0\u0026pid=425\u0026gpsia=1\u0026source=ogb\u0026atic=1\u0026mo=1\u0026mn=1\u0026hl=en\u0026ts=250",0,0,"",0,0,null,0,0,"https://accounts.google.com/ServiceLogin?passive=true\u0026continue=https%3A%2F%2Fcolab.research.google.com%2F\u0026ec=GAZAqQM",1,1,0,0,null,0],0,0,0,[null,"",null,null,null,1,null,0,0,"","","","https://ogads-pa.clients6.google.com",0,0,0,"","",0,0,null,86400,null,1,1,null,0,null,0],0,null,null,null,1],null,[["mousedown","touchstart","touchmove","wheel","keydown"],300000],[[null,null,null,"https://accounts.google.com/RotateCookiesPage"],3,null,null,null,0,1]]],};this.gbar_=this.gbar_||{};(function(_){var window=this;
try{
_._F_toggles_initialize=function(a){(typeof globalThis!=="undefined"?globalThis:typeof self!=="undefined"?self:this)._F_toggles=a||[]};(0,_._F_toggles_initialize)([]);
/*

 Copyright The Closure Library Authors.
 SPDX-License-Identifier: Apache-2.0
*/
var ca,ka,la,qa,sa,ta,Da,Ia,Ja,Na,Qa,Ka,Pa,Oa,Ma,La,Ra,Sa,db,cb,hb,jb,fb,kb,pb,xb,yb,zb,Ab;_.aa=function(a,b){if(Error.captureStackTrace)Error.captureStackTrace(this,_.aa);else{const c=Error().stack;c&&(this.stack=c)}a&&(this.message=String(a));b!==void 0&&(this.cause=b)};_.ba=function(a){a.Ej=!0;return a};ca=function(a,b){if(a.length>b.length)return!1;if(a.length<b.length||a===b)return!0;for(let c=0;c<a.length;c++){const d=a[c],e=b[c];if(d>e)return!1;if(d<e)return!0}};
_.ea=function(a){_.t.setTimeout(()=>{throw a;},0)};_.ha=function(){return _.fa().toLowerCase().indexOf("webkit")!=-1};_.fa=function(){var a=_.t.navigator;return a&&(a=a.userAgent)?a:""};ka=function(a){return ia?ja?ja.brands.some(({brand:b})=>b&&b.indexOf(a)!=-1):!1:!1};_.u=function(a){return _.fa().indexOf(a)!=-1};la=function(){return ia?!!ja&&ja.brands.length>0:!1};_.na=function(){return la()?!1:_.u("Opera")};_.oa=function(){return la()?!1:_.u("Trident")||_.u("MSIE")};
_.pa=function(){return _.u("Firefox")||_.u("FxiOS")};_.ra=function(){return _.u("Safari")&&!(qa()||(la()?0:_.u("Coast"))||_.na()||(la()?0:_.u("Edge"))||(la()?ka("Microsoft Edge"):_.u("Edg/"))||(la()?ka("Opera"):_.u("OPR"))||_.pa()||_.u("Silk")||_.u("Android"))};qa=function(){return la()?ka("Chromium"):(_.u("Chrome")||_.u("CriOS"))&&!(la()?0:_.u("Edge"))||_.u("Silk")};sa=function(){return ia?!!ja&&!!ja.platform:!1};ta=function(){return _.u("iPhone")&&!_.u("iPod")&&!_.u("iPad")};
_.ua=function(){return ta()||_.u("iPad")||_.u("iPod")};_.va=function(){return sa()?ja.platform==="macOS":_.u("Macintosh")};_.xa=function(a,b){return _.wa(a,b)>=0};_.ya=function(a){let b="",c=0;const d=a.length-10240;for(;c<d;)b+=String.fromCharCode.apply(null,a.subarray(c,c+=10240));b+=String.fromCharCode.apply(null,c?a.subarray(c):a);return btoa(b)};_.za=function(a){return a!=null&&a instanceof Uint8Array};
_.Ba=function(a,b=!1,c=!1){a=c&&Symbol.for&&a?Symbol.for(a):a!=null?Symbol(a):Symbol();b&&Aa.add(a);return a};_.Ca=function(a){return Array.prototype.slice.call(a)};Da=function(a){return a!==null&&typeof a==="object"&&!Array.isArray(a)&&a.constructor===Object};_.Ea=function(a){if(a&2)throw Error();};_.Ha=function(a){const b=_.Fa(_.Ga);return b?a[b]:void 0};Ia=function(a){return a};Ja=function(a){return a};Na=function(a,b,c,d){return Ka(a,b,c,d,La,Ma)};Qa=function(a,b,c,d){return Ka(a,b,c,d,Oa,Pa)};
Ka=function(a,b,c,d,e,f){if(!c.length&&!d)return 0;var g=0;let h=0,k=0;var l=0;let m=0;for(var p=c.length-1;p>=0;p--){var r=c[p];d&&p===c.length-1&&r===d||(l++,r!=null&&k++)}if(d)for(var q in d)p=+q,isNaN(p)||(m+=Ra(p),h++,p>g&&(g=p));l=e(l,k)+f(h,g,m);q=k;p=h;r=g;let x=m;for(let I=c.length-1;I>=0;I--){var E=c[I];if(E==null||d&&I===c.length-1&&E===d)continue;E=I-b;const M=e(E,q)+f(p,r,x);M<l&&(a=1+E,l=M);p++;q--;x+=Ra(E);r=Math.max(r,E)}b=e(0,0)+f(p,r,x);b<l&&(a=0,l=b);if(d){p=h;r=g;x=m;q=k;for(const I in d)d=
+I,isNaN(d)||d>=1024||(p--,q++,x-=I.length,g=e(d,q)+f(p,r,x),g<l&&(a=1+d,l=g))}return a};Pa=function(a,b,c){return c+a*3+(a>1?a-1:0)};Oa=function(a,b){return(a>1?a-1:0)+(a-b)*4};Ma=function(a,b){return a==0?0:9*Math.max(1<<32-Math.clz32(a+a/2-1),4)<=b?a==0?0:a<4?100+(a-1)*16:a<6?148+(a-4)*16:a<12?244+(a-6)*16:a<22?436+(a-12)*19:a<44?820+(a-22)*17:52+32*a:40+4*b};La=function(a){return 40+4*a};Ra=function(a){return a>=100?a>=1E4?Math.ceil(Math.log10(1+a)):a<1E3?3:4:a<10?1:2};
Sa=function(a,b){a.__closure__error__context__984382||(a.__closure__error__context__984382={});a.__closure__error__context__984382.severity=b};_.Ta=function(a){a=Error(a);Sa(a,"warning");return a};_.Va=function(a){if(typeof a!=="boolean")throw Error("s`"+_.Ua(a)+"`"+a);return a};_.Xa=function(a){if(!(0,_.Wa)(a))throw _.Ta("enum");return a|0};_.Ya=function(a){if(typeof a!=="number")throw _.Ta("int32");if(!(0,_.Wa)(a))throw _.Ta("int32");return a|0};
_.Za=function(a){if(a!=null&&typeof a!=="string")throw Error();return a};_.$a=function(a){return a==null||typeof a==="string"?a:void 0};_.bb=function(a,b,c){if(a!=null&&typeof a==="object"&&a.Dd===_.ab)return a;if(Array.isArray(a)){var d=a[_.v]|0,e=d;e===0&&(e|=c&32);e|=c&2;e!==d&&(a[_.v]=e);return new b(a)}};
db=function(a,b,c,d){if(a!=null){if(Array.isArray(a)){const f=a[_.v]|0;if(a.length===0&&f&1)return;if(d&&f&2)return a;var e;if(e=d&&c)e=f===0||!!(f&32)&&!(f&64||!(f&16));return e?(a[_.v]|=34,f&4&&Object.freeze(a),a):cb(a,f,b,c!==void 0,d)}return b(a)}};
cb=function(a,b,c,d,e){const f=d?!!(b&32):void 0;d=_.Ca(a);let g=0,h=d.length;if(b!==0)if(b&256){var k=d[h-1];h--}else k=void 0;else k=h&&d[h-1],Da(k)?h--:k=void 0;for(var l=0;l<h;l++){var m=db(d[l],c,f,e);d[l]=m;m!=null&&(g=l+1)}if(k){l=void 0;for(let p in k)if(m=db(k[p],c,f,e),m!=null){let r;((r=l)!=null?r:l={})[p]=m}c=l;d[h]=c;c!=null&&(h++,g=h)}g<h&&(d.length=g);e&&((a=_.Ha(a))&&(d[_.Ga]=_.Ca(a)),b&4&&(d[_.v]=(b|34)&-30941));return d};
hb=function(a){switch(typeof a){case "number":return Number.isFinite(a)?a:""+a;case "bigint":return(0,_.eb)(a)?Number(a):""+a;case "boolean":return a?1:0;case "object":if(_.za(a))return _.ya(a);if(a.Dd===_.ab)return fb(a);if("function"==typeof _.gb&&a instanceof _.gb)return a.j();return}return a};jb=function(a,b){b&&(ib=b===Ja||b!==Ia&&b!==Na&&b!==Qa?Ja:b);try{return fb(a)}finally{ib=void 0}};
fb=function(a){var b=a.ha;a=cb(b,0,hb,void 0,!1);var c=b[_.v]|0;if((b=a.length)&&!(c&512)){var d=a[b-1],e=!1;Da(d)?(b--,e=!0):d=void 0;var f,g=(f=ib)!=null?f:Ja;f=c&512?0:-1;c=b-f;g=g(c,f,a,d);d&&(a[b]=void 0);if(c<g&&d){c=!0;for(var h in d){const k=+h;if(k<=g)e=k+f,a[e]=d[h],b=Math.max(e+1,b),e=!1,delete d[h];else{c=!1;break}}c&&(d=void 0)}for(c=b-1;b>0;c=b-1)if(h=a[c],h==null)b--,e=!0;else if(c-=f,c>=g){let k;((k=d)!=null?k:d={})[c]=h;b--;e=!0}else break;e&&(a.length=b);d&&a.push(d)}return a};
_.lb=function(a,b,c,d){if(a==null){var e=96;c?(a=[c],e|=512):a=[];b&&(e=e&-33521665|(b&1023)<<15)}else{if(!Array.isArray(a))throw Error("v");e=a[_.v]|0;16384&e||!(64&e)||2&e||kb();if(e&2048)throw Error("x");if(e&64)return a;d===1||d===2||(e|=64);if(c&&(e|=512,c!==a[0]))throw Error("y");a:{c=a;var f=c.length;if(f){var g=f-1;d=c[g];if(Da(d)){e|=256;b=e&512?0:-1;g-=b;if(g>=1024)throw Error("A");for(var h in d)if(f=+h,f<g)c[f+b]=d[h],delete d[h];else break;e=e&-33521665|(g&1023)<<15;break a}}if(b){h=
Math.max(b,f-(e&512?0:-1));if(h>1024)throw Error("B");e=e&-33521665|(h&1023)<<15}}}a[_.v]=e;return a};kb=function(){if(mb!=null){var a;var b=(a=nb)!=null?a:nb={};a=b[mb]||0;a>=5||(b[mb]=a+1,b=Error(),Sa(b,"incident"),_.ea(b))}};pb=function(a){if(typeof a!=="object"||a===null)return a;if(a instanceof Uint8Array)return new Uint8Array(a);if(a.Dd===_.ab){const b=a.ha,c=b[_.v]|0;return c&2?a:new a.constructor(_.ob(b,c,!0))}if("function"==typeof _.gb&&a instanceof _.gb)return a};
_.ob=function(a,b,c){a=cb(a,b,pb,!0,!0);a[_.v]=a[_.v]|32|(c?2:0);return a};_.qb=function(a){const b=a.ha,c=b[_.v]|0;return c&2?new a.constructor(_.ob(b,c,!1)):a};_.rb=function(a,b,c,d){const e=b&512?0:-1,f=c+e;var g=a.length-1;if(f>=g&&b&256)return a[g][c]=d,b;if(f<=g)return a[f]=d,b;d!==void 0&&(g=b>>15&1023||536870912,c>=g?d!=null&&(a[g+e]={[c]:d},b|=256,a[_.v]=b):a[f]=d);return b};_.tb=function(a,b,c){a=a.ha;let d=a[_.v]|0;const e=_.sb(a,d,c);b=_.bb(e,b,d);b!==e&&b!=null&&_.rb(a,d,c,b);return b};
_.ub=function(){const a=class{constructor(){throw Error();}};Object.setPrototypeOf(a,a.prototype);return a};_.w=function(a,b){return a!=null?!!a:!!b};_.y=function(a,b){b==void 0&&(b="");return a!=null?a:b};_.vb=function(a,b,c){for(const d in a)b.call(c,a[d],d,a)};_.wb=function(a){for(const b in a)return!1;return!0};xb=Object.defineProperty;
yb=function(a){a=["object"==typeof globalThis&&globalThis,a,"object"==typeof window&&window,"object"==typeof self&&self,"object"==typeof global&&global];for(var b=0;b<a.length;++b){var c=a[b];if(c&&c.Math==Math)return c}throw Error("a");};zb=yb(this);Ab=function(a,b){if(b)a:{var c=zb;a=a.split(".");for(var d=0;d<a.length-1;d++){var e=a[d];if(!(e in c))break a;c=c[e]}a=a[a.length-1];d=c[a];b=b(d);b!=d&&b!=null&&xb(c,a,{configurable:!0,writable:!0,value:b})}};Ab("globalThis",function(a){return a||zb});
Ab("Symbol.dispose",function(a){return a?a:Symbol("b")});Ab("Promise.prototype.finally",function(a){return a?a:function(b){return this.then(function(c){return Promise.resolve(b()).then(function(){return c})},function(c){return Promise.resolve(b()).then(function(){throw c;})})}});var Cb,Gb;_.Bb=_.Bb||{};_.t=this||self;Cb=_.t._F_toggles||[];_.Db=function(a,b){a=a.split(".");b=b||_.t;for(var c=0;c<a.length;c++)if(b=b[a[c]],b==null)return null;return b};_.Ua=function(a){var b=typeof a;return b!="object"?b:a?Array.isArray(a)?"array":b:"null"};_.Eb=function(a){var b=typeof a;return b=="object"&&a!=null||b=="function"};_.Fb="closure_uid_"+(Math.random()*1E9>>>0);Gb=function(a,b,c){return a.call.apply(a.bind,arguments)};_.z=function(a,b,c){_.z=Gb;return _.z.apply(null,arguments)};
_.Hb=function(a,b){var c=Array.prototype.slice.call(arguments,1);return function(){var d=c.slice();d.push.apply(d,arguments);return a.apply(this,d)}};_.A=function(a,b){a=a.split(".");for(var c=_.t,d;a.length&&(d=a.shift());)a.length||b===void 0?c[d]&&c[d]!==Object.prototype[d]?c=c[d]:c=c[d]={}:c[d]=b};_.Fa=function(a){return a};
_.B=function(a,b){function c(){}c.prototype=b.prototype;a.X=b.prototype;a.prototype=new c;a.prototype.constructor=a;a.vj=function(d,e,f){for(var g=Array(arguments.length-2),h=2;h<arguments.length;h++)g[h-2]=arguments[h];return b.prototype[e].apply(d,g)}};_.B(_.aa,Error);_.aa.prototype.name="CustomError";_.Ib=_.ba(a=>typeof a==="number");_.Jb=_.ba(a=>typeof a==="string");_.Kb=_.ba(a=>typeof a==="boolean");_.Lb=typeof _.t.BigInt==="function"&&typeof _.t.BigInt(0)==="bigint";var Ob,Mb,Pb,Nb;_.eb=_.ba(a=>_.Lb?a>=Mb&&a<=Nb:a[0]==="-"?ca(a,Ob):ca(a,Pb));Ob=Number.MIN_SAFE_INTEGER.toString();Mb=_.Lb?BigInt(Number.MIN_SAFE_INTEGER):void 0;Pb=Number.MAX_SAFE_INTEGER.toString();Nb=_.Lb?BigInt(Number.MAX_SAFE_INTEGER):void 0;_.Qb=typeof TextDecoder!=="undefined";_.Rb=typeof TextEncoder!=="undefined";var Sb=!!(Cb[0]&512);var Tb;if(Cb[0]&256)Tb=Sb;else{var Ub=_.Db("WIZ_global_data.oxN3nb"),Vb=Ub&&Ub[610401301];Tb=Vb!=null?Vb:!1}var ia=Tb;var ja,Wb=_.t.navigator;ja=Wb?Wb.userAgentData||null:null;_.wa=function(a,b){return Array.prototype.indexOf.call(a,b,void 0)};_.Xb=function(a,b,c){Array.prototype.forEach.call(a,b,c)};_.Yb=function(a,b){return Array.prototype.some.call(a,b,void 0)};_.Zb=function(a){_.Zb[" "](a);return a};_.Zb[" "]=function(){};var lc;_.$b=_.na();_.ac=_.oa();_.bc=_.u("Edge");_.cc=_.u("Gecko")&&!(_.ha()&&!_.u("Edge"))&&!(_.u("Trident")||_.u("MSIE"))&&!_.u("Edge");_.dc=_.ha()&&!_.u("Edge");_.ec=_.va();_.fc=sa()?ja.platform==="Windows":_.u("Windows");_.gc=sa()?ja.platform==="Android":_.u("Android");_.hc=ta();_.ic=_.u("iPad");_.jc=_.u("iPod");_.kc=_.ua();
a:{let a="";const b=function(){const c=_.fa();if(_.cc)return/rv:([^\);]+)(\)|;)/.exec(c);if(_.bc)return/Edge\/([\d\.]+)/.exec(c);if(_.ac)return/\b(?:MSIE|rv)[: ]([^\);]+)(\)|;)/.exec(c);if(_.dc)return/WebKit\/(\S+)/.exec(c);if(_.$b)return/(?:Version)[ \/]?(\S+)/.exec(c)}();b&&(a=b?b[1]:"");if(_.ac){var mc;const c=_.t.document;mc=c?c.documentMode:void 0;if(mc!=null&&mc>parseFloat(a)){lc=String(mc);break a}}lc=a}_.nc=lc;_.oc=_.pa();_.pc=ta()||_.u("iPod");_.qc=_.u("iPad");_.rc=_.u("Android")&&!(qa()||_.pa()||_.na()||_.u("Silk"));_.sc=qa();_.tc=_.ra()&&!_.ua();var Aa,mb;Aa=new Set;_.Ga=_.Ba(void 0,!0);mb=_.Ba();_.v=_.Ba("jas",!0,!0);var vc;_.ab={};vc=[];vc[_.v]=55;_.uc=Object.freeze(vc);_.wc=Object.freeze({});var nb=void 0;_.xc=typeof BigInt==="function"?BigInt.asIntN:void 0;_.yc=Number.isSafeInteger;_.Wa=Number.isFinite;_.zc=Math.trunc;var ib;_.Ac=function(a,b){a=a.ha;return _.sb(a,a[_.v]|0,b)};_.sb=function(a,b,c){if(c===-1)return null;const d=c+(b&512?0:-1),e=a.length-1;if(d>=e&&b&256)return a[e][c];if(d<=e)return a[d]};_.Bc=function(a,b,c){const d=a.ha;let e=d[_.v]|0;_.Ea(e);_.rb(d,e,b,c);return a};_.C=function(a,b,c){b=_.tb(a,b,c);if(b==null)return b;a=a.ha;let d=a[_.v]|0;if(!(d&2)){const e=_.qb(b);e!==b&&(b=e,_.rb(a,d,c,b))}return b};_.D=function(a,b,c){c==null&&(c=void 0);return _.Bc(a,b,c)};
_.F=function(a,b){a=_.Ac(a,b);return a==null||typeof a==="boolean"?a:typeof a==="number"?!!a:void 0};_.G=function(a,b){return _.$a(_.Ac(a,b))};_.H=function(a,b){let c;return(c=_.F(a,b))!=null?c:!1};_.J=function(a,b){let c;return(c=_.G(a,b))!=null?c:""};_.K=function(a,b,c){return _.Bc(a,b,c==null?c:_.Va(c))};_.L=function(a,b,c){return _.Bc(a,b,c==null?c:_.Ya(c))};_.N=function(a,b,c){return _.Bc(a,b,_.Za(c))};_.O=function(a,b,c){return _.Bc(a,b,c==null?c:_.Xa(c))};_.P=class{constructor(a,b,c){this.ha=_.lb(a,b,c)}toJSON(){return jb(this)}ya(a){return JSON.stringify(jb(this,a))}nc(){return!!((this.ha[_.v]|0)&2)}};_.P.prototype.Dd=_.ab;_.P.prototype.toString=function(){return this.ha.toString()};_.Cc=_.ub();_.Dc=_.ub();_.Gc=_.ub();var Hc=class extends _.P{constructor(a){super(a)}};_.Ic=class extends _.P{constructor(a){super(a)}D(a){return _.L(this,3,a)}};var Jc=class extends _.P{constructor(a){super(a)}Gc(a){return _.N(this,24,a)}};_.Kc=class extends _.P{constructor(a){super(a)}};_.Q=function(){this.qa=this.qa;this.Y=this.Y};_.Q.prototype.qa=!1;_.Q.prototype.isDisposed=function(){return this.qa};_.Q.prototype.dispose=function(){this.qa||(this.qa=!0,this.P())};_.Q.prototype[Symbol.dispose]=function(){this.dispose()};_.Q.prototype.P=function(){if(this.Y)for(;this.Y.length;)this.Y.shift()()};var Lc=class extends _.Q{constructor(){var a=window;super();this.o=a;this.i=[];this.j={}}resolve(a){let b=this.o;a=a.split(".");const c=a.length;for(let d=0;d<c;++d)if(b[a[d]])b=b[a[d]];else return null;return b instanceof Function?b:null}nb(){const a=this.i.length,b=this.i,c=[];for(let d=0;d<a;++d){const e=b[d].i(),f=this.resolve(e);if(f&&f!=this.j[e])try{b[d].nb(f)}catch(g){}else c.push(b[d])}this.i=c.concat(b.slice(a))}};var Nc=class extends _.Q{constructor(){var a=_.Mc;super();this.o=a;this.A=this.i=null;this.v=0;this.B={};this.j=!1;a=window.navigator.userAgent;a.indexOf("MSIE")>=0&&a.indexOf("Trident")>=0&&(a=/\b(?:MSIE|rv)[: ]([^\);]+)(\)|;)/.exec(a))&&a[1]&&parseFloat(a[1])<9&&(this.j=!0)}C(a,b){this.i=b;this.A=a;b.preventDefault?b.preventDefault():b.returnValue=!1}};_.Oc=class extends _.P{constructor(a){super(a)}};var Pc=class extends _.P{constructor(a){super(a)}};var Rc;_.Qc=function(a,b,c=98,d=new _.Ic){if(a.i){const e=new Hc;_.N(e,1,b.message);_.N(e,2,b.stack);_.L(e,3,b.lineNumber);_.O(e,5,1);_.D(d,40,e);a.i.log(c,d)}};Rc=class{constructor(){this.i=null}log(a,b,c=new _.Ic){_.Qc(this,a,98,c)}};var Sc,Tc;Sc=function(a){if(a.o.length>0){var b=a.i!==void 0,c=a.j!==void 0;if(b||c){b=b?a.v:a.A;c=a.o;a.o=[];try{_.Xb(c,b,a)}catch(d){console.error(d)}}}};_.Uc=class{constructor(a){this.i=a;this.j=void 0;this.o=[]}then(a,b,c){this.o.push(new Tc(a,b,c));Sc(this)}resolve(a){if(this.i!==void 0||this.j!==void 0)throw Error("F");this.i=a;Sc(this)}reject(a){if(this.i!==void 0||this.j!==void 0)throw Error("F");this.j=a;Sc(this)}v(a){a.j&&a.j.call(a.i,this.i)}A(a){a.o&&a.o.call(a.i,this.j)}};
Tc=class{constructor(a,b,c){this.j=a;this.o=b;this.i=c}};_.Vc=a=>{var b="jc";if(a.jc&&a.hasOwnProperty(b))return a.jc;b=new a;return a.jc=b};_.R=class{constructor(){this.v=new _.Uc;this.i=new _.Uc;this.D=new _.Uc;this.B=new _.Uc;this.C=new _.Uc;this.A=new _.Uc;this.o=new _.Uc;this.j=new _.Uc;this.F=new _.Uc}Y(){return this.v}M(){return this.i}N(){return this.D}L(){return this.B}qa(){return this.C}K(){return this.A}J(){return this.o}G(){return this.j}static i(){return _.Vc(_.R)}};var Zc;_.Xc=function(){return _.C(_.Wc,Jc,1)};_.Yc=function(){return _.C(_.Wc,_.Kc,5)};Zc=class extends _.P{constructor(a){super(a)}};var $c;window.gbar_&&window.gbar_.CONFIG?$c=window.gbar_.CONFIG[0]||{}:$c=[];_.Wc=new Zc($c);_.C(_.Wc,Pc,3)||new Pc;_.Xc()||new Jc;_.Mc=new Rc;_.A("gbar_._DumpException",function(a){_.Mc?_.Mc.log(a):console.error(a)});_.ad=new Nc;var cd;_.dd=function(a,b){var c=_.bd.i();if(a in c.i){if(c.i[a]!=b)throw new cd;}else{c.i[a]=b;const h=c.j[a];if(h)for(let k=0,l=h.length;k<l;k++){b=h[k];var d=c.i;delete b.i[a];if(_.wb(b.i)){for(var e=b.j.length,f=Array(e),g=0;g<e;g++)f[g]=d[b.j[g]];b.o.apply(b.v,f)}}delete c.j[a]}};_.bd=class{constructor(){this.i={};this.j={}}static i(){return _.Vc(_.bd)}};_.ed=class extends _.aa{constructor(){super()}};cd=class extends _.ed{};_.A("gbar.A",_.Uc);_.Uc.prototype.aa=_.Uc.prototype.then;_.A("gbar.B",_.R);_.R.prototype.ba=_.R.prototype.M;_.R.prototype.bb=_.R.prototype.N;_.R.prototype.bd=_.R.prototype.qa;_.R.prototype.bf=_.R.prototype.Y;_.R.prototype.bg=_.R.prototype.L;_.R.prototype.bh=_.R.prototype.K;_.R.prototype.bj=_.R.prototype.J;_.R.prototype.bk=_.R.prototype.G;_.A("gbar.a",_.R.i());window.gbar&&window.gbar.ap&&window.gbar.ap(window.gbar.a);var fd=new Lc;_.dd("api",fd);var gd=_.Yc()||new _.Kc;window.__PVT=_.y(_.G(gd,8));
_.dd("eq",_.ad);
}catch(e){_._DumpException(e)}
try{
_.hd=class extends _.P{constructor(a){super(a)}};
}catch(e){_._DumpException(e)}
try{
var id=class extends _.P{constructor(a){super(a)}};var jd=class extends _.Q{constructor(){super();this.j=[];this.i=[]}o(a,b){this.j.push({features:a,options:b!=null?b:null})}init(a,b,c){window.gapi={};const d=window.___jsl={};d.h=_.y(_.G(a,1));_.F(a,12)!=null&&(d.dpo=_.w(_.H(a,12)));d.ms=_.y(_.G(a,2));d.m=_.y(_.G(a,3));d.l=[];_.J(b,1)&&(a=_.G(b,3))&&this.i.push(a);_.J(c,1)&&(c=_.G(c,2))&&this.i.push(c);_.A("gapi.load",(0,_.z)(this.o,this));return this}};var kd=_.C(_.Wc,_.Oc,14);if(kd){var ld=_.C(_.Wc,_.hd,9)||new _.hd,md=new id,nd=new jd;nd.init(kd,ld,md);_.dd("gs",nd)};
}catch(e){_._DumpException(e)}
})(this.gbar_);
// Google Inc.
</script><script nonce="">try {const preferences = JSON.parse(window.localStorage.getItem("datalab_prefs_avishkarkhandekar31@gmail.com")); document.querySelector('html') .setAttribute('theme', preferences['siteTheme'] || 'default');} catch (e) {}</script><script nonce="">window.performance.mark('head_start');</script><link rel="stylesheet" href="./IAS_files/bundle.css"><script nonce="">var colabVersionTag = 'colab_20250220-060115_RC00_729035613'; var colabScsVersion = 'd2b36f7a85e252e353da1bab452cead0'; var hl = 'en'; var colabExperiments = JSON.parse('\x7b\x22add_df_vars_in_ai_conversation_context\x22: false, \x22add_prompt_cell\x22: false, \x22agent_scroll_delay_ms\x22: 200, \x22ai_banner\x22: false, \x22ai_unsubscribed_warning\x22: false, \x22ai_user_input_char_limit\x22: 2000, \x22aida_complete_code_model_id\x22: \x22\x22, \x22aida_converse_max_facts\x22: 20, \x22aida_do_conversation_model_id\x22: \x22\x22, \x22aida_generate_code_model_id\x22: \x22\x22, \x22allow_dsa_page_interaction\x22: false, \x22allow_readonly_cells\x22: true, \x22allowed_public_url_domains\x22: \x5b\x22huggingface.co\x22, \x22dagshub.com\x22, \x22storage.googleapis.com\x22\x5d, \x22auto_open_chat_on_empty_notebook\x22: false, \x22backend_url_allowlist\x22: \x5b\x22localhost\x22, \x22127.0.0.1\x22, \x22\x5b::1\x5d\x22, \x22kkb-production.jupyter-proxy.kaggle.net\x22\x5d, \x22backend_version\x22: \x22next\x22, \x22backtracking_strategy\x22: \x22non-literals\x22, \x22cell_markdown_toolbar_tooltips\x22: true, \x22cell_output_actions_tooltip\x22: true, \x22cell_tags\x22: false, \x22cell_toolbar_ai_menu\x22: true, \x22cell_toolbar_tooltips\x22: true, \x22cell_ui_refresh\x22: false, \x22chat_explain_error_temp\x22: \x221.0\x22, \x22chat_model_id_override\x22: \x22\x22, \x22chat_reduce_refusals\x22: true, \x22classified_generate\x22: false, \x22classroom_iframe_parent_origin\x22: \x22\x22, \x22client_text_compose\x22: true, \x22client_trim_completion_text\x22: 400, \x22cloud_origin\x22: \x22\x22, \x22code_report_millis\x22: 600000, \x22commands_in_toolbar\x22: false, \x22comment_poll_long\x22: 900000, \x22comment_poll_short\x22: 60000, \x22compose_skip_suffix_check\x22: false, \x22converse_server_side_history\x22: false, \x22converse_temp\x22: \x22\x22, \x22corp_third_party_widgets\x22: false, \x22crawler\x22: false, \x22create_gemini_api_key\x22: false, \x22critique_comments\x22: false, \x22dbu\x22: \x22\x22, \x22debug_external\x22: \x22external\x22, \x22debug_prod\x22: \x22prod\x22, \x22dep_cells_commands\x22: true, \x22dep_cells_enabled\x22: false, \x22dep_graph\x22: false, \x22development\x22: false, \x22document_change_poll_interval\x22: 30000, \x22drive_anon_api_key\x22: \x22AIzaSyB10s2vWUTwP0pj20wZoxmpZIt3rRodYeg\x22, \x22drive_api_key\x22: \x22AIzaSyCN_sSPJMpYrAzC5AtTrltNC8oRmLtoqBk\x22, \x22drive_background_save_project_number\x22: \x22948411933973\x22, \x22drive_realtime_project_number\x22: \x22\x22, \x22drop_chat_links\x22: true, \x22dsa\x22: false, \x22embedding_app\x22: \x22\x22, \x22enable_adhoc_backends\x22: false, \x22enable_agent_connect_to_new_vm\x22: true, \x22enable_completions_backend_switching\x22: false, \x22enable_dasher_subscription_ui\x22: true, \x22enable_more_reprs\x22: true, \x22enable_mpp_orc_model_overrides\x22: true, \x22enable_rt_on_create\x22: false, \x22execution_announcements\x22: true, \x22execution_status_propagation\x22: true, \x22explain_cell\x22: true, \x22explain_error\x22: true, \x22explain_error_model_id_override\x22: \x22\x22, \x22explain_error_trim_traceback\x22: true, \x22explicit_ai_backend\x22: \x22\x22, \x22external_trusted_github_org_repos_quick_add\x22: \x22GoogleChrome\/CrUX,google\/generative-ai-docs,google-health\/cxr-foundation,google-health\/derm-foundation,google-health\/path-foundation\x22, \x22file_browser_poll_interval_millis\x22: 10000, \x22file_upload_rate_limit\x22: 5, \x22filter_repetitive_suggestions\x22: false, \x22first_party_auth\x22: true, \x22fix_imports\x22: false, \x22gemini_rebrand\x22: true, \x22generate_code\x22: true, \x22generate_df\x22: true, \x22generate_prompt_reduce_blank_responses\x22: false, \x22generate_prompt_reduce_name_errors\x22: false, \x22generate_temp\x22: \x22\x22, \x22get_started\x22: false, \x22gis_auth\x22: true, \x22github_client_id\x22: \x225036cf6d81e65aaa6340\x22, \x22gpu_utilization_check_interval_ms\x22: 600000, \x22granular_browser_permissions\x22: true, \x22hats_surveys\x22: true, \x22hrc\x22: false, \x22i18n_runtime_labels\x22: true, \x22import_data\x22: false, \x22import_gemini_api_key\x22: true, \x22include_df_vars_in_ai_conversation_context\x22: false, \x22inline_completion_ai_campaign_max_views\x22: 3, \x22inline_completion_ai_campaign_throttle_ms\x22: 600000, \x22interactive_sheet_next_steps\x22: true, \x22internal_chat\x22: false, \x22internal_schedule\x22: true, \x22is_prober\x22: false, \x22jsraw\x22: \x22compiled\x22, \x22key_promoter\x22: false, \x22kr\x22: false, \x22last_saved_indicator_refresh\x22: true, \x22latest_notebook_context_for_converse\x22: true, \x22link_id_assignments\x22: true, \x22link_imports_to_installs\x22: true, \x22local_cloud_apis\x22: false, \x22local_service_worker\x22: false, \x22lsp_diagnostics_reporting\x22: false, \x22lsp_inlay_hint\x22: false, \x22makersuite_api_key\x22: \x22AIzaSyAmDcruecW4rCL1KdwcbIVHL4LkXxahIgw\x22, \x22makersuite_service_url\x22: \x22https:\/\/alkalimakersuite-pa.clients6.google.com\x22, \x22markdown_spellchecker\x22: false, \x22min_dep_cells_runtime_kernel_cl\x22: 694609395, \x22ml_enabled\x22: true, \x22mlpp_multiline\x22: false, \x22mobile\x22: false, \x22mpp_orc_temperature_override\x22: \x221.0\x22, \x22next_steps\x22: true, \x22nl2code_missing_imports\x22: true, \x22no_fun\x22: false, \x22notebook_context_length\x22: 40000, \x22outage_notification\x22: \x22\x22, \x22outage_notification_link\x22: \x22\x22, \x22outputframe_version\x22: \x22\x22, \x22override_suf_params_for_test\x22: false, \x22parallel_prompting\x22: true, \x22pds_minting\x22: false, \x22prereq_cells_next_steps\x22: true, \x22prevent_ai_long_response_generate\x22: false, \x22prevent_ai_long_response_generate_with_df\x22: false, \x22prevent_ai_long_response_suggest_fix\x22: false, \x22prompt_for_dsa_trusted_tester_consent\x22: false, \x22recaptcha_polling_frequency_ms\x22: 300000, \x22recaptcha_v2_site_key\x22: \x226LfQttQUAAAAADuPanA_VZMaZgBAOnHZNuuqUewp\x22, \x22recaptcha_v3_site_key\x22: \x226LfQPtEUAAAAAHBpAdFng54jyuB1V5w5dofknpip\x22, \x22reconnect_max_delay_seconds\x22: 300, \x22remove_ai_explain_cell_fencing\x22: true, \x22remove_ai_explain_error_fencing\x22: true, \x22remove_ai_generate_fencing\x22: true, \x22require_ai_consent\x22: true, \x22resource_poll_interval_ms\x22: 10000, \x22rp_kws\x22: true, \x22rp_kxhr_skip_fallback\x22: false, \x22rp_serve_kernel_port\x22: false, \x22rp_socketio_fallback\x22: true, \x22rp_token_refresh_headroom_millis\x22: 300000, \x22rt_opt_in\x22: \x22OFF\x22, \x22run_mode\x22: false, \x22runtime_env_overrides\x22: \x22\\n          \x5b\\n            \x5b\\\x22ENABLE_DIRECTORYPREFETCHER\\\x22, \\\x221\\\x22\x5d\\n          \x5d\\n        \x22, \x22runtime_type_for_test\x22: \x22\x22, \x22server_execution_queue\x22: true, \x22server_side_generate_prompt_formatting_cloud\x22: false, \x22session_resume_coalesce\x22: true, \x22show_empty_notebook_actions\x22: false, \x22show_payments_interstitial\x22: false, \x22show_rel_notes_on_open\x22: true, \x22show_signup_survey\x22: true, \x22show_subscription_renewal_time\x22: false, \x22show_switch_to_prod_link\x22: false, \x22single_page_consent_form\x22: true, \x22smartpaste\x22: false, \x22smartpaste_serving_config\x22: \x22pl_700m_smart_paste_3.0.32_60\x22, \x22sql_cell\x22: false, \x22sql_cell_buttons\x22: false, \x22storage_partition_trial\x22: true, \x22storage_partition_trial_token\x22: \x22Agk\/t4Bt05W7j6CHeqXH9+6ccDayrBsQPqCLDPSElphe\/7cUobayuvN0A3huajTbJenIjp6qibLteh6e0IEWrgIAAAB4eyJvcmlnaW4iOiJodHRwczovL2NvbGFiLnJlc2VhcmNoLmdvb2dsZS5jb206NDQzIiwiZmVhdHVyZSI6IkRpc2FibGVUaGlyZFBhcnR5U3RvcmFnZVBhcnRpdGlvbmluZzIiLCJleHBpcnkiOjE3NDIzNDIzOTl9\x22, \x22task_service_max_poll_count\x22: 45, \x22task_service_poll_interval_ms\x22: 2000, \x22task_service_wait_before_polling_ms\x22: 5000, \x22term4all\x22: false, \x22text_compose_report_changes_millis\x22: 10000, \x22text_span_comments\x22: false, \x22tpu_node_redirect\x22: true, \x22tpu_resource_stats\x22: false, \x22tpu_v5e1\x22: true, \x22transform_code\x22: false, \x22transform_code_context_file_per_cell\x22: false, \x22turn_off_agent_mode_when_safe\x22: false, \x22unmanaged_vm_min_label_block\x22: \x22\x22, \x22unmanaged_vm_min_label_warn\x22: \x22\x22, \x22unmanaged_vm_min_release_tag_block\x22: \x22\x22, \x22unmanaged_vm_min_release_tag_warn\x22: \x22\x22, \x22unsupported_magics_check\x22: true, \x22updated_inline_cell_diff\x22: false, \x22use_corplogin\x22: true, \x22use_dm_sql_lsp\x22: false, \x22user_visible_gpu_types\x22: \x5b\x22T4\x22, \x22A100\x22, \x22L4\x22\x5d, \x22v_100_redirect\x22: true, \x22verbose_warnings\x22: false, \x22vertex_ai_api_environment_override\x22: \x22\x22, \x22want_completions_ai_consent_campaign\x22: true, \x22workstations\x22: false, \x22ids\x22: \x5b20730177, 20730324, 20730363, 20730315, 20730150, 20730185, 20730360, 20730366, 20730297, 20730265, 20730183, 20730230\x5d, \x22flag_ids\x22: \x7b\x22add_df_vars_in_ai_conversation_context\x22: 45678289, \x22add_prompt_cell\x22: 45644995, \x22agent_scroll_delay_ms\x22: 45680776, \x22ai_banner\x22: 45670540, \x22ai_unsubscribed_warning\x22: 45504730, \x22ai_user_input_char_limit\x22: 45661098, \x22aida_complete_code_model_id\x22: 45427660, \x22aida_converse_max_facts\x22: 45680037, \x22aida_do_conversation_model_id\x22: 45427664, \x22aida_generate_code_model_id\x22: 45427663, \x22allow_dsa_page_interaction\x22: 45675785, \x22allow_readonly_cells\x22: 45671718, \x22allowed_public_url_domains\x22: 45425558, \x22auto_open_chat_on_empty_notebook\x22: 45669599, \x22backend_url_allowlist\x22: 45660303, \x22backend_version\x22: 45425541, \x22backtracking_strategy\x22: 45644832, \x22cell_markdown_toolbar_tooltips\x22: 45654223, \x22cell_output_actions_tooltip\x22: 45650940, \x22cell_tags\x22: 45425779, \x22cell_toolbar_ai_menu\x22: 45647581, \x22cell_toolbar_tooltips\x22: 45649981, \x22cell_ui_refresh\x22: 45673630, \x22chat_explain_error_temp\x22: 45655973, \x22chat_model_id_override\x22: 45631876, \x22chat_reduce_refusals\x22: 45656767, \x22classified_generate\x22: 45425499, \x22classroom_iframe_parent_origin\x22: 45425537, \x22client_text_compose\x22: 45425512, \x22client_trim_completion_text\x22: 45425628, \x22cloud_origin\x22: 45425538, \x22code_report_millis\x22: 45658073, \x22commands_in_toolbar\x22: 45425502, \x22comment_poll_long\x22: 45425588, \x22comment_poll_short\x22: 45425587, \x22compose_skip_suffix_check\x22: 45615470, \x22converse_server_side_history\x22: 45634472, \x22converse_temp\x22: 45425509, \x22corp_third_party_widgets\x22: 45678906, \x22crawler\x22: 45425491, \x22create_gemini_api_key\x22: 45654552, \x22critique_comments\x22: 45612076, \x22dbu\x22: 45425545, \x22debug_external\x22: 45425470, \x22debug_prod\x22: 45425471, \x22dep_cells_commands\x22: 45622249, \x22dep_cells_enabled\x22: 45653551, \x22dep_graph\x22: 45629071, \x22development\x22: 45425544, \x22document_change_poll_interval\x22: 45425589, \x22drive_anon_api_key\x22: 45425478, \x22drive_api_key\x22: 45425473, \x22drive_background_save_project_number\x22: 45425479, \x22drive_realtime_project_number\x22: 45425629, \x22drop_chat_links\x22: 45646864, \x22dsa\x22: 45656258, \x22enable_adhoc_backends\x22: 45425506, \x22enable_agent_connect_to_new_vm\x22: 45670252, \x22enable_completions_backend_switching\x22: 45662651, \x22enable_dasher_subscription_ui\x22: 45639531, \x22enable_more_reprs\x22: 45613354, \x22enable_mpp_orc_model_overrides\x22: 45649913, \x22enable_rt_on_create\x22: 45667583, \x22execution_announcements\x22: 45651325, \x22execution_status_propagation\x22: 45644828, \x22explain_cell\x22: 45425505, \x22explain_error\x22: 45425487, \x22explain_error_model_id_override\x22: 45631875, \x22explain_error_trim_traceback\x22: 45618831, \x22explicit_ai_backend\x22: 45638548, \x22external_trusted_github_org_repos_quick_add\x22: 45425555, \x22file_browser_poll_interval_millis\x22: 45643722, \x22file_upload_rate_limit\x22: 45637799, \x22filter_repetitive_suggestions\x22: 45615781, \x22first_party_auth\x22: 45425560, \x22fix_imports\x22: 45624140, \x22gemini_rebrand\x22: 45631310, \x22generate_code\x22: 45425492, \x22generate_df\x22: 45425503, \x22generate_prompt_reduce_blank_responses\x22: 45643396, \x22generate_prompt_reduce_name_errors\x22: 45634392, \x22generate_temp\x22: 45425508, \x22get_started\x22: 45430267, \x22gis_auth\x22: 45425625, \x22github_client_id\x22: 45425556, \x22gpu_utilization_check_interval_ms\x22: 45425561, \x22granular_browser_permissions\x22: 45630936, \x22hats_surveys\x22: 45425559, \x22i18n_runtime_labels\x22: 45662916, \x22import_data\x22: 45430411, \x22import_gemini_api_key\x22: 45654551, \x22include_df_vars_in_ai_conversation_context\x22: 45676033, \x22inline_completion_ai_campaign_max_views\x22: 45676328, \x22inline_completion_ai_campaign_throttle_ms\x22: 45671534, \x22interactive_sheet_next_steps\x22: 45634324, \x22internal_chat\x22: 45622872, \x22internal_schedule\x22: 45425578, \x22is_prober\x22: 45429104, \x22jsraw\x22: 45425557, \x22key_promoter\x22: 45425570, \x22last_saved_indicator_refresh\x22: 45672240, \x22latest_notebook_context_for_converse\x22: 45668776, \x22link_id_assignments\x22: 45644831, \x22link_imports_to_installs\x22: 45644830, \x22local_cloud_apis\x22: 45425630, \x22local_service_worker\x22: 45425550, \x22lsp_diagnostics_reporting\x22: 45425604, \x22lsp_inlay_hint\x22: 45614695, \x22makersuite_api_key\x22: 45655361, \x22makersuite_service_url\x22: 45655362, \x22markdown_spellchecker\x22: 45671479, \x22min_dep_cells_runtime_kernel_cl\x22: 45654240, \x22ml_enabled\x22: 45425493, \x22mlpp_multiline\x22: 45425623, \x22mobile\x22: 45425562, \x22mpp_orc_temperature_override\x22: 45649914, \x22next_steps\x22: 45428239, \x22nl2code_missing_imports\x22: 45615676, \x22no_fun\x22: 45425540, \x22notebook_context_length\x22: 45633457, \x22outage_notification\x22: 45425584, \x22outage_notification_link\x22: 45425585, \x22outputframe_version\x22: 45425591, \x22override_suf_params_for_test\x22: 45425592, \x22parallel_prompting\x22: 45666384, \x22pds_minting\x22: 45648255, \x22prereq_cells_next_steps\x22: 45640400, \x22prevent_ai_long_response_generate\x22: 45680972, \x22prevent_ai_long_response_generate_with_df\x22: 45681123, \x22prevent_ai_long_response_suggest_fix\x22: 45681124, \x22prompt_for_dsa_trusted_tester_consent\x22: 45670923, \x22recaptcha_polling_frequency_ms\x22: 45425582, \x22recaptcha_v2_site_key\x22: 45425581, \x22recaptcha_v3_site_key\x22: 45425580, \x22reconnect_max_delay_seconds\x22: 45425539, \x22remove_ai_explain_cell_fencing\x22: 45677303, \x22remove_ai_explain_error_fencing\x22: 45677302, \x22remove_ai_generate_fencing\x22: 45673079, \x22require_ai_consent\x22: 45425489, \x22resource_poll_interval_ms\x22: 45425590, \x22rp_kws\x22: 45650184, \x22rp_kxhr_skip_fallback\x22: 45656329, \x22rp_serve_kernel_port\x22: 45572083, \x22rp_socketio_fallback\x22: 45658495, \x22rp_token_refresh_headroom_millis\x22: 45517773, \x22rt_opt_in\x22: 45667546, \x22run_mode\x22: 45642857, \x22runtime_env_overrides\x22: 45425583, \x22runtime_type_for_test\x22: 45425586, \x22server_execution_queue\x22: 45425600, \x22server_side_generate_prompt_formatting_cloud\x22: 45655196, \x22session_resume_coalesce\x22: 45425603, \x22show_empty_notebook_actions\x22: 45677304, \x22show_payments_interstitial\x22: 45425543, \x22show_rel_notes_on_open\x22: 45644210, \x22show_signup_survey\x22: 45425620, \x22show_subscription_renewal_time\x22: 45425569, \x22show_switch_to_prod_link\x22: 45425483, \x22single_page_consent_form\x22: 45656775, \x22smartpaste\x22: 45627425, \x22smartpaste_serving_config\x22: 45630585, \x22sql_cell\x22: 45425497, \x22sql_cell_buttons\x22: 45425498, \x22task_service_max_poll_count\x22: 45669592, \x22task_service_poll_interval_ms\x22: 45669591, \x22task_service_wait_before_polling_ms\x22: 45669590, \x22term4all\x22: 45425542, \x22text_compose_report_changes_millis\x22: 45425568, \x22text_span_comments\x22: 45545873, \x22tpu_node_redirect\x22: 45634372, \x22tpu_resource_stats\x22: 45655215, \x22tpu_v5e1\x22: 45652002, \x22transform_code\x22: 45667102, \x22transform_code_context_file_per_cell\x22: 45671260, \x22turn_off_agent_mode_when_safe\x22: 45679577, \x22unmanaged_vm_min_label_block\x22: 45425546, \x22unmanaged_vm_min_label_warn\x22: 45425547, \x22unmanaged_vm_min_release_tag_block\x22: 45425548, \x22unmanaged_vm_min_release_tag_warn\x22: 45425549, \x22unsupported_magics_check\x22: 45644829, \x22updated_inline_cell_diff\x22: 45667103, \x22use_corplogin\x22: 45425606, \x22use_dm_sql_lsp\x22: 45425610, \x22user_visible_gpu_types\x22: 45620529, \x22v_100_redirect\x22: 45644963, \x22verbose_warnings\x22: 45425551, \x22vertex_ai_api_environment_override\x22: 45612077, \x22want_completions_ai_consent_campaign\x22: 45671138, \x22workstations\x22: 45425626\x7d\x7d'); var colabUserEmail = 'avishkarkhandekar31@gmail.com'; var colabRenderDataToken = 'AFWLbD3PopahuDbSkOx1WD9FUn8Nynrd5YdNvjIhf37BRM4wylSc23h5Tl2_k39k9CeL1AbHobfCUai4qsKTaukr0g8SrUVfXwKA'; var colabConfig = '\x5b\x5b\x22avishkarkhandekar31@gmail.com\x22,\x5b1,\x22AHXL0D07h4Xmk9j3WHxnxtayzguWWsUGKpyRBhzng9uiXRM2UBK0SAKP7jOxEjYKrjmpR2ELPUM2NxiSLa78YgTBXVdzwXQ+NwEKXgNX48RcaUfdYJ0oxKTVbHmU6XRGow9bVyuZ7P60A1mjOXwlhHA8yzu6n6C5IkA9i4+MzBf3GNTHzuCGxJCh3+2C6TPzj6dIVnD0n84FCr\/urpeB0ycA+qHVnBlRDFl4Pmz\/Ghth4wZfiRH9pVQZFNFAxpFJ3ir59s9GlEb5ab9vkh5EHWTprabD1eP6YCBSahKMaYW07+XW4iJX1VmOVntNXEbHx5G0BCa+ayAY5w329QfWiZfedyQjlxDsc2KoAkidfxygiriHQaqGclRBrVA2JlJBpf\/9CNkmO4TglxoOU0jA5px11UYa8HH72DK9ZAAFkFXQ9EYyZbJ47usuYfV2rY5YChg3m\/ID3WEc97uJHVlWQNlcia+erVFDHpGdppKQ2q6zmxgvppXYP7H8KbgOIp9MFaE39HRVWbWJ2V5IaY6lhlVtr4fEfWkuLUvLBz9405IPq7n246Ts5zgjl1cz+FQvkkA8sXc07bfBCGQ+NXQWk3GW3MKJtxjIX749FRHaKRaSIXFJY9fd+BRBnlEa+b\/YGBjFHz2Tyfv8N1Iq6eCQzWlSKasbnd7w8sfj9Jdd214fwvpylhykIRIeYZrkS9L8N6OTooAHLeD2Xk\/\/EihqvnxNUeO6Y4dprsKIqPEvEC1G6kibqWtql1+1vIKrq0wlwkEHSPBKGLxXYubTAOzWkt3U3L4lGcqX9Z0NCX++Zu+4bemc7L3jrzY8HtG3S6FzHQhez8HuaxT50bMLu4I7gfEHIBMxbyrvQJrTfFILPy9HtqBm7m4C8zmyHRBYAr4LTnf3TZqT\/c5Ieav\/5WEYeDssKhgMDl+S4i14DhZKQhrs2O2Av\/k\/afQSgVrl6NKAhVOdtq5odIByarvh4fu\/+R\/VKZbbJsJcGMWMsvh8YbtQVUL70YYuj2BiwhxSEH+HAhts+henuAGARRvNjWHb6xmMVqga+C3IV5Nj14Wce6FcPtBv6XPhN8IkXbBRooeG9C45pc3n+NdnGJjR+OQZst3NBWCZ3l0W3YX4hG0iOxcJDnYLSwzO5d0bnFNDetj7biMx8eznWtWSr5gR+KMzYo0QAfG\/lEFzXRwIWrQbElXX2mKkOWtU9TKK7BtAE+4jIoLLLNdY7mO9uwWNC\/rsGWeG0NMoVl+Q4Y1UL1eMN40FojzNHtUZvjRrgNnLaK1JxndjvPqrtaUPGFlRDtNOjtG1LZKqtv\/x6SRENbqOJ0eNhAZtcCeMM31LZKXTerhrb9\/3MXdD81zTa0by9Rpz8qaZ0r3239RWk2hq4i62i92I\/W7oefw1thcjphzrEGHtlsPKn5MoJQ+9SKsidWe91jAcRAkr5DJHe\/+1C9f7JNI+iWBN4jY9JdZjafe1MrU7FApnUnoM7CsK6APeVhRMgoGqZxzsJ7TnnxPSh+q05S4SpFLt\/fLyaRu8vmeT7bOAvyy\/qBt4IWaVwbco5mGrRRT26o9sCAjOndU+ErNAzCAMr1zAVYyIsK04dK+iJ+p8Xs\/p2fINzx3o1ZTAsdwdejlH0Q8nSq51gqjy9wY0zD1+TbTUBAH2WkDeu0Fn7c0E0rF+lR6SGNmEBFqjVdILeWu5uCrGRIpma1Lk8bhM4SkyX\/O15p+PCvea\/UniDE8brzzobQrB29RVrERdlTFKF6fRMKFQ\/KaDTyGxQU5Avs3wCe+0wCIy6hWXbPvirjEdKYtkr\/7r+mhb5ut8i1cwaMh9f0c6VGPKvgynPNhZr1LRz8EHt15tC7spW7FJA9OJxGrUOgZN2tcCzooOpk4e7vTLkm1WnvPddklrLEfx9lGouJU6ug6E1DE\x3d\x22,\x22AJ9oCCwYhkobkMs\/qpoPSINVQSZGMqnzUJorfBUr51PLre4LlODUQbEsnNjj6sCzatJv2FPd0UikrpUe3yN5p5cC1s4D7S0qvDRju+qli0V8Ij9GGueEX9wYaU3OoJ+TJMPWxUdT5Cjq\x22,\x22https:\/\/payments.google.com\/payments\x22,0,0,null,null,null,\x22$11.79\x22,\x22$58.99\x22,\x22$11.79\x22,\x22$58.99\x22\x5d,\x5b1,4,5\x5d,\x22IN\x22,0\x5d\x5d';</script><link id="favicon-link" rel="shortcut icon" href="https://ssl.gstatic.com/colaboratory-static/common/d2b36f7a85e252e353da1bab452cead0/img%2Ffavicon.ico"><meta name="google-site-verification" content="wRgpUU3mIRZPD1GORBPNonaotM72092B_DsqQFWNa4s"><meta name="google-site-verification" content="f5qdvL6RAXlBgHezvCLpPtvx2wU5ZgIzzPULroprlnA"><meta name="google-site-verification" content="-wL8iYJTC7X0zF9qBNDQUAd-P1ZkQUK-OhSgv4Wkf1M"><meta name="google-site-verification" content="o-EECwEDQeUpZv0jTmoGfCDX7dUI8Kul4ESepXmDnO0"><meta name="google-site-verification" content="sNOroO9gXrazN-oMODOm0Bs0_vw1R5QwZ-BfrSHn8Io"><meta name="google-site-verification" content="K1UdZBHJXQYnJGXIK1KuutmVy6dn3vG2sEyV9D1C6dM"><meta name="google-site-verification" content="wdGthzzfu0IjM3qpFqTuQL9poAQZAvAaFKyuzetLpIM"><meta name="google-site-verification" content="qZJ77guHGO0TObHUBRYVdXQlIhXBBuz8dahJVmIlzCo"><meta name="google-site-verification" content="7ahoeOOKT2ZR781GZ5xK4L9t7yO1ZOHc-gaoUALEYgw"><meta name="google-site-verification" content="PHgaSKwdxZELS21aixtLhfpvaHtKen9pnVJ25EI35Zs"><meta name="google-site-verification" content="qylwTsZSLomIg1JrChne7cPcXmtC2Xh_5ZxlJWLlAH0"><meta name="google-site-verification" content="BQfukMqFy1nu2Q2gjGbNTDA8MJ_Y4L2brCYA1h6ewkY"><meta name="google-site-verification" content="Ozey1ptWUQW13_lCEhpPMOcmRBLqdyB3WEL-TJUjskU"><meta name="google-site-verification" content="rF5iXzWe9KZXJes1dQNhOUkS4_z_e97IrsVoCx2trek"><meta name="google-site-verification" content="z-WR3zzv8XZ5FFfBLLDbyTiN35UXm01nWUS2Uej5pwg"><meta name="google-site-verification" content="vsXaeD7OD0m3iK8Z54fG8TYGC5eT17KeL_xMHtdiyWI"><meta name="google-site-verification" content="cpB5oulaGwqSxsg4E-9q2MVbK87iE9NAUUVxdveucPw"><meta name="google-site-verification" content="8P-D5fVWgUIhw8X2BxnKJbf5itK0zxX0QhoBjbJFTe8"><meta name="google-site-verification" content="88fgsZDoVRBuRnDPMIEjcHCxsEXzODOqEsJoqtvQsDc"><meta name="google-site-verification" content="sMarhZgb4va_L_7UTdMR43gDZ2gVqc_5GHN4REpQPGY"><meta name="google-site-verification" content="26aKGBCw3XblB5Ou01UhxY5WDtMqHjoTm6P-lvF6AqE"><meta name="google-site-verification" content="DGionF7db9g0dOgeBXwOAN2tmCzWBdo5yOdc_-5UcuE"><meta name="google-site-verification" content="Q9LlidR0toR7UtSyVO23xNeaqJmRp8I6r4ghBQTtntU"><meta name="google-site-verification" content="rQawcZaTEK_UrDG30cz_7nVKOVvBass61QEes0Tm04g"><meta name="google-site-verification" content="8L3ghjzKIj241AYAmEygniTe604tsXFkIrb1v-DBtGo"><meta name="google-site-verification" content="Gz6pcDgVFH_aS-aPTYW21rSHcWl0LAgKCWJtdXPVTNo"><meta name="google-site-verification" content="KiunYPvrY5x8umvAWcjhwPrB677xCar2LeT_8yaVrDg"><meta name="google-site-verification" content="b6bOMRzMVX2bJABYDGBPtpGcB_AUZ-o2SOTggQXErkg"><meta name="google-site-verification" content="v2MQvJk6wTiBarKTbe1mdivqYCVtw-5m6w0HDzV5X_4"><meta name="google-site-verification" content="-N1hdkiHJQ6kwJALkHVh2ZzV2fFNER0schZl2AU6zvc"><meta name="google-site-verification" content="dsf7CRwnDkQv6Ot4gXTXx8_nVf8A9cb5o30hZ7cGAIo"><meta property="og:type" content="article"><meta property="og:image" content="https://colab.research.google.com/img/colab_favicon_256px.png"><meta property="og:title" content="Google Colab"><meta http-equiv="origin-trial" content="Agk/t4Bt05W7j6CHeqXH9+6ccDayrBsQPqCLDPSElphe/7cUobayuvN0A3huajTbJenIjp6qibLteh6e0IEWrgIAAAB4eyJvcmlnaW4iOiJodHRwczovL2NvbGFiLnJlc2VhcmNoLmdvb2dsZS5jb206NDQzIiwiZmVhdHVyZSI6IkRpc2FibGVUaGlyZFBhcnR5U3RvcmFnZVBhcnRpdGlvbmluZzIiLCJleHBpcnkiOjE3NDIzNDIzOTl9"><script nonce="">window.performance.mark('head_end'); window.performance.measure('head', 'head_start', 'head_end');</script><script async="" src="./IAS_files/lazy.min.js.download" nonce=""></script><style id="inert-style">
[inert] {
  pointer-events: none;
  cursor: default;
}

[inert], [inert] * {
  user-select: none;
  -webkit-user-select: none;
  -moz-user-select: none;
  -ms-user-select: none;
}
</style><script async="" type="text/javascript" charset="UTF-8" src="./IAS_files/rs=AA2YrTuTBR3s6b51Gqshrmn-C4xjmRsD3w" nonce=""></script><link type="text/css" href="./IAS_files/rs=AA2YrTu2DxB2kN0cQ82G6LVzDDDtDSuJSg" rel="stylesheet"><style type="text/css">.MathJax_Hover_Frame {border-radius: .25em; -webkit-border-radius: .25em; -moz-border-radius: .25em; -khtml-border-radius: .25em; box-shadow: 0px 0px 15px #83A; -webkit-box-shadow: 0px 0px 15px #83A; -moz-box-shadow: 0px 0px 15px #83A; -khtml-box-shadow: 0px 0px 15px #83A; border: 1px solid #A6D ! important; display: inline-block; position: absolute}
.MathJax_Menu_Button .MathJax_Hover_Arrow {position: absolute; cursor: pointer; display: inline-block; border: 2px solid #AAA; border-radius: 4px; -webkit-border-radius: 4px; -moz-border-radius: 4px; -khtml-border-radius: 4px; font-family: 'Courier New',Courier; font-size: 9px; color: #F0F0F0}
.MathJax_Menu_Button .MathJax_Hover_Arrow span {display: block; background-color: #AAA; border: 1px solid; border-radius: 3px; line-height: 0; padding: 4px}
.MathJax_Hover_Arrow:hover {color: white!important; border: 2px solid #CCC!important}
.MathJax_Hover_Arrow:hover span {background-color: #CCC!important}
</style><style type="text/css">#MathJax_About {position: fixed; left: 50%; width: auto; text-align: center; border: 3px outset; padding: 1em 2em; background-color: #DDDDDD; color: black; cursor: default; font-family: message-box; font-size: 120%; font-style: normal; text-indent: 0; text-transform: none; line-height: normal; letter-spacing: normal; word-spacing: normal; word-wrap: normal; white-space: nowrap; float: none; z-index: 201; border-radius: 15px; -webkit-border-radius: 15px; -moz-border-radius: 15px; -khtml-border-radius: 15px; box-shadow: 0px 10px 20px #808080; -webkit-box-shadow: 0px 10px 20px #808080; -moz-box-shadow: 0px 10px 20px #808080; -khtml-box-shadow: 0px 10px 20px #808080; filter: progid:DXImageTransform.Microsoft.dropshadow(OffX=2, OffY=2, Color='gray', Positive='true')}
#MathJax_About.MathJax_MousePost {outline: none}
.MathJax_Menu {position: absolute; background-color: white; color: black; width: auto; padding: 2px; border: 1px solid #CCCCCC; margin: 0; cursor: default; font: menu; text-align: left; text-indent: 0; text-transform: none; line-height: normal; letter-spacing: normal; word-spacing: normal; word-wrap: normal; white-space: nowrap; float: none; z-index: 201; box-shadow: 0px 10px 20px #808080; -webkit-box-shadow: 0px 10px 20px #808080; -moz-box-shadow: 0px 10px 20px #808080; -khtml-box-shadow: 0px 10px 20px #808080; filter: progid:DXImageTransform.Microsoft.dropshadow(OffX=2, OffY=2, Color='gray', Positive='true')}
.MathJax_MenuItem {padding: 2px 2em; background: transparent}
.MathJax_MenuArrow {position: absolute; right: .5em; padding-top: .25em; color: #666666; font-size: .75em}
.MathJax_MenuActive .MathJax_MenuArrow {color: white}
.MathJax_MenuArrow.RTL {left: .5em; right: auto}
.MathJax_MenuCheck {position: absolute; left: .7em}
.MathJax_MenuCheck.RTL {right: .7em; left: auto}
.MathJax_MenuRadioCheck {position: absolute; left: 1em}
.MathJax_MenuRadioCheck.RTL {right: 1em; left: auto}
.MathJax_MenuLabel {padding: 2px 2em 4px 1.33em; font-style: italic}
.MathJax_MenuRule {border-top: 1px solid #CCCCCC; margin: 4px 1px 0px}
.MathJax_MenuDisabled {color: GrayText}
.MathJax_MenuActive {background-color: Highlight; color: HighlightText}
.MathJax_MenuDisabled:focus, .MathJax_MenuLabel:focus {background-color: #E8E8E8}
.MathJax_ContextMenu:focus {outline: none}
.MathJax_ContextMenu .MathJax_MenuItem:focus {outline: none}
#MathJax_AboutClose {top: .2em; right: .2em}
.MathJax_Menu .MathJax_MenuClose {top: -10px; left: -10px}
.MathJax_MenuClose {position: absolute; cursor: pointer; display: inline-block; border: 2px solid #AAA; border-radius: 18px; -webkit-border-radius: 18px; -moz-border-radius: 18px; -khtml-border-radius: 18px; font-family: 'Courier New',Courier; font-size: 24px; color: #F0F0F0}
.MathJax_MenuClose span {display: block; background-color: #AAA; border: 1.5px solid; border-radius: 18px; -webkit-border-radius: 18px; -moz-border-radius: 18px; -khtml-border-radius: 18px; line-height: 0; padding: 8px 0 6px}
.MathJax_MenuClose:hover {color: white!important; border: 2px solid #CCC!important}
.MathJax_MenuClose:hover span {background-color: #CCC!important}
.MathJax_MenuClose:hover:focus {outline: none}
</style><style type="text/css">.MJX_Assistive_MathML {position: absolute!important; top: 0; left: 0; clip: rect(1px, 1px, 1px, 1px); padding: 1px 0 0 0!important; border: 0!important; height: 1px!important; width: 1px!important; overflow: hidden!important; display: block!important; -webkit-touch-callout: none; -webkit-user-select: none; -khtml-user-select: none; -moz-user-select: none; -ms-user-select: none; user-select: none}
.MJX_Assistive_MathML.MJX_Assistive_MathML_Block {width: 100%!important}
</style><style type="text/css">#MathJax_Zoom {position: absolute; background-color: #F0F0F0; overflow: auto; display: block; z-index: 301; padding: .5em; border: 1px solid black; margin: 0; font-weight: normal; font-style: normal; text-align: left; text-indent: 0; text-transform: none; line-height: normal; letter-spacing: normal; word-spacing: normal; word-wrap: normal; white-space: nowrap; float: none; -webkit-box-sizing: content-box; -moz-box-sizing: content-box; box-sizing: content-box; box-shadow: 5px 5px 15px #AAAAAA; -webkit-box-shadow: 5px 5px 15px #AAAAAA; -moz-box-shadow: 5px 5px 15px #AAAAAA; -khtml-box-shadow: 5px 5px 15px #AAAAAA; filter: progid:DXImageTransform.Microsoft.dropshadow(OffX=2, OffY=2, Color='gray', Positive='true')}
#MathJax_ZoomOverlay {position: absolute; left: 0; top: 0; z-index: 300; display: inline-block; width: 100%; height: 100%; border: 0; padding: 0; margin: 0; background-color: white; opacity: 0; filter: alpha(opacity=0)}
#MathJax_ZoomFrame {position: relative; display: inline-block; height: 0; width: 0}
#MathJax_ZoomEventTrap {position: absolute; left: 0; top: 0; z-index: 302; display: inline-block; border: 0; padding: 0; margin: 0; background-color: white; opacity: 0; filter: alpha(opacity=0)}
</style><style type="text/css">.MathJax_Preview {color: #888}
#MathJax_Message {position: fixed; left: 1em; bottom: 1.5em; background-color: #E6E6E6; border: 1px solid #959595; margin: 0px; padding: 2px 8px; z-index: 102; color: black; font-size: 80%; width: auto; white-space: nowrap}
#MathJax_MSIE_Frame {position: absolute; top: 0; left: 0; width: 0px; z-index: 101; border: 0px; margin: 0px; padding: 0px}
.MathJax_Error {color: #CC0000; font-style: italic}
</style><style type="text/css">.MJXp-script {font-size: .8em}
.MJXp-right {-webkit-transform-origin: right; -moz-transform-origin: right; -ms-transform-origin: right; -o-transform-origin: right; transform-origin: right}
.MJXp-bold {font-weight: bold}
.MJXp-italic {font-style: italic}
.MJXp-scr {font-family: MathJax_Script,'Times New Roman',Times,STIXGeneral,serif}
.MJXp-frak {font-family: MathJax_Fraktur,'Times New Roman',Times,STIXGeneral,serif}
.MJXp-sf {font-family: MathJax_SansSerif,'Times New Roman',Times,STIXGeneral,serif}
.MJXp-cal {font-family: MathJax_Caligraphic,'Times New Roman',Times,STIXGeneral,serif}
.MJXp-mono {font-family: MathJax_Typewriter,'Times New Roman',Times,STIXGeneral,serif}
.MJXp-largeop {font-size: 150%}
.MJXp-largeop.MJXp-int {vertical-align: -.2em}
.MJXp-math {display: inline-block; line-height: 1.2; text-indent: 0; font-family: 'Times New Roman',Times,STIXGeneral,serif; white-space: nowrap; border-collapse: collapse}
.MJXp-display {display: block; text-align: center; margin: 1em 0}
.MJXp-math span {display: inline-block}
.MJXp-box {display: block!important; text-align: center}
.MJXp-box:after {content: " "}
.MJXp-rule {display: block!important; margin-top: .1em}
.MJXp-char {display: block!important}
.MJXp-mo {margin: 0 .15em}
.MJXp-mfrac {margin: 0 .125em; vertical-align: .25em}
.MJXp-denom {display: inline-table!important; width: 100%}
.MJXp-denom > * {display: table-row!important}
.MJXp-surd {vertical-align: top}
.MJXp-surd > * {display: block!important}
.MJXp-script-box > *  {display: table!important; height: 50%}
.MJXp-script-box > * > * {display: table-cell!important; vertical-align: top}
.MJXp-script-box > *:last-child > * {vertical-align: bottom}
.MJXp-script-box > * > * > * {display: block!important}
.MJXp-mphantom {visibility: hidden}
.MJXp-munderover, .MJXp-munder {display: inline-table!important}
.MJXp-over {display: inline-block!important; text-align: center}
.MJXp-over > * {display: block!important}
.MJXp-munderover > *, .MJXp-munder > * {display: table-row!important}
.MJXp-mtable {vertical-align: .25em; margin: 0 .125em}
.MJXp-mtable > * {display: inline-table!important; vertical-align: middle}
.MJXp-mtr {display: table-row!important}
.MJXp-mtd {display: table-cell!important; text-align: center; padding: .5em 0 0 .5em}
.MJXp-mtr > .MJXp-mtd:first-child {padding-left: 0}
.MJXp-mtr:first-child > .MJXp-mtd {padding-top: 0}
.MJXp-mlabeledtr {display: table-row!important}
.MJXp-mlabeledtr > .MJXp-mtd:first-child {padding-left: 0}
.MJXp-mlabeledtr:first-child > .MJXp-mtd {padding-top: 0}
.MJXp-merror {background-color: #FFFF88; color: #CC0000; border: 1px solid #CC0000; padding: 1px 3px; font-style: normal; font-size: 90%}
.MJXp-scale0 {-webkit-transform: scaleX(.0); -moz-transform: scaleX(.0); -ms-transform: scaleX(.0); -o-transform: scaleX(.0); transform: scaleX(.0)}
.MJXp-scale1 {-webkit-transform: scaleX(.1); -moz-transform: scaleX(.1); -ms-transform: scaleX(.1); -o-transform: scaleX(.1); transform: scaleX(.1)}
.MJXp-scale2 {-webkit-transform: scaleX(.2); -moz-transform: scaleX(.2); -ms-transform: scaleX(.2); -o-transform: scaleX(.2); transform: scaleX(.2)}
.MJXp-scale3 {-webkit-transform: scaleX(.3); -moz-transform: scaleX(.3); -ms-transform: scaleX(.3); -o-transform: scaleX(.3); transform: scaleX(.3)}
.MJXp-scale4 {-webkit-transform: scaleX(.4); -moz-transform: scaleX(.4); -ms-transform: scaleX(.4); -o-transform: scaleX(.4); transform: scaleX(.4)}
.MJXp-scale5 {-webkit-transform: scaleX(.5); -moz-transform: scaleX(.5); -ms-transform: scaleX(.5); -o-transform: scaleX(.5); transform: scaleX(.5)}
.MJXp-scale6 {-webkit-transform: scaleX(.6); -moz-transform: scaleX(.6); -ms-transform: scaleX(.6); -o-transform: scaleX(.6); transform: scaleX(.6)}
.MJXp-scale7 {-webkit-transform: scaleX(.7); -moz-transform: scaleX(.7); -ms-transform: scaleX(.7); -o-transform: scaleX(.7); transform: scaleX(.7)}
.MJXp-scale8 {-webkit-transform: scaleX(.8); -moz-transform: scaleX(.8); -ms-transform: scaleX(.8); -o-transform: scaleX(.8); transform: scaleX(.8)}
.MJXp-scale9 {-webkit-transform: scaleX(.9); -moz-transform: scaleX(.9); -ms-transform: scaleX(.9); -o-transform: scaleX(.9); transform: scaleX(.9)}
.MathJax_PHTML .noError {vertical-align: ; font-size: 90%; text-align: left; color: black; padding: 1px 3px; border: 1px solid}
</style><style type="text/css">.MathJax_Display {text-align: center; margin: 0; position: relative; display: block!important; text-indent: 0; max-width: none; max-height: none; min-width: 0; min-height: 0; width: 100%}
.MathJax .merror {background-color: #FFFF88; color: #CC0000; border: 1px solid #CC0000; padding: 1px 3px; font-style: normal; font-size: 90%}
.MathJax .MJX-monospace {font-family: monospace}
.MathJax .MJX-sans-serif {font-family: sans-serif}
#MathJax_Tooltip {background-color: InfoBackground; color: InfoText; border: 1px solid black; box-shadow: 2px 2px 5px #AAAAAA; -webkit-box-shadow: 2px 2px 5px #AAAAAA; -moz-box-shadow: 2px 2px 5px #AAAAAA; -khtml-box-shadow: 2px 2px 5px #AAAAAA; filter: progid:DXImageTransform.Microsoft.dropshadow(OffX=2, OffY=2, Color='gray', Positive='true'); padding: 3px 4px; z-index: 401; position: absolute; left: 0; top: 0; width: auto; height: auto; display: none}
.MathJax {display: inline; font-style: normal; font-weight: normal; line-height: normal; font-size: 100%; font-size-adjust: none; text-indent: 0; text-align: left; text-transform: none; letter-spacing: normal; word-spacing: normal; word-wrap: normal; white-space: nowrap; float: none; direction: ltr; max-width: none; max-height: none; min-width: 0; min-height: 0; border: 0; padding: 0; margin: 0}
.MathJax:focus, body :focus .MathJax {display: inline-table}
.MathJax.MathJax_FullWidth {text-align: center; display: table-cell!important; width: 10000em!important}
.MathJax img, .MathJax nobr, .MathJax a {border: 0; padding: 0; margin: 0; max-width: none; max-height: none; min-width: 0; min-height: 0; vertical-align: 0; line-height: normal; text-decoration: none}
img.MathJax_strut {border: 0!important; padding: 0!important; margin: 0!important; vertical-align: 0!important}
.MathJax span {display: inline; position: static; border: 0; padding: 0; margin: 0; vertical-align: 0; line-height: normal; text-decoration: none; box-sizing: content-box}
.MathJax nobr {white-space: nowrap!important}
.MathJax img {display: inline!important; float: none!important}
.MathJax * {transition: none; -webkit-transition: none; -moz-transition: none; -ms-transition: none; -o-transition: none}
.MathJax_Processing {visibility: hidden; position: fixed; width: 0; height: 0; overflow: hidden}
.MathJax_Processed {display: none!important}
.MathJax_test {font-style: normal; font-weight: normal; font-size: 100%; font-size-adjust: none; text-indent: 0; text-transform: none; letter-spacing: normal; word-spacing: normal; overflow: hidden; height: 1px}
.MathJax_test.mjx-test-display {display: table!important}
.MathJax_test.mjx-test-inline {display: inline!important; margin-right: -1px}
.MathJax_test.mjx-test-default {display: block!important; clear: both}
.MathJax_ex_box {display: inline-block!important; position: absolute; overflow: hidden; min-height: 0; max-height: none; padding: 0; border: 0; margin: 0; width: 1px; height: 60ex}
.MathJax_em_box {display: inline-block!important; position: absolute; overflow: hidden; min-height: 0; max-height: none; padding: 0; border: 0; margin: 0; width: 1px; height: 60em}
.mjx-test-inline .MathJax_left_box {display: inline-block; width: 0; float: left}
.mjx-test-inline .MathJax_right_box {display: inline-block; width: 0; float: right}
.mjx-test-display .MathJax_right_box {display: table-cell!important; width: 10000em!important; min-width: 0; max-width: none; padding: 0; border: 0; margin: 0}
.MathJax .MathJax_HitBox {cursor: text; background: white; opacity: 0; filter: alpha(opacity=0)}
.MathJax .MathJax_HitBox * {filter: none; opacity: 1; background: transparent}
#MathJax_Tooltip * {filter: none; opacity: 1; background: transparent}
@font-face {font-family: MathJax_Main; src: url('https://colab.research.google.com/static/mathjax/fonts/HTML-CSS/TeX/woff/MathJax_Main-Regular.woff?V=2.7.5') format('woff'), url('https://colab.research.google.com/static/mathjax/fonts/HTML-CSS/TeX/otf/MathJax_Main-Regular.otf?V=2.7.5') format('opentype')}
@font-face {font-family: MathJax_Main-bold; src: url('https://colab.research.google.com/static/mathjax/fonts/HTML-CSS/TeX/woff/MathJax_Main-Bold.woff?V=2.7.5') format('woff'), url('https://colab.research.google.com/static/mathjax/fonts/HTML-CSS/TeX/otf/MathJax_Main-Bold.otf?V=2.7.5') format('opentype')}
@font-face {font-family: MathJax_Main-italic; src: url('https://colab.research.google.com/static/mathjax/fonts/HTML-CSS/TeX/woff/MathJax_Main-Italic.woff?V=2.7.5') format('woff'), url('https://colab.research.google.com/static/mathjax/fonts/HTML-CSS/TeX/otf/MathJax_Main-Italic.otf?V=2.7.5') format('opentype')}
@font-face {font-family: MathJax_Math-italic; src: url('https://colab.research.google.com/static/mathjax/fonts/HTML-CSS/TeX/woff/MathJax_Math-Italic.woff?V=2.7.5') format('woff'), url('https://colab.research.google.com/static/mathjax/fonts/HTML-CSS/TeX/otf/MathJax_Math-Italic.otf?V=2.7.5') format('opentype')}
@font-face {font-family: MathJax_Caligraphic; src: url('https://colab.research.google.com/static/mathjax/fonts/HTML-CSS/TeX/woff/MathJax_Caligraphic-Regular.woff?V=2.7.5') format('woff'), url('https://colab.research.google.com/static/mathjax/fonts/HTML-CSS/TeX/otf/MathJax_Caligraphic-Regular.otf?V=2.7.5') format('opentype')}
@font-face {font-family: MathJax_Size1; src: url('https://colab.research.google.com/static/mathjax/fonts/HTML-CSS/TeX/woff/MathJax_Size1-Regular.woff?V=2.7.5') format('woff'), url('https://colab.research.google.com/static/mathjax/fonts/HTML-CSS/TeX/otf/MathJax_Size1-Regular.otf?V=2.7.5') format('opentype')}
@font-face {font-family: MathJax_Size2; src: url('https://colab.research.google.com/static/mathjax/fonts/HTML-CSS/TeX/woff/MathJax_Size2-Regular.woff?V=2.7.5') format('woff'), url('https://colab.research.google.com/static/mathjax/fonts/HTML-CSS/TeX/otf/MathJax_Size2-Regular.otf?V=2.7.5') format('opentype')}
@font-face {font-family: MathJax_Size3; src: url('https://colab.research.google.com/static/mathjax/fonts/HTML-CSS/TeX/woff/MathJax_Size3-Regular.woff?V=2.7.5') format('woff'), url('https://colab.research.google.com/static/mathjax/fonts/HTML-CSS/TeX/otf/MathJax_Size3-Regular.otf?V=2.7.5') format('opentype')}
@font-face {font-family: MathJax_Size4; src: url('https://colab.research.google.com/static/mathjax/fonts/HTML-CSS/TeX/woff/MathJax_Size4-Regular.woff?V=2.7.5') format('woff'), url('https://colab.research.google.com/static/mathjax/fonts/HTML-CSS/TeX/otf/MathJax_Size4-Regular.otf?V=2.7.5') format('opentype')}
.MathJax .noError {vertical-align: ; font-size: 90%; text-align: left; color: black; padding: 1px 3px; border: 1px solid}
</style><script async="async" type="text/javascript" src="./IAS_files/editor.main.js.download"></script><link rel="stylesheet" type="text/css" data-name="vs/editor/editor.main" href="./IAS_files/editor.main.css"><script async="async" type="text/javascript" src="./IAS_files/editor.main.nls.js.download"></script><script src="./IAS_files/api.js.download" nonce=""></script><script src="./IAS_files/api(1).js.download" nonce=""></script><style type="text/css" media="screen" class="monaco-colors">.codicon-add:before { content: '\ea60'; }
.codicon-plus:before { content: '\ea60'; }
.codicon-gist-new:before { content: '\ea60'; }
.codicon-repo-create:before { content: '\ea60'; }
.codicon-lightbulb:before { content: '\ea61'; }
.codicon-light-bulb:before { content: '\ea61'; }
.codicon-repo:before { content: '\ea62'; }
.codicon-repo-delete:before { content: '\ea62'; }
.codicon-gist-fork:before { content: '\ea63'; }
.codicon-repo-forked:before { content: '\ea63'; }
.codicon-git-pull-request:before { content: '\ea64'; }
.codicon-git-pull-request-abandoned:before { content: '\ea64'; }
.codicon-record-keys:before { content: '\ea65'; }
.codicon-keyboard:before { content: '\ea65'; }
.codicon-tag:before { content: '\ea66'; }
.codicon-tag-add:before { content: '\ea66'; }
.codicon-tag-remove:before { content: '\ea66'; }
.codicon-person:before { content: '\ea67'; }
.codicon-person-follow:before { content: '\ea67'; }
.codicon-person-outline:before { content: '\ea67'; }
.codicon-person-filled:before { content: '\ea67'; }
.codicon-git-branch:before { content: '\ea68'; }
.codicon-git-branch-create:before { content: '\ea68'; }
.codicon-git-branch-delete:before { content: '\ea68'; }
.codicon-source-control:before { content: '\ea68'; }
.codicon-mirror:before { content: '\ea69'; }
.codicon-mirror-public:before { content: '\ea69'; }
.codicon-star:before { content: '\ea6a'; }
.codicon-star-add:before { content: '\ea6a'; }
.codicon-star-delete:before { content: '\ea6a'; }
.codicon-star-empty:before { content: '\ea6a'; }
.codicon-comment:before { content: '\ea6b'; }
.codicon-comment-add:before { content: '\ea6b'; }
.codicon-alert:before { content: '\ea6c'; }
.codicon-warning:before { content: '\ea6c'; }
.codicon-search:before { content: '\ea6d'; }
.codicon-search-save:before { content: '\ea6d'; }
.codicon-log-out:before { content: '\ea6e'; }
.codicon-sign-out:before { content: '\ea6e'; }
.codicon-log-in:before { content: '\ea6f'; }
.codicon-sign-in:before { content: '\ea6f'; }
.codicon-eye:before { content: '\ea70'; }
.codicon-eye-unwatch:before { content: '\ea70'; }
.codicon-eye-watch:before { content: '\ea70'; }
.codicon-circle-filled:before { content: '\ea71'; }
.codicon-primitive-dot:before { content: '\ea71'; }
.codicon-close-dirty:before { content: '\ea71'; }
.codicon-debug-breakpoint:before { content: '\ea71'; }
.codicon-debug-breakpoint-disabled:before { content: '\ea71'; }
.codicon-debug-hint:before { content: '\ea71'; }
.codicon-primitive-square:before { content: '\ea72'; }
.codicon-edit:before { content: '\ea73'; }
.codicon-pencil:before { content: '\ea73'; }
.codicon-info:before { content: '\ea74'; }
.codicon-issue-opened:before { content: '\ea74'; }
.codicon-gist-private:before { content: '\ea75'; }
.codicon-git-fork-private:before { content: '\ea75'; }
.codicon-lock:before { content: '\ea75'; }
.codicon-mirror-private:before { content: '\ea75'; }
.codicon-close:before { content: '\ea76'; }
.codicon-remove-close:before { content: '\ea76'; }
.codicon-x:before { content: '\ea76'; }
.codicon-repo-sync:before { content: '\ea77'; }
.codicon-sync:before { content: '\ea77'; }
.codicon-clone:before { content: '\ea78'; }
.codicon-desktop-download:before { content: '\ea78'; }
.codicon-beaker:before { content: '\ea79'; }
.codicon-microscope:before { content: '\ea79'; }
.codicon-vm:before { content: '\ea7a'; }
.codicon-device-desktop:before { content: '\ea7a'; }
.codicon-file:before { content: '\ea7b'; }
.codicon-file-text:before { content: '\ea7b'; }
.codicon-more:before { content: '\ea7c'; }
.codicon-ellipsis:before { content: '\ea7c'; }
.codicon-kebab-horizontal:before { content: '\ea7c'; }
.codicon-mail-reply:before { content: '\ea7d'; }
.codicon-reply:before { content: '\ea7d'; }
.codicon-organization:before { content: '\ea7e'; }
.codicon-organization-filled:before { content: '\ea7e'; }
.codicon-organization-outline:before { content: '\ea7e'; }
.codicon-new-file:before { content: '\ea7f'; }
.codicon-file-add:before { content: '\ea7f'; }
.codicon-new-folder:before { content: '\ea80'; }
.codicon-file-directory-create:before { content: '\ea80'; }
.codicon-trash:before { content: '\ea81'; }
.codicon-trashcan:before { content: '\ea81'; }
.codicon-history:before { content: '\ea82'; }
.codicon-clock:before { content: '\ea82'; }
.codicon-folder:before { content: '\ea83'; }
.codicon-file-directory:before { content: '\ea83'; }
.codicon-symbol-folder:before { content: '\ea83'; }
.codicon-logo-github:before { content: '\ea84'; }
.codicon-mark-github:before { content: '\ea84'; }
.codicon-github:before { content: '\ea84'; }
.codicon-terminal:before { content: '\ea85'; }
.codicon-console:before { content: '\ea85'; }
.codicon-repl:before { content: '\ea85'; }
.codicon-zap:before { content: '\ea86'; }
.codicon-symbol-event:before { content: '\ea86'; }
.codicon-error:before { content: '\ea87'; }
.codicon-stop:before { content: '\ea87'; }
.codicon-variable:before { content: '\ea88'; }
.codicon-symbol-variable:before { content: '\ea88'; }
.codicon-array:before { content: '\ea8a'; }
.codicon-symbol-array:before { content: '\ea8a'; }
.codicon-symbol-module:before { content: '\ea8b'; }
.codicon-symbol-package:before { content: '\ea8b'; }
.codicon-symbol-namespace:before { content: '\ea8b'; }
.codicon-symbol-object:before { content: '\ea8b'; }
.codicon-symbol-method:before { content: '\ea8c'; }
.codicon-symbol-function:before { content: '\ea8c'; }
.codicon-symbol-constructor:before { content: '\ea8c'; }
.codicon-symbol-boolean:before { content: '\ea8f'; }
.codicon-symbol-null:before { content: '\ea8f'; }
.codicon-symbol-numeric:before { content: '\ea90'; }
.codicon-symbol-number:before { content: '\ea90'; }
.codicon-symbol-structure:before { content: '\ea91'; }
.codicon-symbol-struct:before { content: '\ea91'; }
.codicon-symbol-parameter:before { content: '\ea92'; }
.codicon-symbol-type-parameter:before { content: '\ea92'; }
.codicon-symbol-key:before { content: '\ea93'; }
.codicon-symbol-text:before { content: '\ea93'; }
.codicon-symbol-reference:before { content: '\ea94'; }
.codicon-go-to-file:before { content: '\ea94'; }
.codicon-symbol-enum:before { content: '\ea95'; }
.codicon-symbol-value:before { content: '\ea95'; }
.codicon-symbol-ruler:before { content: '\ea96'; }
.codicon-symbol-unit:before { content: '\ea96'; }
.codicon-activate-breakpoints:before { content: '\ea97'; }
.codicon-archive:before { content: '\ea98'; }
.codicon-arrow-both:before { content: '\ea99'; }
.codicon-arrow-down:before { content: '\ea9a'; }
.codicon-arrow-left:before { content: '\ea9b'; }
.codicon-arrow-right:before { content: '\ea9c'; }
.codicon-arrow-small-down:before { content: '\ea9d'; }
.codicon-arrow-small-left:before { content: '\ea9e'; }
.codicon-arrow-small-right:before { content: '\ea9f'; }
.codicon-arrow-small-up:before { content: '\eaa0'; }
.codicon-arrow-up:before { content: '\eaa1'; }
.codicon-bell:before { content: '\eaa2'; }
.codicon-bold:before { content: '\eaa3'; }
.codicon-book:before { content: '\eaa4'; }
.codicon-bookmark:before { content: '\eaa5'; }
.codicon-debug-breakpoint-conditional-unverified:before { content: '\eaa6'; }
.codicon-debug-breakpoint-conditional:before { content: '\eaa7'; }
.codicon-debug-breakpoint-conditional-disabled:before { content: '\eaa7'; }
.codicon-debug-breakpoint-data-unverified:before { content: '\eaa8'; }
.codicon-debug-breakpoint-data:before { content: '\eaa9'; }
.codicon-debug-breakpoint-data-disabled:before { content: '\eaa9'; }
.codicon-debug-breakpoint-log-unverified:before { content: '\eaaa'; }
.codicon-debug-breakpoint-log:before { content: '\eaab'; }
.codicon-debug-breakpoint-log-disabled:before { content: '\eaab'; }
.codicon-briefcase:before { content: '\eaac'; }
.codicon-broadcast:before { content: '\eaad'; }
.codicon-browser:before { content: '\eaae'; }
.codicon-bug:before { content: '\eaaf'; }
.codicon-calendar:before { content: '\eab0'; }
.codicon-case-sensitive:before { content: '\eab1'; }
.codicon-check:before { content: '\eab2'; }
.codicon-checklist:before { content: '\eab3'; }
.codicon-chevron-down:before { content: '\eab4'; }
.codicon-drop-down-button:before { content: '\eab4'; }
.codicon-chevron-left:before { content: '\eab5'; }
.codicon-chevron-right:before { content: '\eab6'; }
.codicon-chevron-up:before { content: '\eab7'; }
.codicon-chrome-close:before { content: '\eab8'; }
.codicon-chrome-maximize:before { content: '\eab9'; }
.codicon-chrome-minimize:before { content: '\eaba'; }
.codicon-chrome-restore:before { content: '\eabb'; }
.codicon-circle:before { content: '\eabc'; }
.codicon-circle-outline:before { content: '\eabc'; }
.codicon-debug-breakpoint-unverified:before { content: '\eabc'; }
.codicon-circle-slash:before { content: '\eabd'; }
.codicon-circuit-board:before { content: '\eabe'; }
.codicon-clear-all:before { content: '\eabf'; }
.codicon-clippy:before { content: '\eac0'; }
.codicon-close-all:before { content: '\eac1'; }
.codicon-cloud-download:before { content: '\eac2'; }
.codicon-cloud-upload:before { content: '\eac3'; }
.codicon-code:before { content: '\eac4'; }
.codicon-collapse-all:before { content: '\eac5'; }
.codicon-color-mode:before { content: '\eac6'; }
.codicon-comment-discussion:before { content: '\eac7'; }
.codicon-compare-changes:before { content: '\eafd'; }
.codicon-credit-card:before { content: '\eac9'; }
.codicon-dash:before { content: '\eacc'; }
.codicon-dashboard:before { content: '\eacd'; }
.codicon-database:before { content: '\eace'; }
.codicon-debug-continue:before { content: '\eacf'; }
.codicon-debug-disconnect:before { content: '\ead0'; }
.codicon-debug-pause:before { content: '\ead1'; }
.codicon-debug-restart:before { content: '\ead2'; }
.codicon-debug-start:before { content: '\ead3'; }
.codicon-debug-step-into:before { content: '\ead4'; }
.codicon-debug-step-out:before { content: '\ead5'; }
.codicon-debug-step-over:before { content: '\ead6'; }
.codicon-debug-stop:before { content: '\ead7'; }
.codicon-debug:before { content: '\ead8'; }
.codicon-device-camera-video:before { content: '\ead9'; }
.codicon-device-camera:before { content: '\eada'; }
.codicon-device-mobile:before { content: '\eadb'; }
.codicon-diff-added:before { content: '\eadc'; }
.codicon-diff-ignored:before { content: '\eadd'; }
.codicon-diff-modified:before { content: '\eade'; }
.codicon-diff-removed:before { content: '\eadf'; }
.codicon-diff-renamed:before { content: '\eae0'; }
.codicon-diff:before { content: '\eae1'; }
.codicon-discard:before { content: '\eae2'; }
.codicon-editor-layout:before { content: '\eae3'; }
.codicon-empty-window:before { content: '\eae4'; }
.codicon-exclude:before { content: '\eae5'; }
.codicon-extensions:before { content: '\eae6'; }
.codicon-eye-closed:before { content: '\eae7'; }
.codicon-file-binary:before { content: '\eae8'; }
.codicon-file-code:before { content: '\eae9'; }
.codicon-file-media:before { content: '\eaea'; }
.codicon-file-pdf:before { content: '\eaeb'; }
.codicon-file-submodule:before { content: '\eaec'; }
.codicon-file-symlink-directory:before { content: '\eaed'; }
.codicon-file-symlink-file:before { content: '\eaee'; }
.codicon-file-zip:before { content: '\eaef'; }
.codicon-files:before { content: '\eaf0'; }
.codicon-filter:before { content: '\eaf1'; }
.codicon-flame:before { content: '\eaf2'; }
.codicon-fold-down:before { content: '\eaf3'; }
.codicon-fold-up:before { content: '\eaf4'; }
.codicon-fold:before { content: '\eaf5'; }
.codicon-folder-active:before { content: '\eaf6'; }
.codicon-folder-opened:before { content: '\eaf7'; }
.codicon-gear:before { content: '\eaf8'; }
.codicon-gift:before { content: '\eaf9'; }
.codicon-gist-secret:before { content: '\eafa'; }
.codicon-gist:before { content: '\eafb'; }
.codicon-git-commit:before { content: '\eafc'; }
.codicon-git-compare:before { content: '\eafd'; }
.codicon-git-merge:before { content: '\eafe'; }
.codicon-github-action:before { content: '\eaff'; }
.codicon-github-alt:before { content: '\eb00'; }
.codicon-globe:before { content: '\eb01'; }
.codicon-grabber:before { content: '\eb02'; }
.codicon-graph:before { content: '\eb03'; }
.codicon-gripper:before { content: '\eb04'; }
.codicon-heart:before { content: '\eb05'; }
.codicon-home:before { content: '\eb06'; }
.codicon-horizontal-rule:before { content: '\eb07'; }
.codicon-hubot:before { content: '\eb08'; }
.codicon-inbox:before { content: '\eb09'; }
.codicon-issue-closed:before { content: '\eba4'; }
.codicon-issue-reopened:before { content: '\eb0b'; }
.codicon-issues:before { content: '\eb0c'; }
.codicon-italic:before { content: '\eb0d'; }
.codicon-jersey:before { content: '\eb0e'; }
.codicon-json:before { content: '\eb0f'; }
.codicon-bracket:before { content: '\eb0f'; }
.codicon-kebab-vertical:before { content: '\eb10'; }
.codicon-key:before { content: '\eb11'; }
.codicon-law:before { content: '\eb12'; }
.codicon-lightbulb-autofix:before { content: '\eb13'; }
.codicon-link-external:before { content: '\eb14'; }
.codicon-link:before { content: '\eb15'; }
.codicon-list-ordered:before { content: '\eb16'; }
.codicon-list-unordered:before { content: '\eb17'; }
.codicon-live-share:before { content: '\eb18'; }
.codicon-loading:before { content: '\eb19'; }
.codicon-location:before { content: '\eb1a'; }
.codicon-mail-read:before { content: '\eb1b'; }
.codicon-mail:before { content: '\eb1c'; }
.codicon-markdown:before { content: '\eb1d'; }
.codicon-megaphone:before { content: '\eb1e'; }
.codicon-mention:before { content: '\eb1f'; }
.codicon-milestone:before { content: '\eb20'; }
.codicon-mortar-board:before { content: '\eb21'; }
.codicon-move:before { content: '\eb22'; }
.codicon-multiple-windows:before { content: '\eb23'; }
.codicon-mute:before { content: '\eb24'; }
.codicon-no-newline:before { content: '\eb25'; }
.codicon-note:before { content: '\eb26'; }
.codicon-octoface:before { content: '\eb27'; }
.codicon-open-preview:before { content: '\eb28'; }
.codicon-package:before { content: '\eb29'; }
.codicon-paintcan:before { content: '\eb2a'; }
.codicon-pin:before { content: '\eb2b'; }
.codicon-play:before { content: '\eb2c'; }
.codicon-run:before { content: '\eb2c'; }
.codicon-plug:before { content: '\eb2d'; }
.codicon-preserve-case:before { content: '\eb2e'; }
.codicon-preview:before { content: '\eb2f'; }
.codicon-project:before { content: '\eb30'; }
.codicon-pulse:before { content: '\eb31'; }
.codicon-question:before { content: '\eb32'; }
.codicon-quote:before { content: '\eb33'; }
.codicon-radio-tower:before { content: '\eb34'; }
.codicon-reactions:before { content: '\eb35'; }
.codicon-references:before { content: '\eb36'; }
.codicon-refresh:before { content: '\eb37'; }
.codicon-regex:before { content: '\eb38'; }
.codicon-remote-explorer:before { content: '\eb39'; }
.codicon-remote:before { content: '\eb3a'; }
.codicon-remove:before { content: '\eb3b'; }
.codicon-replace-all:before { content: '\eb3c'; }
.codicon-replace:before { content: '\eb3d'; }
.codicon-repo-clone:before { content: '\eb3e'; }
.codicon-repo-force-push:before { content: '\eb3f'; }
.codicon-repo-pull:before { content: '\eb40'; }
.codicon-repo-push:before { content: '\eb41'; }
.codicon-report:before { content: '\eb42'; }
.codicon-request-changes:before { content: '\eb43'; }
.codicon-rocket:before { content: '\eb44'; }
.codicon-root-folder-opened:before { content: '\eb45'; }
.codicon-root-folder:before { content: '\eb46'; }
.codicon-rss:before { content: '\eb47'; }
.codicon-ruby:before { content: '\eb48'; }
.codicon-save-all:before { content: '\eb49'; }
.codicon-save-as:before { content: '\eb4a'; }
.codicon-save:before { content: '\eb4b'; }
.codicon-screen-full:before { content: '\eb4c'; }
.codicon-screen-normal:before { content: '\eb4d'; }
.codicon-search-stop:before { content: '\eb4e'; }
.codicon-server:before { content: '\eb50'; }
.codicon-settings-gear:before { content: '\eb51'; }
.codicon-settings:before { content: '\eb52'; }
.codicon-shield:before { content: '\eb53'; }
.codicon-smiley:before { content: '\eb54'; }
.codicon-sort-precedence:before { content: '\eb55'; }
.codicon-split-horizontal:before { content: '\eb56'; }
.codicon-split-vertical:before { content: '\eb57'; }
.codicon-squirrel:before { content: '\eb58'; }
.codicon-star-full:before { content: '\eb59'; }
.codicon-star-half:before { content: '\eb5a'; }
.codicon-symbol-class:before { content: '\eb5b'; }
.codicon-symbol-color:before { content: '\eb5c'; }
.codicon-symbol-customcolor:before { content: '\eb5c'; }
.codicon-symbol-constant:before { content: '\eb5d'; }
.codicon-symbol-enum-member:before { content: '\eb5e'; }
.codicon-symbol-field:before { content: '\eb5f'; }
.codicon-symbol-file:before { content: '\eb60'; }
.codicon-symbol-interface:before { content: '\eb61'; }
.codicon-symbol-keyword:before { content: '\eb62'; }
.codicon-symbol-misc:before { content: '\eb63'; }
.codicon-symbol-operator:before { content: '\eb64'; }
.codicon-symbol-property:before { content: '\eb65'; }
.codicon-wrench:before { content: '\eb65'; }
.codicon-wrench-subaction:before { content: '\eb65'; }
.codicon-symbol-snippet:before { content: '\eb66'; }
.codicon-tasklist:before { content: '\eb67'; }
.codicon-telescope:before { content: '\eb68'; }
.codicon-text-size:before { content: '\eb69'; }
.codicon-three-bars:before { content: '\eb6a'; }
.codicon-thumbsdown:before { content: '\eb6b'; }
.codicon-thumbsup:before { content: '\eb6c'; }
.codicon-tools:before { content: '\eb6d'; }
.codicon-triangle-down:before { content: '\eb6e'; }
.codicon-triangle-left:before { content: '\eb6f'; }
.codicon-triangle-right:before { content: '\eb70'; }
.codicon-triangle-up:before { content: '\eb71'; }
.codicon-twitter:before { content: '\eb72'; }
.codicon-unfold:before { content: '\eb73'; }
.codicon-unlock:before { content: '\eb74'; }
.codicon-unmute:before { content: '\eb75'; }
.codicon-unverified:before { content: '\eb76'; }
.codicon-verified:before { content: '\eb77'; }
.codicon-versions:before { content: '\eb78'; }
.codicon-vm-active:before { content: '\eb79'; }
.codicon-vm-outline:before { content: '\eb7a'; }
.codicon-vm-running:before { content: '\eb7b'; }
.codicon-watch:before { content: '\eb7c'; }
.codicon-whitespace:before { content: '\eb7d'; }
.codicon-whole-word:before { content: '\eb7e'; }
.codicon-window:before { content: '\eb7f'; }
.codicon-word-wrap:before { content: '\eb80'; }
.codicon-zoom-in:before { content: '\eb81'; }
.codicon-zoom-out:before { content: '\eb82'; }
.codicon-list-filter:before { content: '\eb83'; }
.codicon-list-flat:before { content: '\eb84'; }
.codicon-list-selection:before { content: '\eb85'; }
.codicon-selection:before { content: '\eb85'; }
.codicon-list-tree:before { content: '\eb86'; }
.codicon-debug-breakpoint-function-unverified:before { content: '\eb87'; }
.codicon-debug-breakpoint-function:before { content: '\eb88'; }
.codicon-debug-breakpoint-function-disabled:before { content: '\eb88'; }
.codicon-debug-stackframe-active:before { content: '\eb89'; }
.codicon-circle-small-filled:before { content: '\eb8a'; }
.codicon-debug-stackframe-dot:before { content: '\eb8a'; }
.codicon-debug-stackframe:before { content: '\eb8b'; }
.codicon-debug-stackframe-focused:before { content: '\eb8b'; }
.codicon-debug-breakpoint-unsupported:before { content: '\eb8c'; }
.codicon-symbol-string:before { content: '\eb8d'; }
.codicon-debug-reverse-continue:before { content: '\eb8e'; }
.codicon-debug-step-back:before { content: '\eb8f'; }
.codicon-debug-restart-frame:before { content: '\eb90'; }
.codicon-call-incoming:before { content: '\eb92'; }
.codicon-call-outgoing:before { content: '\eb93'; }
.codicon-menu:before { content: '\eb94'; }
.codicon-expand-all:before { content: '\eb95'; }
.codicon-feedback:before { content: '\eb96'; }
.codicon-group-by-ref-type:before { content: '\eb97'; }
.codicon-ungroup-by-ref-type:before { content: '\eb98'; }
.codicon-account:before { content: '\eb99'; }
.codicon-bell-dot:before { content: '\eb9a'; }
.codicon-debug-console:before { content: '\eb9b'; }
.codicon-library:before { content: '\eb9c'; }
.codicon-output:before { content: '\eb9d'; }
.codicon-run-all:before { content: '\eb9e'; }
.codicon-sync-ignored:before { content: '\eb9f'; }
.codicon-pinned:before { content: '\eba0'; }
.codicon-github-inverted:before { content: '\eba1'; }
.codicon-debug-alt:before { content: '\eb91'; }
.codicon-server-process:before { content: '\eba2'; }
.codicon-server-environment:before { content: '\eba3'; }
.codicon-pass:before { content: '\eba4'; }
.codicon-stop-circle:before { content: '\eba5'; }
.codicon-play-circle:before { content: '\eba6'; }
.codicon-record:before { content: '\eba7'; }
.codicon-debug-alt-small:before { content: '\eba8'; }
.codicon-vm-connect:before { content: '\eba9'; }
.codicon-cloud:before { content: '\ebaa'; }
.codicon-merge:before { content: '\ebab'; }
.codicon-export:before { content: '\ebac'; }
.codicon-graph-left:before { content: '\ebad'; }
.codicon-magnet:before { content: '\ebae'; }
.codicon-notebook:before { content: '\ebaf'; }
.codicon-redo:before { content: '\ebb0'; }
.codicon-check-all:before { content: '\ebb1'; }
.codicon-pinned-dirty:before { content: '\ebb2'; }
.codicon-pass-filled:before { content: '\ebb3'; }
.codicon-circle-large-filled:before { content: '\ebb4'; }
.codicon-circle-large:before { content: '\ebb5'; }
.codicon-circle-large-outline:before { content: '\ebb5'; }
.codicon-combine:before { content: '\ebb6'; }
.codicon-gather:before { content: '\ebb6'; }
.codicon-table:before { content: '\ebb7'; }
.codicon-variable-group:before { content: '\ebb8'; }
.codicon-type-hierarchy:before { content: '\ebb9'; }
.codicon-type-hierarchy-sub:before { content: '\ebba'; }
.codicon-type-hierarchy-super:before { content: '\ebbb'; }
.codicon-git-pull-request-create:before { content: '\ebbc'; }
.codicon-run-above:before { content: '\ebbd'; }
.codicon-run-below:before { content: '\ebbe'; }
.codicon-notebook-template:before { content: '\ebbf'; }
.codicon-debug-rerun:before { content: '\ebc0'; }
.codicon-workspace-trusted:before { content: '\ebc1'; }
.codicon-workspace-untrusted:before { content: '\ebc2'; }
.codicon-workspace-unspecified:before { content: '\ebc3'; }
.codicon-terminal-cmd:before { content: '\ebc4'; }
.codicon-terminal-debian:before { content: '\ebc5'; }
.codicon-terminal-linux:before { content: '\ebc6'; }
.codicon-terminal-powershell:before { content: '\ebc7'; }
.codicon-terminal-tmux:before { content: '\ebc8'; }
.codicon-terminal-ubuntu:before { content: '\ebc9'; }
.codicon-terminal-bash:before { content: '\ebca'; }
.codicon-arrow-swap:before { content: '\ebcb'; }
.codicon-copy:before { content: '\ebcc'; }
.codicon-person-add:before { content: '\ebcd'; }
.codicon-filter-filled:before { content: '\ebce'; }
.codicon-wand:before { content: '\ebcf'; }
.codicon-debug-line-by-line:before { content: '\ebd0'; }
.codicon-inspect:before { content: '\ebd1'; }
.codicon-layers:before { content: '\ebd2'; }
.codicon-layers-dot:before { content: '\ebd3'; }
.codicon-layers-active:before { content: '\ebd4'; }
.codicon-compass:before { content: '\ebd5'; }
.codicon-compass-dot:before { content: '\ebd6'; }
.codicon-compass-active:before { content: '\ebd7'; }
.codicon-azure:before { content: '\ebd8'; }
.codicon-issue-draft:before { content: '\ebd9'; }
.codicon-git-pull-request-closed:before { content: '\ebda'; }
.codicon-git-pull-request-draft:before { content: '\ebdb'; }
.codicon-debug-all:before { content: '\ebdc'; }
.codicon-debug-coverage:before { content: '\ebdd'; }
.codicon-run-errors:before { content: '\ebde'; }
.codicon-folder-library:before { content: '\ebdf'; }
.codicon-debug-continue-small:before { content: '\ebe0'; }
.codicon-beaker-stop:before { content: '\ebe1'; }
.codicon-graph-line:before { content: '\ebe2'; }
.codicon-graph-scatter:before { content: '\ebe3'; }
.codicon-pie-chart:before { content: '\ebe4'; }
.codicon-bracket-dot:before { content: '\ebe5'; }
.codicon-bracket-error:before { content: '\ebe6'; }
.codicon-lock-small:before { content: '\ebe7'; }
.codicon-azure-devops:before { content: '\ebe8'; }
.codicon-verified-filled:before { content: '\ebe9'; }
.codicon-newline:before { content: '\ebea'; }
.codicon-layout:before { content: '\ebeb'; }
.codicon-layout-activitybar-left:before { content: '\ebec'; }
.codicon-layout-activitybar-right:before { content: '\ebed'; }
.codicon-layout-panel-left:before { content: '\ebee'; }
.codicon-layout-panel-center:before { content: '\ebef'; }
.codicon-layout-panel-justify:before { content: '\ebf0'; }
.codicon-layout-panel-right:before { content: '\ebf1'; }
.codicon-layout-panel:before { content: '\ebf2'; }
.codicon-layout-sidebar-left:before { content: '\ebf3'; }
.codicon-layout-sidebar-right:before { content: '\ebf4'; }
.codicon-layout-statusbar:before { content: '\ebf5'; }
.codicon-layout-menubar:before { content: '\ebf6'; }
.codicon-layout-centered:before { content: '\ebf7'; }
.codicon-layout-sidebar-right-off:before { content: '\ec00'; }
.codicon-layout-panel-off:before { content: '\ec01'; }
.codicon-layout-sidebar-left-off:before { content: '\ec02'; }
.codicon-target:before { content: '\ebf8'; }
.codicon-indent:before { content: '\ebf9'; }
.codicon-record-small:before { content: '\ebfa'; }
.codicon-error-small:before { content: '\ebfb'; }
.codicon-arrow-circle-down:before { content: '\ebfc'; }
.codicon-arrow-circle-left:before { content: '\ebfd'; }
.codicon-arrow-circle-right:before { content: '\ebfe'; }
.codicon-arrow-circle-up:before { content: '\ebff'; }
.codicon-heart-filled:before { content: '\ec04'; }
.codicon-map:before { content: '\ec05'; }
.codicon-map-filled:before { content: '\ec06'; }
.codicon-circle-small:before { content: '\ec07'; }
.codicon-bell-slash:before { content: '\ec08'; }
.codicon-bell-slash-dot:before { content: '\ec09'; }
.codicon-comment-unresolved:before { content: '\ec0a'; }
.codicon-git-pull-request-go-to-changes:before { content: '\ec0b'; }
.codicon-git-pull-request-new-changes:before { content: '\ec0c'; }
.codicon-search-fuzzy:before { content: '\ec0d'; }
.codicon-comment-draft:before { content: '\ec0e'; }
.codicon-send:before { content: '\ec0f'; }
.codicon-sparkle:before { content: '\ec10'; }
.codicon-insert:before { content: '\ec11'; }
.codicon-dialog-error:before { content: '\ea87'; }
.codicon-dialog-warning:before { content: '\ea6c'; }
.codicon-dialog-info:before { content: '\ea74'; }
.codicon-dialog-close:before { content: '\ea76'; }
.codicon-tree-item-expanded:before { content: '\eab4'; }
.codicon-tree-filter-on-type-on:before { content: '\eb83'; }
.codicon-tree-filter-on-type-off:before { content: '\eb85'; }
.codicon-tree-filter-clear:before { content: '\ea76'; }
.codicon-tree-item-loading:before { content: '\eb19'; }
.codicon-menu-selection:before { content: '\eab2'; }
.codicon-menu-submenu:before { content: '\eab6'; }
.codicon-menubar-more:before { content: '\ea7c'; }
.codicon-scrollbar-button-left:before { content: '\eb6f'; }
.codicon-scrollbar-button-right:before { content: '\eb70'; }
.codicon-scrollbar-button-up:before { content: '\eb71'; }
.codicon-scrollbar-button-down:before { content: '\eb6e'; }
.codicon-toolbar-more:before { content: '\ea7c'; }
.codicon-quick-input-back:before { content: '\ea9b'; }
.codicon-widget-close:before { content: '\ea76'; }
.codicon-goto-previous-location:before { content: '\eaa1'; }
.codicon-goto-next-location:before { content: '\ea9a'; }
.codicon-diff-review-insert:before { content: '\ea60'; }
.codicon-diff-review-remove:before { content: '\eb3b'; }
.codicon-diff-review-close:before { content: '\ea76'; }
.codicon-parameter-hints-next:before { content: '\eab4'; }
.codicon-parameter-hints-previous:before { content: '\eab7'; }
.codicon-suggest-more-info:before { content: '\eab6'; }
.codicon-inline-suggestion-hints-next:before { content: '\eab6'; }
.codicon-inline-suggestion-hints-previous:before { content: '\eab5'; }
.codicon-diff-insert:before { content: '\ea60'; }
.codicon-diff-remove:before { content: '\eb3b'; }
.codicon-find-selection:before { content: '\eb85'; }
.codicon-find-collapsed:before { content: '\eab6'; }
.codicon-find-expanded:before { content: '\eab4'; }
.codicon-find-replace:before { content: '\eb3d'; }
.codicon-find-replace-all:before { content: '\eb3c'; }
.codicon-find-previous-match:before { content: '\eaa1'; }
.codicon-find-next-match:before { content: '\ea9a'; }
.codicon-folding-expanded:before { content: '\eab4'; }
.codicon-folding-collapsed:before { content: '\eab6'; }
.codicon-folding-manual-collapsed:before { content: '\eab6'; }
.codicon-folding-manual-expanded:before { content: '\eab4'; }
.codicon-marker-navigation-next:before { content: '\ea9a'; }
.codicon-marker-navigation-previous:before { content: '\eaa1'; }
.codicon-extensions-warning-message:before { content: '\ea6c'; }
.monaco-editor .inputarea.ime-input { background-color: #1e1e1e; }
.monaco-editor .view-overlays .current-line { border: 2px solid #282828; }
.monaco-editor .margin-view-overlays .current-line-margin { border: 2px solid #282828; }
.monaco-editor .bracket-indent-guide.lvl-0 { --guide-color: rgba(255, 215, 0, 0.3); --guide-color-active: #ffd700; }
.monaco-editor .bracket-indent-guide.lvl-1 { --guide-color: rgba(218, 112, 214, 0.3); --guide-color-active: #da70d6; }
.monaco-editor .bracket-indent-guide.lvl-2 { --guide-color: rgba(23, 159, 255, 0.3); --guide-color-active: #179fff; }
.monaco-editor .bracket-indent-guide.lvl-3 { --guide-color: rgba(255, 215, 0, 0.3); --guide-color-active: #ffd700; }
.monaco-editor .bracket-indent-guide.lvl-4 { --guide-color: rgba(218, 112, 214, 0.3); --guide-color-active: #da70d6; }
.monaco-editor .bracket-indent-guide.lvl-5 { --guide-color: rgba(23, 159, 255, 0.3); --guide-color-active: #179fff; }
.monaco-editor .bracket-indent-guide.lvl-6 { --guide-color: rgba(255, 215, 0, 0.3); --guide-color-active: #ffd700; }
.monaco-editor .bracket-indent-guide.lvl-7 { --guide-color: rgba(218, 112, 214, 0.3); --guide-color-active: #da70d6; }
.monaco-editor .bracket-indent-guide.lvl-8 { --guide-color: rgba(23, 159, 255, 0.3); --guide-color-active: #179fff; }
.monaco-editor .bracket-indent-guide.lvl-9 { --guide-color: rgba(255, 215, 0, 0.3); --guide-color-active: #ffd700; }
.monaco-editor .bracket-indent-guide.lvl-10 { --guide-color: rgba(218, 112, 214, 0.3); --guide-color-active: #da70d6; }
.monaco-editor .bracket-indent-guide.lvl-11 { --guide-color: rgba(23, 159, 255, 0.3); --guide-color-active: #179fff; }
.monaco-editor .bracket-indent-guide.lvl-12 { --guide-color: rgba(255, 215, 0, 0.3); --guide-color-active: #ffd700; }
.monaco-editor .bracket-indent-guide.lvl-13 { --guide-color: rgba(218, 112, 214, 0.3); --guide-color-active: #da70d6; }
.monaco-editor .bracket-indent-guide.lvl-14 { --guide-color: rgba(23, 159, 255, 0.3); --guide-color-active: #179fff; }
.monaco-editor .bracket-indent-guide.lvl-15 { --guide-color: rgba(255, 215, 0, 0.3); --guide-color-active: #ffd700; }
.monaco-editor .bracket-indent-guide.lvl-16 { --guide-color: rgba(218, 112, 214, 0.3); --guide-color-active: #da70d6; }
.monaco-editor .bracket-indent-guide.lvl-17 { --guide-color: rgba(23, 159, 255, 0.3); --guide-color-active: #179fff; }
.monaco-editor .bracket-indent-guide.lvl-18 { --guide-color: rgba(255, 215, 0, 0.3); --guide-color-active: #ffd700; }
.monaco-editor .bracket-indent-guide.lvl-19 { --guide-color: rgba(218, 112, 214, 0.3); --guide-color-active: #da70d6; }
.monaco-editor .bracket-indent-guide.lvl-20 { --guide-color: rgba(23, 159, 255, 0.3); --guide-color-active: #179fff; }
.monaco-editor .bracket-indent-guide.lvl-21 { --guide-color: rgba(255, 215, 0, 0.3); --guide-color-active: #ffd700; }
.monaco-editor .bracket-indent-guide.lvl-22 { --guide-color: rgba(218, 112, 214, 0.3); --guide-color-active: #da70d6; }
.monaco-editor .bracket-indent-guide.lvl-23 { --guide-color: rgba(23, 159, 255, 0.3); --guide-color-active: #179fff; }
.monaco-editor .bracket-indent-guide.lvl-24 { --guide-color: rgba(255, 215, 0, 0.3); --guide-color-active: #ffd700; }
.monaco-editor .bracket-indent-guide.lvl-25 { --guide-color: rgba(218, 112, 214, 0.3); --guide-color-active: #da70d6; }
.monaco-editor .bracket-indent-guide.lvl-26 { --guide-color: rgba(23, 159, 255, 0.3); --guide-color-active: #179fff; }
.monaco-editor .bracket-indent-guide.lvl-27 { --guide-color: rgba(255, 215, 0, 0.3); --guide-color-active: #ffd700; }
.monaco-editor .bracket-indent-guide.lvl-28 { --guide-color: rgba(218, 112, 214, 0.3); --guide-color-active: #da70d6; }
.monaco-editor .bracket-indent-guide.lvl-29 { --guide-color: rgba(23, 159, 255, 0.3); --guide-color-active: #179fff; }
.monaco-editor .vertical { box-shadow: 1px 0 0 0 var(--guide-color) inset; }
.monaco-editor .horizontal-top { border-top: 1px solid var(--guide-color); }
.monaco-editor .horizontal-bottom { border-bottom: 1px solid var(--guide-color); }
.monaco-editor .vertical.indent-active { box-shadow: 1px 0 0 0 var(--guide-color-active) inset; }
.monaco-editor .horizontal-top.indent-active { border-top: 1px solid var(--guide-color-active); }
.monaco-editor .horizontal-bottom.indent-active { border-bottom: 1px solid var(--guide-color-active); }
.monaco-editor .line-numbers.dimmed-line-number { color: rgba(133, 133, 133, 0.4); }
.monaco-editor .cursors-layer .cursor { background-color: #aeafad; border-color: #aeafad; color: #515052; }
.monaco-editor .unexpected-closing-bracket { color: rgba(255, 18, 18, 0.8); }
.monaco-editor .bracket-highlighting-0 { color: #ffd700; }
.monaco-editor .bracket-highlighting-1 { color: #da70d6; }
.monaco-editor .bracket-highlighting-2 { color: #179fff; }
.monaco-editor .bracket-highlighting-3 { color: #ffd700; }
.monaco-editor .bracket-highlighting-4 { color: #da70d6; }
.monaco-editor .bracket-highlighting-5 { color: #179fff; }
.monaco-editor .bracket-highlighting-6 { color: #ffd700; }
.monaco-editor .bracket-highlighting-7 { color: #da70d6; }
.monaco-editor .bracket-highlighting-8 { color: #179fff; }
.monaco-editor .bracket-highlighting-9 { color: #ffd700; }
.monaco-editor .bracket-highlighting-10 { color: #da70d6; }
.monaco-editor .bracket-highlighting-11 { color: #179fff; }
.monaco-editor .bracket-highlighting-12 { color: #ffd700; }
.monaco-editor .bracket-highlighting-13 { color: #da70d6; }
.monaco-editor .bracket-highlighting-14 { color: #179fff; }
.monaco-editor .bracket-highlighting-15 { color: #ffd700; }
.monaco-editor .bracket-highlighting-16 { color: #da70d6; }
.monaco-editor .bracket-highlighting-17 { color: #179fff; }
.monaco-editor .bracket-highlighting-18 { color: #ffd700; }
.monaco-editor .bracket-highlighting-19 { color: #da70d6; }
.monaco-editor .bracket-highlighting-20 { color: #179fff; }
.monaco-editor .bracket-highlighting-21 { color: #ffd700; }
.monaco-editor .bracket-highlighting-22 { color: #da70d6; }
.monaco-editor .bracket-highlighting-23 { color: #179fff; }
.monaco-editor .bracket-highlighting-24 { color: #ffd700; }
.monaco-editor .bracket-highlighting-25 { color: #da70d6; }
.monaco-editor .bracket-highlighting-26 { color: #179fff; }
.monaco-editor .bracket-highlighting-27 { color: #ffd700; }
.monaco-editor .bracket-highlighting-28 { color: #da70d6; }
.monaco-editor .bracket-highlighting-29 { color: #179fff; }
.monaco-editor .squiggly-error { background: url("data:image/svg+xml,%3Csvg%20xmlns%3D'http%3A%2F%2Fwww.w3.org%2F2000%2Fsvg'%20viewBox%3D'0%200%206%203'%20enable-background%3D'new%200%200%206%203'%20height%3D'3'%20width%3D'6'%3E%3Cg%20fill%3D'%23f14c4c'%3E%3Cpolygon%20points%3D'5.5%2C0%202.5%2C3%201.1%2C3%204.1%2C0'%2F%3E%3Cpolygon%20points%3D'4%2C0%206%2C2%206%2C0.6%205.4%2C0'%2F%3E%3Cpolygon%20points%3D'0%2C2%201%2C3%202.4%2C3%200%2C0.6'%2F%3E%3C%2Fg%3E%3C%2Fsvg%3E") repeat-x bottom left; }
.monaco-editor .squiggly-warning { background: url("data:image/svg+xml,%3Csvg%20xmlns%3D'http%3A%2F%2Fwww.w3.org%2F2000%2Fsvg'%20viewBox%3D'0%200%206%203'%20enable-background%3D'new%200%200%206%203'%20height%3D'3'%20width%3D'6'%3E%3Cg%20fill%3D'%23cca700'%3E%3Cpolygon%20points%3D'5.5%2C0%202.5%2C3%201.1%2C3%204.1%2C0'%2F%3E%3Cpolygon%20points%3D'4%2C0%206%2C2%206%2C0.6%205.4%2C0'%2F%3E%3Cpolygon%20points%3D'0%2C2%201%2C3%202.4%2C3%200%2C0.6'%2F%3E%3C%2Fg%3E%3C%2Fsvg%3E") repeat-x bottom left; }
.monaco-editor .squiggly-info { background: url("data:image/svg+xml,%3Csvg%20xmlns%3D'http%3A%2F%2Fwww.w3.org%2F2000%2Fsvg'%20viewBox%3D'0%200%206%203'%20enable-background%3D'new%200%200%206%203'%20height%3D'3'%20width%3D'6'%3E%3Cg%20fill%3D'%233794ff'%3E%3Cpolygon%20points%3D'5.5%2C0%202.5%2C3%201.1%2C3%204.1%2C0'%2F%3E%3Cpolygon%20points%3D'4%2C0%206%2C2%206%2C0.6%205.4%2C0'%2F%3E%3Cpolygon%20points%3D'0%2C2%201%2C3%202.4%2C3%200%2C0.6'%2F%3E%3C%2Fg%3E%3C%2Fsvg%3E") repeat-x bottom left; }
.monaco-editor .squiggly-hint { background: url("data:image/svg+xml,%3Csvg%20xmlns%3D%22http%3A%2F%2Fwww.w3.org%2F2000%2Fsvg%22%20height%3D%223%22%20width%3D%2212%22%3E%3Cg%20fill%3D%22rgba(238%2C%20238%2C%20238%2C%200.7)%22%3E%3Ccircle%20cx%3D%221%22%20cy%3D%221%22%20r%3D%221%22%2F%3E%3Ccircle%20cx%3D%225%22%20cy%3D%221%22%20r%3D%221%22%2F%3E%3Ccircle%20cx%3D%229%22%20cy%3D%221%22%20r%3D%221%22%2F%3E%3C%2Fg%3E%3C%2Fsvg%3E") no-repeat bottom left; }
.monaco-editor.showUnused .squiggly-inline-unnecessary { opacity: 0.667; }
.monaco-editor .selectionHighlight { background-color: rgba(173, 214, 255, 0.07); }

	.monaco-editor .diagonal-fill {
		background-image: linear-gradient(
			-45deg,
			rgba(204, 204, 204, 0.2) 12.5%,
			#0000 12.5%, #0000 50%,
			rgba(204, 204, 204, 0.2) 50%, rgba(204, 204, 204, 0.2) 62.5%,
			#0000 62.5%, #0000 100%
		);
		background-size: 8px 8px;
	}
	
.monaco-editor .findMatch { background-color: rgba(234, 92, 0, 0.33); }
.monaco-editor .currentFindMatch { background-color: #515c6a; }
.monaco-editor .findScope { background-color: rgba(58, 61, 65, 0.4); }
.monaco-editor .find-widget { background-color: #252526; }
.monaco-editor .find-widget { box-shadow: 0 0 8px 2px rgba(0, 0, 0, 0.36); }
.monaco-editor .find-widget { color: #cccccc; }
.monaco-editor .find-widget.no-results .matchesCount { color: #f48771; }
.monaco-editor .find-widget .monaco-sash { background-color: #454545; }

		.monaco-editor .find-widget .button:not(.disabled):hover,
		.monaco-editor .find-widget .codicon-find-selection:hover {
			background-color: rgba(90, 93, 94, 0.31) !important;
		}
	
.monaco-editor .find-widget .monaco-inputbox.synthetic-focus { outline-color: #007fd4; }
.monaco-editor .monaco-hover .hover-row:not(:first-child):not(:empty) { border-top: 1px solid rgba(69, 69, 69, 0.5); }
.monaco-editor .monaco-hover hr { border-top: 1px solid rgba(69, 69, 69, 0.5); }
.monaco-editor .monaco-hover hr { border-bottom: 0px solid rgba(69, 69, 69, 0.5); }
.monaco-editor { --vscode-foreground: #cccccc;
--vscode-disabledForeground: rgba(204, 204, 204, 0.5);
--vscode-errorForeground: #f48771;
--vscode-descriptionForeground: rgba(204, 204, 204, 0.7);
--vscode-icon-foreground: #c5c5c5;
--vscode-focusBorder: #007fd4;
--vscode-textSeparator-foreground: rgba(255, 255, 255, 0.18);
--vscode-textLink-foreground: #3794ff;
--vscode-textLink-activeForeground: #3794ff;
--vscode-textPreformat-foreground: #d7ba7d;
--vscode-textBlockQuote-background: rgba(127, 127, 127, 0.1);
--vscode-textBlockQuote-border: rgba(0, 122, 204, 0.5);
--vscode-textCodeBlock-background: rgba(10, 10, 10, 0.4);
--vscode-widget-shadow: rgba(0, 0, 0, 0.36);
--vscode-input-background: #3c3c3c;
--vscode-input-foreground: #cccccc;
--vscode-inputOption-activeBorder: #007acc;
--vscode-inputOption-hoverBackground: rgba(90, 93, 94, 0.5);
--vscode-inputOption-activeBackground: rgba(0, 127, 212, 0.4);
--vscode-inputOption-activeForeground: #ffffff;
--vscode-input-placeholderForeground: rgba(204, 204, 204, 0.5);
--vscode-inputValidation-infoBackground: #063b49;
--vscode-inputValidation-infoBorder: #007acc;
--vscode-inputValidation-warningBackground: #352a05;
--vscode-inputValidation-warningBorder: #b89500;
--vscode-inputValidation-errorBackground: #5a1d1d;
--vscode-inputValidation-errorBorder: #be1100;
--vscode-dropdown-background: #3c3c3c;
--vscode-dropdown-foreground: #f0f0f0;
--vscode-dropdown-border: #3c3c3c;
--vscode-button-foreground: #ffffff;
--vscode-button-separator: rgba(255, 255, 255, 0.4);
--vscode-button-background: #0e639c;
--vscode-button-hoverBackground: #1177bb;
--vscode-button-secondaryForeground: #ffffff;
--vscode-button-secondaryBackground: #3a3d41;
--vscode-button-secondaryHoverBackground: #45494e;
--vscode-badge-background: #4d4d4d;
--vscode-badge-foreground: #ffffff;
--vscode-scrollbar-shadow: #000000;
--vscode-scrollbarSlider-background: rgba(121, 121, 121, 0.4);
--vscode-scrollbarSlider-hoverBackground: rgba(100, 100, 100, 0.7);
--vscode-scrollbarSlider-activeBackground: rgba(191, 191, 191, 0.4);
--vscode-progressBar-background: #0e70c0;
--vscode-editorError-foreground: #f14c4c;
--vscode-editorWarning-foreground: #cca700;
--vscode-editorInfo-foreground: #3794ff;
--vscode-editorHint-foreground: rgba(238, 238, 238, 0.7);
--vscode-sash-hoverBorder: #007fd4;
--vscode-editor-background: #1e1e1e;
--vscode-editor-foreground: #d4d4d4;
--vscode-editorStickyScroll-background: #1e1e1e;
--vscode-editorStickyScrollHover-background: #2a2d2e;
--vscode-editorWidget-background: #252526;
--vscode-editorWidget-foreground: #cccccc;
--vscode-editorWidget-border: #454545;
--vscode-quickInput-background: #252526;
--vscode-quickInput-foreground: #cccccc;
--vscode-quickInputTitle-background: rgba(255, 255, 255, 0.1);
--vscode-pickerGroup-foreground: #3794ff;
--vscode-pickerGroup-border: #3f3f46;
--vscode-keybindingLabel-background: rgba(128, 128, 128, 0.17);
--vscode-keybindingLabel-foreground: #cccccc;
--vscode-keybindingLabel-border: rgba(51, 51, 51, 0.6);
--vscode-keybindingLabel-bottomBorder: rgba(68, 68, 68, 0.6);
--vscode-editor-selectionBackground: #264f78;
--vscode-editor-inactiveSelectionBackground: #3a3d41;
--vscode-editor-selectionHighlightBackground: rgba(173, 214, 255, 0.15);
--vscode-editor-findMatchBackground: #515c6a;
--vscode-editor-findMatchHighlightBackground: rgba(234, 92, 0, 0.33);
--vscode-editor-findRangeHighlightBackground: rgba(58, 61, 65, 0.4);
--vscode-searchEditor-findMatchBackground: rgba(234, 92, 0, 0.22);
--vscode-search-resultsInfoForeground: rgba(204, 204, 204, 0.65);
--vscode-editor-hoverHighlightBackground: rgba(38, 79, 120, 0.25);
--vscode-editorHoverWidget-background: #252526;
--vscode-editorHoverWidget-foreground: #cccccc;
--vscode-editorHoverWidget-border: #454545;
--vscode-editorHoverWidget-statusBarBackground: #2c2c2d;
--vscode-editorLink-activeForeground: #4e94ce;
--vscode-editorInlayHint-foreground: #cccccc;
--vscode-editorInlayHint-background: rgba(77, 77, 77, 0.25);
--vscode-editorInlayHint-typeForeground: #cccccc;
--vscode-editorInlayHint-typeBackground: rgba(77, 77, 77, 0.25);
--vscode-editorInlayHint-parameterForeground: #cccccc;
--vscode-editorInlayHint-parameterBackground: rgba(77, 77, 77, 0.25);
--vscode-editorLightBulb-foreground: #ffcc00;
--vscode-editorLightBulbAutoFix-foreground: #75beff;
--vscode-diffEditor-insertedTextBackground: rgba(156, 204, 44, 0.13);
--vscode-diffEditor-removedTextBackground: rgba(255, 0, 0, 0.14);
--vscode-diffEditor-insertedLineBackground: rgba(156, 204, 44, 0.13);
--vscode-diffEditor-removedLineBackground: rgba(255, 0, 0, 0.14);
--vscode-diffEditor-diagonalFill: rgba(204, 204, 204, 0.2);
--vscode-diffEditor-unchangedRegionBackground: #3e3e3e;
--vscode-diffEditor-unchangedRegionForeground: #a3a2a2;
--vscode-diffEditor-unchangedCodeBackground: rgba(116, 116, 116, 0.16);
--vscode-list-focusOutline: #007fd4;
--vscode-list-activeSelectionBackground: #04395e;
--vscode-list-activeSelectionForeground: #ffffff;
--vscode-list-inactiveSelectionBackground: #37373d;
--vscode-list-hoverBackground: #2a2d2e;
--vscode-list-dropBackground: #062f4a;
--vscode-list-highlightForeground: #2aaaff;
--vscode-list-focusHighlightForeground: #2aaaff;
--vscode-list-invalidItemForeground: #b89500;
--vscode-list-errorForeground: #f88070;
--vscode-list-warningForeground: #cca700;
--vscode-listFilterWidget-background: #252526;
--vscode-listFilterWidget-outline: rgba(0, 0, 0, 0);
--vscode-listFilterWidget-noMatchesOutline: #be1100;
--vscode-listFilterWidget-shadow: rgba(0, 0, 0, 0.36);
--vscode-list-filterMatchBackground: rgba(234, 92, 0, 0.33);
--vscode-tree-indentGuidesStroke: #585858;
--vscode-tree-inactiveIndentGuidesStroke: rgba(88, 88, 88, 0.4);
--vscode-tree-tableColumnsBorder: rgba(204, 204, 204, 0.13);
--vscode-tree-tableOddRowsBackground: rgba(204, 204, 204, 0.04);
--vscode-list-deemphasizedForeground: #8c8c8c;
--vscode-checkbox-background: #3c3c3c;
--vscode-checkbox-selectBackground: #252526;
--vscode-checkbox-foreground: #f0f0f0;
--vscode-checkbox-border: #3c3c3c;
--vscode-checkbox-selectBorder: #c5c5c5;
--vscode-quickInputList-focusForeground: #ffffff;
--vscode-quickInputList-focusBackground: #04395e;
--vscode-menu-foreground: #f0f0f0;
--vscode-menu-background: #3c3c3c;
--vscode-menu-selectionForeground: #ffffff;
--vscode-menu-selectionBackground: #04395e;
--vscode-menu-separatorBackground: #606060;
--vscode-toolbar-hoverBackground: rgba(90, 93, 94, 0.31);
--vscode-toolbar-activeBackground: rgba(99, 102, 103, 0.31);
--vscode-editor-snippetTabstopHighlightBackground: rgba(124, 124, 124, 0.3);
--vscode-editor-snippetFinalTabstopHighlightBorder: #525252;
--vscode-breadcrumb-foreground: rgba(204, 204, 204, 0.8);
--vscode-breadcrumb-background: #1e1e1e;
--vscode-breadcrumb-focusForeground: #e0e0e0;
--vscode-breadcrumb-activeSelectionForeground: #e0e0e0;
--vscode-breadcrumbPicker-background: #252526;
--vscode-merge-currentHeaderBackground: rgba(64, 200, 174, 0.5);
--vscode-merge-currentContentBackground: rgba(64, 200, 174, 0.2);
--vscode-merge-incomingHeaderBackground: rgba(64, 166, 255, 0.5);
--vscode-merge-incomingContentBackground: rgba(64, 166, 255, 0.2);
--vscode-merge-commonHeaderBackground: rgba(96, 96, 96, 0.4);
--vscode-merge-commonContentBackground: rgba(96, 96, 96, 0.16);
--vscode-editorOverviewRuler-currentContentForeground: rgba(64, 200, 174, 0.5);
--vscode-editorOverviewRuler-incomingContentForeground: rgba(64, 166, 255, 0.5);
--vscode-editorOverviewRuler-commonContentForeground: rgba(96, 96, 96, 0.4);
--vscode-editorOverviewRuler-findMatchForeground: rgba(209, 134, 22, 0.49);
--vscode-editorOverviewRuler-selectionHighlightForeground: rgba(160, 160, 160, 0.8);
--vscode-minimap-findMatchHighlight: #d18616;
--vscode-minimap-selectionOccurrenceHighlight: #676767;
--vscode-minimap-selectionHighlight: #264f78;
--vscode-minimap-errorHighlight: rgba(255, 18, 18, 0.7);
--vscode-minimap-warningHighlight: #cca700;
--vscode-minimap-foregroundOpacity: #000000;
--vscode-minimapSlider-background: rgba(121, 121, 121, 0.2);
--vscode-minimapSlider-hoverBackground: rgba(100, 100, 100, 0.35);
--vscode-minimapSlider-activeBackground: rgba(191, 191, 191, 0.2);
--vscode-problemsErrorIcon-foreground: #f14c4c;
--vscode-problemsWarningIcon-foreground: #cca700;
--vscode-problemsInfoIcon-foreground: #3794ff;
--vscode-charts-foreground: #cccccc;
--vscode-charts-lines: rgba(204, 204, 204, 0.5);
--vscode-charts-red: #f14c4c;
--vscode-charts-blue: #3794ff;
--vscode-charts-yellow: #cca700;
--vscode-charts-orange: #d18616;
--vscode-charts-green: #89d185;
--vscode-charts-purple: #b180d7;
--vscode-symbolIcon-arrayForeground: #cccccc;
--vscode-symbolIcon-booleanForeground: #cccccc;
--vscode-symbolIcon-classForeground: #ee9d28;
--vscode-symbolIcon-colorForeground: #cccccc;
--vscode-symbolIcon-constantForeground: #cccccc;
--vscode-symbolIcon-constructorForeground: #b180d7;
--vscode-symbolIcon-enumeratorForeground: #ee9d28;
--vscode-symbolIcon-enumeratorMemberForeground: #75beff;
--vscode-symbolIcon-eventForeground: #ee9d28;
--vscode-symbolIcon-fieldForeground: #75beff;
--vscode-symbolIcon-fileForeground: #cccccc;
--vscode-symbolIcon-folderForeground: #cccccc;
--vscode-symbolIcon-functionForeground: #b180d7;
--vscode-symbolIcon-interfaceForeground: #75beff;
--vscode-symbolIcon-keyForeground: #cccccc;
--vscode-symbolIcon-keywordForeground: #cccccc;
--vscode-symbolIcon-methodForeground: #b180d7;
--vscode-symbolIcon-moduleForeground: #cccccc;
--vscode-symbolIcon-namespaceForeground: #cccccc;
--vscode-symbolIcon-nullForeground: #cccccc;
--vscode-symbolIcon-numberForeground: #cccccc;
--vscode-symbolIcon-objectForeground: #cccccc;
--vscode-symbolIcon-operatorForeground: #cccccc;
--vscode-symbolIcon-packageForeground: #cccccc;
--vscode-symbolIcon-propertyForeground: #cccccc;
--vscode-symbolIcon-referenceForeground: #cccccc;
--vscode-symbolIcon-snippetForeground: #cccccc;
--vscode-symbolIcon-stringForeground: #cccccc;
--vscode-symbolIcon-structForeground: #cccccc;
--vscode-symbolIcon-textForeground: #cccccc;
--vscode-symbolIcon-typeParameterForeground: #cccccc;
--vscode-symbolIcon-unitForeground: #cccccc;
--vscode-symbolIcon-variableForeground: #75beff;
--vscode-editor-lineHighlightBorder: #282828;
--vscode-editor-rangeHighlightBackground: rgba(255, 255, 255, 0.04);
--vscode-editor-symbolHighlightBackground: rgba(234, 92, 0, 0.33);
--vscode-editorCursor-foreground: #aeafad;
--vscode-editorWhitespace-foreground: rgba(227, 228, 226, 0.16);
--vscode-editorIndentGuide-background: #404040;
--vscode-editorIndentGuide-activeBackground: #707070;
--vscode-editorLineNumber-foreground: #858585;
--vscode-editorActiveLineNumber-foreground: #c6c6c6;
--vscode-editorLineNumber-activeForeground: #c6c6c6;
--vscode-editorRuler-foreground: #5a5a5a;
--vscode-editorCodeLens-foreground: #999999;
--vscode-editorBracketMatch-background: rgba(0, 100, 0, 0.1);
--vscode-editorBracketMatch-border: #888888;
--vscode-editorOverviewRuler-border: rgba(127, 127, 127, 0.3);
--vscode-editorGutter-background: #1e1e1e;
--vscode-editorUnnecessaryCode-opacity: rgba(0, 0, 0, 0.67);
--vscode-editorGhostText-foreground: rgba(255, 255, 255, 0.34);
--vscode-editorOverviewRuler-rangeHighlightForeground: rgba(0, 122, 204, 0.6);
--vscode-editorOverviewRuler-errorForeground: rgba(255, 18, 18, 0.7);
--vscode-editorOverviewRuler-warningForeground: #cca700;
--vscode-editorOverviewRuler-infoForeground: #3794ff;
--vscode-editorBracketHighlight-foreground1: #ffd700;
--vscode-editorBracketHighlight-foreground2: #da70d6;
--vscode-editorBracketHighlight-foreground3: #179fff;
--vscode-editorBracketHighlight-foreground4: rgba(0, 0, 0, 0);
--vscode-editorBracketHighlight-foreground5: rgba(0, 0, 0, 0);
--vscode-editorBracketHighlight-foreground6: rgba(0, 0, 0, 0);
--vscode-editorBracketHighlight-unexpectedBracket-foreground: rgba(255, 18, 18, 0.8);
--vscode-editorBracketPairGuide-background1: rgba(0, 0, 0, 0);
--vscode-editorBracketPairGuide-background2: rgba(0, 0, 0, 0);
--vscode-editorBracketPairGuide-background3: rgba(0, 0, 0, 0);
--vscode-editorBracketPairGuide-background4: rgba(0, 0, 0, 0);
--vscode-editorBracketPairGuide-background5: rgba(0, 0, 0, 0);
--vscode-editorBracketPairGuide-background6: rgba(0, 0, 0, 0);
--vscode-editorBracketPairGuide-activeBackground1: rgba(0, 0, 0, 0);
--vscode-editorBracketPairGuide-activeBackground2: rgba(0, 0, 0, 0);
--vscode-editorBracketPairGuide-activeBackground3: rgba(0, 0, 0, 0);
--vscode-editorBracketPairGuide-activeBackground4: rgba(0, 0, 0, 0);
--vscode-editorBracketPairGuide-activeBackground5: rgba(0, 0, 0, 0);
--vscode-editorBracketPairGuide-activeBackground6: rgba(0, 0, 0, 0);
--vscode-editorUnicodeHighlight-border: #bd9b03;
--vscode-editorUnicodeHighlight-background: rgba(189, 155, 3, 0.15);
--vscode-editorOverviewRuler-bracketMatchForeground: #a0a0a0;
--vscode-editor-linkedEditingBackground: rgba(255, 0, 0, 0.3);
--vscode-editor-wordHighlightBackground: rgba(87, 87, 87, 0.72);
--vscode-editor-wordHighlightStrongBackground: rgba(0, 73, 114, 0.72);
--vscode-editor-wordHighlightTextBackground: rgba(87, 87, 87, 0.72);
--vscode-editorOverviewRuler-wordHighlightForeground: rgba(160, 160, 160, 0.8);
--vscode-editorOverviewRuler-wordHighlightStrongForeground: rgba(192, 160, 192, 0.8);
--vscode-editorOverviewRuler-wordHighlightTextForeground: rgba(160, 160, 160, 0.8);
--vscode-peekViewTitle-background: #252526;
--vscode-peekViewTitleLabel-foreground: #ffffff;
--vscode-peekViewTitleDescription-foreground: rgba(204, 204, 204, 0.7);
--vscode-peekView-border: #3794ff;
--vscode-peekViewResult-background: #252526;
--vscode-peekViewResult-lineForeground: #bbbbbb;
--vscode-peekViewResult-fileForeground: #ffffff;
--vscode-peekViewResult-selectionBackground: rgba(51, 153, 255, 0.2);
--vscode-peekViewResult-selectionForeground: #ffffff;
--vscode-peekViewEditor-background: #001f33;
--vscode-peekViewEditorGutter-background: #001f33;
--vscode-peekViewEditorStickyScroll-background: #001f33;
--vscode-peekViewResult-matchHighlightBackground: rgba(234, 92, 0, 0.3);
--vscode-peekViewEditor-matchHighlightBackground: rgba(255, 143, 0, 0.6);
--vscode-editorMarkerNavigationError-background: #f14c4c;
--vscode-editorMarkerNavigationError-headerBackground: rgba(241, 76, 76, 0.1);
--vscode-editorMarkerNavigationWarning-background: #cca700;
--vscode-editorMarkerNavigationWarning-headerBackground: rgba(204, 167, 0, 0.1);
--vscode-editorMarkerNavigationInfo-background: #3794ff;
--vscode-editorMarkerNavigationInfo-headerBackground: rgba(55, 148, 255, 0.1);
--vscode-editorMarkerNavigation-background: #1e1e1e;
--vscode-editorHoverWidget-highlightForeground: #2aaaff;
--vscode-editorSuggestWidget-background: #252526;
--vscode-editorSuggestWidget-border: #454545;
--vscode-editorSuggestWidget-foreground: #d4d4d4;
--vscode-editorSuggestWidget-selectedForeground: #ffffff;
--vscode-editorSuggestWidget-selectedBackground: #04395e;
--vscode-editorSuggestWidget-highlightForeground: #2aaaff;
--vscode-editorSuggestWidget-focusHighlightForeground: #2aaaff;
--vscode-editorSuggestWidgetStatus-foreground: rgba(212, 212, 212, 0.5);
--vscode-editor-foldBackground: rgba(38, 79, 120, 0.3);
--vscode-editorGutter-foldingControlForeground: #c5c5c5; }

.mtk1 { color: #d4d4d4; }
.mtk2 { color: #1e1e1e; }
.mtk3 { color: #cc6666; }
.mtk4 { color: #9cdcfe; }
.mtk5 { color: #ce9178; }
.mtk6 { color: #b5cea8; }
.mtk7 { color: #608b4e; }
.mtk8 { color: #6aa94f; }
.mtk9 { color: #569cd6; }
.mtk10 { color: #f28b82; }
.mtk11 { color: #d7ba7d; }
.mtk12 { color: #dcdcdc; }
.mtk13 { color: #808080; }
.mtk14 { color: #4ec9b0; }
.mtk15 { color: #dcdcaa; }
.mtk16 { color: #f44747; }
.mtk17 { color: #82c6ff; }
.mtk18 { color: #c586c0; }
.mtk19 { color: #a79873; }
.mtk20 { color: #dd6a6f; }
.mtk21 { color: #5bb498; }
.mtk22 { color: #909090; }
.mtk23 { color: #778899; }
.mtk24 { color: #ff00ff; }
.mtk25 { color: #b46695; }
.mtk26 { color: #ff0000; }
.mtk27 { color: #4f76ac; }
.mtk28 { color: #3dc9b0; }
.mtk29 { color: #74b0df; }
.mtk30 { color: #4864aa; }
.mtki { font-style: italic; }
.mtkb { font-weight: bold; }
.mtku { text-decoration: underline; text-underline-position: under; }
.mtks { text-decoration: line-through; }
.mtks.mtku { text-decoration: underline line-through; text-underline-position: under; }</style><script async="async" type="text/javascript" src="./IAS_files/python.js.download"></script></head><body class="" style="overscroll-behavior: contain;"><div style="visibility: hidden; overflow: hidden; position: absolute; top: 0px; height: 1px; width: auto; padding: 0px; border: 0px; margin: 0px; text-align: left; text-indent: 0px; text-transform: none; line-height: normal; letter-spacing: normal; word-spacing: normal;"><div id="MathJax_Hidden"></div></div><div id="MathJax_Message" style="display: none;"></div><div class="scripts"><script nonce="">window.performance.mark('external_scripts_start');</script><script src="./IAS_files/gapi_loader.js.download" nonce=""></script><script src="./IAS_files/socketio_binary.js.download" nonce=""></script><script src="./IAS_files/analytics_binary.js.download" nonce=""></script><script src="./IAS_files/MathJax.js.download" nonce=""></script><script src="./IAS_files/js_monaco_editor_vs_loader.js.download" nonce=""></script><script nonce="">window.performance.mark('external_scripts_end'); window.performance.measure('external_scripts', 'external_scripts_start', 'external_scripts_end'); window.performance.mark('colab_load_start');</script><script src="./IAS_files/external_binary.js.download" nonce=""></script><script nonce="">
          window.performance.mark('colab_load_end');
          window.performance.measure('colab_load', 'colab_load_start', 'colab_load_end');
        </script></div><colab-snackbar leading="" labeltext="" id="message-area" class="message-area"><template shadowrootmode="open"><!----><style>
        :host .mdc-snackbar__surface {
          background-color: var(--colab-inverse-surface-color);
        }

        :host .mdc-snackbar__label {
          color: var(--colab-inverse-on-surface-color);
        }
      </style>
      <!--?lit$549300851$-->
      <div class="mdc-snackbar  mdc-snackbar--leading ">
        <div class="mdc-snackbar__surface">
          <!--?lit$549300851$-->
          <div class="mdc-snackbar__actions">
            <slot name="action"></slot>
            <slot name="dismiss"></slot>
          </div>
        </div>
      </div><!--?--></template>
      <md-icon-button class="close" slot="dismiss" title="Close" data-aria-label="Close" value=""><template shadowrootmode="open" shadowrootdelegatesfocus><!----><button id="button" class="icon-button  standard " aria-label="Close">
        <!--?lit$549300851$--><md-focus-ring part="focus-ring" for="button" aria-hidden="true"><template shadowrootmode="open"><!----></template></md-focus-ring>
        <!--?lit$549300851$--><md-ripple aria-hidden="true"><template shadowrootmode="open"><!----><div class="surface   "></div></template></md-ripple>
        <!--?lit$549300851$--><span class="icon"><slot></slot></span>
        <!--?lit$549300851$-->
        <!--?lit$549300851$--><span class="touch"></span>
  </button></template>
        <md-icon aria-hidden="true"><template shadowrootmode="open"><!----><slot></slot></template>close</md-icon>
      </md-icon-button>
    </colab-snackbar><colab-snackbar leading="" labeltext="" id="message-area-secondary" class="message-area"><template shadowrootmode="open"><!----><style>
        :host .mdc-snackbar__surface {
          background-color: var(--colab-inverse-surface-color);
        }

        :host .mdc-snackbar__label {
          color: var(--colab-inverse-on-surface-color);
        }
      </style>
      <!--?lit$549300851$-->
      <div class="mdc-snackbar mdc-snackbar--leading">
        <div class="mdc-snackbar__surface">
          <!--?lit$549300851$-->
          <div class="mdc-snackbar__actions">
            <slot name="action"></slot>
            <slot name="dismiss"></slot>
          </div>
        </div>
      </div><!--?--></template>
      <md-icon-button class="close" slot="dismiss" title="Close" data-aria-label="Close" value=""><template shadowrootmode="open" shadowrootdelegatesfocus><!----><button id="button" class="icon-button  standard " aria-label="Close">
        <!--?lit$549300851$--><md-focus-ring part="focus-ring" for="button" aria-hidden="true"><template shadowrootmode="open"><!----></template></md-focus-ring>
        <!--?lit$549300851$--><md-ripple aria-hidden="true"><template shadowrootmode="open"><!----><div class="surface   "></div></template></md-ripple>
        <!--?lit$549300851$--><span class="icon"><slot></slot></span>
        <!--?lit$549300851$-->
        <!--?lit$549300851$--><span class="touch"></span>
  </button></template>
        <md-icon aria-hidden="true"><template shadowrootmode="open"><!----><slot></slot></template>close</md-icon>
      </md-icon-button>
    </colab-snackbar><div ng-non-bindable=""></div><div class="gb_S" ng-non-bindable=""><div class="gb_Bc"><div>Google Account</div><div class="gb_g">Avishkar Khandekar</div><div>avishkarkhandekar31@gmail.com</div></div></div><script nonce="">this.gbar_=this.gbar_||{};(function(_){var window=this;
try{
var td;td=class extends _.ed{};_.ud=function(a,b){if(b in a.i)return a.i[b];throw new td;};_.vd=function(a){return _.ud(_.bd.i(),a)};
}catch(e){_._DumpException(e)}
try{
/*

 Copyright Google LLC
 SPDX-License-Identifier: Apache-2.0
*/
var yd;_.wd=function(a){const b=a.length;if(b>0){const c=Array(b);for(let d=0;d<b;d++)c[d]=a[d];return c}return[]};yd=function(a){return new _.xd(b=>b.substr(0,a.length+1).toLowerCase()===a+":")};_.zd=globalThis.trustedTypes;_.Ad=class{constructor(a){this.i=a}toString(){return this.i}};_.Bd=new _.Ad("about:invalid#zClosurez");_.xd=class{constructor(a){this.jh=a}};_.Cd=[yd("data"),yd("http"),yd("https"),yd("mailto"),yd("ftp"),new _.xd(a=>/^[^:]*([/?#]|$)/.test(a))];_.Dd=class{constructor(a){this.i=a}toString(){return this.i+""}};_.Ed=new _.Dd(_.zd?_.zd.emptyHTML:"");
}catch(e){_._DumpException(e)}
try{
var Jd,Xd,Id,Kd,Pd;_.Fd=function(a){return a==null?a:(0,_.Wa)(a)?a|0:void 0};_.Gd=function(a){if(a==null)return a;if(typeof a==="string"&&a)a=+a;else if(typeof a!=="number")return;return(0,_.Wa)(a)?a|0:void 0};_.Hd=function(a,b){return a.lastIndexOf(b,0)==0};Jd=function(){let a=null;if(!Id)return a;try{const b=c=>c;a=Id.createPolicy("ogb-qtm#html",{createHTML:b,createScript:b,createScriptURL:b})}catch(b){}return a};_.Ld=function(){Kd===void 0&&(Kd=Jd());return Kd};
_.Nd=function(a){const b=_.Ld();return new _.Md(b?b.createScriptURL(a):a)};_.Od=function(a){if(a instanceof _.Md)return a.i;throw Error("H");};_.Qd=function(a){if(Pd.test(a))return a};_.Rd=function(a){if(a instanceof _.Ad)if(a instanceof _.Ad)a=a.i;else throw Error("H");else a=_.Qd(a);return a};_.Sd=function(a,b=document){let c;const d=(c=b.querySelector)==null?void 0:c.call(b,`${a}[nonce]`);return d==null?"":d.nonce||d.getAttribute("nonce")||""};_.Td=function(a,b,c){return _.tb(a,b,c)!==void 0};
_.Ud=function(a,b){return _.Gd(_.Ac(a,b))};_.S=function(a,b){return _.Fd(_.Ac(a,b))};_.T=function(a,b,c=0){let d;return(d=_.Ud(a,b))!=null?d:c};_.Vd=function(a,b,c=0){let d;return(d=_.S(a,b))!=null?d:c};_.Wd=function(a){var b=_.Ua(a);return b=="array"||b=="object"&&typeof a.length=="number"};Id=_.zd;_.Md=class{constructor(a){this.i=a}toString(){return this.i+""}};Pd=/^\s*(?!javascript:)(?:[\w+.-]+:|[^:/?#]*(?:[/?#]|$))/i;var be,fe,Yd;_.$d=function(a){return a?new Yd(_.Zd(a)):Xd||(Xd=new Yd)};_.ae=function(a,b){return typeof b==="string"?a.getElementById(b):b};_.U=function(a,b){var c=b||document;c.getElementsByClassName?a=c.getElementsByClassName(a)[0]:(c=document,a?a=(b||c).querySelector(a?"."+a:""):(b=b||c,a=(a?b.querySelectorAll(a?"."+a:""):b.getElementsByTagName("*"))[0]||null));return a||null};
_.ce=function(a,b){_.vb(b,function(c,d){d=="style"?a.style.cssText=c:d=="class"?a.className=c:d=="for"?a.htmlFor=c:be.hasOwnProperty(d)?a.setAttribute(be[d],c):_.Hd(d,"aria-")||_.Hd(d,"data-")?a.setAttribute(d,c):a[d]=c})};be={cellpadding:"cellPadding",cellspacing:"cellSpacing",colspan:"colSpan",frameborder:"frameBorder",height:"height",maxlength:"maxLength",nonce:"nonce",role:"role",rowspan:"rowSpan",type:"type",usemap:"useMap",valign:"vAlign",width:"width"};
_.de=function(a){return a?a.defaultView:window};_.ge=function(a,b){const c=b[1],d=_.ee(a,String(b[0]));c&&(typeof c==="string"?d.className=c:Array.isArray(c)?d.className=c.join(" "):_.ce(d,c));b.length>2&&fe(a,d,b);return d};fe=function(a,b,c){function d(e){e&&b.appendChild(typeof e==="string"?a.createTextNode(e):e)}for(let e=2;e<c.length;e++){const f=c[e];!_.Wd(f)||_.Eb(f)&&f.nodeType>0?d(f):_.Xb(f&&typeof f.length=="number"&&typeof f.item=="function"?_.wd(f):f,d)}};
_.he=function(a){return _.ee(document,a)};_.ee=function(a,b){b=String(b);a.contentType==="application/xhtml+xml"&&(b=b.toLowerCase());return a.createElement(b)};_.ie=function(a){let b;for(;b=a.firstChild;)a.removeChild(b)};_.je=function(a){return a&&a.parentNode?a.parentNode.removeChild(a):null};_.ke=function(a,b){return a&&b?a==b||a.contains(b):!1};_.Zd=function(a){return a.nodeType==9?a:a.ownerDocument||a.document};Yd=function(a){this.i=a||_.t.document||document};_.n=Yd.prototype;
_.n.H=function(a){return _.ae(this.i,a)};_.n.Ua=function(a,b,c){return _.ge(this.i,arguments)};_.n.appendChild=function(a,b){a.appendChild(b)};_.n.re=_.ie;_.n.Mf=_.je;_.n.Lf=_.ke;
}catch(e){_._DumpException(e)}
try{
_.ui=function(a){const b=_.Sd("script",a.ownerDocument);b&&a.setAttribute("nonce",b)};_.vi=function(a){if(!a)return null;a=_.G(a,4);var b;a===null||a===void 0?b=null:b=_.Nd(a);return b};_.wi=class extends _.P{constructor(a){super(a)}};_.xi=function(a,b){return(b||document).getElementsByTagName(String(a))};
}catch(e){_._DumpException(e)}
try{
var zi=function(a,b,c){a<b?yi(a+1,b):_.Mc.log(Error("fa`"+a+"`"+b),{url:c})},yi=function(a,b){if(Ai){const c=_.he("SCRIPT");c.async=!0;c.type="text/javascript";c.charset="UTF-8";c.src=_.Od(Ai);_.ui(c);c.onerror=_.Hb(zi,a,b,c.src);_.xi("HEAD")[0].appendChild(c)}},Bi=class extends _.P{constructor(a){super(a)}};var Ci=_.C(_.Wc,Bi,17)||new Bi,Di,Ai=(Di=_.C(Ci,_.wi,1))?_.vi(Di):null,Ei,Fi=(Ei=_.C(Ci,_.wi,2))?_.vi(Ei):null,Gi=function(){yi(1,2);if(Fi){const a=_.he("LINK");a.setAttribute("type","text/css");a.href=_.Od(Fi).toString();a.rel="stylesheet";let b=_.Sd("style",document);b&&a.setAttribute("nonce",b);_.xi("HEAD")[0].appendChild(a)}};(function(){const a=_.Xc();if(_.F(a,18))Gi();else{const b=_.Ud(a,19)||0;window.addEventListener("load",()=>{window.setTimeout(Gi,b)})}})();
}catch(e){_._DumpException(e)}
})(this.gbar_);
// Google Inc.
</script><div style="position: absolute; width: 0px; height: 0px; overflow: hidden; padding: 0px; border: 0px; margin: 0px;"><div id="MathJax_Font_Test" style="position: absolute; visibility: hidden; top: 0px; left: 0px; width: auto; min-width: 0px; max-width: none; padding: 0px; border: 0px; margin: 0px; white-space: nowrap; text-align: left; text-indent: 0px; text-transform: none; line-height: normal; letter-spacing: normal; word-spacing: normal; font-size: 40px; font-weight: normal; font-style: normal; font-size-adjust: none; font-family: MathJax_Size1, monospace;"></div></div><iframe id="hfcr" src="./IAS_files/RotateCookiesPage.html" style="display: none;"></iframe><div class="notebook-vertical" style="position: relative;">
      <div class="top-floater"><div role="banner">
    <colab-header-skip-button><template shadowrootmode="open"><!----><a id="skiplink" class="skip-link" href="https://colab.research.google.com/drive/1d1RqHl9Gz5ArGreeK1-VGrIoR727fuOU#top-toolbar"><!--?lit$549300851$-->Skip to main content</a></template></colab-header-skip-button>
    <!--?lit$549300851$-->
    <!--?lit$549300851$-->
          <div id="private-outputs-warning" class="header-warning private-outputs-warning" hidden=""><md-icon aria-hidden="true"><template shadowrootmode="open"><!----><slot></slot></template>info</md-icon>
            <div class="message">
              <!--?lit$549300851$-->This notebook is open with private outputs. Outputs will not be saved. You can disable this in <a href="https://colab.research.google.com/drive/1d1RqHl9Gz5ArGreeK1-VGrIoR727fuOU#" id="private-outputs-notebook-info-link" command="notebook-settings" aria-describedby="private-outputs-notebook-info-link-tooltip">Notebook settings</a><colab-tooltip-trigger aria-hidden="true" for="private-outputs-notebook-info-link" id="private-outputs-notebook-info-link-tooltip"><template shadowrootmode="open"><!----><!--?lit$549300851$--><!----><div><!--?lit$549300851$-->Open notebook settings</div><!----><!--?--></template>
        </colab-tooltip-trigger>.
            </div>
          <div class="actions"><md-icon-button class="close" title="Close" data-aria-label="Close" value=""><template shadowrootmode="open" shadowrootdelegatesfocus><!----><button id="button" class="icon-button  standard " aria-label="Close">
        <!--?lit$549300851$--><md-focus-ring part="focus-ring" for="button" aria-hidden="true"><template shadowrootmode="open"><!----></template></md-focus-ring>
        <!--?lit$549300851$--><md-ripple aria-hidden="true"><template shadowrootmode="open"><!----><div class="surface   "></div></template></md-ripple>
        <!--?lit$549300851$--><span class="icon"><slot></slot></span>
        <!--?lit$549300851$-->
        <!--?lit$549300851$--><span class="touch"></span>
  </button></template>
          <md-icon aria-hidden="true"><template shadowrootmode="open"><!----><slot></slot></template>close</md-icon>
        </md-icon-button></div></div>
        
    <!--?lit$549300851$-->

    <div id="header" class="horizontal layout">
      <div id="header-background"><div></div></div>
      <div id="header-content">
        <!--?lit$549300851$-->
        <!--?lit$549300851$--><div id="header-logo">
              <!--?lit$549300851$--> <!--?lit$549300851$--><a href="https://drive.google.com/drive/search?q=owner%3Ame%20(type%3Aapplication%2Fvnd.google.colaboratory%20%7C%7C%20type%3Aapplication%2Fvnd.google.colab)&amp;authuser=0" aria-label="View in Google Drive">
        <!--?lit$549300851$--><md-icon class="colab-large-icon" aria-hidden="true"><template shadowrootmode="open"><!----><slot></slot></template><!--?lit$549300851$--><svg viewBox="0 0 24 24"><!--?lit$549300851$-->
      <g id="colab-logo">
        <path d="M4.54,9.46,2.19,7.1a6.93,6.93,0,0,0,0,9.79l2.36-2.36A3.59,3.59,0,0,1,4.54,9.46Z" style="fill:var(--colab-logo-dark)"></path>
        <path d="M2.19,7.1,4.54,9.46a3.59,3.59,0,0,1,5.08,0l1.71-2.93h0l-.1-.08h0A6.93,6.93,0,0,0,2.19,7.1Z" style="fill:var(--colab-logo-light)"></path>
        <path d="M11.34,17.46h0L9.62,14.54a3.59,3.59,0,0,1-5.08,0L2.19,16.9a6.93,6.93,0,0,0,9,.65l.11-.09" style="fill:var(--colab-logo-light)"></path>
        <path d="M12,7.1a6.93,6.93,0,0,0,0,9.79l2.36-2.36a3.59,3.59,0,1,1,5.08-5.08L21.81,7.1A6.93,6.93,0,0,0,12,7.1Z" style="fill:var(--colab-logo-light)"></path>
        <path d="M21.81,7.1,19.46,9.46a3.59,3.59,0,0,1-5.08,5.08L12,16.9A6.93,6.93,0,0,0,21.81,7.1Z" style="fill:var(--colab-logo-dark)"></path>
      </g></svg></md-icon>
      </a><!--?-->
            </div>
        <div id="header-doc-toolbar" class="flex">
          <div id="document-info">
            <!--?lit$549300851$--> <!--?lit$549300851$--><md-icon class="file-location-icon" id="file-type" aria-hidden="true" title="Notebook stored in Google Drive"><template shadowrootmode="open"><!----><slot></slot></template><!--?lit$549300851$-->
      <svg viewBox="0 0 192 192">
        <path d="M128.33,122l7.59,26.17l19.89,21.42c0,0,0,0,0,0v0c2.69-1.55,4.98-3.8,6.59-6.59l18.48-32 c1.61-2.78,2.41-5.89,2.41-9l-28.38-5.5L128.33,122z" fill="#EA4335"></path>
        <path d="M123.48,18.41c-2.69-1.55-5.78-2.41-9-2.41H77.53c-3.2,0-6.32,0.88-9,2.41l0,0l7.96,26.81l19.44,20.64 L96,66l0,0l19.58-20.89L123.48,18.41C123.48,18.41,123.48,18.41,123.48,18.41C123.48,18.41,123.48,18.41,123.48,18.41z" fill="#188038"></path>
        <path d="M63.67,122l-28.33-6.5L8.72,122c0,3.1,0.8,6.2,2.4,8.99L29.6,163c1.61,2.78,3.9,5.03,6.59,6.59 l19.59-20.18L63.67,122L63.67,122z" fill="#1967D2"></path>
        <path d="M155.47,69l-25.4-44c-1.61-2.79-3.9-5.04-6.59-6.59L96,66l32.33,56h54.95c0-3.11-0.8-6.21-2.41-9 L155.47,69z" fill="#FBBC04"></path><path d="M128.33,122H63.67l-27.48,47.59c2.69,1.55,5.78,2.41,9,2.41h101.61c3.22,0,6.31-0.86,9-2.41L128.33,122z" fill="#4285F4"></path>
        <path d="M96,66L68.53,18.41c-2.69,1.55-4.97,3.79-6.58,6.57l-50.83,88.05c-1.6,2.78-2.4,5.88-2.4,8.97h54.95L96,66 z" fill="#34A853"></path>
      </svg></md-icon>
    <input id="doc-name" class="doc-name" maxlength="259" autocomplete="off" aria-label="Notebook name" command="rename" aria-describedby="doc-name-tooltip" style="width: 94.4531px;"><colab-dom-lifecycle-events style="display: none;"></colab-dom-lifecycle-events></input><colab-tooltip-trigger aria-hidden="true" for="doc-name" id="doc-name-tooltip"><template shadowrootmode="open"><!----><!--?lit$549300851$--><!----><div><!--?lit$549300851$-->Rename notebook</div><!----><!--?--></template>
        </colab-tooltip-trigger><colab-input-sizer aria-hidden="true" style="left: -1000%; position: absolute; font-family: &quot;Google Sans&quot;, Roboto, Noto, sans-serif; font-size: 18px; font-weight: 400; letter-spacing: normal; padding-left: 3px; padding-right: 4px; white-space: pre;">IAS.ipynbS_</colab-input-sizer>
            <!--?lit$549300851$-->
                  <md-icon-button id="star-icon" command="toggle-star" aria-describedby="star-icon-tooltip" data-aria-label="Star" value=""><template shadowrootmode="open" shadowrootdelegatesfocus><!----><button id="button" class="icon-button  standard " aria-label="Star">
        <!--?lit$549300851$--><md-focus-ring part="focus-ring" for="button" aria-hidden="true"><template shadowrootmode="open"><!----></template></md-focus-ring>
        <!--?lit$549300851$--><md-ripple aria-hidden="true"><template shadowrootmode="open"><!----><div class="surface"></div></template></md-ripple>
        <!--?lit$549300851$--><span class="icon"><slot></slot></span>
        <!--?lit$549300851$-->
        <!--?lit$549300851$--><span class="touch"></span>
  </button></template>
                    <md-icon aria-hidden="true"><template shadowrootmode="open"><!----><slot></slot></template>star</md-icon>
                  </md-icon-button><colab-tooltip-trigger aria-hidden="true" for="star-icon" id="star-icon-tooltip"><template shadowrootmode="open"><!----><!--?lit$549300851$--><!----><div><!--?lit$549300851$-->Star notebook in Google Drive</div><!----><!--?--></template>
        </colab-tooltip-trigger>
                
            <!--?lit$549300851$--><colab-last-saved-indicator aria-live="polite" aria-atomic="true" class="lsi-refresh"><template shadowrootmode="open"><!----><md-icon-button id="button" data-aria-label="All changes saved" value=""><template shadowrootmode="open" shadowrootdelegatesfocus><!----><button id="button" class="icon-button  standard " aria-label="All changes saved">
        <!--?lit$549300851$--><md-focus-ring part="focus-ring" for="button" aria-hidden="true"><template shadowrootmode="open"><!----></template></md-focus-ring>
        <!--?lit$549300851$--><md-ripple aria-hidden="true"><template shadowrootmode="open"><!----><div class="surface   "></div></template></md-ripple>
        <!--?lit$549300851$--><span class="icon"><slot></slot></span>
        <!--?lit$549300851$-->
        <!--?lit$549300851$--><span class="touch"></span>
  </button></template><md-icon aria-hidden="true"><template shadowrootmode="open"><!----><slot></slot></template><!--?lit$549300851$-->cloud_done</md-icon></md-icon-button><colab-tooltip-trigger aria-hidden="true" for="button" id="button-tooltip" message="All changes saved"><template shadowrootmode="open"><!----><!--?lit$549300851$--><!----><div><!--?lit$549300851$-->All changes saved</div><!----><!--?--></template>
          </colab-tooltip-trigger></template></colab-last-saved-indicator>
          </div>
        <div class="menubar-wrapper"><div><!----><div id="top-menubar" class="goog-menubar format-lightborder" role="menubar" tabindex="0" style="user-select: none;"><!--?lit$549300851$--><div class="goog-menu-button goog-inline-block" id="file-menu-button" role="button" aria-expanded="false" aria-haspopup="true" style="user-select: none;"><div class="goog-inline-block goog-menu-button-outer-box" style="user-select: none;"><div class="goog-inline-block goog-menu-button-inner-box" style="user-select: none;"><div class="goog-inline-block goog-menu-button-caption" style="user-select: none;"><!--?lit$549300851$-->File</div><div class="goog-inline-block goog-menu-button-dropdown" style="user-select: none;">&nbsp;</div></div></div></div><div class="goog-menu-button goog-inline-block" id="edit-menu-button" role="button" aria-expanded="false" aria-haspopup="true" style="user-select: none;"><div class="goog-inline-block goog-menu-button-outer-box" style="user-select: none;"><div class="goog-inline-block goog-menu-button-inner-box" style="user-select: none;"><div class="goog-inline-block goog-menu-button-caption" style="user-select: none;"><!--?lit$549300851$-->Edit</div><div class="goog-inline-block goog-menu-button-dropdown" style="user-select: none;">&nbsp;</div></div></div></div><div class="goog-menu-button goog-inline-block" id="view-menu-button" role="button" aria-expanded="false" aria-haspopup="true" style="user-select: none;"><div class="goog-inline-block goog-menu-button-outer-box" style="user-select: none;"><div class="goog-inline-block goog-menu-button-inner-box" style="user-select: none;"><div class="goog-inline-block goog-menu-button-caption" style="user-select: none;"><!--?lit$549300851$-->View</div><div class="goog-inline-block goog-menu-button-dropdown" style="user-select: none;">&nbsp;</div></div></div></div><div class="goog-menu-button goog-inline-block" id="insert-menu-button" role="button" aria-expanded="false" aria-haspopup="true" style="user-select: none;"><div class="goog-inline-block goog-menu-button-outer-box" style="user-select: none;"><div class="goog-inline-block goog-menu-button-inner-box" style="user-select: none;"><div class="goog-inline-block goog-menu-button-caption" style="user-select: none;"><!--?lit$549300851$-->Insert</div><div class="goog-inline-block goog-menu-button-dropdown" style="user-select: none;">&nbsp;</div></div></div></div><div class="goog-menu-button goog-inline-block" id="runtime-menu-button" role="button" aria-expanded="false" aria-haspopup="true" style="user-select: none;"><div class="goog-inline-block goog-menu-button-outer-box" style="user-select: none;"><div class="goog-inline-block goog-menu-button-inner-box" style="user-select: none;"><div class="goog-inline-block goog-menu-button-caption" style="user-select: none;"><!--?lit$549300851$-->Runtime</div><div class="goog-inline-block goog-menu-button-dropdown" style="user-select: none;">&nbsp;</div></div></div></div><div class="goog-menu-button goog-inline-block" id="tools-menu-button" role="button" aria-expanded="false" aria-haspopup="true" style="user-select: none;"><div class="goog-inline-block goog-menu-button-outer-box" style="user-select: none;"><div class="goog-inline-block goog-menu-button-inner-box" style="user-select: none;"><div class="goog-inline-block goog-menu-button-caption" style="user-select: none;"><!--?lit$549300851$-->Tools</div><div class="goog-inline-block goog-menu-button-dropdown" style="user-select: none;">&nbsp;</div></div></div></div><div class="goog-menu-button goog-inline-block" id="help-menu-button" role="button" aria-expanded="false" aria-haspopup="true" style="user-select: none;"><div class="goog-inline-block goog-menu-button-outer-box" style="user-select: none;"><div class="goog-inline-block goog-menu-button-inner-box" style="user-select: none;"><div class="goog-inline-block goog-menu-button-caption" style="user-select: none;"><!--?lit$549300851$-->Help</div><div class="goog-inline-block goog-menu-button-dropdown" style="user-select: none;">&nbsp;</div></div></div></div></div></div></div></div>
        <div id="header-right">
          <!--?lit$549300851$-->
    <colab-collaborator-bar id="collaborator-bar"><template shadowrootmode="open"><!----> <div class="collaborator-bar">
      <!--?lit$549300851$-->
      <!--?lit$549300851$-->
    </div></template></colab-collaborator-bar>
  
          <!--?lit$549300851$--> <md-icon-button id="comments" command="open-comments-thread" data-aria-label="Open comments pane" aria-describedby="comments-tooltip" value=""><template shadowrootmode="open" shadowrootdelegatesfocus><!----><button id="button" class="icon-button  standard " aria-label="Open comments pane">
        <!--?lit$549300851$--><md-focus-ring part="focus-ring" for="button" aria-hidden="true"><template shadowrootmode="open"><!----></template></md-focus-ring>
        <!--?lit$549300851$--><md-ripple aria-hidden="true"><template shadowrootmode="open"><!----><div class="surface"></div></template></md-ripple>
        <!--?lit$549300851$--><span class="icon"><slot></slot></span>
        <!--?lit$549300851$-->
        <!--?lit$549300851$--><span class="touch"></span>
  </button></template>
                <md-icon aria-hidden="true"><template shadowrootmode="open"><!----><slot></slot></template>comment</md-icon>
              </md-icon-button><colab-tooltip-trigger aria-hidden="true" for="comments" id="comments-tooltip"><template shadowrootmode="open"><!----><!--?lit$549300851$--><!----><div><!--?lit$549300851$-->Open comments pane</div><!----><!--?--></template>
        </colab-tooltip-trigger>
          <!--?lit$549300851$--> <md-icon-button id="settings-cog" command="preferences" data-aria-label="Open settings" aria-describedby="settings-cog-tooltip" value=""><template shadowrootmode="open" shadowrootdelegatesfocus><!----><button id="button" class="icon-button  standard " aria-label="Open settings">
        <!--?lit$549300851$--><md-focus-ring part="focus-ring" for="button" aria-hidden="true"><template shadowrootmode="open"><!----></template></md-focus-ring>
        <!--?lit$549300851$--><md-ripple aria-hidden="true"><template shadowrootmode="open"><!----><div class="surface"></div></template></md-ripple>
        <!--?lit$549300851$--><span class="icon"><slot></slot></span>
        <!--?lit$549300851$-->
        <!--?lit$549300851$--><span class="touch"></span>
  </button></template>
                <md-icon aria-hidden="true"><template shadowrootmode="open"><!----><slot></slot></template>settings</md-icon>
              </md-icon-button><colab-tooltip-trigger aria-hidden="true" for="settings-cog" id="settings-cog-tooltip"><template shadowrootmode="open"><!----><!--?lit$549300851$--><!----><div><!--?lit$549300851$-->Open settings</div><!----><!--?--></template>
        </colab-tooltip-trigger>
          <!--?lit$549300851$--> <md-filled-tonal-button id="share-toolbar-button" command="share" aria-describedby="share-toolbar-button-tooltip" value="" has-icon=""><template shadowrootmode="open" shadowrootdelegatesfocus><!---->
      <!--?lit$549300851$--><md-elevation part="elevation" aria-hidden="true"><template shadowrootmode="open"><!----><span class="shadow"></span></template></md-elevation>
      <div class="background"></div>
      <md-focus-ring part="focus-ring" for="button" aria-hidden="true"><template shadowrootmode="open"><!----></template></md-focus-ring>
      <md-ripple part="ripple" for="button" aria-hidden="true"><template shadowrootmode="open"><!----><div class="surface"></div></template></md-ripple>
      <!--?lit$549300851$--><button id="button" class="button">
      <!--?lit$549300851$-->
      <span class="touch"></span>
      <!--?lit$549300851$--><slot name="icon"></slot>
      <span class="label"><slot></slot></span>
      <!--?lit$549300851$-->
    
    </button>
    </template>
                <md-icon slot="icon" aria-hidden="true"><template shadowrootmode="open"><!----><slot></slot></template><!--?lit$549300851$-->people</md-icon>
                <!--?lit$549300851$-->Share
              </md-filled-tonal-button><colab-tooltip-trigger aria-hidden="true" for="share-toolbar-button" id="share-toolbar-button-tooltip"><template shadowrootmode="open"><!----><!--?lit$549300851$--><!----><div><!--?lit$549300851$-->Share notebook</div><!----><!--?--></template>
        </colab-tooltip-trigger>
          <md-icon-button class="show-chat-button" id="show-chat-button" command="show-chat" data-aria-label="Show Gemini" aria-describedby="show-chat-button-tooltip" value=""><template shadowrootmode="open" shadowrootdelegatesfocus><!----><button id="button" class="icon-button  standard " aria-label="Show Gemini">
        <!--?lit$549300851$--><md-focus-ring part="focus-ring" for="button" aria-hidden="true"><template shadowrootmode="open"><!----></template></md-focus-ring>
        <!--?lit$549300851$--><md-ripple aria-hidden="true"><template shadowrootmode="open"><!----><div class="surface"></div></template></md-ripple>
        <!--?lit$549300851$--><span class="icon"><slot></slot></span>
        <!--?lit$549300851$-->
        <!--?lit$549300851$--><span class="touch"></span>
  </button></template>
            <md-icon aria-hidden="true"><template shadowrootmode="open"><!----><slot></slot></template>spark</md-icon>
          </md-icon-button><colab-tooltip-trigger aria-hidden="true" for="show-chat-button" id="show-chat-button-tooltip"><template shadowrootmode="open"><!----><!--?lit$549300851$--><!----><div><!--?lit$549300851$-->Show Gemini</div><!----><!--?--></template>
        </colab-tooltip-trigger>
          <div class="header-onegoogle-container"><div class="onegoogle"><div class="gb_Fa gb_Jd gb_2d gb_Wc" id="gb"><div class="gb_Cd gb_Zd gb_xd" ng-non-bindable="" data-ogsr-up="" style="padding:0;height:auto;display:block"><div class="gb_Qe" style="display:block"><div class="gb_3c"></div><div class="gb_z gb_cd gb_Mf gb_0"><div class="gb_D gb_jb gb_Mf gb_0"><a class="gb_B gb_Za gb_0" aria-expanded="false" aria-label="Google Account: Avishkar Khandekar  
(avishkarkhandekar31@gmail.com)" href="https://accounts.google.com/SignOutOptions?hl=en&amp;continue=https://colab.research.google.com/&amp;ec=GBRAqQM" tabindex="0" role="button"><img class="gb_P gbii" src="./IAS_files/unnamed.jpg" srcset="https://lh3.googleusercontent.com/ogw/AF2bZyho9uuyHYTwCcesiJbCz8Cp6nRO7oxFC6VJc3bH9Ut_AzA=s32-c-mo 1x, https://lh3.googleusercontent.com/ogw/AF2bZyho9uuyHYTwCcesiJbCz8Cp6nRO7oxFC6VJc3bH9Ut_AzA=s64-c-mo 2x " alt="" aria-hidden="true" data-noaft=""><div class="gb_Q gb_R" aria-hidden="true"><svg class="gb_Ka" height="14" viewBox="0 0 14 14" width="14" xmlns="http://www.w3.org/2000/svg"><circle class="gb_La" cx="7" cy="7" r="7"></circle><path class="gb_Na" d="M6 10H8V12H6V10ZM6 2H8V8H6V2Z"></path></svg></div></a></div></div></div><div aria-hidden="true" style="overflow: hidden; position: absolute; top: 0px; visibility: hidden; width: 436px; z-index: 991; height: 0px; margin-top: 57px; right: 0px; margin-right: 4px;"><iframe role="presentation" frameborder="0" scrolling="no" name="account" src="./IAS_files/saved_resource.html" style="height: 100%; width: 100%; color-scheme: light; visibility: hidden;"></iframe></div><div style="overflow: hidden; position: absolute; top: 0px; visibility: hidden; width: 420px; z-index: 991; height: 280px; margin-top: 70px; right: 0px; margin-right: 25px;"></div></div></div><script nonce="">this.gbar_=this.gbar_||{};(function(_){var window=this;
try{
_.pd=function(a,b,c){if(!a.j)if(c instanceof Array)for(var d of c)_.pd(a,b,d);else{d=(0,_.z)(a.C,a,b);const e=a.v+c;a.v++;b.dataset.eqid=e;a.B[e]=d;b&&b.addEventListener?b.addEventListener(c,d,!1):b&&b.attachEvent?b.attachEvent("on"+c,d):a.o.log(Error("D`"+b))}};
}catch(e){_._DumpException(e)}
try{
var qd=document.querySelector(".gb_J .gb_B"),rd=document.querySelector("#gb.gb_Sc");qd&&!rd&&_.pd(_.ad,qd,"click");
}catch(e){_._DumpException(e)}
try{
_.Wg=function(a){if(a.v)return a.v;for(const b in a.i)if(a.i[b].fa()&&a.i[b].B())return a.i[b];return null};_.Xg=function(a,b){a.i[b.J()]=b};var Yg=new class extends _.Q{constructor(){var a=_.Mc;super();this.B=a;this.v=null;this.o={};this.C={};this.i={};this.j=null}A(a){this.i[a]&&(_.Wg(this)&&_.Wg(this).J()==a||this.i[a].R(!0))}Pa(a){this.j=a;for(const b in this.i)this.i[b].fa()&&this.i[b].Pa(a)}ec(a){return a in this.i?this.i[a]:null}};_.dd("dd",Yg);
}catch(e){_._DumpException(e)}
try{
_.oi=function(a,b){return _.K(a,36,b)};
}catch(e){_._DumpException(e)}
try{
var pi=document.querySelector(".gb_z .gb_B"),qi=document.querySelector("#gb.gb_Sc");pi&&!qi&&_.pd(_.ad,pi,"click");
}catch(e){_._DumpException(e)}
})(this.gbar_);
// Google Inc.
</script></div></div>
        </div>
      </div>
    </div>
  </div></div><div class="notebook-horizontal">
        <!--?lit$549300851$--><colab-left-pane role="complementary" aria-label="left pane" class=""><!----><div class="colab-left-pane-nib layout vertical" role="toolbar" aria-orientation="vertical">
        <div class="left-pane-top"><!----><div class="left-pane-button">
        <!--?lit$549300851$--><md-icon-button toggle="" command="show-toc-pane" data-aria-label="Table of contents" title="Table of contents" value="" tabindex="-1"><template shadowrootmode="open" shadowrootdelegatesfocus><!----><button id="button" class="icon-button standard" aria-label="Table of contents" aria-pressed="false">
        <!--?lit$549300851$--><md-focus-ring part="focus-ring" for="button" aria-hidden="true"><template shadowrootmode="open"><!----></template></md-focus-ring>
        <!--?lit$549300851$--><md-ripple aria-hidden="true"><template shadowrootmode="open"><!----><div class="surface"></div></template></md-ripple>
        <!--?lit$549300851$--><span class="icon"><slot></slot></span>
        <!--?lit$549300851$-->
        <!--?lit$549300851$--><span class="touch"></span>
  </button></template>
      <md-icon aria-hidden="true"><template shadowrootmode="open"><!----><slot></slot></template><!--?lit$549300851$-->format_list_bulleted</md-icon>
    </md-icon-button> <!--?lit$549300851$-->
      </div><!----><div class="left-pane-button">
        <!--?lit$549300851$--><md-icon-button toggle="" command="find" data-aria-label="Find and replace" title="Find and replace" value="" tabindex="-1"><template shadowrootmode="open" shadowrootdelegatesfocus><!----><button id="button" class="icon-button  standard " aria-label="Find and replace" aria-pressed="false">
        <!--?lit$549300851$--><md-focus-ring part="focus-ring" for="button" aria-hidden="true"><template shadowrootmode="open"><!----></template></md-focus-ring>
        <!--?lit$549300851$--><md-ripple aria-hidden="true"><template shadowrootmode="open"><!----><div class="surface"></div></template></md-ripple>
        <!--?lit$549300851$--><span class="icon"><slot></slot></span>
        <!--?lit$549300851$-->
        <!--?lit$549300851$--><span class="touch"></span>
  </button></template>
      <md-icon aria-hidden="true"><template shadowrootmode="open"><!----><slot></slot></template><!--?lit$549300851$-->find_in_page</md-icon>
    </md-icon-button> <!--?lit$549300851$-->
      </div><!----><div class="left-pane-button">
        <!--?lit$549300851$--><md-icon-button toggle="" command="show-variables" data-aria-label="Variables" title="Variables" value="" tabindex="-1"><template shadowrootmode="open" shadowrootdelegatesfocus><!----><button id="button" class="icon-button  standard " aria-label="Variables" aria-pressed="false">
        <!--?lit$549300851$--><md-focus-ring part="focus-ring" for="button" aria-hidden="true"><template shadowrootmode="open"><!----></template></md-focus-ring>
        <!--?lit$549300851$--><md-ripple aria-hidden="true"><template shadowrootmode="open"><!----><div class="surface"></div></template></md-ripple>
        <!--?lit$549300851$--><span class="icon"><slot></slot></span>
        <!--?lit$549300851$-->
        <!--?lit$549300851$--><span class="touch"></span>
  </button></template>
      <md-icon aria-hidden="true"><template shadowrootmode="open"><!----><slot></slot></template><!--?lit$549300851$--><svg viewBox="0 0 24 24"><!--?lit$549300851$-->
      <path d="M4.51,9.44V6.08c0-1.34.37-1.85,1.6-2.17l.22-.06V3.13l-.27,0-.44,0a4.46,4.46,0,0,0-2.2.59,2.78,2.78,0,0,0-1,2.51V9.74c0,1.26-.26,1.61-1.49,2L0,12l.94.29c1.21.38,1.49.75,1.49,2v3.5a2.94,2.94,0,0,0,1,2.6,4.39,4.39,0,0,0,2.14.56l.46,0,.27,0v-.72l-.22-.06c-1.24-.32-1.6-.81-1.6-2.17V14.58c0-1.43-.3-2.13-1.25-2.57C4.2,11.57,4.51,10.87,4.51,9.44Z"></path>
      <path d="M23.06,11.71c-1.22-.36-1.49-.71-1.49-2l0-3.5a3,3,0,0,0-1-2.6,4.38,4.38,0,0,0-2.14-.56l-.46,0-.27,0v.72l.22.06c1.24.32,1.6.81,1.6,2.17V9.44c0,1.44.3,2.13,1.25,2.57-1,.44-1.25,1.14-1.25,2.57v3.36c0,1.34-.37,1.85-1.6,2.17l-.22.06v.72l.27,0,.44,0a4.47,4.47,0,0,0,2.2-.59,2.82,2.82,0,0,0,1-2.51V14.28c0-1.26.26-1.61,1.49-2L24,12Z"></path>
      <path d="M15.16,8.22a.88.88,0,0,1,.46.16,1.25,1.25,0,0,0,.69.2h0A1,1,0,0,0,17,8.23a1.06,1.06,0,0,0,.24-.8,1.1,1.1,0,0,0-1.15-1h0c-1,0-1.73.64-3,2.57l-.12-.51c-.28-1.36-.56-2-1.39-2h0A8,8,0,0,0,9,7.08l-.47.16.16.91L9.41,8a3.22,3.22,0,0,1,.73-.14c.34,0,.43,0,.71,1.2l.56,2.47L9.76,13.82a3.6,3.6,0,0,1-.8.88.9.9,0,0,1-.38-.13,1.83,1.83,0,0,0-.88-.28,1,1,0,0,0-1,1.06A1.15,1.15,0,0,0,8,16.53c.85,0,1.35-.35,2.24-1.55l1.49-2,.46,1.88c.23,1,.46,1.66,1.53,1.66s1.66-.75,2.81-2.53l.17-.26-.81-.48-.16.2-.25.34-.19.25c-.45.57-.62.73-.76.73s-.28-.4-.34-.63l-.67-2.83a4.2,4.2,0,0,1-.15-.79C13.84,9.78,14.74,8.22,15.16,8.22Z"></path></svg></md-icon>
    </md-icon-button> <!--?lit$549300851$-->
      </div><!----><div class="left-pane-button">
        <!--?lit$549300851$--><md-icon-button toggle="" command="open-user-secrets" data-aria-label="Secrets" title="Secrets" value="" tabindex="-1"><template shadowrootmode="open" shadowrootdelegatesfocus><!----><button id="button" class="icon-button  standard " aria-label="Secrets" aria-pressed="false">
        <!--?lit$549300851$--><md-focus-ring part="focus-ring" for="button" aria-hidden="true"><template shadowrootmode="open"><!----></template></md-focus-ring>
        <!--?lit$549300851$--><md-ripple aria-hidden="true"><template shadowrootmode="open"><!----><div class="surface"></div></template></md-ripple>
        <!--?lit$549300851$--><span class="icon"><slot></slot></span>
        <!--?lit$549300851$-->
        <!--?lit$549300851$--><span class="touch"></span>
  </button></template>
      <md-icon aria-hidden="true"><template shadowrootmode="open"><!----><slot></slot></template><!--?lit$549300851$-->vpn_key</md-icon>
    </md-icon-button> <!--?lit$549300851$-->
      </div><!----><div class="left-pane-button">
        <!--?lit$549300851$--><md-icon-button toggle="" command="show-files" data-aria-label="Files" title="Files" value=""><template shadowrootmode="open" shadowrootdelegatesfocus><!----><button id="button" class="icon-button standard" aria-label="Files" aria-pressed="false">
        <!--?lit$549300851$--><md-focus-ring part="focus-ring" for="button" aria-hidden="true"><template shadowrootmode="open"><!----></template></md-focus-ring>
        <!--?lit$549300851$--><md-ripple aria-hidden="true"><template shadowrootmode="open"><!----><div class="surface"></div></template></md-ripple>
        <!--?lit$549300851$--><span class="icon"><slot></slot></span>
        <!--?lit$549300851$-->
        <!--?lit$549300851$--><span class="touch"></span>
  </button></template>
      <md-icon aria-hidden="true"><template shadowrootmode="open"><!----><slot></slot></template><!--?lit$549300851$-->folder</md-icon>
    </md-icon-button> <!--?lit$549300851$-->
      </div></div>
        <div class="left-pane-bottom"><!----><div class="left-pane-button">
        <!--?lit$549300851$--><md-icon-button command="snippets" data-aria-label="Code snippets" title="Code snippets" value="" tabindex="-1"><template shadowrootmode="open" shadowrootdelegatesfocus><!----><button id="button" class="icon-button  standard " aria-label="Code snippets">
        <!--?lit$549300851$--><md-focus-ring part="focus-ring" for="button" aria-hidden="true"><template shadowrootmode="open"><!----></template></md-focus-ring>
        <!--?lit$549300851$--><md-ripple aria-hidden="true"><template shadowrootmode="open"><!----><div class="surface"></div></template></md-ripple>
        <!--?lit$549300851$--><span class="icon"><slot></slot></span>
        <!--?lit$549300851$-->
        <!--?lit$549300851$--><span class="touch"></span>
  </button></template>
      <md-icon aria-hidden="true"><template shadowrootmode="open"><!----><slot></slot></template><!--?lit$549300851$-->code</md-icon>
    </md-icon-button> <!--?lit$549300851$-->
      </div><!----><div class="left-pane-button">
        <!--?lit$549300851$--><md-icon-button command="show-command-palette" data-aria-label="Command palette" title="Command palette" value="" tabindex="-1"><template shadowrootmode="open" shadowrootdelegatesfocus><!----><button id="button" class="icon-button  standard " aria-label="Command palette">
        <!--?lit$549300851$--><md-focus-ring part="focus-ring" for="button" aria-hidden="true"><template shadowrootmode="open"><!----></template></md-focus-ring>
        <!--?lit$549300851$--><md-ripple aria-hidden="true"><template shadowrootmode="open"><!----><div class="surface"></div></template></md-ripple>
        <!--?lit$549300851$--><span class="icon"><slot></slot></span>
        <!--?lit$549300851$-->
        <!--?lit$549300851$--><span class="touch"></span>
  </button></template>
      <md-icon aria-hidden="true"><template shadowrootmode="open"><!----><slot></slot></template><!--?lit$549300851$--><svg viewBox="0 0 24 24"><!--?lit$549300851$-->
      <path d="M21,3H3A2,2,0,0,0,1,5V17a2,2,0,0,0,2,2H21a2,2,0,0,0,2-2V5A2,2,0,0,0,21,3Zm0,2V17H3V5"></path>
      <rect x="5" y="12" width="11" height="2"></rect>
      <rect x="5" y="8" width="11" height="2"></rect>
      <rect x="17" y="8" width="2" height="2"></rect>
      <rect x="17" y="12" width="2" height="2"></rect></svg></md-icon>
    </md-icon-button> <!--?lit$549300851$-->
      </div><!----><div class="left-pane-button">
        <!--?lit$549300851$--><md-icon-button command="show-terminal" data-aria-label="Terminal" title="Terminal" value="" tabindex="-1"><template shadowrootmode="open" shadowrootdelegatesfocus><!----><button id="button" class="icon-button  standard " aria-label="Terminal">
        <!--?lit$549300851$--><md-focus-ring part="focus-ring" for="button" aria-hidden="true"><template shadowrootmode="open"><!----></template></md-focus-ring>
        <!--?lit$549300851$--><md-ripple aria-hidden="true"><template shadowrootmode="open"><!----><div class="surface   "></div></template></md-ripple>
        <!--?lit$549300851$--><span class="icon"><slot></slot></span>
        <!--?lit$549300851$-->
        <!--?lit$549300851$--><span class="touch"></span>
  </button></template>
      <md-icon aria-hidden="true"><template shadowrootmode="open"><!----><slot></slot></template><!--?lit$549300851$-->terminal</md-icon>
    </md-icon-button> <!--?lit$549300851$-->
      </div></div>
      </div></colab-left-pane>
        <div class="layout vertical grow">
          <colab-notebook-toolbar id="top-toolbar" class="horizontal layout center noshrink"><!----> <!--?lit$549300851$-->
          <colab-toolbar-button command="insert-cell-below" icon="add" id="toolbar-add-code"><template shadowrootmode="open"><!----><md-text-button id="button" data-aria-disabled="false" value="" has-icon=""><template shadowrootmode="open" shadowrootdelegatesfocus><!---->
      <!--?lit$549300851$-->
      <div class="background"></div>
      <md-focus-ring part="focus-ring" for="button" aria-hidden="true"><template shadowrootmode="open"><!----></template></md-focus-ring>
      <md-ripple part="ripple" for="button" aria-hidden="true"><template shadowrootmode="open"><!----><div class="surface"></div></template></md-ripple>
      <!--?lit$549300851$--><button id="button" class="button">
      <!--?lit$549300851$-->
      <span class="touch"></span>
      <!--?lit$549300851$--><slot name="icon"></slot>
      <span class="label"><slot></slot></span>
      <!--?lit$549300851$-->
    
    </button>
    </template>
        <!--?lit$549300851$--><md-icon slot="icon" aria-hidden="true"><template shadowrootmode="open"><!----><slot></slot></template><!--?lit$549300851$-->add</md-icon>
        <span class="button-content"><slot></slot></span>
        <!--?lit$549300851$--><span class="screenreader-only"><!--?lit$549300851$-->Insert code cell below <!--?lit$549300851$-->Ctrl+M B</span>
      </md-text-button>
      <!--?lit$549300851$--> <colab-tooltip-trigger for="button" aria-hidden="true" id="tooltip" message="Insert code cell below" shortcut="Ctrl+M B"><template shadowrootmode="open"><!----><!--?lit$549300851$--><!----><div><!--?lit$549300851$-->Insert code cell below (Ctrl+M B)</div><!----><!--?--></template>
          </colab-tooltip-trigger><!--?--></template>
            <!--?lit$549300851$-->Code
          </colab-toolbar-button>
          <!--?lit$549300851$-->
          <colab-toolbar-button command="add-text" icon="add" id="toolbar-add-text"><template shadowrootmode="open"><!----><md-text-button id="button" data-aria-disabled="false" value="" has-icon=""><template shadowrootmode="open" shadowrootdelegatesfocus><!---->
      <!--?lit$549300851$-->
      <div class="background"></div>
      <md-focus-ring part="focus-ring" for="button" aria-hidden="true"><template shadowrootmode="open"><!----></template></md-focus-ring>
      <md-ripple part="ripple" for="button" aria-hidden="true"><template shadowrootmode="open"><!----><div class="surface"></div></template></md-ripple>
      <!--?lit$549300851$--><button id="button" class="button">
      <!--?lit$549300851$-->
      <span class="touch"></span>
      <!--?lit$549300851$--><slot name="icon"></slot>
      <span class="label"><slot></slot></span>
      <!--?lit$549300851$-->
    
    </button>
    </template>
        <!--?lit$549300851$--><md-icon slot="icon" aria-hidden="true"><template shadowrootmode="open"><!----><slot></slot></template><!--?lit$549300851$-->add</md-icon>
        <span class="button-content"><slot></slot></span>
        <!--?lit$549300851$--><span class="screenreader-only"><!--?lit$549300851$-->Add text cell <!--?lit$549300851$--></span>
      </md-text-button>
      <!--?lit$549300851$--> <colab-tooltip-trigger for="button" aria-hidden="true" id="tooltip" message="Add text cell" shortcut=""><template shadowrootmode="open"><!----><!--?lit$549300851$--><!----><div><!--?lit$549300851$-->Add text cell</div><!----><!--?--></template>
          </colab-tooltip-trigger><!--?--></template>
            <!--?lit$549300851$-->Text
          </colab-toolbar-button>
        
    <!--?lit$549300851$-->
    <!--?lit$549300851$-->
    <!--?lit$549300851$-->
    <!--?lit$549300851$-->
    <!--?lit$549300851$--> <span class="collapsed-options">
          <colab-last-saved-indicator aria-live="polite" aria-atomic="true" class="lsi-refresh"><template shadowrootmode="open"><!----><md-icon-button id="button" data-aria-label="All changes saved" value=""><template shadowrootmode="open" shadowrootdelegatesfocus><!----><button id="button" class="icon-button  standard " aria-label="All changes saved">
        <!--?lit$549300851$--><md-focus-ring part="focus-ring" for="button" aria-hidden="true"><template shadowrootmode="open"><!----></template></md-focus-ring>
        <!--?lit$549300851$--><md-ripple aria-hidden="true"><template shadowrootmode="open"><!----><div class="surface   "></div></template></md-ripple>
        <!--?lit$549300851$--><span class="icon"><slot></slot></span>
        <!--?lit$549300851$-->
        <!--?lit$549300851$--><span class="touch"></span>
  </button></template><md-icon aria-hidden="true"><template shadowrootmode="open"><!----><slot></slot></template><!--?lit$549300851$-->cloud_done</md-icon></md-icon-button><colab-tooltip-trigger aria-hidden="true" for="button" id="button-tooltip" message="All changes saved"><template shadowrootmode="open"><!----><!--?lit$549300851$--><!----><div><!--?lit$549300851$-->All changes saved</div><!----><!--?--></template>
          </colab-tooltip-trigger></template></colab-last-saved-indicator>
        </span>

    <span class="flex"></span>
    <!--?lit$549300851$--><colab-connect-warning-button><template shadowrootmode="open"><!----><!--?lit$549300851$--><!--?--><!--?--></template></colab-connect-warning-button>
    <!--?lit$549300851$--><!--?lit$549300851$--><colab-connect-button><template shadowrootmode="open"><!----> <!--?lit$549300851$--> <!--?lit$549300851$--><md-icon-button id="connect-icon" class="icon-okay" data-aria-label="Focus the last run cell" value=""><template shadowrootmode="open" shadowrootdelegatesfocus><!----><button id="button" class="icon-button  standard " aria-label="Focus the last run cell">
        <!--?lit$549300851$--><md-focus-ring part="focus-ring" for="button" aria-hidden="true"><template shadowrootmode="open"><!----></template></md-focus-ring>
        <!--?lit$549300851$--><md-ripple aria-hidden="true"><template shadowrootmode="open"><!----><div class="surface"></div></template></md-ripple>
        <!--?lit$549300851$--><span class="icon"><slot></slot></span>
        <!--?lit$549300851$-->
        <!--?lit$549300851$--><span class="touch"></span>
  </button></template>
            <md-icon aria-hidden="true"><template shadowrootmode="open"><!----><slot></slot></template><!--?lit$549300851$-->done</md-icon>
          </md-icon-button>
          <colab-tooltip-trigger for="connect-icon" id="connect-icon-tooltip" aria-hidden="true" message="Focus the last run cell"><template shadowrootmode="open"><!----><!--?lit$549300851$--><!----><div><!--?lit$549300851$-->Focus the last run cell</div><!----><!--?--></template>
          </colab-tooltip-trigger>
      <colab-toolbar-button id="connect" tooltipid="colab-connect-tooltip" tooltiptext="Connected to
Python 3 Google Compute Engine backend
RAM: 1.14 GB/12.67 GB
Disk: 29.11 GB/107.72 GB"><template shadowrootmode="open"><!----><md-text-button id="button" value="" data-aria-disabled="false"><template shadowrootmode="open" shadowrootdelegatesfocus><!---->
      <!--?lit$549300851$-->
      <div class="background"></div>
      <md-focus-ring part="focus-ring" for="button" aria-hidden="true"><template shadowrootmode="open"><!----></template></md-focus-ring>
      <md-ripple part="ripple" for="button" aria-hidden="true"><template shadowrootmode="open"><!----><div class="surface"></div></template></md-ripple>
      <!--?lit$549300851$--><button id="button" class="button">
      <!--?lit$549300851$-->
      <span class="touch"></span>
      <!--?lit$549300851$--><slot name="icon"></slot>
      <span class="label"><slot></slot></span>
      <!--?lit$549300851$-->
    
    </button>
    </template>
        <!--?lit$549300851$-->
        <span class="button-content"><slot></slot></span>
        <!--?lit$549300851$--><span class="screenreader-only"><!--?lit$549300851$-->Connected to
Python 3 Google Compute Engine backend
RAM: 1.14 GB/12.67 GB
Disk: 29.11 GB/107.72 GB <!--?lit$549300851$--></span>
      </md-text-button>
      <!--?lit$549300851$--> <colab-tooltip-trigger for="button" aria-hidden="true" id="colab-connect-tooltip" message="Connected to
Python 3 Google Compute Engine backend
RAM: 1.14 GB/12.67 GB
Disk: 29.11 GB/107.72 GB" shortcut=""><template shadowrootmode="open"><!----><!--?lit$549300851$--><!----><div><!--?lit$549300851$-->Connected to</div><!----><!----><div><!--?lit$549300851$-->Python 3 Google Compute Engine backend</div><!----><!----><div><!--?lit$549300851$-->RAM: 1.14 GB/12.67 GB</div><!----><!----><div><!--?lit$549300851$-->Disk: 29.11 GB/107.72 GB</div><!----><!--?--></template>
          </colab-tooltip-trigger><!--?--></template>
        <!--?lit$549300851$--> <div id="connect-button-resource-display">
        <!--?lit$549300851$--><colab-usage-sparkline class="ram" label="RAM"><template shadowrootmode="open"><!---->
      <div class="label"><!--?lit$549300851$-->RAM</div>
      <!--?lit$549300851$-->
      <canvas height="14" width="20"></canvas>
    </template></colab-usage-sparkline>
        <!--?lit$549300851$--><colab-usage-sparkline class="disks" label="Disk"><template shadowrootmode="open"><!---->
      <div class="label"><!--?lit$549300851$-->Disk</div>
      <!--?lit$549300851$-->
      <canvas height="14" width="20"></canvas>
    </template></colab-usage-sparkline>
      </div>
      </colab-toolbar-button>
      <!--?lit$549300851$--> <md-icon-button id="connect-dropdown" data-aria-expanded="false" data-aria-haspopup="menu" data-aria-label="Additional connection options" value=""><template shadowrootmode="open" shadowrootdelegatesfocus><!----><button id="button" class="icon-button  standard " aria-label="Additional connection options" aria-haspopup="menu" aria-expanded="false">
        <!--?lit$549300851$--><md-focus-ring part="focus-ring" for="button" aria-hidden="true"><template shadowrootmode="open"><!----></template></md-focus-ring>
        <!--?lit$549300851$--><md-ripple aria-hidden="true"><template shadowrootmode="open"><!----><div class="surface"></div></template></md-ripple>
        <!--?lit$549300851$--><span class="icon"><slot></slot></span>
        <!--?lit$549300851$-->
        <!--?lit$549300851$--><span class="touch"></span>
  </button></template>
        <md-icon aria-hidden="true"><template shadowrootmode="open"><!----><slot></slot></template>arrow_drop_down</md-icon>
      </md-icon-button>
      <colab-tooltip-trigger for="connect-dropdown" id="connect-dropdown-tooltip" aria-hidden="true" message="Additional connection options"><template shadowrootmode="open"><!----><!--?lit$549300851$--><!----><div><!--?lit$549300851$-->Additional connection options</div><!----><!--?--></template>
      </colab-tooltip-trigger>
      <!--?lit$549300851$--><!--?--></template></colab-connect-button><!--?-->
    <!--?lit$549300851$-->
    <span class="collapsed-options">
      <!--?lit$549300851$--><span class="colab-separator"></span>
      <!--?lit$549300851$--> <md-icon-button id="share-button-toolbar" command="share" data-aria-label="Share notebook" aria-describedby="share-button-toolbar-tooltip" value=""><template shadowrootmode="open" shadowrootdelegatesfocus><!----><button id="button" class="icon-button  standard " aria-label="Share notebook">
        <!--?lit$549300851$--><md-focus-ring part="focus-ring" for="button" aria-hidden="true"><template shadowrootmode="open"><!----></template></md-focus-ring>
        <!--?lit$549300851$--><md-ripple aria-hidden="true"><template shadowrootmode="open"><!----><div class="surface   "></div></template></md-ripple>
        <!--?lit$549300851$--><span class="icon"><slot></slot></span>
        <!--?lit$549300851$-->
        <!--?lit$549300851$--><span class="touch"></span>
  </button></template>
            <md-icon filled="" aria-hidden="true"><template shadowrootmode="open"><!----><slot></slot></template><!--?lit$549300851$-->people</md-icon>
          </md-icon-button><colab-tooltip-trigger aria-hidden="true" for="share-button-toolbar" id="share-button-toolbar-tooltip"><template shadowrootmode="open"><!----><!--?lit$549300851$--><!----><div><!--?lit$549300851$-->Share notebook</div><!----><!--?--></template>
        </colab-tooltip-trigger><md-icon-button id="settings-button-toolbar" command="preferences" data-aria-label="Open settings" aria-describedby="settings-button-toolbar-tooltip" value=""><template shadowrootmode="open" shadowrootdelegatesfocus><!----><button id="button" class="icon-button  standard " aria-label="Open settings">
        <!--?lit$549300851$--><md-focus-ring part="focus-ring" for="button" aria-hidden="true"><template shadowrootmode="open"><!----></template></md-focus-ring>
        <!--?lit$549300851$--><md-ripple aria-hidden="true"><template shadowrootmode="open"><!----><div class="surface   "></div></template></md-ripple>
        <!--?lit$549300851$--><span class="icon"><slot></slot></span>
        <!--?lit$549300851$-->
        <!--?lit$549300851$--><span class="touch"></span>
  </button></template>
        <md-icon filled="" aria-hidden="true"><template shadowrootmode="open"><!----><slot></slot></template>settings</md-icon>
      </md-icon-button><colab-tooltip-trigger aria-hidden="true" for="settings-button-toolbar" id="settings-button-toolbar-tooltip"><template shadowrootmode="open"><!----><!--?lit$549300851$--><!----><div><!--?lit$549300851$-->Open settings</div><!----><!--?--></template>
        </colab-tooltip-trigger>
      <!--?lit$549300851$--> <md-icon-button class="show-chat-button" id="show-chat-button-toolbar" command="show-chat" data-aria-label="Show Gemini" aria-describedby="show-chat-button-toolbar-tooltip" value=""><template shadowrootmode="open" shadowrootdelegatesfocus><!----><button id="button" class="icon-button  standard " aria-label="Show Gemini">
        <!--?lit$549300851$--><md-focus-ring part="focus-ring" for="button" aria-hidden="true"><template shadowrootmode="open"><!----></template></md-focus-ring>
        <!--?lit$549300851$--><md-ripple aria-hidden="true"><template shadowrootmode="open"><!----><div class="surface   "></div></template></md-ripple>
        <!--?lit$549300851$--><span class="icon"><slot></slot></span>
        <!--?lit$549300851$-->
        <!--?lit$549300851$--><span class="touch"></span>
  </button></template>
            <md-icon aria-hidden="true"><template shadowrootmode="open"><!----><slot></slot></template>spark</md-icon>
          </md-icon-button><colab-tooltip-trigger aria-hidden="true" for="show-chat-button-toolbar" id="show-chat-button-toolbar-tooltip"><template shadowrootmode="open"><!----><!--?lit$549300851$--><!----><div><!--?lit$549300851$-->Show Gemini</div><!----><!--?--></template>
        </colab-tooltip-trigger>
    </span>
    <span class="colab-separator"></span>
    <!--?lit$549300851$--><md-icon-button toggle="" command="toggle-header" id="toggle-header-button" data-aria-label="Toggle header visibility" aria-describedby="toggle-header-button-tooltip" value=""><template shadowrootmode="open" shadowrootdelegatesfocus><!----><button id="button" class="icon-button  standard " aria-label="Toggle header visibility" aria-pressed="false">
        <!--?lit$549300851$--><md-focus-ring part="focus-ring" for="button" aria-hidden="true"><template shadowrootmode="open"><!----></template></md-focus-ring>
        <!--?lit$549300851$--><md-ripple aria-hidden="true"><template shadowrootmode="open"><!----><div class="surface"></div></template></md-ripple>
        <!--?lit$549300851$--><span class="icon"><slot></slot></span>
        <!--?lit$549300851$-->
        <!--?lit$549300851$--><span class="touch"></span>
  </button></template>
    <md-icon aria-hidden="true"><template shadowrootmode="open"><!----><slot></slot></template>expand_less</md-icon>
    <md-icon slot="selected" aria-hidden="true"><template shadowrootmode="open"><!----><slot></slot></template>expand_more</md-icon>
  </md-icon-button><colab-tooltip-trigger aria-hidden="true" for="toggle-header-button" id="toggle-header-button-tooltip"><template shadowrootmode="open"><!----><!--?lit$549300851$--><!----><div><!--?lit$549300851$-->Toggle header visibility</div><!----><!--?--></template>
        </colab-tooltip-trigger><!--?--></colab-notebook-toolbar><colab-tab-layout-container class="layout horizontal grow flexible-tabs"><!----> <div class="layout horizontal tab-pane-parent">
      <!--?lit$549300851$--> <div class="layout vertical tab-pane-parent">
      <!--?lit$549300851$--><colab-tab-pane class="layout vertical grow no-header" align="horizontal"><!----> <div class="layout vertical grow">
    <div class="tab-pane-header layout horizontal noshrink">
      <md-tabs><template shadowrootmode="open"><!---->
      <div class="tabs">
        <slot></slot>
      </div>
      <md-divider part="divider"><template shadowrootmode="open"><!----></template></md-divider>
    </template><md-primary-tab noink="" title="" aria-labelledby="tab-title-C06yoinsr0dB" class="selected-tab" md-tab="" active="" tabindex="0"><template shadowrootmode="open"><!----><div class="button" role="presentation">
      <md-focus-ring part="focus-ring" inward="" aria-hidden="true"><template shadowrootmode="open"><!----></template></md-focus-ring>
      <md-elevation part="elevation" aria-hidden="true"><template shadowrootmode="open"><!----><span class="shadow"></span></template></md-elevation>
      <md-ripple aria-hidden="true"><template shadowrootmode="open"><!----><div class="surface   "></div></template></md-ripple>
      <div role="presentation" class="content  has-label stacked ">
        <slot name="icon"></slot>
        <slot></slot>
        <!--?lit$549300851$--><div class="indicator"></div>
      </div>
      <!--?lit$549300851$-->
    </div></template>
          <div class="colab-tab-header">
            <span class="colab-tab-title" id="tab-title-C06yoinsr0dB"><!--?lit$549300851$--><!--?lit$549300851$-->Notebook<!--?--></span>
            <!--?lit$549300851$-->
          </div>
        </md-primary-tab></md-tabs>
      <div class="layout grow"></div>
      <!--?lit$549300851$--> <md-icon-button data-aria-expanded="false" data-aria-haspopup="menu" title="More tab actions" data-aria-label="More tab actions" value=""><template shadowrootmode="open" shadowrootdelegatesfocus><!----><button id="button" class="icon-button  standard " aria-label="More tab actions" aria-haspopup="menu" aria-expanded="false">
        <!--?lit$549300851$--><md-focus-ring part="focus-ring" for="button" aria-hidden="true"><template shadowrootmode="open"><!----></template></md-focus-ring>
        <!--?lit$549300851$--><md-ripple aria-hidden="true"><template shadowrootmode="open"><!----><div class="surface   "></div></template></md-ripple>
        <!--?lit$549300851$--><span class="icon"><slot></slot></span>
        <!--?lit$549300851$-->
        <!--?lit$549300851$--><span class="touch"></span>
  </button></template>
    <md-icon aria-hidden="true"><template shadowrootmode="open"><!----><slot></slot></template>more_horiz</md-icon>
  </md-icon-button>
    </div>
    <div class="layout vertical grow tab-pane-container"> <colab-tab class="layout vertical grow notebook-tab-content selected-tab"><!----> <div class="overflow-flexbox-workaround">
      <colab-shaded-scroller ignore-dom-changes="" role="main" class="notebook-container" aria-label="Notebook" tabindex="-1">
        <div class="notebook-scrolling-horizontal-container">
          <div class="notebook-scrolling-horizontal">
            <div class="notebook-content-background">
              <!--?lit$549300851$-->
              <div class="notebook-content ">
                <!--?lit$549300851$--><div class="add-cell">
      <div class="add-cell-buttons">
        <md-outlined-button class="add-code add-button" data-aria-label="Add code cell
Ctrl+M B" title="Add code cell
Ctrl+M B" value="" has-icon=""><template shadowrootmode="open" shadowrootdelegatesfocus><!---->
      <!--?lit$549300851$--><div class="outline"></div>
      <div class="background"></div>
      <md-focus-ring part="focus-ring" for="button" aria-hidden="true"><template shadowrootmode="open"><!----></template></md-focus-ring>
      <md-ripple part="ripple" for="button" aria-hidden="true"><template shadowrootmode="open"><!----><div class="surface"></div></template></md-ripple>
      <!--?lit$549300851$--><button id="button" class="button" aria-label="Add code cell
Ctrl+M B">
      <!--?lit$549300851$-->
      <span class="touch"></span>
      <!--?lit$549300851$--><slot name="icon"></slot>
      <span class="label"><slot></slot></span>
      <!--?lit$549300851$-->
    
    </button>
    </template>
          <md-icon slot="icon" aria-hidden="true"><template shadowrootmode="open"><!----><slot></slot></template>add</md-icon>
          <!--?lit$549300851$-->Code
        </md-outlined-button>
        <md-outlined-button class="add-text add-button" data-aria-label="Add text cell" title="Add text cell" value="" has-icon=""><template shadowrootmode="open" shadowrootdelegatesfocus><!---->
      <!--?lit$549300851$--><div class="outline"></div>
      <div class="background"></div>
      <md-focus-ring part="focus-ring" for="button" aria-hidden="true"><template shadowrootmode="open"><!----></template></md-focus-ring>
      <md-ripple part="ripple" for="button" aria-hidden="true"><template shadowrootmode="open"><!----><div class="surface   "></div></template></md-ripple>
      <!--?lit$549300851$--><button id="button" class="button" aria-label="Add text cell">
      <!--?lit$549300851$-->
      <span class="touch"></span>
      <!--?lit$549300851$--><slot name="icon"></slot>
      <span class="label"><slot></slot></span>
      <!--?lit$549300851$-->
    
    </button>
    </template>
          <md-icon slot="icon" aria-hidden="true"><template shadowrootmode="open"><!----><slot></slot></template>add</md-icon>
          <!--?lit$549300851$-->Text
        </md-outlined-button>
        <!--?lit$549300851$-->
      </div><hr>
    </div>
                <div class="notebook-cell-list"><div class="cell code icon-scrolling" id="cell-ialcweM7r0c7" role="region" aria-label="Cell 0: Code cell: " style="" tabindex="-1"><div class="agent-focus-label">
      <md-icon aria-hidden="true"><template shadowrootmode="open"><!----><slot></slot></template>spark</md-icon>
      <!--?lit$549300851$-->Gemini
    </div><div class="cell-tag-editor sticky"></div><div class="cell-toolbar sticky"></div><div class="main-content" elevation="0"><div class="cell-contents"><div class="cell-mask"></div><span class="imported-info-area"></span><div class="codecell-input-output">
      <div class="inputarea horizontal layout code">
        <div class="cell-gutter">
          <!-- Bounding range for vertical scrolling of icons -->
          <div class="cell-execution-container">
            <colab-run-button><template shadowrootmode="open"><!----> <div class="cell-execution">
      <button id="run-button" aria-describedby="run-button-tooltip" aria-label="Run cell" aria-disabled="false">
        <!--?lit$549300851$--><span class="execution-count"><!--?lit$549300851$-->[19]</span>
        <span aria-hidden="true" class="cell-execution-indicator"><!--?lit$549300851$-->
<svg xmlns="http://www.w3.org/2000/svg" viewBox="0 0 24 24">
  <!--?lit$549300851$-->
  <mask id="playSymbolMask">
    <rect width="100%" height="100%" fill="white"></rect>
    <polygon points="10,8 17,12 10,16" fill="black"></polygon>
  </mask>
  <circle cx="12" cy="12" r="7.8" mask="url(#playSymbolMask)" id="filledCircle"></circle>
</svg></span>
      </button>
      <!--?lit$549300851$--><colab-tooltip-trigger for="run-button" id="run-button-tooltip" aria-hidden="true" message="Run cell (Ctrl+Enter)
cell executed since last change

executed by Avishkar Khandekar
9:11 AM (0 minutes ago)
executed in 0.006s"><template shadowrootmode="open"><!----><!--?lit$549300851$--><!----><div><!--?lit$549300851$-->Run cell (Ctrl+Enter)</div><!----><!----><div><!--?lit$549300851$-->cell executed since last change</div><!----><!----><br><!----><!----><div><!--?lit$549300851$-->executed by Avishkar Khandekar</div><!----><!----><div><!--?lit$549300851$-->9:11 AM (0 minutes ago)</div><!----><!----><div><!--?lit$549300851$-->executed in 0.006s</div><!----><!--?--></template>
    </colab-tooltip-trigger>
      <!--?lit$549300851$--><div id="status" class="last-run">
      <md-icon aria-hidden="true"><template shadowrootmode="open"><!----><slot></slot></template><!--?lit$549300851$--><svg viewBox="0 0 24 24"><!--?lit$549300851$--><path d="M9 16.17L4.83 12l-1.42 1.41L9 19 21 7l-1.41-1.41z"></path></svg></md-icon>
      <div><!--?lit$549300851$-->0s</div>
    </div>
    </div></template></colab-run-button>
          </div>
        </div>
      <div class="editor flex lazy-editor" style=""><pre class="lazy-virtualized" style="font-size: 14px; line-height: 19px;"><pre class="lazy-gutter"></pre><pre class="monaco-colorized colab-dark colab-dark colab-dark colab-dark colab-dark colab-dark colab-dark" data-lang="notebook-python"><span><span class="mtk8">#import&nbsp;libraries</span></span><br><span><span class="mtk18">import</span><span class="mtk1">&nbsp;pandas&nbsp;</span><span class="mtk18">as</span><span class="mtk1">&nbsp;pd</span></span><br><span><span class="mtk18">import</span><span class="mtk1">&nbsp;numpy&nbsp;</span><span class="mtk18">as</span><span class="mtk1">&nbsp;np</span></span><br><span><span class="mtk18">import</span><span class="mtk1">&nbsp;matplotlib.pyplot&nbsp;</span><span class="mtk18">as</span><span class="mtk1">&nbsp;plt</span></span><br><span><span></span></span><br><span><span class="mtk18">import</span><span class="mtk1">&nbsp;warnings</span></span><br><span><span class="mtk1">warnings.filterwarnings</span><span class="mtk12">(</span><span class="mtk5">'ignore'</span><span class="mtk12">)</span></span><br></pre><colab-read-only-cell-placeholder style="display: none;"><template shadowrootmode="open"><!----><div><!--?lit$549300851$-->Start coding or <span tabindex="0" role="button" class="link">generate</span> with AI.</div></template></colab-read-only-cell-placeholder></pre></div><colab-form class="formview vertical layout flex"><div class="widget-area vertical layout"></div></colab-form></div>
    <div class="output" aria-label="Cell 0 output" role="region"><!----> <div class="output-header"> </div>
        <div class="output-content" hidden="">
          <div class="output-info"><colab-output-info><template shadowrootmode="open"><!----><md-icon-button data-aria-expanded="false" data-aria-haspopup="menu" aria-describedby="button-output-actions-tooltip" data-aria-label="Code cell output actions" id="button-output-actions" value=""><template shadowrootmode="open" shadowrootdelegatesfocus><!----><button id="button" class="icon-button  standard " aria-label="Code cell output actions" aria-haspopup="menu" aria-expanded="false">
        <!--?lit$549300851$--><md-focus-ring part="focus-ring" for="button" aria-hidden="true"><template shadowrootmode="open"><!----></template></md-focus-ring>
        <!--?lit$549300851$--><md-ripple aria-hidden="true"><template shadowrootmode="open"><!----><div class="surface   "></div></template></md-ripple>
        <!--?lit$549300851$--><span class="icon"><slot></slot></span>
        <!--?lit$549300851$-->
        <!--?lit$549300851$--><span class="touch"></span>
  </button></template>
        <md-icon aria-hidden="true"><template shadowrootmode="open"><!----><slot></slot></template><!--?lit$549300851$--><svg viewBox="0 0 24 24"><!--?lit$549300851$--><path d="m15.9 3.07c-4.32 0.0742-8.64-0.0355-13 0.0568-1.37 0.307-1.74 2.1-1.41 3.26 0.469 0.606 1.86 0.384 1.66-0.525 0.0448-0.329-0.183-0.93 0.354-0.766h13.3v1.53h1.71c0.0709-1.13 0.141-2.62-0.968-3.3-0.511-0.264-1.11-0.252-1.67-0.259zm2.94 6.84v4.87c1.62-1.62 3.24-3.24 4.87-4.87h-4.87zm0 0h-1.71v3.43l1.57 1.57c0.32-1.65 0.0556-3.34 0.135-5zm-1.71 3.43v-3.43h-3.43c1.14 1.14 2.29 2.29 3.43 3.43zm1.4 4.27h-1.71v1.48h-13.6v-1.48h-1.71c-0.0473 1.15-0.16 2.72 1.09 3.29 1.47 0.506 3.02 0.0265 4.53 0.192 3.34-0.0051 6.68 0.0336 10-0.0245 1.49-0.366 1.56-2.22 1.42-3.45zm-10.1-1.12c-0.398-0.483-0.796-0.967-1.19-1.45 0.59-0.683 1.18-1.37 1.77-2.05h-8.67v-2h8.67c-0.59-0.683-1.18-1.37-1.77-2.05 0.398-0.483 0.796-0.967 1.19-1.45 1.28 1.5 2.56 3 3.84 4.5-1.28 1.5-2.56 3-3.84 4.5z"></path></svg></md-icon>
      </md-icon-button>
      <!--?lit$549300851$--><colab-tooltip-trigger aria-hidden="true" id="button-output-actions-tooltip" for="button-output-actions" message="Code cell output actions"><template shadowrootmode="open"><!----><!--?lit$549300851$--><!----><div><!--?lit$549300851$-->Code cell output actions</div><!----><!--?--></template></colab-tooltip-trigger><!--?--></template></colab-output-info></div>
          <div class="output-iframe-container" hidden="">
            <div class="output-iframe-sizer" style="min-height: 0px;"> <div><div><colab-static-output-renderer tabindex="0" role="group"><div></div><div></div></colab-static-output-renderer></div></div></div>
          </div>
        </div></div></div><colab-cell-next-steps><template shadowrootmode="open"><!----></template></colab-cell-next-steps></div></div><div class="add-cell">
      <div class="add-cell-buttons">
        <md-outlined-button class="add-code add-button" data-aria-label="Add code cell
Ctrl+M B" title="Add code cell
Ctrl+M B" value="" has-icon=""><template shadowrootmode="open" shadowrootdelegatesfocus><!---->
      <!--?lit$549300851$--><div class="outline"></div>
      <div class="background"></div>
      <md-focus-ring part="focus-ring" for="button" aria-hidden="true"><template shadowrootmode="open"><!----></template></md-focus-ring>
      <md-ripple part="ripple" for="button" aria-hidden="true"><template shadowrootmode="open"><!----><div class="surface"></div></template></md-ripple>
      <!--?lit$549300851$--><button id="button" class="button" aria-label="Add code cell
Ctrl+M B">
      <!--?lit$549300851$-->
      <span class="touch"></span>
      <!--?lit$549300851$--><slot name="icon"></slot>
      <span class="label"><slot></slot></span>
      <!--?lit$549300851$-->
    
    </button>
    </template>
          <md-icon slot="icon" aria-hidden="true"><template shadowrootmode="open"><!----><slot></slot></template>add</md-icon>
          <!--?lit$549300851$-->Code
        </md-outlined-button>
        <md-outlined-button class="add-text add-button" data-aria-label="Add text cell" title="Add text cell" value="" has-icon=""><template shadowrootmode="open" shadowrootdelegatesfocus><!---->
      <!--?lit$549300851$--><div class="outline"></div>
      <div class="background"></div>
      <md-focus-ring part="focus-ring" for="button" aria-hidden="true"><template shadowrootmode="open"><!----></template></md-focus-ring>
      <md-ripple part="ripple" for="button" aria-hidden="true"><template shadowrootmode="open"><!----><div class="surface   "></div></template></md-ripple>
      <!--?lit$549300851$--><button id="button" class="button" aria-label="Add text cell">
      <!--?lit$549300851$-->
      <span class="touch"></span>
      <!--?lit$549300851$--><slot name="icon"></slot>
      <span class="label"><slot></slot></span>
      <!--?lit$549300851$-->
    
    </button>
    </template>
          <md-icon slot="icon" aria-hidden="true"><template shadowrootmode="open"><!----><slot></slot></template>add</md-icon>
          <!--?lit$549300851$-->Text
        </md-outlined-button>
        <!--?lit$549300851$-->
      </div><hr>
    </div></div><div class="cell code icon-scrolling code-has-output" id="cell-2hrnLn7-swOX" tabindex="-1" role="region" aria-label="Cell 1: Code cell: " style="opacity: 1;"><div class="agent-focus-label">
      <md-icon aria-hidden="true"><template shadowrootmode="open"><!----><slot></slot></template>spark</md-icon>
      <!--?lit$549300851$-->Gemini
    </div><div class="cell-tag-editor sticky"></div><div class="cell-toolbar sticky"></div><div class="main-content" elevation="0"><div class="cell-contents"><div class="cell-mask"></div><span class="imported-info-area"></span><div class="codecell-input-output">
      <div class="inputarea horizontal layout code">
        <div class="cell-gutter">
          <!-- Bounding range for vertical scrolling of icons -->
          <div class="cell-execution-container">
            <colab-run-button><template shadowrootmode="open"><!----> <div class="cell-execution">
      <button id="run-button" aria-describedby="run-button-tooltip" aria-label="Run cell" aria-disabled="false">
        <!--?lit$549300851$--><span class="execution-count"><!--?lit$549300851$-->[7]</span>
        <span aria-hidden="true" class="cell-execution-indicator"><!--?lit$549300851$-->
<svg xmlns="http://www.w3.org/2000/svg" viewBox="0 0 24 24">
  <!--?lit$549300851$-->
  <mask id="playSymbolMask">
    <rect width="100%" height="100%" fill="white"></rect>
    <polygon points="10,8 17,12 10,16" fill="black"></polygon>
  </mask>
  <circle cx="12" cy="12" r="7.8" mask="url(#playSymbolMask)" id="filledCircle"></circle>
</svg></span>
      </button>
      <!--?lit$549300851$--><colab-tooltip-trigger for="run-button" id="run-button-tooltip" aria-hidden="true" message="Run cell (Ctrl+Enter)
cell executed since last change

executed by Avishkar Khandekar
8:59 AM (0 minutes ago)
executed in 0.324s"><template shadowrootmode="open"><!----><!--?lit$549300851$--><!----><div><!--?lit$549300851$-->Run cell (Ctrl+Enter)</div><!----><!----><div><!--?lit$549300851$-->cell executed since last change</div><!----><!----><br><!----><!----><div><!--?lit$549300851$-->executed by Avishkar Khandekar</div><!----><!----><div><!--?lit$549300851$-->8:59 AM (0 minutes ago)</div><!----><!----><div><!--?lit$549300851$-->executed in 0.324s</div><!----><!--?--></template>
    </colab-tooltip-trigger>
      <!--?lit$549300851$--><div id="status" class="last-run">
      <md-icon aria-hidden="true"><template shadowrootmode="open"><!----><slot></slot></template><!--?lit$549300851$--><svg viewBox="0 0 24 24"><!--?lit$549300851$--><path d="M9 16.17L4.83 12l-1.42 1.41L9 19 21 7l-1.41-1.41z"></path></svg></md-icon>
      <div><!--?lit$549300851$-->0s</div>
    </div>
    </div></template></colab-run-button>
          </div>
        </div>
      <div class="editor flex lazy-editor" style=""><div class="editor flex monaco" data-keybinding-context="48" data-mode-id="notebook-python" style="height: 67px; --vscode-editorCodeLens-lineHeight: 16px; --vscode-editorCodeLens-fontSize: 12px; --vscode-editorCodeLens-fontFeatureSettings: &quot;liga&quot; off, &quot;calt&quot; off;"><div class="monaco-editor no-user-select  showUnused showDeprecated vs-dark" role="code" data-uri="inmemory://model/4" style="width: 896px; height: 67px;"><div data-mprt="3" class="overflow-guard" style="width: 896px; height: 67px; overflow: clip;"><div class="margin" role="presentation" aria-hidden="true" style="position: absolute; contain: strict; will-change: unset; top: 0px; height: 67px; width: 6px;"><div class="glyph-margin" style="left: 0px; width: 0px; height: 67px;"></div><div class="margin-view-zones" role="presentation" aria-hidden="true" style="position: absolute;"></div><div class="margin-view-overlays" role="presentation" aria-hidden="true" style="position: absolute; font-family: monospace, Consolas, &quot;Courier New&quot;, monospace; font-weight: normal; font-size: 14px; font-feature-settings: &quot;liga&quot; 0, &quot;calt&quot; 0; font-variation-settings: normal; line-height: 19px; letter-spacing: 0px; width: 6px; height: 67px;"><div style="position:absolute;top:0px;width:100%;height:19px;"><div class="current-line current-line-margin-both" style="width:6px; height:19px;"></div></div><div style="position:absolute;top:19px;width:100%;height:19px;"></div><div style="position:absolute;top:38px;width:100%;height:19px;"></div></div><div class="glyph-margin-widgets" style="position: absolute; top: 0px;"></div></div><div class="monaco-scrollable-element editor-scrollable vs-dark" role="presentation" data-mprt="5" style="position: absolute; overflow: hidden; left: 6px; width: 890px; height: 67px;"><div class="lines-content monaco-editor-background" style="position: absolute; overflow: hidden; width: 1e+06px; height: 67px; contain: strict; will-change: unset; top: 0px; left: 0px;"><div class="view-overlays" role="presentation" aria-hidden="true" style="position: absolute; font-family: monospace, Consolas, &quot;Courier New&quot;, monospace; font-weight: normal; font-size: 14px; font-feature-settings: &quot;liga&quot; 0, &quot;calt&quot; 0; font-variation-settings: normal; line-height: 19px; letter-spacing: 0px; height: 0px; width: 890px;"><div style="position:absolute;top:0px;width:100%;height:19px;"><div class="current-line" style="width:890px; height:19px;"></div></div><div style="position:absolute;top:19px;width:100%;height:19px;"></div><div style="position:absolute;top:38px;width:100%;height:19px;"></div></div><div role="presentation" aria-hidden="true" class="view-rulers"></div><div class="view-zones" role="presentation" aria-hidden="true" style="position: absolute;"></div><div class="view-lines monaco-mouse-cursor-text" role="presentation" aria-hidden="true" data-mprt="7" style="position: absolute; font-family: monospace, Consolas, &quot;Courier New&quot;, monospace; font-weight: normal; font-size: 14px; font-feature-settings: &quot;liga&quot; 0, &quot;calt&quot; 0; font-variation-settings: normal; line-height: 19px; letter-spacing: 0px; width: 890px; height: 67px;"><div style="top:0px;height:19px;" class="view-line"><span><span class="mtk8">#load&nbsp;dataset</span></span></div><div style="top:19px;height:19px;" class="view-line"><span><span class="mtk1">IMDB_df&nbsp;=&nbsp;pd.read_csv</span><span class="mtk12 bracket-highlighting-0">(</span><span class="mtk5">'IAS.csv'</span><span class="mtk12 bracket-highlighting-0">)</span></span></div><div style="top:38px;height:19px;" class="view-line"><span><span class="mtk1">IMDB_df</span></span></div></div><div data-mprt="1" class="contentWidgets" style="position: absolute; top: 0px;"></div><div role="presentation" aria-hidden="true" class="cursors-layer cursor-line-style cursor-solid"><div class="cursor monaco-mouse-cursor-text " style="height: 19px; top: 0px; left: 0px; font-family: monospace, Consolas, &quot;Courier New&quot;, monospace; font-weight: normal; font-size: 14px; font-feature-settings: &quot;liga&quot; 0, &quot;calt&quot; 0; font-variation-settings: normal; line-height: 19px; letter-spacing: 0px; display: block; visibility: hidden; padding-left: 0px; width: 2px;"></div></div></div><div role="presentation" aria-hidden="true" class="invisible scrollbar horizontal" style="position: absolute; width: 876px; height: 10px; left: 0px; bottom: 0px;"><div class="slider" style="position: absolute; top: 0px; left: 0px; height: 10px; transform: translate3d(0px, 0px, 0px); contain: strict; will-change: unset; width: 876px;"></div></div><canvas class="decorationsOverviewRuler" aria-hidden="true" width="14" height="67" style="position: absolute; transform: translate3d(0px, 0px, 0px); contain: strict; top: 0px; right: 0px; width: 14px; height: 67px; will-change: unset; display: block;"></canvas><div role="presentation" aria-hidden="true" class="invisible scrollbar vertical" style="position: absolute; width: 14px; height: 67px; right: 0px; top: 0px;"><div class="slider" style="position: absolute; top: 0px; left: 0px; width: 14px; transform: translate3d(0px, 0px, 0px); contain: strict; will-change: unset; height: 67px;"></div></div></div><div role="presentation" aria-hidden="true" style="width: 896px;"></div><textarea data-mprt="6" class="inputarea monaco-mouse-cursor-text" wrap="on" autocorrect="off" autocapitalize="off" autocomplete="off" spellcheck="false" aria-label="Editor content;Press Alt+F1 for Accessibility Options." tabindex="0" role="textbox" aria-roledescription="editor" aria-multiline="true" aria-haspopup="false" aria-autocomplete="both" style="tab-size: 15.3984px; font-family: monospace, Consolas, &quot;Courier New&quot;, monospace; font-weight: normal; font-size: 14px; font-feature-settings: &quot;liga&quot; 0, &quot;calt&quot; 0; font-variation-settings: normal; line-height: 19px; letter-spacing: 0px; top: 0px; left: 6px; width: 76992px; height: 1px;"></textarea><div class="monaco-editor-background textAreaCover" style="position: absolute; top: 0px; left: 0px; width: 0px; height: 0px;"></div><div data-mprt="4" class="overlayWidgets" style="width: 896px;"></div><div data-mprt="8" class="minimap slider-mouseover" role="presentation" aria-hidden="true" style="position: absolute; left: 0px; width: 0px; height: 67px;"><div class="minimap-shadow-hidden" style="height: 67px;"></div><canvas width="0" height="67" style="position: absolute; left: 0px; width: 0px; height: 67px;"></canvas><canvas class="minimap-decorations-layer" width="0" height="67" style="position: absolute; left: 0px; width: 0px; height: 67px;"></canvas><div class="minimap-slider" style="position: absolute; transform: translate3d(0px, 0px, 0px); contain: strict; width: 0px; will-change: unset;"><div class="minimap-slider-horizontal" style="position: absolute; width: 0px; height: 0px;"></div></div></div><div role="presentation" aria-hidden="true" class="blockDecorations-container"></div></div><div data-mprt="2" class="overflowingContentWidgets" style="display: none;"><div widgetid="editor.contrib.resizableContentHoverWidget" style="position: fixed; height: 10px; width: 10px; z-index: 50; display: none; visibility: hidden; max-width: 1600px;"><div class="monaco-sash vertical" style="left: 8px;"></div><div class="monaco-sash vertical" style="left: -2px;"></div><div class="monaco-sash orthogonal-edge-north horizontal" style="top: -2px;"><div class="orthogonal-drag-handle start"></div><div class="orthogonal-drag-handle end"></div></div><div class="monaco-sash orthogonal-edge-south horizontal" style="top: 8px;"><div class="orthogonal-drag-handle start"></div><div class="orthogonal-drag-handle end"></div></div><div class="monaco-hover hidden" tabindex="0" role="tooltip"><div class="monaco-scrollable-element " role="presentation" style="position: relative; overflow: hidden;"><div class="monaco-hover-content" style="overflow: hidden; font-size: 14px; line-height: 1.35714; max-width: 591.36px; max-height: 250px;"></div><div role="presentation" aria-hidden="true" class="invisible scrollbar horizontal" style="position: absolute;"><div class="slider" style="position: absolute; top: 0px; left: 0px; height: 10px; transform: translate3d(0px, 0px, 0px); contain: strict;"></div></div><div role="presentation" aria-hidden="true" class="invisible scrollbar vertical" style="position: absolute;"><div class="slider" style="position: absolute; top: 0px; left: 0px; width: 10px; transform: translate3d(0px, 0px, 0px); contain: strict;"></div></div><div class="shadow"></div><div class="shadow"></div><div class="shadow"></div></div></div></div></div><div class=".in-cell-overflowing"><div widgetid="editor.contrib.quickInputWidget" style="position: absolute; top: 0px; right: 50%;"></div></div></div></div></div><colab-form class="formview vertical layout flex"><div class="widget-area vertical layout"></div></colab-form></div>
    <div class="output" aria-label="Cell 1 output" role="region"><!----> <div class="output-header"> </div>
        <div class="output-content">
          <div class="output-info"><colab-output-info><template shadowrootmode="open"><!----><md-icon-button data-aria-expanded="false" data-aria-haspopup="menu" aria-describedby="button-output-actions-tooltip" data-aria-label="Code cell output actions" id="button-output-actions" value=""><template shadowrootmode="open" shadowrootdelegatesfocus><!----><button id="button" class="icon-button  standard " aria-label="Code cell output actions" aria-haspopup="menu" aria-expanded="false">
        <!--?lit$549300851$--><md-focus-ring part="focus-ring" for="button" aria-hidden="true"><template shadowrootmode="open"><!----></template></md-focus-ring>
        <!--?lit$549300851$--><md-ripple aria-hidden="true"><template shadowrootmode="open"><!----><div class="surface   "></div></template></md-ripple>
        <!--?lit$549300851$--><span class="icon"><slot></slot></span>
        <!--?lit$549300851$-->
        <!--?lit$549300851$--><span class="touch"></span>
  </button></template>
        <md-icon aria-hidden="true"><template shadowrootmode="open"><!----><slot></slot></template><!--?lit$549300851$--><svg viewBox="0 0 24 24"><!--?lit$549300851$--><path d="m15.9 3.07c-4.32 0.0742-8.64-0.0355-13 0.0568-1.37 0.307-1.74 2.1-1.41 3.26 0.469 0.606 1.86 0.384 1.66-0.525 0.0448-0.329-0.183-0.93 0.354-0.766h13.3v1.53h1.71c0.0709-1.13 0.141-2.62-0.968-3.3-0.511-0.264-1.11-0.252-1.67-0.259zm2.94 6.84v4.87c1.62-1.62 3.24-3.24 4.87-4.87h-4.87zm0 0h-1.71v3.43l1.57 1.57c0.32-1.65 0.0556-3.34 0.135-5zm-1.71 3.43v-3.43h-3.43c1.14 1.14 2.29 2.29 3.43 3.43zm1.4 4.27h-1.71v1.48h-13.6v-1.48h-1.71c-0.0473 1.15-0.16 2.72 1.09 3.29 1.47 0.506 3.02 0.0265 4.53 0.192 3.34-0.0051 6.68 0.0336 10-0.0245 1.49-0.366 1.56-2.22 1.42-3.45zm-10.1-1.12c-0.398-0.483-0.796-0.967-1.19-1.45 0.59-0.683 1.18-1.37 1.77-2.05h-8.67v-2h8.67c-0.59-0.683-1.18-1.37-1.77-2.05 0.398-0.483 0.796-0.967 1.19-1.45 1.28 1.5 2.56 3 3.84 4.5-1.28 1.5-2.56 3-3.84 4.5z"></path></svg></md-icon>
      </md-icon-button>
      <!--?lit$549300851$--><colab-tooltip-trigger aria-hidden="true" id="button-output-actions-tooltip" for="button-output-actions" message="Code cell output actions"><template shadowrootmode="open"><!----><!--?lit$549300851$--><!----><div><!--?lit$549300851$-->Code cell output actions</div><!----><!--?--></template></colab-tooltip-trigger><!--?--></template></colab-output-info></div>
          <div class="output-iframe-container">
            <div class="output-iframe-sizer" style="min-height: 0px;"> <div><div class="outputview" style="height: 424px;"><colab-dom-lifecycle-events style="display: none;"></colab-dom-lifecycle-events><iframe allow="accelerometer; autoplay; gyroscope; magnetometer; xr-spatial-tracking; clipboard-write" sandbox="allow-downloads allow-forms allow-pointer-lock allow-popups allow-popups-to-escape-sandbox allow-same-origin allow-scripts allow-storage-access-by-user-activation allow-modals" src="./IAS_files/outputframe.html" class="" style="height: 424px;"></iframe></div></div><div><div></div></div></div>
          </div>
        </div></div></div><colab-cell-next-steps hascontent=""><template shadowrootmode="open"><!----> <div class="root">
        <span class="next-steps-title">
          <!--?lit$549300851$-->Next steps: </span><!--?lit$549300851$--><!----><md-outlined-button value=""><template shadowrootmode="open" shadowrootdelegatesfocus><!---->
      <!--?lit$549300851$--><div class="outline"></div>
      <div class="background"></div>
      <md-focus-ring part="focus-ring" for="button" aria-hidden="true"><template shadowrootmode="open"><!----></template></md-focus-ring>
      <md-ripple part="ripple" for="button" aria-hidden="true"><template shadowrootmode="open"><!----><div class="surface"></div></template></md-ripple>
      <!--?lit$549300851$--><button id="button" class="button">
      <!--?lit$549300851$-->
      <span class="touch"></span>
      <!--?lit$549300851$--><slot name="icon"></slot>
      <span class="label"><slot></slot></span>
      <!--?lit$549300851$-->
    
    </button>
    </template>
            <!--?lit$549300851$-->Generate code with <code>IMDB_df</code>
          </md-outlined-button><!----><!----><md-outlined-button class="plots" value="" has-icon=""><template shadowrootmode="open" shadowrootdelegatesfocus><!---->
      <!--?lit$549300851$--><div class="outline"></div>
      <div class="background"></div>
      <md-focus-ring part="focus-ring" for="button" aria-hidden="true"><template shadowrootmode="open"><!----></template></md-focus-ring>
      <md-ripple part="ripple" for="button" aria-hidden="true"><template shadowrootmode="open"><!----><div class="surface   "></div></template></md-ripple>
      <!--?lit$549300851$--><button id="button" class="button">
      <!--?lit$549300851$-->
      <span class="touch"></span>
      <!--?lit$549300851$--><slot name="icon"></slot>
      <span class="label"><slot></slot></span>
      <!--?lit$549300851$-->
    
    </button>
    </template>
            <md-icon slot="icon" aria-hidden="true"><template shadowrootmode="open"><!----><slot></slot></template>
              <!--?lit$549300851$-->toggle_off
            </md-icon>
            <!--?lit$549300851$-->View recommended plots
          </md-outlined-button><!----><!----><md-outlined-button class="interactive-sheet" value=""><template shadowrootmode="open" shadowrootdelegatesfocus><!---->
      <!--?lit$549300851$--><div class="outline"></div>
      <div class="background"></div>
      <md-focus-ring part="focus-ring" for="button" aria-hidden="true"><template shadowrootmode="open"><!----></template></md-focus-ring>
      <md-ripple part="ripple" for="button" aria-hidden="true"><template shadowrootmode="open"><!----><div class="surface"></div></template></md-ripple>
      <!--?lit$549300851$--><button id="button" class="button">
      <!--?lit$549300851$-->
      <span class="touch"></span>
      <!--?lit$549300851$--><slot name="icon"></slot>
      <span class="label"><slot></slot></span>
      <!--?lit$549300851$-->
    
    </button>
    </template>
            New interactive sheet
          </md-outlined-button><!---->
      </div>
      <div class="content"><!--?lit$549300851$--></div></template></colab-cell-next-steps></div></div><div class="add-cell">
      <div class="add-cell-buttons">
        <md-outlined-button class="add-code add-button" data-aria-label="Add code cell
Ctrl+M B" title="Add code cell
Ctrl+M B" value="" has-icon=""><template shadowrootmode="open" shadowrootdelegatesfocus><!---->
      <!--?lit$549300851$--><div class="outline"></div>
      <div class="background"></div>
      <md-focus-ring part="focus-ring" for="button" aria-hidden="true"><template shadowrootmode="open"><!----></template></md-focus-ring>
      <md-ripple part="ripple" for="button" aria-hidden="true"><template shadowrootmode="open"><!----><div class="surface   "></div></template></md-ripple>
      <!--?lit$549300851$--><button id="button" class="button" aria-label="Add code cell
Ctrl+M B">
      <!--?lit$549300851$-->
      <span class="touch"></span>
      <!--?lit$549300851$--><slot name="icon"></slot>
      <span class="label"><slot></slot></span>
      <!--?lit$549300851$-->
    
    </button>
    </template>
          <md-icon slot="icon" aria-hidden="true"><template shadowrootmode="open"><!----><slot></slot></template>add</md-icon>
          <!--?lit$549300851$-->Code
        </md-outlined-button>
        <md-outlined-button class="add-text add-button" data-aria-label="Add text cell" title="Add text cell" value="" has-icon=""><template shadowrootmode="open" shadowrootdelegatesfocus><!---->
      <!--?lit$549300851$--><div class="outline"></div>
      <div class="background"></div>
      <md-focus-ring part="focus-ring" for="button" aria-hidden="true"><template shadowrootmode="open"><!----></template></md-focus-ring>
      <md-ripple part="ripple" for="button" aria-hidden="true"><template shadowrootmode="open"><!----><div class="surface   "></div></template></md-ripple>
      <!--?lit$549300851$--><button id="button" class="button" aria-label="Add text cell">
      <!--?lit$549300851$-->
      <span class="touch"></span>
      <!--?lit$549300851$--><slot name="icon"></slot>
      <span class="label"><slot></slot></span>
      <!--?lit$549300851$-->
    
    </button>
    </template>
          <md-icon slot="icon" aria-hidden="true"><template shadowrootmode="open"><!----><slot></slot></template>add</md-icon>
          <!--?lit$549300851$-->Text
        </md-outlined-button>
        <!--?lit$549300851$-->
      </div><hr>
    </div></div><div class="cell code icon-scrolling code-has-output" id="cell-Pu9CbK02szfW" tabindex="-1" role="region" aria-label="Cell 2: Code cell: " style="opacity: 1;"><div class="agent-focus-label">
      <md-icon aria-hidden="true"><template shadowrootmode="open"><!----><slot></slot></template>spark</md-icon>
      <!--?lit$549300851$-->Gemini
    </div><div class="cell-tag-editor sticky"></div><div class="cell-toolbar sticky"></div><div class="main-content" elevation="0"><div class="cell-contents"><div class="cell-mask"></div><span class="imported-info-area"></span><div class="codecell-input-output">
      <div class="inputarea horizontal layout code">
        <div class="cell-gutter">
          <!-- Bounding range for vertical scrolling of icons -->
          <div class="cell-execution-container">
            <colab-run-button><template shadowrootmode="open"><!----> <div class="cell-execution">
      <button id="run-button" aria-describedby="run-button-tooltip" aria-label="Run cell" aria-disabled="false">
        <!--?lit$549300851$--><span class="execution-count"><!--?lit$549300851$-->[8]</span>
        <span aria-hidden="true" class="cell-execution-indicator"><!--?lit$549300851$-->
<svg xmlns="http://www.w3.org/2000/svg" viewBox="0 0 24 24">
  <!--?lit$549300851$-->
  <mask id="playSymbolMask">
    <rect width="100%" height="100%" fill="white"></rect>
    <polygon points="10,8 17,12 10,16" fill="black"></polygon>
  </mask>
  <circle cx="12" cy="12" r="7.8" mask="url(#playSymbolMask)" id="filledCircle"></circle>
</svg></span>
      </button>
      <!--?lit$549300851$--><colab-tooltip-trigger for="run-button" id="run-button-tooltip" aria-hidden="true" message="Run cell (Ctrl+Enter)
cell executed since last change

executed by Avishkar Khandekar
9:00 AM (0 minutes ago)
executed in 0.008s"><template shadowrootmode="open"><!----><!--?lit$549300851$--><!----><div><!--?lit$549300851$-->Run cell (Ctrl+Enter)</div><!----><!----><div><!--?lit$549300851$-->cell executed since last change</div><!----><!----><br><!----><!----><div><!--?lit$549300851$-->executed by Avishkar Khandekar</div><!----><!----><div><!--?lit$549300851$-->9:00 AM (0 minutes ago)</div><!----><!----><div><!--?lit$549300851$-->executed in 0.008s</div><!----><!--?--></template>
    </colab-tooltip-trigger>
      <!--?lit$549300851$--><div id="status" class="last-run">
      <md-icon aria-hidden="true"><template shadowrootmode="open"><!----><slot></slot></template><!--?lit$549300851$--><svg viewBox="0 0 24 24"><!--?lit$549300851$--><path d="M9 16.17L4.83 12l-1.42 1.41L9 19 21 7l-1.41-1.41z"></path></svg></md-icon>
      <div><!--?lit$549300851$-->0s</div>
    </div>
    </div></template></colab-run-button>
          </div>
        </div>
      <div class="editor flex lazy-editor" style=""><pre class="lazy-virtualized" style="font-size: 14px; line-height: 19px;"><pre class="lazy-gutter"></pre><pre class="monaco-colorized colab-dark colab-dark colab-dark colab-dark colab-dark" data-lang="notebook-python"><span><span class="mtk1">IMDB_df.shape</span></span><br></pre><colab-read-only-cell-placeholder style="display: none;"><template shadowrootmode="open"><!----><div><!--?lit$549300851$-->Start coding or <span tabindex="0" role="button" class="link">generate</span> with AI.</div></template></colab-read-only-cell-placeholder></pre></div><colab-form class="formview vertical layout flex"><div class="widget-area vertical layout"></div></colab-form></div>
    <div class="output" aria-label="Cell 2 output" role="region"><!----> <div class="output-header"> </div>
        <div class="output-content">
          <div class="output-info"><colab-output-info><template shadowrootmode="open"><!----><md-icon-button data-aria-expanded="false" data-aria-haspopup="menu" aria-describedby="button-output-actions-tooltip" data-aria-label="Code cell output actions" id="button-output-actions" value=""><template shadowrootmode="open" shadowrootdelegatesfocus><!----><button id="button" class="icon-button  standard " aria-label="Code cell output actions" aria-haspopup="menu" aria-expanded="false">
        <!--?lit$549300851$--><md-focus-ring part="focus-ring" for="button" aria-hidden="true"><template shadowrootmode="open"><!----></template></md-focus-ring>
        <!--?lit$549300851$--><md-ripple aria-hidden="true"><template shadowrootmode="open"><!----><div class="surface   "></div></template></md-ripple>
        <!--?lit$549300851$--><span class="icon"><slot></slot></span>
        <!--?lit$549300851$-->
        <!--?lit$549300851$--><span class="touch"></span>
  </button></template>
        <md-icon aria-hidden="true"><template shadowrootmode="open"><!----><slot></slot></template><!--?lit$549300851$--><svg viewBox="0 0 24 24"><!--?lit$549300851$--><path d="m15.9 3.07c-4.32 0.0742-8.64-0.0355-13 0.0568-1.37 0.307-1.74 2.1-1.41 3.26 0.469 0.606 1.86 0.384 1.66-0.525 0.0448-0.329-0.183-0.93 0.354-0.766h13.3v1.53h1.71c0.0709-1.13 0.141-2.62-0.968-3.3-0.511-0.264-1.11-0.252-1.67-0.259zm2.94 6.84v4.87c1.62-1.62 3.24-3.24 4.87-4.87h-4.87zm0 0h-1.71v3.43l1.57 1.57c0.32-1.65 0.0556-3.34 0.135-5zm-1.71 3.43v-3.43h-3.43c1.14 1.14 2.29 2.29 3.43 3.43zm1.4 4.27h-1.71v1.48h-13.6v-1.48h-1.71c-0.0473 1.15-0.16 2.72 1.09 3.29 1.47 0.506 3.02 0.0265 4.53 0.192 3.34-0.0051 6.68 0.0336 10-0.0245 1.49-0.366 1.56-2.22 1.42-3.45zm-10.1-1.12c-0.398-0.483-0.796-0.967-1.19-1.45 0.59-0.683 1.18-1.37 1.77-2.05h-8.67v-2h8.67c-0.59-0.683-1.18-1.37-1.77-2.05 0.398-0.483 0.796-0.967 1.19-1.45 1.28 1.5 2.56 3 3.84 4.5-1.28 1.5-2.56 3-3.84 4.5z"></path></svg></md-icon>
      </md-icon-button>
      <!--?lit$549300851$--><colab-tooltip-trigger aria-hidden="true" id="button-output-actions-tooltip" for="button-output-actions" message="Code cell output actions"><template shadowrootmode="open"><!----><!--?lit$549300851$--><!----><div><!--?lit$549300851$-->Code cell output actions</div><!----><!--?--></template></colab-tooltip-trigger><!--?--></template></colab-output-info></div>
          <div class="output-iframe-container">
            <div class="output-iframe-sizer" style="min-height: 0px;"> <div><div><colab-static-output-renderer tabindex="0" role="group"><div><div class="execute_result output-id-1 output_text"><pre>(73827, 8)</pre></div></div><div></div></colab-static-output-renderer></div></div></div>
          </div>
        </div></div></div><colab-cell-next-steps><template shadowrootmode="open"><!----></template></colab-cell-next-steps></div></div><div class="add-cell">
      <div class="add-cell-buttons">
        <md-outlined-button class="add-code add-button" data-aria-label="Add code cell
Ctrl+M B" title="Add code cell
Ctrl+M B" value="" has-icon=""><template shadowrootmode="open" shadowrootdelegatesfocus><!---->
      <!--?lit$549300851$--><div class="outline"></div>
      <div class="background"></div>
      <md-focus-ring part="focus-ring" for="button" aria-hidden="true"><template shadowrootmode="open"><!----></template></md-focus-ring>
      <md-ripple part="ripple" for="button" aria-hidden="true"><template shadowrootmode="open"><!----><div class="surface"></div></template></md-ripple>
      <!--?lit$549300851$--><button id="button" class="button" aria-label="Add code cell
Ctrl+M B">
      <!--?lit$549300851$-->
      <span class="touch"></span>
      <!--?lit$549300851$--><slot name="icon"></slot>
      <span class="label"><slot></slot></span>
      <!--?lit$549300851$-->
    
    </button>
    </template>
          <md-icon slot="icon" aria-hidden="true"><template shadowrootmode="open"><!----><slot></slot></template>add</md-icon>
          <!--?lit$549300851$-->Code
        </md-outlined-button>
        <md-outlined-button class="add-text add-button" data-aria-label="Add text cell" title="Add text cell" value="" has-icon=""><template shadowrootmode="open" shadowrootdelegatesfocus><!---->
      <!--?lit$549300851$--><div class="outline"></div>
      <div class="background"></div>
      <md-focus-ring part="focus-ring" for="button" aria-hidden="true"><template shadowrootmode="open"><!----></template></md-focus-ring>
      <md-ripple part="ripple" for="button" aria-hidden="true"><template shadowrootmode="open"><!----><div class="surface   "></div></template></md-ripple>
      <!--?lit$549300851$--><button id="button" class="button" aria-label="Add text cell">
      <!--?lit$549300851$-->
      <span class="touch"></span>
      <!--?lit$549300851$--><slot name="icon"></slot>
      <span class="label"><slot></slot></span>
      <!--?lit$549300851$-->
    
    </button>
    </template>
          <md-icon slot="icon" aria-hidden="true"><template shadowrootmode="open"><!----><slot></slot></template>add</md-icon>
          <!--?lit$549300851$-->Text
        </md-outlined-button>
        <!--?lit$549300851$-->
      </div><hr>
    </div></div><div class="cell code icon-scrolling code-has-output" id="cell-vRzAxeaztOg-" tabindex="-1" role="region" aria-label="Cell 3: Code cell: " style="opacity: 1;"><div class="agent-focus-label">
      <md-icon aria-hidden="true"><template shadowrootmode="open"><!----><slot></slot></template>spark</md-icon>
      <!--?lit$549300851$-->Gemini
    </div><div class="cell-tag-editor sticky"></div><div class="cell-toolbar sticky"></div><div class="main-content" elevation="0"><div class="cell-contents"><div class="cell-mask"></div><span class="imported-info-area"></span><div class="codecell-input-output">
      <div class="inputarea horizontal layout code">
        <div class="cell-gutter">
          <!-- Bounding range for vertical scrolling of icons -->
          <div class="cell-execution-container">
            <colab-run-button><template shadowrootmode="open"><!----> <div class="cell-execution">
      <button id="run-button" aria-describedby="run-button-tooltip" aria-label="Run cell" aria-disabled="false">
        <!--?lit$549300851$--><span class="execution-count"><!--?lit$549300851$-->[9]</span>
        <span aria-hidden="true" class="cell-execution-indicator"><!--?lit$549300851$-->
<svg xmlns="http://www.w3.org/2000/svg" viewBox="0 0 24 24">
  <!--?lit$549300851$-->
  <mask id="playSymbolMask">
    <rect width="100%" height="100%" fill="white"></rect>
    <polygon points="10,8 17,12 10,16" fill="black"></polygon>
  </mask>
  <circle cx="12" cy="12" r="7.8" mask="url(#playSymbolMask)" id="filledCircle"></circle>
</svg></span>
      </button>
      <!--?lit$549300851$--><colab-tooltip-trigger for="run-button" id="run-button-tooltip" aria-hidden="true" message="Run cell (Ctrl+Enter)
cell executed since last change

executed by Avishkar Khandekar
9:00 AM (3 minutes ago)
executed in 0.175s"><template shadowrootmode="open"><!----><!--?lit$549300851$--><!----><div><!--?lit$549300851$-->Run cell (Ctrl+Enter)</div><!----><!----><div><!--?lit$549300851$-->cell executed since last change</div><!----><!----><br><!----><!----><div><!--?lit$549300851$-->executed by Avishkar Khandekar</div><!----><!----><div><!--?lit$549300851$-->9:00 AM (3 minutes ago)</div><!----><!----><div><!--?lit$549300851$-->executed in 0.175s</div><!----><!--?--></template>
    </colab-tooltip-trigger>
      <!--?lit$549300851$--><div id="status" class="last-run">
      <md-icon aria-hidden="true"><template shadowrootmode="open"><!----><slot></slot></template><!--?lit$549300851$--><svg viewBox="0 0 24 24"><!--?lit$549300851$--><path d="M9 16.17L4.83 12l-1.42 1.41L9 19 21 7l-1.41-1.41z"></path></svg></md-icon>
      <div><!--?lit$549300851$-->0s</div>
    </div>
    </div></template></colab-run-button>
          </div>
        </div>
      <div class="editor flex lazy-editor" style=""><pre class="lazy-virtualized" style="font-size: 14px; line-height: 19px;"><pre class="lazy-gutter"></pre><pre class="monaco-colorized colab-dark colab-dark colab-dark colab-dark colab-dark" data-lang="notebook-python"><span><span class="mtk1">IMDB_df.head</span><span class="mtk12">()</span></span><br></pre><colab-read-only-cell-placeholder style="display: none;"><template shadowrootmode="open"><!----><div><!--?lit$549300851$-->Start coding or <span tabindex="0" role="button" class="link">generate</span> with AI.</div></template></colab-read-only-cell-placeholder></pre></div><colab-form class="formview vertical layout flex"><div class="widget-area vertical layout"></div></colab-form></div>
    <div class="output" aria-label="Cell 3 output" role="region"><!----> <div class="output-header"> </div>
        <div class="output-content">
          <div class="output-info"><colab-output-info><template shadowrootmode="open"><!----><md-icon-button data-aria-expanded="false" data-aria-haspopup="menu" aria-describedby="button-output-actions-tooltip" data-aria-label="Code cell output actions" id="button-output-actions" value=""><template shadowrootmode="open" shadowrootdelegatesfocus><!----><button id="button" class="icon-button  standard " aria-label="Code cell output actions" aria-haspopup="menu" aria-expanded="false">
        <!--?lit$549300851$--><md-focus-ring part="focus-ring" for="button" aria-hidden="true"><template shadowrootmode="open"><!----></template></md-focus-ring>
        <!--?lit$549300851$--><md-ripple aria-hidden="true"><template shadowrootmode="open"><!----><div class="surface   "></div></template></md-ripple>
        <!--?lit$549300851$--><span class="icon"><slot></slot></span>
        <!--?lit$549300851$-->
        <!--?lit$549300851$--><span class="touch"></span>
  </button></template>
        <md-icon aria-hidden="true"><template shadowrootmode="open"><!----><slot></slot></template><!--?lit$549300851$--><svg viewBox="0 0 24 24"><!--?lit$549300851$--><path d="m15.9 3.07c-4.32 0.0742-8.64-0.0355-13 0.0568-1.37 0.307-1.74 2.1-1.41 3.26 0.469 0.606 1.86 0.384 1.66-0.525 0.0448-0.329-0.183-0.93 0.354-0.766h13.3v1.53h1.71c0.0709-1.13 0.141-2.62-0.968-3.3-0.511-0.264-1.11-0.252-1.67-0.259zm2.94 6.84v4.87c1.62-1.62 3.24-3.24 4.87-4.87h-4.87zm0 0h-1.71v3.43l1.57 1.57c0.32-1.65 0.0556-3.34 0.135-5zm-1.71 3.43v-3.43h-3.43c1.14 1.14 2.29 2.29 3.43 3.43zm1.4 4.27h-1.71v1.48h-13.6v-1.48h-1.71c-0.0473 1.15-0.16 2.72 1.09 3.29 1.47 0.506 3.02 0.0265 4.53 0.192 3.34-0.0051 6.68 0.0336 10-0.0245 1.49-0.366 1.56-2.22 1.42-3.45zm-10.1-1.12c-0.398-0.483-0.796-0.967-1.19-1.45 0.59-0.683 1.18-1.37 1.77-2.05h-8.67v-2h8.67c-0.59-0.683-1.18-1.37-1.77-2.05 0.398-0.483 0.796-0.967 1.19-1.45 1.28 1.5 2.56 3 3.84 4.5-1.28 1.5-2.56 3-3.84 4.5z"></path></svg></md-icon>
      </md-icon-button>
      <!--?lit$549300851$--><colab-tooltip-trigger aria-hidden="true" id="button-output-actions-tooltip" for="button-output-actions" message="Code cell output actions"><template shadowrootmode="open"><!----><!--?lit$549300851$--><!----><div><!--?lit$549300851$-->Code cell output actions</div><!----><!--?--></template></colab-tooltip-trigger><!--?--></template></colab-output-info></div>
          <div class="output-iframe-container">
            <div class="output-iframe-sizer" style="min-height: 0px;"> <div><div class="outputview" style="height: 206px;"><colab-dom-lifecycle-events style="display: none;"></colab-dom-lifecycle-events><iframe allow="accelerometer; autoplay; gyroscope; magnetometer; xr-spatial-tracking; clipboard-write" sandbox="allow-downloads allow-forms allow-pointer-lock allow-popups allow-popups-to-escape-sandbox allow-same-origin allow-scripts allow-storage-access-by-user-activation allow-modals" src="./IAS_files/outputframe(1).html" class="" style="height: 206px;"></iframe></div></div></div>
          </div>
        </div></div></div><colab-cell-next-steps hascontent=""><template shadowrootmode="open"><!----> <div class="root">
        <span class="next-steps-title">
          <!--?lit$549300851$-->Next steps: </span><!--?lit$549300851$--><!----><md-outlined-button value=""><template shadowrootmode="open" shadowrootdelegatesfocus><!---->
      <!--?lit$549300851$--><div class="outline"></div>
      <div class="background"></div>
      <md-focus-ring part="focus-ring" for="button" aria-hidden="true"><template shadowrootmode="open"><!----></template></md-focus-ring>
      <md-ripple part="ripple" for="button" aria-hidden="true"><template shadowrootmode="open"><!----><div class="surface"></div></template></md-ripple>
      <!--?lit$549300851$--><button id="button" class="button">
      <!--?lit$549300851$-->
      <span class="touch"></span>
      <!--?lit$549300851$--><slot name="icon"></slot>
      <span class="label"><slot></slot></span>
      <!--?lit$549300851$-->
    
    </button>
    </template>
            <!--?lit$549300851$-->Generate code with <code>IMDB_df</code>
          </md-outlined-button><!----><!----><md-outlined-button class="plots" value="" has-icon=""><template shadowrootmode="open" shadowrootdelegatesfocus><!---->
      <!--?lit$549300851$--><div class="outline"></div>
      <div class="background"></div>
      <md-focus-ring part="focus-ring" for="button" aria-hidden="true"><template shadowrootmode="open"><!----></template></md-focus-ring>
      <md-ripple part="ripple" for="button" aria-hidden="true"><template shadowrootmode="open"><!----><div class="surface"></div></template></md-ripple>
      <!--?lit$549300851$--><button id="button" class="button">
      <!--?lit$549300851$-->
      <span class="touch"></span>
      <!--?lit$549300851$--><slot name="icon"></slot>
      <span class="label"><slot></slot></span>
      <!--?lit$549300851$-->
    
    </button>
    </template>
            <md-icon slot="icon" aria-hidden="true"><template shadowrootmode="open"><!----><slot></slot></template>
              <!--?lit$549300851$-->toggle_off
            </md-icon>
            <!--?lit$549300851$-->View recommended plots
          </md-outlined-button><!----><!----><md-outlined-button class="interactive-sheet" value=""><template shadowrootmode="open" shadowrootdelegatesfocus><!---->
      <!--?lit$549300851$--><div class="outline"></div>
      <div class="background"></div>
      <md-focus-ring part="focus-ring" for="button" aria-hidden="true"><template shadowrootmode="open"><!----></template></md-focus-ring>
      <md-ripple part="ripple" for="button" aria-hidden="true"><template shadowrootmode="open"><!----><div class="surface"></div></template></md-ripple>
      <!--?lit$549300851$--><button id="button" class="button">
      <!--?lit$549300851$-->
      <span class="touch"></span>
      <!--?lit$549300851$--><slot name="icon"></slot>
      <span class="label"><slot></slot></span>
      <!--?lit$549300851$-->
    
    </button>
    </template>
            New interactive sheet
          </md-outlined-button><!---->
      </div>
      <div class="content"><!--?lit$549300851$--></div></template></colab-cell-next-steps></div></div><div class="add-cell">
      <div class="add-cell-buttons">
        <md-outlined-button class="add-code add-button" data-aria-label="Add code cell
Ctrl+M B" title="Add code cell
Ctrl+M B" value="" has-icon=""><template shadowrootmode="open" shadowrootdelegatesfocus><!---->
      <!--?lit$549300851$--><div class="outline"></div>
      <div class="background"></div>
      <md-focus-ring part="focus-ring" for="button" aria-hidden="true"><template shadowrootmode="open"><!----></template></md-focus-ring>
      <md-ripple part="ripple" for="button" aria-hidden="true"><template shadowrootmode="open"><!----><div class="surface"></div></template></md-ripple>
      <!--?lit$549300851$--><button id="button" class="button" aria-label="Add code cell
Ctrl+M B">
      <!--?lit$549300851$-->
      <span class="touch"></span>
      <!--?lit$549300851$--><slot name="icon"></slot>
      <span class="label"><slot></slot></span>
      <!--?lit$549300851$-->
    
    </button>
    </template>
          <md-icon slot="icon" aria-hidden="true"><template shadowrootmode="open"><!----><slot></slot></template>add</md-icon>
          <!--?lit$549300851$-->Code
        </md-outlined-button>
        <md-outlined-button class="add-text add-button" data-aria-label="Add text cell" title="Add text cell" value="" has-icon=""><template shadowrootmode="open" shadowrootdelegatesfocus><!---->
      <!--?lit$549300851$--><div class="outline"></div>
      <div class="background"></div>
      <md-focus-ring part="focus-ring" for="button" aria-hidden="true"><template shadowrootmode="open"><!----></template></md-focus-ring>
      <md-ripple part="ripple" for="button" aria-hidden="true"><template shadowrootmode="open"><!----><div class="surface"></div></template></md-ripple>
      <!--?lit$549300851$--><button id="button" class="button" aria-label="Add text cell">
      <!--?lit$549300851$-->
      <span class="touch"></span>
      <!--?lit$549300851$--><slot name="icon"></slot>
      <span class="label"><slot></slot></span>
      <!--?lit$549300851$-->
    
    </button>
    </template>
          <md-icon slot="icon" aria-hidden="true"><template shadowrootmode="open"><!----><slot></slot></template>add</md-icon>
          <!--?lit$549300851$-->Text
        </md-outlined-button>
        <!--?lit$549300851$-->
      </div><hr>
    </div></div><div class="cell code icon-scrolling code-has-output" id="cell-Ekx4e_EjtSA2" tabindex="-1" role="region" aria-label="Cell 4: Code cell: " style="opacity: 1;"><div class="agent-focus-label">
      <md-icon aria-hidden="true"><template shadowrootmode="open"><!----><slot></slot></template>spark</md-icon>
      <!--?lit$549300851$-->Gemini
    </div><div class="cell-tag-editor sticky"></div><div class="cell-toolbar sticky"></div><div class="main-content" elevation="0"><div class="cell-contents"><div class="cell-mask"></div><span class="imported-info-area"></span><div class="codecell-input-output">
      <div class="inputarea horizontal layout code">
        <div class="cell-gutter">
          <!-- Bounding range for vertical scrolling of icons -->
          <div class="cell-execution-container">
            <colab-run-button><template shadowrootmode="open"><!----> <div class="cell-execution">
      <button id="run-button" aria-describedby="run-button-tooltip" aria-label="Run cell" aria-disabled="false">
        <!--?lit$549300851$--><span class="execution-count"><!--?lit$549300851$-->[10]</span>
        <span aria-hidden="true" class="cell-execution-indicator"><!--?lit$549300851$-->
<svg xmlns="http://www.w3.org/2000/svg" viewBox="0 0 24 24">
  <!--?lit$549300851$-->
  <mask id="playSymbolMask">
    <rect width="100%" height="100%" fill="white"></rect>
    <polygon points="10,8 17,12 10,16" fill="black"></polygon>
  </mask>
  <circle cx="12" cy="12" r="7.8" mask="url(#playSymbolMask)" id="filledCircle"></circle>
</svg></span>
      </button>
      <!--?lit$549300851$--><colab-tooltip-trigger for="run-button" id="run-button-tooltip" aria-hidden="true" message="Run cell (Ctrl+Enter)
cell executed since last change

executed by Avishkar Khandekar
9:02 AM (0 minutes ago)
executed in 0.048s"><template shadowrootmode="open"><!----><!--?lit$549300851$--><!----><div><!--?lit$549300851$-->Run cell (Ctrl+Enter)</div><!----><!----><div><!--?lit$549300851$-->cell executed since last change</div><!----><!----><br><!----><!----><div><!--?lit$549300851$-->executed by Avishkar Khandekar</div><!----><!----><div><!--?lit$549300851$-->9:02 AM (0 minutes ago)</div><!----><!----><div><!--?lit$549300851$-->executed in 0.048s</div><!----><!--?--></template>
    </colab-tooltip-trigger>
      <!--?lit$549300851$--><div id="status" class="last-run">
      <md-icon aria-hidden="true"><template shadowrootmode="open"><!----><slot></slot></template><!--?lit$549300851$--><svg viewBox="0 0 24 24"><!--?lit$549300851$--><path d="M9 16.17L4.83 12l-1.42 1.41L9 19 21 7l-1.41-1.41z"></path></svg></md-icon>
      <div><!--?lit$549300851$-->0s</div>
    </div>
    </div></template></colab-run-button>
          </div>
        </div>
      <div class="editor flex lazy-editor" style=""><pre class="lazy-virtualized" style="font-size: 14px; line-height: 19px;"><pre class="lazy-gutter"></pre><pre class="monaco-colorized colab-dark colab-dark colab-dark colab-dark colab-dark" data-lang="notebook-python"><span><span class="mtk1">IMDB_df.columns</span></span><br></pre><colab-read-only-cell-placeholder style="display: none;"><template shadowrootmode="open"><!----><div><!--?lit$549300851$-->Start coding or <span tabindex="0" role="button" class="link">generate</span> with AI.</div></template></colab-read-only-cell-placeholder></pre></div><colab-form class="formview vertical layout flex"><div class="widget-area vertical layout"></div></colab-form></div>
    <div class="output" aria-label="Cell 4 output" role="region"><!----> <div class="output-header"> </div>
        <div class="output-content">
          <div class="output-info"><colab-output-info><template shadowrootmode="open"><!----><md-icon-button data-aria-expanded="false" data-aria-haspopup="menu" aria-describedby="button-output-actions-tooltip" data-aria-label="Code cell output actions" id="button-output-actions" value=""><template shadowrootmode="open" shadowrootdelegatesfocus><!----><button id="button" class="icon-button  standard " aria-label="Code cell output actions" aria-haspopup="menu" aria-expanded="false">
        <!--?lit$549300851$--><md-focus-ring part="focus-ring" for="button" aria-hidden="true"><template shadowrootmode="open"><!----></template></md-focus-ring>
        <!--?lit$549300851$--><md-ripple aria-hidden="true"><template shadowrootmode="open"><!----><div class="surface   "></div></template></md-ripple>
        <!--?lit$549300851$--><span class="icon"><slot></slot></span>
        <!--?lit$549300851$-->
        <!--?lit$549300851$--><span class="touch"></span>
  </button></template>
        <md-icon aria-hidden="true"><template shadowrootmode="open"><!----><slot></slot></template><!--?lit$549300851$--><svg viewBox="0 0 24 24"><!--?lit$549300851$--><path d="m15.9 3.07c-4.32 0.0742-8.64-0.0355-13 0.0568-1.37 0.307-1.74 2.1-1.41 3.26 0.469 0.606 1.86 0.384 1.66-0.525 0.0448-0.329-0.183-0.93 0.354-0.766h13.3v1.53h1.71c0.0709-1.13 0.141-2.62-0.968-3.3-0.511-0.264-1.11-0.252-1.67-0.259zm2.94 6.84v4.87c1.62-1.62 3.24-3.24 4.87-4.87h-4.87zm0 0h-1.71v3.43l1.57 1.57c0.32-1.65 0.0556-3.34 0.135-5zm-1.71 3.43v-3.43h-3.43c1.14 1.14 2.29 2.29 3.43 3.43zm1.4 4.27h-1.71v1.48h-13.6v-1.48h-1.71c-0.0473 1.15-0.16 2.72 1.09 3.29 1.47 0.506 3.02 0.0265 4.53 0.192 3.34-0.0051 6.68 0.0336 10-0.0245 1.49-0.366 1.56-2.22 1.42-3.45zm-10.1-1.12c-0.398-0.483-0.796-0.967-1.19-1.45 0.59-0.683 1.18-1.37 1.77-2.05h-8.67v-2h8.67c-0.59-0.683-1.18-1.37-1.77-2.05 0.398-0.483 0.796-0.967 1.19-1.45 1.28 1.5 2.56 3 3.84 4.5-1.28 1.5-2.56 3-3.84 4.5z"></path></svg></md-icon>
      </md-icon-button>
      <!--?lit$549300851$--><colab-tooltip-trigger aria-hidden="true" id="button-output-actions-tooltip" for="button-output-actions" message="Code cell output actions"><template shadowrootmode="open"><!----><!--?lit$549300851$--><!----><div><!--?lit$549300851$-->Code cell output actions</div><!----><!--?--></template></colab-tooltip-trigger><!--?--></template></colab-output-info></div>
          <div class="output-iframe-container">
            <div class="output-iframe-sizer" style="min-height: 0px;"> <div><div><colab-static-output-renderer tabindex="0" role="group"><div><div class="execute_result output-id-1 output_text"><pre>Index(['RowID', 'State_Name', 'District_Name', 'Crop_Year', 'Season', 'Crop',
       'Area', 'Production'],
      dtype='object')</pre></div></div><div></div></colab-static-output-renderer></div></div><div><div></div></div></div>
          </div>
        </div></div></div><colab-cell-next-steps><template shadowrootmode="open"><!----></template></colab-cell-next-steps></div></div><div class="add-cell">
      <div class="add-cell-buttons">
        <md-outlined-button class="add-code add-button" data-aria-label="Add code cell
Ctrl+M B" title="Add code cell
Ctrl+M B" value="" has-icon=""><template shadowrootmode="open" shadowrootdelegatesfocus><!---->
      <!--?lit$549300851$--><div class="outline"></div>
      <div class="background"></div>
      <md-focus-ring part="focus-ring" for="button" aria-hidden="true"><template shadowrootmode="open"><!----></template></md-focus-ring>
      <md-ripple part="ripple" for="button" aria-hidden="true"><template shadowrootmode="open"><!----><div class="surface   "></div></template></md-ripple>
      <!--?lit$549300851$--><button id="button" class="button" aria-label="Add code cell
Ctrl+M B">
      <!--?lit$549300851$-->
      <span class="touch"></span>
      <!--?lit$549300851$--><slot name="icon"></slot>
      <span class="label"><slot></slot></span>
      <!--?lit$549300851$-->
    
    </button>
    </template>
          <md-icon slot="icon" aria-hidden="true"><template shadowrootmode="open"><!----><slot></slot></template>add</md-icon>
          <!--?lit$549300851$-->Code
        </md-outlined-button>
        <md-outlined-button class="add-text add-button" data-aria-label="Add text cell" title="Add text cell" value="" has-icon=""><template shadowrootmode="open" shadowrootdelegatesfocus><!---->
      <!--?lit$549300851$--><div class="outline"></div>
      <div class="background"></div>
      <md-focus-ring part="focus-ring" for="button" aria-hidden="true"><template shadowrootmode="open"><!----></template></md-focus-ring>
      <md-ripple part="ripple" for="button" aria-hidden="true"><template shadowrootmode="open"><!----><div class="surface   "></div></template></md-ripple>
      <!--?lit$549300851$--><button id="button" class="button" aria-label="Add text cell">
      <!--?lit$549300851$-->
      <span class="touch"></span>
      <!--?lit$549300851$--><slot name="icon"></slot>
      <span class="label"><slot></slot></span>
      <!--?lit$549300851$-->
    
    </button>
    </template>
          <md-icon slot="icon" aria-hidden="true"><template shadowrootmode="open"><!----><slot></slot></template>add</md-icon>
          <!--?lit$549300851$-->Text
        </md-outlined-button>
        <!--?lit$549300851$-->
      </div><hr>
    </div></div><div class="cell code icon-scrolling code-has-output" id="cell-UVeApEHjtkeO" tabindex="-1" role="region" aria-label="Cell 5: Code cell: " style="opacity: 1;"><div class="agent-focus-label">
      <md-icon aria-hidden="true"><template shadowrootmode="open"><!----><slot></slot></template>spark</md-icon>
      <!--?lit$549300851$-->Gemini
    </div><div class="cell-tag-editor sticky"></div><div class="cell-toolbar sticky"></div><div class="main-content" elevation="0"><div class="cell-contents"><div class="cell-mask"></div><span class="imported-info-area"></span><div class="codecell-input-output">
      <div class="inputarea horizontal layout code">
        <div class="cell-gutter">
          <!-- Bounding range for vertical scrolling of icons -->
          <div class="cell-execution-container">
            <colab-run-button><template shadowrootmode="open"><!----> <div class="cell-execution">
      <button id="run-button" aria-describedby="run-button-tooltip" aria-label="Run cell" aria-disabled="false">
        <!--?lit$549300851$--><span class="execution-count"><!--?lit$549300851$-->[11]</span>
        <span aria-hidden="true" class="cell-execution-indicator"><!--?lit$549300851$-->
<svg xmlns="http://www.w3.org/2000/svg" viewBox="0 0 24 24">
  <!--?lit$549300851$-->
  <mask id="playSymbolMask">
    <rect width="100%" height="100%" fill="white"></rect>
    <polygon points="10,8 17,12 10,16" fill="black"></polygon>
  </mask>
  <circle cx="12" cy="12" r="7.8" mask="url(#playSymbolMask)" id="filledCircle"></circle>
</svg></span>
      </button>
      <!--?lit$549300851$--><colab-tooltip-trigger for="run-button" id="run-button-tooltip" aria-hidden="true" message="Run cell (Ctrl+Enter)
cell executed since last change

executed by Avishkar Khandekar
9:02 AM (15 minutes ago)
executed in 0.032s"><template shadowrootmode="open"><!----><!--?lit$549300851$--><!----><div><!--?lit$549300851$-->Run cell (Ctrl+Enter)</div><!----><!----><div><!--?lit$549300851$-->cell executed since last change</div><!----><!----><br><!----><!----><div><!--?lit$549300851$-->executed by Avishkar Khandekar</div><!----><!----><div><!--?lit$549300851$-->9:02 AM (15 minutes ago)</div><!----><!----><div><!--?lit$549300851$-->executed in 0.032s</div><!----><!--?--></template>
    </colab-tooltip-trigger>
      <!--?lit$549300851$--><div id="status" class="last-run">
      <md-icon aria-hidden="true"><template shadowrootmode="open"><!----><slot></slot></template><!--?lit$549300851$--><svg viewBox="0 0 24 24"><!--?lit$549300851$--><path d="M9 16.17L4.83 12l-1.42 1.41L9 19 21 7l-1.41-1.41z"></path></svg></md-icon>
      <div><!--?lit$549300851$-->0s</div>
    </div>
    </div></template></colab-run-button>
          </div>
        </div>
      <div class="editor flex lazy-editor" style=""><pre class="lazy-virtualized" style="font-size: 14px; line-height: 19px;"><pre class="lazy-gutter"></pre><pre class="monaco-colorized colab-dark colab-dark colab-dark colab-dark colab-dark" data-lang="notebook-python"><span><span class="mtk1">IMDB_df.info</span><span class="mtk12">()</span></span><br></pre><colab-read-only-cell-placeholder style="display: none;"><template shadowrootmode="open"><!----><div><!--?lit$549300851$-->Start coding or <span tabindex="0" role="button" class="link">generate</span> with AI.</div></template></colab-read-only-cell-placeholder></pre></div><colab-form class="formview vertical layout flex"><div class="widget-area vertical layout"></div></colab-form></div>
    <div class="output" aria-label="Cell 5 output" role="region"><!----> <div class="output-header"> </div>
        <div class="output-content">
          <div class="output-info"><colab-output-info><template shadowrootmode="open"><!----><md-icon-button data-aria-expanded="false" data-aria-haspopup="menu" aria-describedby="button-output-actions-tooltip" data-aria-label="Code cell output actions" id="button-output-actions" value=""><template shadowrootmode="open" shadowrootdelegatesfocus><!----><button id="button" class="icon-button  standard " aria-label="Code cell output actions" aria-haspopup="menu" aria-expanded="false">
        <!--?lit$549300851$--><md-focus-ring part="focus-ring" for="button" aria-hidden="true"><template shadowrootmode="open"><!----></template></md-focus-ring>
        <!--?lit$549300851$--><md-ripple aria-hidden="true"><template shadowrootmode="open"><!----><div class="surface"></div></template></md-ripple>
        <!--?lit$549300851$--><span class="icon"><slot></slot></span>
        <!--?lit$549300851$-->
        <!--?lit$549300851$--><span class="touch"></span>
  </button></template>
        <md-icon aria-hidden="true"><template shadowrootmode="open"><!----><slot></slot></template><!--?lit$549300851$--><svg viewBox="0 0 24 24"><!--?lit$549300851$--><path d="m15.9 3.07c-4.32 0.0742-8.64-0.0355-13 0.0568-1.37 0.307-1.74 2.1-1.41 3.26 0.469 0.606 1.86 0.384 1.66-0.525 0.0448-0.329-0.183-0.93 0.354-0.766h13.3v1.53h1.71c0.0709-1.13 0.141-2.62-0.968-3.3-0.511-0.264-1.11-0.252-1.67-0.259zm2.94 6.84v4.87c1.62-1.62 3.24-3.24 4.87-4.87h-4.87zm0 0h-1.71v3.43l1.57 1.57c0.32-1.65 0.0556-3.34 0.135-5zm-1.71 3.43v-3.43h-3.43c1.14 1.14 2.29 2.29 3.43 3.43zm1.4 4.27h-1.71v1.48h-13.6v-1.48h-1.71c-0.0473 1.15-0.16 2.72 1.09 3.29 1.47 0.506 3.02 0.0265 4.53 0.192 3.34-0.0051 6.68 0.0336 10-0.0245 1.49-0.366 1.56-2.22 1.42-3.45zm-10.1-1.12c-0.398-0.483-0.796-0.967-1.19-1.45 0.59-0.683 1.18-1.37 1.77-2.05h-8.67v-2h8.67c-0.59-0.683-1.18-1.37-1.77-2.05 0.398-0.483 0.796-0.967 1.19-1.45 1.28 1.5 2.56 3 3.84 4.5-1.28 1.5-2.56 3-3.84 4.5z"></path></svg></md-icon>
      </md-icon-button>
      <!--?lit$549300851$--><colab-tooltip-trigger aria-hidden="true" id="button-output-actions-tooltip" for="button-output-actions" message="Code cell output actions"><template shadowrootmode="open"><!----><!--?lit$549300851$--><!----><div><!--?lit$549300851$-->Code cell output actions</div><!----><!--?--></template></colab-tooltip-trigger><!--?--></template></colab-output-info></div>
          <div class="output-iframe-container">
            <div class="output-iframe-sizer" style="min-height: 0px;"> <div><div><colab-static-output-renderer tabindex="0" role="group"><div><div class="stream output-id-1 output_text"><pre>&lt;class 'pandas.core.frame.DataFrame'&gt;
RangeIndex: 73827 entries, 0 to 73826
Data columns (total 8 columns):
 #   Column         Non-Null Count  Dtype  
---  ------         --------------  -----  
 0   RowID          73827 non-null  int64  
 1   State_Name     73827 non-null  object 
 2   District_Name  73827 non-null  object 
 3   Crop_Year      73827 non-null  int64  
 4   Season         73827 non-null  object 
 5   Crop           73827 non-null  object 
 6   Area           73827 non-null  float64
 7   Production     72731 non-null  float64
dtypes: float64(2), int64(2), object(4)
memory usage: 4.5+ MB
</pre></div></div><div></div></colab-static-output-renderer></div></div><div><div></div></div></div>
          </div>
        </div></div></div><colab-cell-next-steps><template shadowrootmode="open"><!----></template></colab-cell-next-steps></div></div><div class="add-cell">
      <div class="add-cell-buttons">
        <md-outlined-button class="add-code add-button" data-aria-label="Add code cell
Ctrl+M B" title="Add code cell
Ctrl+M B" value="" has-icon=""><template shadowrootmode="open" shadowrootdelegatesfocus><!---->
      <!--?lit$549300851$--><div class="outline"></div>
      <div class="background"></div>
      <md-focus-ring part="focus-ring" for="button" aria-hidden="true"><template shadowrootmode="open"><!----></template></md-focus-ring>
      <md-ripple part="ripple" for="button" aria-hidden="true"><template shadowrootmode="open"><!----><div class="surface   "></div></template></md-ripple>
      <!--?lit$549300851$--><button id="button" class="button" aria-label="Add code cell
Ctrl+M B">
      <!--?lit$549300851$-->
      <span class="touch"></span>
      <!--?lit$549300851$--><slot name="icon"></slot>
      <span class="label"><slot></slot></span>
      <!--?lit$549300851$-->
    
    </button>
    </template>
          <md-icon slot="icon" aria-hidden="true"><template shadowrootmode="open"><!----><slot></slot></template>add</md-icon>
          <!--?lit$549300851$-->Code
        </md-outlined-button>
        <md-outlined-button class="add-text add-button" data-aria-label="Add text cell" title="Add text cell" value="" has-icon=""><template shadowrootmode="open" shadowrootdelegatesfocus><!---->
      <!--?lit$549300851$--><div class="outline"></div>
      <div class="background"></div>
      <md-focus-ring part="focus-ring" for="button" aria-hidden="true"><template shadowrootmode="open"><!----></template></md-focus-ring>
      <md-ripple part="ripple" for="button" aria-hidden="true"><template shadowrootmode="open"><!----><div class="surface"></div></template></md-ripple>
      <!--?lit$549300851$--><button id="button" class="button" aria-label="Add text cell">
      <!--?lit$549300851$-->
      <span class="touch"></span>
      <!--?lit$549300851$--><slot name="icon"></slot>
      <span class="label"><slot></slot></span>
      <!--?lit$549300851$-->
    
    </button>
    </template>
          <md-icon slot="icon" aria-hidden="true"><template shadowrootmode="open"><!----><slot></slot></template>add</md-icon>
          <!--?lit$549300851$-->Text
        </md-outlined-button>
        <!--?lit$549300851$-->
      </div><hr>
    </div></div><div class="cell code icon-scrolling code-has-output" id="cell-cfTrZlS3trdk" tabindex="-1" role="region" aria-label="Cell 6: Code cell: " style="opacity: 1;"><div class="agent-focus-label">
      <md-icon aria-hidden="true"><template shadowrootmode="open"><!----><slot></slot></template>spark</md-icon>
      <!--?lit$549300851$-->Gemini
    </div><div class="cell-tag-editor sticky"></div><div class="cell-toolbar sticky"></div><div class="main-content" elevation="0"><div class="cell-contents"><div class="cell-mask"></div><span class="imported-info-area"></span><div class="codecell-input-output">
      <div class="inputarea horizontal layout code">
        <div class="cell-gutter">
          <!-- Bounding range for vertical scrolling of icons -->
          <div class="cell-execution-container">
            <colab-run-button><template shadowrootmode="open"><!----> <div class="cell-execution">
      <button id="run-button" aria-describedby="run-button-tooltip" aria-label="Run cell" aria-disabled="false">
        <!--?lit$549300851$--><span class="execution-count"><!--?lit$549300851$-->[12]</span>
        <span aria-hidden="true" class="cell-execution-indicator"><!--?lit$549300851$-->
<svg xmlns="http://www.w3.org/2000/svg" viewBox="0 0 24 24">
  <!--?lit$549300851$-->
  <mask id="playSymbolMask">
    <rect width="100%" height="100%" fill="white"></rect>
    <polygon points="10,8 17,12 10,16" fill="black"></polygon>
  </mask>
  <circle cx="12" cy="12" r="7.8" mask="url(#playSymbolMask)" id="filledCircle"></circle>
</svg></span>
      </button>
      <!--?lit$549300851$--><colab-tooltip-trigger for="run-button" id="run-button-tooltip" aria-hidden="true" message="Run cell (Ctrl+Enter)
cell executed since last change

executed by Avishkar Khandekar
9:03 AM (0 minutes ago)
executed in 0.105s"><template shadowrootmode="open"><!----><!--?lit$549300851$--><!----><div><!--?lit$549300851$-->Run cell (Ctrl+Enter)</div><!----><!----><div><!--?lit$549300851$-->cell executed since last change</div><!----><!----><br><!----><!----><div><!--?lit$549300851$-->executed by Avishkar Khandekar</div><!----><!----><div><!--?lit$549300851$-->9:03 AM (0 minutes ago)</div><!----><!----><div><!--?lit$549300851$-->executed in 0.105s</div><!----><!--?--></template>
    </colab-tooltip-trigger>
      <!--?lit$549300851$--><div id="status" class="last-run">
      <md-icon aria-hidden="true"><template shadowrootmode="open"><!----><slot></slot></template><!--?lit$549300851$--><svg viewBox="0 0 24 24"><!--?lit$549300851$--><path d="M9 16.17L4.83 12l-1.42 1.41L9 19 21 7l-1.41-1.41z"></path></svg></md-icon>
      <div><!--?lit$549300851$-->0s</div>
    </div>
    </div></template></colab-run-button>
          </div>
        </div>
      <div class="editor flex lazy-editor" style=""><div class="editor flex monaco" data-keybinding-context="71" data-mode-id="notebook-python" style="height: 29px; --vscode-editorCodeLens-lineHeight: 16px; --vscode-editorCodeLens-fontSize: 12px; --vscode-editorCodeLens-fontFeatureSettings: &quot;liga&quot; off, &quot;calt&quot; off;"><div class="monaco-editor no-user-select  showUnused showDeprecated vs-dark" role="code" data-uri="inmemory://model/9" style="width: 896px; height: 29px;"><div data-mprt="3" class="overflow-guard" style="width: 896px; height: 29px; overflow: clip;"><div class="margin" role="presentation" aria-hidden="true" style="position: absolute; contain: strict; will-change: unset; top: 0px; height: 29px; width: 6px;"><div class="glyph-margin" style="left: 0px; width: 0px; height: 29px;"></div><div class="margin-view-zones" role="presentation" aria-hidden="true" style="position: absolute;"></div><div class="margin-view-overlays" role="presentation" aria-hidden="true" style="position: absolute; font-family: monospace, Consolas, &quot;Courier New&quot;, monospace; font-weight: normal; font-size: 14px; font-feature-settings: &quot;liga&quot; 0, &quot;calt&quot; 0; font-variation-settings: normal; line-height: 19px; letter-spacing: 0px; width: 6px; height: 29px;"><div style="position:absolute;top:0px;width:100%;height:19px;"><div class="current-line current-line-margin-both" style="width:6px; height:19px;"></div></div></div><div class="glyph-margin-widgets" style="position: absolute; top: 0px;"></div></div><div class="monaco-scrollable-element editor-scrollable vs-dark" role="presentation" data-mprt="5" style="position: absolute; overflow: hidden; left: 6px; width: 890px; height: 29px;"><div class="lines-content monaco-editor-background" style="position: absolute; overflow: hidden; width: 1e+06px; height: 29px; contain: strict; will-change: unset; top: 0px; left: 0px;"><div class="view-overlays" role="presentation" aria-hidden="true" style="position: absolute; font-family: monospace, Consolas, &quot;Courier New&quot;, monospace; font-weight: normal; font-size: 14px; font-feature-settings: &quot;liga&quot; 0, &quot;calt&quot; 0; font-variation-settings: normal; line-height: 19px; letter-spacing: 0px; height: 0px; width: 890px;"><div style="position:absolute;top:0px;width:100%;height:19px;"><div class="current-line" style="width:890px; height:19px;"></div></div></div><div role="presentation" aria-hidden="true" class="view-rulers"></div><div class="view-zones" role="presentation" aria-hidden="true" style="position: absolute;"></div><div class="view-lines monaco-mouse-cursor-text" role="presentation" aria-hidden="true" data-mprt="7" style="position: absolute; font-family: monospace, Consolas, &quot;Courier New&quot;, monospace; font-weight: normal; font-size: 14px; font-feature-settings: &quot;liga&quot; 0, &quot;calt&quot; 0; font-variation-settings: normal; line-height: 19px; letter-spacing: 0px; width: 890px; height: 29px;"><div style="top:0px;height:19px;" class="view-line"><span><span class="mtk1">IMDB_df.describe</span><span class="mtk12 bracket-highlighting-0">(</span><span class="mtk12 bracket-highlighting-0">)</span></span></div></div><div data-mprt="1" class="contentWidgets" style="position: absolute; top: 0px;"></div><div role="presentation" aria-hidden="true" class="cursors-layer cursor-line-style cursor-solid"><div class="cursor monaco-mouse-cursor-text " style="height: 19px; top: 0px; left: 0px; font-family: monospace, Consolas, &quot;Courier New&quot;, monospace; font-weight: normal; font-size: 14px; font-feature-settings: &quot;liga&quot; 0, &quot;calt&quot; 0; font-variation-settings: normal; line-height: 19px; letter-spacing: 0px; display: block; visibility: hidden; padding-left: 0px; width: 2px;"></div></div></div><div role="presentation" aria-hidden="true" class="invisible scrollbar horizontal" style="position: absolute; width: 876px; height: 10px; left: 0px; bottom: 0px;"><div class="slider" style="position: absolute; top: 0px; left: 0px; height: 10px; transform: translate3d(0px, 0px, 0px); contain: strict; will-change: unset; width: 876px;"></div></div><canvas class="decorationsOverviewRuler" aria-hidden="true" width="14" height="29" style="position: absolute; transform: translate3d(0px, 0px, 0px); contain: strict; top: 0px; right: 0px; width: 14px; height: 29px; will-change: unset; display: block;"></canvas><div role="presentation" aria-hidden="true" class="invisible scrollbar vertical" style="position: absolute; width: 14px; height: 29px; right: 0px; top: 0px;"><div class="slider" style="position: absolute; top: 0px; left: 0px; width: 14px; transform: translate3d(0px, 0px, 0px); contain: strict; will-change: unset; height: 29px;"></div></div></div><div role="presentation" aria-hidden="true" style="width: 896px;"></div><textarea data-mprt="6" class="inputarea monaco-mouse-cursor-text" wrap="on" autocorrect="off" autocapitalize="off" autocomplete="off" spellcheck="false" aria-label="Editor content;Press Alt+F1 for Accessibility Options." tabindex="0" role="textbox" aria-roledescription="editor" aria-multiline="true" aria-haspopup="false" aria-autocomplete="both" style="tab-size: 15.3984px; font-family: monospace, Consolas, &quot;Courier New&quot;, monospace; font-weight: normal; font-size: 14px; font-feature-settings: &quot;liga&quot; 0, &quot;calt&quot; 0; font-variation-settings: normal; line-height: 19px; letter-spacing: 0px; top: 0px; left: 6px; width: 76992px; height: 1px;"></textarea><div class="monaco-editor-background textAreaCover" style="position: absolute; top: 0px; left: 0px; width: 0px; height: 0px;"></div><div data-mprt="4" class="overlayWidgets" style="width: 896px;"><div widgetid="editor.contrib.quickInputWidget" style="position: absolute; top: 0px; right: 50%;"></div></div><div data-mprt="8" class="minimap slider-mouseover" role="presentation" aria-hidden="true" style="position: absolute; left: 0px; width: 0px; height: 29px;"><div class="minimap-shadow-hidden" style="height: 29px;"></div><canvas width="0" height="29" style="position: absolute; left: 0px; width: 0px; height: 29px;"></canvas><canvas class="minimap-decorations-layer" width="0" height="29" style="position: absolute; left: 0px; width: 0px; height: 29px;"></canvas><div class="minimap-slider" style="position: absolute; transform: translate3d(0px, 0px, 0px); contain: strict; width: 0px; will-change: unset;"><div class="minimap-slider-horizontal" style="position: absolute; width: 0px; height: 0px;"></div></div></div><div role="presentation" aria-hidden="true" class="blockDecorations-container"></div></div><div data-mprt="2" class="overflowingContentWidgets"><div widgetid="editor.contrib.resizableContentHoverWidget" style="position: fixed; height: 10px; width: 10px; z-index: 50; display: none; visibility: hidden; max-width: 1600px;"><div class="monaco-sash vertical" style="left: 8px;"></div><div class="monaco-sash vertical" style="left: -2px;"></div><div class="monaco-sash orthogonal-edge-north horizontal" style="top: -2px;"><div class="orthogonal-drag-handle start"></div><div class="orthogonal-drag-handle end"></div></div><div class="monaco-sash orthogonal-edge-south horizontal" style="top: 8px;"><div class="orthogonal-drag-handle start"></div><div class="orthogonal-drag-handle end"></div></div><div class="monaco-hover hidden" tabindex="0" role="tooltip"><div class="monaco-scrollable-element " role="presentation" style="position: relative; overflow: hidden;"><div class="monaco-hover-content" style="overflow: hidden; font-size: 14px; line-height: 1.35714; max-width: 591.36px; max-height: 250px;"></div><div role="presentation" aria-hidden="true" class="invisible scrollbar horizontal" style="position: absolute;"><div class="slider" style="position: absolute; top: 0px; left: 0px; height: 10px; transform: translate3d(0px, 0px, 0px); contain: strict;"></div></div><div role="presentation" aria-hidden="true" class="invisible scrollbar vertical" style="position: absolute;"><div class="slider" style="position: absolute; top: 0px; left: 0px; width: 10px; transform: translate3d(0px, 0px, 0px); contain: strict;"></div></div><div class="shadow"></div><div class="shadow"></div><div class="shadow"></div></div></div></div></div><div class=".in-cell-overflowing"></div></div></div></div><colab-form class="formview vertical layout flex"><div class="widget-area vertical layout"></div></colab-form></div>
    <div class="output" aria-label="Cell 6 output" role="region"><!----> <div class="output-header"> </div>
        <div class="output-content">
          <div class="output-info"><colab-output-info><template shadowrootmode="open"><!----><md-icon-button data-aria-expanded="false" data-aria-haspopup="menu" aria-describedby="button-output-actions-tooltip" data-aria-label="Code cell output actions" id="button-output-actions" value=""><template shadowrootmode="open" shadowrootdelegatesfocus><!----><button id="button" class="icon-button  standard " aria-label="Code cell output actions" aria-haspopup="menu" aria-expanded="false">
        <!--?lit$549300851$--><md-focus-ring part="focus-ring" for="button" aria-hidden="true"><template shadowrootmode="open"><!----></template></md-focus-ring>
        <!--?lit$549300851$--><md-ripple aria-hidden="true"><template shadowrootmode="open"><!----><div class="surface   "></div></template></md-ripple>
        <!--?lit$549300851$--><span class="icon"><slot></slot></span>
        <!--?lit$549300851$-->
        <!--?lit$549300851$--><span class="touch"></span>
  </button></template>
        <md-icon aria-hidden="true"><template shadowrootmode="open"><!----><slot></slot></template><!--?lit$549300851$--><svg viewBox="0 0 24 24"><!--?lit$549300851$--><path d="m15.9 3.07c-4.32 0.0742-8.64-0.0355-13 0.0568-1.37 0.307-1.74 2.1-1.41 3.26 0.469 0.606 1.86 0.384 1.66-0.525 0.0448-0.329-0.183-0.93 0.354-0.766h13.3v1.53h1.71c0.0709-1.13 0.141-2.62-0.968-3.3-0.511-0.264-1.11-0.252-1.67-0.259zm2.94 6.84v4.87c1.62-1.62 3.24-3.24 4.87-4.87h-4.87zm0 0h-1.71v3.43l1.57 1.57c0.32-1.65 0.0556-3.34 0.135-5zm-1.71 3.43v-3.43h-3.43c1.14 1.14 2.29 2.29 3.43 3.43zm1.4 4.27h-1.71v1.48h-13.6v-1.48h-1.71c-0.0473 1.15-0.16 2.72 1.09 3.29 1.47 0.506 3.02 0.0265 4.53 0.192 3.34-0.0051 6.68 0.0336 10-0.0245 1.49-0.366 1.56-2.22 1.42-3.45zm-10.1-1.12c-0.398-0.483-0.796-0.967-1.19-1.45 0.59-0.683 1.18-1.37 1.77-2.05h-8.67v-2h8.67c-0.59-0.683-1.18-1.37-1.77-2.05 0.398-0.483 0.796-0.967 1.19-1.45 1.28 1.5 2.56 3 3.84 4.5-1.28 1.5-2.56 3-3.84 4.5z"></path></svg></md-icon>
      </md-icon-button>
      <!--?lit$549300851$--><colab-tooltip-trigger aria-hidden="true" id="button-output-actions-tooltip" for="button-output-actions" message="Code cell output actions"><template shadowrootmode="open"><!----><!--?lit$549300851$--><!----><div><!--?lit$549300851$-->Code cell output actions</div><!----><!--?--></template></colab-tooltip-trigger><!--?--></template></colab-output-info></div>
          <div class="output-iframe-container">
            <div class="output-iframe-sizer" style="min-height: 0px;"> <div><div class="outputview" style="height: 300px;"><colab-dom-lifecycle-events style="display: none;"></colab-dom-lifecycle-events><iframe allow="accelerometer; autoplay; gyroscope; magnetometer; xr-spatial-tracking; clipboard-write" sandbox="allow-downloads allow-forms allow-pointer-lock allow-popups allow-popups-to-escape-sandbox allow-same-origin allow-scripts allow-storage-access-by-user-activation allow-modals" src="./IAS_files/outputframe(2).html" class="" style="height: 300px;"></iframe></div></div><div><div></div></div></div>
          </div>
        </div></div></div><colab-cell-next-steps><template shadowrootmode="open"><!----></template></colab-cell-next-steps></div></div><div class="add-cell">
      <div class="add-cell-buttons">
        <md-outlined-button class="add-code add-button" data-aria-label="Add code cell
Ctrl+M B" title="Add code cell
Ctrl+M B" value="" has-icon=""><template shadowrootmode="open" shadowrootdelegatesfocus><!---->
      <!--?lit$549300851$--><div class="outline"></div>
      <div class="background"></div>
      <md-focus-ring part="focus-ring" for="button" aria-hidden="true"><template shadowrootmode="open"><!----></template></md-focus-ring>
      <md-ripple part="ripple" for="button" aria-hidden="true"><template shadowrootmode="open"><!----><div class="surface"></div></template></md-ripple>
      <!--?lit$549300851$--><button id="button" class="button" aria-label="Add code cell
Ctrl+M B">
      <!--?lit$549300851$-->
      <span class="touch"></span>
      <!--?lit$549300851$--><slot name="icon"></slot>
      <span class="label"><slot></slot></span>
      <!--?lit$549300851$-->
    
    </button>
    </template>
          <md-icon slot="icon" aria-hidden="true"><template shadowrootmode="open"><!----><slot></slot></template>add</md-icon>
          <!--?lit$549300851$-->Code
        </md-outlined-button>
        <md-outlined-button class="add-text add-button" data-aria-label="Add text cell" title="Add text cell" value="" has-icon=""><template shadowrootmode="open" shadowrootdelegatesfocus><!---->
      <!--?lit$549300851$--><div class="outline"></div>
      <div class="background"></div>
      <md-focus-ring part="focus-ring" for="button" aria-hidden="true"><template shadowrootmode="open"><!----></template></md-focus-ring>
      <md-ripple part="ripple" for="button" aria-hidden="true"><template shadowrootmode="open"><!----><div class="surface"></div></template></md-ripple>
      <!--?lit$549300851$--><button id="button" class="button" aria-label="Add text cell">
      <!--?lit$549300851$-->
      <span class="touch"></span>
      <!--?lit$549300851$--><slot name="icon"></slot>
      <span class="label"><slot></slot></span>
      <!--?lit$549300851$-->
    
    </button>
    </template>
          <md-icon slot="icon" aria-hidden="true"><template shadowrootmode="open"><!----><slot></slot></template>add</md-icon>
          <!--?lit$549300851$-->Text
        </md-outlined-button>
        <!--?lit$549300851$-->
      </div><hr>
    </div></div><div class="cell code icon-scrolling code-has-output" id="cell-Z4quMIpPty_V" tabindex="-1" role="region" aria-label="Cell 7: Code cell: " style="opacity: 1;"><div class="agent-focus-label">
      <md-icon aria-hidden="true"><template shadowrootmode="open"><!----><slot></slot></template>spark</md-icon>
      <!--?lit$549300851$-->Gemini
    </div><div class="cell-tag-editor sticky"></div><div class="cell-toolbar sticky"></div><div class="main-content" elevation="0"><div class="cell-contents"><div class="cell-mask"></div><span class="imported-info-area"></span><div class="codecell-input-output">
      <div class="inputarea horizontal layout code">
        <div class="cell-gutter">
          <!-- Bounding range for vertical scrolling of icons -->
          <div class="cell-execution-container">
            <colab-run-button><template shadowrootmode="open"><!----> <div class="cell-execution">
      <button id="run-button" aria-describedby="run-button-tooltip" aria-label="Run cell" aria-disabled="false">
        <!--?lit$549300851$--><span class="execution-count"><!--?lit$549300851$-->[15]</span>
        <span aria-hidden="true" class="cell-execution-indicator"><!--?lit$549300851$-->
<svg xmlns="http://www.w3.org/2000/svg" viewBox="0 0 24 24">
  <!--?lit$549300851$-->
  <mask id="playSymbolMask">
    <rect width="100%" height="100%" fill="white"></rect>
    <polygon points="10,8 17,12 10,16" fill="black"></polygon>
  </mask>
  <circle cx="12" cy="12" r="7.8" mask="url(#playSymbolMask)" id="filledCircle"></circle>
</svg></span>
      </button>
      <!--?lit$549300851$--><colab-tooltip-trigger for="run-button" id="run-button-tooltip" aria-hidden="true" message="Run cell (Ctrl+Enter)
cell executed since last change

executed by Avishkar Khandekar
9:08 AM (9 minutes ago)
executed in 0.055s"><template shadowrootmode="open"><!----><!--?lit$549300851$--><!----><div><!--?lit$549300851$-->Run cell (Ctrl+Enter)</div><!----><!----><div><!--?lit$549300851$-->cell executed since last change</div><!----><!----><br><!----><!----><div><!--?lit$549300851$-->executed by Avishkar Khandekar</div><!----><!----><div><!--?lit$549300851$-->9:08 AM (9 minutes ago)</div><!----><!----><div><!--?lit$549300851$-->executed in 0.055s</div><!----><!--?--></template>
    </colab-tooltip-trigger>
      <!--?lit$549300851$--><div id="status" class="last-run">
      <md-icon aria-hidden="true"><template shadowrootmode="open"><!----><slot></slot></template><!--?lit$549300851$--><svg viewBox="0 0 24 24"><!--?lit$549300851$--><path d="M9 16.17L4.83 12l-1.42 1.41L9 19 21 7l-1.41-1.41z"></path></svg></md-icon>
      <div><!--?lit$549300851$-->0s</div>
    </div>
    </div></template></colab-run-button>
          </div>
        </div>
      <div class="editor flex lazy-editor" style=""><pre class="lazy-virtualized" style="font-size: 14px; line-height: 19px;"><pre class="lazy-gutter"></pre><pre class="monaco-colorized colab-dark colab-dark colab-dark colab-dark colab-dark colab-dark colab-dark colab-dark colab-dark colab-dark colab-dark colab-dark" data-lang="notebook-python"><span><span class="mtk1">mean_production&nbsp;=&nbsp;IMDB_df</span><span class="mtk12">[</span><span class="mtk5">'Production'</span><span class="mtk12">]</span><span class="mtk1">.mean</span><span class="mtk12">()</span></span><br><span><span class="mtk15">print</span><span class="mtk12">(</span><span class="mtk9">f</span><span class="mtk5">"The&nbsp;mean&nbsp;of&nbsp;the&nbsp;production&nbsp;column&nbsp;is:&nbsp;</span><span class="mtk12">{</span><span class="mtk1">mean_production</span><span class="mtk12">}</span><span class="mtk5">"</span><span class="mtk12">)</span></span><br></pre><colab-read-only-cell-placeholder style="display: none;"><template shadowrootmode="open"><!----><div><!--?lit$549300851$-->Start coding or <span tabindex="0" role="button" class="link">generate</span> with AI.</div></template></colab-read-only-cell-placeholder></pre></div><colab-form class="formview vertical layout flex"><div class="widget-area vertical layout"></div></colab-form></div>
    <div class="output" aria-label="Cell 7 output" role="region"><!----> <div class="output-header"> </div>
        <div class="output-content">
          <div class="output-info"><colab-output-info><template shadowrootmode="open"><!----><md-icon-button data-aria-expanded="false" data-aria-haspopup="menu" aria-describedby="button-output-actions-tooltip" data-aria-label="Code cell output actions" id="button-output-actions" value=""><template shadowrootmode="open" shadowrootdelegatesfocus><!----><button id="button" class="icon-button  standard " aria-label="Code cell output actions" aria-haspopup="menu" aria-expanded="false">
        <!--?lit$549300851$--><md-focus-ring part="focus-ring" for="button" aria-hidden="true"><template shadowrootmode="open"><!----></template></md-focus-ring>
        <!--?lit$549300851$--><md-ripple aria-hidden="true"><template shadowrootmode="open"><!----><div class="surface"></div></template></md-ripple>
        <!--?lit$549300851$--><span class="icon"><slot></slot></span>
        <!--?lit$549300851$-->
        <!--?lit$549300851$--><span class="touch"></span>
  </button></template>
        <md-icon aria-hidden="true"><template shadowrootmode="open"><!----><slot></slot></template><!--?lit$549300851$--><svg viewBox="0 0 24 24"><!--?lit$549300851$--><path d="m15.9 3.07c-4.32 0.0742-8.64-0.0355-13 0.0568-1.37 0.307-1.74 2.1-1.41 3.26 0.469 0.606 1.86 0.384 1.66-0.525 0.0448-0.329-0.183-0.93 0.354-0.766h13.3v1.53h1.71c0.0709-1.13 0.141-2.62-0.968-3.3-0.511-0.264-1.11-0.252-1.67-0.259zm2.94 6.84v4.87c1.62-1.62 3.24-3.24 4.87-4.87h-4.87zm0 0h-1.71v3.43l1.57 1.57c0.32-1.65 0.0556-3.34 0.135-5zm-1.71 3.43v-3.43h-3.43c1.14 1.14 2.29 2.29 3.43 3.43zm1.4 4.27h-1.71v1.48h-13.6v-1.48h-1.71c-0.0473 1.15-0.16 2.72 1.09 3.29 1.47 0.506 3.02 0.0265 4.53 0.192 3.34-0.0051 6.68 0.0336 10-0.0245 1.49-0.366 1.56-2.22 1.42-3.45zm-10.1-1.12c-0.398-0.483-0.796-0.967-1.19-1.45 0.59-0.683 1.18-1.37 1.77-2.05h-8.67v-2h8.67c-0.59-0.683-1.18-1.37-1.77-2.05 0.398-0.483 0.796-0.967 1.19-1.45 1.28 1.5 2.56 3 3.84 4.5-1.28 1.5-2.56 3-3.84 4.5z"></path></svg></md-icon>
      </md-icon-button>
      <!--?lit$549300851$--><colab-tooltip-trigger aria-hidden="true" id="button-output-actions-tooltip" for="button-output-actions" message="Code cell output actions"><template shadowrootmode="open"><!----><!--?lit$549300851$--><!----><div><!--?lit$549300851$-->Code cell output actions</div><!----><!--?--></template></colab-tooltip-trigger><!--?--></template></colab-output-info></div>
          <div class="output-iframe-container">
            <div class="output-iframe-sizer" style="min-height: 0px;"> <div><div><colab-static-output-renderer tabindex="0" role="group"><div><div class="stream output-id-1 output_text"><pre>The mean of the production column is: 621031.9533575778
</pre></div></div><div></div></colab-static-output-renderer></div></div></div>
          </div>
        </div></div></div><colab-cell-next-steps><template shadowrootmode="open"><!----></template></colab-cell-next-steps></div></div><div class="add-cell">
      <div class="add-cell-buttons">
        <md-outlined-button class="add-code add-button" data-aria-label="Add code cell
Ctrl+M B" title="Add code cell
Ctrl+M B" value="" has-icon=""><template shadowrootmode="open" shadowrootdelegatesfocus><!---->
      <!--?lit$549300851$--><div class="outline"></div>
      <div class="background"></div>
      <md-focus-ring part="focus-ring" for="button" aria-hidden="true"><template shadowrootmode="open"><!----></template></md-focus-ring>
      <md-ripple part="ripple" for="button" aria-hidden="true"><template shadowrootmode="open"><!----><div class="surface"></div></template></md-ripple>
      <!--?lit$549300851$--><button id="button" class="button" aria-label="Add code cell
Ctrl+M B">
      <!--?lit$549300851$-->
      <span class="touch"></span>
      <!--?lit$549300851$--><slot name="icon"></slot>
      <span class="label"><slot></slot></span>
      <!--?lit$549300851$-->
    
    </button>
    </template>
          <md-icon slot="icon" aria-hidden="true"><template shadowrootmode="open"><!----><slot></slot></template>add</md-icon>
          <!--?lit$549300851$-->Code
        </md-outlined-button>
        <md-outlined-button class="add-text add-button" data-aria-label="Add text cell" title="Add text cell" value="" has-icon=""><template shadowrootmode="open" shadowrootdelegatesfocus><!---->
      <!--?lit$549300851$--><div class="outline"></div>
      <div class="background"></div>
      <md-focus-ring part="focus-ring" for="button" aria-hidden="true"><template shadowrootmode="open"><!----></template></md-focus-ring>
      <md-ripple part="ripple" for="button" aria-hidden="true"><template shadowrootmode="open"><!----><div class="surface   "></div></template></md-ripple>
      <!--?lit$549300851$--><button id="button" class="button" aria-label="Add text cell">
      <!--?lit$549300851$-->
      <span class="touch"></span>
      <!--?lit$549300851$--><slot name="icon"></slot>
      <span class="label"><slot></slot></span>
      <!--?lit$549300851$-->
    
    </button>
    </template>
          <md-icon slot="icon" aria-hidden="true"><template shadowrootmode="open"><!----><slot></slot></template>add</md-icon>
          <!--?lit$549300851$-->Text
        </md-outlined-button>
        <!--?lit$549300851$-->
      </div><hr>
    </div></div><div class="cell code icon-scrolling" id="cell-Cf9a7JxXulTV" tabindex="-1" role="region" aria-label="Cell 8: Code cell: " style="opacity: 1;"><div class="agent-focus-label">
      <md-icon aria-hidden="true"><template shadowrootmode="open"><!----><slot></slot></template>spark</md-icon>
      <!--?lit$549300851$-->Gemini
    </div><div class="cell-tag-editor sticky"></div><div class="cell-toolbar sticky"></div><div class="main-content" elevation="0"><div class="cell-contents"><div class="cell-mask"></div><span class="imported-info-area"></span><div class="codecell-input-output">
      <div class="inputarea horizontal layout code">
        <div class="cell-gutter">
          <!-- Bounding range for vertical scrolling of icons -->
          <div class="cell-execution-container">
            <colab-run-button><template shadowrootmode="open"><!----> <div class="cell-execution">
      <button id="run-button" aria-describedby="run-button-tooltip" aria-label="Run cell" aria-disabled="false">
        <!--?lit$549300851$--><span class="execution-count"><!--?lit$549300851$-->[17]</span>
        <span aria-hidden="true" class="cell-execution-indicator"><!--?lit$549300851$-->
<svg xmlns="http://www.w3.org/2000/svg" viewBox="0 0 24 24">
  <!--?lit$549300851$-->
  <mask id="playSymbolMask">
    <rect width="100%" height="100%" fill="white"></rect>
    <polygon points="10,8 17,12 10,16" fill="black"></polygon>
  </mask>
  <circle cx="12" cy="12" r="7.8" mask="url(#playSymbolMask)" id="filledCircle"></circle>
</svg></span>
      </button>
      <!--?lit$549300851$--><colab-tooltip-trigger for="run-button" id="run-button-tooltip" aria-hidden="true" message="Run cell (Ctrl+Enter)
cell executed since last change

executed by Avishkar Khandekar
9:09 AM (0 minutes ago)
executed in 0.044s"><template shadowrootmode="open"><!----><!--?lit$549300851$--><!----><div><!--?lit$549300851$-->Run cell (Ctrl+Enter)</div><!----><!----><div><!--?lit$549300851$-->cell executed since last change</div><!----><!----><br><!----><!----><div><!--?lit$549300851$-->executed by Avishkar Khandekar</div><!----><!----><div><!--?lit$549300851$-->9:09 AM (0 minutes ago)</div><!----><!----><div><!--?lit$549300851$-->executed in 0.044s</div><!----><!--?--></template>
    </colab-tooltip-trigger>
      <!--?lit$549300851$--><div id="status" class="last-run">
      <md-icon aria-hidden="true"><template shadowrootmode="open"><!----><slot></slot></template><!--?lit$549300851$--><svg viewBox="0 0 24 24"><!--?lit$549300851$--><path d="M9 16.17L4.83 12l-1.42 1.41L9 19 21 7l-1.41-1.41z"></path></svg></md-icon>
      <div><!--?lit$549300851$-->0s</div>
    </div>
    </div></template></colab-run-button>
          </div>
        </div>
      <div class="editor flex lazy-editor" style=""><pre class="lazy-virtualized" style="font-size: 14px; line-height: 19px;"><pre class="lazy-gutter"></pre><pre class="monaco-colorized colab-dark colab-dark colab-dark colab-dark colab-dark colab-dark colab-dark colab-dark colab-dark colab-dark colab-dark colab-dark" data-lang="notebook-python"><span><span class="mtk1">IMDB_df</span><span class="mtk12">[</span><span class="mtk5">'Production'</span><span class="mtk12">]</span><span class="mtk1">&nbsp;=&nbsp;IMDB_df</span><span class="mtk12">[</span><span class="mtk5">'Production'</span><span class="mtk12">]</span><span class="mtk1">.fillna</span><span class="mtk12">(</span><span class="mtk1">mean_production</span><span class="mtk12">)</span></span><br></pre><colab-read-only-cell-placeholder style="display: none;"><template shadowrootmode="open"><!----><div><!--?lit$549300851$-->Start coding or <span tabindex="0" role="button" class="link">generate</span> with AI.</div></template></colab-read-only-cell-placeholder></pre></div><colab-form class="formview vertical layout flex"><div class="widget-area vertical layout"></div></colab-form></div>
    <div class="output" aria-label="Cell 8 output" role="region"><!----> <div class="output-header"> </div>
        <div class="output-content" hidden="">
          <div class="output-info"><colab-output-info><template shadowrootmode="open"><!----><md-icon-button data-aria-expanded="false" data-aria-haspopup="menu" aria-describedby="button-output-actions-tooltip" data-aria-label="Code cell output actions" id="button-output-actions" value=""><template shadowrootmode="open" shadowrootdelegatesfocus><!----><button id="button" class="icon-button  standard " aria-label="Code cell output actions" aria-haspopup="menu" aria-expanded="false">
        <!--?lit$549300851$--><md-focus-ring part="focus-ring" for="button" aria-hidden="true"><template shadowrootmode="open"><!----></template></md-focus-ring>
        <!--?lit$549300851$--><md-ripple aria-hidden="true"><template shadowrootmode="open"><!----><div class="surface   "></div></template></md-ripple>
        <!--?lit$549300851$--><span class="icon"><slot></slot></span>
        <!--?lit$549300851$-->
        <!--?lit$549300851$--><span class="touch"></span>
  </button></template>
        <md-icon aria-hidden="true"><template shadowrootmode="open"><!----><slot></slot></template><!--?lit$549300851$--><svg viewBox="0 0 24 24"><!--?lit$549300851$--><path d="m15.9 3.07c-4.32 0.0742-8.64-0.0355-13 0.0568-1.37 0.307-1.74 2.1-1.41 3.26 0.469 0.606 1.86 0.384 1.66-0.525 0.0448-0.329-0.183-0.93 0.354-0.766h13.3v1.53h1.71c0.0709-1.13 0.141-2.62-0.968-3.3-0.511-0.264-1.11-0.252-1.67-0.259zm2.94 6.84v4.87c1.62-1.62 3.24-3.24 4.87-4.87h-4.87zm0 0h-1.71v3.43l1.57 1.57c0.32-1.65 0.0556-3.34 0.135-5zm-1.71 3.43v-3.43h-3.43c1.14 1.14 2.29 2.29 3.43 3.43zm1.4 4.27h-1.71v1.48h-13.6v-1.48h-1.71c-0.0473 1.15-0.16 2.72 1.09 3.29 1.47 0.506 3.02 0.0265 4.53 0.192 3.34-0.0051 6.68 0.0336 10-0.0245 1.49-0.366 1.56-2.22 1.42-3.45zm-10.1-1.12c-0.398-0.483-0.796-0.967-1.19-1.45 0.59-0.683 1.18-1.37 1.77-2.05h-8.67v-2h8.67c-0.59-0.683-1.18-1.37-1.77-2.05 0.398-0.483 0.796-0.967 1.19-1.45 1.28 1.5 2.56 3 3.84 4.5-1.28 1.5-2.56 3-3.84 4.5z"></path></svg></md-icon>
      </md-icon-button>
      <!--?lit$549300851$--><colab-tooltip-trigger aria-hidden="true" id="button-output-actions-tooltip" for="button-output-actions" message="Code cell output actions"><template shadowrootmode="open"><!----><!--?lit$549300851$--><!----><div><!--?lit$549300851$-->Code cell output actions</div><!----><!--?--></template></colab-tooltip-trigger><!--?--></template></colab-output-info></div>
          <div class="output-iframe-container" hidden="">
            <div class="output-iframe-sizer" style="min-height: 0px;"> <div><div><colab-static-output-renderer tabindex="0" role="group"><div></div><div></div></colab-static-output-renderer></div></div></div>
          </div>
        </div></div></div><colab-cell-next-steps><template shadowrootmode="open"><!----></template></colab-cell-next-steps></div></div><div class="add-cell">
      <div class="add-cell-buttons">
        <md-outlined-button class="add-code add-button" data-aria-label="Add code cell
Ctrl+M B" title="Add code cell
Ctrl+M B" value="" has-icon=""><template shadowrootmode="open" shadowrootdelegatesfocus><!---->
      <!--?lit$549300851$--><div class="outline"></div>
      <div class="background"></div>
      <md-focus-ring part="focus-ring" for="button" aria-hidden="true"><template shadowrootmode="open"><!----></template></md-focus-ring>
      <md-ripple part="ripple" for="button" aria-hidden="true"><template shadowrootmode="open"><!----><div class="surface   "></div></template></md-ripple>
      <!--?lit$549300851$--><button id="button" class="button" aria-label="Add code cell
Ctrl+M B">
      <!--?lit$549300851$-->
      <span class="touch"></span>
      <!--?lit$549300851$--><slot name="icon"></slot>
      <span class="label"><slot></slot></span>
      <!--?lit$549300851$-->
    
    </button>
    </template>
          <md-icon slot="icon" aria-hidden="true"><template shadowrootmode="open"><!----><slot></slot></template>add</md-icon>
          <!--?lit$549300851$-->Code
        </md-outlined-button>
        <md-outlined-button class="add-text add-button" data-aria-label="Add text cell" title="Add text cell" value="" has-icon=""><template shadowrootmode="open" shadowrootdelegatesfocus><!---->
      <!--?lit$549300851$--><div class="outline"></div>
      <div class="background"></div>
      <md-focus-ring part="focus-ring" for="button" aria-hidden="true"><template shadowrootmode="open"><!----></template></md-focus-ring>
      <md-ripple part="ripple" for="button" aria-hidden="true"><template shadowrootmode="open"><!----><div class="surface   "></div></template></md-ripple>
      <!--?lit$549300851$--><button id="button" class="button" aria-label="Add text cell">
      <!--?lit$549300851$-->
      <span class="touch"></span>
      <!--?lit$549300851$--><slot name="icon"></slot>
      <span class="label"><slot></slot></span>
      <!--?lit$549300851$-->
    
    </button>
    </template>
          <md-icon slot="icon" aria-hidden="true"><template shadowrootmode="open"><!----><slot></slot></template>add</md-icon>
          <!--?lit$549300851$-->Text
        </md-outlined-button>
        <!--?lit$549300851$-->
      </div><hr>
    </div></div><div class="cell code icon-scrolling code-has-output" id="cell-iM5_w0-uvGZ1" tabindex="-1" role="region" aria-label="Cell 9: Code cell: " style="opacity: 1;"><div class="agent-focus-label">
      <md-icon aria-hidden="true"><template shadowrootmode="open"><!----><slot></slot></template>spark</md-icon>
      <!--?lit$549300851$-->Gemini
    </div><div class="cell-tag-editor sticky"></div><div class="cell-toolbar sticky"></div><div class="main-content" elevation="0"><div class="cell-contents"><colab-cell-assist-input class="showing" style="max-height: 0px;"><template shadowrootmode="open"><!----><div class="top">
        <mwc-button class="generate" disabled=""><template shadowrootmode="open"><!---->
      <button id="button" class="mdc-button   " disabled="" aria-label="">
        <!--?lit$549300851$--><!--?-->
        <!--?lit$549300851$-->
        <span class="leading-icon">
          <slot name="icon">
            <!--?lit$549300851$-->
          </slot>
        </span>
        <span class="mdc-button__label"><!--?lit$549300851$--></span>
        <span class="slot-container   ">
          <slot></slot>
        </span>
        <span class="trailing-icon">
          <slot name="trailingIcon">
            <!--?lit$549300851$-->
          </slot>
        </span>
      </button></template>
          <md-icon aria-hidden="true"><template shadowrootmode="open"><!----><slot></slot></template>pen_spark</md-icon><!--?lit$549300851$-->Generate
        </mwc-button>
        <!--?lit$549300851$--><!--?-->
        <div class="input-container   ">
          <label class="cell-assist-input-label" aria-hidden="true" for="cell-assist-input-iM5_w0-uvGZ1"><!--?lit$549300851$-->10 random numbers using numpy</label>
          <md-outlined-text-field class="cell-assist-input" type="textarea" autofocus="" rows="1" id="cell-assist-input-iM5_w0-uvGZ1" maxlength="2000" data-aria-label="Generate Code prompt" inputmode="" autocomplete=""><template shadowrootmode="open" shadowrootdelegatesfocus><!---->
      <span class="text-field  textarea ">
        <!--?lit$549300851$--><md-outlined-field class="field" count="0" error-text="" label="" max="2000" resizable="" supporting-text="" has-end=""><template shadowrootmode="open"><!---->
      <div class="field resizable no-label with-end">
        <div class="container-overflow">
          <!--?lit$549300851$-->
          <slot name="container"></slot>
          <!--?lit$549300851$--> <!--?lit$549300851$--> <!--?lit$549300851$-->
      <div class="outline">
        <div class="outline-start"></div>
        <div class="outline-notch">
          <div class="outline-panel-inactive"></div>
          <div class="outline-panel-active"></div>
          <div class="outline-label"><!--?lit$549300851$--></div>
        </div>
        <div class="outline-end"></div>
      </div>
    
          <div class="container">
            <div class="start">
              <slot name="start"></slot>
            </div>
            <div class="middle">
              <div class="label-wrapper">
                <!--?lit$549300851$--> <!--?lit$549300851$-->
              </div>
              <div class="content">
                <slot></slot>
              </div>
            </div>
            <div class="end">
              <slot name="end"></slot>
            </div>
          </div>
        </div>
        <!--?lit$549300851$-->
      <div class="supporting-text"><!--?lit$549300851$--><span><!--?lit$549300851$--></span><!--?lit$549300851$--><span class="counter"><!--?lit$549300851$-->0 / 2000</span></div>
      <slot name="aria-describedby"></slot>
    
      </div>
    </template>
      <!--?lit$549300851$-->
      <span class="icon leading" slot="start">
        <slot name="leading-icon"></slot>
      </span>
    
      <!--?lit$549300851$-->
        <textarea class="input" aria-describedby="description" aria-invalid="false" aria-label="Generate Code prompt" maxlength="2000" rows="1" cols="20"></textarea>
      
      <!--?lit$549300851$-->
      <span class="icon trailing" slot="end">
        <slot name="trailing-icon"></slot>
      </span>
    
      <div id="description" slot="aria-describedby" hidden=""><!----><!--?lit$549300851$--> <!--?lit$549300851$-->0 / 2000<!--?--></div>
      <slot name="container" slot="container"></slot>
    </md-outlined-field>
      </span>
    </template>
            <md-icon slot="trailing-icon" class="search" title="Search" aria-hidden="true"><template shadowrootmode="open"><!----><slot></slot></template>search</md-icon>
          </md-outlined-text-field>
        </div>
        <md-outlined-button class="close" value=""><template shadowrootmode="open" shadowrootdelegatesfocus><!---->
      <!--?lit$549300851$--><div class="outline"></div>
      <div class="background"></div>
      <md-focus-ring part="focus-ring" for="button" aria-hidden="true"><template shadowrootmode="open"><!----></template></md-focus-ring>
      <md-ripple part="ripple" for="button" aria-hidden="true"><template shadowrootmode="open"><!----><div class="surface"></div></template></md-ripple>
      <!--?lit$549300851$--><button id="button" class="button">
      <!--?lit$549300851$-->
      <span class="touch"></span>
      <!--?lit$549300851$--><slot name="icon"></slot>
      <span class="label"><slot></slot></span>
      <!--?lit$549300851$-->
    
    </button>
    </template><!--?lit$549300851$-->Close</md-outlined-button>
      </div>
      <md-linear-progress indeterminate="" class="  "><template shadowrootmode="open"><!---->
      <div role="progressbar" aria-valuemin="0" class="progress  indeterminate " aria-valuemax="1"><!--?lit$549300851$-->
      <div class="dots" hidden=""></div>
      <div class="inactive-track" style="transform: scaleX(1);"></div>
      <div class="bar primary-bar" style="transform: scaleX(1);">
        <div class="bar-inner"></div>
      </div>
      <div class="bar secondary-bar">
        <div class="bar-inner"></div>
      </div>
    </div>
    </template></md-linear-progress>
      <!--?lit$549300851$--><!--?lit$549300851$--><!--?lit$549300851$--><!--?--><!--?--></template></colab-cell-assist-input><div class="cell-mask"></div><span class="imported-info-area"></span><div class="codecell-input-output">
      <div class="inputarea horizontal layout code">
        <div class="cell-gutter">
          <!-- Bounding range for vertical scrolling of icons -->
          <div class="cell-execution-container">
            <colab-run-button><template shadowrootmode="open"><!----> <div class="cell-execution">
      <button id="run-button" aria-describedby="run-button-tooltip" aria-label="Run cell" aria-disabled="false">
        <!--?lit$549300851$--><span class="execution-count"><!--?lit$549300851$-->[18]</span>
        <span aria-hidden="true" class="cell-execution-indicator"><!--?lit$549300851$-->
<svg xmlns="http://www.w3.org/2000/svg" viewBox="0 0 24 24">
  <!--?lit$549300851$-->
  <mask id="playSymbolMask">
    <rect width="100%" height="100%" fill="white"></rect>
    <polygon points="10,8 17,12 10,16" fill="black"></polygon>
  </mask>
  <circle cx="12" cy="12" r="7.8" mask="url(#playSymbolMask)" id="filledCircle"></circle>
</svg></span>
      </button>
      <!--?lit$549300851$--><colab-tooltip-trigger for="run-button" id="run-button-tooltip" aria-hidden="true" message="Run cell (Ctrl+Enter)
cell executed since last change

executed by Avishkar Khandekar
9:10 AM (0 minutes ago)
executed in 0.047s"><template shadowrootmode="open"><!----><!--?lit$549300851$--><!----><div><!--?lit$549300851$-->Run cell (Ctrl+Enter)</div><!----><!----><div><!--?lit$549300851$-->cell executed since last change</div><!----><!----><br><!----><!----><div><!--?lit$549300851$-->executed by Avishkar Khandekar</div><!----><!----><div><!--?lit$549300851$-->9:10 AM (0 minutes ago)</div><!----><!----><div><!--?lit$549300851$-->executed in 0.047s</div><!----><!--?--></template>
    </colab-tooltip-trigger>
      <!--?lit$549300851$--><div id="status" class="last-run">
      <md-icon aria-hidden="true"><template shadowrootmode="open"><!----><slot></slot></template><!--?lit$549300851$--><svg viewBox="0 0 24 24"><!--?lit$549300851$--><path d="M9 16.17L4.83 12l-1.42 1.41L9 19 21 7l-1.41-1.41z"></path></svg></md-icon>
      <div><!--?lit$549300851$-->0s</div>
    </div>
    </div></template></colab-run-button>
          </div>
        </div>
      <div class="editor flex lazy-editor" style=""><pre class="lazy-virtualized" style="font-size: 14px; line-height: 19px;"><pre class="lazy-gutter"></pre><pre class="monaco-colorized colab-dark colab-dark colab-dark colab-dark colab-dark colab-dark colab-dark colab-dark colab-dark colab-dark colab-dark" data-lang="notebook-python"><span><span></span></span><br><span><span class="mtk1">&nbsp;&nbsp;&nbsp;null_production&nbsp;=&nbsp;IMDB_df</span><span class="mtk12">[</span><span class="mtk5">'Production'</span><span class="mtk12">]</span><span class="mtk1">.isnull</span><span class="mtk12">()</span><span class="mtk1">.</span><span class="mtk15">sum</span><span class="mtk12">()</span></span><br><span><span class="mtk1">&nbsp;&nbsp;&nbsp;</span><span class="mtk15">print</span><span class="mtk12">(</span><span class="mtk9">f</span><span class="mtk5">"Number&nbsp;of&nbsp;null&nbsp;values&nbsp;in&nbsp;'Production'&nbsp;column:&nbsp;</span><span class="mtk12">{</span><span class="mtk1">null_production</span><span class="mtk12">}</span><span class="mtk5">"</span><span class="mtk12">)</span></span><br></pre><colab-read-only-cell-placeholder style="display: none;"><template shadowrootmode="open"><!----><div><!--?lit$549300851$-->Start coding or <span tabindex="0" role="button" class="link">generate</span> with AI.</div></template></colab-read-only-cell-placeholder></pre></div><colab-form class="formview vertical layout flex"><div class="widget-area vertical layout"></div></colab-form></div>
    <div class="output" aria-label="Cell 9 output" role="region"><!----> <div class="output-header"> </div>
        <div class="output-content">
          <div class="output-info"><colab-output-info><template shadowrootmode="open"><!----><md-icon-button data-aria-expanded="false" data-aria-haspopup="menu" aria-describedby="button-output-actions-tooltip" data-aria-label="Code cell output actions" id="button-output-actions" value=""><template shadowrootmode="open" shadowrootdelegatesfocus><!----><button id="button" class="icon-button  standard " aria-label="Code cell output actions" aria-haspopup="menu" aria-expanded="false">
        <!--?lit$549300851$--><md-focus-ring part="focus-ring" for="button" aria-hidden="true"><template shadowrootmode="open"><!----></template></md-focus-ring>
        <!--?lit$549300851$--><md-ripple aria-hidden="true"><template shadowrootmode="open"><!----><div class="surface   "></div></template></md-ripple>
        <!--?lit$549300851$--><span class="icon"><slot></slot></span>
        <!--?lit$549300851$-->
        <!--?lit$549300851$--><span class="touch"></span>
  </button></template>
        <md-icon aria-hidden="true"><template shadowrootmode="open"><!----><slot></slot></template><!--?lit$549300851$--><svg viewBox="0 0 24 24"><!--?lit$549300851$--><path d="m15.9 3.07c-4.32 0.0742-8.64-0.0355-13 0.0568-1.37 0.307-1.74 2.1-1.41 3.26 0.469 0.606 1.86 0.384 1.66-0.525 0.0448-0.329-0.183-0.93 0.354-0.766h13.3v1.53h1.71c0.0709-1.13 0.141-2.62-0.968-3.3-0.511-0.264-1.11-0.252-1.67-0.259zm2.94 6.84v4.87c1.62-1.62 3.24-3.24 4.87-4.87h-4.87zm0 0h-1.71v3.43l1.57 1.57c0.32-1.65 0.0556-3.34 0.135-5zm-1.71 3.43v-3.43h-3.43c1.14 1.14 2.29 2.29 3.43 3.43zm1.4 4.27h-1.71v1.48h-13.6v-1.48h-1.71c-0.0473 1.15-0.16 2.72 1.09 3.29 1.47 0.506 3.02 0.0265 4.53 0.192 3.34-0.0051 6.68 0.0336 10-0.0245 1.49-0.366 1.56-2.22 1.42-3.45zm-10.1-1.12c-0.398-0.483-0.796-0.967-1.19-1.45 0.59-0.683 1.18-1.37 1.77-2.05h-8.67v-2h8.67c-0.59-0.683-1.18-1.37-1.77-2.05 0.398-0.483 0.796-0.967 1.19-1.45 1.28 1.5 2.56 3 3.84 4.5-1.28 1.5-2.56 3-3.84 4.5z"></path></svg></md-icon>
      </md-icon-button>
      <!--?lit$549300851$--><colab-tooltip-trigger aria-hidden="true" id="button-output-actions-tooltip" for="button-output-actions" message="Code cell output actions"><template shadowrootmode="open"><!----><!--?lit$549300851$--><!----><div><!--?lit$549300851$-->Code cell output actions</div><!----><!--?--></template></colab-tooltip-trigger><!--?--></template></colab-output-info></div>
          <div class="output-iframe-container">
            <div class="output-iframe-sizer" style="min-height: 0px;"> <div><div><colab-static-output-renderer tabindex="0" role="group"><div><div class="stream output-id-1 output_text"><pre>Number of null values in 'Production' column: 0
</pre></div></div><div></div></colab-static-output-renderer></div></div></div>
          </div>
        </div></div></div><colab-cell-next-steps><template shadowrootmode="open"><!----></template></colab-cell-next-steps></div></div><div class="add-cell">
      <div class="add-cell-buttons">
        <md-outlined-button class="add-code add-button" data-aria-label="Add code cell
Ctrl+M B" title="Add code cell
Ctrl+M B" value="" has-icon=""><template shadowrootmode="open" shadowrootdelegatesfocus><!---->
      <!--?lit$549300851$--><div class="outline"></div>
      <div class="background"></div>
      <md-focus-ring part="focus-ring" for="button" aria-hidden="true"><template shadowrootmode="open"><!----></template></md-focus-ring>
      <md-ripple part="ripple" for="button" aria-hidden="true"><template shadowrootmode="open"><!----><div class="surface   "></div></template></md-ripple>
      <!--?lit$549300851$--><button id="button" class="button" aria-label="Add code cell
Ctrl+M B">
      <!--?lit$549300851$-->
      <span class="touch"></span>
      <!--?lit$549300851$--><slot name="icon"></slot>
      <span class="label"><slot></slot></span>
      <!--?lit$549300851$-->
    
    </button>
    </template>
          <md-icon slot="icon" aria-hidden="true"><template shadowrootmode="open"><!----><slot></slot></template>add</md-icon>
          <!--?lit$549300851$-->Code
        </md-outlined-button>
        <md-outlined-button class="add-text add-button" data-aria-label="Add text cell" title="Add text cell" value="" has-icon=""><template shadowrootmode="open" shadowrootdelegatesfocus><!---->
      <!--?lit$549300851$--><div class="outline"></div>
      <div class="background"></div>
      <md-focus-ring part="focus-ring" for="button" aria-hidden="true"><template shadowrootmode="open"><!----></template></md-focus-ring>
      <md-ripple part="ripple" for="button" aria-hidden="true"><template shadowrootmode="open"><!----><div class="surface"></div></template></md-ripple>
      <!--?lit$549300851$--><button id="button" class="button" aria-label="Add text cell">
      <!--?lit$549300851$-->
      <span class="touch"></span>
      <!--?lit$549300851$--><slot name="icon"></slot>
      <span class="label"><slot></slot></span>
      <!--?lit$549300851$-->
    
    </button>
    </template>
          <md-icon slot="icon" aria-hidden="true"><template shadowrootmode="open"><!----><slot></slot></template>add</md-icon>
          <!--?lit$549300851$-->Text
        </md-outlined-button>
        <!--?lit$549300851$-->
      </div><hr>
    </div></div><div class="cell code icon-scrolling code-has-output" id="cell-sLIdkDoYvfyk" tabindex="-1" role="region" aria-label="Cell 10: Code cell: " style="opacity: 1;"><div class="agent-focus-label">
      <md-icon aria-hidden="true"><template shadowrootmode="open"><!----><slot></slot></template>spark</md-icon>
      <!--?lit$549300851$-->Gemini
    </div><div class="cell-tag-editor sticky"></div><div class="cell-toolbar sticky"></div><div class="main-content" elevation="0"><div class="cell-contents"><div class="cell-mask"></div><span class="imported-info-area"></span><div class="codecell-input-output">
      <div class="inputarea horizontal layout code">
        <div class="cell-gutter">
          <!-- Bounding range for vertical scrolling of icons -->
          <div class="cell-execution-container">
            <colab-run-button><template shadowrootmode="open"><!----> <div class="cell-execution">
      <button id="run-button" aria-describedby="run-button-tooltip" aria-label="Run cell" aria-disabled="false">
        <!--?lit$549300851$--><span class="execution-count"><!--?lit$549300851$-->[22]</span>
        <span aria-hidden="true" class="cell-execution-indicator"><!--?lit$549300851$-->
<svg xmlns="http://www.w3.org/2000/svg" viewBox="0 0 24 24">
  <!--?lit$549300851$-->
  <mask id="playSymbolMask">
    <rect width="100%" height="100%" fill="white"></rect>
    <polygon points="10,8 17,12 10,16" fill="black"></polygon>
  </mask>
  <circle cx="12" cy="12" r="7.8" mask="url(#playSymbolMask)" id="filledCircle"></circle>
</svg></span>
      </button>
      <!--?lit$549300851$--><colab-tooltip-trigger for="run-button" id="run-button-tooltip" aria-hidden="true" message="Run cell (Ctrl+Enter)
cell executed since last change

executed by Avishkar Khandekar
9:17 AM (0 minutes ago)
executed in 1.029s"><template shadowrootmode="open"><!----><!--?lit$549300851$--><!----><div><!--?lit$549300851$-->Run cell (Ctrl+Enter)</div><!----><!----><div><!--?lit$549300851$-->cell executed since last change</div><!----><!----><br><!----><!----><div><!--?lit$549300851$-->executed by Avishkar Khandekar</div><!----><!----><div><!--?lit$549300851$-->9:17 AM (0 minutes ago)</div><!----><!----><div><!--?lit$549300851$-->executed in 1.029s</div><!----><!--?--></template>
    </colab-tooltip-trigger>
      <!--?lit$549300851$--><div id="status" class="last-run">
      <md-icon aria-hidden="true"><template shadowrootmode="open"><!----><slot></slot></template><!--?lit$549300851$--><svg viewBox="0 0 24 24"><!--?lit$549300851$--><path d="M9 16.17L4.83 12l-1.42 1.41L9 19 21 7l-1.41-1.41z"></path></svg></md-icon>
      <div><!--?lit$549300851$-->1s</div>
    </div>
    </div></template></colab-run-button>
          </div>
        </div>
      <div class="editor flex lazy-editor" style=""><pre class="lazy-virtualized" style="font-size: 14px; line-height: 19px;"><pre class="lazy-gutter"></pre><pre class="monaco-colorized colab-dark colab-dark colab-dark colab-dark colab-dark colab-dark colab-dark colab-dark colab-dark colab-dark" data-lang="notebook-python"><span><span class="mtk1">umerical_cols&nbsp;=&nbsp;IMDB_df.select_dtypes</span><span class="mtk12">(</span><span class="mtk1">include=</span><span class="mtk12">[</span><span class="mtk5">'int64'</span><span class="mtk12">,</span><span class="mtk1">&nbsp;</span><span class="mtk5">'float64'</span><span class="mtk12">])</span><span class="mtk1">.columns</span></span><br><span><span></span></span><br><span><span></span></span><br><span><span class="mtk8">#&nbsp;Create&nbsp;boxplots&nbsp;for&nbsp;each&nbsp;numerical&nbsp;column&nbsp;with&nbsp;h</span><span class="mtk8">ighlighted&nbsp;outliers</span></span><br><span><span class="mtk18">for</span><span class="mtk1">&nbsp;col&nbsp;</span><span class="mtk17">in</span><span class="mtk1">&nbsp;numerical_cols</span><span class="mtk12">:</span></span><br><span><span class="mtk1">&nbsp;&nbsp;&nbsp;&nbsp;plt.figure</span><span class="mtk12">(</span><span class="mtk1">figsize=</span><span class="mtk12">(</span><span class="mtk6">8</span><span class="mtk12">,</span><span class="mtk1">&nbsp;</span><span class="mtk6">6</span><span class="mtk12">))</span></span><br><span><span></span></span><br><span><span class="mtk1">&nbsp;&nbsp;&nbsp;&nbsp;</span><span class="mtk8">#&nbsp;Create&nbsp;boxplot&nbsp;and&nbsp;get&nbsp;its&nbsp;properties</span></span><br><span><span class="mtk1">&nbsp;&nbsp;&nbsp;&nbsp;boxplot_data&nbsp;=&nbsp;plt.boxplot</span><span class="mtk12">(</span><span class="mtk1">IMDB_df</span><span class="mtk12">[</span><span class="mtk1">col</span><span class="mtk12">],</span><span class="mtk1">&nbsp;labels=</span><span class="mtk12">[</span><span class="mtk1">col</span><span class="mtk12">],</span></span><br><span><span class="mtk1">&nbsp;&nbsp;&nbsp;&nbsp;&nbsp;&nbsp;&nbsp;&nbsp;&nbsp;&nbsp;&nbsp;&nbsp;&nbsp;&nbsp;&nbsp;&nbsp;&nbsp;&nbsp;&nbsp;&nbsp;&nbsp;&nbsp;&nbsp;&nbsp;&nbsp;&nbsp;&nbsp;&nbsp;&nbsp;flierprops=</span><span class="mtk14">dict</span><span class="mtk12">(</span><span class="mtk1">marker=</span><span class="mtk5">'o'</span><span class="mtk12">,</span><span class="mtk1">&nbsp;markerfacecolor=</span><span class="mtk5">'red'</span><span class="mtk12">,</span><span class="mtk1">&nbsp;markersize=</span><span class="mtk6">8</span><span class="mtk12">,</span></span><br><span><span class="mtk1">&nbsp;&nbsp;&nbsp;&nbsp;&nbsp;&nbsp;&nbsp;&nbsp;&nbsp;&nbsp;&nbsp;&nbsp;&nbsp;&nbsp;&nbsp;&nbsp;&nbsp;&nbsp;&nbsp;&nbsp;&nbsp;&nbsp;&nbsp;&nbsp;&nbsp;&nbsp;&nbsp;&nbsp;&nbsp;&nbsp;&nbsp;&nbsp;&nbsp;&nbsp;&nbsp;&nbsp;&nbsp;&nbsp;&nbsp;&nbsp;&nbsp;&nbsp;&nbsp;&nbsp;linest</span><span class="mtk1">yle=</span><span class="mtk5">'none'</span><span class="mtk12">))</span></span><br><span><span></span></span><br><span><span class="mtk1">&nbsp;&nbsp;&nbsp;&nbsp;</span><span class="mtk8">#&nbsp;Add&nbsp;title,&nbsp;ylabel,&nbsp;and&nbsp;grid</span></span><br><span><span class="mtk1">&nbsp;&nbsp;&nbsp;&nbsp;plt.title</span><span class="mtk12">(</span><span class="mtk9">f</span><span class="mtk5">'Boxplot&nbsp;of&nbsp;</span><span class="mtk12">{</span><span class="mtk1">col</span><span class="mtk12">}</span><span class="mtk5">&nbsp;with&nbsp;Outliers&nbsp;Highlighted'</span><span class="mtk12">)</span></span><br><span><span class="mtk1">&nbsp;&nbsp;&nbsp;&nbsp;plt.ylabel</span><span class="mtk12">(</span><span class="mtk1">col</span><span class="mtk12">)</span></span><br><span><span class="mtk1">&nbsp;&nbsp;&nbsp;&nbsp;plt.grid</span><span class="mtk12">(</span><span class="mtk9">True</span><span class="mtk12">)</span></span><br><span><span class="mtk1">&nbsp;&nbsp;&nbsp;&nbsp;plt.show</span><span class="mtk12">()</span></span><br></pre><colab-read-only-cell-placeholder style="display: none;"><template shadowrootmode="open"><!----><div><!--?lit$549300851$-->Start coding or <span tabindex="0" role="button" class="link">generate</span> with AI.</div></template></colab-read-only-cell-placeholder></pre></div><colab-form class="formview vertical layout flex"><div class="widget-area vertical layout"></div></colab-form></div>
    <div class="output" aria-label="Cell 10 output" role="region"><!----> <div class="output-header"> </div>
        <div class="output-content">
          <div class="output-info"><colab-output-info><template shadowrootmode="open"><!----><md-icon-button data-aria-expanded="false" data-aria-haspopup="menu" aria-describedby="button-output-actions-tooltip" data-aria-label="Code cell output actions" id="button-output-actions" value=""><template shadowrootmode="open" shadowrootdelegatesfocus><!----><button id="button" class="icon-button  standard " aria-label="Code cell output actions" aria-haspopup="menu" aria-expanded="false">
        <!--?lit$549300851$--><md-focus-ring part="focus-ring" for="button" aria-hidden="true"><template shadowrootmode="open"><!----></template></md-focus-ring>
        <!--?lit$549300851$--><md-ripple aria-hidden="true"><template shadowrootmode="open"><!----><div class="surface   "></div></template></md-ripple>
        <!--?lit$549300851$--><span class="icon"><slot></slot></span>
        <!--?lit$549300851$-->
        <!--?lit$549300851$--><span class="touch"></span>
  </button></template>
        <md-icon aria-hidden="true"><template shadowrootmode="open"><!----><slot></slot></template><!--?lit$549300851$--><svg viewBox="0 0 24 24"><!--?lit$549300851$--><path d="m15.9 3.07c-4.32 0.0742-8.64-0.0355-13 0.0568-1.37 0.307-1.74 2.1-1.41 3.26 0.469 0.606 1.86 0.384 1.66-0.525 0.0448-0.329-0.183-0.93 0.354-0.766h13.3v1.53h1.71c0.0709-1.13 0.141-2.62-0.968-3.3-0.511-0.264-1.11-0.252-1.67-0.259zm2.94 6.84v4.87c1.62-1.62 3.24-3.24 4.87-4.87h-4.87zm0 0h-1.71v3.43l1.57 1.57c0.32-1.65 0.0556-3.34 0.135-5zm-1.71 3.43v-3.43h-3.43c1.14 1.14 2.29 2.29 3.43 3.43zm1.4 4.27h-1.71v1.48h-13.6v-1.48h-1.71c-0.0473 1.15-0.16 2.72 1.09 3.29 1.47 0.506 3.02 0.0265 4.53 0.192 3.34-0.0051 6.68 0.0336 10-0.0245 1.49-0.366 1.56-2.22 1.42-3.45zm-10.1-1.12c-0.398-0.483-0.796-0.967-1.19-1.45 0.59-0.683 1.18-1.37 1.77-2.05h-8.67v-2h8.67c-0.59-0.683-1.18-1.37-1.77-2.05 0.398-0.483 0.796-0.967 1.19-1.45 1.28 1.5 2.56 3 3.84 4.5-1.28 1.5-2.56 3-3.84 4.5z"></path></svg></md-icon>
      </md-icon-button>
      <!--?lit$549300851$--><colab-tooltip-trigger aria-hidden="true" id="button-output-actions-tooltip" for="button-output-actions" message="Code cell output actions"><template shadowrootmode="open"><!----><!--?lit$549300851$--><!----><div><!--?lit$549300851$-->Code cell output actions</div><!----><!--?--></template></colab-tooltip-trigger><!--?--></template></colab-output-info></div>
          <div class="output-iframe-container">
            <div class="output-iframe-sizer" style="min-height: 0px;"> <div><div class="outputview" style="height: 1000px;"><colab-dom-lifecycle-events style="display: none;"></colab-dom-lifecycle-events><iframe allow="accelerometer; autoplay; gyroscope; magnetometer; xr-spatial-tracking; clipboard-write" sandbox="allow-downloads allow-forms allow-pointer-lock allow-popups allow-popups-to-escape-sandbox allow-same-origin allow-scripts allow-storage-access-by-user-activation allow-modals" src="./IAS_files/outputframe(3).html" class="" style="height: 1000px;"></iframe></div></div><div><div></div></div></div>
          </div>
        </div></div></div><colab-cell-next-steps><template shadowrootmode="open"><!----></template></colab-cell-next-steps></div></div><div class="add-cell">
      <div class="add-cell-buttons">
        <md-outlined-button class="add-code add-button" data-aria-label="Add code cell
Ctrl+M B" title="Add code cell
Ctrl+M B" value="" has-icon=""><template shadowrootmode="open" shadowrootdelegatesfocus><!---->
      <!--?lit$549300851$--><div class="outline"></div>
      <div class="background"></div>
      <md-focus-ring part="focus-ring" for="button" aria-hidden="true"><template shadowrootmode="open"><!----></template></md-focus-ring>
      <md-ripple part="ripple" for="button" aria-hidden="true"><template shadowrootmode="open"><!----><div class="surface   "></div></template></md-ripple>
      <!--?lit$549300851$--><button id="button" class="button" aria-label="Add code cell
Ctrl+M B">
      <!--?lit$549300851$-->
      <span class="touch"></span>
      <!--?lit$549300851$--><slot name="icon"></slot>
      <span class="label"><slot></slot></span>
      <!--?lit$549300851$-->
    
    </button>
    </template>
          <md-icon slot="icon" aria-hidden="true"><template shadowrootmode="open"><!----><slot></slot></template>add</md-icon>
          <!--?lit$549300851$-->Code
        </md-outlined-button>
        <md-outlined-button class="add-text add-button" data-aria-label="Add text cell" title="Add text cell" value="" has-icon=""><template shadowrootmode="open" shadowrootdelegatesfocus><!---->
      <!--?lit$549300851$--><div class="outline"></div>
      <div class="background"></div>
      <md-focus-ring part="focus-ring" for="button" aria-hidden="true"><template shadowrootmode="open"><!----></template></md-focus-ring>
      <md-ripple part="ripple" for="button" aria-hidden="true"><template shadowrootmode="open"><!----><div class="surface"></div></template></md-ripple>
      <!--?lit$549300851$--><button id="button" class="button" aria-label="Add text cell">
      <!--?lit$549300851$-->
      <span class="touch"></span>
      <!--?lit$549300851$--><slot name="icon"></slot>
      <span class="label"><slot></slot></span>
      <!--?lit$549300851$-->
    
    </button>
    </template>
          <md-icon slot="icon" aria-hidden="true"><template shadowrootmode="open"><!----><slot></slot></template>add</md-icon>
          <!--?lit$549300851$-->Text
        </md-outlined-button>
        <!--?lit$549300851$-->
      </div><hr>
    </div></div><div class="cell code icon-scrolling code-has-output" id="cell-3qs00c8KvyBu" tabindex="-1" role="region" aria-label="Cell 11: Code cell: " style="opacity: 1;"><div class="agent-focus-label">
      <md-icon aria-hidden="true"><template shadowrootmode="open"><!----><slot></slot></template>spark</md-icon>
      <!--?lit$549300851$-->Gemini
    </div><div class="cell-tag-editor sticky"></div><div class="cell-toolbar sticky"></div><div class="main-content" elevation="0"><div class="cell-contents"><div class="cell-mask"></div><span class="imported-info-area"></span><div class="codecell-input-output">
      <div class="inputarea horizontal layout code">
        <div class="cell-gutter">
          <!-- Bounding range for vertical scrolling of icons -->
          <div class="cell-execution-container">
            <colab-run-button><template shadowrootmode="open"><!----> <div class="cell-execution">
      <button id="run-button" aria-describedby="run-button-tooltip" aria-label="Run cell" aria-disabled="false">
        <!--?lit$549300851$--><span class="execution-count"><!--?lit$549300851$-->[23]</span>
        <span aria-hidden="true" class="cell-execution-indicator"><!--?lit$549300851$-->
<svg xmlns="http://www.w3.org/2000/svg" viewBox="0 0 24 24">
  <!--?lit$549300851$-->
  <mask id="playSymbolMask">
    <rect width="100%" height="100%" fill="white"></rect>
    <polygon points="10,8 17,12 10,16" fill="black"></polygon>
  </mask>
  <circle cx="12" cy="12" r="7.8" mask="url(#playSymbolMask)" id="filledCircle"></circle>
</svg></span>
      </button>
      <!--?lit$549300851$--><colab-tooltip-trigger for="run-button" id="run-button-tooltip" aria-hidden="true" message="Run cell (Ctrl+Enter)
cell executed since last change

executed by Avishkar Khandekar
9:21 AM (0 minutes ago)
executed in 0.052s"><template shadowrootmode="open"><!----><!--?lit$549300851$--><!----><div><!--?lit$549300851$-->Run cell (Ctrl+Enter)</div><!----><!----><div><!--?lit$549300851$-->cell executed since last change</div><!----><!----><br><!----><!----><div><!--?lit$549300851$-->executed by Avishkar Khandekar</div><!----><!----><div><!--?lit$549300851$-->9:21 AM (0 minutes ago)</div><!----><!----><div><!--?lit$549300851$-->executed in 0.052s</div><!----><!--?--></template>
    </colab-tooltip-trigger>
      <!--?lit$549300851$--><div id="status" class="last-run">
      <md-icon aria-hidden="true"><template shadowrootmode="open"><!----><slot></slot></template><!--?lit$549300851$--><svg viewBox="0 0 24 24"><!--?lit$549300851$--><path d="M9 16.17L4.83 12l-1.42 1.41L9 19 21 7l-1.41-1.41z"></path></svg></md-icon>
      <div><!--?lit$549300851$-->0s</div>
    </div>
    </div></template></colab-run-button>
          </div>
        </div>
      <div class="editor flex lazy-editor" style=""><div class="editor flex monaco" data-keybinding-context="82" data-mode-id="notebook-python" style="height: 314px; --vscode-editorCodeLens-lineHeight: 16px; --vscode-editorCodeLens-fontSize: 12px; --vscode-editorCodeLens-fontFeatureSettings: &quot;liga&quot; off, &quot;calt&quot; off;"><div class="monaco-editor no-user-select  showUnused showDeprecated vs-dark" role="code" data-uri="inmemory://model/14" style="width: 896px; height: 314px;"><div data-mprt="3" class="overflow-guard" style="width: 896px; height: 314px; overflow: clip;"><div class="margin" role="presentation" aria-hidden="true" style="position: absolute; contain: strict; will-change: unset; top: 0px; height: 314px; width: 6px;"><div class="glyph-margin" style="left: 0px; width: 0px; height: 314px;"></div><div class="margin-view-zones" role="presentation" aria-hidden="true" style="position: absolute;"></div><div class="margin-view-overlays" role="presentation" aria-hidden="true" style="position: absolute; font-family: monospace, Consolas, &quot;Courier New&quot;, monospace; font-weight: normal; font-size: 14px; font-feature-settings: &quot;liga&quot; 0, &quot;calt&quot; 0; font-variation-settings: normal; line-height: 19px; letter-spacing: 0px; width: 6px; height: 314px;"><div style="position:absolute;top:0px;width:100%;height:19px;"><div class="current-line current-line-margin-both" style="width:6px; height:19px;"></div></div><div style="position:absolute;top:19px;width:100%;height:19px;"></div><div style="position:absolute;top:38px;width:100%;height:19px;"></div><div style="position:absolute;top:57px;width:100%;height:19px;"></div><div style="position:absolute;top:76px;width:100%;height:19px;"></div><div style="position:absolute;top:95px;width:100%;height:19px;"></div><div style="position:absolute;top:114px;width:100%;height:19px;"></div><div style="position:absolute;top:133px;width:100%;height:19px;"></div><div style="position:absolute;top:152px;width:100%;height:19px;"></div><div style="position:absolute;top:171px;width:100%;height:19px;"></div><div style="position:absolute;top:190px;width:100%;height:19px;"></div><div style="position:absolute;top:209px;width:100%;height:19px;"></div><div style="position:absolute;top:228px;width:100%;height:19px;"></div><div style="position:absolute;top:247px;width:100%;height:19px;"></div><div style="position:absolute;top:266px;width:100%;height:19px;"></div><div style="position:absolute;top:285px;width:100%;height:19px;"></div></div><div class="glyph-margin-widgets" style="position: absolute; top: 0px;"></div></div><div class="monaco-scrollable-element editor-scrollable vs-dark" role="presentation" data-mprt="5" style="position: absolute; overflow: hidden; left: 6px; width: 890px; height: 314px;"><div class="lines-content monaco-editor-background" style="position: absolute; overflow: hidden; width: 1e+06px; height: 314px; contain: strict; will-change: unset; top: 0px; left: 0px;"><div class="view-overlays" role="presentation" aria-hidden="true" style="position: absolute; font-family: monospace, Consolas, &quot;Courier New&quot;, monospace; font-weight: normal; font-size: 14px; font-feature-settings: &quot;liga&quot; 0, &quot;calt&quot; 0; font-variation-settings: normal; line-height: 19px; letter-spacing: 0px; height: 0px; width: 1006px;"><div style="position:absolute;top:0px;width:100%;height:19px;"><div class="current-line" style="width:1006px; height:19px;"></div></div><div style="position:absolute;top:19px;width:100%;height:19px;"></div><div style="position:absolute;top:38px;width:100%;height:19px;"></div><div style="position:absolute;top:57px;width:100%;height:19px;"></div><div style="position:absolute;top:76px;width:100%;height:19px;"></div><div style="position:absolute;top:95px;width:100%;height:19px;"></div><div style="position:absolute;top:114px;width:100%;height:19px;"></div><div style="position:absolute;top:133px;width:100%;height:19px;"></div><div style="position:absolute;top:152px;width:100%;height:19px;"></div><div style="position:absolute;top:171px;width:100%;height:19px;"></div><div style="position:absolute;top:190px;width:100%;height:19px;"></div><div style="position:absolute;top:209px;width:100%;height:19px;"></div><div style="position:absolute;top:228px;width:100%;height:19px;"></div><div style="position:absolute;top:247px;width:100%;height:19px;"></div><div style="position:absolute;top:266px;width:100%;height:19px;"></div><div style="position:absolute;top:285px;width:100%;height:19px;"></div></div><div role="presentation" aria-hidden="true" class="view-rulers"><div class="view-ruler" style="width: 2px; height: 314px; left: 615.938px;"></div></div><div class="view-zones" role="presentation" aria-hidden="true" style="position: absolute;"></div><div class="view-lines monaco-mouse-cursor-text" role="presentation" aria-hidden="true" data-mprt="7" style="position: absolute; font-family: monospace, Consolas, &quot;Courier New&quot;, monospace; font-weight: normal; font-size: 14px; font-feature-settings: &quot;liga&quot; 0, &quot;calt&quot; 0; font-variation-settings: normal; line-height: 19px; letter-spacing: 0px; width: 1006px; height: 314px;"><div style="top:0px;height:19px;" class="view-line"><span><span class="mtk1">mean_production&nbsp;=&nbsp;IMDB_df</span><span class="mtk12 bracket-highlighting-0">[</span><span class="mtk5">'Production'</span><span class="mtk12 bracket-highlighting-0">]</span><span class="mtk1">.mean</span><span class="mtk12 bracket-highlighting-0">(</span><span class="mtk12 bracket-highlighting-0">)</span></span></div><div style="top:19px;height:19px;" class="view-line"><span><span class="mtk1">IMDB_df</span><span class="mtk12 bracket-highlighting-0">[</span><span class="mtk5">'Production'</span><span class="mtk12 bracket-highlighting-0">]</span><span class="mtk1">&nbsp;=&nbsp;IMDB_df</span><span class="mtk12 bracket-highlighting-0">[</span><span class="mtk5">'Production'</span><span class="mtk12 bracket-highlighting-0">]</span><span class="mtk1">.fillna</span><span class="mtk12 bracket-highlighting-0">(</span><span class="mtk1">mean_production</span><span class="mtk12 bracket-highlighting-0">)</span></span></div><div style="top:38px;height:19px;" class="view-line"><span><span></span></span></div><div style="top:57px;height:19px;" class="view-line"><span><span class="mtk8">#&nbsp;Group&nbsp;by&nbsp;year&nbsp;and&nbsp;sum&nbsp;production</span></span></div><div style="top:76px;height:19px;" class="view-line"><span><span class="mtk1">production_by_year&nbsp;=&nbsp;IMDB_df.groupby</span><span class="mtk12 bracket-highlighting-0">(</span><span class="mtk5">'Crop_Year'</span><span class="mtk12 bracket-highlighting-0">)</span><span class="mtk12 bracket-highlighting-0">[</span><span class="mtk5">'Production'</span><span class="mtk12 bracket-highlighting-0">]</span><span class="mtk1">.</span><span class="mtk15">sum</span><span class="mtk12 bracket-highlighting-0">(</span><span class="mtk12 bracket-highlighting-0">)</span></span></div><div style="top:95px;height:19px;" class="view-line"><span><span></span></span></div><div style="top:114px;height:19px;" class="view-line"><span><span class="mtk8">#&nbsp;Print&nbsp;production&nbsp;by&nbsp;year</span></span></div><div style="top:133px;height:19px;" class="view-line"><span><span class="mtk15">print</span><span class="mtk12 bracket-highlighting-0">(</span><span class="mtk5">"Total&nbsp;Production&nbsp;by&nbsp;Year:"</span><span class="mtk12 bracket-highlighting-0">)</span></span></div><div style="top:152px;height:19px;" class="view-line"><span><span class="mtk15">print</span><span class="mtk12 bracket-highlighting-0">(</span><span class="mtk1">production_by_year</span><span class="mtk12 bracket-highlighting-0">)</span></span></div><div style="top:171px;height:19px;" class="view-line"><span><span></span></span></div><div style="top:190px;height:19px;" class="view-line"><span><span class="mtk8">#&nbsp;Find&nbsp;the&nbsp;year&nbsp;with&nbsp;the&nbsp;highest&nbsp;production</span></span></div><div style="top:209px;height:19px;" class="view-line"><span><span class="mtk1">highest_production_year&nbsp;=&nbsp;production_by_year.idxma</span><span class="mtk1">x</span><span class="mtk12 bracket-highlighting-0">(</span><span class="mtk12 bracket-highlighting-0">)</span></span></div><div style="top:228px;height:19px;" class="view-line"><span><span class="mtk1">highest_production_value&nbsp;=&nbsp;production_by_year.</span><span class="mtk15">max</span><span class="mtk12 bracket-highlighting-0">(</span><span class="mtk12 bracket-highlighting-0">)</span></span></div><div style="top:247px;height:19px;" class="view-line"><span><span></span></span></div><div style="top:266px;height:19px;" class="view-line"><span><span></span></span></div><div style="top:285px;height:19px;" class="view-line"><span><span class="mtk15">print</span><span class="mtk12 bracket-highlighting-0">(</span><span class="mtk9">f</span><span class="mtk5">"\nThe&nbsp;year&nbsp;with&nbsp;the&nbsp;highest&nbsp;production&nbsp;is&nbsp;</span><span class="mtk12 bracket-highlighting-1">{</span><span class="mtk1">highest_production_year</span><span class="mtk12 bracket-highlighting-1">}</span><span class="mtk5">&nbsp;with&nbsp;a&nbsp;production&nbsp;of&nbsp;</span><span class="mtk12 bracket-highlighting-1">{</span><span class="mtk1">highest_production_value</span><span class="mtk12 bracket-highlighting-1">}</span><span class="mtk5">"</span><span class="mtk12 bracket-highlighting-0">)</span></span></div></div><div data-mprt="1" class="contentWidgets" style="position: absolute; top: 0px;"></div><div role="presentation" aria-hidden="true" class="cursors-layer cursor-line-style cursor-solid"><div class="cursor monaco-mouse-cursor-text " style="height: 19px; top: 0px; left: 0px; font-family: monospace, Consolas, &quot;Courier New&quot;, monospace; font-weight: normal; font-size: 14px; font-feature-settings: &quot;liga&quot; 0, &quot;calt&quot; 0; font-variation-settings: normal; line-height: 19px; letter-spacing: 0px; display: block; visibility: hidden; padding-left: 0px; width: 2px;"></div></div></div><div role="presentation" aria-hidden="true" class="visible scrollbar horizontal" style="position: absolute; width: 876px; height: 10px; left: 0px; bottom: 0px;"><div class="slider" style="position: absolute; top: 0px; left: 0px; height: 10px; transform: translate3d(0px, 0px, 0px); contain: strict; will-change: unset; width: 774px;"></div></div><canvas class="decorationsOverviewRuler" aria-hidden="true" width="14" height="314" style="position: absolute; transform: translate3d(0px, 0px, 0px); contain: strict; top: 0px; right: 0px; width: 14px; height: 314px; will-change: unset; display: block;"></canvas><div role="presentation" aria-hidden="true" class="invisible scrollbar vertical" style="position: absolute; width: 14px; height: 314px; right: 0px; top: 0px;"><div class="slider" style="position: absolute; top: 0px; left: 0px; width: 14px; transform: translate3d(0px, 0px, 0px); contain: strict; will-change: unset; height: 314px;"></div></div></div><div role="presentation" aria-hidden="true" style="width: 896px;"></div><textarea data-mprt="6" class="inputarea monaco-mouse-cursor-text" wrap="on" autocorrect="off" autocapitalize="off" autocomplete="off" spellcheck="false" aria-label="Editor content;Press Alt+F1 for Accessibility Options." tabindex="0" role="textbox" aria-roledescription="editor" aria-multiline="true" aria-haspopup="false" aria-autocomplete="both" style="tab-size: 15.3984px; font-family: monospace, Consolas, &quot;Courier New&quot;, monospace; font-weight: normal; font-size: 14px; font-feature-settings: &quot;liga&quot; 0, &quot;calt&quot; 0; font-variation-settings: normal; line-height: 19px; letter-spacing: 0px; top: 0px; left: 6px; width: 76992px; height: 1px;"></textarea><div class="monaco-editor-background textAreaCover" style="position: absolute; top: 0px; left: 0px; width: 0px; height: 0px;"></div><div data-mprt="4" class="overlayWidgets" style="width: 896px;"><div widgetid="editor.contrib.quickInputWidget" style="position: absolute; top: 0px; right: 50%;"></div></div><div data-mprt="8" class="minimap slider-mouseover" role="presentation" aria-hidden="true" style="position: absolute; left: 0px; width: 0px; height: 314px;"><div class="minimap-shadow-hidden" style="height: 314px;"></div><canvas width="0" height="314" style="position: absolute; left: 0px; width: 0px; height: 314px;"></canvas><canvas class="minimap-decorations-layer" width="0" height="314" style="position: absolute; left: 0px; width: 0px; height: 314px;"></canvas><div class="minimap-slider" style="position: absolute; transform: translate3d(0px, 0px, 0px); contain: strict; width: 0px; will-change: unset;"><div class="minimap-slider-horizontal" style="position: absolute; width: 0px; height: 0px;"></div></div></div><div role="presentation" aria-hidden="true" class="blockDecorations-container"></div></div><div data-mprt="2" class="overflowingContentWidgets"><div widgetid="editor.contrib.resizableContentHoverWidget" style="position: fixed; height: 10px; width: 10px; z-index: 50; display: none; visibility: hidden; max-width: 1600px;"><div class="monaco-sash vertical" style="left: 8px;"></div><div class="monaco-sash vertical" style="left: -2px;"></div><div class="monaco-sash orthogonal-edge-north horizontal" style="top: -2px;"><div class="orthogonal-drag-handle start"></div><div class="orthogonal-drag-handle end"></div></div><div class="monaco-sash orthogonal-edge-south horizontal" style="top: 8px;"><div class="orthogonal-drag-handle start"></div><div class="orthogonal-drag-handle end"></div></div><div class="monaco-hover hidden" tabindex="0" role="tooltip"><div class="monaco-scrollable-element " role="presentation" style="position: relative; overflow: hidden;"><div class="monaco-hover-content" style="overflow: hidden; font-size: 14px; line-height: 1.35714; max-width: 591.36px; max-height: 250px;"></div><div role="presentation" aria-hidden="true" class="invisible scrollbar horizontal" style="position: absolute;"><div class="slider" style="position: absolute; top: 0px; left: 0px; height: 10px; transform: translate3d(0px, 0px, 0px); contain: strict;"></div></div><div role="presentation" aria-hidden="true" class="invisible scrollbar vertical" style="position: absolute;"><div class="slider" style="position: absolute; top: 0px; left: 0px; width: 10px; transform: translate3d(0px, 0px, 0px); contain: strict;"></div></div><div class="shadow"></div><div class="shadow"></div><div class="shadow"></div></div></div></div></div><div class=".in-cell-overflowing"></div></div></div></div><colab-form class="formview vertical layout flex"><div class="widget-area vertical layout"></div></colab-form></div>
    <div class="output" aria-label="Cell 11 output" role="region"><!----> <div class="output-header"> </div>
        <div class="output-content">
          <div class="output-info"><colab-output-info><template shadowrootmode="open"><!----><md-icon-button data-aria-expanded="false" data-aria-haspopup="menu" aria-describedby="button-output-actions-tooltip" data-aria-label="Code cell output actions" id="button-output-actions" value=""><template shadowrootmode="open" shadowrootdelegatesfocus><!----><button id="button" class="icon-button  standard " aria-label="Code cell output actions" aria-haspopup="menu" aria-expanded="false">
        <!--?lit$549300851$--><md-focus-ring part="focus-ring" for="button" aria-hidden="true"><template shadowrootmode="open"><!----></template></md-focus-ring>
        <!--?lit$549300851$--><md-ripple aria-hidden="true"><template shadowrootmode="open"><!----><div class="surface   "></div></template></md-ripple>
        <!--?lit$549300851$--><span class="icon"><slot></slot></span>
        <!--?lit$549300851$-->
        <!--?lit$549300851$--><span class="touch"></span>
  </button></template>
        <md-icon aria-hidden="true"><template shadowrootmode="open"><!----><slot></slot></template><!--?lit$549300851$--><svg viewBox="0 0 24 24"><!--?lit$549300851$--><path d="m15.9 3.07c-4.32 0.0742-8.64-0.0355-13 0.0568-1.37 0.307-1.74 2.1-1.41 3.26 0.469 0.606 1.86 0.384 1.66-0.525 0.0448-0.329-0.183-0.93 0.354-0.766h13.3v1.53h1.71c0.0709-1.13 0.141-2.62-0.968-3.3-0.511-0.264-1.11-0.252-1.67-0.259zm2.94 6.84v4.87c1.62-1.62 3.24-3.24 4.87-4.87h-4.87zm0 0h-1.71v3.43l1.57 1.57c0.32-1.65 0.0556-3.34 0.135-5zm-1.71 3.43v-3.43h-3.43c1.14 1.14 2.29 2.29 3.43 3.43zm1.4 4.27h-1.71v1.48h-13.6v-1.48h-1.71c-0.0473 1.15-0.16 2.72 1.09 3.29 1.47 0.506 3.02 0.0265 4.53 0.192 3.34-0.0051 6.68 0.0336 10-0.0245 1.49-0.366 1.56-2.22 1.42-3.45zm-10.1-1.12c-0.398-0.483-0.796-0.967-1.19-1.45 0.59-0.683 1.18-1.37 1.77-2.05h-8.67v-2h8.67c-0.59-0.683-1.18-1.37-1.77-2.05 0.398-0.483 0.796-0.967 1.19-1.45 1.28 1.5 2.56 3 3.84 4.5-1.28 1.5-2.56 3-3.84 4.5z"></path></svg></md-icon>
      </md-icon-button>
      <!--?lit$549300851$--><colab-tooltip-trigger aria-hidden="true" id="button-output-actions-tooltip" for="button-output-actions" message="Code cell output actions"><template shadowrootmode="open"><!----><!--?lit$549300851$--><!----><div><!--?lit$549300851$-->Code cell output actions</div><!----><!--?--></template></colab-tooltip-trigger><!--?--></template></colab-output-info></div>
          <div class="output-iframe-container">
            <div class="output-iframe-sizer" style="min-height: 0px;"> <div><div><colab-static-output-renderer tabindex="0" role="group"><div><div class="stream output-id-1 output_text"><pre>Total Production by Year:
Crop_Year
2005    2.768054e+08
2006    5.890486e+08
2007    1.889943e+09
2008    1.983224e+09
2009    3.096021e+09
2010    2.640842e+09
2011    1.425131e+09
2012    3.943383e+09
2013    2.954124e+09
2014    3.776885e+09
2015    1.820630e+09
2016    2.144161e+09
2017    3.796313e+09
2018    2.705562e+09
2019    5.415571e+09
2020    3.912047e+09
2021    2.057224e+09
2022    1.419277e+09
2023    2.735079e+06
Name: Production, dtype: float64

The year with the highest production is 2019 with a production of 5415570891.104885
</pre></div></div><div></div></colab-static-output-renderer></div></div><div><div></div></div></div>
          </div>
        </div></div></div><colab-cell-next-steps><template shadowrootmode="open"><!----></template></colab-cell-next-steps></div></div><div class="add-cell">
      <div class="add-cell-buttons">
        <md-outlined-button class="add-code add-button" data-aria-label="Add code cell
Ctrl+M B" title="Add code cell
Ctrl+M B" value="" has-icon=""><template shadowrootmode="open" shadowrootdelegatesfocus><!---->
      <!--?lit$549300851$--><div class="outline"></div>
      <div class="background"></div>
      <md-focus-ring part="focus-ring" for="button" aria-hidden="true"><template shadowrootmode="open"><!----></template></md-focus-ring>
      <md-ripple part="ripple" for="button" aria-hidden="true"><template shadowrootmode="open"><!----><div class="surface"></div></template></md-ripple>
      <!--?lit$549300851$--><button id="button" class="button" aria-label="Add code cell
Ctrl+M B">
      <!--?lit$549300851$-->
      <span class="touch"></span>
      <!--?lit$549300851$--><slot name="icon"></slot>
      <span class="label"><slot></slot></span>
      <!--?lit$549300851$-->
    
    </button>
    </template>
          <md-icon slot="icon" aria-hidden="true"><template shadowrootmode="open"><!----><slot></slot></template>add</md-icon>
          <!--?lit$549300851$-->Code
        </md-outlined-button>
        <md-outlined-button class="add-text add-button" data-aria-label="Add text cell" title="Add text cell" value="" has-icon=""><template shadowrootmode="open" shadowrootdelegatesfocus><!---->
      <!--?lit$549300851$--><div class="outline"></div>
      <div class="background"></div>
      <md-focus-ring part="focus-ring" for="button" aria-hidden="true"><template shadowrootmode="open"><!----></template></md-focus-ring>
      <md-ripple part="ripple" for="button" aria-hidden="true"><template shadowrootmode="open"><!----><div class="surface"></div></template></md-ripple>
      <!--?lit$549300851$--><button id="button" class="button" aria-label="Add text cell">
      <!--?lit$549300851$-->
      <span class="touch"></span>
      <!--?lit$549300851$--><slot name="icon"></slot>
      <span class="label"><slot></slot></span>
      <!--?lit$549300851$-->
    
    </button>
    </template>
          <md-icon slot="icon" aria-hidden="true"><template shadowrootmode="open"><!----><slot></slot></template>add</md-icon>
          <!--?lit$549300851$-->Text
        </md-outlined-button>
        <!--?lit$549300851$-->
      </div><hr>
    </div></div><div class="cell code icon-scrolling code-has-output" id="cell-U4lL0V4Wx-7G" tabindex="-1" role="region" aria-label="Cell 12: Code cell: " style="opacity: 1;"><div class="agent-focus-label">
      <md-icon aria-hidden="true"><template shadowrootmode="open"><!----><slot></slot></template>spark</md-icon>
      <!--?lit$549300851$-->Gemini
    </div><div class="cell-tag-editor sticky"></div><div class="cell-toolbar sticky"></div><div class="main-content" elevation="0"><div class="cell-contents"><div class="cell-mask"></div><span class="imported-info-area"></span><div class="codecell-input-output">
      <div class="inputarea horizontal layout code">
        <div class="cell-gutter">
          <!-- Bounding range for vertical scrolling of icons -->
          <div class="cell-execution-container">
            <colab-run-button><template shadowrootmode="open"><!----> <div class="cell-execution">
      <button id="run-button" aria-describedby="run-button-tooltip" aria-label="Run cell" aria-disabled="false">
        <!--?lit$549300851$--><span class="execution-count"><!--?lit$549300851$-->[24]</span>
        <span aria-hidden="true" class="cell-execution-indicator"><!--?lit$549300851$-->
<svg xmlns="http://www.w3.org/2000/svg" viewBox="0 0 24 24">
  <!--?lit$549300851$-->
  <mask id="playSymbolMask">
    <rect width="100%" height="100%" fill="white"></rect>
    <polygon points="10,8 17,12 10,16" fill="black"></polygon>
  </mask>
  <circle cx="12" cy="12" r="7.8" mask="url(#playSymbolMask)" id="filledCircle"></circle>
</svg></span>
      </button>
      <!--?lit$549300851$--><colab-tooltip-trigger for="run-button" id="run-button-tooltip" aria-hidden="true" message="Run cell (Ctrl+Enter)
cell executed since last change

executed by Avishkar Khandekar
9:22 AM (0 minutes ago)
executed in 0.008s"><template shadowrootmode="open"><!----><!--?lit$549300851$--><!----><div><!--?lit$549300851$-->Run cell (Ctrl+Enter)</div><!----><!----><div><!--?lit$549300851$-->cell executed since last change</div><!----><!----><br><!----><!----><div><!--?lit$549300851$-->executed by Avishkar Khandekar</div><!----><!----><div><!--?lit$549300851$-->9:22 AM (0 minutes ago)</div><!----><!----><div><!--?lit$549300851$-->executed in 0.008s</div><!----><!--?--></template>
    </colab-tooltip-trigger>
      <!--?lit$549300851$--><div id="status" class="last-run">
      <md-icon aria-hidden="true"><template shadowrootmode="open"><!----><slot></slot></template><!--?lit$549300851$--><svg viewBox="0 0 24 24"><!--?lit$549300851$--><path d="M9 16.17L4.83 12l-1.42 1.41L9 19 21 7l-1.41-1.41z"></path></svg></md-icon>
      <div><!--?lit$549300851$-->0s</div>
    </div>
    </div></template></colab-run-button>
          </div>
        </div>
      <div class="editor flex lazy-editor" style=""><pre class="lazy-virtualized" style="font-size: 14px; line-height: 19px;"><pre class="lazy-gutter"></pre><pre class="monaco-colorized colab-dark colab-dark colab-dark" data-lang="notebook-python"><span><span class="mtk1">production_by_crop&nbsp;=&nbsp;IMDB_df.groupby</span><span class="mtk12">(</span><span class="mtk5">'Crop'</span><span class="mtk12">)[</span><span class="mtk5">'Production'</span><span class="mtk12">]</span><span class="mtk1">.</span><span class="mtk15">sum</span><span class="mtk12">()</span></span><br><span><span></span></span><br><span><span class="mtk8">#&nbsp;Find&nbsp;the&nbsp;crop&nbsp;with&nbsp;the&nbsp;highest&nbsp;production</span></span><br><span><span class="mtk1">highest_production_crop&nbsp;=&nbsp;production_by_crop.idxma</span><span class="mtk1">x</span><span class="mtk12">()</span></span><br><span><span class="mtk1">highest_production_value&nbsp;=&nbsp;production_by_crop.</span><span class="mtk15">max</span><span class="mtk12">()</span></span><br><span><span></span></span><br><span><span class="mtk15">print</span><span class="mtk12">(</span><span class="mtk9">f</span><span class="mtk5">"The&nbsp;crop&nbsp;with&nbsp;the&nbsp;highest&nbsp;production&nbsp;is&nbsp;</span><span class="mtk12">{</span><span class="mtk1">highest_production_crop</span><span class="mtk12">}</span><span class="mtk5">&nbsp;with&nbsp;a&nbsp;production&nbsp;of&nbsp;</span><span class="mtk12">{</span><span class="mtk1">highest_production_value</span><span class="mtk12">}</span><span class="mtk5">"</span><span class="mtk12">)</span></span><br></pre><colab-read-only-cell-placeholder style="display: none;"><template shadowrootmode="open"><!----><div><!--?lit$549300851$-->Start coding or <span tabindex="0" role="button" class="link">generate</span> with AI.</div></template></colab-read-only-cell-placeholder></pre></div><colab-form class="formview vertical layout flex"><div class="widget-area vertical layout"></div></colab-form></div>
    <div class="output" aria-label="Cell 12 output" role="region"><!----> <div class="output-header"> </div>
        <div class="output-content">
          <div class="output-info"><colab-output-info><template shadowrootmode="open"><!----><md-icon-button data-aria-expanded="false" data-aria-haspopup="menu" aria-describedby="button-output-actions-tooltip" data-aria-label="Code cell output actions" id="button-output-actions" value=""><template shadowrootmode="open" shadowrootdelegatesfocus><!----><button id="button" class="icon-button  standard " aria-label="Code cell output actions" aria-haspopup="menu" aria-expanded="false">
        <!--?lit$549300851$--><md-focus-ring part="focus-ring" for="button" aria-hidden="true"><template shadowrootmode="open"><!----></template></md-focus-ring>
        <!--?lit$549300851$--><md-ripple aria-hidden="true"><template shadowrootmode="open"><!----><div class="surface   "></div></template></md-ripple>
        <!--?lit$549300851$--><span class="icon"><slot></slot></span>
        <!--?lit$549300851$-->
        <!--?lit$549300851$--><span class="touch"></span>
  </button></template>
        <md-icon aria-hidden="true"><template shadowrootmode="open"><!----><slot></slot></template><!--?lit$549300851$--><svg viewBox="0 0 24 24"><!--?lit$549300851$--><path d="m15.9 3.07c-4.32 0.0742-8.64-0.0355-13 0.0568-1.37 0.307-1.74 2.1-1.41 3.26 0.469 0.606 1.86 0.384 1.66-0.525 0.0448-0.329-0.183-0.93 0.354-0.766h13.3v1.53h1.71c0.0709-1.13 0.141-2.62-0.968-3.3-0.511-0.264-1.11-0.252-1.67-0.259zm2.94 6.84v4.87c1.62-1.62 3.24-3.24 4.87-4.87h-4.87zm0 0h-1.71v3.43l1.57 1.57c0.32-1.65 0.0556-3.34 0.135-5zm-1.71 3.43v-3.43h-3.43c1.14 1.14 2.29 2.29 3.43 3.43zm1.4 4.27h-1.71v1.48h-13.6v-1.48h-1.71c-0.0473 1.15-0.16 2.72 1.09 3.29 1.47 0.506 3.02 0.0265 4.53 0.192 3.34-0.0051 6.68 0.0336 10-0.0245 1.49-0.366 1.56-2.22 1.42-3.45zm-10.1-1.12c-0.398-0.483-0.796-0.967-1.19-1.45 0.59-0.683 1.18-1.37 1.77-2.05h-8.67v-2h8.67c-0.59-0.683-1.18-1.37-1.77-2.05 0.398-0.483 0.796-0.967 1.19-1.45 1.28 1.5 2.56 3 3.84 4.5-1.28 1.5-2.56 3-3.84 4.5z"></path></svg></md-icon>
      </md-icon-button>
      <!--?lit$549300851$--><colab-tooltip-trigger aria-hidden="true" id="button-output-actions-tooltip" for="button-output-actions" message="Code cell output actions"><template shadowrootmode="open"><!----><!--?lit$549300851$--><!----><div><!--?lit$549300851$-->Code cell output actions</div><!----><!--?--></template></colab-tooltip-trigger><!--?--></template></colab-output-info></div>
          <div class="output-iframe-container">
            <div class="output-iframe-sizer" style="min-height: 0px;"> <div><div><colab-static-output-renderer tabindex="0" role="group"><div><div class="stream output-id-1 output_text"><pre>The crop with the highest production is Coconut  with a production of 41803463849.70686
</pre></div></div><div></div></colab-static-output-renderer></div></div></div>
          </div>
        </div></div></div><colab-cell-next-steps><template shadowrootmode="open"><!----></template></colab-cell-next-steps></div></div><div class="add-cell">
      <div class="add-cell-buttons">
        <md-outlined-button class="add-code add-button" data-aria-label="Add code cell
Ctrl+M B" title="Add code cell
Ctrl+M B" value="" has-icon=""><template shadowrootmode="open" shadowrootdelegatesfocus><!---->
      <!--?lit$549300851$--><div class="outline"></div>
      <div class="background"></div>
      <md-focus-ring part="focus-ring" for="button" aria-hidden="true"><template shadowrootmode="open"><!----></template></md-focus-ring>
      <md-ripple part="ripple" for="button" aria-hidden="true"><template shadowrootmode="open"><!----><div class="surface   "></div></template></md-ripple>
      <!--?lit$549300851$--><button id="button" class="button" aria-label="Add code cell
Ctrl+M B">
      <!--?lit$549300851$-->
      <span class="touch"></span>
      <!--?lit$549300851$--><slot name="icon"></slot>
      <span class="label"><slot></slot></span>
      <!--?lit$549300851$-->
    
    </button>
    </template>
          <md-icon slot="icon" aria-hidden="true"><template shadowrootmode="open"><!----><slot></slot></template>add</md-icon>
          <!--?lit$549300851$-->Code
        </md-outlined-button>
        <md-outlined-button class="add-text add-button" data-aria-label="Add text cell" title="Add text cell" value="" has-icon=""><template shadowrootmode="open" shadowrootdelegatesfocus><!---->
      <!--?lit$549300851$--><div class="outline"></div>
      <div class="background"></div>
      <md-focus-ring part="focus-ring" for="button" aria-hidden="true"><template shadowrootmode="open"><!----></template></md-focus-ring>
      <md-ripple part="ripple" for="button" aria-hidden="true"><template shadowrootmode="open"><!----><div class="surface   "></div></template></md-ripple>
      <!--?lit$549300851$--><button id="button" class="button" aria-label="Add text cell">
      <!--?lit$549300851$-->
      <span class="touch"></span>
      <!--?lit$549300851$--><slot name="icon"></slot>
      <span class="label"><slot></slot></span>
      <!--?lit$549300851$-->
    
    </button>
    </template>
          <md-icon slot="icon" aria-hidden="true"><template shadowrootmode="open"><!----><slot></slot></template>add</md-icon>
          <!--?lit$549300851$-->Text
        </md-outlined-button>
        <!--?lit$549300851$-->
      </div><hr>
    </div></div><div class="cell code icon-scrolling code-has-output" id="cell-78DyzmV8yTWG" tabindex="-1" role="region" aria-label="Cell 13: Code cell: " style="opacity: 1;"><div class="agent-focus-label">
      <md-icon aria-hidden="true"><template shadowrootmode="open"><!----><slot></slot></template>spark</md-icon>
      <!--?lit$549300851$-->Gemini
    </div><div class="cell-tag-editor sticky"></div><div class="cell-toolbar sticky"></div><div class="main-content" elevation="0"><div class="cell-contents"><div class="cell-mask"></div><span class="imported-info-area"></span><div class="codecell-input-output">
      <div class="inputarea horizontal layout code">
        <div class="cell-gutter">
          <!-- Bounding range for vertical scrolling of icons -->
          <div class="cell-execution-container">
            <colab-run-button><template shadowrootmode="open"><!----> <div class="cell-execution">
      <button id="run-button" aria-describedby="run-button-tooltip" aria-label="Run cell" aria-disabled="false">
        <!--?lit$549300851$--><span class="execution-count"><!--?lit$549300851$-->[25]</span>
        <span aria-hidden="true" class="cell-execution-indicator"><!--?lit$549300851$-->
<svg xmlns="http://www.w3.org/2000/svg" viewBox="0 0 24 24">
  <!--?lit$549300851$-->
  <mask id="playSymbolMask">
    <rect width="100%" height="100%" fill="white"></rect>
    <polygon points="10,8 17,12 10,16" fill="black"></polygon>
  </mask>
  <circle cx="12" cy="12" r="7.8" mask="url(#playSymbolMask)" id="filledCircle"></circle>
</svg></span>
      </button>
      <!--?lit$549300851$--><colab-tooltip-trigger for="run-button" id="run-button-tooltip" aria-hidden="true" message="Run cell (Ctrl+Enter)
cell executed since last change

executed by Avishkar Khandekar
9:38 AM (0 minutes ago)
executed in 0.055s"><template shadowrootmode="open"><!----><!--?lit$549300851$--><!----><div><!--?lit$549300851$-->Run cell (Ctrl+Enter)</div><!----><!----><div><!--?lit$549300851$-->cell executed since last change</div><!----><!----><br><!----><!----><div><!--?lit$549300851$-->executed by Avishkar Khandekar</div><!----><!----><div><!--?lit$549300851$-->9:38 AM (0 minutes ago)</div><!----><!----><div><!--?lit$549300851$-->executed in 0.055s</div><!----><!--?--></template>
    </colab-tooltip-trigger>
      <!--?lit$549300851$--><div id="status" class="last-run">
      <md-icon aria-hidden="true"><template shadowrootmode="open"><!----><slot></slot></template><!--?lit$549300851$--><svg viewBox="0 0 24 24"><!--?lit$549300851$--><path d="M9 16.17L4.83 12l-1.42 1.41L9 19 21 7l-1.41-1.41z"></path></svg></md-icon>
      <div><!--?lit$549300851$-->0s</div>
    </div>
    </div></template></colab-run-button>
          </div>
        </div>
      <div class="editor flex lazy-editor" style=""><pre class="lazy-virtualized" style="font-size: 14px; line-height: 19px;"><pre class="lazy-gutter"></pre><pre class="monaco-colorized colab-dark colab-dark colab-dark" data-lang="notebook-python"><span><span class="mtk1">production_by_state&nbsp;=&nbsp;IMDB_df.groupby</span><span class="mtk12">(</span><span class="mtk5">'State_Name'</span><span class="mtk12">)[</span><span class="mtk5">'Production'</span><span class="mtk12">]</span><span class="mtk1">.</span><span class="mtk15">sum</span><span class="mtk12">()</span></span><br><span><span></span></span><br><span><span class="mtk8">#&nbsp;Find&nbsp;the&nbsp;state&nbsp;with&nbsp;the&nbsp;highest&nbsp;production</span></span><br><span><span class="mtk1">highest_production_state&nbsp;=&nbsp;production_by_state.idx</span><span class="mtk1">max</span><span class="mtk12">()</span></span><br><span><span class="mtk1">highest_production_value&nbsp;=&nbsp;production_by_state.</span><span class="mtk15">max</span><span class="mtk12">()</span></span><br><span><span></span></span><br><span><span class="mtk15">print</span><span class="mtk12">(</span><span class="mtk9">f</span><span class="mtk5">"The&nbsp;state&nbsp;with&nbsp;the&nbsp;highest&nbsp;production&nbsp;is&nbsp;</span><span class="mtk12">{</span><span class="mtk1">highest_production_state</span><span class="mtk12">}</span><span class="mtk5">&nbsp;with&nbsp;a&nbsp;production&nbsp;of&nbsp;</span><span class="mtk12">{</span><span class="mtk1">highest_production_value</span><span class="mtk12">}</span><span class="mtk5">"</span><span class="mtk12">)</span></span><br></pre><colab-read-only-cell-placeholder style="display: none;"><template shadowrootmode="open"><!----><div><!--?lit$549300851$-->Start coding or <span tabindex="0" role="button" class="link">generate</span> with AI.</div></template></colab-read-only-cell-placeholder></pre></div><colab-form class="formview vertical layout flex"><div class="widget-area vertical layout"></div></colab-form></div>
    <div class="output" aria-label="Cell 13 output" role="region"><!----> <div class="output-header"> </div>
        <div class="output-content">
          <div class="output-info"><colab-output-info><template shadowrootmode="open"><!----><md-icon-button data-aria-expanded="false" data-aria-haspopup="menu" aria-describedby="button-output-actions-tooltip" data-aria-label="Code cell output actions" id="button-output-actions" value=""><template shadowrootmode="open" shadowrootdelegatesfocus><!----><button id="button" class="icon-button  standard " aria-label="Code cell output actions" aria-haspopup="menu" aria-expanded="false">
        <!--?lit$549300851$--><md-focus-ring part="focus-ring" for="button" aria-hidden="true"><template shadowrootmode="open"><!----></template></md-focus-ring>
        <!--?lit$549300851$--><md-ripple aria-hidden="true"><template shadowrootmode="open"><!----><div class="surface   "></div></template></md-ripple>
        <!--?lit$549300851$--><span class="icon"><slot></slot></span>
        <!--?lit$549300851$-->
        <!--?lit$549300851$--><span class="touch"></span>
  </button></template>
        <md-icon aria-hidden="true"><template shadowrootmode="open"><!----><slot></slot></template><!--?lit$549300851$--><svg viewBox="0 0 24 24"><!--?lit$549300851$--><path d="m15.9 3.07c-4.32 0.0742-8.64-0.0355-13 0.0568-1.37 0.307-1.74 2.1-1.41 3.26 0.469 0.606 1.86 0.384 1.66-0.525 0.0448-0.329-0.183-0.93 0.354-0.766h13.3v1.53h1.71c0.0709-1.13 0.141-2.62-0.968-3.3-0.511-0.264-1.11-0.252-1.67-0.259zm2.94 6.84v4.87c1.62-1.62 3.24-3.24 4.87-4.87h-4.87zm0 0h-1.71v3.43l1.57 1.57c0.32-1.65 0.0556-3.34 0.135-5zm-1.71 3.43v-3.43h-3.43c1.14 1.14 2.29 2.29 3.43 3.43zm1.4 4.27h-1.71v1.48h-13.6v-1.48h-1.71c-0.0473 1.15-0.16 2.72 1.09 3.29 1.47 0.506 3.02 0.0265 4.53 0.192 3.34-0.0051 6.68 0.0336 10-0.0245 1.49-0.366 1.56-2.22 1.42-3.45zm-10.1-1.12c-0.398-0.483-0.796-0.967-1.19-1.45 0.59-0.683 1.18-1.37 1.77-2.05h-8.67v-2h8.67c-0.59-0.683-1.18-1.37-1.77-2.05 0.398-0.483 0.796-0.967 1.19-1.45 1.28 1.5 2.56 3 3.84 4.5-1.28 1.5-2.56 3-3.84 4.5z"></path></svg></md-icon>
      </md-icon-button>
      <!--?lit$549300851$--><colab-tooltip-trigger aria-hidden="true" id="button-output-actions-tooltip" for="button-output-actions" message="Code cell output actions"><template shadowrootmode="open"><!----><!--?lit$549300851$--><!----><div><!--?lit$549300851$-->Code cell output actions</div><!----><!--?--></template></colab-tooltip-trigger><!--?--></template></colab-output-info></div>
          <div class="output-iframe-container">
            <div class="output-iframe-sizer" style="min-height: 0px;"> <div><div><colab-static-output-renderer tabindex="0" role="group"><div><div class="stream output-id-1 output_text"><pre>The state with the highest production is Kerala with a production of 33188382996.308533
</pre></div></div><div></div></colab-static-output-renderer></div></div></div>
          </div>
        </div></div></div><colab-cell-next-steps><template shadowrootmode="open"><!----></template></colab-cell-next-steps></div></div><div class="add-cell">
      <div class="add-cell-buttons">
        <md-outlined-button class="add-code add-button" data-aria-label="Add code cell
Ctrl+M B" title="Add code cell
Ctrl+M B" value="" has-icon=""><template shadowrootmode="open" shadowrootdelegatesfocus><!---->
      <!--?lit$549300851$--><div class="outline"></div>
      <div class="background"></div>
      <md-focus-ring part="focus-ring" for="button" aria-hidden="true"><template shadowrootmode="open"><!----></template></md-focus-ring>
      <md-ripple part="ripple" for="button" aria-hidden="true"><template shadowrootmode="open"><!----><div class="surface   "></div></template></md-ripple>
      <!--?lit$549300851$--><button id="button" class="button" aria-label="Add code cell
Ctrl+M B">
      <!--?lit$549300851$-->
      <span class="touch"></span>
      <!--?lit$549300851$--><slot name="icon"></slot>
      <span class="label"><slot></slot></span>
      <!--?lit$549300851$-->
    
    </button>
    </template>
          <md-icon slot="icon" aria-hidden="true"><template shadowrootmode="open"><!----><slot></slot></template>add</md-icon>
          <!--?lit$549300851$-->Code
        </md-outlined-button>
        <md-outlined-button class="add-text add-button" data-aria-label="Add text cell" title="Add text cell" value="" has-icon=""><template shadowrootmode="open" shadowrootdelegatesfocus><!---->
      <!--?lit$549300851$--><div class="outline"></div>
      <div class="background"></div>
      <md-focus-ring part="focus-ring" for="button" aria-hidden="true"><template shadowrootmode="open"><!----></template></md-focus-ring>
      <md-ripple part="ripple" for="button" aria-hidden="true"><template shadowrootmode="open"><!----><div class="surface"></div></template></md-ripple>
      <!--?lit$549300851$--><button id="button" class="button" aria-label="Add text cell">
      <!--?lit$549300851$-->
      <span class="touch"></span>
      <!--?lit$549300851$--><slot name="icon"></slot>
      <span class="label"><slot></slot></span>
      <!--?lit$549300851$-->
    
    </button>
    </template>
          <md-icon slot="icon" aria-hidden="true"><template shadowrootmode="open"><!----><slot></slot></template>add</md-icon>
          <!--?lit$549300851$-->Text
        </md-outlined-button>
        <!--?lit$549300851$-->
      </div><hr>
    </div></div><div class="cell code icon-scrolling code-has-output" id="cell-ttxl03Fb132O" tabindex="-1" role="region" aria-label="Cell 14: Code cell: " style="opacity: 1;"><div class="agent-focus-label">
      <md-icon aria-hidden="true"><template shadowrootmode="open"><!----><slot></slot></template>spark</md-icon>
      <!--?lit$549300851$-->Gemini
    </div><div class="cell-tag-editor sticky"></div><div class="cell-toolbar sticky"></div><div class="main-content" elevation="0"><div class="cell-contents"><div class="cell-mask"></div><span class="imported-info-area"></span><div class="codecell-input-output">
      <div class="inputarea horizontal layout code">
        <div class="cell-gutter">
          <!-- Bounding range for vertical scrolling of icons -->
          <div class="cell-execution-container">
            <colab-run-button><template shadowrootmode="open"><!----> <div class="cell-execution">
      <button id="run-button" aria-describedby="run-button-tooltip" aria-label="Run cell" aria-disabled="false">
        <!--?lit$549300851$--><span class="execution-count"><!--?lit$549300851$-->[26]</span>
        <span aria-hidden="true" class="cell-execution-indicator"><!--?lit$549300851$-->
<svg xmlns="http://www.w3.org/2000/svg" viewBox="0 0 24 24">
  <!--?lit$549300851$-->
  <mask id="playSymbolMask">
    <rect width="100%" height="100%" fill="white"></rect>
    <polygon points="10,8 17,12 10,16" fill="black"></polygon>
  </mask>
  <circle cx="12" cy="12" r="7.8" mask="url(#playSymbolMask)" id="filledCircle"></circle>
</svg></span>
      </button>
      <!--?lit$549300851$--><colab-tooltip-trigger for="run-button" id="run-button-tooltip" aria-hidden="true" message="Run cell (Ctrl+Enter)
cell executed since last change

executed by Avishkar Khandekar
9:39 AM (0 minutes ago)
executed in 0.055s"><template shadowrootmode="open"><!----><!--?lit$549300851$--><!----><div><!--?lit$549300851$-->Run cell (Ctrl+Enter)</div><!----><!----><div><!--?lit$549300851$-->cell executed since last change</div><!----><!----><br><!----><!----><div><!--?lit$549300851$-->executed by Avishkar Khandekar</div><!----><!----><div><!--?lit$549300851$-->9:39 AM (0 minutes ago)</div><!----><!----><div><!--?lit$549300851$-->executed in 0.055s</div><!----><!--?--></template>
    </colab-tooltip-trigger>
      <!--?lit$549300851$--><div id="status" class="last-run">
      <md-icon aria-hidden="true"><template shadowrootmode="open"><!----><slot></slot></template><!--?lit$549300851$--><svg viewBox="0 0 24 24"><!--?lit$549300851$--><path d="M9 16.17L4.83 12l-1.42 1.41L9 19 21 7l-1.41-1.41z"></path></svg></md-icon>
      <div><!--?lit$549300851$-->0s</div>
    </div>
    </div></template></colab-run-button>
          </div>
        </div>
      <div class="editor flex lazy-editor" style=""><pre class="lazy-virtualized" style="font-size: 14px; line-height: 19px;"><pre class="lazy-gutter"></pre><pre class="monaco-colorized colab-dark colab-dark" data-lang="notebook-python"><span><span class="mtk1">mean_production&nbsp;=&nbsp;IMDB_df</span><span class="mtk12">[</span><span class="mtk5">'Production'</span><span class="mtk12">]</span><span class="mtk1">.mean</span><span class="mtk12">()</span></span><br><span><span class="mtk1">IMDB_df</span><span class="mtk12">[</span><span class="mtk5">'Production'</span><span class="mtk12">]</span><span class="mtk1">&nbsp;=&nbsp;IMDB_df</span><span class="mtk12">[</span><span class="mtk5">'Production'</span><span class="mtk12">]</span><span class="mtk1">.fillna</span><span class="mtk12">(</span><span class="mtk1">mean_production</span><span class="mtk12">)</span></span><br><span><span></span></span><br><span><span></span></span><br><span><span class="mtk8">#&nbsp;Find&nbsp;the&nbsp;highest&nbsp;production&nbsp;for&nbsp;each&nbsp;state,&nbsp;alon</span><span class="mtk8">g&nbsp;with&nbsp;the&nbsp;corresponding&nbsp;year&nbsp;and&nbsp;crop</span></span><br><span><span class="mtk1">highest_production_per_state&nbsp;=&nbsp;IMDB_df.groupby</span><span class="mtk12">(</span><span class="mtk5">'State_Name'</span><span class="mtk12">)</span><span class="mtk1">.apply</span><span class="mtk12">(</span></span><br><span><span class="mtk1">&nbsp;&nbsp;&nbsp;&nbsp;</span><span class="mtk9">lambda</span><span class="mtk1">&nbsp;x</span><span class="mtk12">:</span><span class="mtk1">&nbsp;x.loc</span><span class="mtk12">[</span><span class="mtk1">x</span><span class="mtk12">[</span><span class="mtk5">'Production'</span><span class="mtk12">]</span><span class="mtk1">.idxmax</span><span class="mtk12">(),</span><span class="mtk1">&nbsp;</span><span class="mtk12">[</span><span class="mtk5">'Crop_Year'</span><span class="mtk12">,</span><span class="mtk1">&nbsp;</span><span class="mtk5">'Crop'</span><span class="mtk12">,</span><span class="mtk1">&nbsp;</span><span class="mtk5">'Production'</span><span class="mtk12">]]</span></span><br><span><span class="mtk12">)</span></span><br><span><span></span></span><br><span><span class="mtk8">#&nbsp;Print&nbsp;the&nbsp;result</span></span><br><span><span class="mtk15">print</span><span class="mtk12">(</span><span class="mtk5">"Highest&nbsp;Production&nbsp;per&nbsp;State:"</span><span class="mtk12">)</span></span><br><span><span class="mtk15">print</span><span class="mtk12">(</span><span class="mtk1">highest_production_per_state</span><span class="mtk12">)</span></span><br></pre><colab-read-only-cell-placeholder style="display: none;"><template shadowrootmode="open"><!----><div><!--?lit$549300851$-->Start coding or <span tabindex="0" role="button" class="link">generate</span> with AI.</div></template></colab-read-only-cell-placeholder></pre></div><colab-form class="formview vertical layout flex"><div class="widget-area vertical layout"></div></colab-form></div>
    <div class="output" aria-label="Cell 14 output" role="region"><!----> <div class="output-header"> </div>
        <div class="output-content">
          <div class="output-info"><colab-output-info><template shadowrootmode="open"><!----><md-icon-button data-aria-expanded="false" data-aria-haspopup="menu" aria-describedby="button-output-actions-tooltip" data-aria-label="Code cell output actions" id="button-output-actions" value=""><template shadowrootmode="open" shadowrootdelegatesfocus><!----><button id="button" class="icon-button  standard " aria-label="Code cell output actions" aria-haspopup="menu" aria-expanded="false">
        <!--?lit$549300851$--><md-focus-ring part="focus-ring" for="button" aria-hidden="true"><template shadowrootmode="open"><!----></template></md-focus-ring>
        <!--?lit$549300851$--><md-ripple aria-hidden="true"><template shadowrootmode="open"><!----><div class="surface   "></div></template></md-ripple>
        <!--?lit$549300851$--><span class="icon"><slot></slot></span>
        <!--?lit$549300851$-->
        <!--?lit$549300851$--><span class="touch"></span>
  </button></template>
        <md-icon aria-hidden="true"><template shadowrootmode="open"><!----><slot></slot></template><!--?lit$549300851$--><svg viewBox="0 0 24 24"><!--?lit$549300851$--><path d="m15.9 3.07c-4.32 0.0742-8.64-0.0355-13 0.0568-1.37 0.307-1.74 2.1-1.41 3.26 0.469 0.606 1.86 0.384 1.66-0.525 0.0448-0.329-0.183-0.93 0.354-0.766h13.3v1.53h1.71c0.0709-1.13 0.141-2.62-0.968-3.3-0.511-0.264-1.11-0.252-1.67-0.259zm2.94 6.84v4.87c1.62-1.62 3.24-3.24 4.87-4.87h-4.87zm0 0h-1.71v3.43l1.57 1.57c0.32-1.65 0.0556-3.34 0.135-5zm-1.71 3.43v-3.43h-3.43c1.14 1.14 2.29 2.29 3.43 3.43zm1.4 4.27h-1.71v1.48h-13.6v-1.48h-1.71c-0.0473 1.15-0.16 2.72 1.09 3.29 1.47 0.506 3.02 0.0265 4.53 0.192 3.34-0.0051 6.68 0.0336 10-0.0245 1.49-0.366 1.56-2.22 1.42-3.45zm-10.1-1.12c-0.398-0.483-0.796-0.967-1.19-1.45 0.59-0.683 1.18-1.37 1.77-2.05h-8.67v-2h8.67c-0.59-0.683-1.18-1.37-1.77-2.05 0.398-0.483 0.796-0.967 1.19-1.45 1.28 1.5 2.56 3 3.84 4.5-1.28 1.5-2.56 3-3.84 4.5z"></path></svg></md-icon>
      </md-icon-button>
      <!--?lit$549300851$--><colab-tooltip-trigger aria-hidden="true" id="button-output-actions-tooltip" for="button-output-actions" message="Code cell output actions"><template shadowrootmode="open"><!----><!--?lit$549300851$--><!----><div><!--?lit$549300851$-->Code cell output actions</div><!----><!--?--></template></colab-tooltip-trigger><!--?--></template></colab-output-info></div>
          <div class="output-iframe-container">
            <div class="output-iframe-sizer" style="min-height: 0px;"> <div><div><colab-static-output-renderer tabindex="0" role="group"><div><div class="stream output-id-1 output_text"><pre>Highest Production per State:
                             Crop_Year                   Crop    Production
State_Name                                                                 
Andaman and Nicobar Islands       2018               Coconut   7.130000e+07
Andhra Pradesh                    2014               Coconut   6.130374e+08
Arunachal Pradesh                 2022                   Rice  2.746300e+04
Assam                             2011               Coconut   4.321600e+07
Bihar                             2005              Sugarcane  2.702830e+06
Chandigarh                        2008                  Wheat  3.375000e+03
Chhattisgarh                      2021              Sugarcane  2.129180e+06
Dadra and Nagar Haveli            2006              Sugarcane  1.223200e+05
Goa                               2013               Coconut   7.011000e+07
Gujarat                           2013              Sugarcane  1.175400e+07
Haryana                           2009              Sugarcane  2.500000e+06
Himachal Pradesh                  2006          Small millets  6.210320e+05
Jammu and Kashmir                 2011         other oilseeds  6.210320e+05
Jharkhand                         2011                   Rice  1.584680e+05
Karnataka                         2019              Sugarcane  1.626448e+07
Kerala                            2020               Coconut   1.125000e+09
Madhya Pradesh                    2019                  Wheat  1.186378e+06
Maharashtra                       2019              Sugarcane  1.593620e+07
Manipur                           2006  Peas &amp; beans (Pulses)  6.210320e+05
Meghalaya                         2006                 Potato  1.292540e+05
Mizoram                           2006                   Rice  4.662600e+04
Nagaland                          2012      Moong(Green Gram)  6.210320e+05
Odisha                            2022                   Rice  7.150000e+05
Puducherry                        2012               Coconut   1.781300e+07
Punjab                            2016                  Wheat  1.849000e+06
Rajasthan                         2011                  Bajra  8.268160e+05
Sikkim                            2006        Total foodgrain  3.314000e+04
Tamil Nadu                        2019               Coconut   8.238000e+08
Telangana                         2011               Coconut   1.193314e+07
Tripura                           2018                   Rice  2.824380e+05
Uttar Pradesh                     2022              Sugarcane  1.775796e+07
Uttarakhand                       2022              Sugarcane  4.304432e+06
West Bengal                       2014               Coconut   7.509500e+07
</pre></div></div><div></div></colab-static-output-renderer></div></div></div>
          </div>
        </div></div></div><colab-cell-next-steps><template shadowrootmode="open"><!----></template></colab-cell-next-steps></div></div><div class="add-cell">
      <div class="add-cell-buttons">
        <md-outlined-button class="add-code add-button" data-aria-label="Add code cell
Ctrl+M B" title="Add code cell
Ctrl+M B" value="" has-icon=""><template shadowrootmode="open" shadowrootdelegatesfocus><!---->
      <!--?lit$549300851$--><div class="outline"></div>
      <div class="background"></div>
      <md-focus-ring part="focus-ring" for="button" aria-hidden="true"><template shadowrootmode="open"><!----></template></md-focus-ring>
      <md-ripple part="ripple" for="button" aria-hidden="true"><template shadowrootmode="open"><!----><div class="surface   "></div></template></md-ripple>
      <!--?lit$549300851$--><button id="button" class="button" aria-label="Add code cell
Ctrl+M B">
      <!--?lit$549300851$-->
      <span class="touch"></span>
      <!--?lit$549300851$--><slot name="icon"></slot>
      <span class="label"><slot></slot></span>
      <!--?lit$549300851$-->
    
    </button>
    </template>
          <md-icon slot="icon" aria-hidden="true"><template shadowrootmode="open"><!----><slot></slot></template>add</md-icon>
          <!--?lit$549300851$-->Code
        </md-outlined-button>
        <md-outlined-button class="add-text add-button" data-aria-label="Add text cell" title="Add text cell" value="" has-icon=""><template shadowrootmode="open" shadowrootdelegatesfocus><!---->
      <!--?lit$549300851$--><div class="outline"></div>
      <div class="background"></div>
      <md-focus-ring part="focus-ring" for="button" aria-hidden="true"><template shadowrootmode="open"><!----></template></md-focus-ring>
      <md-ripple part="ripple" for="button" aria-hidden="true"><template shadowrootmode="open"><!----><div class="surface   "></div></template></md-ripple>
      <!--?lit$549300851$--><button id="button" class="button" aria-label="Add text cell">
      <!--?lit$549300851$-->
      <span class="touch"></span>
      <!--?lit$549300851$--><slot name="icon"></slot>
      <span class="label"><slot></slot></span>
      <!--?lit$549300851$-->
    
    </button>
    </template>
          <md-icon slot="icon" aria-hidden="true"><template shadowrootmode="open"><!----><slot></slot></template>add</md-icon>
          <!--?lit$549300851$-->Text
        </md-outlined-button>
        <!--?lit$549300851$-->
      </div><hr>
    </div></div><div class="cell code icon-scrolling code-has-output" id="cell-DlRmJFAV2IY3" tabindex="-1" role="region" aria-label="Cell 15: Code cell: " style="opacity: 1;"><div class="agent-focus-label">
      <md-icon aria-hidden="true"><template shadowrootmode="open"><!----><slot></slot></template>spark</md-icon>
      <!--?lit$549300851$-->Gemini
    </div><div class="cell-tag-editor sticky"></div><div class="cell-toolbar sticky"></div><div class="main-content" elevation="0"><div class="cell-contents"><div class="cell-mask"></div><span class="imported-info-area"></span><div class="codecell-input-output">
      <div class="inputarea horizontal layout code">
        <div class="cell-gutter">
          <!-- Bounding range for vertical scrolling of icons -->
          <div class="cell-execution-container">
            <colab-run-button><template shadowrootmode="open"><!----> <div class="cell-execution">
      <button id="run-button" aria-describedby="run-button-tooltip" aria-label="Run cell" aria-disabled="false">
        <!--?lit$549300851$--><span class="execution-count"><!--?lit$549300851$-->[27]</span>
        <span aria-hidden="true" class="cell-execution-indicator"><!--?lit$549300851$-->
<svg xmlns="http://www.w3.org/2000/svg" viewBox="0 0 24 24">
  <!--?lit$549300851$-->
  <mask id="playSymbolMask">
    <rect width="100%" height="100%" fill="white"></rect>
    <polygon points="10,8 17,12 10,16" fill="black"></polygon>
  </mask>
  <circle cx="12" cy="12" r="7.8" mask="url(#playSymbolMask)" id="filledCircle"></circle>
</svg></span>
      </button>
      <!--?lit$549300851$--><colab-tooltip-trigger for="run-button" id="run-button-tooltip" aria-hidden="true" message="Run cell (Ctrl+Enter)
cell executed since last change

executed by Avishkar Khandekar
9:42 AM (0 minutes ago)
executed in 0.028s"><template shadowrootmode="open"><!----><!--?lit$549300851$--><!----><div><!--?lit$549300851$-->Run cell (Ctrl+Enter)</div><!----><!----><div><!--?lit$549300851$-->cell executed since last change</div><!----><!----><br><!----><!----><div><!--?lit$549300851$-->executed by Avishkar Khandekar</div><!----><!----><div><!--?lit$549300851$-->9:42 AM (0 minutes ago)</div><!----><!----><div><!--?lit$549300851$-->executed in 0.028s</div><!----><!--?--></template>
    </colab-tooltip-trigger>
      <!--?lit$549300851$--><div id="status" class="last-run">
      <md-icon aria-hidden="true"><template shadowrootmode="open"><!----><slot></slot></template><!--?lit$549300851$--><svg viewBox="0 0 24 24"><!--?lit$549300851$--><path d="M9 16.17L4.83 12l-1.42 1.41L9 19 21 7l-1.41-1.41z"></path></svg></md-icon>
      <div><!--?lit$549300851$-->0s</div>
    </div>
    </div></template></colab-run-button>
          </div>
        </div>
      <div class="editor flex lazy-editor" style=""><pre class="lazy-virtualized" style="font-size: 14px; line-height: 19px;"><pre class="lazy-gutter"></pre><pre class="monaco-colorized colab-dark colab-dark colab-dark" data-lang="notebook-python"><span><span class="mtk1">mean_production&nbsp;=&nbsp;IMDB_df</span><span class="mtk12">[</span><span class="mtk5">'Production'</span><span class="mtk12">]</span><span class="mtk1">.mean</span><span class="mtk12">()</span></span><br><span><span class="mtk1">IMDB_df</span><span class="mtk12">[</span><span class="mtk5">'Production'</span><span class="mtk12">]</span><span class="mtk1">&nbsp;=&nbsp;IMDB_df</span><span class="mtk12">[</span><span class="mtk5">'Production'</span><span class="mtk12">]</span><span class="mtk1">.fillna</span><span class="mtk12">(</span><span class="mtk1">mean_production</span><span class="mtk12">)</span></span><br><span><span></span></span><br><span><span></span></span><br><span><span class="mtk8">#&nbsp;Group&nbsp;by&nbsp;season&nbsp;and&nbsp;find&nbsp;the&nbsp;crop&nbsp;with&nbsp;highest&nbsp;p</span><span class="mtk8">roduction</span></span><br><span><span class="mtk1">highest_production_per_season&nbsp;=&nbsp;IMDB_df.groupby</span><span class="mtk12">(</span><span class="mtk5">'Season'</span><span class="mtk12">)</span><span class="mtk1">.apply</span><span class="mtk12">(</span></span><br><span><span class="mtk1">&nbsp;&nbsp;&nbsp;&nbsp;</span><span class="mtk9">lambda</span><span class="mtk1">&nbsp;x</span><span class="mtk12">:</span><span class="mtk1">&nbsp;x.loc</span><span class="mtk12">[</span><span class="mtk1">x</span><span class="mtk12">[</span><span class="mtk5">'Production'</span><span class="mtk12">]</span><span class="mtk1">.idxmax</span><span class="mtk12">(),</span><span class="mtk1">&nbsp;</span><span class="mtk12">[</span><span class="mtk5">'Crop'</span><span class="mtk12">,</span><span class="mtk1">&nbsp;</span><span class="mtk5">'Production'</span><span class="mtk12">]]</span></span><br><span><span class="mtk12">)</span></span><br><span><span></span></span><br><span><span></span></span><br><span><span class="mtk8">#&nbsp;Print&nbsp;the&nbsp;result</span></span><br><span><span class="mtk15">print</span><span class="mtk12">(</span><span class="mtk5">"Highest&nbsp;Production&nbsp;Crop&nbsp;per&nbsp;Season:"</span><span class="mtk12">)</span></span><br><span><span class="mtk15">print</span><span class="mtk12">(</span><span class="mtk1">highest_production_per_season</span><span class="mtk12">)</span></span><br></pre><colab-read-only-cell-placeholder style="display: none;"><template shadowrootmode="open"><!----><div><!--?lit$549300851$-->Start coding or <span tabindex="0" role="button" class="link">generate</span> with AI.</div></template></colab-read-only-cell-placeholder></pre></div><colab-form class="formview vertical layout flex"><div class="widget-area vertical layout"></div></colab-form></div>
    <div class="output" aria-label="Cell 15 output" role="region"><!----> <div class="output-header"> </div>
        <div class="output-content">
          <div class="output-info"><colab-output-info><template shadowrootmode="open"><!----><md-icon-button data-aria-expanded="false" data-aria-haspopup="menu" aria-describedby="button-output-actions-tooltip" data-aria-label="Code cell output actions" id="button-output-actions" value=""><template shadowrootmode="open" shadowrootdelegatesfocus><!----><button id="button" class="icon-button  standard " aria-label="Code cell output actions" aria-haspopup="menu" aria-expanded="false">
        <!--?lit$549300851$--><md-focus-ring part="focus-ring" for="button" aria-hidden="true"><template shadowrootmode="open"><!----></template></md-focus-ring>
        <!--?lit$549300851$--><md-ripple aria-hidden="true"><template shadowrootmode="open"><!----><div class="surface   "></div></template></md-ripple>
        <!--?lit$549300851$--><span class="icon"><slot></slot></span>
        <!--?lit$549300851$-->
        <!--?lit$549300851$--><span class="touch"></span>
  </button></template>
        <md-icon aria-hidden="true"><template shadowrootmode="open"><!----><slot></slot></template><!--?lit$549300851$--><svg viewBox="0 0 24 24"><!--?lit$549300851$--><path d="m15.9 3.07c-4.32 0.0742-8.64-0.0355-13 0.0568-1.37 0.307-1.74 2.1-1.41 3.26 0.469 0.606 1.86 0.384 1.66-0.525 0.0448-0.329-0.183-0.93 0.354-0.766h13.3v1.53h1.71c0.0709-1.13 0.141-2.62-0.968-3.3-0.511-0.264-1.11-0.252-1.67-0.259zm2.94 6.84v4.87c1.62-1.62 3.24-3.24 4.87-4.87h-4.87zm0 0h-1.71v3.43l1.57 1.57c0.32-1.65 0.0556-3.34 0.135-5zm-1.71 3.43v-3.43h-3.43c1.14 1.14 2.29 2.29 3.43 3.43zm1.4 4.27h-1.71v1.48h-13.6v-1.48h-1.71c-0.0473 1.15-0.16 2.72 1.09 3.29 1.47 0.506 3.02 0.0265 4.53 0.192 3.34-0.0051 6.68 0.0336 10-0.0245 1.49-0.366 1.56-2.22 1.42-3.45zm-10.1-1.12c-0.398-0.483-0.796-0.967-1.19-1.45 0.59-0.683 1.18-1.37 1.77-2.05h-8.67v-2h8.67c-0.59-0.683-1.18-1.37-1.77-2.05 0.398-0.483 0.796-0.967 1.19-1.45 1.28 1.5 2.56 3 3.84 4.5-1.28 1.5-2.56 3-3.84 4.5z"></path></svg></md-icon>
      </md-icon-button>
      <!--?lit$549300851$--><colab-tooltip-trigger aria-hidden="true" id="button-output-actions-tooltip" for="button-output-actions" message="Code cell output actions"><template shadowrootmode="open"><!----><!--?lit$549300851$--><!----><div><!--?lit$549300851$-->Code cell output actions</div><!----><!--?--></template></colab-tooltip-trigger><!--?--></template></colab-output-info></div>
          <div class="output-iframe-container">
            <div class="output-iframe-sizer" style="min-height: 0px;"> <div><div><colab-static-output-renderer tabindex="0" role="group"><div><div class="stream output-id-1 output_text"><pre>Highest Production Crop per Season:
                       Crop    Production
Season                                   
Autumn                 Urad  6.210320e+05
Kharif            Sugarcane  1.775796e+07
Rabi         Oilseeds total  7.556300e+06
Summer                 Rice  6.992000e+05
Whole Year         Coconut   1.125000e+09
Winter                 Rice  1.365492e+06
</pre></div></div><div></div></colab-static-output-renderer></div></div></div>
          </div>
        </div></div></div><colab-cell-next-steps><template shadowrootmode="open"><!----></template></colab-cell-next-steps></div></div><div class="add-cell">
      <div class="add-cell-buttons">
        <md-outlined-button class="add-code add-button" data-aria-label="Add code cell
Ctrl+M B" title="Add code cell
Ctrl+M B" value="" has-icon=""><template shadowrootmode="open" shadowrootdelegatesfocus><!---->
      <!--?lit$549300851$--><div class="outline"></div>
      <div class="background"></div>
      <md-focus-ring part="focus-ring" for="button" aria-hidden="true"><template shadowrootmode="open"><!----></template></md-focus-ring>
      <md-ripple part="ripple" for="button" aria-hidden="true"><template shadowrootmode="open"><!----><div class="surface"></div></template></md-ripple>
      <!--?lit$549300851$--><button id="button" class="button" aria-label="Add code cell
Ctrl+M B">
      <!--?lit$549300851$-->
      <span class="touch"></span>
      <!--?lit$549300851$--><slot name="icon"></slot>
      <span class="label"><slot></slot></span>
      <!--?lit$549300851$-->
    
    </button>
    </template>
          <md-icon slot="icon" aria-hidden="true"><template shadowrootmode="open"><!----><slot></slot></template>add</md-icon>
          <!--?lit$549300851$-->Code
        </md-outlined-button>
        <md-outlined-button class="add-text add-button" data-aria-label="Add text cell" title="Add text cell" value="" has-icon=""><template shadowrootmode="open" shadowrootdelegatesfocus><!---->
      <!--?lit$549300851$--><div class="outline"></div>
      <div class="background"></div>
      <md-focus-ring part="focus-ring" for="button" aria-hidden="true"><template shadowrootmode="open"><!----></template></md-focus-ring>
      <md-ripple part="ripple" for="button" aria-hidden="true"><template shadowrootmode="open"><!----><div class="surface   "></div></template></md-ripple>
      <!--?lit$549300851$--><button id="button" class="button" aria-label="Add text cell">
      <!--?lit$549300851$-->
      <span class="touch"></span>
      <!--?lit$549300851$--><slot name="icon"></slot>
      <span class="label"><slot></slot></span>
      <!--?lit$549300851$-->
    
    </button>
    </template>
          <md-icon slot="icon" aria-hidden="true"><template shadowrootmode="open"><!----><slot></slot></template>add</md-icon>
          <!--?lit$549300851$-->Text
        </md-outlined-button>
        <!--?lit$549300851$-->
      </div><hr>
    </div></div><div class="cell code icon-scrolling code-has-output" id="cell-oStFFKjl223V" tabindex="-1" role="region" aria-label="Cell 16: Code cell: " style="opacity: 1;"><div class="agent-focus-label">
      <md-icon aria-hidden="true"><template shadowrootmode="open"><!----><slot></slot></template>spark</md-icon>
      <!--?lit$549300851$-->Gemini
    </div><div class="cell-tag-editor sticky"></div><div class="cell-toolbar sticky"></div><div class="main-content" elevation="0"><div class="cell-contents"><div class="cell-mask"></div><span class="imported-info-area"></span><div class="codecell-input-output">
      <div class="inputarea horizontal layout code">
        <div class="cell-gutter">
          <!-- Bounding range for vertical scrolling of icons -->
          <div class="cell-execution-container">
            <colab-run-button><template shadowrootmode="open"><!----> <div class="cell-execution">
      <button id="run-button" aria-describedby="run-button-tooltip" aria-label="Run cell" aria-disabled="false">
        <!--?lit$549300851$--><span class="execution-count"><!--?lit$549300851$-->[28]</span>
        <span aria-hidden="true" class="cell-execution-indicator"><!--?lit$549300851$-->
<svg xmlns="http://www.w3.org/2000/svg" viewBox="0 0 24 24">
  <!--?lit$549300851$-->
  <mask id="playSymbolMask">
    <rect width="100%" height="100%" fill="white"></rect>
    <polygon points="10,8 17,12 10,16" fill="black"></polygon>
  </mask>
  <circle cx="12" cy="12" r="7.8" mask="url(#playSymbolMask)" id="filledCircle"></circle>
</svg></span>
      </button>
      <!--?lit$549300851$--><colab-tooltip-trigger for="run-button" id="run-button-tooltip" aria-hidden="true" message="Run cell (Ctrl+Enter)
cell executed since last change

executed by Avishkar Khandekar
9:50 AM (0 minutes ago)
executed in 0.01s"><template shadowrootmode="open"><!----><!--?lit$549300851$--><!----><div><!--?lit$549300851$-->Run cell (Ctrl+Enter)</div><!----><!----><div><!--?lit$549300851$-->cell executed since last change</div><!----><!----><br><!----><!----><div><!--?lit$549300851$-->executed by Avishkar Khandekar</div><!----><!----><div><!--?lit$549300851$-->9:50 AM (0 minutes ago)</div><!----><!----><div><!--?lit$549300851$-->executed in 0.01s</div><!----><!--?--></template>
    </colab-tooltip-trigger>
      <!--?lit$549300851$--><div id="status" class="last-run">
      <md-icon aria-hidden="true"><template shadowrootmode="open"><!----><slot></slot></template><!--?lit$549300851$--><svg viewBox="0 0 24 24"><!--?lit$549300851$--><path d="M9 16.17L4.83 12l-1.42 1.41L9 19 21 7l-1.41-1.41z"></path></svg></md-icon>
      <div><!--?lit$549300851$-->0s</div>
    </div>
    </div></template></colab-run-button>
          </div>
        </div>
      <div class="editor flex lazy-editor" style=""><pre class="lazy-virtualized" style="font-size: 14px; line-height: 19px;"><pre class="lazy-gutter"></pre><pre class="monaco-colorized colab-dark colab-dark colab-dark" data-lang="notebook-python"><span><span class="mtk1">mean_production&nbsp;=&nbsp;IMDB_df</span><span class="mtk12">[</span><span class="mtk5">'Production'</span><span class="mtk12">]</span><span class="mtk1">.mean</span><span class="mtk12">()</span></span><br><span><span class="mtk1">IMDB_df</span><span class="mtk12">[</span><span class="mtk5">'Production'</span><span class="mtk12">]</span><span class="mtk1">&nbsp;=&nbsp;IMDB_df</span><span class="mtk12">[</span><span class="mtk5">'Production'</span><span class="mtk12">]</span><span class="mtk1">.fillna</span><span class="mtk12">(</span><span class="mtk1">mean_production</span><span class="mtk12">)</span></span><br><span><span></span></span><br><span><span class="mtk8">#&nbsp;Calculate&nbsp;the&nbsp;correlation</span></span><br><span><span class="mtk1">correlation&nbsp;=&nbsp;IMDB_df</span><span class="mtk12">[</span><span class="mtk5">'Area'</span><span class="mtk12">]</span><span class="mtk1">.corr</span><span class="mtk12">(</span><span class="mtk1">IMDB_df</span><span class="mtk12">[</span><span class="mtk5">'Production'</span><span class="mtk12">])</span></span><br><span><span class="mtk15">print</span><span class="mtk12">(</span><span class="mtk9">f</span><span class="mtk5">"The&nbsp;correlation&nbsp;between&nbsp;Area&nbsp;and&nbsp;Production&nbsp;is:&nbsp;</span><span class="mtk12">{</span><span class="mtk1">correlation</span><span class="mtk12">}</span><span class="mtk5">"</span><span class="mtk12">)</span></span><br></pre><colab-read-only-cell-placeholder style="display: none;"><template shadowrootmode="open"><!----><div><!--?lit$549300851$-->Start coding or <span tabindex="0" role="button" class="link">generate</span> with AI.</div></template></colab-read-only-cell-placeholder></pre></div><colab-form class="formview vertical layout flex"><div class="widget-area vertical layout"></div></colab-form></div>
    <div class="output" aria-label="Cell 16 output" role="region"><!----> <div class="output-header"> </div>
        <div class="output-content">
          <div class="output-info"><colab-output-info><template shadowrootmode="open"><!----><md-icon-button data-aria-expanded="false" data-aria-haspopup="menu" aria-describedby="button-output-actions-tooltip" data-aria-label="Code cell output actions" id="button-output-actions" value=""><template shadowrootmode="open" shadowrootdelegatesfocus><!----><button id="button" class="icon-button  standard " aria-label="Code cell output actions" aria-haspopup="menu" aria-expanded="false">
        <!--?lit$549300851$--><md-focus-ring part="focus-ring" for="button" aria-hidden="true"><template shadowrootmode="open"><!----></template></md-focus-ring>
        <!--?lit$549300851$--><md-ripple aria-hidden="true"><template shadowrootmode="open"><!----><div class="surface   "></div></template></md-ripple>
        <!--?lit$549300851$--><span class="icon"><slot></slot></span>
        <!--?lit$549300851$-->
        <!--?lit$549300851$--><span class="touch"></span>
  </button></template>
        <md-icon aria-hidden="true"><template shadowrootmode="open"><!----><slot></slot></template><!--?lit$549300851$--><svg viewBox="0 0 24 24"><!--?lit$549300851$--><path d="m15.9 3.07c-4.32 0.0742-8.64-0.0355-13 0.0568-1.37 0.307-1.74 2.1-1.41 3.26 0.469 0.606 1.86 0.384 1.66-0.525 0.0448-0.329-0.183-0.93 0.354-0.766h13.3v1.53h1.71c0.0709-1.13 0.141-2.62-0.968-3.3-0.511-0.264-1.11-0.252-1.67-0.259zm2.94 6.84v4.87c1.62-1.62 3.24-3.24 4.87-4.87h-4.87zm0 0h-1.71v3.43l1.57 1.57c0.32-1.65 0.0556-3.34 0.135-5zm-1.71 3.43v-3.43h-3.43c1.14 1.14 2.29 2.29 3.43 3.43zm1.4 4.27h-1.71v1.48h-13.6v-1.48h-1.71c-0.0473 1.15-0.16 2.72 1.09 3.29 1.47 0.506 3.02 0.0265 4.53 0.192 3.34-0.0051 6.68 0.0336 10-0.0245 1.49-0.366 1.56-2.22 1.42-3.45zm-10.1-1.12c-0.398-0.483-0.796-0.967-1.19-1.45 0.59-0.683 1.18-1.37 1.77-2.05h-8.67v-2h8.67c-0.59-0.683-1.18-1.37-1.77-2.05 0.398-0.483 0.796-0.967 1.19-1.45 1.28 1.5 2.56 3 3.84 4.5-1.28 1.5-2.56 3-3.84 4.5z"></path></svg></md-icon>
      </md-icon-button>
      <!--?lit$549300851$--><colab-tooltip-trigger aria-hidden="true" id="button-output-actions-tooltip" for="button-output-actions" message="Code cell output actions"><template shadowrootmode="open"><!----><!--?lit$549300851$--><!----><div><!--?lit$549300851$-->Code cell output actions</div><!----><!--?--></template></colab-tooltip-trigger><!--?--></template></colab-output-info></div>
          <div class="output-iframe-container">
            <div class="output-iframe-sizer" style="min-height: 0px;"> <div><div><colab-static-output-renderer tabindex="0" role="group"><div><div class="stream output-id-1 output_text"><pre>The correlation between Area and Production is: 0.04098933889499696
</pre></div></div><div></div></colab-static-output-renderer></div></div></div>
          </div>
        </div></div></div><colab-cell-next-steps><template shadowrootmode="open"><!----></template></colab-cell-next-steps></div></div><div class="add-cell">
      <div class="add-cell-buttons">
        <md-outlined-button class="add-code add-button" data-aria-label="Add code cell
Ctrl+M B" title="Add code cell
Ctrl+M B" value="" has-icon=""><template shadowrootmode="open" shadowrootdelegatesfocus><!---->
      <!--?lit$549300851$--><div class="outline"></div>
      <div class="background"></div>
      <md-focus-ring part="focus-ring" for="button" aria-hidden="true"><template shadowrootmode="open"><!----></template></md-focus-ring>
      <md-ripple part="ripple" for="button" aria-hidden="true"><template shadowrootmode="open"><!----><div class="surface"></div></template></md-ripple>
      <!--?lit$549300851$--><button id="button" class="button" aria-label="Add code cell
Ctrl+M B">
      <!--?lit$549300851$-->
      <span class="touch"></span>
      <!--?lit$549300851$--><slot name="icon"></slot>
      <span class="label"><slot></slot></span>
      <!--?lit$549300851$-->
    
    </button>
    </template>
          <md-icon slot="icon" aria-hidden="true"><template shadowrootmode="open"><!----><slot></slot></template>add</md-icon>
          <!--?lit$549300851$-->Code
        </md-outlined-button>
        <md-outlined-button class="add-text add-button" data-aria-label="Add text cell" title="Add text cell" value="" has-icon=""><template shadowrootmode="open" shadowrootdelegatesfocus><!---->
      <!--?lit$549300851$--><div class="outline"></div>
      <div class="background"></div>
      <md-focus-ring part="focus-ring" for="button" aria-hidden="true"><template shadowrootmode="open"><!----></template></md-focus-ring>
      <md-ripple part="ripple" for="button" aria-hidden="true"><template shadowrootmode="open"><!----><div class="surface"></div></template></md-ripple>
      <!--?lit$549300851$--><button id="button" class="button" aria-label="Add text cell">
      <!--?lit$549300851$-->
      <span class="touch"></span>
      <!--?lit$549300851$--><slot name="icon"></slot>
      <span class="label"><slot></slot></span>
      <!--?lit$549300851$-->
    
    </button>
    </template>
          <md-icon slot="icon" aria-hidden="true"><template shadowrootmode="open"><!----><slot></slot></template>add</md-icon>
          <!--?lit$549300851$-->Text
        </md-outlined-button>
        <!--?lit$549300851$-->
      </div><hr>
    </div></div><div class="cell code icon-scrolling code-has-output" id="cell-HxKx3En24vXm" tabindex="-1" role="region" aria-label="Cell 17: Code cell: " style="opacity: 1;"><div class="agent-focus-label">
      <md-icon aria-hidden="true"><template shadowrootmode="open"><!----><slot></slot></template>spark</md-icon>
      <!--?lit$549300851$-->Gemini
    </div><div class="cell-tag-editor sticky"></div><div class="cell-toolbar sticky"></div><div class="main-content" elevation="0"><div class="cell-contents"><div class="cell-mask"></div><span class="imported-info-area"></span><div class="codecell-input-output">
      <div class="inputarea horizontal layout code">
        <div class="cell-gutter">
          <!-- Bounding range for vertical scrolling of icons -->
          <div class="cell-execution-container">
            <colab-run-button><template shadowrootmode="open"><!----> <div class="cell-execution">
      <button id="run-button" aria-describedby="run-button-tooltip" aria-label="Run cell" aria-disabled="false">
        <!--?lit$549300851$--><span class="execution-count"><!--?lit$549300851$-->[29]</span>
        <span aria-hidden="true" class="cell-execution-indicator"><!--?lit$549300851$-->
<svg xmlns="http://www.w3.org/2000/svg" viewBox="0 0 24 24">
  <!--?lit$549300851$-->
  <mask id="playSymbolMask">
    <rect width="100%" height="100%" fill="white"></rect>
    <polygon points="10,8 17,12 10,16" fill="black"></polygon>
  </mask>
  <circle cx="12" cy="12" r="7.8" mask="url(#playSymbolMask)" id="filledCircle"></circle>
</svg></span>
      </button>
      <!--?lit$549300851$--><colab-tooltip-trigger for="run-button" id="run-button-tooltip" aria-hidden="true" message="Run cell (Ctrl+Enter)
cell executed since last change

executed by Avishkar Khandekar
9:51 AM (0 minutes ago)
executed in 0.462s"><template shadowrootmode="open"><!----><!--?lit$549300851$--><!----><div><!--?lit$549300851$-->Run cell (Ctrl+Enter)</div><!----><!----><div><!--?lit$549300851$-->cell executed since last change</div><!----><!----><br><!----><!----><div><!--?lit$549300851$-->executed by Avishkar Khandekar</div><!----><!----><div><!--?lit$549300851$-->9:51 AM (0 minutes ago)</div><!----><!----><div><!--?lit$549300851$-->executed in 0.462s</div><!----><!--?--></template>
    </colab-tooltip-trigger>
      <!--?lit$549300851$--><div id="status" class="last-run">
      <md-icon aria-hidden="true"><template shadowrootmode="open"><!----><slot></slot></template><!--?lit$549300851$--><svg viewBox="0 0 24 24"><!--?lit$549300851$--><path d="M9 16.17L4.83 12l-1.42 1.41L9 19 21 7l-1.41-1.41z"></path></svg></md-icon>
      <div><!--?lit$549300851$-->0s</div>
    </div>
    </div></template></colab-run-button>
          </div>
        </div>
      <div class="editor flex lazy-editor" style=""><pre class="lazy-virtualized" style="font-size: 14px; line-height: 19px;"><pre class="lazy-gutter"></pre><pre class="monaco-colorized colab-dark colab-dark colab-dark" data-lang="notebook-python"><span><span class="mtk1">mean_production&nbsp;=&nbsp;IMDB_df</span><span class="mtk12">[</span><span class="mtk5">'Production'</span><span class="mtk12">]</span><span class="mtk1">.mean</span><span class="mtk12">()</span></span><br><span><span class="mtk1">IMDB_df</span><span class="mtk12">[</span><span class="mtk5">'Production'</span><span class="mtk12">]</span><span class="mtk1">&nbsp;=&nbsp;IMDB_df</span><span class="mtk12">[</span><span class="mtk5">'Production'</span><span class="mtk12">]</span><span class="mtk1">.fillna</span><span class="mtk12">(</span><span class="mtk1">mean_production</span><span class="mtk12">)</span></span><br><span><span></span></span><br><span><span class="mtk8">#&nbsp;Create&nbsp;the&nbsp;scatter&nbsp;plot</span></span><br><span><span class="mtk1">plt.figure</span><span class="mtk12">(</span><span class="mtk1">figsize=</span><span class="mtk12">(</span><span class="mtk6">8</span><span class="mtk12">,</span><span class="mtk1">&nbsp;</span><span class="mtk6">6</span><span class="mtk12">))</span></span><br><span><span class="mtk1">plt.scatter</span><span class="mtk12">(</span><span class="mtk1">IMDB_df</span><span class="mtk12">[</span><span class="mtk5">'Area'</span><span class="mtk12">],</span><span class="mtk1">&nbsp;IMDB_df</span><span class="mtk12">[</span><span class="mtk5">'Production'</span><span class="mtk12">],</span><span class="mtk1">&nbsp;alpha=</span><span class="mtk6">0.5</span><span class="mtk12">)</span></span><br><span><span class="mtk1">plt.title</span><span class="mtk12">(</span><span class="mtk5">'Scatter&nbsp;Plot&nbsp;of&nbsp;Area&nbsp;vs&nbsp;Production'</span><span class="mtk12">)</span></span><br><span><span class="mtk1">plt.xlabel</span><span class="mtk12">(</span><span class="mtk5">'Area'</span><span class="mtk12">)</span></span><br><span><span class="mtk1">plt.ylabel</span><span class="mtk12">(</span><span class="mtk5">'Production'</span><span class="mtk12">)</span></span><br><span><span class="mtk1">plt.grid</span><span class="mtk12">(</span><span class="mtk9">True</span><span class="mtk12">)</span></span><br><span><span class="mtk1">plt.show</span><span class="mtk12">()</span></span><br></pre><colab-read-only-cell-placeholder style="display: none;"><template shadowrootmode="open"><!----><div><!--?lit$549300851$-->Start coding or <span tabindex="0" role="button" class="link">generate</span> with AI.</div></template></colab-read-only-cell-placeholder></pre></div><colab-form class="formview vertical layout flex"><div class="widget-area vertical layout"></div></colab-form></div>
    <div class="output" aria-label="Cell 17 output" role="region"><!----> <div class="output-header"> </div>
        <div class="output-content">
          <div class="output-info"><colab-output-info><template shadowrootmode="open"><!----><md-icon-button data-aria-expanded="false" data-aria-haspopup="menu" aria-describedby="button-output-actions-tooltip" data-aria-label="Code cell output actions" id="button-output-actions" value=""><template shadowrootmode="open" shadowrootdelegatesfocus><!----><button id="button" class="icon-button  standard " aria-label="Code cell output actions" aria-haspopup="menu" aria-expanded="false">
        <!--?lit$549300851$--><md-focus-ring part="focus-ring" for="button" aria-hidden="true"><template shadowrootmode="open"><!----></template></md-focus-ring>
        <!--?lit$549300851$--><md-ripple aria-hidden="true"><template shadowrootmode="open"><!----><div class="surface   "></div></template></md-ripple>
        <!--?lit$549300851$--><span class="icon"><slot></slot></span>
        <!--?lit$549300851$-->
        <!--?lit$549300851$--><span class="touch"></span>
  </button></template>
        <md-icon aria-hidden="true"><template shadowrootmode="open"><!----><slot></slot></template><!--?lit$549300851$--><svg viewBox="0 0 24 24"><!--?lit$549300851$--><path d="m15.9 3.07c-4.32 0.0742-8.64-0.0355-13 0.0568-1.37 0.307-1.74 2.1-1.41 3.26 0.469 0.606 1.86 0.384 1.66-0.525 0.0448-0.329-0.183-0.93 0.354-0.766h13.3v1.53h1.71c0.0709-1.13 0.141-2.62-0.968-3.3-0.511-0.264-1.11-0.252-1.67-0.259zm2.94 6.84v4.87c1.62-1.62 3.24-3.24 4.87-4.87h-4.87zm0 0h-1.71v3.43l1.57 1.57c0.32-1.65 0.0556-3.34 0.135-5zm-1.71 3.43v-3.43h-3.43c1.14 1.14 2.29 2.29 3.43 3.43zm1.4 4.27h-1.71v1.48h-13.6v-1.48h-1.71c-0.0473 1.15-0.16 2.72 1.09 3.29 1.47 0.506 3.02 0.0265 4.53 0.192 3.34-0.0051 6.68 0.0336 10-0.0245 1.49-0.366 1.56-2.22 1.42-3.45zm-10.1-1.12c-0.398-0.483-0.796-0.967-1.19-1.45 0.59-0.683 1.18-1.37 1.77-2.05h-8.67v-2h8.67c-0.59-0.683-1.18-1.37-1.77-2.05 0.398-0.483 0.796-0.967 1.19-1.45 1.28 1.5 2.56 3 3.84 4.5-1.28 1.5-2.56 3-3.84 4.5z"></path></svg></md-icon>
      </md-icon-button>
      <!--?lit$549300851$--><colab-tooltip-trigger aria-hidden="true" id="button-output-actions-tooltip" for="button-output-actions" message="Code cell output actions"><template shadowrootmode="open"><!----><!--?lit$549300851$--><!----><div><!--?lit$549300851$-->Code cell output actions</div><!----><!--?--></template></colab-tooltip-trigger><!--?--></template></colab-output-info></div>
          <div class="output-iframe-container">
            <div class="output-iframe-sizer" style="min-height: 0px;"> <div><div class="outputview" style="height: 564px;"><colab-dom-lifecycle-events style="display: none;"></colab-dom-lifecycle-events><iframe allow="accelerometer; autoplay; gyroscope; magnetometer; xr-spatial-tracking; clipboard-write" sandbox="allow-downloads allow-forms allow-pointer-lock allow-popups allow-popups-to-escape-sandbox allow-same-origin allow-scripts allow-storage-access-by-user-activation allow-modals" src="./IAS_files/outputframe(4).html" class="" style="height: 564px;"></iframe></div></div></div>
          </div>
        </div></div></div><colab-cell-next-steps><template shadowrootmode="open"><!----></template></colab-cell-next-steps></div></div><div class="add-cell">
      <div class="add-cell-buttons">
        <md-outlined-button class="add-code add-button" data-aria-label="Add code cell
Ctrl+M B" title="Add code cell
Ctrl+M B" value="" has-icon=""><template shadowrootmode="open" shadowrootdelegatesfocus><!---->
      <!--?lit$549300851$--><div class="outline"></div>
      <div class="background"></div>
      <md-focus-ring part="focus-ring" for="button" aria-hidden="true"><template shadowrootmode="open"><!----></template></md-focus-ring>
      <md-ripple part="ripple" for="button" aria-hidden="true"><template shadowrootmode="open"><!----><div class="surface   "></div></template></md-ripple>
      <!--?lit$549300851$--><button id="button" class="button" aria-label="Add code cell
Ctrl+M B">
      <!--?lit$549300851$-->
      <span class="touch"></span>
      <!--?lit$549300851$--><slot name="icon"></slot>
      <span class="label"><slot></slot></span>
      <!--?lit$549300851$-->
    
    </button>
    </template>
          <md-icon slot="icon" aria-hidden="true"><template shadowrootmode="open"><!----><slot></slot></template>add</md-icon>
          <!--?lit$549300851$-->Code
        </md-outlined-button>
        <md-outlined-button class="add-text add-button" data-aria-label="Add text cell" title="Add text cell" value="" has-icon=""><template shadowrootmode="open" shadowrootdelegatesfocus><!---->
      <!--?lit$549300851$--><div class="outline"></div>
      <div class="background"></div>
      <md-focus-ring part="focus-ring" for="button" aria-hidden="true"><template shadowrootmode="open"><!----></template></md-focus-ring>
      <md-ripple part="ripple" for="button" aria-hidden="true"><template shadowrootmode="open"><!----><div class="surface   "></div></template></md-ripple>
      <!--?lit$549300851$--><button id="button" class="button" aria-label="Add text cell">
      <!--?lit$549300851$-->
      <span class="touch"></span>
      <!--?lit$549300851$--><slot name="icon"></slot>
      <span class="label"><slot></slot></span>
      <!--?lit$549300851$-->
    
    </button>
    </template>
          <md-icon slot="icon" aria-hidden="true"><template shadowrootmode="open"><!----><slot></slot></template>add</md-icon>
          <!--?lit$549300851$-->Text
        </md-outlined-button>
        <!--?lit$549300851$-->
      </div><hr>
    </div></div><div class="cell code icon-scrolling code-has-output" id="cell-kvRcYn984yam" tabindex="-1" role="region" aria-label="Cell 18: Code cell: " style="opacity: 1;"><div class="agent-focus-label">
      <md-icon aria-hidden="true"><template shadowrootmode="open"><!----><slot></slot></template>spark</md-icon>
      <!--?lit$549300851$-->Gemini
    </div><div class="cell-tag-editor sticky"></div><div class="cell-toolbar sticky"></div><div class="main-content" elevation="0"><div class="cell-contents"><div class="cell-mask"></div><span class="imported-info-area"></span><div class="codecell-input-output">
      <div class="inputarea horizontal layout code">
        <div class="cell-gutter">
          <!-- Bounding range for vertical scrolling of icons -->
          <div class="cell-execution-container">
            <colab-run-button><template shadowrootmode="open"><!----> <div class="cell-execution">
      <button id="run-button" aria-describedby="run-button-tooltip" aria-label="Run cell" aria-disabled="false">
        <!--?lit$549300851$--><span class="execution-count"><!--?lit$549300851$-->[30]</span>
        <span aria-hidden="true" class="cell-execution-indicator"><!--?lit$549300851$-->
<svg xmlns="http://www.w3.org/2000/svg" viewBox="0 0 24 24">
  <!--?lit$549300851$-->
  <mask id="playSymbolMask">
    <rect width="100%" height="100%" fill="white"></rect>
    <polygon points="10,8 17,12 10,16" fill="black"></polygon>
  </mask>
  <circle cx="12" cy="12" r="7.8" mask="url(#playSymbolMask)" id="filledCircle"></circle>
</svg></span>
      </button>
      <!--?lit$549300851$--><colab-tooltip-trigger for="run-button" id="run-button-tooltip" aria-hidden="true" message="Run cell (Ctrl+Enter)
cell executed since last change

executed by Avishkar Khandekar
9:51 AM (16 minutes ago)
executed in 0.347s"><template shadowrootmode="open"><!----><!--?lit$549300851$--><!----><div><!--?lit$549300851$-->Run cell (Ctrl+Enter)</div><!----><!----><div><!--?lit$549300851$-->cell executed since last change</div><!----><!----><br><!----><!----><div><!--?lit$549300851$-->executed by Avishkar Khandekar</div><!----><!----><div><!--?lit$549300851$-->9:51 AM (16 minutes ago)</div><!----><!----><div><!--?lit$549300851$-->executed in 0.347s</div><!----><!--?--></template>
    </colab-tooltip-trigger>
      <!--?lit$549300851$--><div id="status" class="last-run">
      <md-icon aria-hidden="true"><template shadowrootmode="open"><!----><slot></slot></template><!--?lit$549300851$--><svg viewBox="0 0 24 24"><!--?lit$549300851$--><path d="M9 16.17L4.83 12l-1.42 1.41L9 19 21 7l-1.41-1.41z"></path></svg></md-icon>
      <div><!--?lit$549300851$-->0s</div>
    </div>
    </div></template></colab-run-button>
          </div>
        </div>
      <div class="editor flex lazy-editor" style=""><pre class="lazy-virtualized" style="font-size: 14px; line-height: 19px;"><pre class="lazy-gutter"></pre><pre class="monaco-colorized colab-dark colab-dark colab-dark colab-dark colab-dark colab-dark colab-dark" data-lang="notebook-python"><span><span class="mtk1">mean_production&nbsp;=&nbsp;IMDB_df</span><span class="mtk12">[</span><span class="mtk5">'Production'</span><span class="mtk12">]</span><span class="mtk1">.mean</span><span class="mtk12">()</span></span><br><span><span class="mtk1">IMDB_df</span><span class="mtk12">[</span><span class="mtk5">'Production'</span><span class="mtk12">]</span><span class="mtk1">&nbsp;=&nbsp;IMDB_df</span><span class="mtk12">[</span><span class="mtk5">'Production'</span><span class="mtk12">]</span><span class="mtk1">.fillna</span><span class="mtk12">(</span><span class="mtk1">mean_production</span><span class="mtk12">)</span></span><br><span><span></span></span><br><span><span class="mtk8">#&nbsp;Bin&nbsp;area&nbsp;into&nbsp;groups</span></span><br><span><span class="mtk1">bins&nbsp;=&nbsp;np.linspace</span><span class="mtk12">(</span><span class="mtk1">IMDB_df</span><span class="mtk12">[</span><span class="mtk5">'Area'</span><span class="mtk12">]</span><span class="mtk1">.</span><span class="mtk15">min</span><span class="mtk12">(),</span><span class="mtk1">&nbsp;IMDB_df</span><span class="mtk12">[</span><span class="mtk5">'Area'</span><span class="mtk12">]</span><span class="mtk1">.</span><span class="mtk15">max</span><span class="mtk12">(),</span><span class="mtk1">&nbsp;num=</span><span class="mtk6">10</span><span class="mtk12">)</span><span class="mtk1">&nbsp;</span><span class="mtk8">#&nbsp;10&nbsp;bins</span></span><br><span><span class="mtk1">IMDB_df</span><span class="mtk12">[</span><span class="mtk5">'Area_Bin'</span><span class="mtk12">]</span><span class="mtk1">&nbsp;=&nbsp;pd.cut</span><span class="mtk12">(</span><span class="mtk1">IMDB_df</span><span class="mtk12">[</span><span class="mtk5">'Area'</span><span class="mtk12">],</span><span class="mtk1">&nbsp;bins</span><span class="mtk12">,</span><span class="mtk1">&nbsp;labels=</span><span class="mtk9">False</span><span class="mtk12">,</span><span class="mtk1">&nbsp;include_lowest=</span><span class="mtk9">True</span><span class="mtk12">)</span><span class="mtk1">&nbsp;</span><span class="mtk8">#&nbsp;Create&nbsp;binned&nbsp;area&nbsp;column</span></span><br><span><span class="mtk8">#&nbsp;Group&nbsp;by&nbsp;area&nbsp;bin&nbsp;and&nbsp;find&nbsp;mean&nbsp;production</span></span><br><span><span class="mtk1">production_by_area&nbsp;=&nbsp;IMDB_df.groupby</span><span class="mtk12">(</span><span class="mtk5">'Area_Bin'</span><span class="mtk12">)[</span><span class="mtk5">'Production'</span><span class="mtk12">]</span><span class="mtk1">.mean</span><span class="mtk12">()</span></span><br><span><span></span></span><br><span><span class="mtk8">#&nbsp;Create&nbsp;bar&nbsp;plot</span></span><br><span><span class="mtk1">plt.figure</span><span class="mtk12">(</span><span class="mtk1">figsize=</span><span class="mtk12">(</span><span class="mtk6">10</span><span class="mtk12">,</span><span class="mtk1">&nbsp;</span><span class="mtk6">6</span><span class="mtk12">))</span></span><br><span><span class="mtk1">production_by_area.plot</span><span class="mtk12">(</span><span class="mtk1">kind=</span><span class="mtk5">'bar'</span><span class="mtk12">)</span></span><br><span><span class="mtk1">plt.title</span><span class="mtk12">(</span><span class="mtk5">'Average&nbsp;Production&nbsp;by&nbsp;Area&nbsp;Bin'</span><span class="mtk12">)</span></span><br><span><span class="mtk1">plt.xlabel</span><span class="mtk12">(</span><span class="mtk5">'Area&nbsp;Bin'</span><span class="mtk12">)</span></span><br><span><span class="mtk1">plt.ylabel</span><span class="mtk12">(</span><span class="mtk5">'Average&nbsp;Production'</span><span class="mtk12">)</span></span><br><span><span class="mtk1">plt.grid</span><span class="mtk12">(</span><span class="mtk1">axis=</span><span class="mtk5">'y'</span><span class="mtk12">)</span></span><br><span><span class="mtk1">plt.xticks</span><span class="mtk12">(</span><span class="mtk1">rotation=</span><span class="mtk6">45</span><span class="mtk12">,</span><span class="mtk1">&nbsp;ha=</span><span class="mtk5">'right'</span><span class="mtk12">)</span><span class="mtk1">&nbsp;</span><span class="mtk8">#&nbsp;Rotate&nbsp;x-axis&nbsp;labels&nbsp;for&nbsp;readability</span></span><br><span><span class="mtk1">plt.tight_layout</span><span class="mtk12">()</span></span><br><span><span class="mtk1">plt.show</span><span class="mtk12">()</span></span><br><span><span></span></span><br><span><span class="mtk15">print</span><span class="mtk12">(</span><span class="mtk5">"Average&nbsp;Production&nbsp;by&nbsp;Area&nbsp;Bin:"</span><span class="mtk12">)</span></span><br><span><span class="mtk15">print</span><span class="mtk12">(</span><span class="mtk1">production_by_area</span><span class="mtk12">)</span></span><br></pre><colab-read-only-cell-placeholder style="display: none;"><template shadowrootmode="open"><!----><div><!--?lit$549300851$-->Start coding or <span tabindex="0" role="button" class="link">generate</span> with AI.</div></template></colab-read-only-cell-placeholder></pre></div><colab-form class="formview vertical layout flex"><div class="widget-area vertical layout"></div></colab-form></div>
    <div class="output" aria-label="Cell 18 output" role="region"><!----> <div class="output-header"> </div>
        <div class="output-content">
          <div class="output-info"><colab-output-info><template shadowrootmode="open"><!----><md-icon-button data-aria-expanded="false" data-aria-haspopup="menu" aria-describedby="button-output-actions-tooltip" data-aria-label="Code cell output actions" id="button-output-actions" value=""><template shadowrootmode="open" shadowrootdelegatesfocus><!----><button id="button" class="icon-button  standard " aria-label="Code cell output actions" aria-haspopup="menu" aria-expanded="false">
        <!--?lit$549300851$--><md-focus-ring part="focus-ring" for="button" aria-hidden="true"><template shadowrootmode="open"><!----></template></md-focus-ring>
        <!--?lit$549300851$--><md-ripple aria-hidden="true"><template shadowrootmode="open"><!----><div class="surface"></div></template></md-ripple>
        <!--?lit$549300851$--><span class="icon"><slot></slot></span>
        <!--?lit$549300851$-->
        <!--?lit$549300851$--><span class="touch"></span>
  </button></template>
        <md-icon aria-hidden="true"><template shadowrootmode="open"><!----><slot></slot></template><!--?lit$549300851$--><svg viewBox="0 0 24 24"><!--?lit$549300851$--><path d="m15.9 3.07c-4.32 0.0742-8.64-0.0355-13 0.0568-1.37 0.307-1.74 2.1-1.41 3.26 0.469 0.606 1.86 0.384 1.66-0.525 0.0448-0.329-0.183-0.93 0.354-0.766h13.3v1.53h1.71c0.0709-1.13 0.141-2.62-0.968-3.3-0.511-0.264-1.11-0.252-1.67-0.259zm2.94 6.84v4.87c1.62-1.62 3.24-3.24 4.87-4.87h-4.87zm0 0h-1.71v3.43l1.57 1.57c0.32-1.65 0.0556-3.34 0.135-5zm-1.71 3.43v-3.43h-3.43c1.14 1.14 2.29 2.29 3.43 3.43zm1.4 4.27h-1.71v1.48h-13.6v-1.48h-1.71c-0.0473 1.15-0.16 2.72 1.09 3.29 1.47 0.506 3.02 0.0265 4.53 0.192 3.34-0.0051 6.68 0.0336 10-0.0245 1.49-0.366 1.56-2.22 1.42-3.45zm-10.1-1.12c-0.398-0.483-0.796-0.967-1.19-1.45 0.59-0.683 1.18-1.37 1.77-2.05h-8.67v-2h8.67c-0.59-0.683-1.18-1.37-1.77-2.05 0.398-0.483 0.796-0.967 1.19-1.45 1.28 1.5 2.56 3 3.84 4.5-1.28 1.5-2.56 3-3.84 4.5z"></path></svg></md-icon>
      </md-icon-button>
      <!--?lit$549300851$--><colab-tooltip-trigger aria-hidden="true" id="button-output-actions-tooltip" for="button-output-actions" message="Code cell output actions"><template shadowrootmode="open"><!----><!--?lit$549300851$--><!----><div><!--?lit$549300851$-->Code cell output actions</div><!----><!--?--></template></colab-tooltip-trigger><!--?--></template></colab-output-info></div>
          <div class="output-iframe-container">
            <div class="output-iframe-sizer" style="min-height: 0px;"> <div><div class="outputview" style="height: 674px;"><colab-dom-lifecycle-events style="display: none;"></colab-dom-lifecycle-events><iframe allow="accelerometer; autoplay; gyroscope; magnetometer; xr-spatial-tracking; clipboard-write" sandbox="allow-downloads allow-forms allow-pointer-lock allow-popups allow-popups-to-escape-sandbox allow-same-origin allow-scripts allow-storage-access-by-user-activation allow-modals" src="./IAS_files/outputframe(5).html" class="" style="height: 674px;"></iframe></div></div></div>
          </div>
        </div></div></div><colab-cell-next-steps><template shadowrootmode="open"><!----></template></colab-cell-next-steps></div></div><div class="add-cell">
      <div class="add-cell-buttons">
        <md-outlined-button class="add-code add-button" data-aria-label="Add code cell
Ctrl+M B" title="Add code cell
Ctrl+M B" value="" has-icon=""><template shadowrootmode="open" shadowrootdelegatesfocus><!---->
      <!--?lit$549300851$--><div class="outline"></div>
      <div class="background"></div>
      <md-focus-ring part="focus-ring" for="button" aria-hidden="true"><template shadowrootmode="open"><!----></template></md-focus-ring>
      <md-ripple part="ripple" for="button" aria-hidden="true"><template shadowrootmode="open"><!----><div class="surface   "></div></template></md-ripple>
      <!--?lit$549300851$--><button id="button" class="button" aria-label="Add code cell
Ctrl+M B">
      <!--?lit$549300851$-->
      <span class="touch"></span>
      <!--?lit$549300851$--><slot name="icon"></slot>
      <span class="label"><slot></slot></span>
      <!--?lit$549300851$-->
    
    </button>
    </template>
          <md-icon slot="icon" aria-hidden="true"><template shadowrootmode="open"><!----><slot></slot></template>add</md-icon>
          <!--?lit$549300851$-->Code
        </md-outlined-button>
        <md-outlined-button class="add-text add-button" data-aria-label="Add text cell" title="Add text cell" value="" has-icon=""><template shadowrootmode="open" shadowrootdelegatesfocus><!---->
      <!--?lit$549300851$--><div class="outline"></div>
      <div class="background"></div>
      <md-focus-ring part="focus-ring" for="button" aria-hidden="true"><template shadowrootmode="open"><!----></template></md-focus-ring>
      <md-ripple part="ripple" for="button" aria-hidden="true"><template shadowrootmode="open"><!----><div class="surface   "></div></template></md-ripple>
      <!--?lit$549300851$--><button id="button" class="button" aria-label="Add text cell">
      <!--?lit$549300851$-->
      <span class="touch"></span>
      <!--?lit$549300851$--><slot name="icon"></slot>
      <span class="label"><slot></slot></span>
      <!--?lit$549300851$-->
    
    </button>
    </template>
          <md-icon slot="icon" aria-hidden="true"><template shadowrootmode="open"><!----><slot></slot></template>add</md-icon>
          <!--?lit$549300851$-->Text
        </md-outlined-button>
        <!--?lit$549300851$-->
      </div><hr>
    </div></div><div class="cell code icon-scrolling focused" id="cell-7GbqZdR-43Qm" tabindex="-1" role="region" aria-label="Cell 19: Code cell: " style="opacity: 1;"><div class="agent-focus-label">
      <md-icon aria-hidden="true"><template shadowrootmode="open"><!----><slot></slot></template>spark</md-icon>
      <!--?lit$549300851$-->Gemini
    </div><div class="cell-tag-editor sticky"></div><div class="cell-toolbar sticky"><colab-cell-toolbar><template shadowrootmode="open"><!----><!--?lit$549300851$--><!----> <md-icon-button class="colab-icon" aria-describedby="button-move-cell-up-tooltip" data-aria-label="Move cell up
Ctrl+M K" command="move-cell-up" id="button-move-cell-up" value=""><template shadowrootmode="open" shadowrootdelegatesfocus><!----><button id="button" class="icon-button  standard " aria-label="Move cell up
Ctrl+M K">
        <!--?lit$549300851$--><md-focus-ring part="focus-ring" for="button" aria-hidden="true"><template shadowrootmode="open"><!----></template></md-focus-ring>
        <!--?lit$549300851$--><md-ripple aria-hidden="true"><template shadowrootmode="open"><!----><div class="surface   "></div></template></md-ripple>
        <!--?lit$549300851$--><span class="icon"><slot></slot></span>
        <!--?lit$549300851$-->
        <!--?lit$549300851$--><span class="touch"></span>
  </button></template>
        <md-icon aria-hidden="true"><template shadowrootmode="open"><!----><slot></slot></template><!--?lit$549300851$-->arrow_upward</md-icon>
        <!--?lit$549300851$-->
      </md-icon-button>
      <!--?lit$549300851$--><colab-tooltip-trigger aria-hidden="true" for="button-move-cell-up" id="button-move-cell-up-tooltip" message="Move cell up
Ctrl+M K"><template shadowrootmode="open"><!----><!--?lit$549300851$--><!----><div><!--?lit$549300851$-->Move cell up</div><!----><!----><div><!--?lit$549300851$-->Ctrl+M K</div><!----><!--?--></template>
          </colab-tooltip-trigger><!--?--><!----><!----> <md-icon-button class="colab-icon" aria-describedby="button-move-cell-down-tooltip" data-aria-label="Move cell down
Ctrl+M J" command="move-cell-down" id="button-move-cell-down" soft-disabled="" value=""><template shadowrootmode="open" shadowrootdelegatesfocus><!----><button id="button" class="icon-button  standard " aria-label="Move cell down
Ctrl+M J" aria-disabled="true">
        <!--?lit$549300851$--><md-focus-ring part="focus-ring" for="button" aria-hidden="true"><template shadowrootmode="open"><!----></template></md-focus-ring>
        <!--?lit$549300851$--><md-ripple disabled="" aria-hidden="true"><template shadowrootmode="open"><!----><div class="surface   "></div></template></md-ripple>
        <!--?lit$549300851$--><span class="icon"><slot></slot></span>
        <!--?lit$549300851$-->
        <!--?lit$549300851$--><span class="touch"></span>
  </button></template>
        <md-icon aria-hidden="true"><template shadowrootmode="open"><!----><slot></slot></template><!--?lit$549300851$-->arrow_downward</md-icon>
        <!--?lit$549300851$-->
      </md-icon-button>
      <!--?lit$549300851$--><colab-tooltip-trigger aria-hidden="true" for="button-move-cell-down" id="button-move-cell-down-tooltip" message="Move cell down
Ctrl+M J"><template shadowrootmode="open"><!----><!--?lit$549300851$--><!----><div><!--?lit$549300851$-->Move cell down</div><!----><!----><div><!--?lit$549300851$-->Ctrl+M J</div><!----><!--?--></template>
          </colab-tooltip-trigger><!--?--><!----><!----><!--?lit$549300851$--><md-menu positioning="popover" quick="" aria-labelledby="ai-menu-anchor-7GbqZdR-43Qm" anchor="ai-menu-anchor-7GbqZdR-43Qm" aria-hidden="true"><template shadowrootmode="open"><!---->
      <div class="menu   " popover="manual" style="display: none;">
        <!--?lit$549300851$--><md-elevation part="elevation" aria-hidden="true"><template shadowrootmode="open"><!----><span class="shadow"></span></template></md-elevation>
        <div class="items">
          <div class="item-padding"> <!--?lit$549300851$--><slot></slot> </div>
        </div>
      </div>
    </template>
    <!--?lit$549300851$--><!----><md-menu-item command="generate-code" md-menu-item="" tabindex="0"><template shadowrootmode="open" shadowrootdelegatesfocus><!---->
      <li id="item" tabindex="0" role="menuitem" class="list-item   "><!--?lit$549300851$-->
      <md-item><template shadowrootmode="open"><!---->
      <slot name="container"></slot>
      <slot class="non-text" name="start"></slot>
      <div class="text">
        <slot name="overline"></slot>
        <slot class="default-slot"></slot>
        <slot name="headline"></slot>
        <slot name="supporting-text"></slot>
      </div>
      <slot class="non-text" name="trailing-supporting-text"></slot>
      <slot class="non-text" name="end"></slot>
    </template>
        <div slot="container">
          <!--?lit$549300851$--> <md-ripple part="ripple" for="item" aria-hidden="true"><template shadowrootmode="open"><!----><div class="surface   "></div></template></md-ripple> <!--?lit$549300851$--> <md-focus-ring part="focus-ring" for="item" inward="" aria-hidden="true"><template shadowrootmode="open"><!----></template></md-focus-ring>
        </div>
        <slot name="start" slot="start"></slot>
        <slot name="end" slot="end"></slot>
        <!--?lit$549300851$-->
      <slot></slot>
      <slot name="overline" slot="overline"></slot>
      <slot name="headline" slot="headline"></slot>
      <slot name="supporting-text" slot="supporting-text"></slot>
      <slot name="trailing-supporting-text" slot="trailing-supporting-text"></slot>
    
      </md-item>
    </li>
    </template>
    <span slot="headline"><!--?lit$549300851$-->Generate code</span>
  </md-menu-item><!----><!----><md-menu-item command="explain-cell" md-menu-item="" tabindex="-1"><template shadowrootmode="open" shadowrootdelegatesfocus><!---->
      <li id="item" tabindex="0" role="menuitem" class="list-item   "><!--?lit$549300851$-->
      <md-item><template shadowrootmode="open"><!---->
      <slot name="container"></slot>
      <slot class="non-text" name="start"></slot>
      <div class="text">
        <slot name="overline"></slot>
        <slot class="default-slot"></slot>
        <slot name="headline"></slot>
        <slot name="supporting-text"></slot>
      </div>
      <slot class="non-text" name="trailing-supporting-text"></slot>
      <slot class="non-text" name="end"></slot>
    </template>
        <div slot="container">
          <!--?lit$549300851$--> <md-ripple part="ripple" for="item" aria-hidden="true"><template shadowrootmode="open"><!----><div class="surface   "></div></template></md-ripple> <!--?lit$549300851$--> <md-focus-ring part="focus-ring" for="item" inward="" aria-hidden="true"><template shadowrootmode="open"><!----></template></md-focus-ring>
        </div>
        <slot name="start" slot="start"></slot>
        <slot name="end" slot="end"></slot>
        <!--?lit$549300851$-->
      <slot></slot>
      <slot name="overline" slot="overline"></slot>
      <slot name="headline" slot="headline"></slot>
      <slot name="supporting-text" slot="supporting-text"></slot>
      <slot name="trailing-supporting-text" slot="trailing-supporting-text"></slot>
    
      </md-item>
    </li>
    </template>
    <span slot="headline"><!--?lit$549300851$-->Explain code</span>
  </md-menu-item><!---->
  </md-menu>
          <md-icon-button class="colab-icon" data-aria-haspopup="menu" data-aria-expanded="false" aria-describedby="ai-menu-anchor-7GbqZdR-43Qm-tooltip" data-aria-label="Available AI features" id="ai-menu-anchor-7GbqZdR-43Qm" value=""><template shadowrootmode="open" shadowrootdelegatesfocus><!----><button id="button" class="icon-button  standard " aria-label="Available AI features" aria-haspopup="menu" aria-expanded="false">
        <!--?lit$549300851$--><md-focus-ring part="focus-ring" for="button" aria-hidden="true"><template shadowrootmode="open"><!----></template></md-focus-ring>
        <!--?lit$549300851$--><md-ripple aria-hidden="true"><template shadowrootmode="open"><!----><div class="surface   "></div></template></md-ripple>
        <!--?lit$549300851$--><span class="icon"><slot></slot></span>
        <!--?lit$549300851$-->
        <!--?lit$549300851$--><span class="touch"></span>
  </button></template><md-icon aria-hidden="true"><template shadowrootmode="open"><!----><slot></slot></template>spark</md-icon>
          </md-icon-button>
          <!--?lit$549300851$--><colab-tooltip-trigger aria-hidden="true" for="ai-menu-anchor-7GbqZdR-43Qm" id="ai-menu-anchor-7GbqZdR-43Qm-tooltip" message="Available AI features"><template shadowrootmode="open"><!----><!--?lit$549300851$--><!----><div><!--?lit$549300851$-->Available AI features</div><!----><!--?--></template>
              </colab-tooltip-trigger> <!----><!----> <md-icon-button class="colab-icon" aria-describedby="button-copy-link-to-cell-tooltip" data-aria-label="Copy link to cell" command="copy-link-to-cell" id="button-copy-link-to-cell" value=""><template shadowrootmode="open" shadowrootdelegatesfocus><!----><button id="button" class="icon-button  standard " aria-label="Copy link to cell">
        <!--?lit$549300851$--><md-focus-ring part="focus-ring" for="button" aria-hidden="true"><template shadowrootmode="open"><!----></template></md-focus-ring>
        <!--?lit$549300851$--><md-ripple aria-hidden="true"><template shadowrootmode="open"><!----><div class="surface   "></div></template></md-ripple>
        <!--?lit$549300851$--><span class="icon"><slot></slot></span>
        <!--?lit$549300851$-->
        <!--?lit$549300851$--><span class="touch"></span>
  </button></template>
        <md-icon aria-hidden="true"><template shadowrootmode="open"><!----><slot></slot></template><!--?lit$549300851$-->link</md-icon>
        <!--?lit$549300851$-->
      </md-icon-button>
      <!--?lit$549300851$--><colab-tooltip-trigger aria-hidden="true" for="button-copy-link-to-cell" id="button-copy-link-to-cell-tooltip" message="Copy link to cell"><template shadowrootmode="open"><!----><!--?lit$549300851$--><!----><div><!--?lit$549300851$-->Copy link to cell</div><!----><!--?--></template>
          </colab-tooltip-trigger><!--?--><!----><!----> <md-icon-button class="colab-icon" aria-describedby="button-add-comment-tooltip" data-aria-label="Add a comment
Ctrl+Alt+M" command="add-comment" id="button-add-comment" value=""><template shadowrootmode="open" shadowrootdelegatesfocus><!----><button id="button" class="icon-button  standard " aria-label="Add a comment
Ctrl+Alt+M">
        <!--?lit$549300851$--><md-focus-ring part="focus-ring" for="button" aria-hidden="true"><template shadowrootmode="open"><!----></template></md-focus-ring>
        <!--?lit$549300851$--><md-ripple aria-hidden="true"><template shadowrootmode="open"><!----><div class="surface   "></div></template></md-ripple>
        <!--?lit$549300851$--><span class="icon"><slot></slot></span>
        <!--?lit$549300851$-->
        <!--?lit$549300851$--><span class="touch"></span>
  </button></template>
        <md-icon aria-hidden="true"><template shadowrootmode="open"><!----><slot></slot></template><!--?lit$549300851$-->comment</md-icon>
        <!--?lit$549300851$-->
      </md-icon-button>
      <!--?lit$549300851$--><colab-tooltip-trigger aria-hidden="true" for="button-add-comment" id="button-add-comment-tooltip" message="Add a comment
Ctrl+Alt+M"><template shadowrootmode="open"><!----><!--?lit$549300851$--><!----><div><!--?lit$549300851$-->Add a comment</div><!----><!----><div><!--?lit$549300851$-->Ctrl+Alt+M</div><!----><!--?--></template>
          </colab-tooltip-trigger><!--?--><!----><!----> <md-icon-button class="colab-icon" aria-describedby="button-editor-preferences-tooltip" data-aria-label="Open editor settings" command="editor-preferences" id="button-editor-preferences" value=""><template shadowrootmode="open" shadowrootdelegatesfocus><!----><button id="button" class="icon-button  standard " aria-label="Open editor settings">
        <!--?lit$549300851$--><md-focus-ring part="focus-ring" for="button" aria-hidden="true"><template shadowrootmode="open"><!----></template></md-focus-ring>
        <!--?lit$549300851$--><md-ripple aria-hidden="true"><template shadowrootmode="open"><!----><div class="surface   "></div></template></md-ripple>
        <!--?lit$549300851$--><span class="icon"><slot></slot></span>
        <!--?lit$549300851$-->
        <!--?lit$549300851$--><span class="touch"></span>
  </button></template>
        <md-icon filled="" aria-hidden="true"><template shadowrootmode="open"><!----><slot></slot></template><!--?lit$549300851$-->settings</md-icon>
        <!--?lit$549300851$-->
      </md-icon-button>
      <!--?lit$549300851$--><colab-tooltip-trigger aria-hidden="true" for="button-editor-preferences" id="button-editor-preferences-tooltip" message="Open editor settings"><template shadowrootmode="open"><!----><!--?lit$549300851$--><!----><div><!--?lit$549300851$-->Open editor settings</div><!----><!--?--></template>
          </colab-tooltip-trigger><!--?--><!----><!----> <md-icon-button class="colab-icon" aria-describedby="button-toggle-edit-markdown-tooltip" data-aria-label="Edit" command="toggle-edit-markdown" id="button-toggle-edit-markdown" toggle="" style="display: none;" value=""><template shadowrootmode="open" shadowrootdelegatesfocus><!----><button id="button" class="icon-button  standard " aria-label="Edit" aria-pressed="false">
        <!--?lit$549300851$--><md-focus-ring part="focus-ring" for="button" aria-hidden="true"><template shadowrootmode="open"><!----></template></md-focus-ring>
        <!--?lit$549300851$--><md-ripple aria-hidden="true"><template shadowrootmode="open"><!----><div class="surface   "></div></template></md-ripple>
        <!--?lit$549300851$--><span class="icon"><slot></slot></span>
        <!--?lit$549300851$-->
        <!--?lit$549300851$--><span class="touch"></span>
  </button></template>
        <md-icon aria-hidden="true"><template shadowrootmode="open"><!----><slot></slot></template><!--?lit$549300851$-->edit</md-icon>
        <!--?lit$549300851$--><md-icon slot="selected" aria-hidden="true"><template shadowrootmode="open"><!----><slot></slot></template><!--?lit$549300851$-->edit_off</md-icon>
      </md-icon-button>
      <!--?lit$549300851$--><colab-tooltip-trigger aria-hidden="true" for="button-toggle-edit-markdown" id="button-toggle-edit-markdown-tooltip" message="Edit"><template shadowrootmode="open"><!----><!--?lit$549300851$--><!----><div><!--?lit$549300851$-->Edit</div><!----><!--?--></template>
          </colab-tooltip-trigger><!--?--><!----><!----> <md-icon-button class="colab-icon" aria-describedby="button-mirror-cell-in-tab-tooltip" data-aria-label="Mirror cell in tab" command="mirror-cell-in-tab" id="button-mirror-cell-in-tab" value=""><template shadowrootmode="open" shadowrootdelegatesfocus><!----><button id="button" class="icon-button  standard " aria-label="Mirror cell in tab">
        <!--?lit$549300851$--><md-focus-ring part="focus-ring" for="button" aria-hidden="true"><template shadowrootmode="open"><!----></template></md-focus-ring>
        <!--?lit$549300851$--><md-ripple aria-hidden="true"><template shadowrootmode="open"><!----><div class="surface   "></div></template></md-ripple>
        <!--?lit$549300851$--><span class="icon"><slot></slot></span>
        <!--?lit$549300851$-->
        <!--?lit$549300851$--><span class="touch"></span>
  </button></template>
        <md-icon aria-hidden="true"><template shadowrootmode="open"><!----><slot></slot></template><!--?lit$549300851$--><svg viewBox="0 0 24 24"><!--?lit$549300851$-->
      <g id="mirror-cell">
        <path d="M4,21V7H2V21a2,2,0,0,0,2,2H18V21Z"></path>
        <path d="M6,13v2H8.6L5,18.6,6.4,20,10,16.4V19h2V13Z"></path>
        <path d="M19,1H8A2,2,0,0,0,6,3v8H8V3H19V17H14v2h5a2,2,0,0,0,2-2V3A2,2,0,0,0,19,1Z"></path>
      </g></svg></md-icon>
        <!--?lit$549300851$-->
      </md-icon-button>
      <!--?lit$549300851$--><colab-tooltip-trigger aria-hidden="true" for="button-mirror-cell-in-tab" id="button-mirror-cell-in-tab-tooltip" message="Mirror cell in tab"><template shadowrootmode="open"><!----><!--?lit$549300851$--><!----><div><!--?lit$549300851$-->Mirror cell in tab</div><!----><!--?--></template>
          </colab-tooltip-trigger><!--?--><!----><!----> <md-icon-button class="colab-icon" aria-describedby="button-delete-cell-or-selection-tooltip" data-aria-label="Delete cell
Ctrl+M D" command="delete-cell-or-selection" id="button-delete-cell-or-selection" value=""><template shadowrootmode="open" shadowrootdelegatesfocus><!----><button id="button" class="icon-button  standard " aria-label="Delete cell
Ctrl+M D">
        <!--?lit$549300851$--><md-focus-ring part="focus-ring" for="button" aria-hidden="true"><template shadowrootmode="open"><!----></template></md-focus-ring>
        <!--?lit$549300851$--><md-ripple aria-hidden="true"><template shadowrootmode="open"><!----><div class="surface   "></div></template></md-ripple>
        <!--?lit$549300851$--><span class="icon"><slot></slot></span>
        <!--?lit$549300851$-->
        <!--?lit$549300851$--><span class="touch"></span>
  </button></template>
        <md-icon aria-hidden="true"><template shadowrootmode="open"><!----><slot></slot></template><!--?lit$549300851$-->delete</md-icon>
        <!--?lit$549300851$-->
      </md-icon-button>
      <!--?lit$549300851$--><colab-tooltip-trigger aria-hidden="true" for="button-delete-cell-or-selection" id="button-delete-cell-or-selection-tooltip" message="Delete cell
Ctrl+M D"><template shadowrootmode="open"><!----><!--?lit$549300851$--><!----><div><!--?lit$549300851$-->Delete cell</div><!----><!----><div><!--?lit$549300851$-->Ctrl+M D</div><!----><!--?--></template>
          </colab-tooltip-trigger><!--?--><!----><!--?lit$549300851$--><md-icon-button data-aria-expanded="false" data-aria-haspopup="menu" aria-describedby="button-more-actions-tooltip" data-aria-label="More cell actions" class="colab-icon cell-toolbar-more" id="button-more-actions" value=""><template shadowrootmode="open" shadowrootdelegatesfocus><!----><button id="button" class="icon-button  standard " aria-label="More cell actions" aria-haspopup="menu" aria-expanded="false">
        <!--?lit$549300851$--><md-focus-ring part="focus-ring" for="button" aria-hidden="true"><template shadowrootmode="open"><!----></template></md-focus-ring>
        <!--?lit$549300851$--><md-ripple aria-hidden="true"><template shadowrootmode="open"><!----><div class="surface   "></div></template></md-ripple>
        <!--?lit$549300851$--><span class="icon"><slot></slot></span>
        <!--?lit$549300851$-->
        <!--?lit$549300851$--><span class="touch"></span>
  </button></template><md-icon aria-hidden="true"><template shadowrootmode="open"><!----><slot></slot></template>more_vert</md-icon>
      </md-icon-button>
      <!--?lit$549300851$--><colab-tooltip-trigger aria-hidden="true" for="button-more-actions" id="button-more-actions-tooltip" message="More cell actions"><template shadowrootmode="open"><!----><!--?lit$549300851$--><!----><div><!--?lit$549300851$-->More cell actions</div><!----><!--?--></template>
          </colab-tooltip-trigger><!--?--><!--?--></template></colab-cell-toolbar></div><div class="main-content" elevation="2"><div class="cell-contents"><div class="cell-mask"></div><span class="imported-info-area"></span><div class="codecell-input-output">
      <div class="inputarea horizontal layout code">
        <div class="cell-gutter">
          <!-- Bounding range for vertical scrolling of icons -->
          <div class="cell-execution-container">
            <colab-run-button><template shadowrootmode="open"><!----> <div class="cell-execution focused stale">
      <button id="run-button" aria-describedby="run-button-tooltip" aria-label="Run cell" aria-disabled="false">
        <!--?lit$549300851$--><span class="execution-count"><!--?lit$549300851$-->[ ]</span>
        <span aria-hidden="true" class="cell-execution-indicator"><!--?lit$549300851$-->
<svg xmlns="http://www.w3.org/2000/svg" viewBox="0 0 24 24">
  <!--?lit$549300851$-->
  <mask id="playSymbolMask">
    <rect width="100%" height="100%" fill="white"></rect>
    <polygon points="10,8 17,12 10,16" fill="black"></polygon>
  </mask>
  <circle cx="12" cy="12" r="7.8" mask="url(#playSymbolMask)" id="filledCircle"></circle>
</svg></span>
      </button>
      <!--?lit$549300851$--><colab-tooltip-trigger for="run-button" id="run-button-tooltip" aria-hidden="true" message="Run cell (Ctrl+Enter)
cell has not been executed in this session"><template shadowrootmode="open"><!----><!--?lit$549300851$--><!----><div><!--?lit$549300851$-->Run cell (Ctrl+Enter)</div><!----><!----><div><!--?lit$549300851$-->cell has not been executed in this session</div><!----><!--?--></template>
    </colab-tooltip-trigger>
      <!--?lit$549300851$--><!--?-->
    </div></template></colab-run-button>
          </div>
        </div>
      <div class="editor flex lazy-editor" style=""><div class="editor flex monaco" data-keybinding-context="90" data-mode-id="notebook-python" style="height: 29px; --vscode-editorCodeLens-lineHeight: 16px; --vscode-editorCodeLens-fontSize: 12px; --vscode-editorCodeLens-fontFeatureSettings: &quot;liga&quot; off, &quot;calt&quot; off;"><div class="monaco-editor no-user-select  showUnused showDeprecated vs-dark" role="code" data-uri="inmemory://model/22" style="width: 896px; height: 29px;"><div data-mprt="3" class="overflow-guard" style="width: 896px; height: 29px; overflow: clip;"><div class="margin" role="presentation" aria-hidden="true" style="position: absolute; contain: strict; will-change: unset; top: 0px; height: 29px; width: 6px;"><div class="glyph-margin" style="left: 0px; width: 0px; height: 29px;"></div><div class="margin-view-zones" role="presentation" aria-hidden="true" style="position: absolute;"></div><div class="margin-view-overlays" role="presentation" aria-hidden="true" style="position: absolute; font-family: monospace, Consolas, &quot;Courier New&quot;, monospace; font-weight: normal; font-size: 14px; font-feature-settings: &quot;liga&quot; 0, &quot;calt&quot; 0; font-variation-settings: normal; line-height: 19px; letter-spacing: 0px; width: 6px; height: 29px;"><div style="position:absolute;top:0px;width:100%;height:19px;"><div class="current-line current-line-margin-both" style="width:6px; height:19px;"></div></div></div><div class="glyph-margin-widgets" style="position: absolute; top: 0px;"></div></div><div class="monaco-scrollable-element editor-scrollable vs-dark" role="presentation" data-mprt="5" style="position: absolute; overflow: hidden; left: 6px; width: 890px; height: 29px;"><div class="lines-content monaco-editor-background" style="position: absolute; overflow: hidden; width: 1e+06px; height: 29px; contain: strict; will-change: unset; top: 0px; left: 0px;"><div class="view-overlays" role="presentation" aria-hidden="true" style="position: absolute; font-family: monospace, Consolas, &quot;Courier New&quot;, monospace; font-weight: normal; font-size: 14px; font-feature-settings: &quot;liga&quot; 0, &quot;calt&quot; 0; font-variation-settings: normal; line-height: 19px; letter-spacing: 0px; height: 0px; width: 890px;"><div style="position:absolute;top:0px;width:100%;height:19px;"><div class="current-line" style="width:890px; height:19px;"></div></div></div><div role="presentation" aria-hidden="true" class="view-rulers"></div><div class="view-zones" role="presentation" aria-hidden="true" style="position: absolute;"></div><div class="view-lines monaco-mouse-cursor-text" role="presentation" aria-hidden="true" data-mprt="7" style="position: absolute; font-family: monospace, Consolas, &quot;Courier New&quot;, monospace; font-weight: normal; font-size: 14px; font-feature-settings: &quot;liga&quot; 0, &quot;calt&quot; 0; font-variation-settings: normal; line-height: 19px; letter-spacing: 0px; width: 890px; height: 29px;"><div style="top:0px;height:19px;" class="view-line"><span><span></span></span></div></div><div data-mprt="1" class="contentWidgets" style="position: absolute; top: 0px;"><colab-cell-placeholder widgetid="editor.widget.cellPlaceholderHint" monaco-visible-content-widget="true" style="font-family: monospace, Consolas, &quot;Courier New&quot;, monospace; font-weight: normal; font-size: 14px; font-feature-settings: &quot;liga&quot; 0, &quot;calt&quot; 0; font-variation-settings: normal; line-height: 19px; letter-spacing: 0px; position: absolute; display: block; visibility: inherit; max-width: 890px; top: 0px; left: 0px;"><template shadowrootmode="open"><!----><div><!--?lit$549300851$-->Start coding or <span tabindex="0" role="button" class="link">generate</span> with AI.</div></template></colab-cell-placeholder></div><div role="presentation" aria-hidden="true" class="cursors-layer cursor-line-style cursor-solid"><div class="cursor monaco-mouse-cursor-text " style="height: 19px; top: 0px; left: 0px; font-family: monospace, Consolas, &quot;Courier New&quot;, monospace; font-weight: normal; font-size: 14px; font-feature-settings: &quot;liga&quot; 0, &quot;calt&quot; 0; font-variation-settings: normal; line-height: 19px; letter-spacing: 0px; display: block; visibility: hidden; padding-left: 0px; width: 2px;"></div></div></div><div role="presentation" aria-hidden="true" class="invisible scrollbar horizontal" style="position: absolute; width: 876px; height: 10px; left: 0px; bottom: 0px;"><div class="slider" style="position: absolute; top: 0px; left: 0px; height: 10px; transform: translate3d(0px, 0px, 0px); contain: strict; will-change: unset; width: 876px;"></div></div><canvas class="decorationsOverviewRuler" aria-hidden="true" width="14" height="29" style="position: absolute; transform: translate3d(0px, 0px, 0px); contain: strict; top: 0px; right: 0px; width: 14px; height: 29px; will-change: unset; display: block;"></canvas><div role="presentation" aria-hidden="true" class="invisible scrollbar vertical" style="position: absolute; width: 14px; height: 29px; right: 0px; top: 0px;"><div class="slider" style="position: absolute; top: 0px; left: 0px; width: 14px; transform: translate3d(0px, 0px, 0px); contain: strict; will-change: unset; height: 29px;"></div></div></div><div role="presentation" aria-hidden="true" style="width: 896px;"></div><textarea data-mprt="6" class="inputarea monaco-mouse-cursor-text" wrap="on" autocorrect="off" autocapitalize="off" autocomplete="off" spellcheck="false" aria-label="Editor content;Press Alt+F1 for Accessibility Options." tabindex="0" role="textbox" aria-roledescription="editor" aria-multiline="true" aria-haspopup="false" aria-autocomplete="both" style="tab-size: 15.3984px; font-family: monospace, Consolas, &quot;Courier New&quot;, monospace; font-weight: normal; font-size: 14px; font-feature-settings: &quot;liga&quot; 0, &quot;calt&quot; 0; font-variation-settings: normal; line-height: 19px; letter-spacing: 0px; top: 0px; left: 6px; width: 76992px; height: 1px;"></textarea><div class="monaco-editor-background textAreaCover" style="position: absolute; top: 0px; left: 0px; width: 0px; height: 0px;"></div><div data-mprt="4" class="overlayWidgets" style="width: 896px;"></div><div data-mprt="8" class="minimap slider-mouseover" role="presentation" aria-hidden="true" style="position: absolute; left: 0px; width: 0px; height: 29px;"><div class="minimap-shadow-hidden" style="height: 29px;"></div><canvas width="0" height="29" style="position: absolute; left: 0px; width: 0px; height: 29px;"></canvas><canvas class="minimap-decorations-layer" width="0" height="29" style="position: absolute; left: 0px; width: 0px; height: 29px;"></canvas><div class="minimap-slider" style="position: absolute; transform: translate3d(0px, 0px, 0px); contain: strict; width: 0px; will-change: unset;"><div class="minimap-slider-horizontal" style="position: absolute; width: 0px; height: 0px;"></div></div></div><div role="presentation" aria-hidden="true" class="blockDecorations-container"></div></div><div data-mprt="2" class="overflowingContentWidgets" style="display: none;"><div widgetid="editor.contrib.resizableContentHoverWidget" style="position: fixed; height: 10px; width: 10px; z-index: 50; display: none; visibility: hidden; max-width: 1600px;"><div class="monaco-sash vertical" style="left: 8px;"></div><div class="monaco-sash vertical" style="left: -2px;"></div><div class="monaco-sash orthogonal-edge-north horizontal" style="top: -2px;"><div class="orthogonal-drag-handle start"></div><div class="orthogonal-drag-handle end"></div></div><div class="monaco-sash orthogonal-edge-south horizontal" style="top: 8px;"><div class="orthogonal-drag-handle start"></div><div class="orthogonal-drag-handle end"></div></div><div class="monaco-hover hidden" tabindex="0" role="tooltip"><div class="monaco-scrollable-element " role="presentation" style="position: relative; overflow: hidden;"><div class="monaco-hover-content" style="overflow: hidden; font-size: 14px; line-height: 1.35714; max-width: 591.36px; max-height: 250px;"></div><div role="presentation" aria-hidden="true" class="invisible scrollbar horizontal" style="position: absolute;"><div class="slider" style="position: absolute; top: 0px; left: 0px; height: 10px; transform: translate3d(0px, 0px, 0px); contain: strict;"></div></div><div role="presentation" aria-hidden="true" class="invisible scrollbar vertical" style="position: absolute;"><div class="slider" style="position: absolute; top: 0px; left: 0px; width: 10px; transform: translate3d(0px, 0px, 0px); contain: strict;"></div></div><div class="shadow"></div><div class="shadow"></div><div class="shadow"></div></div></div></div></div><div class=".in-cell-overflowing"><div widgetid="editor.contrib.quickInputWidget" style="position: absolute; top: 0px; right: 50%;"></div></div></div></div></div><colab-form class="formview vertical layout flex"><div class="widget-area vertical layout"></div></colab-form></div>
    <div class="output" aria-label="Cell 19 output" role="region"><!----> <div class="output-header"> </div>
        <div class="output-content" hidden="">
          <div class="output-info"> </div>
          <div class="output-iframe-container" hidden="">
            <div class="output-iframe-sizer"> <div><div></div></div></div>
          </div>
        </div></div></div><colab-cell-next-steps><template shadowrootmode="open"><!----></template></colab-cell-next-steps></div></div><div class="add-cell">
      <div class="add-cell-buttons">
        <md-outlined-button class="add-code add-button" data-aria-label="Add code cell
Ctrl+M B" title="Add code cell
Ctrl+M B" value="" has-icon=""><template shadowrootmode="open" shadowrootdelegatesfocus><!---->
      <!--?lit$549300851$--><div class="outline"></div>
      <div class="background"></div>
      <md-focus-ring part="focus-ring" for="button" aria-hidden="true"><template shadowrootmode="open"><!----></template></md-focus-ring>
      <md-ripple part="ripple" for="button" aria-hidden="true"><template shadowrootmode="open"><!----><div class="surface   "></div></template></md-ripple>
      <!--?lit$549300851$--><button id="button" class="button" aria-label="Add code cell
Ctrl+M B">
      <!--?lit$549300851$-->
      <span class="touch"></span>
      <!--?lit$549300851$--><slot name="icon"></slot>
      <span class="label"><slot></slot></span>
      <!--?lit$549300851$-->
    
    </button>
    </template>
          <md-icon slot="icon" aria-hidden="true"><template shadowrootmode="open"><!----><slot></slot></template>add</md-icon>
          <!--?lit$549300851$-->Code
        </md-outlined-button>
        <md-outlined-button class="add-text add-button" data-aria-label="Add text cell" title="Add text cell" value="" has-icon=""><template shadowrootmode="open" shadowrootdelegatesfocus><!---->
      <!--?lit$549300851$--><div class="outline"></div>
      <div class="background"></div>
      <md-focus-ring part="focus-ring" for="button" aria-hidden="true"><template shadowrootmode="open"><!----></template></md-focus-ring>
      <md-ripple part="ripple" for="button" aria-hidden="true"><template shadowrootmode="open"><!----><div class="surface   "></div></template></md-ripple>
      <!--?lit$549300851$--><button id="button" class="button" aria-label="Add text cell">
      <!--?lit$549300851$-->
      <span class="touch"></span>
      <!--?lit$549300851$--><slot name="icon"></slot>
      <span class="label"><slot></slot></span>
      <!--?lit$549300851$-->
    
    </button>
    </template>
          <md-icon slot="icon" aria-hidden="true"><template shadowrootmode="open"><!----><slot></slot></template>add</md-icon>
          <!--?lit$549300851$-->Text
        </md-outlined-button>
        <!--?lit$549300851$-->
      </div><hr>
    </div></div></div>
              </div>
            </div>
          <section class="sidebar" aria-label="Comments" style="display: none;"></section></div>
          <!--?lit$549300851$--> <div class="footer-links">
      <a target="_blank" href="https://colab.research.google.com/signup?utm_source=footer&amp;utm_medium=link&amp;utm_campaign=footer_links">
        <!--?lit$549300851$-->Colab paid products
      </a>
      -
      <a href="https://colab.research.google.com/cancel-subscription" target="_blank">
        <!--?lit$549300851$-->Cancel contracts here
      </a>
    </div>
        </div>
      </colab-shaded-scroller>
      <div class="notebook-scroll-shadow" style="box-shadow: rgba(0, 0, 0, 0.15) 0px 4px 4px -2px inset;"></div>
    </div></colab-tab></div>
  </div></colab-tab-pane>
      <colab-resizer style="height: 33.3%" class="sn-resize no-tabs"><div class="resizer-thumb"></div>
        <!--?lit$549300851$--><colab-tab-pane class="layout vertical grow no-tabs" align="horizontal"><!----> <div class="layout vertical grow">
    <div class="tab-pane-header layout horizontal noshrink">
      <md-tabs><template shadowrootmode="open"><!---->
      <div class="tabs">
        <slot></slot>
      </div>
      <md-divider part="divider"><template shadowrootmode="open"><!----></template></md-divider>
    </template></md-tabs>
      <div class="layout grow"></div>
      <!--?lit$549300851$--> <md-icon-button data-aria-expanded="false" data-aria-haspopup="menu" title="More tab actions" data-aria-label="More tab actions" value=""><template shadowrootmode="open" shadowrootdelegatesfocus><!----><button id="button" class="icon-button  standard " aria-label="More tab actions" aria-haspopup="menu" aria-expanded="false">
        <!--?lit$549300851$--><md-focus-ring part="focus-ring" for="button" aria-hidden="true"><template shadowrootmode="open"><!----></template></md-focus-ring>
        <!--?lit$549300851$--><md-ripple aria-hidden="true"><template shadowrootmode="open"><!----><div class="surface   "></div></template></md-ripple>
        <!--?lit$549300851$--><span class="icon"><slot></slot></span>
        <!--?lit$549300851$-->
        <!--?lit$549300851$--><span class="touch"></span>
  </button></template>
    <md-icon aria-hidden="true"><template shadowrootmode="open"><!----><slot></slot></template>more_horiz</md-icon>
  </md-icon-button>
    </div>
    <div class="layout vertical grow tab-pane-container"> </div>
  </div></colab-tab-pane>
      </colab-resizer>
    </div>
      <colab-resizer style="width: 37%" class="we-resize"><div class="resizer-thumb"></div>
        <!--?lit$549300851$--> <div class="layout vertical tab-pane-parent">
      <!--?lit$549300851$--><colab-tab-pane class="layout vertical grow focused" align="horizontal"><!----> <div class="layout vertical grow">
    <div class="tab-pane-header layout horizontal noshrink">
      <md-tabs><template shadowrootmode="open"><!---->
      <div class="tabs">
        <slot></slot>
      </div>
      <md-divider part="divider"><template shadowrootmode="open"><!----></template></md-divider>
    </template><md-primary-tab noink="" aria-labelledby="tab-title-DFBLE4-ZuKEe" draggable="true" tabindex="-1" class="" md-tab=""><template shadowrootmode="open"><!----><div class="button" role="presentation">
      <md-focus-ring part="focus-ring" inward="" aria-hidden="true"><template shadowrootmode="open"><!----></template></md-focus-ring>
      <md-elevation part="elevation" aria-hidden="true"><template shadowrootmode="open"><!----><span class="shadow"></span></template></md-elevation>
      <md-ripple aria-hidden="true"><template shadowrootmode="open"><!----><div class="surface"></div></template></md-ripple>
      <div role="presentation" class="content  has-label stacked ">
        <slot name="icon"></slot>
        <slot></slot>
        <!--?lit$549300851$--><div class="indicator"></div>
      </div>
      <!--?lit$549300851$-->
    </div></template>
          <div class="colab-tab-header">
            <span class="colab-tab-title" id="tab-title-DFBLE4-ZuKEe"><!--?lit$549300851$--><!--?lit$549300851$-->Gemini<!--?--></span>
            <!--?lit$549300851$--><md-icon-button class="tab-close" data-aria-label="Close" title="Close" value=""><template shadowrootmode="open" shadowrootdelegatesfocus><!----><button id="button" class="icon-button  standard " aria-label="Close">
        <!--?lit$549300851$--><md-focus-ring part="focus-ring" for="button" aria-hidden="true"><template shadowrootmode="open"><!----></template></md-focus-ring>
        <!--?lit$549300851$--><md-ripple aria-hidden="true"><template shadowrootmode="open"><!----><div class="surface   "></div></template></md-ripple>
        <!--?lit$549300851$--><span class="icon"><slot></slot></span>
        <!--?lit$549300851$-->
        <!--?lit$549300851$--><span class="touch"></span>
  </button></template><md-icon aria-hidden="true"><template shadowrootmode="open"><!----><slot></slot></template>close</md-icon></md-icon-button>
          </div>
        </md-primary-tab><md-primary-tab noink="" aria-labelledby="tab-title-9r5sMPx-u1S3" draggable="true" tabindex="-1" md-tab="" class=""><template shadowrootmode="open"><!----><div class="button" role="presentation">
      <md-focus-ring part="focus-ring" inward="" aria-hidden="true"><template shadowrootmode="open"><!----></template></md-focus-ring>
      <md-elevation part="elevation" aria-hidden="true"><template shadowrootmode="open"><!----><span class="shadow"></span></template></md-elevation>
      <md-ripple aria-hidden="true"><template shadowrootmode="open"><!----><div class="surface"></div></template></md-ripple>
      <div role="presentation" class="content  has-label stacked ">
        <slot name="icon"></slot>
        <slot></slot>
        <!--?lit$549300851$--><div class="indicator"></div>
      </div>
      <!--?lit$549300851$-->
    </div></template>
          <div class="colab-tab-header">
            <span class="colab-tab-title" id="tab-title-9r5sMPx-u1S3"><!--?lit$549300851$--><!--?lit$549300851$-->KeyError<!--?--></span>
            <!--?lit$549300851$--><md-icon-button class="tab-close" data-aria-label="Close" title="Close" value=""><template shadowrootmode="open" shadowrootdelegatesfocus><!----><button id="button" class="icon-button  standard " aria-label="Close">
        <!--?lit$549300851$--><md-focus-ring part="focus-ring" for="button" aria-hidden="true"><template shadowrootmode="open"><!----></template></md-focus-ring>
        <!--?lit$549300851$--><md-ripple aria-hidden="true"><template shadowrootmode="open"><!----><div class="surface"></div></template></md-ripple>
        <!--?lit$549300851$--><span class="icon"><slot></slot></span>
        <!--?lit$549300851$-->
        <!--?lit$549300851$--><span class="touch"></span>
  </button></template><md-icon aria-hidden="true"><template shadowrootmode="open"><!----><slot></slot></template>close</md-icon></md-icon-button>
          </div>
        </md-primary-tab><md-primary-tab noink="" aria-labelledby="tab-title-SjFzMju6vIK3" draggable="true" tabindex="0" md-tab="" class="selected-tab" active=""><template shadowrootmode="open"><!----><div class="button" role="presentation">
      <md-focus-ring part="focus-ring" inward="" aria-hidden="true"><template shadowrootmode="open"><!----></template></md-focus-ring>
      <md-elevation part="elevation" aria-hidden="true"><template shadowrootmode="open"><!----><span class="shadow"></span></template></md-elevation>
      <md-ripple aria-hidden="true"><template shadowrootmode="open"><!----><div class="surface"></div></template></md-ripple>
      <div role="presentation" class="content  has-label stacked ">
        <slot name="icon"></slot>
        <slot></slot>
        <!--?lit$549300851$--><div class="indicator"></div>
      </div>
      <!--?lit$549300851$-->
    </div></template>
          <div class="colab-tab-header">
            <span class="colab-tab-title" id="tab-title-SjFzMju6vIK3"><!--?lit$549300851$--><!--?lit$549300851$-->KeyError<!--?--></span>
            <!--?lit$549300851$--><md-icon-button class="tab-close" data-aria-label="Close" title="Close" value=""><template shadowrootmode="open" shadowrootdelegatesfocus><!----><button id="button" class="icon-button  standard " aria-label="Close">
        <!--?lit$549300851$--><md-focus-ring part="focus-ring" for="button" aria-hidden="true"><template shadowrootmode="open"><!----></template></md-focus-ring>
        <!--?lit$549300851$--><md-ripple aria-hidden="true"><template shadowrootmode="open"><!----><div class="surface"></div></template></md-ripple>
        <!--?lit$549300851$--><span class="icon"><slot></slot></span>
        <!--?lit$549300851$-->
        <!--?lit$549300851$--><span class="touch"></span>
  </button></template><md-icon aria-hidden="true"><template shadowrootmode="open"><!----><slot></slot></template>close</md-icon></md-icon-button>
          </div>
        </md-primary-tab></md-tabs>
      <div class="layout grow"></div>
      <!--?lit$549300851$--> <md-icon-button data-aria-expanded="false" data-aria-haspopup="menu" title="More tab actions" data-aria-label="More tab actions" value=""><template shadowrootmode="open" shadowrootdelegatesfocus><!----><button id="button" class="icon-button  standard " aria-label="More tab actions" aria-haspopup="menu" aria-expanded="false">
        <!--?lit$549300851$--><md-focus-ring part="focus-ring" for="button" aria-hidden="true"><template shadowrootmode="open"><!----></template></md-focus-ring>
        <!--?lit$549300851$--><md-ripple aria-hidden="true"><template shadowrootmode="open"><!----><div class="surface"></div></template></md-ripple>
        <!--?lit$549300851$--><span class="icon"><slot></slot></span>
        <!--?lit$549300851$-->
        <!--?lit$549300851$--><span class="touch"></span>
  </button></template>
    <md-icon aria-hidden="true"><template shadowrootmode="open"><!----><slot></slot></template>more_horiz</md-icon>
  </md-icon-button>
    </div>
    <div class="layout vertical grow tab-pane-container"> <colab-tab class="layout vertical grow"><colab-aida-converse><template shadowrootmode="open"><!---->
      <!--?lit$549300851$--><slot></slot>
      <div class="footer">
        <!--?lit$549300851$-->
        <!--?lit$549300851$-->
        <!--?lit$549300851$--><div class="input-wrapper">
        <div class="input-wrapper-inner" data-value="">
          <md-outlined-text-field type="textarea" rows="1" maxlength="2000" placeholder="Enter a prompt here" data-aria-disabled="false" inputmode="" autocomplete=""><template shadowrootmode="open" shadowrootdelegatesfocus><!---->
      <span class="text-field  textarea ">
        <!--?lit$549300851$--><md-outlined-field class="field" count="0" error-text="" label="" max="2000" resizable="" supporting-text=""><template shadowrootmode="open"><!---->
      <div class="field resizable no-label">
        <div class="container-overflow">
          <!--?lit$549300851$-->
          <slot name="container"></slot>
          <!--?lit$549300851$--> <!--?lit$549300851$--> <!--?lit$549300851$-->
      <div class="outline">
        <div class="outline-start"></div>
        <div class="outline-notch">
          <div class="outline-panel-inactive"></div>
          <div class="outline-panel-active"></div>
          <div class="outline-label"><!--?lit$549300851$--></div>
        </div>
        <div class="outline-end"></div>
      </div>
    
          <div class="container">
            <div class="start">
              <slot name="start"></slot>
            </div>
            <div class="middle">
              <div class="label-wrapper">
                <!--?lit$549300851$--> <!--?lit$549300851$-->
              </div>
              <div class="content">
                <slot></slot>
              </div>
            </div>
            <div class="end">
              <slot name="end"></slot>
            </div>
          </div>
        </div>
        <!--?lit$549300851$-->
      <div class="supporting-text"><!--?lit$549300851$--><span><!--?lit$549300851$--></span><!--?lit$549300851$--><span class="counter"><!--?lit$549300851$-->0 / 2000</span></div>
      <slot name="aria-describedby"></slot>
    
      </div>
    </template>
      <!--?lit$549300851$-->
      <span class="icon leading" slot="start">
        <slot name="leading-icon"></slot>
      </span>
    
      <!--?lit$549300851$-->
        <textarea class="input" aria-describedby="description" aria-invalid="false" maxlength="2000" placeholder="Enter a prompt here" rows="1" cols="20"></textarea>
      
      <!--?lit$549300851$-->
      <span class="icon trailing" slot="end">
        <slot name="trailing-icon"></slot>
      </span>
    
      <div id="description" slot="aria-describedby" hidden=""><!----><!--?lit$549300851$--> <!--?lit$549300851$-->0 / 2000<!--?--></div>
      <slot name="container" slot="container"></slot>
    </md-outlined-field>
      </span>
    </template>
          </md-outlined-text-field>
        </div>
        <!--?lit$549300851$--><div class="input-actions">
      <!--?lit$549300851$-->
      <!--?lit$549300851$-->
    
      <div class="input-buttons">
        <!--?lit$549300851$--> <!--?lit$549300851$-->
      </div>
    </div>
      </div>
      <div aria-hidden="true" class="input-counter">
        <!--?lit$549300851$-->0 / 2000
      </div>
      </div>
      <div class="disclaimer"> <!--?lit$549300851$--> <!--?lit$549300851$-->Responses may display inaccurate or offensive information that doesn't
represent Google's views.
  <a href="https://policies.google.com/terms/generative-ai" target="_blank">
    <!--?lit$549300851$-->Learn more</a> </div>
    </template><colab-aida-conversation class="colab-styled-scroller"><template shadowrootmode="open"><!----><slot></slot><!--?lit$549300851$--><!--?--><!--?--></template><div><!----><!----><colab-aida-message><template shadowrootmode="open"><!----><!--?lit$549300851$--><div class="avatar"><img src="https://lh3.googleusercontent.com/a/ACg8ocKTGWtS9HqaYTzHtUWt2uIBmQYNVeP_7i8QbnxyAXja3UaxCIh5=s24"></div>
      <div class="body done">
        <!--?lit$549300851$-->
        <slot></slot>
        <!--?lit$549300851$--> <!--?lit$549300851$-->
      </div></template><div class="markdown"><!----><!----><!--?lit$549300851$--><div><span><p>FIND MEAN OF production and replace null values</p>
</span></div><!--?--><!----></div></colab-aida-message><!----><!----><colab-aida-message><template shadowrootmode="open"><!----><!--?lit$549300851$--><md-icon class="avatar" aria-hidden="true"><template shadowrootmode="open"><!----><slot></slot></template><!--?lit$549300851$-->spark</md-icon>
      <div class="body done">
        <!--?lit$549300851$-->
        <slot></slot>
        <!--?lit$549300851$--><details class="recitations">
      <summary><!--?lit$549300851$-->Sources</summary>
      <ol>
        <!--?lit$549300851$--><!----><li>
        <!--?lit$549300851$--><a target="_blank" href="https://community.tableau.com/s/question/0D54T00000TsYkxSAF/if-a-value-is-null-calculate-the-mean-and-replace-the-null-with-the-mean-value"><!--?lit$549300851$-->community.tableau.com/s/question/0D54T00000TsYkxSAF/if-a-value-is-null-calculate-the-mean-and-replace-the-null-with-the-mean-value</a></li><!----><!----><li>
        <!--?lit$549300851$--><a target="_blank" href="https://stackoverflow.com/questions/70308430/function-to-replace-null-values-with-mean"><!--?lit$549300851$-->stackoverflow.com/questions/70308430/function-to-replace-null-values-with-mean</a></li><!----><!----><li>
        <!--?lit$549300851$--><a target="_blank" href="https://community.tableau.com/s/question/0D54T00000C6nV2SAJ/change-null-values-in-data-sheets-to-the-meanaverage"><!--?lit$549300851$-->community.tableau.com/s/question/0D54T00000C6nV2SAJ/change-null-values-in-data-sheets-to-the-meanaverage</a></li><!----><!----><li>
        <!--?lit$549300851$--><a target="_blank" href="https://stackoverflow.com/questions/72459896/how-to-replace-null-values-with-mean-value-of-a-category-in-sql"><!--?lit$549300851$-->stackoverflow.com/questions/72459896/how-to-replace-null-values-with-mean-value-of-a-category-in-sql</a></li><!---->
      </ol>
    </details> <!--?lit$549300851$-->
      <div class="user-rating"><!--?lit$549300851$-->Rate this answer
        <colab-ai-rating-buttons rating="unset"><template shadowrootmode="open"><!---->
      <mwc-icon-button-toggle class="thumb-up" officon="thumb_up" onicon="thumb_up" title="Good response"><template shadowrootmode="open"><!----><button class="mdc-icon-button mdc-icon-button--display-flex   " aria-pressed="false" aria-label="Good response"><!--?lit$549300851$-->
        <span class="mdc-icon-button__icon"><slot name="offIcon"><i class="material-icons"><!--?lit$549300851$-->thumb_up</i></slot></span>
        <span class="mdc-icon-button__icon mdc-icon-button__icon--on"><slot name="onIcon"><i class="material-icons"><!--?lit$549300851$-->thumb_up</i></slot></span>
      </button></template>
        <md-icon slot="offIcon" aria-hidden="true"><template shadowrootmode="open"><!----><slot></slot></template>thumb_up</md-icon>
        <md-icon slot="onIcon" aria-hidden="true"><template shadowrootmode="open"><!----><slot></slot></template>thumb_up</md-icon>
      </mwc-icon-button-toggle>
      <mwc-icon-button-toggle class="thumb-down" title="Bad response"><template shadowrootmode="open"><!----><button class="mdc-icon-button mdc-icon-button--display-flex   " aria-pressed="false" aria-label="Bad response"><!--?lit$549300851$-->
        <span class="mdc-icon-button__icon"><slot name="offIcon"><i class="material-icons"><!--?lit$549300851$--></i></slot></span>
        <span class="mdc-icon-button__icon mdc-icon-button__icon--on"><slot name="onIcon"><i class="material-icons"><!--?lit$549300851$--></i></slot></span>
      </button></template>
        <md-icon slot="offIcon" aria-hidden="true"><template shadowrootmode="open"><!----><slot></slot></template>thumb_down</md-icon>
        <md-icon slot="onIcon" aria-hidden="true"><template shadowrootmode="open"><!----><slot></slot></template>thumb_down</md-icon>
      </mwc-icon-button-toggle>
    </template>
        </colab-ai-rating-buttons>
      </div>
    
      </div></template><div class="markdown"><!----><!----><!--?lit$549300851$--><div class="code-block"><!--?lit$549300851$--><colab-code-toolbar><template shadowrootmode="open"><!----><div class="contents">
      <mwc-icon-button title="Copy"><template shadowrootmode="open"><!----><button class="mdc-icon-button mdc-icon-button--display-flex" aria-label="Copy"><!--?lit$549300851$-->
    <!--?lit$549300851$-->
    <span><slot></slot></span>
  </button></template><md-icon aria-hidden="true"><template shadowrootmode="open"><!----><slot></slot></template>content_copy</md-icon></mwc-icon-button>
      <mwc-icon-button class="insert" title="Add code cell"><template shadowrootmode="open"><!----><button class="mdc-icon-button mdc-icon-button--display-flex" aria-label="Add code cell"><!--?lit$549300851$-->
    <!--?lit$549300851$-->
    <span><slot></slot></span>
  </button></template><!--?lit$549300851$--><svg viewBox="0 0 24 24"><!--?lit$549300851$-->
      <g id="mirror-cell">
        <path d="M4,21V7H2V21a2,2,0,0,0,2,2H18V21Z"></path>
        <path d="M6,13v2H8.6L5,18.6,6.4,20,10,16.4V19h2V13Z"></path>
        <path d="M19,1H8A2,2,0,0,0,6,3v8H8V3H19V17H14v2h5a2,2,0,0,0,2-2V3A2,2,0,0,0,19,1Z"></path>
      </g></svg></mwc-icon-button>
    </div></template></colab-code-toolbar>
      <div class="generated-code-warning">
        <pre class="with-code-warning"><!--?lit$549300851$--><code data-lang="notebook-python" class=" colab-dark"><span><span class="mtk18">import</span><span class="mtk1">&nbsp;pandas&nbsp;</span><span class="mtk18">as</span><span class="mtk1">&nbsp;pd</span></span><br><span><span class="mtk18">import</span><span class="mtk1">&nbsp;numpy&nbsp;</span><span class="mtk18">as</span><span class="mtk1">&nbsp;np</span></span><br><span><span></span></span><br><span><span class="mtk8">#&nbsp;Load&nbsp;the&nbsp;dataset</span></span><br><span><span class="mtk1">IMDB_df&nbsp;=&nbsp;pd.read_csv</span><span class="mtk12">(</span><span class="mtk5">'IAS.csv'</span><span class="mtk12">)</span></span><br><span><span></span></span><br><span><span class="mtk8">#&nbsp;Convert&nbsp;'production'&nbsp;column&nbsp;to&nbsp;numeric,&nbsp;coercing</span><span class="mtk8">&nbsp;errors&nbsp;to&nbsp;NaN</span></span><br><span><span class="mtk1">IMDB_df</span><span class="mtk12">[</span><span class="mtk5">'production'</span><span class="mtk12">]</span><span class="mtk1">&nbsp;=&nbsp;pd.to_numeric</span><span class="mtk12">(</span><span class="mtk1">IMDB_df</span><span class="mtk12">[</span><span class="mtk5">'production'</span><span class="mtk12">],</span><span class="mtk1">&nbsp;errors=</span><span class="mtk5">'coerce'</span><span class="mtk12">)</span></span><br><span><span></span></span><br><span><span class="mtk8">#&nbsp;Calculate&nbsp;the&nbsp;mean&nbsp;of&nbsp;the&nbsp;'production'&nbsp;column</span></span><br><span><span class="mtk1">mean_production&nbsp;=&nbsp;IMDB_df</span><span class="mtk12">[</span><span class="mtk5">'production'</span><span class="mtk12">]</span><span class="mtk1">.mean</span><span class="mtk12">()</span></span><br><span><span></span></span><br><span><span class="mtk8">#&nbsp;Fill&nbsp;NaN&nbsp;values&nbsp;in&nbsp;'production'&nbsp;column&nbsp;with&nbsp;the&nbsp;</span><span class="mtk8">mean</span></span><br><span><span class="mtk1">IMDB_df</span><span class="mtk12">[</span><span class="mtk5">'production'</span><span class="mtk12">]</span><span class="mtk1">&nbsp;=&nbsp;IMDB_df</span><span class="mtk12">[</span><span class="mtk5">'production'</span><span class="mtk12">]</span><span class="mtk1">.fillna</span><span class="mtk12">(</span><span class="mtk1">mean_production</span><span class="mtk12">)</span></span><br><span><span></span></span><br><span><span class="mtk8">#&nbsp;Display&nbsp;the&nbsp;DataFrame&nbsp;with&nbsp;the&nbsp;updated&nbsp;'producti</span><span class="mtk8">on'&nbsp;column</span></span><br><span><span class="mtk15">print</span><span class="mtk12">(</span><span class="mtk1">IMDB_df</span><span class="mtk12">)</span></span><br></code></pre>
        <a href="https://g.co/legal/generative-code" target="_blank">
          Use code with caution</a>
      </div>
    </div><!--?--><!----><!----><!--?lit$549300851$--><div><span><p>Here's how the code works:</p>
<ol>
<li><strong>Import libraries</strong>: Import pandas and numpy.</li>
<li><strong>Load the dataset</strong>: Load the CSV file into a pandas DataFrame.</li>
<li><strong>Convert to numeric</strong>: Convert the 'production' column to a numeric type, converting any non-numeric values to NaN.</li>
<li><strong>Calculate the mean</strong>: Calculate the mean of the 'production' column, excluding NaN values.</li>
<li><strong>Fill NaN values</strong>: Fill the NaN values in the 'production' column with the calculated mean.</li>
<li><strong>Print DataFrame</strong>: Print the modified DataFrame to see the result.</li>
</ol>
</span></div><!--?--><!----></div></colab-aida-message><!----></div></colab-aida-conversation></colab-aida-converse></colab-tab><colab-tab class="layout vertical grow"><colab-aida-converse><template shadowrootmode="open"><!---->
      <!--?lit$549300851$--><slot></slot>
      <div class="footer">
        <!--?lit$549300851$-->
        <!--?lit$549300851$-->
        <!--?lit$549300851$--><div class="input-wrapper">
        <div class="input-wrapper-inner" data-value="">
          <md-outlined-text-field type="textarea" rows="1" maxlength="2000" placeholder="Enter a prompt here" data-aria-disabled="false" inputmode="" autocomplete=""><template shadowrootmode="open" shadowrootdelegatesfocus><!---->
      <span class="text-field  textarea ">
        <!--?lit$549300851$--><md-outlined-field class="field" count="0" error-text="" label="" max="2000" resizable="" supporting-text=""><template shadowrootmode="open"><!---->
      <div class="field  resizable no-label ">
        <div class="container-overflow">
          <!--?lit$549300851$-->
          <slot name="container"></slot>
          <!--?lit$549300851$--> <!--?lit$549300851$--> <!--?lit$549300851$-->
      <div class="outline">
        <div class="outline-start"></div>
        <div class="outline-notch">
          <div class="outline-panel-inactive"></div>
          <div class="outline-panel-active"></div>
          <div class="outline-label"><!--?lit$549300851$--></div>
        </div>
        <div class="outline-end"></div>
      </div>
    
          <div class="container">
            <div class="start">
              <slot name="start"></slot>
            </div>
            <div class="middle">
              <div class="label-wrapper">
                <!--?lit$549300851$--> <!--?lit$549300851$-->
              </div>
              <div class="content">
                <slot></slot>
              </div>
            </div>
            <div class="end">
              <slot name="end"></slot>
            </div>
          </div>
        </div>
        <!--?lit$549300851$-->
      <div class="supporting-text"><!--?lit$549300851$--><span><!--?lit$549300851$--></span><!--?lit$549300851$--><span class="counter"><!--?lit$549300851$-->0 / 2000</span></div>
      <slot name="aria-describedby"></slot>
    
      </div>
    </template>
      <!--?lit$549300851$-->
      <span class="icon leading" slot="start">
        <slot name="leading-icon"></slot>
      </span>
    
      <!--?lit$549300851$-->
        <textarea class="input" aria-describedby="description" aria-invalid="false" maxlength="2000" placeholder="Enter a prompt here" rows="1" cols="20"></textarea>
      
      <!--?lit$549300851$-->
      <span class="icon trailing" slot="end">
        <slot name="trailing-icon"></slot>
      </span>
    
      <div id="description" slot="aria-describedby" hidden=""><!----><!--?lit$549300851$--> <!--?lit$549300851$-->0 / 2000<!--?--></div>
      <slot name="container" slot="container"></slot>
    </md-outlined-field>
      </span>
    </template>
          </md-outlined-text-field>
        </div>
        <!--?lit$549300851$--><div class="input-actions">
      <!--?lit$549300851$-->
      <!--?lit$549300851$-->
    
      <div class="input-buttons">
        <!--?lit$549300851$--> <!--?lit$549300851$-->
      </div>
    </div>
      </div>
      <div aria-hidden="true" class="input-counter">
        <!--?lit$549300851$-->0 / 2000
      </div>
      </div>
      <div class="disclaimer"> <!--?lit$549300851$--> <!--?lit$549300851$-->Responses may display inaccurate or offensive information that doesn't
represent Google's views.
  <a href="https://policies.google.com/terms/generative-ai" target="_blank">
    <!--?lit$549300851$-->Learn more</a> </div>
    </template><colab-aida-conversation class="colab-styled-scroller"><template shadowrootmode="open"><!----><slot></slot><!--?lit$549300851$--><!--?--><!--?--></template><div><!----><!----><colab-aida-message><template shadowrootmode="open"><!----><!--?lit$549300851$--><md-icon class="avatar" aria-hidden="true"><template shadowrootmode="open"><!----><slot></slot></template><!--?lit$549300851$-->
    <svg viewBox="0 0 40 40">
      <path fill="#93ADCF" d="m20,0c-11.04,0 -20,8.96 -20,20c0,11.04 8.96,20 20,20c11.04,0 20,-8.96 20,-20c0,-11.04 -8.96,-20 -20,-20l0,0z"></path>
      <path fill="#CFDAEF" d="m20,34.4c-5,0 -9.42,-2.56 -12,-6.44c0.06,-3.98 8,-6.16 12,-6.16c3.98,0 11.94,2.18 12,6.16c-2.58,3.88 -7,6.44 -12,6.44l0,0z"></path>
      <path fill="#CFDAEF" d="m20,6c3.32,0 6,2.68 6,6c0,3.32 -2.68,6 -6,6c-3.32,0 -6,-2.68 -6,-6c0,-3.32 2.68,-6 6,-6l0,0z"></path>
    </svg></md-icon>
      <div class="body done">
        <!--?lit$549300851$-->
        <slot></slot>
        <!--?lit$549300851$--> <!--?lit$549300851$-->
      </div></template><div class="markdown"><!----><!----><!--?lit$549300851$--><div><span><p>Please explain the error:</p>
<pre><code><span><span class="mtk1">KeyError</span><span class="mtk12">:</span><span class="mtk1">&nbsp;</span><span class="mtk5">'&nbsp;Production'</span></span></code></pre>
</span></div><!--?--><!----></div></colab-aida-message><!----><!----><colab-aida-message><template shadowrootmode="open"><!----><!--?lit$549300851$--><md-icon class="avatar" aria-hidden="true"><template shadowrootmode="open"><!----><slot></slot></template><!--?lit$549300851$-->spark</md-icon>
      <div class="body done">
        <!--?lit$549300851$-->
        <slot></slot>
        <!--?lit$549300851$--><details class="recitations">
      <summary><!--?lit$549300851$-->Sources</summary>
      <ol>
        <!--?lit$549300851$--><!----><li>
        <!--?lit$549300851$--><a target="_blank" href="https://stackoverflow.com/questions/74641988/pandas-keyerror-in-get-loc-when-calling-entries-from-dataframe-in-for-loop"><!--?lit$549300851$-->stackoverflow.com/questions/74641988/pandas-keyerror-in-get-loc-when-calling-entries-from-dataframe-in-for-loop</a></li><!----><!----><li>
        <!--?lit$549300851$--><a target="_blank" href="https://stackoverflow.com/questions/49472835/pandas-index-get-loc-giving-keyerror-for-time-series-data"><!--?lit$549300851$-->stackoverflow.com/questions/49472835/pandas-index-get-loc-giving-keyerror-for-time-series-data</a></li><!----><!----><li>
        <!--?lit$549300851$--><a target="_blank" href="https://github.com/pandas-dev/pandas/issues/11201"><!--?lit$549300851$-->github.com/pandas-dev/pandas/issues/11201</a></li><!----><!----><li>
        <!--?lit$549300851$--><a target="_blank" href="https://community.alteryx.com/t5/Alteryx-Designer-Desktop-Discussions/Dataframe-output-Key-Error/td-p/968249"><!--?lit$549300851$-->community.alteryx.com/t5/Alteryx-Designer-Desktop-Discussions/Dataframe-output-Key-Error/td-p/968249</a></li><!---->
      </ol>
    </details> <!--?lit$549300851$-->
      <div class="user-rating"><!--?lit$549300851$-->Rate this answer
        <colab-ai-rating-buttons rating="unset"><template shadowrootmode="open"><!---->
      <mwc-icon-button-toggle class="thumb-up" officon="thumb_up" onicon="thumb_up" title="Good response"><template shadowrootmode="open"><!----><button class="mdc-icon-button mdc-icon-button--display-flex   " aria-pressed="false" aria-label="Good response"><!--?lit$549300851$-->
        <span class="mdc-icon-button__icon"><slot name="offIcon"><i class="material-icons"><!--?lit$549300851$-->thumb_up</i></slot></span>
        <span class="mdc-icon-button__icon mdc-icon-button__icon--on"><slot name="onIcon"><i class="material-icons"><!--?lit$549300851$-->thumb_up</i></slot></span>
      </button></template>
        <md-icon slot="offIcon" aria-hidden="true"><template shadowrootmode="open"><!----><slot></slot></template>thumb_up</md-icon>
        <md-icon slot="onIcon" aria-hidden="true"><template shadowrootmode="open"><!----><slot></slot></template>thumb_up</md-icon>
      </mwc-icon-button-toggle>
      <mwc-icon-button-toggle class="thumb-down" title="Bad response"><template shadowrootmode="open"><!----><button class="mdc-icon-button mdc-icon-button--display-flex   " aria-pressed="false" aria-label="Bad response"><!--?lit$549300851$-->
        <span class="mdc-icon-button__icon"><slot name="offIcon"><i class="material-icons"><!--?lit$549300851$--></i></slot></span>
        <span class="mdc-icon-button__icon mdc-icon-button__icon--on"><slot name="onIcon"><i class="material-icons"><!--?lit$549300851$--></i></slot></span>
      </button></template>
        <md-icon slot="offIcon" aria-hidden="true"><template shadowrootmode="open"><!----><slot></slot></template>thumb_down</md-icon>
        <md-icon slot="onIcon" aria-hidden="true"><template shadowrootmode="open"><!----><slot></slot></template>thumb_down</md-icon>
      </mwc-icon-button-toggle>
    </template>
        </colab-ai-rating-buttons>
      </div>
    
      </div></template><div class="markdown"><!----><!----><!--?lit$549300851$--><div><span><h3>Hypothesis</h3>
<p>The traceback indicates a <code>KeyError: ' Production'</code> when trying to access the column <code>' Production'</code> in the DataFrame <code>IMDB_df</code>. This error arises because the column name specified in the code, <code>' Production'</code>, does not exactly match the column names present in the DataFrame. Based on the global variables, we can see <code>IMDB_df</code> is a DataFrame. It's possible that the column name has a leading or trailing whitespace. Examining the output of <code>IMDB_df.columns</code> will help confirm the exact column names and identify the error. The error is occurring in the line <code>mean_production = IMDB_df[' Production'].mean()</code>, where the column name is being used as a key.</p>
<h3>Suggested Changes</h3>
<p>To fix the <code>KeyError</code>, we first need to inspect the column names to find the correct name of the column we wish to use. We will print the column names, then use the correct name in our subsequent code.</p>
</span></div><!--?--><!----><!----><!--?lit$549300851$--><div class="code-block"><!--?lit$549300851$--><colab-code-toolbar><template shadowrootmode="open"><!----><div class="contents">
      <mwc-icon-button title="Copy"><template shadowrootmode="open"><!----><button class="mdc-icon-button mdc-icon-button--display-flex" aria-label="Copy"><!--?lit$549300851$-->
    <!--?lit$549300851$-->
    <span><slot></slot></span>
  </button></template><md-icon aria-hidden="true"><template shadowrootmode="open"><!----><slot></slot></template>content_copy</md-icon></mwc-icon-button>
      <mwc-icon-button class="insert" title="Add code cell"><template shadowrootmode="open"><!----><button class="mdc-icon-button mdc-icon-button--display-flex" aria-label="Add code cell"><!--?lit$549300851$-->
    <!--?lit$549300851$-->
    <span><slot></slot></span>
  </button></template><!--?lit$549300851$--><svg viewBox="0 0 24 24"><!--?lit$549300851$-->
      <g id="mirror-cell">
        <path d="M4,21V7H2V21a2,2,0,0,0,2,2H18V21Z"></path>
        <path d="M6,13v2H8.6L5,18.6,6.4,20,10,16.4V19h2V13Z"></path>
        <path d="M19,1H8A2,2,0,0,0,6,3v8H8V3H19V17H14v2h5a2,2,0,0,0,2-2V3A2,2,0,0,0,19,1Z"></path>
      </g></svg></mwc-icon-button>
    </div></template></colab-code-toolbar>
      <div class="generated-code-warning">
        <pre class="with-code-warning"><!--?lit$549300851$--><code data-lang="notebook-python" class=" colab-dark"><span><span class="mtk8">#&nbsp;Print&nbsp;the&nbsp;column&nbsp;names&nbsp;of&nbsp;the&nbsp;DataFrame</span></span><br><span><span class="mtk15">print</span><span class="mtk12">(</span><span class="mtk1">IMDB_df.columns</span><span class="mtk12">)</span></span><br><span><span></span></span><br><span><span class="mtk8">#&nbsp;Calculate&nbsp;the&nbsp;mean&nbsp;of&nbsp;the&nbsp;'Production'&nbsp;column&nbsp;(a</span><span class="mtk8">ssuming&nbsp;it's&nbsp;the&nbsp;correct&nbsp;name)</span></span><br><span><span class="mtk1">mean_production&nbsp;=&nbsp;IMDB_df</span><span class="mtk12">[</span><span class="mtk5">'Production'</span><span class="mtk12">]</span><span class="mtk1">.mean</span><span class="mtk12">()</span></span><br><span><span class="mtk15">print</span><span class="mtk12">(</span><span class="mtk9">f</span><span class="mtk5">"The&nbsp;mean&nbsp;of&nbsp;the&nbsp;production&nbsp;column&nbsp;is:&nbsp;</span><span class="mtk12">{</span><span class="mtk1">mean_production</span><span class="mtk12">}</span><span class="mtk5">"</span><span class="mtk12">)</span></span><br></code></pre>
        <a href="https://g.co/legal/generative-code" target="_blank">
          Use code with caution</a>
      </div>
    </div><!--?--><!----><!----><!--?lit$549300851$--><div><span></span></div><!--?--><!----></div></colab-aida-message><!----></div></colab-aida-conversation></colab-aida-converse></colab-tab><colab-tab class="layout vertical grow selected-tab"><colab-aida-converse><template shadowrootmode="open"><!---->
      <!--?lit$549300851$--><slot></slot>
      <div class="footer">
        <!--?lit$549300851$-->
        <!--?lit$549300851$-->
        <!--?lit$549300851$--><div class="input-wrapper">
        <div class="input-wrapper-inner" data-value="">
          <md-outlined-text-field type="textarea" rows="1" maxlength="2000" placeholder="Enter a prompt here" data-aria-disabled="false" inputmode="" autocomplete=""><template shadowrootmode="open" shadowrootdelegatesfocus><!---->
      <span class="text-field  textarea ">
        <!--?lit$549300851$--><md-outlined-field class="field" count="0" error-text="" label="" max="2000" resizable="" supporting-text=""><template shadowrootmode="open"><!---->
      <div class="field resizable no-label">
        <div class="container-overflow">
          <!--?lit$549300851$-->
          <slot name="container"></slot>
          <!--?lit$549300851$--> <!--?lit$549300851$--> <!--?lit$549300851$-->
      <div class="outline">
        <div class="outline-start"></div>
        <div class="outline-notch">
          <div class="outline-panel-inactive"></div>
          <div class="outline-panel-active"></div>
          <div class="outline-label"><!--?lit$549300851$--></div>
        </div>
        <div class="outline-end"></div>
      </div>
    
          <div class="container">
            <div class="start">
              <slot name="start"></slot>
            </div>
            <div class="middle">
              <div class="label-wrapper">
                <!--?lit$549300851$--> <!--?lit$549300851$-->
              </div>
              <div class="content">
                <slot></slot>
              </div>
            </div>
            <div class="end">
              <slot name="end"></slot>
            </div>
          </div>
        </div>
        <!--?lit$549300851$-->
      <div class="supporting-text"><!--?lit$549300851$--><span><!--?lit$549300851$--></span><!--?lit$549300851$--><span class="counter"><!--?lit$549300851$-->0 / 2000</span></div>
      <slot name="aria-describedby"></slot>
    
      </div>
    </template>
      <!--?lit$549300851$-->
      <span class="icon leading" slot="start">
        <slot name="leading-icon"></slot>
      </span>
    
      <!--?lit$549300851$-->
        <textarea class="input" aria-describedby="description" aria-invalid="false" maxlength="2000" placeholder="Enter a prompt here" rows="1" cols="20" style="overflow: hidden;"></textarea>
      
      <!--?lit$549300851$-->
      <span class="icon trailing" slot="end">
        <slot name="trailing-icon"></slot>
      </span>
    
      <div id="description" slot="aria-describedby" hidden=""><!----><!--?lit$549300851$--> <!--?lit$549300851$-->0 / 2000<!--?--></div>
      <slot name="container" slot="container"></slot>
    </md-outlined-field>
      </span>
    </template>
          </md-outlined-text-field>
        </div>
        <!--?lit$549300851$--><div class="input-actions">
      <!--?lit$549300851$-->
      <!--?lit$549300851$-->
    
      <div class="input-buttons">
        <!--?lit$549300851$--> <!--?lit$549300851$-->
      </div>
    </div>
      </div>
      <div aria-hidden="true" class="input-counter">
        <!--?lit$549300851$-->0 / 2000
      </div>
      </div>
      <div class="disclaimer"> <!--?lit$549300851$--> <!--?lit$549300851$-->Responses may display inaccurate or offensive information that doesn't
represent Google's views.
  <a href="https://policies.google.com/terms/generative-ai" target="_blank">
    <!--?lit$549300851$-->Learn more</a> </div>
    </template><colab-aida-conversation class="colab-styled-scroller"><template shadowrootmode="open"><!----><slot></slot><!--?lit$549300851$--><!--?--><!--?--></template><div><!----><!----><colab-aida-message><template shadowrootmode="open"><!----><!--?lit$549300851$--><md-icon class="avatar" aria-hidden="true"><template shadowrootmode="open"><!----><slot></slot></template><!--?lit$549300851$-->
    <svg viewBox="0 0 40 40">
      <path fill="#93ADCF" d="m20,0c-11.04,0 -20,8.96 -20,20c0,11.04 8.96,20 20,20c11.04,0 20,-8.96 20,-20c0,-11.04 -8.96,-20 -20,-20l0,0z"></path>
      <path fill="#CFDAEF" d="m20,34.4c-5,0 -9.42,-2.56 -12,-6.44c0.06,-3.98 8,-6.16 12,-6.16c3.98,0 11.94,2.18 12,6.16c-2.58,3.88 -7,6.44 -12,6.44l0,0z"></path>
      <path fill="#CFDAEF" d="m20,6c3.32,0 6,2.68 6,6c0,3.32 -2.68,6 -6,6c-3.32,0 -6,-2.68 -6,-6c0,-3.32 2.68,-6 6,-6l0,0z"></path>
    </svg></md-icon>
      <div class="body done">
        <!--?lit$549300851$-->
        <slot></slot>
        <!--?lit$549300851$--> <!--?lit$549300851$-->
      </div></template><div class="markdown"><!----><!----><!--?lit$549300851$--><div><span><p>Please explain the error:</p>
<pre><code><span><span class="mtk1">KeyError</span><span class="mtk12">:</span><span class="mtk1">&nbsp;</span><span class="mtk5">'production'</span></span></code></pre>
</span></div><!--?--><!----></div></colab-aida-message><!----><!----><colab-aida-message><template shadowrootmode="open"><!----><!--?lit$549300851$--><md-icon class="avatar" aria-hidden="true"><template shadowrootmode="open"><!----><slot></slot></template><!--?lit$549300851$-->spark</md-icon>
      <div class="body done">
        <!--?lit$549300851$-->
        <slot></slot>
        <!--?lit$549300851$--><details class="recitations">
      <summary><!--?lit$549300851$-->Sources</summary>
      <ol>
        <!--?lit$549300851$--><!----><li>
        <!--?lit$549300851$--><a target="_blank" href="https://stackoverflow.com/questions/39960728/why-do-i-get-a-keyerror-when-using-pandas-apply"><!--?lit$549300851$-->stackoverflow.com/questions/39960728/why-do-i-get-a-keyerror-when-using-pandas-apply</a></li><!----><!----><li>
        <!--?lit$549300851$--><a target="_blank" href="https://stackoverflow.com/questions/43771654/pandas-getting-a-key-error-when-the-key-exists"><!--?lit$549300851$-->stackoverflow.com/questions/43771654/pandas-getting-a-key-error-when-the-key-exists</a></li><!----><!----><li>
        <!--?lit$549300851$--><a target="_blank" href="https://github.com/pandas-dev/pandas/issues/42530"><!--?lit$549300851$-->github.com/pandas-dev/pandas/issues/42530</a></li><!----><!----><li>
        <!--?lit$549300851$--><a target="_blank" href="https://saturncloud.io/blog/how-to-handle-pandas-keyerror-value-not-in-index/"><!--?lit$549300851$-->saturncloud.io/blog/how-to-handle-pandas-keyerror-value-not-in-index/</a></li><!----><!----><li>
        <!--?lit$549300851$--><a target="_blank" href="https://community.alteryx.com/t5/Alteryx-Designer-Desktop-Discussions/Dataframe-output-Key-Error/td-p/968249"><!--?lit$549300851$-->community.alteryx.com/t5/Alteryx-Designer-Desktop-Discussions/Dataframe-output-Key-Error/td-p/968249</a></li><!---->
      </ol>
    </details> <!--?lit$549300851$-->
      <div class="user-rating"><!--?lit$549300851$-->Rate this answer
        <colab-ai-rating-buttons rating="unset"><template shadowrootmode="open"><!---->
      <mwc-icon-button-toggle class="thumb-up" officon="thumb_up" onicon="thumb_up" title="Good response"><template shadowrootmode="open"><!----><button class="mdc-icon-button mdc-icon-button--display-flex   " aria-pressed="false" aria-label="Good response"><!--?lit$549300851$-->
        <span class="mdc-icon-button__icon"><slot name="offIcon"><i class="material-icons"><!--?lit$549300851$-->thumb_up</i></slot></span>
        <span class="mdc-icon-button__icon mdc-icon-button__icon--on"><slot name="onIcon"><i class="material-icons"><!--?lit$549300851$-->thumb_up</i></slot></span>
      </button></template>
        <md-icon slot="offIcon" aria-hidden="true"><template shadowrootmode="open"><!----><slot></slot></template>thumb_up</md-icon>
        <md-icon slot="onIcon" aria-hidden="true"><template shadowrootmode="open"><!----><slot></slot></template>thumb_up</md-icon>
      </mwc-icon-button-toggle>
      <mwc-icon-button-toggle class="thumb-down" title="Bad response"><template shadowrootmode="open"><!----><button class="mdc-icon-button mdc-icon-button--display-flex   " aria-pressed="false" aria-label="Bad response"><!--?lit$549300851$-->
        <span class="mdc-icon-button__icon"><slot name="offIcon"><i class="material-icons"><!--?lit$549300851$--></i></slot></span>
        <span class="mdc-icon-button__icon mdc-icon-button__icon--on"><slot name="onIcon"><i class="material-icons"><!--?lit$549300851$--></i></slot></span>
      </button></template>
        <md-icon slot="offIcon" aria-hidden="true"><template shadowrootmode="open"><!----><slot></slot></template>thumb_down</md-icon>
        <md-icon slot="onIcon" aria-hidden="true"><template shadowrootmode="open"><!----><slot></slot></template>thumb_down</md-icon>
      </mwc-icon-button-toggle>
    </template>
        </colab-ai-rating-buttons>
      </div>
    
      </div></template><div class="markdown"><!----><!----><!--?lit$549300851$--><div><span><h3>Hypothesis</h3>
<p>The error is a <code>KeyError: 'production'</code> in the line <code>IMDB_df['production'] = IMDB_df['production'].fillna(mean_production)</code>. This indicates that the column 'production' does not exist in the DataFrame <code>IMDB_df</code>. Reviewing the code, we can see in <code>ipython-input-15-427bdb6fc1ad</code> that the user calculates the mean of the column <code>'Production'</code>, with a capital 'P'. In the failing line, the user attempts to access a column called <code>'production'</code> with a lowercase 'p'. Pandas is case sensitive, hence the <code>KeyError</code>. The user likely intended to fill missing values in the column 'Production'.</p>
<h3>Suggested Changes</h3>
<p>The fix is to change the column name from <code>'production'</code> to <code>'Production'</code> in the line that is causing the error.</p>
</span></div><!--?--><!----><!----><!--?lit$549300851$--><div class="code-block"><!--?lit$549300851$--><colab-code-toolbar><template shadowrootmode="open"><!----><div class="contents">
      <mwc-icon-button title="Copy"><template shadowrootmode="open"><!----><button class="mdc-icon-button mdc-icon-button--display-flex" aria-label="Copy"><!--?lit$549300851$-->
    <!--?lit$549300851$-->
    <span><slot></slot></span>
  </button></template><md-icon aria-hidden="true"><template shadowrootmode="open"><!----><slot></slot></template>content_copy</md-icon></mwc-icon-button>
      <mwc-icon-button class="insert" title="Add code cell"><template shadowrootmode="open"><!----><button class="mdc-icon-button mdc-icon-button--display-flex" aria-label="Add code cell"><!--?lit$549300851$-->
    <!--?lit$549300851$-->
    <span><slot></slot></span>
  </button></template><!--?lit$549300851$--><svg viewBox="0 0 24 24"><!--?lit$549300851$-->
      <g id="mirror-cell">
        <path d="M4,21V7H2V21a2,2,0,0,0,2,2H18V21Z"></path>
        <path d="M6,13v2H8.6L5,18.6,6.4,20,10,16.4V19h2V13Z"></path>
        <path d="M19,1H8A2,2,0,0,0,6,3v8H8V3H19V17H14v2h5a2,2,0,0,0,2-2V3A2,2,0,0,0,19,1Z"></path>
      </g></svg></mwc-icon-button>
    </div></template></colab-code-toolbar>
      <div class="generated-code-warning">
        <pre class="with-code-warning"><!--?lit$549300851$--><code data-lang="notebook-python" class=" colab-dark"><span><span class="mtk1">IMDB_df</span><span class="mtk12">[</span><span class="mtk5">'Production'</span><span class="mtk12">]</span><span class="mtk1">&nbsp;=&nbsp;IMDB_df</span><span class="mtk12">[</span><span class="mtk5">'Production'</span><span class="mtk12">]</span><span class="mtk1">.fillna</span><span class="mtk12">(</span><span class="mtk1">mean_production</span><span class="mtk12">)</span></span><br></code></pre>
        <a href="https://g.co/legal/generative-code" target="_blank">
          Use code with caution</a>
      </div>
    </div><!--?--><!----><!----><!--?lit$549300851$--><div><span></span></div><!--?--><!----></div></colab-aida-message><!----><!----><colab-aida-message><template shadowrootmode="open"><!----><!--?lit$549300851$--><md-icon class="avatar" aria-hidden="true"><template shadowrootmode="open"><!----><slot></slot></template><!--?lit$549300851$-->
    <svg viewBox="0 0 40 40">
      <path fill="#93ADCF" d="m20,0c-11.04,0 -20,8.96 -20,20c0,11.04 8.96,20 20,20c11.04,0 20,-8.96 20,-20c0,-11.04 -8.96,-20 -20,-20l0,0z"></path>
      <path fill="#CFDAEF" d="m20,34.4c-5,0 -9.42,-2.56 -12,-6.44c0.06,-3.98 8,-6.16 12,-6.16c3.98,0 11.94,2.18 12,6.16c-2.58,3.88 -7,6.44 -12,6.44l0,0z"></path>
      <path fill="#CFDAEF" d="m20,6c3.32,0 6,2.68 6,6c0,3.32 -2.68,6 -6,6c-3.32,0 -6,-2.68 -6,-6c0,-3.32 2.68,-6 6,-6l0,0z"></path>
    </svg></md-icon>
      <div class="body done">
        <!--?lit$549300851$-->
        <slot></slot>
        <!--?lit$549300851$--> <!--?lit$549300851$-->
      </div></template><div class="markdown"><!----><!----><!--?lit$549300851$--><div><span><p>find the null value production</p>
</span></div><!--?--><!----></div></colab-aida-message><!----><!----><colab-aida-message><template shadowrootmode="open"><!----><!--?lit$549300851$--><md-icon class="avatar" aria-hidden="true"><template shadowrootmode="open"><!----><slot></slot></template><!--?lit$549300851$-->spark</md-icon>
      <div class="body done">
        <!--?lit$549300851$-->
        <slot></slot>
        <!--?lit$549300851$--><details class="recitations">
      <summary><!--?lit$549300851$-->Sources</summary>
      <ol>
        <!--?lit$549300851$--><!----><li>
        <!--?lit$549300851$--><a target="_blank" href="https://fmforums.com/topic/50790-how-to-find-null-value/"><!--?lit$549300851$-->fmforums.com/topic/50790-how-to-find-null-value/</a></li><!----><!----><li>
        <!--?lit$549300851$--><a target="_blank" href="https://community.splunk.com/t5/Splunk-Search/How-to-show-null-or-empty-feilds-produced-by-a-lookup-table/m-p/176967"><!--?lit$549300851$-->community.splunk.com/t5/Splunk-Search/How-to-show-null-or-empty-feilds-produced-by-a-lookup-table/m-p/176967</a></li><!----><!----><li>
        <!--?lit$549300851$--><a target="_blank" href="https://www.servicenow.com/community/developer-forum/how-to-check-for-null-values-onsubmit-of-record-producer/m-p/1968750"><!--?lit$549300851$-->www.servicenow.com/community/developer-forum/how-to-check-for-null-values-onsubmit-of-record-producer/m-p/1968750</a></li><!----><!----><li>
        <!--?lit$549300851$--><a target="_blank" href="https://stackoverflow.com/questions/14488859/find-all-rows-with-null-values-in-any-column"><!--?lit$549300851$-->stackoverflow.com/questions/14488859/find-all-rows-with-null-values-in-any-column</a></li><!----><!----><li>
        <!--?lit$549300851$--><a target="_blank" href="https://medium.com/art-of-data-engineering/how-i-handle-null-values-in-my-projects-df732103f0b2"><!--?lit$549300851$-->medium.com/art-of-data-engineering/how-i-handle-null-values-in-my-projects-df732103f0b2</a></li><!---->
      </ol>
    </details> <!--?lit$549300851$-->
      <div class="user-rating"><!--?lit$549300851$-->Rate this answer
        <colab-ai-rating-buttons rating="unset"><template shadowrootmode="open"><!---->
      <mwc-icon-button-toggle class="thumb-up" officon="thumb_up" onicon="thumb_up" title="Good response"><template shadowrootmode="open"><!----><button class="mdc-icon-button mdc-icon-button--display-flex   " aria-pressed="false" aria-label="Good response"><!--?lit$549300851$-->
        <span class="mdc-icon-button__icon"><slot name="offIcon"><i class="material-icons"><!--?lit$549300851$-->thumb_up</i></slot></span>
        <span class="mdc-icon-button__icon mdc-icon-button__icon--on"><slot name="onIcon"><i class="material-icons"><!--?lit$549300851$-->thumb_up</i></slot></span>
      </button></template>
        <md-icon slot="offIcon" aria-hidden="true"><template shadowrootmode="open"><!----><slot></slot></template>thumb_up</md-icon>
        <md-icon slot="onIcon" aria-hidden="true"><template shadowrootmode="open"><!----><slot></slot></template>thumb_up</md-icon>
      </mwc-icon-button-toggle>
      <mwc-icon-button-toggle class="thumb-down" title="Bad response"><template shadowrootmode="open"><!----><button class="mdc-icon-button mdc-icon-button--display-flex   " aria-pressed="false" aria-label="Bad response"><!--?lit$549300851$-->
        <span class="mdc-icon-button__icon"><slot name="offIcon"><i class="material-icons"><!--?lit$549300851$--></i></slot></span>
        <span class="mdc-icon-button__icon mdc-icon-button__icon--on"><slot name="onIcon"><i class="material-icons"><!--?lit$549300851$--></i></slot></span>
      </button></template>
        <md-icon slot="offIcon" aria-hidden="true"><template shadowrootmode="open"><!----><slot></slot></template>thumb_down</md-icon>
        <md-icon slot="onIcon" aria-hidden="true"><template shadowrootmode="open"><!----><slot></slot></template>thumb_down</md-icon>
      </mwc-icon-button-toggle>
    </template>
        </colab-ai-rating-buttons>
      </div>
    
      </div></template><div class="markdown"><!----><!----><!--?lit$549300851$--><div><span><p>Okay, I understand that you're looking to identify or handle null values in the 'Production' column of your DataFrame. Here's how we can approach this:</p>
<p><strong>1. Check for Null Values</strong></p>
<p>   We can use the <code>.isnull()</code> method combined with <code>.sum()</code> to get a count of null values in the 'Production' column.</p>
</span></div><!--?--><!----><!----><!--?lit$549300851$--><div class="code-block"><!--?lit$549300851$--><colab-code-toolbar><template shadowrootmode="open"><!----><div class="contents">
      <mwc-icon-button title="Copy"><template shadowrootmode="open"><!----><button class="mdc-icon-button mdc-icon-button--display-flex" aria-label="Copy"><!--?lit$549300851$-->
    <!--?lit$549300851$-->
    <span><slot></slot></span>
  </button></template><md-icon aria-hidden="true"><template shadowrootmode="open"><!----><slot></slot></template>content_copy</md-icon></mwc-icon-button>
      <mwc-icon-button class="insert" title="Add code cell"><template shadowrootmode="open"><!----><button class="mdc-icon-button mdc-icon-button--display-flex" aria-label="Add code cell"><!--?lit$549300851$-->
    <!--?lit$549300851$-->
    <span><slot></slot></span>
  </button></template><!--?lit$549300851$--><svg viewBox="0 0 24 24"><!--?lit$549300851$-->
      <g id="mirror-cell">
        <path d="M4,21V7H2V21a2,2,0,0,0,2,2H18V21Z"></path>
        <path d="M6,13v2H8.6L5,18.6,6.4,20,10,16.4V19h2V13Z"></path>
        <path d="M19,1H8A2,2,0,0,0,6,3v8H8V3H19V17H14v2h5a2,2,0,0,0,2-2V3A2,2,0,0,0,19,1Z"></path>
      </g></svg></mwc-icon-button>
    </div></template></colab-code-toolbar>
      <div class="generated-code-warning">
        <pre class="with-code-warning"><!--?lit$549300851$--><code data-lang="notebook-python" class=" colab-dark"><span><span class="mtk18">import</span><span class="mtk1">&nbsp;pandas&nbsp;</span><span class="mtk18">as</span><span class="mtk1">&nbsp;pd</span></span><br><span><span class="mtk1">&nbsp;&nbsp;&nbsp;</span><span class="mtk18">import</span><span class="mtk1">&nbsp;numpy&nbsp;</span><span class="mtk18">as</span><span class="mtk1">&nbsp;np</span></span><br><span><span></span></span><br><span><span class="mtk1">&nbsp;&nbsp;&nbsp;</span><span class="mtk8">#load&nbsp;dataset</span></span><br><span><span class="mtk1">&nbsp;&nbsp;&nbsp;IMDB_df&nbsp;=&nbsp;pd.read_csv</span><span class="mtk12">(</span><span class="mtk5">'IAS.csv'</span><span class="mtk12">)</span></span><br><span><span></span></span><br><span><span class="mtk1">&nbsp;&nbsp;&nbsp;null_production&nbsp;=&nbsp;IMDB_df</span><span class="mtk12">[</span><span class="mtk5">'Production'</span><span class="mtk12">]</span><span class="mtk1">.isnull</span><span class="mtk12">()</span><span class="mtk1">.</span><span class="mtk15">sum</span><span class="mtk12">()</span></span><br><span><span class="mtk1">&nbsp;&nbsp;&nbsp;</span><span class="mtk15">print</span><span class="mtk12">(</span><span class="mtk9">f</span><span class="mtk5">"Number&nbsp;of&nbsp;null&nbsp;values&nbsp;in&nbsp;'Production'&nbsp;column:&nbsp;</span><span class="mtk12">{</span><span class="mtk1">null_production</span><span class="mtk12">}</span><span class="mtk5">"</span><span class="mtk12">)</span></span><br></code></pre>
        <a href="https://g.co/legal/generative-code" target="_blank">
          Use code with caution</a>
      </div>
    </div><!--?--><!----><!----><!--?lit$549300851$--><div><span><p>   This will output the number of missing values in the <code>Production</code> column. If it is greater than zero, you have null values and we can proceed with handling them.</p>
<p><strong>2. Handle Null Values (if needed)</strong></p>
<p>   Based on your previous code and the error you had, you were trying to fill the null values with the mean of the production column. Let's do that again and this time using the correct column name.</p>
</span></div><!--?--><!----><!----><!--?lit$549300851$--><div class="code-block"><!--?lit$549300851$--><colab-code-toolbar><template shadowrootmode="open"><!----><div class="contents">
      <mwc-icon-button title="Copy"><template shadowrootmode="open"><!----><button class="mdc-icon-button mdc-icon-button--display-flex" aria-label="Copy"><!--?lit$549300851$-->
    <!--?lit$549300851$-->
    <span><slot></slot></span>
  </button></template><md-icon aria-hidden="true"><template shadowrootmode="open"><!----><slot></slot></template>content_copy</md-icon></mwc-icon-button>
      <mwc-icon-button class="insert" title="Add code cell"><template shadowrootmode="open"><!----><button class="mdc-icon-button mdc-icon-button--display-flex" aria-label="Add code cell"><!--?lit$549300851$-->
    <!--?lit$549300851$-->
    <span><slot></slot></span>
  </button></template><!--?lit$549300851$--><svg viewBox="0 0 24 24"><!--?lit$549300851$-->
      <g id="mirror-cell">
        <path d="M4,21V7H2V21a2,2,0,0,0,2,2H18V21Z"></path>
        <path d="M6,13v2H8.6L5,18.6,6.4,20,10,16.4V19h2V13Z"></path>
        <path d="M19,1H8A2,2,0,0,0,6,3v8H8V3H19V17H14v2h5a2,2,0,0,0,2-2V3A2,2,0,0,0,19,1Z"></path>
      </g></svg></mwc-icon-button>
    </div></template></colab-code-toolbar>
      <div class="generated-code-warning">
        <pre class="with-code-warning"><!--?lit$549300851$--><code data-lang="notebook-python" class=" colab-dark"><span><span class="mtk18">import</span><span class="mtk1">&nbsp;pandas&nbsp;</span><span class="mtk18">as</span><span class="mtk1">&nbsp;pd</span></span><br><span><span class="mtk1">&nbsp;&nbsp;&nbsp;</span><span class="mtk18">import</span><span class="mtk1">&nbsp;numpy&nbsp;</span><span class="mtk18">as</span><span class="mtk1">&nbsp;np</span></span><br><span><span></span></span><br><span><span class="mtk1">&nbsp;&nbsp;&nbsp;&nbsp;</span><span class="mtk8">#load&nbsp;dataset</span></span><br><span><span class="mtk1">&nbsp;&nbsp;&nbsp;IMDB_df&nbsp;=&nbsp;pd.read_csv</span><span class="mtk12">(</span><span class="mtk5">'IAS.csv'</span><span class="mtk12">)</span></span><br><span><span></span></span><br><span><span class="mtk1">&nbsp;&nbsp;&nbsp;mean_production&nbsp;=&nbsp;IMDB_df</span><span class="mtk12">[</span><span class="mtk5">'Production'</span><span class="mtk12">]</span><span class="mtk1">.mean</span><span class="mtk12">()</span></span><br><span><span class="mtk1">&nbsp;&nbsp;&nbsp;</span><span class="mtk15">print</span><span class="mtk12">(</span><span class="mtk9">f</span><span class="mtk5">"The&nbsp;mean&nbsp;of&nbsp;the&nbsp;production&nbsp;column&nbsp;is:&nbsp;</span><span class="mtk12">{</span><span class="mtk1">mean_production</span><span class="mtk12">}</span><span class="mtk5">"</span><span class="mtk12">)</span></span><br><span><span class="mtk1">&nbsp;&nbsp;&nbsp;IMDB_df</span><span class="mtk12">[</span><span class="mtk5">'Production'</span><span class="mtk12">]</span><span class="mtk1">&nbsp;=&nbsp;IMDB_df</span><span class="mtk12">[</span><span class="mtk5">'Production'</span><span class="mtk12">]</span><span class="mtk1">.fillna</span><span class="mtk12">(</span><span class="mtk1">mean_production</span><span class="mtk12">)</span></span><br><span><span></span></span><br><span><span></span></span><br><span><span class="mtk1">&nbsp;&nbsp;&nbsp;</span><span class="mtk8">#&nbsp;Verify&nbsp;that&nbsp;null&nbsp;values&nbsp;are&nbsp;handled</span></span><br><span><span class="mtk1">&nbsp;&nbsp;&nbsp;null_production_after&nbsp;=&nbsp;IMDB_df</span><span class="mtk12">[</span><span class="mtk5">'Production'</span><span class="mtk12">]</span><span class="mtk1">.isnull</span><span class="mtk12">()</span><span class="mtk1">.</span><span class="mtk15">sum</span><span class="mtk12">()</span></span><br><span><span class="mtk1">&nbsp;&nbsp;&nbsp;</span><span class="mtk15">print</span><span class="mtk12">(</span><span class="mtk9">f</span><span class="mtk5">"Number&nbsp;of&nbsp;null&nbsp;values&nbsp;in&nbsp;'Production'&nbsp;column&nbsp;afte</span><span class="mtk5">r&nbsp;handling:&nbsp;</span><span class="mtk12">{</span><span class="mtk1">null_production_after</span><span class="mtk12">}</span><span class="mtk5">"</span><span class="mtk12">)</span></span><br></code></pre>
        <a href="https://g.co/legal/generative-code" target="_blank">
          Use code with caution</a>
      </div>
    </div><!--?--><!----><!----><!--?lit$549300851$--><div><span><p><strong>Explanation:</strong></p>
<ul>
<li><strong><code>IMDB_df['Production'].isnull()</code></strong>: This part creates a boolean mask, where <code>True</code> indicates a null value in the 'Production' column and <code>False</code> otherwise.</li>
<li><strong><code>.sum()</code></strong>: When applied to a boolean series, <code>.sum()</code> will count the number of <code>True</code> values, giving the total number of nulls.</li>
<li><strong><code>.fillna(mean_production)</code></strong>: This replaces the null values in the <code>'Production'</code> column with the calculated mean value.</li>
<li>I have included the original import statements and loading of the dataframe so this entire code snippet can run.</li>
</ul>
<p>This should solve the <code>KeyError</code> you were encountering and correctly handle null values in your 'Production' column.</p>
</span></div><!--?--><!----></div></colab-aida-message><!----><!----><colab-aida-message><template shadowrootmode="open"><!----><!--?lit$549300851$--><md-icon class="avatar" aria-hidden="true"><template shadowrootmode="open"><!----><slot></slot></template><!--?lit$549300851$-->
    <svg viewBox="0 0 40 40">
      <path fill="#93ADCF" d="m20,0c-11.04,0 -20,8.96 -20,20c0,11.04 8.96,20 20,20c11.04,0 20,-8.96 20,-20c0,-11.04 -8.96,-20 -20,-20l0,0z"></path>
      <path fill="#CFDAEF" d="m20,34.4c-5,0 -9.42,-2.56 -12,-6.44c0.06,-3.98 8,-6.16 12,-6.16c3.98,0 11.94,2.18 12,6.16c-2.58,3.88 -7,6.44 -12,6.44l0,0z"></path>
      <path fill="#CFDAEF" d="m20,6c3.32,0 6,2.68 6,6c0,3.32 -2.68,6 -6,6c-3.32,0 -6,-2.68 -6,-6c0,-3.32 2.68,-6 6,-6l0,0z"></path>
    </svg></md-icon>
      <div class="body done">
        <!--?lit$549300851$-->
        <slot></slot>
        <!--?lit$549300851$--> <!--?lit$549300851$-->
      </div></template><div class="markdown"><!----><!----><!--?lit$549300851$--><div><span><p>find the outlier using matrplotlib</p>
</span></div><!--?--><!----></div></colab-aida-message><!----><!----><colab-aida-message><template shadowrootmode="open"><!----><!--?lit$549300851$--><md-icon class="avatar" aria-hidden="true"><template shadowrootmode="open"><!----><slot></slot></template><!--?lit$549300851$-->spark</md-icon>
      <div class="body done">
        <!--?lit$549300851$-->
        <slot></slot>
        <!--?lit$549300851$--><details class="recitations">
      <summary><!--?lit$549300851$-->Sources</summary>
      <ol>
        <!--?lit$549300851$--><!----><li>
        <!--?lit$549300851$--><a target="_blank" href="https://stackoverflow.com/questions/10238357/finding-the-outlier-points-from-matplotlib-boxplot"><!--?lit$549300851$-->stackoverflow.com/questions/10238357/finding-the-outlier-points-from-matplotlib-boxplot</a></li><!----><!----><li>
        <!--?lit$549300851$--><a target="_blank" href="https://stackoverflow.com/questions/62802061/python-find-outliers-inside-a-list"><!--?lit$549300851$-->stackoverflow.com/questions/62802061/python-find-outliers-inside-a-list</a></li><!----><!----><li>
        <!--?lit$549300851$--><a target="_blank" href="https://careerfoundry.com/en/blog/data-analytics/how-to-find-outliers"><!--?lit$549300851$-->careerfoundry.com/en/blog/data-analytics/how-to-find-outliers</a></li><!---->
      </ol>
    </details> <!--?lit$549300851$-->
      <div class="user-rating"><!--?lit$549300851$-->Rate this answer
        <colab-ai-rating-buttons rating="unset"><template shadowrootmode="open"><!---->
      <mwc-icon-button-toggle class="thumb-up" officon="thumb_up" onicon="thumb_up" title="Good response"><template shadowrootmode="open"><!----><button class="mdc-icon-button mdc-icon-button--display-flex   " aria-pressed="false" aria-label="Good response"><!--?lit$549300851$-->
        <span class="mdc-icon-button__icon"><slot name="offIcon"><i class="material-icons"><!--?lit$549300851$-->thumb_up</i></slot></span>
        <span class="mdc-icon-button__icon mdc-icon-button__icon--on"><slot name="onIcon"><i class="material-icons"><!--?lit$549300851$-->thumb_up</i></slot></span>
      </button></template>
        <md-icon slot="offIcon" aria-hidden="true"><template shadowrootmode="open"><!----><slot></slot></template>thumb_up</md-icon>
        <md-icon slot="onIcon" aria-hidden="true"><template shadowrootmode="open"><!----><slot></slot></template>thumb_up</md-icon>
      </mwc-icon-button-toggle>
      <mwc-icon-button-toggle class="thumb-down" title="Bad response"><template shadowrootmode="open"><!----><button class="mdc-icon-button mdc-icon-button--display-flex   " aria-pressed="false" aria-label="Bad response"><!--?lit$549300851$-->
        <span class="mdc-icon-button__icon"><slot name="offIcon"><i class="material-icons"><!--?lit$549300851$--></i></slot></span>
        <span class="mdc-icon-button__icon mdc-icon-button__icon--on"><slot name="onIcon"><i class="material-icons"><!--?lit$549300851$--></i></slot></span>
      </button></template>
        <md-icon slot="offIcon" aria-hidden="true"><template shadowrootmode="open"><!----><slot></slot></template>thumb_down</md-icon>
        <md-icon slot="onIcon" aria-hidden="true"><template shadowrootmode="open"><!----><slot></slot></template>thumb_down</md-icon>
      </mwc-icon-button-toggle>
    </template>
        </colab-ai-rating-buttons>
      </div>
    
      </div></template><div class="markdown"><!----><!----><!--?lit$549300851$--><div><span><p>Okay, let's find outliers in the 'Production' column using matplotlib. We'll use a boxplot, which is a standard way to visualize and identify outliers.</p>
</span></div><!--?--><!----><!----><!--?lit$549300851$--><div class="code-block"><!--?lit$549300851$--><colab-code-toolbar><template shadowrootmode="open"><!----><div class="contents">
      <mwc-icon-button title="Copy"><template shadowrootmode="open"><!----><button class="mdc-icon-button mdc-icon-button--display-flex" aria-label="Copy"><!--?lit$549300851$-->
    <!--?lit$549300851$-->
    <span><slot></slot></span>
  </button></template><md-icon aria-hidden="true"><template shadowrootmode="open"><!----><slot></slot></template>content_copy</md-icon></mwc-icon-button>
      <mwc-icon-button class="insert" title="Add code cell"><template shadowrootmode="open"><!----><button class="mdc-icon-button mdc-icon-button--display-flex" aria-label="Add code cell"><!--?lit$549300851$-->
    <!--?lit$549300851$-->
    <span><slot></slot></span>
  </button></template><!--?lit$549300851$--><svg viewBox="0 0 24 24"><!--?lit$549300851$-->
      <g id="mirror-cell">
        <path d="M4,21V7H2V21a2,2,0,0,0,2,2H18V21Z"></path>
        <path d="M6,13v2H8.6L5,18.6,6.4,20,10,16.4V19h2V13Z"></path>
        <path d="M19,1H8A2,2,0,0,0,6,3v8H8V3H19V17H14v2h5a2,2,0,0,0,2-2V3A2,2,0,0,0,19,1Z"></path>
      </g></svg></mwc-icon-button>
    </div></template></colab-code-toolbar>
      <div class="generated-code-warning">
        <pre class="with-code-warning"><!--?lit$549300851$--><code data-lang="notebook-python" class=" colab-dark"><span><span class="mtk18">import</span><span class="mtk1">&nbsp;pandas&nbsp;</span><span class="mtk18">as</span><span class="mtk1">&nbsp;pd</span></span><br><span><span class="mtk18">import</span><span class="mtk1">&nbsp;numpy&nbsp;</span><span class="mtk18">as</span><span class="mtk1">&nbsp;np</span></span><br><span><span class="mtk18">import</span><span class="mtk1">&nbsp;matplotlib.pyplot&nbsp;</span><span class="mtk18">as</span><span class="mtk1">&nbsp;plt</span></span><br><span><span></span></span><br><span><span class="mtk8">#&nbsp;Load&nbsp;the&nbsp;dataset</span></span><br><span><span class="mtk1">IMDB_df&nbsp;=&nbsp;pd.read_csv</span><span class="mtk12">(</span><span class="mtk5">'IAS.csv'</span><span class="mtk12">)</span></span><br><span><span></span></span><br><span><span class="mtk8">#&nbsp;Fill&nbsp;NA&nbsp;values&nbsp;before&nbsp;plotting</span></span><br><span><span class="mtk1">mean_production&nbsp;=&nbsp;IMDB_df</span><span class="mtk12">[</span><span class="mtk5">'Production'</span><span class="mtk12">]</span><span class="mtk1">.mean</span><span class="mtk12">()</span></span><br><span><span class="mtk1">IMDB_df</span><span class="mtk12">[</span><span class="mtk5">'Production'</span><span class="mtk12">]</span><span class="mtk1">&nbsp;=&nbsp;IMDB_df</span><span class="mtk12">[</span><span class="mtk5">'Production'</span><span class="mtk12">]</span><span class="mtk1">.fillna</span><span class="mtk12">(</span><span class="mtk1">mean_production</span><span class="mtk12">)</span></span><br><span><span></span></span><br><span><span></span></span><br><span><span class="mtk8">#&nbsp;Create&nbsp;the&nbsp;boxplot</span></span><br><span><span class="mtk1">plt.figure</span><span class="mtk12">(</span><span class="mtk1">figsize=</span><span class="mtk12">(</span><span class="mtk6">8</span><span class="mtk12">,</span><span class="mtk1">&nbsp;</span><span class="mtk6">6</span><span class="mtk12">))</span><span class="mtk1">&nbsp;&nbsp;</span><span class="mtk8">#&nbsp;Adjust&nbsp;figure&nbsp;size&nbsp;as&nbsp;needed</span></span><br><span><span class="mtk1">plt.boxplot</span><span class="mtk12">(</span><span class="mtk1">IMDB_df</span><span class="mtk12">[</span><span class="mtk5">'Production'</span><span class="mtk12">],</span><span class="mtk1">&nbsp;labels=</span><span class="mtk12">[</span><span class="mtk5">'Production'</span><span class="mtk12">])</span></span><br><span><span class="mtk1">plt.title</span><span class="mtk12">(</span><span class="mtk5">'Boxplot&nbsp;of&nbsp;Production'</span><span class="mtk12">)</span></span><br><span><span class="mtk1">plt.ylabel</span><span class="mtk12">(</span><span class="mtk5">'Production&nbsp;Value'</span><span class="mtk12">)</span></span><br><span><span class="mtk1">plt.grid</span><span class="mtk12">(</span><span class="mtk9">True</span><span class="mtk12">)</span></span><br><span><span class="mtk1">plt.show</span><span class="mtk12">()</span></span><br><span><span></span></span><br><span><span></span></span><br><span><span class="mtk8">#&nbsp;Extract&nbsp;outliers</span></span><br><span><span class="mtk1">boxplot_data&nbsp;=&nbsp;plt.boxplot</span><span class="mtk12">(</span><span class="mtk1">IMDB_df</span><span class="mtk12">[</span><span class="mtk5">'Production'</span><span class="mtk12">])</span></span><br><span><span class="mtk1">outliers&nbsp;=&nbsp;boxplot_data</span><span class="mtk12">[</span><span class="mtk5">'fliers'</span><span class="mtk12">][</span><span class="mtk6">0</span><span class="mtk12">]</span><span class="mtk1">.get_ydata</span><span class="mtk12">()</span></span><br><span><span class="mtk15">print</span><span class="mtk12">(</span><span class="mtk5">"Outlier&nbsp;values:"</span><span class="mtk12">,</span><span class="mtk1">&nbsp;outliers</span><span class="mtk12">)</span></span><br></code></pre>
        <a href="https://g.co/legal/generative-code" target="_blank">
          Use code with caution</a>
      </div>
    </div><!--?--><!----><!----><!--?lit$549300851$--><div><span><p><strong>Explanation:</strong></p>
<ol>
<li><strong>Import Libraries:</strong> Import <code>matplotlib.pyplot</code> for plotting.</li>
<li><strong>Load Data:</strong> Load your CSV file into <code>IMDB_df</code>.</li>
<li><strong>Handle Missing Values</strong>: Fill the NA values with the mean, to ensure the boxplot can be generated correctly.</li>
<li><strong>Create Boxplot:</strong><ul>
<li><code>plt.figure(figsize=(8, 6))</code> creates a figure and adjusts its size.</li>
<li><code>plt.boxplot(IMDB_df['Production'], labels=['Production'])</code> creates the boxplot using the 'Production' column.  The <code>labels</code> argument is used to label the x-axis.</li>
<li><code>plt.title()</code>, <code>plt.ylabel()</code>, and <code>plt.grid()</code> set the title, y-axis label, and add a grid to the plot for readability.</li>
<li><code>plt.show()</code> displays the plot.</li>
</ul>
</li>
<li><strong>Extract Outliers:</strong><ul>
<li><code>boxplot_data = plt.boxplot(IMDB_df['Production'])</code> re-creates the boxplot and saves it's properties to a variable <code>boxplot_data</code>.  This is done because the first call to <code>plt.boxplot</code> only draws the plot and does not save these properties.</li>
<li>The outliers are accessed using the <code>'fliers'</code> key, and the y-coordinates of the outlier points are accessed by getting <code>ydata</code> of the first element of the fliers array.</li>
<li>The outlier values are then printed to the console.</li>
</ul>
</li>
</ol>
<p>This code will:</p>
<ul>
<li>Generate a boxplot of the 'Production' column, where you can visually see potential outliers as points outside the "whiskers" of the box.</li>
<li>Print the numerical values of those outlier points to the console.</li>
</ul>
<p><strong>Important Notes:</strong></p>
<ul>
<li><strong>Outlier Definition:</strong> A boxplot uses the interquartile range (IQR) to define outliers. Points that fall below Q1 - 1.5 * IQR or above Q3 + 1.5 * IQR are considered outliers.</li>
<li><strong>Visual Inspection:</strong> The boxplot gives you a visual way to assess the distribution and identify potential outliers.  You can adjust the figure size if the plot is too small to view properly.</li>
<li><strong>Further Analysis:</strong> Once you have identified outliers, you might want to investigate them further depending on your use case. You might want to exclude them, cap them, transform them, or handle them in some other way.</li>
</ul>
</span></div><!--?--><!----></div></colab-aida-message><!----><!----><colab-aida-message><template shadowrootmode="open"><!----><!--?lit$549300851$--><md-icon class="avatar" aria-hidden="true"><template shadowrootmode="open"><!----><slot></slot></template><!--?lit$549300851$-->
    <svg viewBox="0 0 40 40">
      <path fill="#93ADCF" d="m20,0c-11.04,0 -20,8.96 -20,20c0,11.04 8.96,20 20,20c11.04,0 20,-8.96 20,-20c0,-11.04 -8.96,-20 -20,-20l0,0z"></path>
      <path fill="#CFDAEF" d="m20,34.4c-5,0 -9.42,-2.56 -12,-6.44c0.06,-3.98 8,-6.16 12,-6.16c3.98,0 11.94,2.18 12,6.16c-2.58,3.88 -7,6.44 -12,6.44l0,0z"></path>
      <path fill="#CFDAEF" d="m20,6c3.32,0 6,2.68 6,6c0,3.32 -2.68,6 -6,6c-3.32,0 -6,-2.68 -6,-6c0,-3.32 2.68,-6 6,-6l0,0z"></path>
    </svg></md-icon>
      <div class="body done">
        <!--?lit$549300851$-->
        <slot></slot>
        <!--?lit$549300851$--> <!--?lit$549300851$-->
      </div></template><div class="markdown"><!----><!----><!--?lit$549300851$--><div><span><p>find boxplot for the every column</p>
</span></div><!--?--><!----></div></colab-aida-message><!----><!----><colab-aida-message><template shadowrootmode="open"><!----><!--?lit$549300851$--><md-icon class="avatar" aria-hidden="true"><template shadowrootmode="open"><!----><slot></slot></template><!--?lit$549300851$-->spark</md-icon>
      <div class="body done">
        <!--?lit$549300851$-->
        <slot></slot>
        <!--?lit$549300851$--><details class="recitations">
      <summary><!--?lit$549300851$-->Sources</summary>
      <ol>
        <!--?lit$549300851$--><!----><li>
        <!--?lit$549300851$--><a target="_blank" href="https://stackoverflow.com/questions/51777217/how-to-plot-a-boxplot-for-each-column-in-a-dataframe"><!--?lit$549300851$-->stackoverflow.com/questions/51777217/how-to-plot-a-boxplot-for-each-column-in-a-dataframe</a></li><!----><!----><li>
        <!--?lit$549300851$--><a target="_blank" href="https://pandas.pydata.org/docs/reference/api/pandas.DataFrame.boxplot.html"><!--?lit$549300851$-->pandas.pydata.org/docs/reference/api/pandas.DataFrame.boxplot.html</a></li><!----><!----><li>
        <!--?lit$549300851$--><a target="_blank" href="https://stackoverflow.com/questions/49554139/boxplot-of-multiple-columns-of-a-pandas-dataframe-on-the-same-figure-seaborn"><!--?lit$549300851$-->stackoverflow.com/questions/49554139/boxplot-of-multiple-columns-of-a-pandas-dataframe-on-the-same-figure-seaborn</a></li><!----><!----><li>
        <!--?lit$549300851$--><a target="_blank" href="https://proclusacademy.com/blog/quicktip/boxplot-separate-yaxis/"><!--?lit$549300851$-->proclusacademy.com/blog/quicktip/boxplot-separate-yaxis/</a></li><!----><!----><li>
        <!--?lit$549300851$--><a target="_blank" href="https://docs.vultr.com/python/third-party/pandas/DataFrame/boxplot"><!--?lit$549300851$-->docs.vultr.com/python/third-party/pandas/DataFrame/boxplot</a></li><!---->
      </ol>
    </details> <!--?lit$549300851$-->
      <div class="user-rating"><!--?lit$549300851$-->Rate this answer
        <colab-ai-rating-buttons rating="unset"><template shadowrootmode="open"><!---->
      <mwc-icon-button-toggle class="thumb-up" officon="thumb_up" onicon="thumb_up" title="Good response"><template shadowrootmode="open"><!----><button class="mdc-icon-button mdc-icon-button--display-flex   " aria-pressed="false" aria-label="Good response"><!--?lit$549300851$-->
        <span class="mdc-icon-button__icon"><slot name="offIcon"><i class="material-icons"><!--?lit$549300851$-->thumb_up</i></slot></span>
        <span class="mdc-icon-button__icon mdc-icon-button__icon--on"><slot name="onIcon"><i class="material-icons"><!--?lit$549300851$-->thumb_up</i></slot></span>
      </button></template>
        <md-icon slot="offIcon" aria-hidden="true"><template shadowrootmode="open"><!----><slot></slot></template>thumb_up</md-icon>
        <md-icon slot="onIcon" aria-hidden="true"><template shadowrootmode="open"><!----><slot></slot></template>thumb_up</md-icon>
      </mwc-icon-button-toggle>
      <mwc-icon-button-toggle class="thumb-down" title="Bad response"><template shadowrootmode="open"><!----><button class="mdc-icon-button mdc-icon-button--display-flex   " aria-pressed="false" aria-label="Bad response"><!--?lit$549300851$-->
            <mwc-ripple unbounded=""><template shadowrootmode="open"><!---->
        <div class="mdc-ripple-surface mdc-ripple-upgraded mdc-ripple-upgraded--unbounded" style="--mdc-ripple-fg-scale: 1.8; --mdc-ripple-fg-size: 20px; --mdc-ripple-left: 8px; --mdc-ripple-top: 8px;"></div></template>
            </mwc-ripple>
        <span class="mdc-icon-button__icon"><slot name="offIcon"><i class="material-icons"><!--?lit$549300851$--></i></slot></span>
        <span class="mdc-icon-button__icon mdc-icon-button__icon--on"><slot name="onIcon"><i class="material-icons"><!--?lit$549300851$--></i></slot></span>
      </button></template>
        <md-icon slot="offIcon" aria-hidden="true"><template shadowrootmode="open"><!----><slot></slot></template>thumb_down</md-icon>
        <md-icon slot="onIcon" aria-hidden="true"><template shadowrootmode="open"><!----><slot></slot></template>thumb_down</md-icon>
      </mwc-icon-button-toggle>
    </template>
        </colab-ai-rating-buttons>
      </div>
    
      </div></template><div class="markdown"><!----><!----><!--?lit$549300851$--><div><span><p>Okay, let's create boxplots for every numerical column in your DataFrame. Here's the code to do that:</p>
</span></div><!--?--><!----><!----><!--?lit$549300851$--><div class="code-block"><!--?lit$549300851$--><colab-code-toolbar><template shadowrootmode="open"><!----><div class="contents">
      <mwc-icon-button title="Copy"><template shadowrootmode="open"><!----><button class="mdc-icon-button mdc-icon-button--display-flex" aria-label="Copy"><!--?lit$549300851$-->
    <!--?lit$549300851$-->
    <span><slot></slot></span>
  </button></template><md-icon aria-hidden="true"><template shadowrootmode="open"><!----><slot></slot></template>content_copy</md-icon></mwc-icon-button>
      <mwc-icon-button class="insert" title="Add code cell"><template shadowrootmode="open"><!----><button class="mdc-icon-button mdc-icon-button--display-flex" aria-label="Add code cell"><!--?lit$549300851$-->
    <!--?lit$549300851$-->
    <span><slot></slot></span>
  </button></template><!--?lit$549300851$--><svg viewBox="0 0 24 24"><!--?lit$549300851$-->
      <g id="mirror-cell">
        <path d="M4,21V7H2V21a2,2,0,0,0,2,2H18V21Z"></path>
        <path d="M6,13v2H8.6L5,18.6,6.4,20,10,16.4V19h2V13Z"></path>
        <path d="M19,1H8A2,2,0,0,0,6,3v8H8V3H19V17H14v2h5a2,2,0,0,0,2-2V3A2,2,0,0,0,19,1Z"></path>
      </g></svg></mwc-icon-button>
    </div></template></colab-code-toolbar>
      <div class="generated-code-warning">
        <pre class="with-code-warning"><!--?lit$549300851$--><code data-lang="notebook-python" class=" colab-dark"><span><span class="mtk18">import</span><span class="mtk1">&nbsp;pandas&nbsp;</span><span class="mtk18">as</span><span class="mtk1">&nbsp;pd</span></span><br><span><span class="mtk18">import</span><span class="mtk1">&nbsp;matplotlib.pyplot&nbsp;</span><span class="mtk18">as</span><span class="mtk1">&nbsp;plt</span></span><br><span><span></span></span><br><span><span class="mtk8">#&nbsp;Load&nbsp;the&nbsp;dataset</span></span><br><span><span class="mtk1">IMDB_df&nbsp;=&nbsp;pd.read_csv</span><span class="mtk12">(</span><span class="mtk5">'IAS.csv'</span><span class="mtk12">)</span></span><br><span><span></span></span><br><span><span class="mtk8">#&nbsp;Identify&nbsp;numerical&nbsp;columns</span></span><br><span><span class="mtk1">numerical_cols&nbsp;=&nbsp;IMDB_df.select_dtypes</span><span class="mtk12">(</span><span class="mtk1">include=</span><span class="mtk12">[</span><span class="mtk5">'number'</span><span class="mtk12">])</span><span class="mtk1">.columns</span></span><br><span><span></span></span><br><span><span class="mtk8">#&nbsp;Create&nbsp;boxplots&nbsp;for&nbsp;each&nbsp;numerical&nbsp;column</span></span><br><span><span class="mtk18">for</span><span class="mtk1">&nbsp;col&nbsp;</span><span class="mtk17">in</span><span class="mtk1">&nbsp;numerical_cols</span><span class="mtk12">:</span></span><br><span><span class="mtk1">&nbsp;&nbsp;&nbsp;&nbsp;plt.figure</span><span class="mtk12">(</span><span class="mtk1">figsize=</span><span class="mtk12">(</span><span class="mtk6">8</span><span class="mtk12">,</span><span class="mtk1">&nbsp;</span><span class="mtk6">6</span><span class="mtk12">))</span><span class="mtk1">&nbsp;&nbsp;</span><span class="mtk8">#&nbsp;Adjust&nbsp;figure&nbsp;size&nbsp;as&nbsp;needed</span></span><br><span><span class="mtk1">&nbsp;&nbsp;&nbsp;&nbsp;plt.boxplot</span><span class="mtk12">(</span><span class="mtk1">IMDB_df</span><span class="mtk12">[</span><span class="mtk1">col</span><span class="mtk12">],</span><span class="mtk1">&nbsp;labels=</span><span class="mtk12">[</span><span class="mtk1">col</span><span class="mtk12">])</span></span><br><span><span class="mtk1">&nbsp;&nbsp;&nbsp;&nbsp;plt.title</span><span class="mtk12">(</span><span class="mtk9">f</span><span class="mtk5">'Boxplot&nbsp;of&nbsp;</span><span class="mtk12">{</span><span class="mtk1">col</span><span class="mtk12">}</span><span class="mtk5">'</span><span class="mtk12">)</span></span><br><span><span class="mtk1">&nbsp;&nbsp;&nbsp;&nbsp;plt.ylabel</span><span class="mtk12">(</span><span class="mtk1">col</span><span class="mtk12">)</span></span><br><span><span class="mtk1">&nbsp;&nbsp;&nbsp;&nbsp;plt.grid</span><span class="mtk12">(</span><span class="mtk9">True</span><span class="mtk12">)</span></span><br><span><span class="mtk1">&nbsp;&nbsp;&nbsp;&nbsp;plt.show</span><span class="mtk12">()</span></span><br></code></pre>
        <a href="https://g.co/legal/generative-code" target="_blank">
          Use code with caution</a>
      </div>
    </div><!--?--><!----><!----><!--?lit$549300851$--><div><span><p><strong>Explanation:</strong></p>
<ol>
<li><strong>Import Libraries:</strong> Import pandas and matplotlib.</li>
<li><strong>Load Data:</strong> Load the CSV into <code>IMDB_df</code>.</li>
<li><strong>Identify Numerical Columns:</strong><ul>
<li><code>IMDB_df.select_dtypes(include=['number'])</code> selects only the columns that contain numerical data.</li>
<li><code>.columns</code> extracts the column names of the numerical columns.</li>
</ul>
</li>
<li><strong>Loop Through Columns:</strong><ul>
<li>The code iterates over each numerical column name stored in <code>numerical_cols</code>.</li>
<li>Inside the loop:<ul>
<li><code>plt.figure(figsize=(8, 6))</code> creates a new figure for each boxplot.</li>
<li><code>plt.boxplot(IMDB_df[col], labels=[col])</code> creates the boxplot for the current column.</li>
<li><code>plt.title()</code>, <code>plt.ylabel()</code>, and <code>plt.grid()</code> set the title, y-axis label, and grid for each plot.</li>
<li><code>plt.show()</code> displays each boxplot individually.</li>
</ul>
</li>
</ul>
</li>
</ol>
<p><strong>How it Works:</strong></p>
<ul>
<li>The code first identifies all the columns that contain numeric data.</li>
<li>Then, it loops through these columns and creates a separate boxplot for each column.</li>
<li>Each boxplot will have a title indicating which column it represents, and the y-axis will be labeled as that column as well.</li>
</ul>
<p>This will generate a series of boxplots, each showing the distribution and any outliers for a specific numerical column in your DataFrame. This approach helps you to quickly examine all relevant columns in your dataset.</p>
</span></div><!--?--><!----></div></colab-aida-message><!----><!----><colab-aida-message><template shadowrootmode="open"><!----><!--?lit$549300851$--><md-icon class="avatar" aria-hidden="true"><template shadowrootmode="open"><!----><slot></slot></template><!--?lit$549300851$-->
    <svg viewBox="0 0 40 40">
      <path fill="#93ADCF" d="m20,0c-11.04,0 -20,8.96 -20,20c0,11.04 8.96,20 20,20c11.04,0 20,-8.96 20,-20c0,-11.04 -8.96,-20 -20,-20l0,0z"></path>
      <path fill="#CFDAEF" d="m20,34.4c-5,0 -9.42,-2.56 -12,-6.44c0.06,-3.98 8,-6.16 12,-6.16c3.98,0 11.94,2.18 12,6.16c-2.58,3.88 -7,6.44 -12,6.44l0,0z"></path>
      <path fill="#CFDAEF" d="m20,6c3.32,0 6,2.68 6,6c0,3.32 -2.68,6 -6,6c-3.32,0 -6,-2.68 -6,-6c0,-3.32 2.68,-6 6,-6l0,0z"></path>
    </svg></md-icon>
      <div class="body done">
        <!--?lit$549300851$-->
        <slot></slot>
        <!--?lit$549300851$--> <!--?lit$549300851$-->
      </div></template><div class="markdown"><!----><!----><!--?lit$549300851$--><div><span><p>explain it show the outlier in the figure</p>
</span></div><!--?--><!----></div></colab-aida-message><!----><!----><colab-aida-message><template shadowrootmode="open"><!----><!--?lit$549300851$--><md-icon class="avatar" aria-hidden="true"><template shadowrootmode="open"><!----><slot></slot></template><!--?lit$549300851$-->spark</md-icon>
      <div class="body done">
        <!--?lit$549300851$-->
        <slot></slot>
        <!--?lit$549300851$--><details class="recitations">
      <summary><!--?lit$549300851$-->Sources</summary>
      <ol>
        <!--?lit$549300851$--><!----><li>
        <!--?lit$549300851$--><a target="_blank" href="https://chartexpo.com/blog/box-plot-outliers"><!--?lit$549300851$-->chartexpo.com/blog/box-plot-outliers</a></li><!----><!----><li>
        <!--?lit$549300851$--><a target="_blank" href="https://www.ibm.com/docs/en/cognos-analytics/11.2.0?topic=type-box-plot"><!--?lit$549300851$-->www.ibm.com/docs/en/cognos-analytics/11.2.0</a></li><!----><!----><li>
        <!--?lit$549300851$--><a target="_blank" href="https://www.jmp.com/en_us/statistics-knowledge-portal/exploratory-data-analysis/box-plot.html"><!--?lit$549300851$-->www.jmp.com/en_us/statistics-knowledge-portal/exploratory-data-analysis/box-plot.html</a></li><!----><!----><li>
        <!--?lit$549300851$--><a target="_blank" href="https://www.6sigma.us/six-sigma-in-focus/box-and-whisker-plots/"><!--?lit$549300851$-->www.6sigma.us/six-sigma-in-focus/box-and-whisker-plots/</a></li><!---->
      </ol>
    </details> <!--?lit$549300851$-->
      <div class="user-rating"><!--?lit$549300851$-->Rate this answer
        <colab-ai-rating-buttons rating="unset"><template shadowrootmode="open"><!---->
      <mwc-icon-button-toggle class="thumb-up" officon="thumb_up" onicon="thumb_up" title="Good response"><template shadowrootmode="open"><!----><button class="mdc-icon-button mdc-icon-button--display-flex   " aria-pressed="false" aria-label="Good response"><!--?lit$549300851$-->
        <span class="mdc-icon-button__icon"><slot name="offIcon"><i class="material-icons"><!--?lit$549300851$-->thumb_up</i></slot></span>
        <span class="mdc-icon-button__icon mdc-icon-button__icon--on"><slot name="onIcon"><i class="material-icons"><!--?lit$549300851$-->thumb_up</i></slot></span>
      </button></template>
        <md-icon slot="offIcon" aria-hidden="true"><template shadowrootmode="open"><!----><slot></slot></template>thumb_up</md-icon>
        <md-icon slot="onIcon" aria-hidden="true"><template shadowrootmode="open"><!----><slot></slot></template>thumb_up</md-icon>
      </mwc-icon-button-toggle>
      <mwc-icon-button-toggle class="thumb-down" title="Bad response"><template shadowrootmode="open"><!----><button class="mdc-icon-button mdc-icon-button--display-flex   " aria-pressed="false" aria-label="Bad response"><!--?lit$549300851$-->
        <span class="mdc-icon-button__icon"><slot name="offIcon"><i class="material-icons"><!--?lit$549300851$--></i></slot></span>
        <span class="mdc-icon-button__icon mdc-icon-button__icon--on"><slot name="onIcon"><i class="material-icons"><!--?lit$549300851$--></i></slot></span>
      </button></template>
        <md-icon slot="offIcon" aria-hidden="true"><template shadowrootmode="open"><!----><slot></slot></template>thumb_down</md-icon>
        <md-icon slot="onIcon" aria-hidden="true"><template shadowrootmode="open"><!----><slot></slot></template>thumb_down</md-icon>
      </mwc-icon-button-toggle>
    </template>
        </colab-ai-rating-buttons>
      </div>
    
      </div></template><div class="markdown"><!----><!----><!--?lit$549300851$--><div><span><p>Okay, let's modify the code to highlight the outlier points directly on the boxplot figures. We'll use the <code>flierprops</code> argument in <code>plt.boxplot</code> to customize how the outlier points are displayed, making them more visible.</p>
</span></div><!--?--><!----><!----><!--?lit$549300851$--><div class="code-block"><!--?lit$549300851$--><colab-code-toolbar><template shadowrootmode="open"><!----><div class="contents">
      <mwc-icon-button title="Copy"><template shadowrootmode="open"><!----><button class="mdc-icon-button mdc-icon-button--display-flex" aria-label="Copy"><!--?lit$549300851$-->
    <!--?lit$549300851$-->
    <span><slot></slot></span>
  </button></template><md-icon aria-hidden="true"><template shadowrootmode="open"><!----><slot></slot></template>content_copy</md-icon></mwc-icon-button>
      <mwc-icon-button class="insert" title="Add code cell"><template shadowrootmode="open"><!----><button class="mdc-icon-button mdc-icon-button--display-flex" aria-label="Add code cell"><!--?lit$549300851$-->
    <!--?lit$549300851$-->
    <span><slot></slot></span>
  </button></template><!--?lit$549300851$--><svg viewBox="0 0 24 24"><!--?lit$549300851$-->
      <g id="mirror-cell">
        <path d="M4,21V7H2V21a2,2,0,0,0,2,2H18V21Z"></path>
        <path d="M6,13v2H8.6L5,18.6,6.4,20,10,16.4V19h2V13Z"></path>
        <path d="M19,1H8A2,2,0,0,0,6,3v8H8V3H19V17H14v2h5a2,2,0,0,0,2-2V3A2,2,0,0,0,19,1Z"></path>
      </g></svg></mwc-icon-button>
    </div></template></colab-code-toolbar>
      <div class="generated-code-warning">
        <pre class="with-code-warning"><!--?lit$549300851$--><code data-lang="notebook-python" class=" colab-dark"><span><span class="mtk18">import</span><span class="mtk1">&nbsp;pandas&nbsp;</span><span class="mtk18">as</span><span class="mtk1">&nbsp;pd</span></span><br><span><span class="mtk18">import</span><span class="mtk1">&nbsp;matplotlib.pyplot&nbsp;</span><span class="mtk18">as</span><span class="mtk1">&nbsp;plt</span></span><br><span><span></span></span><br><span><span class="mtk8">#&nbsp;Load&nbsp;the&nbsp;dataset</span></span><br><span><span class="mtk1">IMDB_df&nbsp;=&nbsp;pd.read_csv</span><span class="mtk12">(</span><span class="mtk5">'IAS.csv'</span><span class="mtk12">)</span></span><br><span><span></span></span><br><span><span class="mtk8">#&nbsp;Identify&nbsp;numerical&nbsp;columns</span></span><br><span><span class="mtk1">numerical_cols&nbsp;=&nbsp;IMDB_df.select_dtypes</span><span class="mtk12">(</span><span class="mtk1">include=</span><span class="mtk12">[</span><span class="mtk5">'number'</span><span class="mtk12">])</span><span class="mtk1">.columns</span></span><br><span><span></span></span><br><span><span class="mtk8">#&nbsp;Create&nbsp;boxplots&nbsp;for&nbsp;each&nbsp;numerical&nbsp;column&nbsp;with&nbsp;h</span><span class="mtk8">ighlighted&nbsp;outliers</span></span><br><span><span class="mtk18">for</span><span class="mtk1">&nbsp;col&nbsp;</span><span class="mtk17">in</span><span class="mtk1">&nbsp;numerical_cols</span><span class="mtk12">:</span></span><br><span><span class="mtk1">&nbsp;&nbsp;&nbsp;&nbsp;plt.figure</span><span class="mtk12">(</span><span class="mtk1">figsize=</span><span class="mtk12">(</span><span class="mtk6">8</span><span class="mtk12">,</span><span class="mtk1">&nbsp;</span><span class="mtk6">6</span><span class="mtk12">))</span></span><br><span><span class="mtk1">&nbsp;&nbsp;&nbsp;&nbsp;</span></span><br><span><span class="mtk1">&nbsp;&nbsp;&nbsp;&nbsp;</span><span class="mtk8">#&nbsp;Create&nbsp;boxplot&nbsp;and&nbsp;get&nbsp;its&nbsp;properties</span></span><br><span><span class="mtk1">&nbsp;&nbsp;&nbsp;&nbsp;boxplot_data&nbsp;=&nbsp;plt.boxplot</span><span class="mtk12">(</span><span class="mtk1">IMDB_df</span><span class="mtk12">[</span><span class="mtk1">col</span><span class="mtk12">],</span><span class="mtk1">&nbsp;labels=</span><span class="mtk12">[</span><span class="mtk1">col</span><span class="mtk12">],</span></span><br><span><span class="mtk1">&nbsp;&nbsp;&nbsp;&nbsp;&nbsp;&nbsp;&nbsp;&nbsp;&nbsp;&nbsp;&nbsp;&nbsp;&nbsp;&nbsp;&nbsp;&nbsp;&nbsp;&nbsp;&nbsp;&nbsp;&nbsp;&nbsp;&nbsp;&nbsp;&nbsp;&nbsp;&nbsp;&nbsp;&nbsp;flierprops=</span><span class="mtk14">dict</span><span class="mtk12">(</span><span class="mtk1">marker=</span><span class="mtk5">'o'</span><span class="mtk12">,</span><span class="mtk1">&nbsp;markerfacecolor=</span><span class="mtk5">'red'</span><span class="mtk12">,</span><span class="mtk1">&nbsp;markersize=</span><span class="mtk6">8</span><span class="mtk12">,</span></span><br><span><span class="mtk1">&nbsp;&nbsp;&nbsp;&nbsp;&nbsp;&nbsp;&nbsp;&nbsp;&nbsp;&nbsp;&nbsp;&nbsp;&nbsp;&nbsp;&nbsp;&nbsp;&nbsp;&nbsp;&nbsp;&nbsp;&nbsp;&nbsp;&nbsp;&nbsp;&nbsp;&nbsp;&nbsp;&nbsp;&nbsp;&nbsp;&nbsp;&nbsp;&nbsp;&nbsp;&nbsp;&nbsp;&nbsp;&nbsp;&nbsp;&nbsp;&nbsp;&nbsp;&nbsp;&nbsp;linest</span><span class="mtk1">yle=</span><span class="mtk5">'none'</span><span class="mtk12">))</span></span><br><span><span></span></span><br><span><span class="mtk1">&nbsp;&nbsp;&nbsp;&nbsp;</span><span class="mtk8">#&nbsp;Add&nbsp;title,&nbsp;ylabel,&nbsp;and&nbsp;grid</span></span><br><span><span class="mtk1">&nbsp;&nbsp;&nbsp;&nbsp;plt.title</span><span class="mtk12">(</span><span class="mtk9">f</span><span class="mtk5">'Boxplot&nbsp;of&nbsp;</span><span class="mtk12">{</span><span class="mtk1">col</span><span class="mtk12">}</span><span class="mtk5">&nbsp;with&nbsp;Outliers&nbsp;Highlighted'</span><span class="mtk12">)</span></span><br><span><span class="mtk1">&nbsp;&nbsp;&nbsp;&nbsp;plt.ylabel</span><span class="mtk12">(</span><span class="mtk1">col</span><span class="mtk12">)</span></span><br><span><span class="mtk1">&nbsp;&nbsp;&nbsp;&nbsp;plt.grid</span><span class="mtk12">(</span><span class="mtk9">True</span><span class="mtk12">)</span></span><br><span><span class="mtk1">&nbsp;&nbsp;&nbsp;&nbsp;</span></span><br><span><span class="mtk1">&nbsp;&nbsp;&nbsp;&nbsp;plt.show</span><span class="mtk12">()</span></span><br></code></pre>
        <a href="https://g.co/legal/generative-code" target="_blank">
          Use code with caution</a>
      </div>
    </div><!--?--><!----><!----><!--?lit$549300851$--><div><span><p><strong>Key Changes and Explanation:</strong></p>
<ol>
<li><strong><code>flierprops</code> Argument</strong>:<ul>
<li>In the <code>plt.boxplot</code> function, we now include the <code>flierprops</code> argument. This argument allows us to customize the appearance of the outlier points.</li>
<li><code>flierprops=dict(marker='o', markerfacecolor='red', markersize=8, linestyle='none')</code> does the following:<ul>
<li><code>marker='o'</code>: Sets the marker style to circles.</li>
<li><code>markerfacecolor='red'</code>: Sets the fill color of the outlier markers to red.</li>
<li><code>markersize=8</code>: Sets the size of the outlier markers.</li>
<li><code>linestyle='none'</code>: Ensures that there are no lines connecting the outliers (this prevents an additional line being drawn if there is more than one outlier)</li>
</ul>
</li>
</ul>
</li>
<li><strong>Looping and Display</strong>:<ul>
<li>The rest of the code remains the same:  it iterates through numerical columns and creates a separate boxplot for each, displaying it using <code>plt.show()</code>.</li>
</ul>
</li>
</ol>
<p><strong>How This Code Works:</strong></p>
<ul>
<li>For every numerical column, the code creates a boxplot.</li>
<li>The outliers are highlighted as red circles on the boxplot. The <code>flierprops</code> argument ensures that they are easily visible and distinct from other parts of the plot.</li>
<li>Each boxplot is displayed separately, making it easy to analyze each column individually.</li>
</ul>
<p><strong>Why This Is Helpful:</strong></p>
<ul>
<li><strong>Improved Visualization:</strong> Highlighting outliers in red makes them immediately noticeable, which allows you to quickly identify which columns have a lot of outliers.</li>
<li><strong>Clear Identification:</strong> By having red markers for outliers, you can distinguish them from the whiskers and the box, leading to an easier analysis.</li>
<li><strong>Customizable:</strong> You can adjust the marker style, color, and size using the flierprops argument if needed.</li>
</ul>
<p>By running this code, you will get the same boxplots as before, but now with the outlier points clearly highlighted in red for better visualization.</p>
</span></div><!--?--><!----></div></colab-aida-message><!----><!----><colab-aida-message><template shadowrootmode="open"><!----><!--?lit$549300851$--><md-icon class="avatar" aria-hidden="true"><template shadowrootmode="open"><!----><slot></slot></template><!--?lit$549300851$-->
    <svg viewBox="0 0 40 40">
      <path fill="#93ADCF" d="m20,0c-11.04,0 -20,8.96 -20,20c0,11.04 8.96,20 20,20c11.04,0 20,-8.96 20,-20c0,-11.04 -8.96,-20 -20,-20l0,0z"></path>
      <path fill="#CFDAEF" d="m20,34.4c-5,0 -9.42,-2.56 -12,-6.44c0.06,-3.98 8,-6.16 12,-6.16c3.98,0 11.94,2.18 12,6.16c-2.58,3.88 -7,6.44 -12,6.44l0,0z"></path>
      <path fill="#CFDAEF" d="m20,6c3.32,0 6,2.68 6,6c0,3.32 -2.68,6 -6,6c-3.32,0 -6,-2.68 -6,-6c0,-3.32 2.68,-6 6,-6l0,0z"></path>
    </svg></md-icon>
      <div class="body done">
        <!--?lit$549300851$-->
        <slot></slot>
        <!--?lit$549300851$--> <!--?lit$549300851$-->
      </div></template><div class="markdown"><!----><!----><!--?lit$549300851$--><div><span><p>for RowID          73827 non-null  int64<br> 1   State_Name     73827 non-null  object 
 2   District_Name  73827 non-null  object 
 3   Crop_Year      73827 non-null  int64<br> 4   Season         73827 non-null  object 
 5   Crop           73827 non-null  object 
 6   Area           73827 non-null  float64
 7   Production
FOR THIS COLUMN FIND THE OUTLIER FOR EVERY COLUMN USING BOXPLOT</p>
</span></div><!--?--><!----></div></colab-aida-message><!----><!----><colab-aida-message><template shadowrootmode="open"><!----><!--?lit$549300851$--><md-icon class="avatar" aria-hidden="true"><template shadowrootmode="open"><!----><slot></slot></template><!--?lit$549300851$-->spark</md-icon>
      <div class="body done">
        <!--?lit$549300851$-->
        <slot></slot>
        <!--?lit$549300851$--><details class="recitations">
      <summary><!--?lit$549300851$-->Sources</summary>
      <ol>
        <!--?lit$549300851$--><!----><li>
        <!--?lit$549300851$--><a target="_blank" href="https://stackoverflow.com/questions/66422446/removing-outliers-using-box-plot"><!--?lit$549300851$-->stackoverflow.com/questions/66422446/removing-outliers-using-box-plot</a></li><!----><!----><li>
        <!--?lit$549300851$--><a target="_blank" href="https://stackoverflow.com/questions/56174833/how-can-i-iterate-through-a-csv-file-and-plot-it-to-a-boxplot-by-each-column-rep"><!--?lit$549300851$-->stackoverflow.com/questions/56174833/how-can-i-iterate-through-a-csv-file-and-plot-it-to-a-boxplot-by-each-column-rep</a></li><!----><!----><li>
        <!--?lit$549300851$--><a target="_blank" href="https://data101.cs.rutgers.edu/laboratory/pages/boxplots"><!--?lit$549300851$-->data101.cs.rutgers.edu/laboratory/pages/boxplots</a></li><!----><!----><li>
        <!--?lit$549300851$--><a target="_blank" href="https://www.atlassian.com/data/charts/box-plot-complete-guide"><!--?lit$549300851$-->www.atlassian.com/data/charts/box-plot-complete-guide</a></li><!----><!----><li>
        <!--?lit$549300851$--><a target="_blank" href="https://real-statistics.com/excel-capabilities/creating-box-plot-outliers-manually/"><!--?lit$549300851$-->real-statistics.com/excel-capabilities/creating-box-plot-outliers-manually/</a></li><!---->
      </ol>
    </details> <!--?lit$549300851$-->
      <div class="user-rating"><!--?lit$549300851$-->Rate this answer
        <colab-ai-rating-buttons rating="unset"><template shadowrootmode="open"><!---->
      <mwc-icon-button-toggle class="thumb-up" officon="thumb_up" onicon="thumb_up" title="Good response"><template shadowrootmode="open"><!----><button class="mdc-icon-button mdc-icon-button--display-flex   " aria-pressed="false" aria-label="Good response"><!--?lit$549300851$-->
        <span class="mdc-icon-button__icon"><slot name="offIcon"><i class="material-icons"><!--?lit$549300851$-->thumb_up</i></slot></span>
        <span class="mdc-icon-button__icon mdc-icon-button__icon--on"><slot name="onIcon"><i class="material-icons"><!--?lit$549300851$-->thumb_up</i></slot></span>
      </button></template>
        <md-icon slot="offIcon" aria-hidden="true"><template shadowrootmode="open"><!----><slot></slot></template>thumb_up</md-icon>
        <md-icon slot="onIcon" aria-hidden="true"><template shadowrootmode="open"><!----><slot></slot></template>thumb_up</md-icon>
      </mwc-icon-button-toggle>
      <mwc-icon-button-toggle class="thumb-down" title="Bad response"><template shadowrootmode="open"><!----><button class="mdc-icon-button mdc-icon-button--display-flex   " aria-pressed="false" aria-label="Bad response"><!--?lit$549300851$-->
        <span class="mdc-icon-button__icon"><slot name="offIcon"><i class="material-icons"><!--?lit$549300851$--></i></slot></span>
        <span class="mdc-icon-button__icon mdc-icon-button__icon--on"><slot name="onIcon"><i class="material-icons"><!--?lit$549300851$--></i></slot></span>
      </button></template>
        <md-icon slot="offIcon" aria-hidden="true"><template shadowrootmode="open"><!----><slot></slot></template>thumb_down</md-icon>
        <md-icon slot="onIcon" aria-hidden="true"><template shadowrootmode="open"><!----><slot></slot></template>thumb_down</md-icon>
      </mwc-icon-button-toggle>
    </template>
        </colab-ai-rating-buttons>
      </div>
    
      </div></template><div class="markdown"><!----><!----><!--?lit$549300851$--><div><span><p>Okay, I see. You want to find the outliers for <em>every</em> column in your DataFrame, but using boxplots, and you've also provided the <code>info()</code> output for your DataFrame to show the datatypes. It appears <code>Production</code> is the only column that has floats while the others are int or object. The <code>object</code> type is equivalent to string. Boxplots are designed for numeric data. So, we'll generate boxplots only for the columns that have numerical datatypes (int64 and float64) and skip object types. Here's the code:</p>
</span></div><!--?--><!----><!----><!--?lit$549300851$--><div class="code-block"><!--?lit$549300851$--><colab-code-toolbar><template shadowrootmode="open"><!----><div class="contents">
      <mwc-icon-button title="Copy"><template shadowrootmode="open"><!----><button class="mdc-icon-button mdc-icon-button--display-flex" aria-label="Copy"><!--?lit$549300851$-->
    <!--?lit$549300851$-->
    <span><slot></slot></span>
  </button></template><md-icon aria-hidden="true"><template shadowrootmode="open"><!----><slot></slot></template>content_copy</md-icon></mwc-icon-button>
      <mwc-icon-button class="insert" title="Add code cell"><template shadowrootmode="open"><!----><button class="mdc-icon-button mdc-icon-button--display-flex" aria-label="Add code cell"><!--?lit$549300851$-->
    <!--?lit$549300851$-->
    <span><slot></slot></span>
  </button></template><!--?lit$549300851$--><svg viewBox="0 0 24 24"><!--?lit$549300851$-->
      <g id="mirror-cell">
        <path d="M4,21V7H2V21a2,2,0,0,0,2,2H18V21Z"></path>
        <path d="M6,13v2H8.6L5,18.6,6.4,20,10,16.4V19h2V13Z"></path>
        <path d="M19,1H8A2,2,0,0,0,6,3v8H8V3H19V17H14v2h5a2,2,0,0,0,2-2V3A2,2,0,0,0,19,1Z"></path>
      </g></svg></mwc-icon-button>
    </div></template></colab-code-toolbar>
      <div class="generated-code-warning">
        <pre class="with-code-warning"><!--?lit$549300851$--><code data-lang="notebook-python" class=" colab-dark"><span><span class="mtk18">import</span><span class="mtk1">&nbsp;pandas&nbsp;</span><span class="mtk18">as</span><span class="mtk1">&nbsp;pd</span></span><br><span><span class="mtk18">import</span><span class="mtk1">&nbsp;matplotlib.pyplot&nbsp;</span><span class="mtk18">as</span><span class="mtk1">&nbsp;plt</span></span><br><span><span></span></span><br><span><span class="mtk8">#&nbsp;Load&nbsp;the&nbsp;dataset</span></span><br><span><span class="mtk1">IMDB_df&nbsp;=&nbsp;pd.read_csv</span><span class="mtk12">(</span><span class="mtk5">'IAS.csv'</span><span class="mtk12">)</span></span><br><span><span></span></span><br><span><span class="mtk8">#&nbsp;Identify&nbsp;numerical&nbsp;columns&nbsp;(int64&nbsp;or&nbsp;float64)</span></span><br><span><span class="mtk1">numerical_cols&nbsp;=&nbsp;IMDB_df.select_dtypes</span><span class="mtk12">(</span><span class="mtk1">include=</span><span class="mtk12">[</span><span class="mtk5">'int64'</span><span class="mtk12">,</span><span class="mtk1">&nbsp;</span><span class="mtk5">'float64'</span><span class="mtk12">])</span><span class="mtk1">.columns</span></span><br><span><span></span></span><br><span><span></span></span><br><span><span class="mtk8">#&nbsp;Create&nbsp;boxplots&nbsp;for&nbsp;each&nbsp;numerical&nbsp;column&nbsp;with&nbsp;h</span><span class="mtk8">ighlighted&nbsp;outliers</span></span><br><span><span class="mtk18">for</span><span class="mtk1">&nbsp;col&nbsp;</span><span class="mtk17">in</span><span class="mtk1">&nbsp;numerical_cols</span><span class="mtk12">:</span></span><br><span><span class="mtk1">&nbsp;&nbsp;&nbsp;&nbsp;plt.figure</span><span class="mtk12">(</span><span class="mtk1">figsize=</span><span class="mtk12">(</span><span class="mtk6">8</span><span class="mtk12">,</span><span class="mtk1">&nbsp;</span><span class="mtk6">6</span><span class="mtk12">))</span></span><br><span><span></span></span><br><span><span class="mtk1">&nbsp;&nbsp;&nbsp;&nbsp;</span><span class="mtk8">#&nbsp;Create&nbsp;boxplot&nbsp;and&nbsp;get&nbsp;its&nbsp;properties</span></span><br><span><span class="mtk1">&nbsp;&nbsp;&nbsp;&nbsp;boxplot_data&nbsp;=&nbsp;plt.boxplot</span><span class="mtk12">(</span><span class="mtk1">IMDB_df</span><span class="mtk12">[</span><span class="mtk1">col</span><span class="mtk12">],</span><span class="mtk1">&nbsp;labels=</span><span class="mtk12">[</span><span class="mtk1">col</span><span class="mtk12">],</span></span><br><span><span class="mtk1">&nbsp;&nbsp;&nbsp;&nbsp;&nbsp;&nbsp;&nbsp;&nbsp;&nbsp;&nbsp;&nbsp;&nbsp;&nbsp;&nbsp;&nbsp;&nbsp;&nbsp;&nbsp;&nbsp;&nbsp;&nbsp;&nbsp;&nbsp;&nbsp;&nbsp;&nbsp;&nbsp;&nbsp;&nbsp;flierprops=</span><span class="mtk14">dict</span><span class="mtk12">(</span><span class="mtk1">marker=</span><span class="mtk5">'o'</span><span class="mtk12">,</span><span class="mtk1">&nbsp;markerfacecolor=</span><span class="mtk5">'red'</span><span class="mtk12">,</span><span class="mtk1">&nbsp;markersize=</span><span class="mtk6">8</span><span class="mtk12">,</span></span><br><span><span class="mtk1">&nbsp;&nbsp;&nbsp;&nbsp;&nbsp;&nbsp;&nbsp;&nbsp;&nbsp;&nbsp;&nbsp;&nbsp;&nbsp;&nbsp;&nbsp;&nbsp;&nbsp;&nbsp;&nbsp;&nbsp;&nbsp;&nbsp;&nbsp;&nbsp;&nbsp;&nbsp;&nbsp;&nbsp;&nbsp;&nbsp;&nbsp;&nbsp;&nbsp;&nbsp;&nbsp;&nbsp;&nbsp;&nbsp;&nbsp;&nbsp;&nbsp;&nbsp;&nbsp;&nbsp;linest</span><span class="mtk1">yle=</span><span class="mtk5">'none'</span><span class="mtk12">))</span></span><br><span><span></span></span><br><span><span class="mtk1">&nbsp;&nbsp;&nbsp;&nbsp;</span><span class="mtk8">#&nbsp;Add&nbsp;title,&nbsp;ylabel,&nbsp;and&nbsp;grid</span></span><br><span><span class="mtk1">&nbsp;&nbsp;&nbsp;&nbsp;plt.title</span><span class="mtk12">(</span><span class="mtk9">f</span><span class="mtk5">'Boxplot&nbsp;of&nbsp;</span><span class="mtk12">{</span><span class="mtk1">col</span><span class="mtk12">}</span><span class="mtk5">&nbsp;with&nbsp;Outliers&nbsp;Highlighted'</span><span class="mtk12">)</span></span><br><span><span class="mtk1">&nbsp;&nbsp;&nbsp;&nbsp;plt.ylabel</span><span class="mtk12">(</span><span class="mtk1">col</span><span class="mtk12">)</span></span><br><span><span class="mtk1">&nbsp;&nbsp;&nbsp;&nbsp;plt.grid</span><span class="mtk12">(</span><span class="mtk9">True</span><span class="mtk12">)</span></span><br><span><span class="mtk1">&nbsp;&nbsp;&nbsp;&nbsp;plt.show</span><span class="mtk12">()</span></span><br></code></pre>
        <a href="https://g.co/legal/generative-code" target="_blank">
          Use code with caution</a>
      </div>
    </div><!--?--><!----><!----><!--?lit$549300851$--><div><span><p><strong>Key Changes and Explanation:</strong></p>
<ol>
<li><strong>Identify Numerical Columns</strong>:<ul>
<li><code>numerical_cols = IMDB_df.select_dtypes(include=['int64', 'float64']).columns</code> selects only the columns that have <code>int64</code> or <code>float64</code> data types. This ensures we only create boxplots for columns that are appropriate for this type of visualization.</li>
</ul>
</li>
<li><strong>Create Boxplots:</strong><ul>
<li>The rest of the code is the same as the previous response. It loops through numerical columns and creates a boxplot.</li>
<li>Outliers are highlighted with red circles.</li>
<li>Titles, y-axis labels, and gridlines are added.</li>
<li>The <code>plt.show()</code> function displays each boxplot individually.</li>
</ul>
</li>
</ol>
<p><strong>How this Code Works:</strong></p>
<ul>
<li>The code now <em>only</em> selects the numerical columns (int64 and float64).</li>
<li>It then loops through each numerical column, creating and displaying a boxplot with highlighted outliers for each.</li>
<li>Columns with string values are skipped.</li>
</ul>
<p>This code ensures you generate boxplots only for the numerical columns. Based on the provided <code>info()</code> output, this should create a boxplot for 'RowID', 'Crop_Year', 'Area', and 'Production' (and any other columns with int64 or float64 datatypes), and skip columns like 'State_Name','District_Name','Season', and 'Crop' since they are objects.</p>
</span></div><!--?--><!----></div></colab-aida-message><!----><!----><colab-aida-message><template shadowrootmode="open"><!----><!--?lit$549300851$--><md-icon class="avatar" aria-hidden="true"><template shadowrootmode="open"><!----><slot></slot></template><!--?lit$549300851$-->
    <svg viewBox="0 0 40 40">
      <path fill="#93ADCF" d="m20,0c-11.04,0 -20,8.96 -20,20c0,11.04 8.96,20 20,20c11.04,0 20,-8.96 20,-20c0,-11.04 -8.96,-20 -20,-20l0,0z"></path>
      <path fill="#CFDAEF" d="m20,34.4c-5,0 -9.42,-2.56 -12,-6.44c0.06,-3.98 8,-6.16 12,-6.16c3.98,0 11.94,2.18 12,6.16c-2.58,3.88 -7,6.44 -12,6.44l0,0z"></path>
      <path fill="#CFDAEF" d="m20,6c3.32,0 6,2.68 6,6c0,3.32 -2.68,6 -6,6c-3.32,0 -6,-2.68 -6,-6c0,-3.32 2.68,-6 6,-6l0,0z"></path>
    </svg></md-icon>
      <div class="body done">
        <!--?lit$549300851$-->
        <slot></slot>
        <!--?lit$549300851$--> <!--?lit$549300851$-->
      </div></template><div class="markdown"><!----><!----><!--?lit$549300851$--><div><span><p>FIND THE PRODUCTION OF THE YEAR And find the which year production is a high</p>
</span></div><!--?--><!----></div></colab-aida-message><!----><!----><colab-aida-message><template shadowrootmode="open"><!----><!--?lit$549300851$--><md-icon class="avatar" aria-hidden="true"><template shadowrootmode="open"><!----><slot></slot></template><!--?lit$549300851$-->spark</md-icon>
      <div class="body done">
        <!--?lit$549300851$-->
        <slot></slot>
        <!--?lit$549300851$--><details class="recitations">
      <summary><!--?lit$549300851$-->Sources</summary>
      <ol>
        <!--?lit$549300851$--><!----><li>
        <!--?lit$549300851$--><a target="_blank" href="https://realeconomy.rsmus.com/industrial-production-rises-to-highest-level-in-three-months/"><!--?lit$549300851$-->realeconomy.rsmus.com/industrial-production-rises-to-highest-level-in-three-months/</a></li><!----><!----><li>
        <!--?lit$549300851$--><a target="_blank" href="https://www.federalreserve.gov/releases/g17/current/default.htm"><!--?lit$549300851$-->www.federalreserve.gov/releases/g17/current/default.htm</a></li><!----><!----><li>
        <!--?lit$549300851$--><a target="_blank" href="https://fred.stlouisfed.org/series/INDPRO"><!--?lit$549300851$-->fred.stlouisfed.org/series/INDPRO</a></li><!----><!----><li>
        <!--?lit$549300851$--><a target="_blank" href="https://tradingeconomics.com/united-states/manufacturing-pmi"><!--?lit$549300851$-->tradingeconomics.com/united-states/manufacturing-pmi</a></li><!----><!----><li>
        <!--?lit$549300851$--><a target="_blank" href="https://www.haver.com/articles/u-s-industrial-production-exceeds-expectations-in-december"><!--?lit$549300851$-->www.haver.com/articles/u-s-industrial-production-exceeds-expectations-in-december</a></li><!---->
      </ol>
    </details> <!--?lit$549300851$-->
      <div class="user-rating"><!--?lit$549300851$-->Rate this answer
        <colab-ai-rating-buttons rating="unset"><template shadowrootmode="open"><!---->
      <mwc-icon-button-toggle class="thumb-up" officon="thumb_up" onicon="thumb_up" title="Good response"><template shadowrootmode="open"><!----><button class="mdc-icon-button mdc-icon-button--display-flex   " aria-pressed="false" aria-label="Good response"><!--?lit$549300851$-->
        <span class="mdc-icon-button__icon"><slot name="offIcon"><i class="material-icons"><!--?lit$549300851$-->thumb_up</i></slot></span>
        <span class="mdc-icon-button__icon mdc-icon-button__icon--on"><slot name="onIcon"><i class="material-icons"><!--?lit$549300851$-->thumb_up</i></slot></span>
      </button></template>
        <md-icon slot="offIcon" aria-hidden="true"><template shadowrootmode="open"><!----><slot></slot></template>thumb_up</md-icon>
        <md-icon slot="onIcon" aria-hidden="true"><template shadowrootmode="open"><!----><slot></slot></template>thumb_up</md-icon>
      </mwc-icon-button-toggle>
      <mwc-icon-button-toggle class="thumb-down" title="Bad response"><template shadowrootmode="open"><!----><button class="mdc-icon-button mdc-icon-button--display-flex   " aria-pressed="false" aria-label="Bad response"><!--?lit$549300851$-->
        <span class="mdc-icon-button__icon"><slot name="offIcon"><i class="material-icons"><!--?lit$549300851$--></i></slot></span>
        <span class="mdc-icon-button__icon mdc-icon-button__icon--on"><slot name="onIcon"><i class="material-icons"><!--?lit$549300851$--></i></slot></span>
      </button></template>
        <md-icon slot="offIcon" aria-hidden="true"><template shadowrootmode="open"><!----><slot></slot></template>thumb_down</md-icon>
        <md-icon slot="onIcon" aria-hidden="true"><template shadowrootmode="open"><!----><slot></slot></template>thumb_down</md-icon>
      </mwc-icon-button-toggle>
    </template>
        </colab-ai-rating-buttons>
      </div>
    
      </div></template><div class="markdown"><!----><!----><!--?lit$549300851$--><div><span><p>Okay, let's find the total production for each year and then identify the year with the highest production. Here's the code:</p>
</span></div><!--?--><!----><!----><!--?lit$549300851$--><div class="code-block"><!--?lit$549300851$--><colab-code-toolbar><template shadowrootmode="open"><!----><div class="contents">
      <mwc-icon-button title="Copy"><template shadowrootmode="open"><!----><button class="mdc-icon-button mdc-icon-button--display-flex" aria-label="Copy"><!--?lit$549300851$-->
    <!--?lit$549300851$-->
    <span><slot></slot></span>
  </button></template><md-icon aria-hidden="true"><template shadowrootmode="open"><!----><slot></slot></template>content_copy</md-icon></mwc-icon-button>
      <mwc-icon-button class="insert" title="Add code cell"><template shadowrootmode="open"><!----><button class="mdc-icon-button mdc-icon-button--display-flex" aria-label="Add code cell"><!--?lit$549300851$-->
    <!--?lit$549300851$-->
    <span><slot></slot></span>
  </button></template><!--?lit$549300851$--><svg viewBox="0 0 24 24"><!--?lit$549300851$-->
      <g id="mirror-cell">
        <path d="M4,21V7H2V21a2,2,0,0,0,2,2H18V21Z"></path>
        <path d="M6,13v2H8.6L5,18.6,6.4,20,10,16.4V19h2V13Z"></path>
        <path d="M19,1H8A2,2,0,0,0,6,3v8H8V3H19V17H14v2h5a2,2,0,0,0,2-2V3A2,2,0,0,0,19,1Z"></path>
      </g></svg></mwc-icon-button>
    </div></template></colab-code-toolbar>
      <div class="generated-code-warning">
        <pre class="with-code-warning"><!--?lit$549300851$--><code data-lang="notebook-python" class=" colab-dark"><span><span class="mtk18">import</span><span class="mtk1">&nbsp;pandas&nbsp;</span><span class="mtk18">as</span><span class="mtk1">&nbsp;pd</span></span><br><span><span></span></span><br><span><span class="mtk8">#&nbsp;Load&nbsp;the&nbsp;dataset</span></span><br><span><span class="mtk1">IMDB_df&nbsp;=&nbsp;pd.read_csv</span><span class="mtk12">(</span><span class="mtk5">'IAS.csv'</span><span class="mtk12">)</span></span><br><span><span></span></span><br><span><span class="mtk8">#&nbsp;Fill&nbsp;NA&nbsp;values&nbsp;in&nbsp;'Production'&nbsp;column&nbsp;with&nbsp;mean&nbsp;</span><span class="mtk8">before&nbsp;analysis</span></span><br><span><span class="mtk1">mean_production&nbsp;=&nbsp;IMDB_df</span><span class="mtk12">[</span><span class="mtk5">'Production'</span><span class="mtk12">]</span><span class="mtk1">.mean</span><span class="mtk12">()</span></span><br><span><span class="mtk1">IMDB_df</span><span class="mtk12">[</span><span class="mtk5">'Production'</span><span class="mtk12">]</span><span class="mtk1">&nbsp;=&nbsp;IMDB_df</span><span class="mtk12">[</span><span class="mtk5">'Production'</span><span class="mtk12">]</span><span class="mtk1">.fillna</span><span class="mtk12">(</span><span class="mtk1">mean_production</span><span class="mtk12">)</span></span><br><span><span></span></span><br><span><span class="mtk8">#&nbsp;Group&nbsp;by&nbsp;year&nbsp;and&nbsp;sum&nbsp;production</span></span><br><span><span class="mtk1">production_by_year&nbsp;=&nbsp;IMDB_df.groupby</span><span class="mtk12">(</span><span class="mtk5">'Crop_Year'</span><span class="mtk12">)[</span><span class="mtk5">'Production'</span><span class="mtk12">]</span><span class="mtk1">.</span><span class="mtk15">sum</span><span class="mtk12">()</span></span><br><span><span></span></span><br><span><span class="mtk8">#&nbsp;Print&nbsp;production&nbsp;by&nbsp;year</span></span><br><span><span class="mtk15">print</span><span class="mtk12">(</span><span class="mtk5">"Total&nbsp;Production&nbsp;by&nbsp;Year:"</span><span class="mtk12">)</span></span><br><span><span class="mtk15">print</span><span class="mtk12">(</span><span class="mtk1">production_by_year</span><span class="mtk12">)</span></span><br><span><span></span></span><br><span><span class="mtk8">#&nbsp;Find&nbsp;the&nbsp;year&nbsp;with&nbsp;the&nbsp;highest&nbsp;production</span></span><br><span><span class="mtk1">highest_production_year&nbsp;=&nbsp;production_by_year.idxma</span><span class="mtk1">x</span><span class="mtk12">()</span></span><br><span><span class="mtk1">highest_production_value&nbsp;=&nbsp;production_by_year.</span><span class="mtk15">max</span><span class="mtk12">()</span></span><br><span><span></span></span><br><span><span></span></span><br><span><span class="mtk15">print</span><span class="mtk12">(</span><span class="mtk9">f</span><span class="mtk5">"\nThe&nbsp;year&nbsp;with&nbsp;the&nbsp;highest&nbsp;production&nbsp;is&nbsp;</span><span class="mtk12">{</span><span class="mtk1">highest_production_year</span><span class="mtk12">}</span><span class="mtk5">&nbsp;with&nbsp;a&nbsp;production&nbsp;of&nbsp;</span><span class="mtk12">{</span><span class="mtk1">highest_production_value</span><span class="mtk12">}</span><span class="mtk5">"</span><span class="mtk12">)</span></span><br></code></pre>
        <a href="https://g.co/legal/generative-code" target="_blank">
          Use code with caution</a>
      </div>
    </div><!--?--><!----><!----><!--?lit$549300851$--><div><span><p><strong>Explanation:</strong></p>
<ol>
<li><strong>Import pandas:</strong> Import the pandas library.</li>
<li><strong>Load Data:</strong> Load your dataset from the CSV file into <code>IMDB_df</code>.</li>
<li><strong>Handle Missing Values</strong>: Fill NA values in 'Production' column. This is done because the sum function cannot operate on NA values.</li>
<li><strong>Group by Year and Sum Production:</strong><ul>
<li><code>IMDB_df.groupby('Crop_Year')</code> groups the DataFrame by the values in the 'Crop_Year' column.</li>
<li><code>['Production'].sum()</code> calculates the sum of the 'Production' column for each group (each year).</li>
<li>The result is stored in the <code>production_by_year</code> variable, which is a Pandas Series where the index is the year and the value is the total production for that year.</li>
</ul>
</li>
<li><strong>Print Production by Year:</strong><ul>
<li>The code prints the total production for each year.</li>
</ul>
</li>
<li><strong>Find the Year with Highest Production:</strong><ul>
<li><code>production_by_year.idxmax()</code> finds the index (the year) where the maximum production value occurs in the <code>production_by_year</code> Series.</li>
<li><code>production_by_year.max()</code> finds the maximum production value in the <code>production_by_year</code> Series.</li>
</ul>
</li>
<li><strong>Print the Highest Production Year and Value:</strong><ul>
<li>The code prints the year with the highest production and its value using an f-string.</li>
</ul>
</li>
</ol>
<p><strong>How This Code Works:</strong></p>
<ul>
<li>The code groups the data by the 'Crop_Year' and then calculates the total 'Production' for each year.</li>
<li>It then uses <code>idxmax()</code> to get the year with the highest production and <code>max()</code> to get the actual max production value.</li>
<li>The final result will show the total production for each year and clearly identify the year with the highest production.</li>
</ul>
<p>By running this code, you will get the total production for each year, and a clear statement of which year had the highest total production.</p>
</span></div><!--?--><!----></div></colab-aida-message><!----><!----><colab-aida-message><template shadowrootmode="open"><!----><!--?lit$549300851$--><md-icon class="avatar" aria-hidden="true"><template shadowrootmode="open"><!----><slot></slot></template><!--?lit$549300851$-->
    <svg viewBox="0 0 40 40">
      <path fill="#93ADCF" d="m20,0c-11.04,0 -20,8.96 -20,20c0,11.04 8.96,20 20,20c11.04,0 20,-8.96 20,-20c0,-11.04 -8.96,-20 -20,-20l0,0z"></path>
      <path fill="#CFDAEF" d="m20,34.4c-5,0 -9.42,-2.56 -12,-6.44c0.06,-3.98 8,-6.16 12,-6.16c3.98,0 11.94,2.18 12,6.16c-2.58,3.88 -7,6.44 -12,6.44l0,0z"></path>
      <path fill="#CFDAEF" d="m20,6c3.32,0 6,2.68 6,6c0,3.32 -2.68,6 -6,6c-3.32,0 -6,-2.68 -6,-6c0,-3.32 2.68,-6 6,-6l0,0z"></path>
    </svg></md-icon>
      <div class="body done">
        <!--?lit$549300851$-->
        <slot></slot>
        <!--?lit$549300851$--> <!--?lit$549300851$-->
      </div></template><div class="markdown"><!----><!----><!--?lit$549300851$--><div><span><p>which crop is production is a 
high</p>
</span></div><!--?--><!----></div></colab-aida-message><!----><!----><colab-aida-message><template shadowrootmode="open"><!----><!--?lit$549300851$--><md-icon class="avatar" aria-hidden="true"><template shadowrootmode="open"><!----><slot></slot></template><!--?lit$549300851$-->spark</md-icon>
      <div class="body done">
        <!--?lit$549300851$-->
        <slot></slot>
        <!--?lit$549300851$--><details class="recitations">
      <summary><!--?lit$549300851$-->Sources</summary>
      <ol>
        <!--?lit$549300851$--><!----><li>
        <!--?lit$549300851$--><a target="_blank" href="https://www.ers.usda.gov/data-products/ag-and-food-statistics-charting-the-essentials/agricultural-production-and-prices"><!--?lit$549300851$-->www.ers.usda.gov/data-products/ag-and-food-statistics-charting-the-essentials/agricultural-production-and-prices</a></li><!----><!----><li>
        <!--?lit$549300851$--><a target="_blank" href="https://www.alberta.ca/us-crops-where-are-they-grown"><!--?lit$549300851$-->www.alberta.ca/us-crops-where-are-they-grown</a></li><!----><!----><li>
        <!--?lit$549300851$--><a target="_blank" href="https://en.wikipedia.org/wiki/List_of_most_valuable_crops_and_livestock_products"><!--?lit$549300851$-->en.wikipedia.org/wiki/List_of_most_valuable_crops_and_livestock_products</a></li><!----><!----><li>
        <!--?lit$549300851$--><a target="_blank" href="https://ourworldindata.org/agricultural-production"><!--?lit$549300851$-->ourworldindata.org/agricultural-production</a></li><!----><!----><li>
        <!--?lit$549300851$--><a target="_blank" href="https://www.investopedia.com/financial-edge/0712/top-agricultural-producing-countries.aspx"><!--?lit$549300851$-->www.investopedia.com/financial-edge/0712/top-agricultural-producing-countries.aspx</a></li><!---->
      </ol>
    </details> <!--?lit$549300851$-->
      <div class="user-rating"><!--?lit$549300851$-->Rate this answer
        <colab-ai-rating-buttons rating="unset"><template shadowrootmode="open"><!---->
      <mwc-icon-button-toggle class="thumb-up" officon="thumb_up" onicon="thumb_up" title="Good response"><template shadowrootmode="open"><!----><button class="mdc-icon-button mdc-icon-button--display-flex   " aria-pressed="false" aria-label="Good response"><!--?lit$549300851$-->
        <span class="mdc-icon-button__icon"><slot name="offIcon"><i class="material-icons"><!--?lit$549300851$-->thumb_up</i></slot></span>
        <span class="mdc-icon-button__icon mdc-icon-button__icon--on"><slot name="onIcon"><i class="material-icons"><!--?lit$549300851$-->thumb_up</i></slot></span>
      </button></template>
        <md-icon slot="offIcon" aria-hidden="true"><template shadowrootmode="open"><!----><slot></slot></template>thumb_up</md-icon>
        <md-icon slot="onIcon" aria-hidden="true"><template shadowrootmode="open"><!----><slot></slot></template>thumb_up</md-icon>
      </mwc-icon-button-toggle>
      <mwc-icon-button-toggle class="thumb-down" title="Bad response"><template shadowrootmode="open"><!----><button class="mdc-icon-button mdc-icon-button--display-flex   " aria-pressed="false" aria-label="Bad response"><!--?lit$549300851$-->
        <span class="mdc-icon-button__icon"><slot name="offIcon"><i class="material-icons"><!--?lit$549300851$--></i></slot></span>
        <span class="mdc-icon-button__icon mdc-icon-button__icon--on"><slot name="onIcon"><i class="material-icons"><!--?lit$549300851$--></i></slot></span>
      </button></template>
        <md-icon slot="offIcon" aria-hidden="true"><template shadowrootmode="open"><!----><slot></slot></template>thumb_down</md-icon>
        <md-icon slot="onIcon" aria-hidden="true"><template shadowrootmode="open"><!----><slot></slot></template>thumb_down</md-icon>
      </mwc-icon-button-toggle>
    </template>
        </colab-ai-rating-buttons>
      </div>
    
      </div></template><div class="markdown"><!----><!----><!--?lit$549300851$--><div><span><p>Okay, let's determine which crop has the highest total production across all years in your dataset. Here's the code:</p>
</span></div><!--?--><!----><!----><!--?lit$549300851$--><div class="code-block"><!--?lit$549300851$--><colab-code-toolbar><template shadowrootmode="open"><!----><div class="contents">
      <mwc-icon-button title="Copy"><template shadowrootmode="open"><!----><button class="mdc-icon-button mdc-icon-button--display-flex" aria-label="Copy"><!--?lit$549300851$-->
    <!--?lit$549300851$-->
    <span><slot></slot></span>
  </button></template><md-icon aria-hidden="true"><template shadowrootmode="open"><!----><slot></slot></template>content_copy</md-icon></mwc-icon-button>
      <mwc-icon-button class="insert" title="Add code cell"><template shadowrootmode="open"><!----><button class="mdc-icon-button mdc-icon-button--display-flex" aria-label="Add code cell"><!--?lit$549300851$-->
    <!--?lit$549300851$-->
    <span><slot></slot></span>
  </button></template><!--?lit$549300851$--><svg viewBox="0 0 24 24"><!--?lit$549300851$-->
      <g id="mirror-cell">
        <path d="M4,21V7H2V21a2,2,0,0,0,2,2H18V21Z"></path>
        <path d="M6,13v2H8.6L5,18.6,6.4,20,10,16.4V19h2V13Z"></path>
        <path d="M19,1H8A2,2,0,0,0,6,3v8H8V3H19V17H14v2h5a2,2,0,0,0,2-2V3A2,2,0,0,0,19,1Z"></path>
      </g></svg></mwc-icon-button>
    </div></template></colab-code-toolbar>
      <div class="generated-code-warning">
        <pre class="with-code-warning"><!--?lit$549300851$--><code data-lang="notebook-python" class=" colab-dark"><span><span class="mtk18">import</span><span class="mtk1">&nbsp;pandas&nbsp;</span><span class="mtk18">as</span><span class="mtk1">&nbsp;pd</span></span><br><span><span></span></span><br><span><span class="mtk8">#&nbsp;Load&nbsp;the&nbsp;dataset</span></span><br><span><span class="mtk1">IMDB_df&nbsp;=&nbsp;pd.read_csv</span><span class="mtk12">(</span><span class="mtk5">'IAS.csv'</span><span class="mtk12">)</span></span><br><span><span></span></span><br><span><span class="mtk8">#&nbsp;Fill&nbsp;NA&nbsp;values&nbsp;in&nbsp;'Production'&nbsp;column&nbsp;with&nbsp;mean&nbsp;</span><span class="mtk8">before&nbsp;analysis</span></span><br><span><span class="mtk1">mean_production&nbsp;=&nbsp;IMDB_df</span><span class="mtk12">[</span><span class="mtk5">'Production'</span><span class="mtk12">]</span><span class="mtk1">.mean</span><span class="mtk12">()</span></span><br><span><span class="mtk1">IMDB_df</span><span class="mtk12">[</span><span class="mtk5">'Production'</span><span class="mtk12">]</span><span class="mtk1">&nbsp;=&nbsp;IMDB_df</span><span class="mtk12">[</span><span class="mtk5">'Production'</span><span class="mtk12">]</span><span class="mtk1">.fillna</span><span class="mtk12">(</span><span class="mtk1">mean_production</span><span class="mtk12">)</span></span><br><span><span></span></span><br><span><span></span></span><br><span><span class="mtk8">#&nbsp;Group&nbsp;by&nbsp;crop&nbsp;and&nbsp;sum&nbsp;production</span></span><br><span><span class="mtk1">production_by_crop&nbsp;=&nbsp;IMDB_df.groupby</span><span class="mtk12">(</span><span class="mtk5">'Crop'</span><span class="mtk12">)[</span><span class="mtk5">'Production'</span><span class="mtk12">]</span><span class="mtk1">.</span><span class="mtk15">sum</span><span class="mtk12">()</span></span><br><span><span></span></span><br><span><span class="mtk8">#&nbsp;Find&nbsp;the&nbsp;crop&nbsp;with&nbsp;the&nbsp;highest&nbsp;production</span></span><br><span><span class="mtk1">highest_production_crop&nbsp;=&nbsp;production_by_crop.idxma</span><span class="mtk1">x</span><span class="mtk12">()</span></span><br><span><span class="mtk1">highest_production_value&nbsp;=&nbsp;production_by_crop.</span><span class="mtk15">max</span><span class="mtk12">()</span></span><br><span><span></span></span><br><span><span class="mtk15">print</span><span class="mtk12">(</span><span class="mtk9">f</span><span class="mtk5">"The&nbsp;crop&nbsp;with&nbsp;the&nbsp;highest&nbsp;production&nbsp;is&nbsp;</span><span class="mtk12">{</span><span class="mtk1">highest_production_crop</span><span class="mtk12">}</span><span class="mtk5">&nbsp;with&nbsp;a&nbsp;production&nbsp;of&nbsp;</span><span class="mtk12">{</span><span class="mtk1">highest_production_value</span><span class="mtk12">}</span><span class="mtk5">"</span><span class="mtk12">)</span></span><br></code></pre>
        <a href="https://g.co/legal/generative-code" target="_blank">
          Use code with caution</a>
      </div>
    </div><!--?--><!----><!----><!--?lit$549300851$--><div><span><p><strong>Explanation:</strong></p>
<ol>
<li><strong>Import pandas:</strong> Import the pandas library.</li>
<li><strong>Load Data:</strong> Load your dataset from the CSV file into <code>IMDB_df</code>.</li>
<li><strong>Handle Missing Values:</strong> Fill the missing values in the <code>Production</code> column using the mean.</li>
<li><strong>Group by Crop and Sum Production:</strong><ul>
<li><code>IMDB_df.groupby('Crop')</code> groups the DataFrame by the values in the 'Crop' column.</li>
<li><code>['Production'].sum()</code> calculates the sum of the 'Production' column for each group (each crop).</li>
<li>The result is stored in the <code>production_by_crop</code> variable, which is a Pandas Series where the index is the crop name and the value is the total production for that crop.</li>
</ul>
</li>
<li><strong>Find the Crop with Highest Production:</strong><ul>
<li><code>production_by_crop.idxmax()</code> finds the index (the crop name) where the maximum production value occurs in the <code>production_by_crop</code> Series.</li>
<li><code>production_by_crop.max()</code> finds the maximum production value in the <code>production_by_crop</code> Series.</li>
</ul>
</li>
<li><strong>Print the Highest Production Crop and Value:</strong><ul>
<li>The code prints the crop with the highest production and its value using an f-string.</li>
</ul>
</li>
</ol>
<p><strong>How This Code Works:</strong></p>
<ul>
<li>The code groups the data by the 'Crop' column and calculates the total 'Production' for each unique crop.</li>
<li>Then, it uses <code>idxmax()</code> to get the crop with the highest production and <code>max()</code> to get the corresponding production value.</li>
<li>The output will clearly state which crop had the highest production and the total amount of that crop's production.</li>
</ul>
<p>By running this code, you will get the name of the crop with the highest production, along with its total production value.</p>
</span></div><!--?--><!----></div></colab-aida-message><!----><!----><colab-aida-message><template shadowrootmode="open"><!----><!--?lit$549300851$--><md-icon class="avatar" aria-hidden="true"><template shadowrootmode="open"><!----><slot></slot></template><!--?lit$549300851$-->
    <svg viewBox="0 0 40 40">
      <path fill="#93ADCF" d="m20,0c-11.04,0 -20,8.96 -20,20c0,11.04 8.96,20 20,20c11.04,0 20,-8.96 20,-20c0,-11.04 -8.96,-20 -20,-20l0,0z"></path>
      <path fill="#CFDAEF" d="m20,34.4c-5,0 -9.42,-2.56 -12,-6.44c0.06,-3.98 8,-6.16 12,-6.16c3.98,0 11.94,2.18 12,6.16c-2.58,3.88 -7,6.44 -12,6.44l0,0z"></path>
      <path fill="#CFDAEF" d="m20,6c3.32,0 6,2.68 6,6c0,3.32 -2.68,6 -6,6c-3.32,0 -6,-2.68 -6,-6c0,-3.32 2.68,-6 6,-6l0,0z"></path>
    </svg></md-icon>
      <div class="body done">
        <!--?lit$549300851$-->
        <slot></slot>
        <!--?lit$549300851$--> <!--?lit$549300851$-->
      </div></template><div class="markdown"><!----><!----><!--?lit$549300851$--><div><span><p>what is diff btn py &amp;ipynb</p>
</span></div><!--?--><!----></div></colab-aida-message><!----><!----><colab-aida-message><template shadowrootmode="open"><!----><!--?lit$549300851$--><md-icon class="avatar" aria-hidden="true"><template shadowrootmode="open"><!----><slot></slot></template><!--?lit$549300851$-->spark</md-icon>
      <div class="body done">
        <!--?lit$549300851$-->
        <slot></slot>
        <!--?lit$549300851$--><details class="recitations">
      <summary><!--?lit$549300851$-->Sources</summary>
      <ol>
        <!--?lit$549300851$--><!----><li>
        <!--?lit$549300851$--><a target="_blank" href="https://www.youtube.com/watch?v=0Jw8seqai18"><!--?lit$549300851$-->www.youtube.com/watch</a></li><!----><!----><li>
        <!--?lit$549300851$--><a target="_blank" href="https://www.shiksha.com/online-courses/articles/jupyter-notebook-vs-python-idle/"><!--?lit$549300851$-->www.shiksha.com/online-courses/articles/jupyter-notebook-vs-python-idle/</a></li><!----><!----><li>
        <!--?lit$549300851$--><a target="_blank" href="https://stackoverflow.com/questions/50982686/what-is-the-difference-between-jupyter-notebook-and-jupyterlab"><!--?lit$549300851$-->stackoverflow.com/questions/50982686/what-is-the-difference-between-jupyter-notebook-and-jupyterlab</a></li><!----><!----><li>
        <!--?lit$549300851$--><a target="_blank" href="https://stackoverflow.com/questions/56738811/why-do-people-prefer-jupyter-notebook-over-ide-like-vs-code-spyder"><!--?lit$549300851$-->stackoverflow.com/questions/56738811/why-do-people-prefer-jupyter-notebook-over-ide-like-vs-code-spyder</a></li><!---->
      </ol>
    </details> <!--?lit$549300851$-->
      <div class="user-rating"><!--?lit$549300851$-->Rate this answer
        <colab-ai-rating-buttons rating="unset"><template shadowrootmode="open"><!---->
      <mwc-icon-button-toggle class="thumb-up" officon="thumb_up" onicon="thumb_up" title="Good response"><template shadowrootmode="open"><!----><button class="mdc-icon-button mdc-icon-button--display-flex   " aria-pressed="false" aria-label="Good response"><!--?lit$549300851$-->
        <span class="mdc-icon-button__icon"><slot name="offIcon"><i class="material-icons"><!--?lit$549300851$-->thumb_up</i></slot></span>
        <span class="mdc-icon-button__icon mdc-icon-button__icon--on"><slot name="onIcon"><i class="material-icons"><!--?lit$549300851$-->thumb_up</i></slot></span>
      </button></template>
        <md-icon slot="offIcon" aria-hidden="true"><template shadowrootmode="open"><!----><slot></slot></template>thumb_up</md-icon>
        <md-icon slot="onIcon" aria-hidden="true"><template shadowrootmode="open"><!----><slot></slot></template>thumb_up</md-icon>
      </mwc-icon-button-toggle>
      <mwc-icon-button-toggle class="thumb-down" title="Bad response"><template shadowrootmode="open"><!----><button class="mdc-icon-button mdc-icon-button--display-flex   " aria-pressed="false" aria-label="Bad response"><!--?lit$549300851$-->
        <span class="mdc-icon-button__icon"><slot name="offIcon"><i class="material-icons"><!--?lit$549300851$--></i></slot></span>
        <span class="mdc-icon-button__icon mdc-icon-button__icon--on"><slot name="onIcon"><i class="material-icons"><!--?lit$549300851$--></i></slot></span>
      </button></template>
        <md-icon slot="offIcon" aria-hidden="true"><template shadowrootmode="open"><!----><slot></slot></template>thumb_down</md-icon>
        <md-icon slot="onIcon" aria-hidden="true"><template shadowrootmode="open"><!----><slot></slot></template>thumb_down</md-icon>
      </mwc-icon-button-toggle>
    </template>
        </colab-ai-rating-buttons>
      </div>
    
      </div></template><div class="markdown"><!----><!----><!--?lit$549300851$--><div><span><p>Okay, let's explore the key differences between <code>.py</code> files (Python scripts) and <code>.ipynb</code> files (Jupyter Notebooks).</p>
<p><strong><code>.py</code> Files (Python Scripts)</strong></p>
<ul>
<li><strong>Purpose:</strong> Primarily used for writing and executing Python code in a traditional, script-like manner. They are plain text files containing a sequence of Python statements.</li>
<li><strong>Execution:</strong><ul>
<li>Executed from the command line using the Python interpreter (e.g., <code>python my_script.py</code>).</li>
<li>The interpreter runs the script from top to bottom, and the output is typically printed to the console.</li>
</ul>
</li>
<li><strong>Structure:</strong><ul>
<li>Consists of a sequence of Python code lines, typically organized into functions, classes, and modules.</li>
<li>Does not natively support embedded output, formatted text, or interactive elements.</li>
</ul>
</li>
<li><strong>Development:</strong><ul>
<li>Often developed in text editors or Integrated Development Environments (IDEs) like VS Code, PyCharm, or Sublime Text.</li>
<li>These environments provide features like syntax highlighting, debugging, and auto-completion.</li>
</ul>
</li>
<li><strong>Output:</strong> Output is typically text-based and displayed in the console or saved to a file. Visualizations like plots are typically saved as separate files.</li>
<li><strong>Use Cases:</strong><ul>
<li>Building applications, libraries, or scripts for automated tasks.</li>
<li>Production deployment of Python code.</li>
<li>When you need a script that can be easily executed from the command line.</li>
<li>When collaborating with other developers.</li>
</ul>
</li>
</ul>
<p><strong><code>.ipynb</code> Files (Jupyter Notebooks)</strong></p>
<ul>
<li><strong>Purpose:</strong> Used for interactive computing, data analysis, visualization, and documentation, and educational purposes.</li>
<li><strong>Execution:</strong><ul>
<li>Executed in a web browser through a Jupyter Notebook server or JupyterLab.</li>
<li>Code is organized into cells, which can be executed individually or in sequence.</li>
<li>Output from each cell is displayed directly below the cell.</li>
</ul>
</li>
<li><strong>Structure:</strong><ul>
<li>Consists of a combination of code cells, Markdown cells (for formatted text and documentation), and output cells.</li>
<li>Allows for the inclusion of formatted text, images, videos, and interactive elements along with the code.</li>
<li>Can display plots and visualizations directly in the notebook.</li>
</ul>
</li>
<li><strong>Development:</strong><ul>
<li>Developed in a web browser using the Jupyter Notebook interface.</li>
</ul>
</li>
<li><strong>Output:</strong> Output is displayed directly within the notebook and can be text, tables, plots, images, or interactive widgets.</li>
<li><strong>Use Cases:</strong><ul>
<li>Exploratory data analysis and data cleaning.</li>
<li>Creating interactive visualizations and reports.</li>
<li>Documenting data analysis pipelines and machine learning models.</li>
<li>Creating teaching materials.</li>
<li>When sharing code or analysis with a non-technical audience who might want to see the process and results in an accessible way.</li>
<li>When you need an interactive environment to explore your data.</li>
</ul>
</li>
</ul>
<p><strong>Key Differences Summarized</strong></p>
<table>
<thead>
<tr>
<th>Feature</th>
<th><code>.py</code> (Python Script)</th>
<th><code>.ipynb</code> (Jupyter Notebook)</th>
</tr>
</thead>
<tbody><tr>
<td><strong>Primary Use</strong></td>
<td>Scripting, application development</td>
<td>Interactive analysis, visualization, documentation</td>
</tr>
<tr>
<td><strong>Execution</strong></td>
<td>Command-line, script executed sequentially</td>
<td>Web browser, code executed in cells</td>
</tr>
<tr>
<td><strong>Structure</strong></td>
<td>Code only</td>
<td>Code, Markdown, output, media</td>
</tr>
<tr>
<td><strong>Output</strong></td>
<td>Text-based output to console/file</td>
<td>Rich output (text, tables, plots) in browser</td>
</tr>
<tr>
<td><strong>Development</strong></td>
<td>Text editor/IDE</td>
<td>Web browser interface</td>
</tr>
<tr>
<td><strong>Interactivity</strong></td>
<td>Limited, generally not interactive</td>
<td>Highly interactive</td>
</tr>
<tr>
<td><strong>Presentation</strong></td>
<td>Not directly for presentation purposes</td>
<td>Ideal for sharing results, reports</td>
</tr>
</tbody></table>
<p><strong>When to use which:</strong></p>
<ul>
<li><strong>Use <code>.py</code> files when:</strong><ul>
<li>You are writing a Python application or library.</li>
<li>You need to run your code non-interactively from the command line or a script.</li>
<li>You are collaborating with other developers, and source code needs to be managed with VCS.</li>
</ul>
</li>
<li><strong>Use <code>.ipynb</code> files when:</strong><ul>
<li>You are doing exploratory data analysis or data visualization.</li>
<li>You need to combine code, text, and outputs in a shareable document.</li>
<li>You want to present your work to someone who might not be familiar with Python programming.</li>
<li>You need an interactive environment to explore data and code.</li>
</ul>
</li>
</ul>
<p>In short, <code>.py</code> files are for writing and running Python code in a traditional way, while <code>.ipynb</code> files are for interactive exploration, visualization, and documenting your process, particularly in the context of data science and education. The search results you provided also go over similar points and could be a good place for further information.</p>
</span></div><!--?--><!----></div></colab-aida-message><!----><!----><colab-aida-message><template shadowrootmode="open"><!----><!--?lit$549300851$--><md-icon class="avatar" aria-hidden="true"><template shadowrootmode="open"><!----><slot></slot></template><!--?lit$549300851$-->
    <svg viewBox="0 0 40 40">
      <path fill="#93ADCF" d="m20,0c-11.04,0 -20,8.96 -20,20c0,11.04 8.96,20 20,20c11.04,0 20,-8.96 20,-20c0,-11.04 -8.96,-20 -20,-20l0,0z"></path>
      <path fill="#CFDAEF" d="m20,34.4c-5,0 -9.42,-2.56 -12,-6.44c0.06,-3.98 8,-6.16 12,-6.16c3.98,0 11.94,2.18 12,6.16c-2.58,3.88 -7,6.44 -12,6.44l0,0z"></path>
      <path fill="#CFDAEF" d="m20,6c3.32,0 6,2.68 6,6c0,3.32 -2.68,6 -6,6c-3.32,0 -6,-2.68 -6,-6c0,-3.32 2.68,-6 6,-6l0,0z"></path>
    </svg></md-icon>
      <div class="body done">
        <!--?lit$549300851$-->
        <slot></slot>
        <!--?lit$549300851$--> <!--?lit$549300851$-->
      </div></template><div class="markdown"><!----><!----><!--?lit$549300851$--><div><span><p>find the product state vise to highest production</p>
</span></div><!--?--><!----></div></colab-aida-message><!----><!----><colab-aida-message><template shadowrootmode="open"><!----><!--?lit$549300851$--><md-icon class="avatar" aria-hidden="true"><template shadowrootmode="open"><!----><slot></slot></template><!--?lit$549300851$-->spark</md-icon>
      <div class="body done">
        <!--?lit$549300851$-->
        <slot></slot>
        <!--?lit$549300851$--><details class="recitations">
      <summary><!--?lit$549300851$-->Sources</summary>
      <ol>
        <!--?lit$549300851$--><!----><li>
        <!--?lit$549300851$--><a target="_blank" href="https://www.ers.usda.gov/faqs"><!--?lit$549300851$-->www.ers.usda.gov/faqs</a></li><!----><!----><li>
        <!--?lit$549300851$--><a target="_blank" href="https://www.upag.gov.in/dash-reports/majorproducingstatereport"><!--?lit$549300851$-->www.upag.gov.in/dash-reports/majorproducingstatereport</a></li><!----><!----><li>
        <!--?lit$549300851$--><a target="_blank" href="https://www.farmprogress.com/management/what-us-states-produce-the-most-food-ranking-1-50-"><!--?lit$549300851$-->www.farmprogress.com/management/what-us-states-produce-the-most-food-ranking-1-50-</a></li><!----><!----><li>
        <!--?lit$549300851$--><a target="_blank" href="https://www.ers.usda.gov/data-products/chart-gallery/chart-detail?chartId=58315"><!--?lit$549300851$-->www.ers.usda.gov/data-products/chart-gallery/chart-detail</a></li><!----><!----><li>
        <!--?lit$549300851$--><a target="_blank" href="https://www.cropprophet.com/us-corn-production-by-state/"><!--?lit$549300851$-->www.cropprophet.com/us-corn-production-by-state/</a></li><!---->
      </ol>
    </details> <!--?lit$549300851$-->
      <div class="user-rating"><!--?lit$549300851$-->Rate this answer
        <colab-ai-rating-buttons rating="unset"><template shadowrootmode="open"><!---->
      <mwc-icon-button-toggle class="thumb-up" officon="thumb_up" onicon="thumb_up" title="Good response"><template shadowrootmode="open"><!----><button class="mdc-icon-button mdc-icon-button--display-flex   " aria-pressed="false" aria-label="Good response"><!--?lit$549300851$-->
        <span class="mdc-icon-button__icon"><slot name="offIcon"><i class="material-icons"><!--?lit$549300851$-->thumb_up</i></slot></span>
        <span class="mdc-icon-button__icon mdc-icon-button__icon--on"><slot name="onIcon"><i class="material-icons"><!--?lit$549300851$-->thumb_up</i></slot></span>
      </button></template>
        <md-icon slot="offIcon" aria-hidden="true"><template shadowrootmode="open"><!----><slot></slot></template>thumb_up</md-icon>
        <md-icon slot="onIcon" aria-hidden="true"><template shadowrootmode="open"><!----><slot></slot></template>thumb_up</md-icon>
      </mwc-icon-button-toggle>
      <mwc-icon-button-toggle class="thumb-down" title="Bad response"><template shadowrootmode="open"><!----><button class="mdc-icon-button mdc-icon-button--display-flex   " aria-pressed="false" aria-label="Bad response"><!--?lit$549300851$-->
        <span class="mdc-icon-button__icon"><slot name="offIcon"><i class="material-icons"><!--?lit$549300851$--></i></slot></span>
        <span class="mdc-icon-button__icon mdc-icon-button__icon--on"><slot name="onIcon"><i class="material-icons"><!--?lit$549300851$--></i></slot></span>
      </button></template>
        <md-icon slot="offIcon" aria-hidden="true"><template shadowrootmode="open"><!----><slot></slot></template>thumb_down</md-icon>
        <md-icon slot="onIcon" aria-hidden="true"><template shadowrootmode="open"><!----><slot></slot></template>thumb_down</md-icon>
      </mwc-icon-button-toggle>
    </template>
        </colab-ai-rating-buttons>
      </div>
    
      </div></template><div class="markdown"><!----><!----><!--?lit$549300851$--><div><span><p>Okay, let's find the total production for each state and then identify the state with the highest production. Here's the code:</p>
</span></div><!--?--><!----><!----><!--?lit$549300851$--><div class="code-block"><!--?lit$549300851$--><colab-code-toolbar><template shadowrootmode="open"><!----><div class="contents">
      <mwc-icon-button title="Copy"><template shadowrootmode="open"><!----><button class="mdc-icon-button mdc-icon-button--display-flex" aria-label="Copy"><!--?lit$549300851$-->
    <!--?lit$549300851$-->
    <span><slot></slot></span>
  </button></template><md-icon aria-hidden="true"><template shadowrootmode="open"><!----><slot></slot></template>content_copy</md-icon></mwc-icon-button>
      <mwc-icon-button class="insert" title="Add code cell"><template shadowrootmode="open"><!----><button class="mdc-icon-button mdc-icon-button--display-flex" aria-label="Add code cell"><!--?lit$549300851$-->
    <!--?lit$549300851$-->
    <span><slot></slot></span>
  </button></template><!--?lit$549300851$--><svg viewBox="0 0 24 24"><!--?lit$549300851$-->
      <g id="mirror-cell">
        <path d="M4,21V7H2V21a2,2,0,0,0,2,2H18V21Z"></path>
        <path d="M6,13v2H8.6L5,18.6,6.4,20,10,16.4V19h2V13Z"></path>
        <path d="M19,1H8A2,2,0,0,0,6,3v8H8V3H19V17H14v2h5a2,2,0,0,0,2-2V3A2,2,0,0,0,19,1Z"></path>
      </g></svg></mwc-icon-button>
    </div></template></colab-code-toolbar>
      <div class="generated-code-warning">
        <pre class="with-code-warning"><!--?lit$549300851$--><code data-lang="notebook-python" class=" colab-dark"><span><span class="mtk18">import</span><span class="mtk1">&nbsp;pandas&nbsp;</span><span class="mtk18">as</span><span class="mtk1">&nbsp;pd</span></span><br><span><span></span></span><br><span><span class="mtk8">#&nbsp;Load&nbsp;the&nbsp;dataset</span></span><br><span><span class="mtk1">IMDB_df&nbsp;=&nbsp;pd.read_csv</span><span class="mtk12">(</span><span class="mtk5">'IAS.csv'</span><span class="mtk12">)</span></span><br><span><span></span></span><br><span><span class="mtk8">#&nbsp;Fill&nbsp;NA&nbsp;values&nbsp;in&nbsp;'Production'&nbsp;column&nbsp;with&nbsp;mean&nbsp;</span><span class="mtk8">before&nbsp;analysis</span></span><br><span><span class="mtk1">mean_production&nbsp;=&nbsp;IMDB_df</span><span class="mtk12">[</span><span class="mtk5">'Production'</span><span class="mtk12">]</span><span class="mtk1">.mean</span><span class="mtk12">()</span></span><br><span><span class="mtk1">IMDB_df</span><span class="mtk12">[</span><span class="mtk5">'Production'</span><span class="mtk12">]</span><span class="mtk1">&nbsp;=&nbsp;IMDB_df</span><span class="mtk12">[</span><span class="mtk5">'Production'</span><span class="mtk12">]</span><span class="mtk1">.fillna</span><span class="mtk12">(</span><span class="mtk1">mean_production</span><span class="mtk12">)</span></span><br><span><span></span></span><br><span><span class="mtk8">#&nbsp;Group&nbsp;by&nbsp;state&nbsp;and&nbsp;sum&nbsp;production</span></span><br><span><span class="mtk1">production_by_state&nbsp;=&nbsp;IMDB_df.groupby</span><span class="mtk12">(</span><span class="mtk5">'State_Name'</span><span class="mtk12">)[</span><span class="mtk5">'Production'</span><span class="mtk12">]</span><span class="mtk1">.</span><span class="mtk15">sum</span><span class="mtk12">()</span></span><br><span><span></span></span><br><span><span class="mtk8">#&nbsp;Find&nbsp;the&nbsp;state&nbsp;with&nbsp;the&nbsp;highest&nbsp;production</span></span><br><span><span class="mtk1">highest_production_state&nbsp;=&nbsp;production_by_state.idx</span><span class="mtk1">max</span><span class="mtk12">()</span></span><br><span><span class="mtk1">highest_production_value&nbsp;=&nbsp;production_by_state.</span><span class="mtk15">max</span><span class="mtk12">()</span></span><br><span><span></span></span><br><span><span class="mtk15">print</span><span class="mtk12">(</span><span class="mtk9">f</span><span class="mtk5">"The&nbsp;state&nbsp;with&nbsp;the&nbsp;highest&nbsp;production&nbsp;is&nbsp;</span><span class="mtk12">{</span><span class="mtk1">highest_production_state</span><span class="mtk12">}</span><span class="mtk5">&nbsp;with&nbsp;a&nbsp;production&nbsp;of&nbsp;</span><span class="mtk12">{</span><span class="mtk1">highest_production_value</span><span class="mtk12">}</span><span class="mtk5">"</span><span class="mtk12">)</span></span><br></code></pre>
        <a href="https://g.co/legal/generative-code" target="_blank">
          Use code with caution</a>
      </div>
    </div><!--?--><!----><!----><!--?lit$549300851$--><div><span><p><strong>Explanation:</strong></p>
<ol>
<li><strong>Import pandas:</strong> Import the pandas library.</li>
<li><strong>Load Data:</strong> Load your dataset from the CSV file into <code>IMDB_df</code>.</li>
<li><strong>Handle Missing Values:</strong> Fill the NA values in the <code>Production</code> column with the mean value.</li>
<li><strong>Group by State and Sum Production:</strong><ul>
<li><code>IMDB_df.groupby('State_Name')</code> groups the DataFrame by the values in the 'State_Name' column.</li>
<li><code>['Production'].sum()</code> calculates the sum of the 'Production' column for each group (each state).</li>
<li>The result is stored in the <code>production_by_state</code> variable, which is a Pandas Series where the index is the state name and the value is the total production for that state.</li>
</ul>
</li>
<li><strong>Find the State with Highest Production:</strong><ul>
<li><code>production_by_state.idxmax()</code> finds the index (the state name) where the maximum production value occurs in the <code>production_by_state</code> Series.</li>
<li><code>production_by_state.max()</code> finds the maximum production value in the <code>production_by_state</code> Series.</li>
</ul>
</li>
<li><strong>Print the Highest Production State and Value:</strong><ul>
<li>The code prints the state with the highest production and its value using an f-string.</li>
</ul>
</li>
</ol>
<p><strong>How This Code Works:</strong></p>
<ul>
<li>The code groups the data by the 'State_Name' column and calculates the total 'Production' for each state.</li>
<li>Then, it uses <code>idxmax()</code> to find the state with the highest production and <code>max()</code> to find the corresponding max production value.</li>
<li>The output will clearly state which state has the highest total production.</li>
</ul>
<p>By running this code, you will get the name of the state with the highest total production, along with its total production value across all years and crops.</p>
</span></div><!--?--><!----></div></colab-aida-message><!----><!----><colab-aida-message><template shadowrootmode="open"><!----><!--?lit$549300851$--><md-icon class="avatar" aria-hidden="true"><template shadowrootmode="open"><!----><slot></slot></template><!--?lit$549300851$-->
    <svg viewBox="0 0 40 40">
      <path fill="#93ADCF" d="m20,0c-11.04,0 -20,8.96 -20,20c0,11.04 8.96,20 20,20c11.04,0 20,-8.96 20,-20c0,-11.04 -8.96,-20 -20,-20l0,0z"></path>
      <path fill="#CFDAEF" d="m20,34.4c-5,0 -9.42,-2.56 -12,-6.44c0.06,-3.98 8,-6.16 12,-6.16c3.98,0 11.94,2.18 12,6.16c-2.58,3.88 -7,6.44 -12,6.44l0,0z"></path>
      <path fill="#CFDAEF" d="m20,6c3.32,0 6,2.68 6,6c0,3.32 -2.68,6 -6,6c-3.32,0 -6,-2.68 -6,-6c0,-3.32 2.68,-6 6,-6l0,0z"></path>
    </svg></md-icon>
      <div class="body done">
        <!--?lit$549300851$-->
        <slot></slot>
        <!--?lit$549300851$--> <!--?lit$549300851$-->
      </div></template><div class="markdown"><!----><!----><!--?lit$549300851$--><div><span><p>for the state to their highest production</p>
</span></div><!--?--><!----></div></colab-aida-message><!----><!----><colab-aida-message><template shadowrootmode="open"><!----><!--?lit$549300851$--><md-icon class="avatar" aria-hidden="true"><template shadowrootmode="open"><!----><slot></slot></template><!--?lit$549300851$-->spark</md-icon>
      <div class="body done">
        <!--?lit$549300851$-->
        <slot></slot>
        <!--?lit$549300851$--><details class="recitations">
      <summary><!--?lit$549300851$-->Sources</summary>
      <ol>
        <!--?lit$549300851$--><!----><li>
        <!--?lit$549300851$--><a target="_blank" href="https://www.farmprogress.com/management/what-us-states-produce-the-most-food-ranking-1-50-"><!--?lit$549300851$-->www.farmprogress.com/management/what-us-states-produce-the-most-food-ranking-1-50-</a></li><!----><!----><li>
        <!--?lit$549300851$--><a target="_blank" href="https://www.ers.usda.gov/faqs"><!--?lit$549300851$-->www.ers.usda.gov/faqs</a></li><!----><!----><li>
        <!--?lit$549300851$--><a target="_blank" href="https://www.cropprophet.com/us-corn-production-by-state/"><!--?lit$549300851$-->www.cropprophet.com/us-corn-production-by-state/</a></li><!----><!----><li>
        <!--?lit$549300851$--><a target="_blank" href="https://www.ers.usda.gov/data-products/chart-gallery/chart-detail?chartId=58315"><!--?lit$549300851$-->www.ers.usda.gov/data-products/chart-gallery/chart-detail</a></li><!----><!----><li>
        <!--?lit$549300851$--><a target="_blank" href="https://usesilo.com/blog/top-us-states-with-the-highest-number-of-farms"><!--?lit$549300851$-->usesilo.com/blog/top-us-states-with-the-highest-number-of-farms</a></li><!---->
      </ol>
    </details> <!--?lit$549300851$-->
      <div class="user-rating"><!--?lit$549300851$-->Rate this answer
        <colab-ai-rating-buttons rating="unset"><template shadowrootmode="open"><!---->
      <mwc-icon-button-toggle class="thumb-up" officon="thumb_up" onicon="thumb_up" title="Good response"><template shadowrootmode="open"><!----><button class="mdc-icon-button mdc-icon-button--display-flex   " aria-pressed="false" aria-label="Good response"><!--?lit$549300851$-->
        <span class="mdc-icon-button__icon"><slot name="offIcon"><i class="material-icons"><!--?lit$549300851$-->thumb_up</i></slot></span>
        <span class="mdc-icon-button__icon mdc-icon-button__icon--on"><slot name="onIcon"><i class="material-icons"><!--?lit$549300851$-->thumb_up</i></slot></span>
      </button></template>
        <md-icon slot="offIcon" aria-hidden="true"><template shadowrootmode="open"><!----><slot></slot></template>thumb_up</md-icon>
        <md-icon slot="onIcon" aria-hidden="true"><template shadowrootmode="open"><!----><slot></slot></template>thumb_up</md-icon>
      </mwc-icon-button-toggle>
      <mwc-icon-button-toggle class="thumb-down" title="Bad response"><template shadowrootmode="open"><!----><button class="mdc-icon-button mdc-icon-button--display-flex   " aria-pressed="false" aria-label="Bad response"><!--?lit$549300851$-->
        <span class="mdc-icon-button__icon"><slot name="offIcon"><i class="material-icons"><!--?lit$549300851$--></i></slot></span>
        <span class="mdc-icon-button__icon mdc-icon-button__icon--on"><slot name="onIcon"><i class="material-icons"><!--?lit$549300851$--></i></slot></span>
      </button></template>
        <md-icon slot="offIcon" aria-hidden="true"><template shadowrootmode="open"><!----><slot></slot></template>thumb_down</md-icon>
        <md-icon slot="onIcon" aria-hidden="true"><template shadowrootmode="open"><!----><slot></slot></template>thumb_down</md-icon>
      </mwc-icon-button-toggle>
    </template>
        </colab-ai-rating-buttons>
      </div>
    
      </div></template><div class="markdown"><!----><!----><!--?lit$549300851$--><div><span><p>Okay, I understand. You want to find, for each state, the <em>highest</em> production value and the corresponding crop and year when that highest production occurred. This requires a bit more complex grouping and aggregation. Here's how you can do it:</p>
</span></div><!--?--><!----><!----><!--?lit$549300851$--><div class="code-block"><!--?lit$549300851$--><colab-code-toolbar><template shadowrootmode="open"><!----><div class="contents">
      <mwc-icon-button title="Copy"><template shadowrootmode="open"><!----><button class="mdc-icon-button mdc-icon-button--display-flex" aria-label="Copy"><!--?lit$549300851$-->
    <!--?lit$549300851$-->
    <span><slot></slot></span>
  </button></template><md-icon aria-hidden="true"><template shadowrootmode="open"><!----><slot></slot></template>content_copy</md-icon></mwc-icon-button>
      <mwc-icon-button class="insert" title="Add code cell"><template shadowrootmode="open"><!----><button class="mdc-icon-button mdc-icon-button--display-flex" aria-label="Add code cell"><!--?lit$549300851$-->
    <!--?lit$549300851$-->
    <span><slot></slot></span>
  </button></template><!--?lit$549300851$--><svg viewBox="0 0 24 24"><!--?lit$549300851$-->
      <g id="mirror-cell">
        <path d="M4,21V7H2V21a2,2,0,0,0,2,2H18V21Z"></path>
        <path d="M6,13v2H8.6L5,18.6,6.4,20,10,16.4V19h2V13Z"></path>
        <path d="M19,1H8A2,2,0,0,0,6,3v8H8V3H19V17H14v2h5a2,2,0,0,0,2-2V3A2,2,0,0,0,19,1Z"></path>
      </g></svg></mwc-icon-button>
    </div></template></colab-code-toolbar>
      <div class="generated-code-warning">
        <pre class="with-code-warning"><!--?lit$549300851$--><code data-lang="notebook-python" class=" colab-dark"><span><span class="mtk18">import</span><span class="mtk1">&nbsp;pandas&nbsp;</span><span class="mtk18">as</span><span class="mtk1">&nbsp;pd</span></span><br><span><span></span></span><br><span><span class="mtk8">#&nbsp;Load&nbsp;the&nbsp;dataset</span></span><br><span><span class="mtk1">IMDB_df&nbsp;=&nbsp;pd.read_csv</span><span class="mtk12">(</span><span class="mtk5">'IAS.csv'</span><span class="mtk12">)</span></span><br><span><span></span></span><br><span><span class="mtk8">#&nbsp;Fill&nbsp;NA&nbsp;values&nbsp;in&nbsp;'Production'&nbsp;column&nbsp;with&nbsp;mean&nbsp;</span><span class="mtk8">before&nbsp;analysis</span></span><br><span><span class="mtk1">mean_production&nbsp;=&nbsp;IMDB_df</span><span class="mtk12">[</span><span class="mtk5">'Production'</span><span class="mtk12">]</span><span class="mtk1">.mean</span><span class="mtk12">()</span></span><br><span><span class="mtk1">IMDB_df</span><span class="mtk12">[</span><span class="mtk5">'Production'</span><span class="mtk12">]</span><span class="mtk1">&nbsp;=&nbsp;IMDB_df</span><span class="mtk12">[</span><span class="mtk5">'Production'</span><span class="mtk12">]</span><span class="mtk1">.fillna</span><span class="mtk12">(</span><span class="mtk1">mean_production</span><span class="mtk12">)</span></span><br><span><span></span></span><br><span><span></span></span><br><span><span class="mtk8">#&nbsp;Find&nbsp;the&nbsp;highest&nbsp;production&nbsp;for&nbsp;each&nbsp;state,&nbsp;alon</span><span class="mtk8">g&nbsp;with&nbsp;the&nbsp;corresponding&nbsp;year&nbsp;and&nbsp;crop</span></span><br><span><span class="mtk1">highest_production_per_state&nbsp;=&nbsp;IMDB_df.groupby</span><span class="mtk12">(</span><span class="mtk5">'State_Name'</span><span class="mtk12">)</span><span class="mtk1">.apply</span><span class="mtk12">(</span></span><br><span><span class="mtk1">&nbsp;&nbsp;&nbsp;&nbsp;</span><span class="mtk9">lambda</span><span class="mtk1">&nbsp;x</span><span class="mtk12">:</span><span class="mtk1">&nbsp;x.loc</span><span class="mtk12">[</span><span class="mtk1">x</span><span class="mtk12">[</span><span class="mtk5">'Production'</span><span class="mtk12">]</span><span class="mtk1">.idxmax</span><span class="mtk12">(),</span><span class="mtk1">&nbsp;</span><span class="mtk12">[</span><span class="mtk5">'Crop_Year'</span><span class="mtk12">,</span><span class="mtk1">&nbsp;</span><span class="mtk5">'Crop'</span><span class="mtk12">,</span><span class="mtk1">&nbsp;</span><span class="mtk5">'Production'</span><span class="mtk12">]]</span></span><br><span><span class="mtk12">)</span></span><br><span><span></span></span><br><span><span class="mtk8">#&nbsp;Print&nbsp;the&nbsp;result</span></span><br><span><span class="mtk15">print</span><span class="mtk12">(</span><span class="mtk5">"Highest&nbsp;Production&nbsp;per&nbsp;State:"</span><span class="mtk12">)</span></span><br><span><span class="mtk15">print</span><span class="mtk12">(</span><span class="mtk1">highest_production_per_state</span><span class="mtk12">)</span></span><br></code></pre>
        <a href="https://g.co/legal/generative-code" target="_blank">
          Use code with caution</a>
      </div>
    </div><!--?--><!----><!----><!--?lit$549300851$--><div><span><p><strong>Explanation:</strong></p>
<ol>
<li><strong>Import pandas:</strong> Import the pandas library.</li>
<li><strong>Load Data:</strong> Load the dataset from the CSV into <code>IMDB_df</code>.</li>
<li><strong>Handle Missing Values</strong>: Fill the NA values in the <code>Production</code> column using the mean value.</li>
<li><strong>Group by State and Find Highest Production:</strong><ul>
<li><code>IMDB_df.groupby('State_Name')</code> groups the DataFrame by the 'State_Name' column.</li>
<li><code>.apply(lambda x: ...)</code> applies a function to each group (each state).</li>
<li>Inside the lambda function:<ul>
<li><code>x['Production'].idxmax()</code> finds the index (row label) where the maximum 'Production' value occurs within the group.</li>
<li><code>x.loc[..., ['Crop_Year', 'Crop', 'Production']]</code> selects the row with the maximum production and then extracts the 'Crop_Year', 'Crop', and 'Production' columns from it.</li>
</ul>
</li>
<li>The result is stored in the <code>highest_production_per_state</code> variable, which is a Pandas DataFrame where the index is the state name and the columns are the 'Crop_Year', 'Crop', and 'Production' associated with each state's maximum production.</li>
</ul>
</li>
<li><strong>Print the Results:</strong><ul>
<li>The code prints the <code>highest_production_per_state</code> DataFrame.</li>
</ul>
</li>
</ol>
<p><strong>How This Code Works:</strong></p>
<ul>
<li>The code groups the data by 'State_Name'.</li>
<li>For each state, it finds the row with the maximum 'Production' value.</li>
<li>It extracts the 'Crop_Year', 'Crop', and 'Production' values from that row.</li>
<li>The final result shows each state and the crop, year, and maximum production value associated with that state.</li>
</ul>
<p>This will give you a DataFrame that lists each state along with the specific crop, year, and production value associated with the highest production recorded for each of them.</p>
</span></div><!--?--><!----></div></colab-aida-message><!----><!----><colab-aida-message><template shadowrootmode="open"><!----><!--?lit$549300851$--><md-icon class="avatar" aria-hidden="true"><template shadowrootmode="open"><!----><slot></slot></template><!--?lit$549300851$-->
    <svg viewBox="0 0 40 40">
      <path fill="#93ADCF" d="m20,0c-11.04,0 -20,8.96 -20,20c0,11.04 8.96,20 20,20c11.04,0 20,-8.96 20,-20c0,-11.04 -8.96,-20 -20,-20l0,0z"></path>
      <path fill="#CFDAEF" d="m20,34.4c-5,0 -9.42,-2.56 -12,-6.44c0.06,-3.98 8,-6.16 12,-6.16c3.98,0 11.94,2.18 12,6.16c-2.58,3.88 -7,6.44 -12,6.44l0,0z"></path>
      <path fill="#CFDAEF" d="m20,6c3.32,0 6,2.68 6,6c0,3.32 -2.68,6 -6,6c-3.32,0 -6,-2.68 -6,-6c0,-3.32 2.68,-6 6,-6l0,0z"></path>
    </svg></md-icon>
      <div class="body done">
        <!--?lit$549300851$-->
        <slot></slot>
        <!--?lit$549300851$--> <!--?lit$549300851$-->
      </div></template><div class="markdown"><!----><!----><!--?lit$549300851$--><div><span><p>find the high production crop as per a season </p>
</span></div><!--?--><!----></div></colab-aida-message><!----><!----><colab-aida-message><template shadowrootmode="open"><!----><!--?lit$549300851$--><md-icon class="avatar" aria-hidden="true"><template shadowrootmode="open"><!----><slot></slot></template><!--?lit$549300851$-->spark</md-icon>
      <div class="body done">
        <!--?lit$549300851$-->
        <slot></slot>
        <!--?lit$549300851$--><details class="recitations">
      <summary><!--?lit$549300851$-->Sources</summary>
      <ol>
        <!--?lit$549300851$--><!----><li>
        <!--?lit$549300851$--><a target="_blank" href="https://www.tend.com/blog/most-profitable-small-farm-crops"><!--?lit$549300851$-->www.tend.com/blog/most-profitable-small-farm-crops</a></li><!----><!----><li>
        <!--?lit$549300851$--><a target="_blank" href="https://snaped.fns.usda.gov/resources/nutrition-education-materials/seasonal-produce-guide"><!--?lit$549300851$-->snaped.fns.usda.gov/resources/nutrition-education-materials/seasonal-produce-guide</a></li><!----><!----><li>
        <!--?lit$549300851$--><a target="_blank" href="https://www.ryantrans.com/news/seasonal-produce-state"><!--?lit$549300851$-->www.ryantrans.com/news/seasonal-produce-state</a></li><!---->
      </ol>
    </details> <!--?lit$549300851$-->
      <div class="user-rating"><!--?lit$549300851$-->Rate this answer
        <colab-ai-rating-buttons rating="unset"><template shadowrootmode="open"><!---->
      <mwc-icon-button-toggle class="thumb-up" officon="thumb_up" onicon="thumb_up" title="Good response"><template shadowrootmode="open"><!----><button class="mdc-icon-button mdc-icon-button--display-flex   " aria-pressed="false" aria-label="Good response"><!--?lit$549300851$-->
        <span class="mdc-icon-button__icon"><slot name="offIcon"><i class="material-icons"><!--?lit$549300851$-->thumb_up</i></slot></span>
        <span class="mdc-icon-button__icon mdc-icon-button__icon--on"><slot name="onIcon"><i class="material-icons"><!--?lit$549300851$-->thumb_up</i></slot></span>
      </button></template>
        <md-icon slot="offIcon" aria-hidden="true"><template shadowrootmode="open"><!----><slot></slot></template>thumb_up</md-icon>
        <md-icon slot="onIcon" aria-hidden="true"><template shadowrootmode="open"><!----><slot></slot></template>thumb_up</md-icon>
      </mwc-icon-button-toggle>
      <mwc-icon-button-toggle class="thumb-down" title="Bad response"><template shadowrootmode="open"><!----><button class="mdc-icon-button mdc-icon-button--display-flex   " aria-pressed="false" aria-label="Bad response"><!--?lit$549300851$-->
        <span class="mdc-icon-button__icon"><slot name="offIcon"><i class="material-icons"><!--?lit$549300851$--></i></slot></span>
        <span class="mdc-icon-button__icon mdc-icon-button__icon--on"><slot name="onIcon"><i class="material-icons"><!--?lit$549300851$--></i></slot></span>
      </button></template>
        <md-icon slot="offIcon" aria-hidden="true"><template shadowrootmode="open"><!----><slot></slot></template>thumb_down</md-icon>
        <md-icon slot="onIcon" aria-hidden="true"><template shadowrootmode="open"><!----><slot></slot></template>thumb_down</md-icon>
      </mwc-icon-button-toggle>
    </template>
        </colab-ai-rating-buttons>
      </div>
    
      </div></template><div class="markdown"><!----><!----><!--?lit$549300851$--><div><span><p>Okay, let's find the crop with the highest production for each season. Here's the code:</p>
</span></div><!--?--><!----><!----><!--?lit$549300851$--><div class="code-block"><!--?lit$549300851$--><colab-code-toolbar><template shadowrootmode="open"><!----><div class="contents">
      <mwc-icon-button title="Copy"><template shadowrootmode="open"><!----><button class="mdc-icon-button mdc-icon-button--display-flex" aria-label="Copy"><!--?lit$549300851$-->
    <!--?lit$549300851$-->
    <span><slot></slot></span>
  </button></template><md-icon aria-hidden="true"><template shadowrootmode="open"><!----><slot></slot></template>content_copy</md-icon></mwc-icon-button>
      <mwc-icon-button class="insert" title="Add code cell"><template shadowrootmode="open"><!----><button class="mdc-icon-button mdc-icon-button--display-flex" aria-label="Add code cell"><!--?lit$549300851$-->
    <!--?lit$549300851$-->
    <span><slot></slot></span>
  </button></template><!--?lit$549300851$--><svg viewBox="0 0 24 24"><!--?lit$549300851$-->
      <g id="mirror-cell">
        <path d="M4,21V7H2V21a2,2,0,0,0,2,2H18V21Z"></path>
        <path d="M6,13v2H8.6L5,18.6,6.4,20,10,16.4V19h2V13Z"></path>
        <path d="M19,1H8A2,2,0,0,0,6,3v8H8V3H19V17H14v2h5a2,2,0,0,0,2-2V3A2,2,0,0,0,19,1Z"></path>
      </g></svg></mwc-icon-button>
    </div></template></colab-code-toolbar>
      <div class="generated-code-warning">
        <pre class="with-code-warning"><!--?lit$549300851$--><code data-lang="notebook-python" class=" colab-dark"><span><span class="mtk18">import</span><span class="mtk1">&nbsp;pandas&nbsp;</span><span class="mtk18">as</span><span class="mtk1">&nbsp;pd</span></span><br><span><span></span></span><br><span><span class="mtk8">#&nbsp;Load&nbsp;the&nbsp;dataset</span></span><br><span><span class="mtk1">IMDB_df&nbsp;=&nbsp;pd.read_csv</span><span class="mtk12">(</span><span class="mtk5">'IAS.csv'</span><span class="mtk12">)</span></span><br><span><span></span></span><br><span><span class="mtk8">#&nbsp;Fill&nbsp;NA&nbsp;values&nbsp;in&nbsp;'Production'&nbsp;column&nbsp;with&nbsp;mean&nbsp;</span><span class="mtk8">before&nbsp;analysis</span></span><br><span><span class="mtk1">mean_production&nbsp;=&nbsp;IMDB_df</span><span class="mtk12">[</span><span class="mtk5">'Production'</span><span class="mtk12">]</span><span class="mtk1">.mean</span><span class="mtk12">()</span></span><br><span><span class="mtk1">IMDB_df</span><span class="mtk12">[</span><span class="mtk5">'Production'</span><span class="mtk12">]</span><span class="mtk1">&nbsp;=&nbsp;IMDB_df</span><span class="mtk12">[</span><span class="mtk5">'Production'</span><span class="mtk12">]</span><span class="mtk1">.fillna</span><span class="mtk12">(</span><span class="mtk1">mean_production</span><span class="mtk12">)</span></span><br><span><span></span></span><br><span><span></span></span><br><span><span class="mtk8">#&nbsp;Group&nbsp;by&nbsp;season&nbsp;and&nbsp;find&nbsp;the&nbsp;crop&nbsp;with&nbsp;highest&nbsp;p</span><span class="mtk8">roduction</span></span><br><span><span class="mtk1">highest_production_per_season&nbsp;=&nbsp;IMDB_df.groupby</span><span class="mtk12">(</span><span class="mtk5">'Season'</span><span class="mtk12">)</span><span class="mtk1">.apply</span><span class="mtk12">(</span></span><br><span><span class="mtk1">&nbsp;&nbsp;&nbsp;&nbsp;</span><span class="mtk9">lambda</span><span class="mtk1">&nbsp;x</span><span class="mtk12">:</span><span class="mtk1">&nbsp;x.loc</span><span class="mtk12">[</span><span class="mtk1">x</span><span class="mtk12">[</span><span class="mtk5">'Production'</span><span class="mtk12">]</span><span class="mtk1">.idxmax</span><span class="mtk12">(),</span><span class="mtk1">&nbsp;</span><span class="mtk12">[</span><span class="mtk5">'Crop'</span><span class="mtk12">,</span><span class="mtk1">&nbsp;</span><span class="mtk5">'Production'</span><span class="mtk12">]]</span></span><br><span><span class="mtk12">)</span></span><br><span><span></span></span><br><span><span></span></span><br><span><span class="mtk8">#&nbsp;Print&nbsp;the&nbsp;result</span></span><br><span><span class="mtk15">print</span><span class="mtk12">(</span><span class="mtk5">"Highest&nbsp;Production&nbsp;Crop&nbsp;per&nbsp;Season:"</span><span class="mtk12">)</span></span><br><span><span class="mtk15">print</span><span class="mtk12">(</span><span class="mtk1">highest_production_per_season</span><span class="mtk12">)</span></span><br></code></pre>
        <a href="https://g.co/legal/generative-code" target="_blank">
          Use code with caution</a>
      </div>
    </div><!--?--><!----><!----><!--?lit$549300851$--><div><span><p><strong>Explanation:</strong></p>
<ol>
<li><strong>Import pandas:</strong> Import the pandas library.</li>
<li><strong>Load Data:</strong> Load your dataset from the CSV file into <code>IMDB_df</code>.</li>
<li><strong>Handle Missing Values:</strong> Fill the NA values in the <code>Production</code> column with the mean.</li>
<li><strong>Group by Season and Find Highest Production Crop:</strong><ul>
<li><code>IMDB_df.groupby('Season')</code> groups the DataFrame by the 'Season' column.</li>
<li><code>.apply(lambda x: ...)</code> applies a function to each group (each season).</li>
<li>Inside the lambda function:<ul>
<li><code>x['Production'].idxmax()</code> finds the index (row label) where the maximum 'Production' value occurs within the group.</li>
<li><code>x.loc[..., ['Crop', 'Production']]</code> selects the row with the maximum production and extracts the 'Crop' and 'Production' columns from it.</li>
</ul>
</li>
<li>The result is stored in the <code>highest_production_per_season</code> variable, which is a Pandas DataFrame where the index is the season name and the columns are the 'Crop' and 'Production' associated with that season's maximum production</li>
</ul>
</li>
<li><strong>Print the Results:</strong><ul>
<li>The code prints the <code>highest_production_per_season</code> DataFrame.</li>
</ul>
</li>
</ol>
<p><strong>How This Code Works:</strong></p>
<ul>
<li>The code groups the data by 'Season'.</li>
<li>For each season, it finds the row that has the maximum 'Production' value.</li>
<li>It extracts the 'Crop' and 'Production' values from that row.</li>
<li>The output will be a table with the season and associated crop and production value that had the highest value.</li>
</ul>
<p>By running this code, you will get a table showing each season and the crop with the highest production for that season.</p>
</span></div><!--?--><!----></div></colab-aida-message><!----><!----><colab-aida-message><template shadowrootmode="open"><!----><!--?lit$549300851$--><md-icon class="avatar" aria-hidden="true"><template shadowrootmode="open"><!----><slot></slot></template><!--?lit$549300851$-->
    <svg viewBox="0 0 40 40">
      <path fill="#93ADCF" d="m20,0c-11.04,0 -20,8.96 -20,20c0,11.04 8.96,20 20,20c11.04,0 20,-8.96 20,-20c0,-11.04 -8.96,-20 -20,-20l0,0z"></path>
      <path fill="#CFDAEF" d="m20,34.4c-5,0 -9.42,-2.56 -12,-6.44c0.06,-3.98 8,-6.16 12,-6.16c3.98,0 11.94,2.18 12,6.16c-2.58,3.88 -7,6.44 -12,6.44l0,0z"></path>
      <path fill="#CFDAEF" d="m20,6c3.32,0 6,2.68 6,6c0,3.32 -2.68,6 -6,6c-3.32,0 -6,-2.68 -6,-6c0,-3.32 2.68,-6 6,-6l0,0z"></path>
    </svg></md-icon>
      <div class="body done">
        <!--?lit$549300851$-->
        <slot></slot>
        <!--?lit$549300851$--> <!--?lit$549300851$-->
      </div></template><div class="markdown"><!----><!----><!--?lit$549300851$--><div><span><p>find the relation between area and production</p>
</span></div><!--?--><!----></div></colab-aida-message><!----><!----><colab-aida-message><template shadowrootmode="open"><!----><!--?lit$549300851$--><md-icon class="avatar" aria-hidden="true"><template shadowrootmode="open"><!----><slot></slot></template><!--?lit$549300851$-->spark</md-icon>
      <div class="body done">
        <!--?lit$549300851$-->
        <slot></slot>
        <!--?lit$549300851$--><details class="recitations">
      <summary><!--?lit$549300851$-->Sources</summary>
      <ol>
        <!--?lit$549300851$--><!----><li>
        <!--?lit$549300851$--><a target="_blank" href="https://www.researchgate.net/figure/Relationship-between-area-and-production-of-wheat-and-maize_tbl2_242777517"><!--?lit$549300851$-->www.researchgate.net/figure/Relationship-between-area-and-production-of-wheat-and-maize_tbl2_242777517</a></li><!----><!----><li>
        <!--?lit$549300851$--><a target="_blank" href="https://www.researchgate.net/figure/Relationship-between-area-production-and-yield-of-maize-crop-in-Karnataka_tbl2_339337320"><!--?lit$549300851$-->www.researchgate.net/figure/Relationship-between-area-production-and-yield-of-maize-crop-in-Karnataka_tbl2_339337320</a></li><!----><!----><li>
        <!--?lit$549300851$--><a target="_blank" href="https://www.oecd.org/en/data/indicators/crop-production.html"><!--?lit$549300851$-->www.oecd.org/en/data/indicators/crop-production.html</a></li><!----><!----><li>
        <!--?lit$549300851$--><a target="_blank" href="https://en.wikipedia.org/wiki/Crop_yield"><!--?lit$549300851$-->en.wikipedia.org/wiki/Crop_yield</a></li><!----><!----><li>
        <!--?lit$549300851$--><a target="_blank" href="https://afe.siu.edu/_common/documents/econ-papers/kebede_separability.pdf"><!--?lit$549300851$-->afe.siu.edu/_common/documents/econ-papers/kebede_separability.pdf</a></li><!---->
      </ol>
    </details> <!--?lit$549300851$-->
      <div class="user-rating"><!--?lit$549300851$-->Rate this answer
        <colab-ai-rating-buttons rating="unset"><template shadowrootmode="open"><!---->
      <mwc-icon-button-toggle class="thumb-up" officon="thumb_up" onicon="thumb_up" title="Good response"><template shadowrootmode="open"><!----><button class="mdc-icon-button mdc-icon-button--display-flex   " aria-pressed="false" aria-label="Good response"><!--?lit$549300851$-->
        <span class="mdc-icon-button__icon"><slot name="offIcon"><i class="material-icons"><!--?lit$549300851$-->thumb_up</i></slot></span>
        <span class="mdc-icon-button__icon mdc-icon-button__icon--on"><slot name="onIcon"><i class="material-icons"><!--?lit$549300851$-->thumb_up</i></slot></span>
      </button></template>
        <md-icon slot="offIcon" aria-hidden="true"><template shadowrootmode="open"><!----><slot></slot></template>thumb_up</md-icon>
        <md-icon slot="onIcon" aria-hidden="true"><template shadowrootmode="open"><!----><slot></slot></template>thumb_up</md-icon>
      </mwc-icon-button-toggle>
      <mwc-icon-button-toggle class="thumb-down" title="Bad response"><template shadowrootmode="open"><!----><button class="mdc-icon-button mdc-icon-button--display-flex   " aria-pressed="false" aria-label="Bad response"><!--?lit$549300851$-->
        <span class="mdc-icon-button__icon"><slot name="offIcon"><i class="material-icons"><!--?lit$549300851$--></i></slot></span>
        <span class="mdc-icon-button__icon mdc-icon-button__icon--on"><slot name="onIcon"><i class="material-icons"><!--?lit$549300851$--></i></slot></span>
      </button></template>
        <md-icon slot="offIcon" aria-hidden="true"><template shadowrootmode="open"><!----><slot></slot></template>thumb_down</md-icon>
        <md-icon slot="onIcon" aria-hidden="true"><template shadowrootmode="open"><!----><slot></slot></template>thumb_down</md-icon>
      </mwc-icon-button-toggle>
    </template>
        </colab-ai-rating-buttons>
      </div>
    
      </div></template><div class="markdown"><!----><!----><!--?lit$549300851$--><div><span><p>Okay, let's explore the relationship between 'Area' and 'Production' in your dataset. We can approach this in a few ways:</p>
<p><strong>1. Calculate the Correlation:</strong></p>
<p>   We can use the <code>.corr()</code> method to calculate the Pearson correlation coefficient between 'Area' and 'Production'. This will give us a numerical measure of how strongly the two variables are linearly related.</p>
</span></div><!--?--><!----><!----><!--?lit$549300851$--><div class="code-block"><!--?lit$549300851$--><colab-code-toolbar><template shadowrootmode="open"><!----><div class="contents">
      <mwc-icon-button title="Copy"><template shadowrootmode="open"><!----><button class="mdc-icon-button mdc-icon-button--display-flex" aria-label="Copy"><!--?lit$549300851$-->
    <!--?lit$549300851$-->
    <span><slot></slot></span>
  </button></template><md-icon aria-hidden="true"><template shadowrootmode="open"><!----><slot></slot></template>content_copy</md-icon></mwc-icon-button>
      <mwc-icon-button class="insert" title="Add code cell"><template shadowrootmode="open"><!----><button class="mdc-icon-button mdc-icon-button--display-flex" aria-label="Add code cell"><!--?lit$549300851$-->
    <!--?lit$549300851$-->
    <span><slot></slot></span>
  </button></template><!--?lit$549300851$--><svg viewBox="0 0 24 24"><!--?lit$549300851$-->
      <g id="mirror-cell">
        <path d="M4,21V7H2V21a2,2,0,0,0,2,2H18V21Z"></path>
        <path d="M6,13v2H8.6L5,18.6,6.4,20,10,16.4V19h2V13Z"></path>
        <path d="M19,1H8A2,2,0,0,0,6,3v8H8V3H19V17H14v2h5a2,2,0,0,0,2-2V3A2,2,0,0,0,19,1Z"></path>
      </g></svg></mwc-icon-button>
    </div></template></colab-code-toolbar>
      <div class="generated-code-warning">
        <pre class="with-code-warning"><!--?lit$549300851$--><code data-lang="notebook-python" class=" colab-dark"><span><span class="mtk18">import</span><span class="mtk1">&nbsp;pandas&nbsp;</span><span class="mtk18">as</span><span class="mtk1">&nbsp;pd</span></span><br><span><span></span></span><br><span><span class="mtk8">#&nbsp;Load&nbsp;the&nbsp;dataset</span></span><br><span><span class="mtk1">IMDB_df&nbsp;=&nbsp;pd.read_csv</span><span class="mtk12">(</span><span class="mtk5">'IAS.csv'</span><span class="mtk12">)</span></span><br><span><span></span></span><br><span><span class="mtk8">#&nbsp;Fill&nbsp;NA&nbsp;values&nbsp;in&nbsp;'Production'&nbsp;column&nbsp;with&nbsp;mean&nbsp;</span><span class="mtk8">before&nbsp;analysis</span></span><br><span><span class="mtk1">mean_production&nbsp;=&nbsp;IMDB_df</span><span class="mtk12">[</span><span class="mtk5">'Production'</span><span class="mtk12">]</span><span class="mtk1">.mean</span><span class="mtk12">()</span></span><br><span><span class="mtk1">IMDB_df</span><span class="mtk12">[</span><span class="mtk5">'Production'</span><span class="mtk12">]</span><span class="mtk1">&nbsp;=&nbsp;IMDB_df</span><span class="mtk12">[</span><span class="mtk5">'Production'</span><span class="mtk12">]</span><span class="mtk1">.fillna</span><span class="mtk12">(</span><span class="mtk1">mean_production</span><span class="mtk12">)</span></span><br><span><span></span></span><br><span><span class="mtk8">#&nbsp;Calculate&nbsp;the&nbsp;correlation</span></span><br><span><span class="mtk1">correlation&nbsp;=&nbsp;IMDB_df</span><span class="mtk12">[</span><span class="mtk5">'Area'</span><span class="mtk12">]</span><span class="mtk1">.corr</span><span class="mtk12">(</span><span class="mtk1">IMDB_df</span><span class="mtk12">[</span><span class="mtk5">'Production'</span><span class="mtk12">])</span></span><br><span><span class="mtk15">print</span><span class="mtk12">(</span><span class="mtk9">f</span><span class="mtk5">"The&nbsp;correlation&nbsp;between&nbsp;Area&nbsp;and&nbsp;Production&nbsp;is:&nbsp;</span><span class="mtk12">{</span><span class="mtk1">correlation</span><span class="mtk12">}</span><span class="mtk5">"</span><span class="mtk12">)</span></span><br></code></pre>
        <a href="https://g.co/legal/generative-code" target="_blank">
          Use code with caution</a>
      </div>
    </div><!--?--><!----><!----><!--?lit$549300851$--><div><span><p>   A positive correlation means that as the area increases, the production tends to increase and vice versa. A negative correlation suggests that as one increases the other tends to decrease. The values will range from -1 to 1, with values close to zero indicating little to no correlation.</p>
<p><strong>2. Create a Scatter Plot:</strong></p>
<p>   A scatter plot can visually show the relationship between 'Area' and 'Production'. This can reveal patterns or non-linear relationships that the correlation coefficient might miss.</p>
</span></div><!--?--><!----><!----><!--?lit$549300851$--><div class="code-block"><!--?lit$549300851$--><colab-code-toolbar><template shadowrootmode="open"><!----><div class="contents">
      <mwc-icon-button title="Copy"><template shadowrootmode="open"><!----><button class="mdc-icon-button mdc-icon-button--display-flex" aria-label="Copy"><!--?lit$549300851$-->
    <!--?lit$549300851$-->
    <span><slot></slot></span>
  </button></template><md-icon aria-hidden="true"><template shadowrootmode="open"><!----><slot></slot></template>content_copy</md-icon></mwc-icon-button>
      <mwc-icon-button class="insert" title="Add code cell"><template shadowrootmode="open"><!----><button class="mdc-icon-button mdc-icon-button--display-flex" aria-label="Add code cell"><!--?lit$549300851$-->
    <!--?lit$549300851$-->
    <span><slot></slot></span>
  </button></template><!--?lit$549300851$--><svg viewBox="0 0 24 24"><!--?lit$549300851$-->
      <g id="mirror-cell">
        <path d="M4,21V7H2V21a2,2,0,0,0,2,2H18V21Z"></path>
        <path d="M6,13v2H8.6L5,18.6,6.4,20,10,16.4V19h2V13Z"></path>
        <path d="M19,1H8A2,2,0,0,0,6,3v8H8V3H19V17H14v2h5a2,2,0,0,0,2-2V3A2,2,0,0,0,19,1Z"></path>
      </g></svg></mwc-icon-button>
    </div></template></colab-code-toolbar>
      <div class="generated-code-warning">
        <pre class="with-code-warning"><!--?lit$549300851$--><code data-lang="notebook-python" class=" colab-dark"><span><span class="mtk18">import</span><span class="mtk1">&nbsp;pandas&nbsp;</span><span class="mtk18">as</span><span class="mtk1">&nbsp;pd</span></span><br><span><span class="mtk18">import</span><span class="mtk1">&nbsp;matplotlib.pyplot&nbsp;</span><span class="mtk18">as</span><span class="mtk1">&nbsp;plt</span></span><br><span><span></span></span><br><span><span class="mtk8">#&nbsp;Load&nbsp;the&nbsp;dataset</span></span><br><span><span class="mtk1">IMDB_df&nbsp;=&nbsp;pd.read_csv</span><span class="mtk12">(</span><span class="mtk5">'IAS.csv'</span><span class="mtk12">)</span></span><br><span><span></span></span><br><span><span class="mtk8">#&nbsp;Fill&nbsp;NA&nbsp;values&nbsp;in&nbsp;'Production'&nbsp;column&nbsp;with&nbsp;mean&nbsp;</span><span class="mtk8">before&nbsp;analysis</span></span><br><span><span class="mtk1">mean_production&nbsp;=&nbsp;IMDB_df</span><span class="mtk12">[</span><span class="mtk5">'Production'</span><span class="mtk12">]</span><span class="mtk1">.mean</span><span class="mtk12">()</span></span><br><span><span class="mtk1">IMDB_df</span><span class="mtk12">[</span><span class="mtk5">'Production'</span><span class="mtk12">]</span><span class="mtk1">&nbsp;=&nbsp;IMDB_df</span><span class="mtk12">[</span><span class="mtk5">'Production'</span><span class="mtk12">]</span><span class="mtk1">.fillna</span><span class="mtk12">(</span><span class="mtk1">mean_production</span><span class="mtk12">)</span></span><br><span><span></span></span><br><span><span class="mtk8">#&nbsp;Create&nbsp;the&nbsp;scatter&nbsp;plot</span></span><br><span><span class="mtk1">plt.figure</span><span class="mtk12">(</span><span class="mtk1">figsize=</span><span class="mtk12">(</span><span class="mtk6">8</span><span class="mtk12">,</span><span class="mtk1">&nbsp;</span><span class="mtk6">6</span><span class="mtk12">))</span></span><br><span><span class="mtk1">plt.scatter</span><span class="mtk12">(</span><span class="mtk1">IMDB_df</span><span class="mtk12">[</span><span class="mtk5">'Area'</span><span class="mtk12">],</span><span class="mtk1">&nbsp;IMDB_df</span><span class="mtk12">[</span><span class="mtk5">'Production'</span><span class="mtk12">],</span><span class="mtk1">&nbsp;alpha=</span><span class="mtk6">0.5</span><span class="mtk12">)</span></span><br><span><span class="mtk1">plt.title</span><span class="mtk12">(</span><span class="mtk5">'Scatter&nbsp;Plot&nbsp;of&nbsp;Area&nbsp;vs&nbsp;Production'</span><span class="mtk12">)</span></span><br><span><span class="mtk1">plt.xlabel</span><span class="mtk12">(</span><span class="mtk5">'Area'</span><span class="mtk12">)</span></span><br><span><span class="mtk1">plt.ylabel</span><span class="mtk12">(</span><span class="mtk5">'Production'</span><span class="mtk12">)</span></span><br><span><span class="mtk1">plt.grid</span><span class="mtk12">(</span><span class="mtk9">True</span><span class="mtk12">)</span></span><br><span><span class="mtk1">plt.show</span><span class="mtk12">()</span></span><br></code></pre>
        <a href="https://g.co/legal/generative-code" target="_blank">
          Use code with caution</a>
      </div>
    </div><!--?--><!----><!----><!--?lit$549300851$--><div><span><p>   In the code above:</p>
<ul>
<li><code>plt.scatter</code> plots the 'Area' against the 'Production' columns.</li>
<li><code>alpha=0.5</code> adds transparency so overlapping points are visible.</li>
<li>The remaining commands add labels and a grid for clarity.</li>
</ul>
<p><strong>3. Group by Area and Aggregate Production:</strong>
    We can group by the 'Area' column and examine the average, sum or some other aggregation of the production. This can be more useful when the area is discrete as opposed to continuous. If continuous, it would be useful to bin the area into groups and find the average production of each bin.</p>
</span></div><!--?--><!----><!----><!--?lit$549300851$--><div class="code-block"><!--?lit$549300851$--><colab-code-toolbar><template shadowrootmode="open"><!----><div class="contents">
      <mwc-icon-button title="Copy"><template shadowrootmode="open"><!----><button class="mdc-icon-button mdc-icon-button--display-flex" aria-label="Copy"><!--?lit$549300851$-->
    <!--?lit$549300851$-->
    <span><slot></slot></span>
  </button></template><md-icon aria-hidden="true"><template shadowrootmode="open"><!----><slot></slot></template>content_copy</md-icon></mwc-icon-button>
      <mwc-icon-button class="insert" title="Add code cell"><template shadowrootmode="open"><!----><button class="mdc-icon-button mdc-icon-button--display-flex" aria-label="Add code cell"><!--?lit$549300851$-->
    <!--?lit$549300851$-->
    <span><slot></slot></span>
  </button></template><!--?lit$549300851$--><svg viewBox="0 0 24 24"><!--?lit$549300851$-->
      <g id="mirror-cell">
        <path d="M4,21V7H2V21a2,2,0,0,0,2,2H18V21Z"></path>
        <path d="M6,13v2H8.6L5,18.6,6.4,20,10,16.4V19h2V13Z"></path>
        <path d="M19,1H8A2,2,0,0,0,6,3v8H8V3H19V17H14v2h5a2,2,0,0,0,2-2V3A2,2,0,0,0,19,1Z"></path>
      </g></svg></mwc-icon-button>
    </div></template></colab-code-toolbar>
      <div class="generated-code-warning">
        <pre class="with-code-warning"><!--?lit$549300851$--><code data-lang="notebook-python" class=" colab-dark"><span><span class="mtk18">import</span><span class="mtk1">&nbsp;pandas&nbsp;</span><span class="mtk18">as</span><span class="mtk1">&nbsp;pd</span></span><br><span><span class="mtk18">import</span><span class="mtk1">&nbsp;matplotlib.pyplot&nbsp;</span><span class="mtk18">as</span><span class="mtk1">&nbsp;plt</span></span><br><span><span class="mtk18">import</span><span class="mtk1">&nbsp;numpy&nbsp;</span><span class="mtk18">as</span><span class="mtk1">&nbsp;np</span></span><br><span><span></span></span><br><span><span class="mtk8">#&nbsp;Load&nbsp;the&nbsp;dataset</span></span><br><span><span class="mtk1">IMDB_df&nbsp;=&nbsp;pd.read_csv</span><span class="mtk12">(</span><span class="mtk5">'IAS.csv'</span><span class="mtk12">)</span></span><br><span><span></span></span><br><span><span class="mtk8">#&nbsp;Fill&nbsp;NA&nbsp;values&nbsp;in&nbsp;'Production'&nbsp;column&nbsp;with&nbsp;mean&nbsp;</span><span class="mtk8">before&nbsp;analysis</span></span><br><span><span class="mtk1">mean_production&nbsp;=&nbsp;IMDB_df</span><span class="mtk12">[</span><span class="mtk5">'Production'</span><span class="mtk12">]</span><span class="mtk1">.mean</span><span class="mtk12">()</span></span><br><span><span class="mtk1">IMDB_df</span><span class="mtk12">[</span><span class="mtk5">'Production'</span><span class="mtk12">]</span><span class="mtk1">&nbsp;=&nbsp;IMDB_df</span><span class="mtk12">[</span><span class="mtk5">'Production'</span><span class="mtk12">]</span><span class="mtk1">.fillna</span><span class="mtk12">(</span><span class="mtk1">mean_production</span><span class="mtk12">)</span></span><br><span><span></span></span><br><span><span class="mtk8">#&nbsp;Bin&nbsp;area&nbsp;into&nbsp;groups</span></span><br><span><span class="mtk1">bins&nbsp;=&nbsp;np.linspace</span><span class="mtk12">(</span><span class="mtk1">IMDB_df</span><span class="mtk12">[</span><span class="mtk5">'Area'</span><span class="mtk12">]</span><span class="mtk1">.</span><span class="mtk15">min</span><span class="mtk12">(),</span><span class="mtk1">&nbsp;IMDB_df</span><span class="mtk12">[</span><span class="mtk5">'Area'</span><span class="mtk12">]</span><span class="mtk1">.</span><span class="mtk15">max</span><span class="mtk12">(),</span><span class="mtk1">&nbsp;num=</span><span class="mtk6">10</span><span class="mtk12">)</span><span class="mtk1">&nbsp;</span><span class="mtk8">#&nbsp;10&nbsp;bins</span></span><br><span><span class="mtk1">IMDB_df</span><span class="mtk12">[</span><span class="mtk5">'Area_Bin'</span><span class="mtk12">]</span><span class="mtk1">&nbsp;=&nbsp;pd.cut</span><span class="mtk12">(</span><span class="mtk1">IMDB_df</span><span class="mtk12">[</span><span class="mtk5">'Area'</span><span class="mtk12">],</span><span class="mtk1">&nbsp;bins</span><span class="mtk12">,</span><span class="mtk1">&nbsp;labels=</span><span class="mtk9">False</span><span class="mtk12">,</span><span class="mtk1">&nbsp;include_lowest=</span><span class="mtk9">True</span><span class="mtk12">)</span><span class="mtk1">&nbsp;</span><span class="mtk8">#&nbsp;Create&nbsp;binned&nbsp;area&nbsp;column</span></span><br><span><span class="mtk8">#&nbsp;Group&nbsp;by&nbsp;area&nbsp;bin&nbsp;and&nbsp;find&nbsp;mean&nbsp;production</span></span><br><span><span class="mtk1">production_by_area&nbsp;=&nbsp;IMDB_df.groupby</span><span class="mtk12">(</span><span class="mtk5">'Area_Bin'</span><span class="mtk12">)[</span><span class="mtk5">'Production'</span><span class="mtk12">]</span><span class="mtk1">.mean</span><span class="mtk12">()</span></span><br><span><span></span></span><br><span><span class="mtk8">#&nbsp;Create&nbsp;bar&nbsp;plot</span></span><br><span><span class="mtk1">plt.figure</span><span class="mtk12">(</span><span class="mtk1">figsize=</span><span class="mtk12">(</span><span class="mtk6">10</span><span class="mtk12">,</span><span class="mtk1">&nbsp;</span><span class="mtk6">6</span><span class="mtk12">))</span></span><br><span><span class="mtk1">production_by_area.plot</span><span class="mtk12">(</span><span class="mtk1">kind=</span><span class="mtk5">'bar'</span><span class="mtk12">)</span></span><br><span><span class="mtk1">plt.title</span><span class="mtk12">(</span><span class="mtk5">'Average&nbsp;Production&nbsp;by&nbsp;Area&nbsp;Bin'</span><span class="mtk12">)</span></span><br><span><span class="mtk1">plt.xlabel</span><span class="mtk12">(</span><span class="mtk5">'Area&nbsp;Bin'</span><span class="mtk12">)</span></span><br><span><span class="mtk1">plt.ylabel</span><span class="mtk12">(</span><span class="mtk5">'Average&nbsp;Production'</span><span class="mtk12">)</span></span><br><span><span class="mtk1">plt.grid</span><span class="mtk12">(</span><span class="mtk1">axis=</span><span class="mtk5">'y'</span><span class="mtk12">)</span></span><br><span><span class="mtk1">plt.xticks</span><span class="mtk12">(</span><span class="mtk1">rotation=</span><span class="mtk6">45</span><span class="mtk12">,</span><span class="mtk1">&nbsp;ha=</span><span class="mtk5">'right'</span><span class="mtk12">)</span><span class="mtk1">&nbsp;</span><span class="mtk8">#&nbsp;Rotate&nbsp;x-axis&nbsp;labels&nbsp;for&nbsp;readability</span></span><br><span><span class="mtk1">plt.tight_layout</span><span class="mtk12">()</span></span><br><span><span class="mtk1">plt.show</span><span class="mtk12">()</span></span><br><span><span></span></span><br><span><span class="mtk15">print</span><span class="mtk12">(</span><span class="mtk5">"Average&nbsp;Production&nbsp;by&nbsp;Area&nbsp;Bin:"</span><span class="mtk12">)</span></span><br><span><span class="mtk15">print</span><span class="mtk12">(</span><span class="mtk1">production_by_area</span><span class="mtk12">)</span></span><br></code></pre>
        <a href="https://g.co/legal/generative-code" target="_blank">
          Use code with caution</a>
      </div>
    </div><!--?--><!----><!----><!--?lit$549300851$--><div><span><p>   In this code:</p>
<ul>
<li><code>np.linspace</code> creates bins of equal sizes.</li>
<li><code>pd.cut</code> creates a new column <code>Area_Bin</code> that has the bin of the area the row is associated with.</li>
<li><code>groupby</code> groups by the new <code>Area_Bin</code> column and calculates the mean production.</li>
<li>A bar plot is created with the mean productions of each bin.</li>
</ul>
<p><strong>Interpreting the Results:</strong></p>
<ul>
<li><strong>Correlation:</strong> The correlation coefficient will indicate the strength and direction of the <em>linear</em> relationship between area and production. A value near 1 indicates strong positive correlation, near -1 strong negative, and near 0 little correlation.</li>
<li><strong>Scatter Plot:</strong> The scatter plot will give a visual sense of the relationship. You will see if the points tend to follow a linear pattern or some other shape. It will allow you to notice if the relation is linear, quadratic or some other non-linear relationship.</li>
<li><strong>Grouped plot:</strong> This will show you, per area bin, what the average production is.</li>
</ul>
<p>By running these code snippets you can explore the relationship between the 'Area' and 'Production' in a quantitative and qualitative way. The search results suggest a positive correlation between area and production in agriculture, but the specific relationship for your dataset might be different and this code will help you investigate it.</p>
</span></div><!--?--><!----></div></colab-aida-message><!----><!----><colab-aida-message><template shadowrootmode="open"><!----><!--?lit$549300851$--><md-icon class="avatar" aria-hidden="true"><template shadowrootmode="open"><!----><slot></slot></template><!--?lit$549300851$-->
    <svg viewBox="0 0 40 40">
      <path fill="#93ADCF" d="m20,0c-11.04,0 -20,8.96 -20,20c0,11.04 8.96,20 20,20c11.04,0 20,-8.96 20,-20c0,-11.04 -8.96,-20 -20,-20l0,0z"></path>
      <path fill="#CFDAEF" d="m20,34.4c-5,0 -9.42,-2.56 -12,-6.44c0.06,-3.98 8,-6.16 12,-6.16c3.98,0 11.94,2.18 12,6.16c-2.58,3.88 -7,6.44 -12,6.44l0,0z"></path>
      <path fill="#CFDAEF" d="m20,6c3.32,0 6,2.68 6,6c0,3.32 -2.68,6 -6,6c-3.32,0 -6,-2.68 -6,-6c0,-3.32 2.68,-6 6,-6l0,0z"></path>
    </svg></md-icon>
      <div class="body done">
        <!--?lit$549300851$-->
        <slot></slot>
        <!--?lit$549300851$--> <!--?lit$549300851$-->
      </div></template><div class="markdown"><!----><!----><!--?lit$549300851$--><div><span><p>explain it me </p>
</span></div><!--?--><!----></div></colab-aida-message><!----><!----><colab-aida-message><template shadowrootmode="open"><!----><!--?lit$549300851$--><md-icon class="avatar" aria-hidden="true"><template shadowrootmode="open"><!----><slot></slot></template><!--?lit$549300851$-->spark</md-icon>
      <div class="body done">
        <!--?lit$549300851$-->
        <slot></slot>
        <!--?lit$549300851$--> <!--?lit$549300851$-->
      <div class="user-rating"><!--?lit$549300851$-->Rate this answer
        <colab-ai-rating-buttons rating="unset"><template shadowrootmode="open"><!---->
      <mwc-icon-button-toggle class="thumb-up" officon="thumb_up" onicon="thumb_up" title="Good response"><template shadowrootmode="open"><!----><button class="mdc-icon-button mdc-icon-button--display-flex   " aria-pressed="false" aria-label="Good response"><!--?lit$549300851$-->
        <span class="mdc-icon-button__icon"><slot name="offIcon"><i class="material-icons"><!--?lit$549300851$-->thumb_up</i></slot></span>
        <span class="mdc-icon-button__icon mdc-icon-button__icon--on"><slot name="onIcon"><i class="material-icons"><!--?lit$549300851$-->thumb_up</i></slot></span>
      </button></template>
        <md-icon slot="offIcon" aria-hidden="true"><template shadowrootmode="open"><!----><slot></slot></template>thumb_up</md-icon>
        <md-icon slot="onIcon" aria-hidden="true"><template shadowrootmode="open"><!----><slot></slot></template>thumb_up</md-icon>
      </mwc-icon-button-toggle>
      <mwc-icon-button-toggle class="thumb-down" title="Bad response"><template shadowrootmode="open"><!----><button class="mdc-icon-button mdc-icon-button--display-flex   " aria-pressed="false" aria-label="Bad response"><!--?lit$549300851$-->
        <span class="mdc-icon-button__icon"><slot name="offIcon"><i class="material-icons"><!--?lit$549300851$--></i></slot></span>
        <span class="mdc-icon-button__icon mdc-icon-button__icon--on"><slot name="onIcon"><i class="material-icons"><!--?lit$549300851$--></i></slot></span>
      </button></template>
        <md-icon slot="offIcon" aria-hidden="true"><template shadowrootmode="open"><!----><slot></slot></template>thumb_down</md-icon>
        <md-icon slot="onIcon" aria-hidden="true"><template shadowrootmode="open"><!----><slot></slot></template>thumb_down</md-icon>
      </mwc-icon-button-toggle>
    </template>
        </colab-ai-rating-buttons>
      </div>
    
      </div></template><div class="markdown"><!----><!----><!--?lit$549300851$--><div><span><p>Okay, let's break down the code and the concepts behind exploring the relationship between 'Area' and 'Production'. I'll explain each of the three approaches: correlation, scatter plot, and grouped analysis.</p>
<p><strong>Core Idea</strong></p>
<p>The main goal is to understand how the size of the area affects the amount of production. Does larger area lead to more production? Is there a consistent pattern, or are there other factors at play?</p>
<p><strong>1. Correlation Calculation</strong></p>
<ul>
<li><strong>Code:</strong></li>
</ul>
</span></div><!--?--><!----><!----><!--?lit$549300851$--><div class="code-block"><!--?lit$549300851$--><colab-code-toolbar><template shadowrootmode="open"><!----><div class="contents">
      <mwc-icon-button title="Copy"><template shadowrootmode="open"><!----><button class="mdc-icon-button mdc-icon-button--display-flex" aria-label="Copy"><!--?lit$549300851$-->
    <!--?lit$549300851$-->
    <span><slot></slot></span>
  </button></template><md-icon aria-hidden="true"><template shadowrootmode="open"><!----><slot></slot></template>content_copy</md-icon></mwc-icon-button>
      <mwc-icon-button class="insert" title="Add code cell"><template shadowrootmode="open"><!----><button class="mdc-icon-button mdc-icon-button--display-flex" aria-label="Add code cell"><!--?lit$549300851$-->
    <!--?lit$549300851$-->
    <span><slot></slot></span>
  </button></template><!--?lit$549300851$--><svg viewBox="0 0 24 24"><!--?lit$549300851$-->
      <g id="mirror-cell">
        <path d="M4,21V7H2V21a2,2,0,0,0,2,2H18V21Z"></path>
        <path d="M6,13v2H8.6L5,18.6,6.4,20,10,16.4V19h2V13Z"></path>
        <path d="M19,1H8A2,2,0,0,0,6,3v8H8V3H19V17H14v2h5a2,2,0,0,0,2-2V3A2,2,0,0,0,19,1Z"></path>
      </g></svg></mwc-icon-button>
    </div></template></colab-code-toolbar>
      <div class="generated-code-warning">
        <pre class="with-code-warning"><!--?lit$549300851$--><code data-lang="notebook-python" class=" colab-dark"><span><span class="mtk18">import</span><span class="mtk1">&nbsp;pandas&nbsp;</span><span class="mtk18">as</span><span class="mtk1">&nbsp;pd</span></span><br><span><span></span></span><br><span><span class="mtk1">&nbsp;&nbsp;&nbsp;&nbsp;</span><span class="mtk8">#&nbsp;Load&nbsp;the&nbsp;dataset</span></span><br><span><span class="mtk1">&nbsp;&nbsp;&nbsp;&nbsp;IMDB_df&nbsp;=&nbsp;pd.read_csv</span><span class="mtk12">(</span><span class="mtk5">'IAS.csv'</span><span class="mtk12">)</span></span><br><span><span></span></span><br><span><span class="mtk1">&nbsp;&nbsp;&nbsp;&nbsp;</span><span class="mtk8">#&nbsp;Fill&nbsp;NA&nbsp;values&nbsp;in&nbsp;'Production'&nbsp;column&nbsp;with&nbsp;mean&nbsp;</span><span class="mtk8">before&nbsp;analysis</span></span><br><span><span class="mtk1">&nbsp;&nbsp;&nbsp;&nbsp;mean_production&nbsp;=&nbsp;IMDB_df</span><span class="mtk12">[</span><span class="mtk5">'Production'</span><span class="mtk12">]</span><span class="mtk1">.mean</span><span class="mtk12">()</span></span><br><span><span class="mtk1">&nbsp;&nbsp;&nbsp;&nbsp;IMDB_df</span><span class="mtk12">[</span><span class="mtk5">'Production'</span><span class="mtk12">]</span><span class="mtk1">&nbsp;=&nbsp;IMDB_df</span><span class="mtk12">[</span><span class="mtk5">'Production'</span><span class="mtk12">]</span><span class="mtk1">.fillna</span><span class="mtk12">(</span><span class="mtk1">mean_production</span><span class="mtk12">)</span></span><br><span><span></span></span><br><span><span class="mtk1">&nbsp;&nbsp;&nbsp;&nbsp;</span><span class="mtk8">#&nbsp;Calculate&nbsp;the&nbsp;correlation</span></span><br><span><span class="mtk1">&nbsp;&nbsp;&nbsp;&nbsp;correlation&nbsp;=&nbsp;IMDB_df</span><span class="mtk12">[</span><span class="mtk5">'Area'</span><span class="mtk12">]</span><span class="mtk1">.corr</span><span class="mtk12">(</span><span class="mtk1">IMDB_df</span><span class="mtk12">[</span><span class="mtk5">'Production'</span><span class="mtk12">])</span></span><br><span><span class="mtk1">&nbsp;&nbsp;&nbsp;&nbsp;</span><span class="mtk15">print</span><span class="mtk12">(</span><span class="mtk9">f</span><span class="mtk5">"The&nbsp;correlation&nbsp;between&nbsp;Area&nbsp;and&nbsp;Production&nbsp;is:&nbsp;</span><span class="mtk12">{</span><span class="mtk1">correlation</span><span class="mtk12">}</span><span class="mtk5">"</span><span class="mtk12">)</span></span><br></code></pre>
        <a href="https://g.co/legal/generative-code" target="_blank">
          Use code with caution</a>
      </div>
    </div><!--?--><!----><!----><!--?lit$549300851$--><div><span><ul>
<li><strong>Explanation:</strong><ul>
<li>We load the data, fill in any missing values in 'Production' with its mean, to avoid errors with the calculations.</li>
<li><code>IMDB_df['Area'].corr(IMDB_df['Production'])</code> is the key line.<ul>
<li><code>.corr()</code> is a method in pandas that calculates the <em>Pearson correlation coefficient</em> between two numerical columns.</li>
<li>The Pearson correlation coefficient measures the strength and direction of a <em>linear</em> relationship.</li>
</ul>
</li>
<li>The result is a single number between -1 and 1:<ul>
<li><strong>1:</strong> A perfect positive linear relationship (as 'Area' goes up, 'Production' goes up proportionally).</li>
<li><strong>-1:</strong> A perfect negative linear relationship (as 'Area' goes up, 'Production' goes down proportionally).</li>
<li><strong>0:</strong> No linear relationship.</li>
<li>Values between -1 and 1 indicate the degree of the relationship, with values closer to the extremes meaning a stronger relationship.</li>
</ul>
</li>
</ul>
</li>
<li><strong>Usefulness:</strong><ul>
<li>This gives you a quick numerical summary of the linear relationship. It's a good starting point.</li>
<li>However, it might not capture more complex non-linear relationships.</li>
</ul>
</li>
</ul>
<p><strong>2. Scatter Plot Visualization</strong></p>
<ul>
<li><strong>Code:</strong></li>
</ul>
</span></div><!--?--><!----><!----><!--?lit$549300851$--><div class="code-block"><!--?lit$549300851$--><colab-code-toolbar><template shadowrootmode="open"><!----><div class="contents">
      <mwc-icon-button title="Copy"><template shadowrootmode="open"><!----><button class="mdc-icon-button mdc-icon-button--display-flex" aria-label="Copy"><!--?lit$549300851$-->
    <!--?lit$549300851$-->
    <span><slot></slot></span>
  </button></template><md-icon aria-hidden="true"><template shadowrootmode="open"><!----><slot></slot></template>content_copy</md-icon></mwc-icon-button>
      <mwc-icon-button class="insert" title="Add code cell"><template shadowrootmode="open"><!----><button class="mdc-icon-button mdc-icon-button--display-flex" aria-label="Add code cell"><!--?lit$549300851$-->
    <!--?lit$549300851$-->
    <span><slot></slot></span>
  </button></template><!--?lit$549300851$--><svg viewBox="0 0 24 24"><!--?lit$549300851$-->
      <g id="mirror-cell">
        <path d="M4,21V7H2V21a2,2,0,0,0,2,2H18V21Z"></path>
        <path d="M6,13v2H8.6L5,18.6,6.4,20,10,16.4V19h2V13Z"></path>
        <path d="M19,1H8A2,2,0,0,0,6,3v8H8V3H19V17H14v2h5a2,2,0,0,0,2-2V3A2,2,0,0,0,19,1Z"></path>
      </g></svg></mwc-icon-button>
    </div></template></colab-code-toolbar>
      <div class="generated-code-warning">
        <pre class="with-code-warning"><!--?lit$549300851$--><code data-lang="notebook-python" class=" colab-dark"><span><span class="mtk18">import</span><span class="mtk1">&nbsp;pandas&nbsp;</span><span class="mtk18">as</span><span class="mtk1">&nbsp;pd</span></span><br><span><span class="mtk1">&nbsp;&nbsp;&nbsp;&nbsp;</span><span class="mtk18">import</span><span class="mtk1">&nbsp;matplotlib.pyplot&nbsp;</span><span class="mtk18">as</span><span class="mtk1">&nbsp;plt</span></span><br><span><span></span></span><br><span><span class="mtk1">&nbsp;&nbsp;&nbsp;&nbsp;</span><span class="mtk8">#&nbsp;Load&nbsp;the&nbsp;dataset</span></span><br><span><span class="mtk1">&nbsp;&nbsp;&nbsp;&nbsp;IMDB_df&nbsp;=&nbsp;pd.read_csv</span><span class="mtk12">(</span><span class="mtk5">'IAS.csv'</span><span class="mtk12">)</span></span><br><span><span></span></span><br><span><span class="mtk1">&nbsp;&nbsp;&nbsp;&nbsp;</span><span class="mtk8">#&nbsp;Fill&nbsp;NA&nbsp;values&nbsp;in&nbsp;'Production'&nbsp;column&nbsp;with&nbsp;mean&nbsp;</span><span class="mtk8">before&nbsp;analysis</span></span><br><span><span class="mtk1">&nbsp;&nbsp;&nbsp;&nbsp;mean_production&nbsp;=&nbsp;IMDB_df</span><span class="mtk12">[</span><span class="mtk5">'Production'</span><span class="mtk12">]</span><span class="mtk1">.mean</span><span class="mtk12">()</span></span><br><span><span class="mtk1">&nbsp;&nbsp;&nbsp;&nbsp;IMDB_df</span><span class="mtk12">[</span><span class="mtk5">'Production'</span><span class="mtk12">]</span><span class="mtk1">&nbsp;=&nbsp;IMDB_df</span><span class="mtk12">[</span><span class="mtk5">'Production'</span><span class="mtk12">]</span><span class="mtk1">.fillna</span><span class="mtk12">(</span><span class="mtk1">mean_production</span><span class="mtk12">)</span></span><br><span><span></span></span><br><span><span class="mtk1">&nbsp;&nbsp;&nbsp;&nbsp;</span><span class="mtk8">#&nbsp;Create&nbsp;the&nbsp;scatter&nbsp;plot</span></span><br><span><span class="mtk1">&nbsp;&nbsp;&nbsp;&nbsp;plt.figure</span><span class="mtk12">(</span><span class="mtk1">figsize=</span><span class="mtk12">(</span><span class="mtk6">8</span><span class="mtk12">,</span><span class="mtk1">&nbsp;</span><span class="mtk6">6</span><span class="mtk12">))</span></span><br><span><span class="mtk1">&nbsp;&nbsp;&nbsp;&nbsp;plt.scatter</span><span class="mtk12">(</span><span class="mtk1">IMDB_df</span><span class="mtk12">[</span><span class="mtk5">'Area'</span><span class="mtk12">],</span><span class="mtk1">&nbsp;IMDB_df</span><span class="mtk12">[</span><span class="mtk5">'Production'</span><span class="mtk12">],</span><span class="mtk1">&nbsp;alpha=</span><span class="mtk6">0.5</span><span class="mtk12">)</span></span><br><span><span class="mtk1">&nbsp;&nbsp;&nbsp;&nbsp;plt.title</span><span class="mtk12">(</span><span class="mtk5">'Scatter&nbsp;Plot&nbsp;of&nbsp;Area&nbsp;vs&nbsp;Production'</span><span class="mtk12">)</span></span><br><span><span class="mtk1">&nbsp;&nbsp;&nbsp;&nbsp;plt.xlabel</span><span class="mtk12">(</span><span class="mtk5">'Area'</span><span class="mtk12">)</span></span><br><span><span class="mtk1">&nbsp;&nbsp;&nbsp;&nbsp;plt.ylabel</span><span class="mtk12">(</span><span class="mtk5">'Production'</span><span class="mtk12">)</span></span><br><span><span class="mtk1">&nbsp;&nbsp;&nbsp;&nbsp;plt.grid</span><span class="mtk12">(</span><span class="mtk9">True</span><span class="mtk12">)</span></span><br><span><span class="mtk1">&nbsp;&nbsp;&nbsp;&nbsp;plt.show</span><span class="mtk12">()</span></span><br></code></pre>
        <a href="https://g.co/legal/generative-code" target="_blank">
          Use code with caution</a>
      </div>
    </div><!--?--><!----><!----><!--?lit$549300851$--><div><span><ul>
<li><strong>Explanation:</strong><ul>
<li>Again, we load the data and fill NA values in <code>Production</code> with the mean.</li>
<li><code>plt.scatter(IMDB_df['Area'], IMDB_df['Production'])</code> creates a scatter plot:<ul>
<li>Each point on the plot represents a row in your DataFrame.</li>
<li>The x-coordinate is the 'Area', and the y-coordinate is the 'Production'.</li>
<li><code>alpha=0.5</code> makes the points translucent, which helps to see the data better if some points overlap.</li>
</ul>
</li>
<li><code>plt.title</code>, <code>plt.xlabel</code>, <code>plt.ylabel</code>, and <code>plt.grid</code> add labels and a grid for readability.</li>
<li><code>plt.show()</code> displays the scatter plot.</li>
</ul>
</li>
<li><strong>Usefulness:</strong><ul>
<li>Allows you to visually assess the relationship between the two variables.</li>
<li>You can see if there's a linear pattern, a curved pattern, clusters, or if the points look scattered randomly.</li>
<li>Can also spot outliers (points far away from the main trend).</li>
<li>Helps to decide if a linear correlation is an appropriate measure. If the plot shows a curved relationship, a linear correlation may be misleading.</li>
</ul>
</li>
</ul>
<p><strong>3. Grouped Analysis by Area Bins</strong></p>
<ul>
<li><strong>Code:</strong></li>
</ul>
</span></div><!--?--><!----><!----><!--?lit$549300851$--><div class="code-block"><!--?lit$549300851$--><colab-code-toolbar><template shadowrootmode="open"><!----><div class="contents">
      <mwc-icon-button title="Copy"><template shadowrootmode="open"><!----><button class="mdc-icon-button mdc-icon-button--display-flex" aria-label="Copy"><!--?lit$549300851$-->
    <!--?lit$549300851$-->
    <span><slot></slot></span>
  </button></template><md-icon aria-hidden="true"><template shadowrootmode="open"><!----><slot></slot></template>content_copy</md-icon></mwc-icon-button>
      <mwc-icon-button class="insert" title="Add code cell"><template shadowrootmode="open"><!----><button class="mdc-icon-button mdc-icon-button--display-flex" aria-label="Add code cell"><!--?lit$549300851$-->
    <!--?lit$549300851$-->
    <span><slot></slot></span>
  </button></template><!--?lit$549300851$--><svg viewBox="0 0 24 24"><!--?lit$549300851$-->
      <g id="mirror-cell">
        <path d="M4,21V7H2V21a2,2,0,0,0,2,2H18V21Z"></path>
        <path d="M6,13v2H8.6L5,18.6,6.4,20,10,16.4V19h2V13Z"></path>
        <path d="M19,1H8A2,2,0,0,0,6,3v8H8V3H19V17H14v2h5a2,2,0,0,0,2-2V3A2,2,0,0,0,19,1Z"></path>
      </g></svg></mwc-icon-button>
    </div></template></colab-code-toolbar>
      <div class="generated-code-warning">
        <pre class="with-code-warning"><!--?lit$549300851$--><code data-lang="notebook-python" class=" colab-dark"><span><span class="mtk18">import</span><span class="mtk1">&nbsp;pandas&nbsp;</span><span class="mtk18">as</span><span class="mtk1">&nbsp;pd</span></span><br><span><span class="mtk1">&nbsp;&nbsp;&nbsp;&nbsp;</span><span class="mtk18">import</span><span class="mtk1">&nbsp;matplotlib.pyplot&nbsp;</span><span class="mtk18">as</span><span class="mtk1">&nbsp;plt</span></span><br><span><span class="mtk1">&nbsp;&nbsp;&nbsp;&nbsp;</span><span class="mtk18">import</span><span class="mtk1">&nbsp;numpy&nbsp;</span><span class="mtk18">as</span><span class="mtk1">&nbsp;np</span></span><br><span><span></span></span><br><span><span class="mtk1">&nbsp;&nbsp;&nbsp;&nbsp;</span><span class="mtk8">#&nbsp;Load&nbsp;the&nbsp;dataset</span></span><br><span><span class="mtk1">&nbsp;&nbsp;&nbsp;&nbsp;IMDB_df&nbsp;=&nbsp;pd.read_csv</span><span class="mtk12">(</span><span class="mtk5">'IAS.csv'</span><span class="mtk12">)</span></span><br><span><span></span></span><br><span><span class="mtk1">&nbsp;&nbsp;&nbsp;&nbsp;</span><span class="mtk8">#&nbsp;Fill&nbsp;NA&nbsp;values&nbsp;in&nbsp;'Production'&nbsp;column&nbsp;with&nbsp;mean&nbsp;</span><span class="mtk8">before&nbsp;analysis</span></span><br><span><span class="mtk1">&nbsp;&nbsp;&nbsp;&nbsp;mean_production&nbsp;=&nbsp;IMDB_df</span><span class="mtk12">[</span><span class="mtk5">'Production'</span><span class="mtk12">]</span><span class="mtk1">.mean</span><span class="mtk12">()</span></span><br><span><span class="mtk1">&nbsp;&nbsp;&nbsp;&nbsp;IMDB_df</span><span class="mtk12">[</span><span class="mtk5">'Production'</span><span class="mtk12">]</span><span class="mtk1">&nbsp;=&nbsp;IMDB_df</span><span class="mtk12">[</span><span class="mtk5">'Production'</span><span class="mtk12">]</span><span class="mtk1">.fillna</span><span class="mtk12">(</span><span class="mtk1">mean_production</span><span class="mtk12">)</span></span><br><span><span></span></span><br><span><span class="mtk1">&nbsp;&nbsp;&nbsp;&nbsp;</span><span class="mtk8">#&nbsp;Bin&nbsp;area&nbsp;into&nbsp;groups</span></span><br><span><span class="mtk1">&nbsp;&nbsp;&nbsp;&nbsp;bins&nbsp;=&nbsp;np.linspace</span><span class="mtk12">(</span><span class="mtk1">IMDB_df</span><span class="mtk12">[</span><span class="mtk5">'Area'</span><span class="mtk12">]</span><span class="mtk1">.</span><span class="mtk15">min</span><span class="mtk12">(),</span><span class="mtk1">&nbsp;IMDB_df</span><span class="mtk12">[</span><span class="mtk5">'Area'</span><span class="mtk12">]</span><span class="mtk1">.</span><span class="mtk15">max</span><span class="mtk12">(),</span><span class="mtk1">&nbsp;num=</span><span class="mtk6">10</span><span class="mtk12">)</span><span class="mtk1">&nbsp;</span><span class="mtk8">#&nbsp;10&nbsp;bins</span></span><br><span><span class="mtk1">&nbsp;&nbsp;&nbsp;&nbsp;IMDB_df</span><span class="mtk12">[</span><span class="mtk5">'Area_Bin'</span><span class="mtk12">]</span><span class="mtk1">&nbsp;=&nbsp;pd.cut</span><span class="mtk12">(</span><span class="mtk1">IMDB_df</span><span class="mtk12">[</span><span class="mtk5">'Area'</span><span class="mtk12">],</span><span class="mtk1">&nbsp;bins</span><span class="mtk12">,</span><span class="mtk1">&nbsp;labels=</span><span class="mtk9">False</span><span class="mtk12">,</span><span class="mtk1">&nbsp;include_lowest=</span><span class="mtk9">True</span><span class="mtk12">)</span><span class="mtk1">&nbsp;</span><span class="mtk8">#&nbsp;Create&nbsp;binned&nbsp;area&nbsp;column</span></span><br><span><span class="mtk1">&nbsp;&nbsp;&nbsp;&nbsp;</span><span class="mtk8">#&nbsp;Group&nbsp;by&nbsp;area&nbsp;bin&nbsp;and&nbsp;find&nbsp;mean&nbsp;production</span></span><br><span><span class="mtk1">&nbsp;&nbsp;&nbsp;&nbsp;production_by_area&nbsp;=&nbsp;IMDB_df.groupby</span><span class="mtk12">(</span><span class="mtk5">'Area_Bin'</span><span class="mtk12">)[</span><span class="mtk5">'Production'</span><span class="mtk12">]</span><span class="mtk1">.mean</span><span class="mtk12">()</span></span><br><span><span></span></span><br><span><span class="mtk1">&nbsp;&nbsp;&nbsp;&nbsp;</span><span class="mtk8">#&nbsp;Create&nbsp;bar&nbsp;plot</span></span><br><span><span class="mtk1">&nbsp;&nbsp;&nbsp;&nbsp;plt.figure</span><span class="mtk12">(</span><span class="mtk1">figsize=</span><span class="mtk12">(</span><span class="mtk6">10</span><span class="mtk12">,</span><span class="mtk1">&nbsp;</span><span class="mtk6">6</span><span class="mtk12">))</span></span><br><span><span class="mtk1">&nbsp;&nbsp;&nbsp;&nbsp;production_by_area.plot</span><span class="mtk12">(</span><span class="mtk1">kind=</span><span class="mtk5">'bar'</span><span class="mtk12">)</span></span><br><span><span class="mtk1">&nbsp;&nbsp;&nbsp;&nbsp;plt.title</span><span class="mtk12">(</span><span class="mtk5">'Average&nbsp;Production&nbsp;by&nbsp;Area&nbsp;Bin'</span><span class="mtk12">)</span></span><br><span><span class="mtk1">&nbsp;&nbsp;&nbsp;&nbsp;plt.xlabel</span><span class="mtk12">(</span><span class="mtk5">'Area&nbsp;Bin'</span><span class="mtk12">)</span></span><br><span><span class="mtk1">&nbsp;&nbsp;&nbsp;&nbsp;plt.ylabel</span><span class="mtk12">(</span><span class="mtk5">'Average&nbsp;Production'</span><span class="mtk12">)</span></span><br><span><span class="mtk1">&nbsp;&nbsp;&nbsp;&nbsp;plt.grid</span><span class="mtk12">(</span><span class="mtk1">axis=</span><span class="mtk5">'y'</span><span class="mtk12">)</span></span><br><span><span class="mtk1">&nbsp;&nbsp;&nbsp;&nbsp;plt.xticks</span><span class="mtk12">(</span><span class="mtk1">rotation=</span><span class="mtk6">45</span><span class="mtk12">,</span><span class="mtk1">&nbsp;ha=</span><span class="mtk5">'right'</span><span class="mtk12">)</span><span class="mtk1">&nbsp;</span><span class="mtk8">#&nbsp;Rotate&nbsp;x-axis&nbsp;labels&nbsp;for&nbsp;readability</span></span><br><span><span class="mtk1">&nbsp;&nbsp;&nbsp;&nbsp;plt.tight_layout</span><span class="mtk12">()</span></span><br><span><span class="mtk1">&nbsp;&nbsp;&nbsp;&nbsp;plt.show</span><span class="mtk12">()</span></span><br><span><span></span></span><br><span><span class="mtk1">&nbsp;&nbsp;&nbsp;&nbsp;</span><span class="mtk15">print</span><span class="mtk12">(</span><span class="mtk5">"Average&nbsp;Production&nbsp;by&nbsp;Area&nbsp;Bin:"</span><span class="mtk12">)</span></span><br><span><span class="mtk1">&nbsp;&nbsp;&nbsp;&nbsp;</span><span class="mtk15">print</span><span class="mtk12">(</span><span class="mtk1">production_by_area</span><span class="mtk12">)</span></span><br></code></pre>
        <a href="https://g.co/legal/generative-code" target="_blank">
          Use code with caution</a>
      </div>
    </div><!--?--><!----><!----><!--?lit$549300851$--><div><span><ul>
<li><strong>Explanation</strong><ul>
<li>We load the data and fill NA values in <code>Production</code> with the mean.</li>
<li><code>bins = np.linspace(IMDB_df['Area'].min(), IMDB_df['Area'].max(), num=10)</code>:<ul>
<li><code>np.linspace()</code> creates 10 evenly spaced numbers between the minimum and maximum area values. These numbers are the bin edges.</li>
</ul>
</li>
<li><code>IMDB_df['Area_Bin'] = pd.cut(IMDB_df['Area'], bins, labels=False, include_lowest=True)</code>:<ul>
<li><code>pd.cut()</code> divides the 'Area' values into the specified bins. This creates a new column called <code>Area_Bin</code> where each row is associated with a bin.</li>
</ul>
</li>
<li><code>production_by_area = IMDB_df.groupby('Area_Bin')['Production'].mean()</code>:<ul>
<li>We group the data based on the new <code>Area_Bin</code> column. Then, for each group (area bin), we calculate the mean of the 'Production'.</li>
</ul>
</li>
<li><code>production_by_area.plot(kind='bar')</code> creates a bar plot of average production per area bin.</li>
</ul>
</li>
<li><strong>Usefulness</strong><ul>
<li>If 'Area' is continuous, this creates bins (or ranges) of 'Area'. We can then see what the average 'Production' is per range. This helps see the trend, as the average production should increase/decrease as the ranges of area increase, depending on the relationship.</li>
</ul>
</li>
</ul>
<p><strong>In Summary:</strong></p>
<ul>
<li><strong>Correlation:</strong> Gives you a single number showing the linear relationship between area and production.</li>
<li><strong>Scatter Plot:</strong> Gives you a visual sense of the relationship, including non-linear patterns and outliers.</li>
<li><strong>Grouped Analysis:</strong> Allows you to see how the production changes as 'Area' is divided into bins and the average production is displayed.</li>
</ul>
<p>By using these three approaches, you can get a good understanding of how area relates to production in your dataset.</p>
</span></div><!--?--><!----></div></colab-aida-message><!----><!----><colab-aida-message><template shadowrootmode="open"><!----><!--?lit$549300851$--><md-icon class="avatar" aria-hidden="true"><template shadowrootmode="open"><!----><slot></slot></template><!--?lit$549300851$-->
    <svg viewBox="0 0 40 40">
      <path fill="#93ADCF" d="m20,0c-11.04,0 -20,8.96 -20,20c0,11.04 8.96,20 20,20c11.04,0 20,-8.96 20,-20c0,-11.04 -8.96,-20 -20,-20l0,0z"></path>
      <path fill="#CFDAEF" d="m20,34.4c-5,0 -9.42,-2.56 -12,-6.44c0.06,-3.98 8,-6.16 12,-6.16c3.98,0 11.94,2.18 12,6.16c-2.58,3.88 -7,6.44 -12,6.44l0,0z"></path>
      <path fill="#CFDAEF" d="m20,6c3.32,0 6,2.68 6,6c0,3.32 -2.68,6 -6,6c-3.32,0 -6,-2.68 -6,-6c0,-3.32 2.68,-6 6,-6l0,0z"></path>
    </svg></md-icon>
      <div class="body done">
        <!--?lit$549300851$-->
        <slot></slot>
        <!--?lit$549300851$--> <!--?lit$549300851$-->
      </div></template><div class="markdown"><!----><!----><!--?lit$549300851$--><div><span><p>not code vise explaination show me explainatio n inthe theory inshort</p>
</span></div><!--?--><!----></div></colab-aida-message><!----><!----><colab-aida-message><template shadowrootmode="open"><!----><!--?lit$549300851$--><md-icon class="avatar" aria-hidden="true"><template shadowrootmode="open"><!----><slot></slot></template><!--?lit$549300851$-->spark</md-icon>
      <div class="body done">
        <!--?lit$549300851$-->
        <slot></slot>
        <!--?lit$549300851$--> <!--?lit$549300851$-->
      <div class="user-rating"><!--?lit$549300851$-->Rate this answer
        <colab-ai-rating-buttons rating="unset"><template shadowrootmode="open"><!---->
      <mwc-icon-button-toggle class="thumb-up" officon="thumb_up" onicon="thumb_up" title="Good response"><template shadowrootmode="open"><!----><button class="mdc-icon-button mdc-icon-button--display-flex   " aria-pressed="false" aria-label="Good response"><!--?lit$549300851$-->
        <span class="mdc-icon-button__icon"><slot name="offIcon"><i class="material-icons"><!--?lit$549300851$-->thumb_up</i></slot></span>
        <span class="mdc-icon-button__icon mdc-icon-button__icon--on"><slot name="onIcon"><i class="material-icons"><!--?lit$549300851$-->thumb_up</i></slot></span>
      </button></template>
        <md-icon slot="offIcon" aria-hidden="true"><template shadowrootmode="open"><!----><slot></slot></template>thumb_up</md-icon>
        <md-icon slot="onIcon" aria-hidden="true"><template shadowrootmode="open"><!----><slot></slot></template>thumb_up</md-icon>
      </mwc-icon-button-toggle>
      <mwc-icon-button-toggle class="thumb-down" title="Bad response"><template shadowrootmode="open"><!----><button class="mdc-icon-button mdc-icon-button--display-flex   " aria-pressed="false" aria-label="Bad response"><!--?lit$549300851$-->
        <span class="mdc-icon-button__icon"><slot name="offIcon"><i class="material-icons"><!--?lit$549300851$--></i></slot></span>
        <span class="mdc-icon-button__icon mdc-icon-button__icon--on"><slot name="onIcon"><i class="material-icons"><!--?lit$549300851$--></i></slot></span>
      </button></template>
        <md-icon slot="offIcon" aria-hidden="true"><template shadowrootmode="open"><!----><slot></slot></template>thumb_down</md-icon>
        <md-icon slot="onIcon" aria-hidden="true"><template shadowrootmode="open"><!----><slot></slot></template>thumb_down</md-icon>
      </mwc-icon-button-toggle>
    </template>
        </colab-ai-rating-buttons>
      </div>
    
      </div></template><div class="markdown"><!----><!----><!--?lit$549300851$--><div><span><p>Okay, let's break down the relationship between 'Area' and 'Production' from a theoretical perspective, keeping it concise:</p>
<p><strong>Core Question:</strong></p>
<p>We want to understand if and how the size of the area (likely referring to agricultural land) affects the amount of production (likely referring to crop yield).</p>
<p><strong>1. Correlation</strong></p>
<ul>
<li><strong>Concept:</strong> Correlation measures the <em>linear</em> relationship between two variables. It tells us if they tend to move together in a straight line.</li>
<li><strong>Think of it as:</strong><ul>
<li><strong>Positive Correlation:</strong> Larger area tends to mean higher production (or vice versa). Imagine a straight line going upwards to the right on a graph.</li>
<li><strong>Negative Correlation:</strong> Larger area tends to mean lower production (or vice versa). Imagine a straight line going downwards to the right on a graph.</li>
<li><strong>Zero Correlation:</strong> There is no linear relationship. Larger or smaller area does not suggest higher or lower production. The points on a graph would appear like a cloud.</li>
</ul>
</li>
<li><strong>Limitations:</strong><ul>
<li>Only captures <em>linear</em> trends. It might miss curved or more complex relationships.</li>
<li>Correlation does <em>not</em> imply causation (meaning, it doesn't prove that area directly causes production; there could be other factors).</li>
</ul>
</li>
</ul>
<p><strong>2. Scatter Plot</strong></p>
<ul>
<li><strong>Concept:</strong> A scatter plot visualizes the relationship between two variables, plotting each data point as a dot on a graph.</li>
<li><strong>Think of it as:</strong><ul>
<li>Seeing if the points roughly follow a line (linear relationship) or a curve (non-linear).</li>
<li>Identifying clusters or patterns.</li>
<li>Spotting outliers (data points far away from the main group).</li>
</ul>
</li>
<li><strong>Usefulness:</strong><ul>
<li>Shows you the relationship in a visual way, which can reveal insights that correlation alone might miss.</li>
<li>Helps determine if a linear measure of correlation is appropriate or whether non-linear methods should be considered.</li>
</ul>
</li>
</ul>
<p><strong>3. Grouped Analysis (using Area Bins)</strong></p>
<ul>
<li><strong>Concept:</strong> Grouping data based on ranges of 'Area' allows us to see how the average 'Production' behaves across different area sizes.</li>
<li><strong>Think of it as:</strong><ul>
<li>Creating groups of data where the area is in a particular range (i.e. 0 to 100 acres, 101 to 200 acres etc..).</li>
<li>Calculating and seeing the mean production of all the rows that belong to each group.</li>
</ul>
</li>
<li><strong>Usefulness:</strong><ul>
<li>Provides insight into the average production associated with different ranges of 'Area'.</li>
<li>Helps identify trends in production across areas of varying size.</li>
<li>Can be particularly helpful to show trend when a variable is continuous.</li>
</ul>
</li>
</ul>
<p><strong>In short, what are we trying to do?</strong></p>
<p>We're trying to move beyond just looking at single numbers (like averages or totals) and instead, understand how two variables might be related:</p>
<ul>
<li>Does more land generally mean more crops?</li>
<li>Does that relationship look like a straight line, or something more complicated?</li>
<li>How does production behave when land is grouped into sizes?</li>
</ul>
<p>By calculating correlation, creating a scatter plot, and performing a grouped analysis, we're using different tools to explore the relationship between 'Area' and 'Production' and develop a complete and accurate understanding.</p>
</span></div><!--?--><!----></div></colab-aida-message><!----><!----><colab-aida-message><template shadowrootmode="open"><!----><!--?lit$549300851$--><md-icon class="avatar" aria-hidden="true"><template shadowrootmode="open"><!----><slot></slot></template><!--?lit$549300851$-->
    <svg viewBox="0 0 40 40">
      <path fill="#93ADCF" d="m20,0c-11.04,0 -20,8.96 -20,20c0,11.04 8.96,20 20,20c11.04,0 20,-8.96 20,-20c0,-11.04 -8.96,-20 -20,-20l0,0z"></path>
      <path fill="#CFDAEF" d="m20,34.4c-5,0 -9.42,-2.56 -12,-6.44c0.06,-3.98 8,-6.16 12,-6.16c3.98,0 11.94,2.18 12,6.16c-2.58,3.88 -7,6.44 -12,6.44l0,0z"></path>
      <path fill="#CFDAEF" d="m20,6c3.32,0 6,2.68 6,6c0,3.32 -2.68,6 -6,6c-3.32,0 -6,-2.68 -6,-6c0,-3.32 2.68,-6 6,-6l0,0z"></path>
    </svg></md-icon>
      <div class="body done">
        <!--?lit$549300851$-->
        <slot></slot>
        <!--?lit$549300851$--> <!--?lit$549300851$-->
      </div></template><div class="markdown"><!----><!----><!--?lit$549300851$--><div><span><p>find the overview of the data </p>
</span></div><!--?--><!----></div></colab-aida-message><!----><!----><colab-aida-message><template shadowrootmode="open"><!----><!--?lit$549300851$--><md-icon class="avatar" aria-hidden="true"><template shadowrootmode="open"><!----><slot></slot></template><!--?lit$549300851$-->spark</md-icon>
      <div class="body done">
        <!--?lit$549300851$-->
        <slot></slot>
        <!--?lit$549300851$--> <!--?lit$549300851$-->
      <div class="user-rating"><!--?lit$549300851$-->Rate this answer
        <colab-ai-rating-buttons rating="unset"><template shadowrootmode="open"><!---->
      <mwc-icon-button-toggle class="thumb-up" officon="thumb_up" onicon="thumb_up" title="Good response"><template shadowrootmode="open"><!----><button class="mdc-icon-button mdc-icon-button--display-flex   " aria-pressed="false" aria-label="Good response"><!--?lit$549300851$-->
        <span class="mdc-icon-button__icon"><slot name="offIcon"><i class="material-icons"><!--?lit$549300851$-->thumb_up</i></slot></span>
        <span class="mdc-icon-button__icon mdc-icon-button__icon--on"><slot name="onIcon"><i class="material-icons"><!--?lit$549300851$-->thumb_up</i></slot></span>
      </button></template>
        <md-icon slot="offIcon" aria-hidden="true"><template shadowrootmode="open"><!----><slot></slot></template>thumb_up</md-icon>
        <md-icon slot="onIcon" aria-hidden="true"><template shadowrootmode="open"><!----><slot></slot></template>thumb_up</md-icon>
      </mwc-icon-button-toggle>
      <mwc-icon-button-toggle class="thumb-down" title="Bad response"><template shadowrootmode="open"><!----><button class="mdc-icon-button mdc-icon-button--display-flex   " aria-pressed="false" aria-label="Bad response"><!--?lit$549300851$-->
        <span class="mdc-icon-button__icon"><slot name="offIcon"><i class="material-icons"><!--?lit$549300851$--></i></slot></span>
        <span class="mdc-icon-button__icon mdc-icon-button__icon--on"><slot name="onIcon"><i class="material-icons"><!--?lit$549300851$--></i></slot></span>
      </button></template>
        <md-icon slot="offIcon" aria-hidden="true"><template shadowrootmode="open"><!----><slot></slot></template>thumb_down</md-icon>
        <md-icon slot="onIcon" aria-hidden="true"><template shadowrootmode="open"><!----><slot></slot></template>thumb_down</md-icon>
      </mwc-icon-button-toggle>
    </template>
        </colab-ai-rating-buttons>
      </div>
    
      </div></template><div class="markdown"><!----><!----><!--?lit$549300851$--><div><span><p>Okay, let's get an overview of your data. I'll provide code and explanations to give you a comprehensive look at your dataset. We'll cover several key aspects:</p>
<p><strong>1. Basic Information:</strong></p>
<ul>
<li>Number of rows and columns.</li>
<li>Column names.</li>
<li>Data types of each column.</li>
<li>Number of non-null values in each column.</li>
</ul>
</span></div><!--?--><!----><!----><!--?lit$549300851$--><div class="code-block"><!--?lit$549300851$--><colab-code-toolbar><template shadowrootmode="open"><!----><div class="contents">
      <mwc-icon-button title="Copy"><template shadowrootmode="open"><!----><button class="mdc-icon-button mdc-icon-button--display-flex" aria-label="Copy"><!--?lit$549300851$-->
    <!--?lit$549300851$-->
    <span><slot></slot></span>
  </button></template><md-icon aria-hidden="true"><template shadowrootmode="open"><!----><slot></slot></template>content_copy</md-icon></mwc-icon-button>
      <mwc-icon-button class="insert" title="Add code cell"><template shadowrootmode="open"><!----><button class="mdc-icon-button mdc-icon-button--display-flex" aria-label="Add code cell"><!--?lit$549300851$-->
    <!--?lit$549300851$-->
    <span><slot></slot></span>
  </button></template><!--?lit$549300851$--><svg viewBox="0 0 24 24"><!--?lit$549300851$-->
      <g id="mirror-cell">
        <path d="M4,21V7H2V21a2,2,0,0,0,2,2H18V21Z"></path>
        <path d="M6,13v2H8.6L5,18.6,6.4,20,10,16.4V19h2V13Z"></path>
        <path d="M19,1H8A2,2,0,0,0,6,3v8H8V3H19V17H14v2h5a2,2,0,0,0,2-2V3A2,2,0,0,0,19,1Z"></path>
      </g></svg></mwc-icon-button>
    </div></template></colab-code-toolbar>
      <div class="generated-code-warning">
        <pre class="with-code-warning"><!--?lit$549300851$--><code data-lang="notebook-python" class=" colab-dark"><span><span class="mtk18">import</span><span class="mtk1">&nbsp;pandas&nbsp;</span><span class="mtk18">as</span><span class="mtk1">&nbsp;pd</span></span><br><span><span></span></span><br><span><span class="mtk8">#&nbsp;Load&nbsp;the&nbsp;dataset</span></span><br><span><span class="mtk1">IMDB_df&nbsp;=&nbsp;pd.read_csv</span><span class="mtk12">(</span><span class="mtk5">'IAS.csv'</span><span class="mtk12">)</span></span><br><span><span></span></span><br><span><span class="mtk8">#&nbsp;Print&nbsp;shape&nbsp;of&nbsp;the&nbsp;data&nbsp;frame</span></span><br><span><span class="mtk15">print</span><span class="mtk12">(</span><span class="mtk9">f</span><span class="mtk5">"Shape&nbsp;of&nbsp;the&nbsp;data&nbsp;frame:&nbsp;</span><span class="mtk12">{</span><span class="mtk1">IMDB_df.shape</span><span class="mtk12">}</span><span class="mtk5">"</span><span class="mtk12">)</span></span><br><span><span></span></span><br><span><span class="mtk8">#&nbsp;Display&nbsp;column&nbsp;names</span></span><br><span><span class="mtk15">print</span><span class="mtk12">(</span><span class="mtk9">f</span><span class="mtk5">"\nColumns&nbsp;of&nbsp;the&nbsp;data&nbsp;frame:&nbsp;</span><span class="mtk12">{</span><span class="mtk1">IMDB_df.columns</span><span class="mtk12">}</span><span class="mtk5">"</span><span class="mtk12">)</span></span><br><span><span></span></span><br><span><span class="mtk8">#&nbsp;Display&nbsp;information&nbsp;about&nbsp;the&nbsp;data&nbsp;types&nbsp;and&nbsp;mis</span><span class="mtk8">sing&nbsp;values</span></span><br><span><span class="mtk15">print</span><span class="mtk12">(</span><span class="mtk5">"\nData&nbsp;Types&nbsp;and&nbsp;Missing&nbsp;Values:"</span><span class="mtk12">)</span></span><br><span><span class="mtk1">IMDB_df.info</span><span class="mtk12">()</span></span><br></code></pre>
        <a href="https://g.co/legal/generative-code" target="_blank">
          Use code with caution</a>
      </div>
    </div><!--?--><!----><!----><!--?lit$549300851$--><div><span><p><strong>2. Descriptive Statistics:</strong></p>
<ul>
<li>Mean, standard deviation, minimum, maximum, quartiles for numerical columns.</li>
</ul>
</span></div><!--?--><!----><!----><!--?lit$549300851$--><div class="code-block"><!--?lit$549300851$--><colab-code-toolbar><template shadowrootmode="open"><!----><div class="contents">
      <mwc-icon-button title="Copy"><template shadowrootmode="open"><!----><button class="mdc-icon-button mdc-icon-button--display-flex" aria-label="Copy"><!--?lit$549300851$-->
    <!--?lit$549300851$-->
    <span><slot></slot></span>
  </button></template><md-icon aria-hidden="true"><template shadowrootmode="open"><!----><slot></slot></template>content_copy</md-icon></mwc-icon-button>
      <mwc-icon-button class="insert" title="Add code cell"><template shadowrootmode="open"><!----><button class="mdc-icon-button mdc-icon-button--display-flex" aria-label="Add code cell"><!--?lit$549300851$-->
    <!--?lit$549300851$-->
    <span><slot></slot></span>
  </button></template><!--?lit$549300851$--><svg viewBox="0 0 24 24"><!--?lit$549300851$-->
      <g id="mirror-cell">
        <path d="M4,21V7H2V21a2,2,0,0,0,2,2H18V21Z"></path>
        <path d="M6,13v2H8.6L5,18.6,6.4,20,10,16.4V19h2V13Z"></path>
        <path d="M19,1H8A2,2,0,0,0,6,3v8H8V3H19V17H14v2h5a2,2,0,0,0,2-2V3A2,2,0,0,0,19,1Z"></path>
      </g></svg></mwc-icon-button>
    </div></template></colab-code-toolbar>
      <div class="generated-code-warning">
        <pre class="with-code-warning"><!--?lit$549300851$--><code data-lang="notebook-python" class=" colab-dark"><span><span class="mtk18">import</span><span class="mtk1">&nbsp;pandas&nbsp;</span><span class="mtk18">as</span><span class="mtk1">&nbsp;pd</span></span><br><span><span></span></span><br><span><span class="mtk8">#&nbsp;Load&nbsp;the&nbsp;dataset</span></span><br><span><span class="mtk1">IMDB_df&nbsp;=&nbsp;pd.read_csv</span><span class="mtk12">(</span><span class="mtk5">'IAS.csv'</span><span class="mtk12">)</span></span><br><span><span></span></span><br><span><span class="mtk8">#&nbsp;Display&nbsp;descriptive&nbsp;statistics&nbsp;for&nbsp;numerical&nbsp;col</span><span class="mtk8">umns</span></span><br><span><span class="mtk15">print</span><span class="mtk12">(</span><span class="mtk5">"\nDescriptive&nbsp;Statistics&nbsp;for&nbsp;Numerical&nbsp;Columns:"</span><span class="mtk12">)</span></span><br><span><span class="mtk15">print</span><span class="mtk12">(</span><span class="mtk1">IMDB_df.describe</span><span class="mtk12">())</span></span><br></code></pre>
        <a href="https://g.co/legal/generative-code" target="_blank">
          Use code with caution</a>
      </div>
    </div><!--?--><!----><!----><!--?lit$549300851$--><div><span><p><strong>3. Unique Values for Categorical Columns:</strong></p>
<ul>
<li>Display unique values for each object type column</li>
</ul>
</span></div><!--?--><!----><!----><!--?lit$549300851$--><div class="code-block"><!--?lit$549300851$--><colab-code-toolbar><template shadowrootmode="open"><!----><div class="contents">
      <mwc-icon-button title="Copy"><template shadowrootmode="open"><!----><button class="mdc-icon-button mdc-icon-button--display-flex" aria-label="Copy"><!--?lit$549300851$-->
    <!--?lit$549300851$-->
    <span><slot></slot></span>
  </button></template><md-icon aria-hidden="true"><template shadowrootmode="open"><!----><slot></slot></template>content_copy</md-icon></mwc-icon-button>
      <mwc-icon-button class="insert" title="Add code cell"><template shadowrootmode="open"><!----><button class="mdc-icon-button mdc-icon-button--display-flex" aria-label="Add code cell"><!--?lit$549300851$-->
    <!--?lit$549300851$-->
    <span><slot></slot></span>
  </button></template><!--?lit$549300851$--><svg viewBox="0 0 24 24"><!--?lit$549300851$-->
      <g id="mirror-cell">
        <path d="M4,21V7H2V21a2,2,0,0,0,2,2H18V21Z"></path>
        <path d="M6,13v2H8.6L5,18.6,6.4,20,10,16.4V19h2V13Z"></path>
        <path d="M19,1H8A2,2,0,0,0,6,3v8H8V3H19V17H14v2h5a2,2,0,0,0,2-2V3A2,2,0,0,0,19,1Z"></path>
      </g></svg></mwc-icon-button>
    </div></template></colab-code-toolbar>
      <div class="generated-code-warning">
        <pre class="with-code-warning"><!--?lit$549300851$--><code data-lang="notebook-python" class=" colab-dark"><span><span class="mtk18">import</span><span class="mtk1">&nbsp;pandas&nbsp;</span><span class="mtk18">as</span><span class="mtk1">&nbsp;pd</span></span><br><span><span></span></span><br><span><span class="mtk8">#&nbsp;Load&nbsp;the&nbsp;dataset</span></span><br><span><span class="mtk1">IMDB_df&nbsp;=&nbsp;pd.read_csv</span><span class="mtk12">(</span><span class="mtk5">'IAS.csv'</span><span class="mtk12">)</span></span><br><span><span></span></span><br><span><span class="mtk8">#&nbsp;Select&nbsp;object&nbsp;type&nbsp;columns</span></span><br><span><span class="mtk1">object_cols&nbsp;=&nbsp;IMDB_df.select_dtypes</span><span class="mtk12">(</span><span class="mtk1">include=</span><span class="mtk12">[</span><span class="mtk5">'object'</span><span class="mtk12">])</span><span class="mtk1">.columns</span></span><br><span><span></span></span><br><span><span class="mtk8">#&nbsp;Display&nbsp;unique&nbsp;values&nbsp;for&nbsp;each&nbsp;object&nbsp;type&nbsp;colum</span><span class="mtk8">n</span></span><br><span><span class="mtk18">for</span><span class="mtk1">&nbsp;col&nbsp;</span><span class="mtk17">in</span><span class="mtk1">&nbsp;object_cols</span><span class="mtk12">:</span></span><br><span><span class="mtk1">&nbsp;&nbsp;&nbsp;&nbsp;</span><span class="mtk15">print</span><span class="mtk12">(</span><span class="mtk9">f</span><span class="mtk5">"\nUnique&nbsp;values&nbsp;in&nbsp;'</span><span class="mtk12">{</span><span class="mtk1">col</span><span class="mtk12">}</span><span class="mtk5">':"</span><span class="mtk12">)</span></span><br><span><span class="mtk1">&nbsp;&nbsp;&nbsp;&nbsp;</span><span class="mtk15">print</span><span class="mtk12">(</span><span class="mtk1">IMDB_df</span><span class="mtk12">[</span><span class="mtk1">col</span><span class="mtk12">]</span><span class="mtk1">.unique</span><span class="mtk12">())</span></span><br></code></pre>
        <a href="https://g.co/legal/generative-code" target="_blank">
          Use code with caution</a>
      </div>
    </div><!--?--><!----><!----><!--?lit$549300851$--><div><span><p><strong>Explanation:</strong></p>
<ul>
<li><strong><code>IMDB_df.shape</code></strong>: This gives you the number of rows and columns in your DataFrame as a tuple like <code>(73827, 8)</code>.</li>
<li><strong><code>IMDB_df.columns</code></strong>: This gives you a list of the column names in your DataFrame.</li>
<li><strong><code>IMDB_df.info()</code></strong>: This provides a concise summary of your DataFrame including the data types of each column and the number of non-null values in each. This is very useful for identifying missing data and seeing the type of each variable.</li>
<li><strong><code>IMDB_df.describe()</code></strong>: This calculates and shows summary statistics (mean, standard deviation, min, max, etc.) for <em>numerical</em> columns. This helps you understand the distribution of your data.</li>
<li><strong><code>IMDB_df.select_dtypes(include=['object']).columns</code></strong>: Selects the columns of object type</li>
<li>The loop then iterates through each object column, and shows the unique values of that column using <code>IMDB_df[col].unique()</code>. This is useful to see all possible categories of categorical variables.</li>
</ul>
<p><strong>How This Helps:</strong></p>
<ul>
<li><strong>Shape and Columns:</strong> Gives you the basic structure of your data, the dimensions and the names of the features.</li>
<li><strong>Data Types and Missing Values:</strong> Tells you the kind of data each column contains (integer, float, text) and if any of them have missing values.  It's critical to know data types because some operations may be applicable to some datatypes but not others.</li>
<li><strong>Descriptive Statistics:</strong> Shows you the distribution of numerical data, including averages, spread, and ranges. This helps get a sense of the center and spread of numerical features.</li>
<li><strong>Unique Values:</strong> Helps you understand the different categories present in your text data columns. This is particularly helpful when dealing with categorical data.</li>
</ul>
<p>By running these code snippets, you will get a comprehensive overview of your data: its structure, data types, missing data, numerical distributions, and categorical values. This will help in your subsequent analysis, data cleaning, and model building.</p>
</span></div><!--?--><!----></div></colab-aida-message><!----></div></colab-aida-conversation></colab-aida-converse></colab-tab></div>
  </div></colab-tab-pane>
      <colab-resizer style="height: 33.3%" class="sn-resize no-tabs"><div class="resizer-thumb"></div>
        <!--?lit$549300851$--><colab-tab-pane class="layout vertical grow no-tabs" align="horizontal"><!----> <div class="layout vertical grow">
    <div class="tab-pane-header layout horizontal noshrink">
      <md-tabs><template shadowrootmode="open"><!---->
      <div class="tabs">
        <slot></slot>
      </div>
      <md-divider part="divider"><template shadowrootmode="open"><!----></template></md-divider>
    </template></md-tabs>
      <div class="layout grow"></div>
      <!--?lit$549300851$--> <md-icon-button data-aria-expanded="false" data-aria-haspopup="menu" title="More tab actions" data-aria-label="More tab actions" value=""><template shadowrootmode="open" shadowrootdelegatesfocus><!----><button id="button" class="icon-button  standard " aria-label="More tab actions" aria-haspopup="menu" aria-expanded="false">
        <!--?lit$549300851$--><md-focus-ring part="focus-ring" for="button" aria-hidden="true"><template shadowrootmode="open"><!----></template></md-focus-ring>
        <!--?lit$549300851$--><md-ripple aria-hidden="true"><template shadowrootmode="open"><!----><div class="surface   "></div></template></md-ripple>
        <!--?lit$549300851$--><span class="icon"><slot></slot></span>
        <!--?lit$549300851$-->
        <!--?lit$549300851$--><span class="touch"></span>
  </button></template>
    <md-icon aria-hidden="true"><template shadowrootmode="open"><!----><slot></slot></template>more_horiz</md-icon>
  </md-icon-button>
    </div>
    <div class="layout vertical grow tab-pane-container"> </div>
  </div></colab-tab-pane>
      </colab-resizer>
    </div>
      </colab-resizer>
    </div></colab-tab-layout-container>
        </div>
        <div class="proxies"><div><colab-dom-lifecycle-events style="display: none;"></colab-dom-lifecycle-events><iframe allow="" sandbox="allow-downloads allow-forms allow-pointer-lock allow-popups allow-popups-to-escape-sandbox allow-same-origin allow-scripts allow-storage-access-by-user-activation" src="./IAS_files/outputframe(6).html" style="width: 1px; height: 1px; position: absolute; top: -100px;"></iframe></div><div><colab-dom-lifecycle-events style="display: none;"></colab-dom-lifecycle-events><iframe allow="accelerometer; autoplay; gyroscope; magnetometer; xr-spatial-tracking; clipboard-write" sandbox="allow-downloads allow-forms allow-pointer-lock allow-popups allow-popups-to-escape-sandbox allow-same-origin allow-scripts allow-storage-access-by-user-activation allow-modals" src="./IAS_files/outputframe(7).html" style="width: 1px; height: 1px; position: absolute; top: -100px;"></iframe></div></div>
      <colab-file-viewer-manager></colab-file-viewer-manager></div>
    <colab-status-bar role="region" aria-label="Runtime status bar" style="min-height: inherit;"><template shadowrootmode="open"><!----><!--?lit$549300851$--> <!--?lit$549300851$--> <div class="cell-status">
        <button><!--?lit$549300851$--><md-icon class="success" aria-hidden="true"><template shadowrootmode="open"><!----><slot></slot></template><!--?lit$549300851$--><svg viewBox="0 0 24 24"><!--?lit$549300851$--><path d="M9 16.17L4.83 12l-1.42 1.41L9 19 21 7l-1.41-1.41z"></path></svg></md-icon>&nbsp; <!--?lit$549300851$-->0s</button>
        <button><!--?lit$549300851$-->completed at 9:51 AM</button>
      </div>
      <md-icon-button class="visible-on-closed" title="Connected" disabled="" value="" data-aria-label="Connected"><template shadowrootmode="open" shadowrootdelegatesfocus><!----><button id="button" class="icon-button  standard " aria-label="Connected" disabled="">
        <!--?lit$549300851$--><md-focus-ring part="focus-ring" for="button" aria-hidden="true"><template shadowrootmode="open"><!----></template></md-focus-ring>
        <!--?lit$549300851$--><md-ripple disabled="" aria-hidden="true"><template shadowrootmode="open"><!----><div class="surface   "></div></template></md-ripple>
        <!--?lit$549300851$--><span class="icon"><slot></slot></span>
        <!--?lit$549300851$-->
        <!--?lit$549300851$--><span class="touch"></span>
  </button></template>
        <md-icon filled="" class="visible-on-closed" status="icon-okay" aria-hidden="true"><template shadowrootmode="open"><!----><slot></slot></template><!--?lit$549300851$-->fiber_manual_record</md-icon>
      </md-icon-button>
      <!--?lit$549300851$-->
      <md-icon-button title="Close" data-aria-label="Close" value=""><template shadowrootmode="open" shadowrootdelegatesfocus><!----><button id="button" class="icon-button  standard " aria-label="Close">
        <!--?lit$549300851$--><md-focus-ring part="focus-ring" for="button" aria-hidden="true"><template shadowrootmode="open"><!----></template></md-focus-ring>
        <!--?lit$549300851$--><md-ripple aria-hidden="true"><template shadowrootmode="open"><!----><div class="surface"></div></template></md-ripple>
        <!--?lit$549300851$--><span class="icon"><slot></slot></span>
        <!--?lit$549300851$-->
        <!--?lit$549300851$--><span class="touch"></span>
  </button></template>
        <md-icon aria-hidden="true"><template shadowrootmode="open"><!----><slot></slot></template>close</md-icon>
      </md-icon-button></template></colab-status-bar></div><div class="goog-menu" id="file-menu" role="menu" aria-haspopup="true" style="display: none; user-select: none;"><!--?lit$549300851$--><div command="locate-in-drive" class=" goog-menuitem " role="menuitem" id=":2" style="user-select: none;"><div class="goog-menuitem-content" style="user-select: none;"><!--?lit$549300851$-->Locate in Drive<!--?lit$549300851$--></div></div><div command="open-in-playground" class=" goog-menuitem " role="menuitem" id=":3" style="user-select: none;"><div class="goog-menuitem-content" style="user-select: none;"><!--?lit$549300851$-->Open in playground mode<!--?lit$549300851$--></div></div><div class="goog-menuseparator goog-menuitem-disabled" aria-disabled="true" role="separator" id=":4" style="user-select: none;"></div><div command="new" class=" goog-menuitem " role="menuitem" id=":5" style="user-select: none;"><div class="goog-menuitem-content" style="user-select: none;"><!--?lit$549300851$-->New notebook in Drive<!--?lit$549300851$--></div></div><div command="open" class=" goog-menuitem " role="menuitem" id=":6" style="user-select: none;"><div class="goog-menuitem-content" style="user-select: none;"><!--?lit$549300851$-->Open notebook<!--?lit$549300851$--></div></div><div command="import-notebook" class=" goog-menuitem " role="menuitem" id=":7" style="user-select: none;"><div class="goog-menuitem-content" style="user-select: none;"><!--?lit$549300851$-->Upload notebook<!--?lit$549300851$--></div></div><div class="goog-menuseparator goog-menuitem-disabled" aria-disabled="true" role="separator" id=":8" style="user-select: none;"></div><div command="rename" class=" goog-menuitem " role="menuitem" id=":9" style="user-select: none;"><div class="goog-menuitem-content" style="user-select: none;"><!--?lit$549300851$-->Rename<!--?lit$549300851$--></div></div><div command="move-notebook" class=" goog-menuitem " role="menuitem" id=":a" style="user-select: none;"><div class="goog-menuitem-content" style="user-select: none;"><!--?lit$549300851$-->Move<!--?lit$549300851$--></div></div><div command="trash" class=" goog-menuitem " role="menuitem" id=":b" style="user-select: none;"><div class="goog-menuitem-content" style="user-select: none;"><!--?lit$549300851$-->Move to trash<!--?lit$549300851$--></div></div><div class="goog-menuseparator goog-menuitem-disabled" aria-disabled="true" role="separator" id=":c" style="user-select: none;"></div><div command="clone" class=" goog-menuitem " role="menuitem" id=":d" style="user-select: none;"><div class="goog-menuitem-content" style="user-select: none;"><!--?lit$549300851$-->Save a copy in Drive<!--?lit$549300851$--></div></div><div command="copy-to-gist" class=" goog-menuitem " role="menuitem" id=":e" style="user-select: none;"><div class="goog-menuitem-content" style="user-select: none;"><!--?lit$549300851$-->Save a copy as a GitHub Gist<!--?lit$549300851$--></div></div><div command="copy-to-github" class=" goog-menuitem " role="menuitem" id=":f" style="user-select: none;"><div class="goog-menuitem-content" style="user-select: none;"><!--?lit$549300851$-->Save a copy in GitHub<!--?lit$549300851$--></div></div><div class="goog-menuseparator goog-menuitem-disabled" aria-disabled="true" role="separator" id=":g" style="user-select: none;"></div><div command="save" class=" goog-menuitem " role="menuitem" id=":h" style="user-select: none;"><div class="goog-menuitem-content" style="user-select: none;"><!--?lit$549300851$-->Save<!--?lit$549300851$--></div></div><div command="save-and-checkpoint" class=" goog-menuitem " role="menuitem" id=":i" style="user-select: none;"><div class="goog-menuitem-content" style="user-select: none;"><!--?lit$549300851$-->Save and pin revision<!--?lit$549300851$--></div></div><div command="show-history" class=" goog-menuitem " role="menuitem" id=":j" style="user-select: none;"><div class="goog-menuitem-content" style="user-select: none;"><!--?lit$549300851$-->Revision history<!--?lit$549300851$--></div></div><div class="goog-menuseparator goog-menuitem-disabled" aria-disabled="true" role="separator" id=":k" style="user-select: none;"></div><div class="goog-submenu goog-menuitem" id="download-submenu-menu-button" role="menuitem" aria-haspopup="true" style="user-select: none;"><div class="goog-menuitem-content" style="user-select: none;">
      <!--?lit$549300851$-->Download
    <span class="goog-submenu-arrow" style="user-select: none;">►</span></div></div><div command="print" class=" goog-menuitem " role="menuitem" id=":o" style="user-select: none;"><div class="goog-menuitem-content" style="user-select: none;"><!--?lit$549300851$-->Print<!--?lit$549300851$--></div></div></div><div class="goog-menu" id="download-submenu-menu" role="menu" aria-haspopup="true" style="display: none; user-select: none;"><!--?lit$549300851$--><div command="download-ipynb" class=" goog-menuitem " role="menuitem" id=":m" style="user-select: none;"><div class="goog-menuitem-content" style="user-select: none;"><!--?lit$549300851$-->Download .ipynb<!--?lit$549300851$--></div></div><div command="download-python" class=" goog-menuitem " role="menuitem" id=":n" style="user-select: none;"><div class="goog-menuitem-content" style="user-select: none;"><!--?lit$549300851$-->Download .py<!--?lit$549300851$--></div></div></div><div class="goog-menu" id="edit-menu" role="menu" aria-haspopup="true" style="display: none; user-select: none;"><!--?lit$549300851$--><div command="undo" class=" goog-menuitem " role="menuitem" id=":q" style="user-select: none;"><div class="goog-menuitem-content" style="user-select: none;"><!--?lit$549300851$-->Undo<!--?lit$549300851$--></div></div><div command="redo" class=" goog-menuitem " role="menuitem" id=":r" style="user-select: none;"><div class="goog-menuitem-content" style="user-select: none;"><!--?lit$549300851$-->Redo<!--?lit$549300851$--></div></div><div class="goog-menuseparator goog-menuitem-disabled" aria-disabled="true" role="separator" id=":s" style="user-select: none;"></div><div command="select-all" class=" goog-menuitem " role="menuitem" id=":t" style="user-select: none;"><div class="goog-menuitem-content" style="user-select: none;"><!--?lit$549300851$-->Select all cells<!--?lit$549300851$--></div></div><div command="cut" class=" goog-menuitem " role="menuitem" id=":u" style="user-select: none;"><div class="goog-menuitem-content" style="user-select: none;"><!--?lit$549300851$-->Cut cell or selection<!--?lit$549300851$--></div></div><div command="copy" class=" goog-menuitem " role="menuitem" id=":v" style="user-select: none;"><div class="goog-menuitem-content" style="user-select: none;"><!--?lit$549300851$-->Copy cell or selection<!--?lit$549300851$--></div></div><div command="paste" class=" goog-menuitem " role="menuitem" id=":w" style="user-select: none;"><div class="goog-menuitem-content" style="user-select: none;"><!--?lit$549300851$-->Paste<!--?lit$549300851$--></div></div><div command="delete-cell-or-selection" class=" goog-menuitem " role="menuitem" id=":x" style="user-select: none;"><div class="goog-menuitem-content" style="user-select: none;"><!--?lit$549300851$-->Delete selected cells<!--?lit$549300851$--></div></div><div class="goog-menuseparator goog-menuitem-disabled" aria-disabled="true" role="separator" id=":y" style="user-select: none;"></div><div command="find" class=" goog-menuitem " role="menuitem" id=":z" style="user-select: none;"><div class="goog-menuitem-content" style="user-select: none;"><!--?lit$549300851$-->Find and replace<!--?lit$549300851$--></div></div><div command="find-next" class=" goog-menuitem " role="menuitem" id=":10" style="user-select: none;"><div class="goog-menuitem-content" style="user-select: none;"><!--?lit$549300851$-->Find next<!--?lit$549300851$--></div></div><div command="find-previous" class=" goog-menuitem " role="menuitem" id=":11" style="user-select: none;"><div class="goog-menuitem-content" style="user-select: none;"><!--?lit$549300851$-->Find previous<!--?lit$549300851$--></div></div><div class="goog-menuseparator goog-menuitem-disabled" aria-disabled="true" role="separator" id=":12" style="user-select: none;"></div><div command="notebook-settings" class=" goog-menuitem " role="menuitem" id=":13" style="user-select: none;"><div class="goog-menuitem-content" style="user-select: none;"><!--?lit$549300851$-->Notebook settings<!--?lit$549300851$--></div></div><div class="goog-menuseparator goog-menuitem-disabled" aria-disabled="true" role="separator" id=":14" style="user-select: none;"></div><div command="clear-outputs" class=" goog-menuitem " role="menuitem" id=":15" style="user-select: none;"><div class="goog-menuitem-content" style="user-select: none;"><!--?lit$549300851$-->Clear all outputs<!--?lit$549300851$--></div></div></div><div class="goog-menu" id="view-menu" role="menu" aria-haspopup="true" style="display: none; user-select: none;"><!--?lit$549300851$--><div command="show-toc-pane" class="goog-menuitem goog-option" role="menuitemcheckbox" aria-checked="false" id=":17" style="user-select: none;"><div class="goog-menuitem-content" style="user-select: none;"><div class="goog-menuitem-checkbox" style="user-select: none;"><!----><md-icon aria-hidden="true"><template shadowrootmode="open"><!----><slot></slot></template>check</md-icon> </div><!--?lit$549300851$-->Table of contents<!--?lit$549300851$--></div></div><div command="show-fileinfo" class=" goog-menuitem " role="menuitem" id=":18" style="user-select: none;"><div class="goog-menuitem-content" style="user-select: none;"><!--?lit$549300851$-->Notebook info<!--?lit$549300851$--></div></div><div command="show-executedcode" class=" goog-menuitem " role="menuitem" id=":19" style="user-select: none;"><div class="goog-menuitem-content" style="user-select: none;"><!--?lit$549300851$-->Executed code history<!--?lit$549300851$--></div></div><div class="goog-submenu goog-menuitem" id="comments-submenu-menu-button" role="menuitem" aria-haspopup="true" style="user-select: none;"><div class="goog-menuitem-content" style="user-select: none;">
      <!--?lit$549300851$-->Comments
    <span class="goog-submenu-arrow" style="user-select: none;">►</span></div></div><div class="goog-menuseparator goog-menuitem-disabled" aria-disabled="true" role="separator" id=":1e" style="user-select: none;"></div><div command="collapse-sections" class=" goog-menuitem " role="menuitem" id=":1f" style="user-select: none;"><div class="goog-menuitem-content" style="user-select: none;"><!--?lit$549300851$-->Collapse sections<!--?lit$549300851$--></div></div><div command="expand-sections" class=" goog-menuitem " role="menuitem" id=":1g" style="user-select: none;"><div class="goog-menuitem-content" style="user-select: none;"><!--?lit$549300851$-->Expand sections<!--?lit$549300851$--></div></div><div command="save-section-layout" class=" goog-menuitem " role="menuitem" id=":1h" style="user-select: none;"><div class="goog-menuitem-content" style="user-select: none;"><!--?lit$549300851$-->Save collapsed section layout<!--?lit$549300851$--></div></div><div class="goog-menuseparator goog-menuitem-disabled" aria-disabled="true" role="separator" id=":1i" style="user-select: none;"></div><div command="hide-code" class=" goog-menuitem " role="menuitem" id=":1j" style="user-select: none;"><div class="goog-menuitem-content" style="user-select: none;"><!--?lit$549300851$-->Show/hide code<!--?lit$549300851$--></div></div><div command="toggle-output" class=" goog-menuitem " role="menuitem" id=":1k" style="user-select: none;"><div class="goog-menuitem-content" style="user-select: none;"><!--?lit$549300851$-->Show/hide output<!--?lit$549300851$--></div></div><div class="goog-menuseparator goog-menuitem-disabled" aria-disabled="true" role="separator" id=":1l" style="user-select: none;"></div><div command="focus-next-tab" class=" goog-menuitem " role="menuitem" id=":1m" style="user-select: none;"><div class="goog-menuitem-content" style="user-select: none;"><!--?lit$549300851$-->Focus next tab<!--?lit$549300851$--></div></div><div command="focus-previous-tab" class=" goog-menuitem " role="menuitem" id=":1n" style="user-select: none;"><div class="goog-menuitem-content" style="user-select: none;"><!--?lit$549300851$-->Focus previous tab<!--?lit$549300851$--></div></div><div command="move-tab-to-next" class=" goog-menuitem " role="menuitem" id=":1o" style="user-select: none;"><div class="goog-menuitem-content" style="user-select: none;"><!--?lit$549300851$-->Move tab to next pane<!--?lit$549300851$--></div></div><div command="move-tab-to-prev" class=" goog-menuitem " role="menuitem" id=":1p" style="user-select: none;"><div class="goog-menuitem-content" style="user-select: none;"><!--?lit$549300851$-->Move tab to previous pane<!--?lit$549300851$--></div></div></div><div class="goog-menu" id="comments-submenu-menu" role="menu" aria-haspopup="true" style="display: none; user-select: none;"><!--?lit$549300851$--><div command="hide-sidebar-comments" class=" goog-menuitem goog-option-selectable " role="menuitem" id=":1b" style="user-select: none;"><div class="goog-menuitem-content" style="user-select: none;"><!--?lit$549300851$-->Hide comments<!--?lit$549300851$--></div></div><div command="show-minimized-sidebar-comments" class=" goog-menuitem goog-option-selectable " role="menuitem" id=":1c" style="user-select: none;"><div class="goog-menuitem-content" style="user-select: none;"><!--?lit$549300851$-->Minimize comments<!--?lit$549300851$--></div></div><div command="show-expanded-sidebar-comments" class=" goog-menuitem goog-option-selectable " role="menuitem" id=":1d" style="user-select: none;"><div class="goog-menuitem-content" style="user-select: none;"><!--?lit$549300851$-->Expand comments<!--?lit$549300851$--></div></div></div><div class="goog-menu" id="insert-menu" role="menu" aria-haspopup="true" style="display: none; user-select: none;"><!--?lit$549300851$--><div command="insert-cell-below" class=" goog-menuitem " role="menuitem" id=":1r" style="user-select: none;"><div class="goog-menuitem-content" style="user-select: none;"><!--?lit$549300851$-->Code cell<!--?lit$549300851$--></div></div><div command="add-text" class=" goog-menuitem " role="menuitem" id=":1s" style="user-select: none;"><div class="goog-menuitem-content" style="user-select: none;"><!--?lit$549300851$-->Text cell<!--?lit$549300851$--></div></div><div command="add-section-header" class=" goog-menuitem " role="menuitem" id=":1t" style="user-select: none;"><div class="goog-menuitem-content" style="user-select: none;"><!--?lit$549300851$-->Section header cell<!--?lit$549300851$--></div></div><div class="goog-menuseparator goog-menuitem-disabled" aria-disabled="true" role="separator" id=":1u" style="user-select: none;"></div><div command="open-scratch-code-cell" class=" goog-menuitem " role="menuitem" id=":1v" style="user-select: none;"><div class="goog-menuitem-content" style="user-select: none;"><!--?lit$549300851$-->Scratch code cell<!--?lit$549300851$--></div></div><div command="snippets" class=" goog-menuitem " role="menuitem" id=":1w" style="user-select: none;"><div class="goog-menuitem-content" style="user-select: none;"><!--?lit$549300851$-->Code snippets<!--?lit$549300851$--></div></div><div class="goog-menuseparator goog-menuitem-disabled" aria-disabled="true" role="separator" id=":1x" style="user-select: none;"></div><div command="add-form-field" class=" goog-menuitem " role="menuitem" id=":1y" style="user-select: none;"><div class="goog-menuitem-content" style="user-select: none;"><!--?lit$549300851$-->Add a form field<!--?lit$549300851$--></div></div></div><div class="goog-menu" id="runtime-menu" role="menu" aria-haspopup="true" style="display: none; user-select: none;"><!--?lit$549300851$--><div command="runall" class=" goog-menuitem " role="menuitem" id=":20" style="user-select: none;"><div class="goog-menuitem-content" style="user-select: none;"><!--?lit$549300851$-->Run all<!--?lit$549300851$--></div></div><div command="runbefore" class=" goog-menuitem " role="menuitem" id=":21" style="user-select: none;"><div class="goog-menuitem-content" style="user-select: none;"><!--?lit$549300851$-->Run before<!--?lit$549300851$--></div></div><div command="runfocused" class=" goog-menuitem " role="menuitem" id=":22" style="user-select: none;"><div class="goog-menuitem-content" style="user-select: none;"><!--?lit$549300851$-->Run the focused cell<!--?lit$549300851$--></div></div><div command="runselected" class=" goog-menuitem " role="menuitem" id=":23" style="user-select: none;"><div class="goog-menuitem-content" style="user-select: none;"><!--?lit$549300851$-->Run selection<!--?lit$549300851$--></div></div><div command="runafter" class=" goog-menuitem " role="menuitem" id=":24" style="user-select: none;"><div class="goog-menuitem-content" style="user-select: none;"><!--?lit$549300851$-->Run cell and below<!--?lit$549300851$--></div></div><div class="goog-menuseparator goog-menuitem-disabled" aria-disabled="true" role="separator" id=":25" style="user-select: none;"></div><div command="interrupt" class=" goog-menuitem " role="menuitem" id=":26" style="user-select: none;"><div class="goog-menuitem-content" style="user-select: none;"><!--?lit$549300851$-->Interrupt execution<!--?lit$549300851$--></div></div><div command="restart" class=" goog-menuitem " role="menuitem" id=":27" style="user-select: none;"><div class="goog-menuitem-content" style="user-select: none;"><!--?lit$549300851$-->Restart session<!--?lit$549300851$--></div></div><div command="restart-and-run-all" class=" goog-menuitem " role="menuitem" id=":28" style="user-select: none;"><div class="goog-menuitem-content" style="user-select: none;"><!--?lit$549300851$-->Restart session and run all<!--?lit$549300851$--></div></div><div command="powerwash-current-vm" class=" goog-menuitem " role="menuitem" id=":29" style="user-select: none;"><div class="goog-menuitem-content" style="user-select: none;"><!--?lit$549300851$-->Disconnect and delete runtime<!--?lit$549300851$--></div></div><div class="goog-menuseparator goog-menuitem-disabled" aria-disabled="true" role="separator" id=":2a" style="user-select: none;"></div><div command="change-runtime-type" class=" goog-menuitem " role="menuitem" id=":2b" style="user-select: none;"><div class="goog-menuitem-content" style="user-select: none;"><!--?lit$549300851$-->Change runtime type<!--?lit$549300851$--></div></div><div class="goog-menuseparator goog-menuitem-disabled" aria-disabled="true" role="separator" id=":2c" style="user-select: none;"></div><div command="manage-sessions" class=" goog-menuitem " role="menuitem" id=":2d" style="user-select: none;"><div class="goog-menuitem-content" style="user-select: none;"><!--?lit$549300851$-->Manage sessions<!--?lit$549300851$--></div></div><div command="open-resource-viewer" class=" goog-menuitem " role="menuitem" id=":2e" style="user-select: none;"><div class="goog-menuitem-content" style="user-select: none;"><!--?lit$549300851$-->View resources<!--?lit$549300851$--></div></div><div command="view-runtime-logs" class=" goog-menuitem " role="menuitem" id=":2f" style="user-select: none;"><div class="goog-menuitem-content" style="user-select: none;"><!--?lit$549300851$-->View runtime logs<!--?lit$549300851$--></div></div></div><div class="goog-menu" id="tools-menu" role="menu" aria-haspopup="true" style="display: none; user-select: none;"><!--?lit$549300851$--><div command="show-command-palette" class=" goog-menuitem " role="menuitem" id=":2h" style="user-select: none;"><div class="goog-menuitem-content" style="user-select: none;"><!--?lit$549300851$-->Command palette<!--?lit$549300851$--></div></div><div class="goog-menuseparator goog-menuitem-disabled" aria-disabled="true" role="separator" id=":2i" style="user-select: none;"></div><div command="preferences" class=" goog-menuitem " role="menuitem" id=":2j" style="user-select: none;"><div class="goog-menuitem-content" style="user-select: none;"><!--?lit$549300851$-->Settings<!--?lit$549300851$--></div></div><div command="shortcuts" class=" goog-menuitem " role="menuitem" id=":2k" style="user-select: none;"><div class="goog-menuitem-content" style="user-select: none;"><!--?lit$549300851$-->Keyboard shortcuts<!--?lit$549300851$--></div></div><div class="goog-menuseparator goog-menuitem-disabled" aria-disabled="true" role="separator" id=":2l" style="user-select: none;"></div><div command="open-differ" class=" goog-menuitem " role="menuitem" id=":2m" style="user-select: none;"><div class="goog-menuitem-content" style="user-select: none;"><!--?lit$549300851$-->Diff notebooks<!--?lit$549300851$--> <span class="screenreader-only" style="user-select: none;"><!--?lit$549300851$-->(opens in a new tab)</span></div></div></div><div class="goog-menu" id="help-menu" role="menu" aria-haspopup="true" style="display: none; user-select: none;"><!--?lit$549300851$--><div command="faq" class=" goog-menuitem " role="menuitem" id=":2o" style="user-select: none;"><div class="goog-menuitem-content" style="user-select: none;"><!--?lit$549300851$-->Frequently asked questions<!--?lit$549300851$--></div></div><div command="view-relnotes" class=" goog-menuitem " role="menuitem" id=":2p" style="user-select: none;"><div class="goog-menuitem-content" style="user-select: none;"><!--?lit$549300851$-->View release notes<!--?lit$549300851$--></div></div><div command="snippets" class=" goog-menuitem " role="menuitem" id=":2q" style="user-select: none;"><div class="goog-menuitem-content" style="user-select: none;"><!--?lit$549300851$-->Search code snippets<!--?lit$549300851$--></div></div><div class="goog-menuseparator goog-menuitem-disabled" aria-disabled="true" role="separator" id=":2r" style="user-select: none;"></div><div command="report-bug" class=" goog-menuitem " role="menuitem" id=":2s" style="user-select: none;"><div class="goog-menuitem-content" style="user-select: none;"><!--?lit$549300851$-->Report a bug<!--?lit$549300851$--></div></div><div command="report-abuse" class=" goog-menuitem " role="menuitem" id=":2t" style="user-select: none;"><div class="goog-menuitem-content" style="user-select: none;"><!--?lit$549300851$-->Report Drive abuse<!--?lit$549300851$--></div></div><div command="send-feedback" class=" goog-menuitem " role="menuitem" id=":2u" style="user-select: none;"><div class="goog-menuitem-content" style="user-select: none;"><!--?lit$549300851$-->Send feedback<!--?lit$549300851$--></div></div><div command="view-tos" class=" goog-menuitem " role="menuitem" id=":2v" style="user-select: none;"><div class="goog-menuitem-content" style="user-select: none;"><!--?lit$549300851$-->View terms of service<!--?lit$549300851$--></div></div></div><dialog class="doc-comments-area" aria-label="Comments"><!----><div class="doc-comments-buttons">
        <md-text-button command="add-comment" value="" has-icon=""><template shadowrootmode="open" shadowrootdelegatesfocus><!---->
      <!--?lit$549300851$-->
      <div class="background"></div>
      <md-focus-ring part="focus-ring" for="button" aria-hidden="true"><template shadowrootmode="open"><!----></template></md-focus-ring>
      <md-ripple part="ripple" for="button" aria-hidden="true"><template shadowrootmode="open"><!----><div class="surface   "></div></template></md-ripple>
      <!--?lit$549300851$--><button id="button" class="button">
      <!--?lit$549300851$-->
      <span class="touch"></span>
      <!--?lit$549300851$--><slot name="icon"></slot>
      <span class="label"><slot></slot></span>
      <!--?lit$549300851$-->
    
    </button>
    </template>
          <md-icon slot="icon" filled="" aria-hidden="true"><template shadowrootmode="open"><!----><slot></slot></template>comment</md-icon>
          <!--?lit$549300851$-->Add a comment
        </md-text-button>
      </div></dialog><div class="thumbnail"></div><div class="monaco-aria-container"><div class="monaco-alert" role="alert" aria-atomic="true"></div><div class="monaco-alert" role="alert" aria-atomic="true"></div><div class="monaco-status" role="complementary" aria-live="polite" aria-atomic="true"></div><div class="monaco-status" role="complementary" aria-live="polite" aria-atomic="true"></div></div><iframe id="apiproxyff83ba9b5f21f1d4a0a48b72b5ee04d775c03eaf0.429490929" name="apiproxyff83ba9b5f21f1d4a0a48b72b5ee04d775c03eaf0.429490929" src="./IAS_files/proxy.html" tabindex="-1" aria-hidden="true" style="width: 1px; height: 1px; position: absolute; top: -100px; display: none;"></iframe><div><div class="grecaptcha-badge" data-style="bottomright" style="width: 256px; height: 60px; position: fixed; visibility: hidden; display: block; transition: right 0.3s; bottom: 14px; right: -186px; box-shadow: gray 0px 0px 5px; border-radius: 2px; overflow: hidden;"><div class="grecaptcha-logo"><iframe title="reCAPTCHA" width="256" height="60" role="presentation" name="a-ntifpmaf7g1x" frameborder="0" scrolling="no" sandbox="allow-forms allow-popups allow-same-origin allow-scripts allow-top-navigation allow-modals allow-popups-to-escape-sandbox allow-storage-access-by-user-activation" src="./IAS_files/anchor.html"></iframe></div><div class="grecaptcha-error"></div><textarea id="g-recaptcha-response-100000" name="g-recaptcha-response" class="g-recaptcha-response" style="width: 250px; height: 40px; border: 1px solid rgb(193, 193, 193); margin: 10px 25px; padding: 0px; resize: none; display: none;"></textarea></div><iframe style="display: none;" src="./IAS_files/saved_resource(1).html"></iframe></div><iframe src="./IAS_files/bscframe.html" style="display: none;"></iframe><colab-callout dismisstext="" tooltipstyling="" aria-label="Rename notebook" opened="" role="tooltip" verticaldirection="below" horizontaldirection="right" style="visibility: visible; top: 38px; left: 92px;"><template shadowrootmode="open"><!----> <div id="content"><slot name="content"></slot></div>
      <!--?lit$549300851$--><!--?--></template>
      <!--?lit$549300851$--><div slot="content"><!----><!--?lit$549300851$--><!----><div><!--?lit$549300851$-->Rename notebook</div><!----><!--?--></div>
    </colab-callout></body></html>